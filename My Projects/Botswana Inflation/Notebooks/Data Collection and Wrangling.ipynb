{
 "cells": [
  {
   "cell_type": "markdown",
   "id": "46ca1bb3",
   "metadata": {},
   "source": [
    "<h1>A LOOK AT ECONOMIC DATA TO PREDICT INFLATION RATE</h1>"
   ]
  },
  {
   "cell_type": "markdown",
   "id": "139041c8",
   "metadata": {},
   "source": [
    "This notebook takes a look at data used to determine inflation rate in the country of Botswana. The data was collected from the Central Bank of Botswana website as well as the SA Stats website. It consists of Botswana's daily inflation rates, exchange rates, and interest rates imposed by the central bank. In addition, South Africa's inflation rates data was also collected from the SA Stats website. The goal of the project is to understand better what factors affect inflation rate as well as to what degree they affect it. We also would like to see if we can predict inflation rate with good accuracy using a time series model and various machine learning models."
   ]
  },
  {
   "cell_type": "code",
   "execution_count": 1,
   "id": "a5ab6e1a",
   "metadata": {},
   "outputs": [],
   "source": [
    "import pandas as pd\n",
    "import numpy as np\n",
    "import matplotlib.pyplot as plt\n",
    "import seaborn as sns"
   ]
  },
  {
   "cell_type": "markdown",
   "id": "b1362e7e",
   "metadata": {},
   "source": [
    "<h3>LOADING OF THE DATAFRAMES INTO THE NOTEBOOK</h3>"
   ]
  },
  {
   "cell_type": "code",
   "execution_count": 3,
   "id": "72f8b385",
   "metadata": {},
   "outputs": [],
   "source": [
    "dfinterest = pd.read_csv('..\\Data\\interestrates.csv')\n",
    "dfexchange= pd.read_csv('..\\Data\\exchangerates.csv')\n",
    "dfinflation = pd.read_csv('..\\Data\\inflationrates.csv')"
   ]
  },
  {
   "cell_type": "markdown",
   "id": "f6cadf25",
   "metadata": {},
   "source": [
    "<h4>Loading Interest Data DataFrame</h4>"
   ]
  },
  {
   "cell_type": "code",
   "execution_count": 4,
   "id": "3dbfa68f",
   "metadata": {},
   "outputs": [
    {
     "data": {
      "text/plain": "  Interest Rate Date  7 Day Bobc  Monetary Policy Rate  1 Month BoBC\n0        02 Sep 2022        2.65                  2.65          2.43\n1        01 Sep 2022        2.65                  2.65          2.43\n2        31 Aug 2022        2.65                  2.65          2.43\n3        30 Aug 2022        2.15                  2.65          2.43\n4        29 Aug 2022        2.15                  2.65          2.43",
      "text/html": "<div>\n<style scoped>\n    .dataframe tbody tr th:only-of-type {\n        vertical-align: middle;\n    }\n\n    .dataframe tbody tr th {\n        vertical-align: top;\n    }\n\n    .dataframe thead th {\n        text-align: right;\n    }\n</style>\n<table border=\"1\" class=\"dataframe\">\n  <thead>\n    <tr style=\"text-align: right;\">\n      <th></th>\n      <th>Interest Rate Date</th>\n      <th>7 Day Bobc</th>\n      <th>Monetary Policy Rate</th>\n      <th>1 Month BoBC</th>\n    </tr>\n  </thead>\n  <tbody>\n    <tr>\n      <th>0</th>\n      <td>02 Sep 2022</td>\n      <td>2.65</td>\n      <td>2.65</td>\n      <td>2.43</td>\n    </tr>\n    <tr>\n      <th>1</th>\n      <td>01 Sep 2022</td>\n      <td>2.65</td>\n      <td>2.65</td>\n      <td>2.43</td>\n    </tr>\n    <tr>\n      <th>2</th>\n      <td>31 Aug 2022</td>\n      <td>2.65</td>\n      <td>2.65</td>\n      <td>2.43</td>\n    </tr>\n    <tr>\n      <th>3</th>\n      <td>30 Aug 2022</td>\n      <td>2.15</td>\n      <td>2.65</td>\n      <td>2.43</td>\n    </tr>\n    <tr>\n      <th>4</th>\n      <td>29 Aug 2022</td>\n      <td>2.15</td>\n      <td>2.65</td>\n      <td>2.43</td>\n    </tr>\n  </tbody>\n</table>\n</div>"
     },
     "execution_count": 4,
     "metadata": {},
     "output_type": "execute_result"
    }
   ],
   "source": [
    "dfinterest.head()"
   ]
  },
  {
   "cell_type": "code",
   "execution_count": 5,
   "id": "f70547d2",
   "metadata": {},
   "outputs": [
    {
     "data": {
      "text/plain": "(4476, 4)"
     },
     "execution_count": 5,
     "metadata": {},
     "output_type": "execute_result"
    }
   ],
   "source": [
    "dfinterest.shape"
   ]
  },
  {
   "cell_type": "markdown",
   "id": "3cf29b20",
   "metadata": {},
   "source": [
    "<h4>Loading Exchange Rate Data DataFrame</h4>"
   ]
  },
  {
   "cell_type": "code",
   "execution_count": 6,
   "id": "2c3ca607",
   "metadata": {},
   "outputs": [
    {
     "data": {
      "text/plain": "          Date     CHN     EUR     GBP     USD     SDR    YEN     ZAR\n0  02 Sep 2022  0.5340  0.0775  0.0670  0.0772  0.0595  10.84  1.3355\n1  01 Sep 2022  0.5359  0.0774  0.0670  0.0775  0.0596  10.80  1.3333\n2  31 Aug 2022  0.5395  0.0779  0.0669  0.0782  0.0599  10.82  1.3234\n3  30 Aug 2022  0.5420  0.0783  0.0669  0.0783  0.0601  10.85  1.3191\n4  29 Aug 2022  0.5405  0.0785  0.0669  0.0780  0.0600  10.83  1.3216",
      "text/html": "<div>\n<style scoped>\n    .dataframe tbody tr th:only-of-type {\n        vertical-align: middle;\n    }\n\n    .dataframe tbody tr th {\n        vertical-align: top;\n    }\n\n    .dataframe thead th {\n        text-align: right;\n    }\n</style>\n<table border=\"1\" class=\"dataframe\">\n  <thead>\n    <tr style=\"text-align: right;\">\n      <th></th>\n      <th>Date</th>\n      <th>CHN</th>\n      <th>EUR</th>\n      <th>GBP</th>\n      <th>USD</th>\n      <th>SDR</th>\n      <th>YEN</th>\n      <th>ZAR</th>\n    </tr>\n  </thead>\n  <tbody>\n    <tr>\n      <th>0</th>\n      <td>02 Sep 2022</td>\n      <td>0.5340</td>\n      <td>0.0775</td>\n      <td>0.0670</td>\n      <td>0.0772</td>\n      <td>0.0595</td>\n      <td>10.84</td>\n      <td>1.3355</td>\n    </tr>\n    <tr>\n      <th>1</th>\n      <td>01 Sep 2022</td>\n      <td>0.5359</td>\n      <td>0.0774</td>\n      <td>0.0670</td>\n      <td>0.0775</td>\n      <td>0.0596</td>\n      <td>10.80</td>\n      <td>1.3333</td>\n    </tr>\n    <tr>\n      <th>2</th>\n      <td>31 Aug 2022</td>\n      <td>0.5395</td>\n      <td>0.0779</td>\n      <td>0.0669</td>\n      <td>0.0782</td>\n      <td>0.0599</td>\n      <td>10.82</td>\n      <td>1.3234</td>\n    </tr>\n    <tr>\n      <th>3</th>\n      <td>30 Aug 2022</td>\n      <td>0.5420</td>\n      <td>0.0783</td>\n      <td>0.0669</td>\n      <td>0.0783</td>\n      <td>0.0601</td>\n      <td>10.85</td>\n      <td>1.3191</td>\n    </tr>\n    <tr>\n      <th>4</th>\n      <td>29 Aug 2022</td>\n      <td>0.5405</td>\n      <td>0.0785</td>\n      <td>0.0669</td>\n      <td>0.0780</td>\n      <td>0.0600</td>\n      <td>10.83</td>\n      <td>1.3216</td>\n    </tr>\n  </tbody>\n</table>\n</div>"
     },
     "execution_count": 6,
     "metadata": {},
     "output_type": "execute_result"
    }
   ],
   "source": [
    "dfexchange.head()"
   ]
  },
  {
   "cell_type": "code",
   "execution_count": 7,
   "id": "cc80fab4",
   "metadata": {},
   "outputs": [
    {
     "data": {
      "text/plain": "(5378, 8)"
     },
     "execution_count": 7,
     "metadata": {},
     "output_type": "execute_result"
    }
   ],
   "source": [
    "dfexchange.shape"
   ]
  },
  {
   "cell_type": "markdown",
   "id": "cbf9a415",
   "metadata": {},
   "source": [
    "<h4>Loading Inflation Rate Data DataFrame</h4>"
   ]
  },
  {
   "cell_type": "code",
   "execution_count": 8,
   "id": "5cd5da39",
   "metadata": {},
   "outputs": [
    {
     "data": {
      "text/plain": "    CPI  CPIT  CPIXA field_inflations_date\n0  14.3  11.5    7.6              Jul 2022\n1  12.7  10.3    6.6              Jun 2022\n2  11.9   9.4    6.4              May 2022\n3   9.6   8.1    5.9              Apr 2022\n4  10.0   8.6    6.8              Mar 2022",
      "text/html": "<div>\n<style scoped>\n    .dataframe tbody tr th:only-of-type {\n        vertical-align: middle;\n    }\n\n    .dataframe tbody tr th {\n        vertical-align: top;\n    }\n\n    .dataframe thead th {\n        text-align: right;\n    }\n</style>\n<table border=\"1\" class=\"dataframe\">\n  <thead>\n    <tr style=\"text-align: right;\">\n      <th></th>\n      <th>CPI</th>\n      <th>CPIT</th>\n      <th>CPIXA</th>\n      <th>field_inflations_date</th>\n    </tr>\n  </thead>\n  <tbody>\n    <tr>\n      <th>0</th>\n      <td>14.3</td>\n      <td>11.5</td>\n      <td>7.6</td>\n      <td>Jul 2022</td>\n    </tr>\n    <tr>\n      <th>1</th>\n      <td>12.7</td>\n      <td>10.3</td>\n      <td>6.6</td>\n      <td>Jun 2022</td>\n    </tr>\n    <tr>\n      <th>2</th>\n      <td>11.9</td>\n      <td>9.4</td>\n      <td>6.4</td>\n      <td>May 2022</td>\n    </tr>\n    <tr>\n      <th>3</th>\n      <td>9.6</td>\n      <td>8.1</td>\n      <td>5.9</td>\n      <td>Apr 2022</td>\n    </tr>\n    <tr>\n      <th>4</th>\n      <td>10.0</td>\n      <td>8.6</td>\n      <td>6.8</td>\n      <td>Mar 2022</td>\n    </tr>\n  </tbody>\n</table>\n</div>"
     },
     "execution_count": 8,
     "metadata": {},
     "output_type": "execute_result"
    }
   ],
   "source": [
    "dfinflation.head()"
   ]
  },
  {
   "cell_type": "code",
   "execution_count": 9,
   "id": "136d6f3c",
   "metadata": {},
   "outputs": [
    {
     "data": {
      "text/plain": "(283, 4)"
     },
     "execution_count": 9,
     "metadata": {},
     "output_type": "execute_result"
    }
   ],
   "source": [
    "dfinflation.shape"
   ]
  },
  {
   "cell_type": "markdown",
   "id": "9925d79a",
   "metadata": {},
   "source": [
    "<h3>A closer look at Inflation Data</h3>"
   ]
  },
  {
   "cell_type": "markdown",
   "id": "dc1b8021",
   "metadata": {},
   "source": [
    "The Data consists of CPI, CPIT, CPIXA which are all measures of consumer price index. The data also has a date column and should be able to be represented as a time series.\n",
    "\n",
    "The data is from March 1999 to July 2022 which is approximately 23 years. The current monetary policy framework which includes an inflation rate objective of 3 - 6%, was introduced around 2008. Based on this, the inflation data for this project will be limited to data starting from 2008. One could decide to use all the data in another project beyond this one."
   ]
  },
  {
   "cell_type": "markdown",
   "id": "23544293",
   "metadata": {},
   "source": [
    "Features will be dropped based on date. In order to do this, the date column is going to be set as the index for the DataFrame."
   ]
  },
  {
   "cell_type": "code",
   "execution_count": 10,
   "id": "79d2d3ce",
   "metadata": {},
   "outputs": [],
   "source": [
    "#Renaming column with date to 'date' and setting it as the index for the DataFrame\n",
    "dfinflation.rename(columns={'field_inflations_date':'date'}, inplace=True)\n",
    "\n",
    "dfinflation['date'] = pd.to_datetime(dfinflation['date'])\n",
    "\n",
    "dfinflation.set_index('date', inplace=True)"
   ]
  },
  {
   "cell_type": "code",
   "execution_count": 11,
   "id": "143a2a59",
   "metadata": {},
   "outputs": [],
   "source": [
    "#Deleting all entries prior to 2008\n",
    "dfinflation = dfinflation.loc['01-01-2008':]"
   ]
  },
  {
   "cell_type": "code",
   "execution_count": 12,
   "id": "712e716a",
   "metadata": {},
   "outputs": [
    {
     "data": {
      "text/plain": "             CPI  CPIT  CPIXA\ndate                         \n2022-07-01  14.3  11.5    7.6\n2022-06-01  12.7  10.3    6.6\n2022-05-01  11.9   9.4    6.4\n2022-04-01   9.6   8.1    5.9\n2022-03-01  10.0   8.6    6.8\n...          ...   ...    ...\n2008-07-01  15.0  12.7   11.1\n2008-02-01   9.0   8.7    8.6\n2008-03-01   9.8   9.7    8.9\n2008-04-01  11.1  10.5    8.8\n2008-01-01   8.4   7.9    7.2\n\n[175 rows x 3 columns]",
      "text/html": "<div>\n<style scoped>\n    .dataframe tbody tr th:only-of-type {\n        vertical-align: middle;\n    }\n\n    .dataframe tbody tr th {\n        vertical-align: top;\n    }\n\n    .dataframe thead th {\n        text-align: right;\n    }\n</style>\n<table border=\"1\" class=\"dataframe\">\n  <thead>\n    <tr style=\"text-align: right;\">\n      <th></th>\n      <th>CPI</th>\n      <th>CPIT</th>\n      <th>CPIXA</th>\n    </tr>\n    <tr>\n      <th>date</th>\n      <th></th>\n      <th></th>\n      <th></th>\n    </tr>\n  </thead>\n  <tbody>\n    <tr>\n      <th>2022-07-01</th>\n      <td>14.3</td>\n      <td>11.5</td>\n      <td>7.6</td>\n    </tr>\n    <tr>\n      <th>2022-06-01</th>\n      <td>12.7</td>\n      <td>10.3</td>\n      <td>6.6</td>\n    </tr>\n    <tr>\n      <th>2022-05-01</th>\n      <td>11.9</td>\n      <td>9.4</td>\n      <td>6.4</td>\n    </tr>\n    <tr>\n      <th>2022-04-01</th>\n      <td>9.6</td>\n      <td>8.1</td>\n      <td>5.9</td>\n    </tr>\n    <tr>\n      <th>2022-03-01</th>\n      <td>10.0</td>\n      <td>8.6</td>\n      <td>6.8</td>\n    </tr>\n    <tr>\n      <th>...</th>\n      <td>...</td>\n      <td>...</td>\n      <td>...</td>\n    </tr>\n    <tr>\n      <th>2008-07-01</th>\n      <td>15.0</td>\n      <td>12.7</td>\n      <td>11.1</td>\n    </tr>\n    <tr>\n      <th>2008-02-01</th>\n      <td>9.0</td>\n      <td>8.7</td>\n      <td>8.6</td>\n    </tr>\n    <tr>\n      <th>2008-03-01</th>\n      <td>9.8</td>\n      <td>9.7</td>\n      <td>8.9</td>\n    </tr>\n    <tr>\n      <th>2008-04-01</th>\n      <td>11.1</td>\n      <td>10.5</td>\n      <td>8.8</td>\n    </tr>\n    <tr>\n      <th>2008-01-01</th>\n      <td>8.4</td>\n      <td>7.9</td>\n      <td>7.2</td>\n    </tr>\n  </tbody>\n</table>\n<p>175 rows × 3 columns</p>\n</div>"
     },
     "execution_count": 12,
     "metadata": {},
     "output_type": "execute_result"
    }
   ],
   "source": [
    "dfinflation"
   ]
  },
  {
   "cell_type": "code",
   "execution_count": 13,
   "id": "6866d879",
   "metadata": {},
   "outputs": [
    {
     "name": "stdout",
     "output_type": "stream",
     "text": [
      "<class 'pandas.core.frame.DataFrame'>\n",
      "DatetimeIndex: 175 entries, 2022-07-01 to 2008-01-01\n",
      "Data columns (total 3 columns):\n",
      " #   Column  Non-Null Count  Dtype  \n",
      "---  ------  --------------  -----  \n",
      " 0   CPI     175 non-null    float64\n",
      " 1   CPIT    175 non-null    float64\n",
      " 2   CPIXA   175 non-null    float64\n",
      "dtypes: float64(3)\n",
      "memory usage: 5.5 KB\n"
     ]
    }
   ],
   "source": [
    "dfinflation.info()"
   ]
  },
  {
   "cell_type": "markdown",
   "id": "c01d664b",
   "metadata": {},
   "source": [
    "There are no missing values once the data is trimmed to start from January 2008. There is a total of 175 entries."
   ]
  },
  {
   "cell_type": "markdown",
   "id": "c51d0daf",
   "metadata": {},
   "source": [
    "<h3>Interest Rate Data</h3>"
   ]
  },
  {
   "cell_type": "markdown",
   "id": "d8269969",
   "metadata": {},
   "source": [
    "Unlike inflation data, interest rate data is recorded on a daily basis with data all the way upto 2004. The data will be limited to January 2008 just like with the inflation data. Note that the Bobc 7 days is a security provided by the Bank of Botswana at an interest rate decided by them. The security takes 7 days to mature. The Bobc 1 Month takes 1 month to reach maturity."
   ]
  },
  {
   "cell_type": "code",
   "execution_count": 14,
   "id": "6504e167",
   "metadata": {},
   "outputs": [
    {
     "data": {
      "text/plain": "     Interest Rate Date  7 Day Bobc  Monetary Policy Rate  1 Month BoBC\n0           02 Sep 2022        2.65                  2.65          2.43\n1           01 Sep 2022        2.65                  2.65          2.43\n2           31 Aug 2022        2.65                  2.65          2.43\n3           30 Aug 2022        2.15                  2.65          2.43\n4           29 Aug 2022        2.15                  2.65          2.43\n...                 ...         ...                   ...           ...\n4471        23 Nov 2004        9.90                   NaN           NaN\n4472        24 Nov 2004        9.90                   NaN           NaN\n4473        16 Nov 2004       11.98                   NaN           NaN\n4474        17 Nov 2004       11.98                   NaN           NaN\n4475        18 Nov 2004       11.98                   NaN           NaN\n\n[4476 rows x 4 columns]",
      "text/html": "<div>\n<style scoped>\n    .dataframe tbody tr th:only-of-type {\n        vertical-align: middle;\n    }\n\n    .dataframe tbody tr th {\n        vertical-align: top;\n    }\n\n    .dataframe thead th {\n        text-align: right;\n    }\n</style>\n<table border=\"1\" class=\"dataframe\">\n  <thead>\n    <tr style=\"text-align: right;\">\n      <th></th>\n      <th>Interest Rate Date</th>\n      <th>7 Day Bobc</th>\n      <th>Monetary Policy Rate</th>\n      <th>1 Month BoBC</th>\n    </tr>\n  </thead>\n  <tbody>\n    <tr>\n      <th>0</th>\n      <td>02 Sep 2022</td>\n      <td>2.65</td>\n      <td>2.65</td>\n      <td>2.43</td>\n    </tr>\n    <tr>\n      <th>1</th>\n      <td>01 Sep 2022</td>\n      <td>2.65</td>\n      <td>2.65</td>\n      <td>2.43</td>\n    </tr>\n    <tr>\n      <th>2</th>\n      <td>31 Aug 2022</td>\n      <td>2.65</td>\n      <td>2.65</td>\n      <td>2.43</td>\n    </tr>\n    <tr>\n      <th>3</th>\n      <td>30 Aug 2022</td>\n      <td>2.15</td>\n      <td>2.65</td>\n      <td>2.43</td>\n    </tr>\n    <tr>\n      <th>4</th>\n      <td>29 Aug 2022</td>\n      <td>2.15</td>\n      <td>2.65</td>\n      <td>2.43</td>\n    </tr>\n    <tr>\n      <th>...</th>\n      <td>...</td>\n      <td>...</td>\n      <td>...</td>\n      <td>...</td>\n    </tr>\n    <tr>\n      <th>4471</th>\n      <td>23 Nov 2004</td>\n      <td>9.90</td>\n      <td>NaN</td>\n      <td>NaN</td>\n    </tr>\n    <tr>\n      <th>4472</th>\n      <td>24 Nov 2004</td>\n      <td>9.90</td>\n      <td>NaN</td>\n      <td>NaN</td>\n    </tr>\n    <tr>\n      <th>4473</th>\n      <td>16 Nov 2004</td>\n      <td>11.98</td>\n      <td>NaN</td>\n      <td>NaN</td>\n    </tr>\n    <tr>\n      <th>4474</th>\n      <td>17 Nov 2004</td>\n      <td>11.98</td>\n      <td>NaN</td>\n      <td>NaN</td>\n    </tr>\n    <tr>\n      <th>4475</th>\n      <td>18 Nov 2004</td>\n      <td>11.98</td>\n      <td>NaN</td>\n      <td>NaN</td>\n    </tr>\n  </tbody>\n</table>\n<p>4476 rows × 4 columns</p>\n</div>"
     },
     "execution_count": 14,
     "metadata": {},
     "output_type": "execute_result"
    }
   ],
   "source": [
    "dfinterest"
   ]
  },
  {
   "cell_type": "code",
   "execution_count": 15,
   "id": "5725ef8c",
   "metadata": {},
   "outputs": [],
   "source": [
    "#Renaming column with date to 'date' and setting it as the index for the DataFrame\n",
    "dfinterest.rename(columns={'Interest Rate Date':'date'}, inplace=True)\n",
    "\n",
    "dfinterest['date'] = pd.to_datetime(dfinterest['date'])\n",
    "\n",
    "dfinterest.set_index('date', inplace=True)"
   ]
  },
  {
   "cell_type": "code",
   "execution_count": 16,
   "id": "61fa1e25",
   "metadata": {},
   "outputs": [
    {
     "name": "stderr",
     "output_type": "stream",
     "text": [
      "C:\\Users\\ituser\\AppData\\Local\\Temp\\ipykernel_11464\\3375821857.py:2: FutureWarning: Value based partial slicing on non-monotonic DatetimeIndexes with non-existing keys is deprecated and will raise a KeyError in a future Version.\n",
      "  dfinterest = dfinterest.loc['01-01-2008':]\n"
     ]
    }
   ],
   "source": [
    "#Deleting all entries prior to 2008\n",
    "dfinterest = dfinterest.loc['01-01-2008':]"
   ]
  },
  {
   "cell_type": "code",
   "execution_count": 17,
   "id": "83035213",
   "metadata": {},
   "outputs": [
    {
     "data": {
      "text/plain": "            7 Day Bobc  Monetary Policy Rate  1 Month BoBC\ndate                                                      \n2022-09-02        2.65                  2.65          2.43\n2022-09-01        2.65                  2.65          2.43\n2022-08-31        2.65                  2.65          2.43\n2022-08-30        2.15                  2.65          2.43\n2022-08-29        2.15                  2.65          2.43\n...                ...                   ...           ...\n2008-01-14       11.97                   NaN           NaN\n2008-01-03       11.96                   NaN           NaN\n2008-01-04       11.96                   NaN           NaN\n2008-01-07       11.96                   NaN           NaN\n2008-01-08       11.96                   NaN           NaN\n\n[3667 rows x 3 columns]",
      "text/html": "<div>\n<style scoped>\n    .dataframe tbody tr th:only-of-type {\n        vertical-align: middle;\n    }\n\n    .dataframe tbody tr th {\n        vertical-align: top;\n    }\n\n    .dataframe thead th {\n        text-align: right;\n    }\n</style>\n<table border=\"1\" class=\"dataframe\">\n  <thead>\n    <tr style=\"text-align: right;\">\n      <th></th>\n      <th>7 Day Bobc</th>\n      <th>Monetary Policy Rate</th>\n      <th>1 Month BoBC</th>\n    </tr>\n    <tr>\n      <th>date</th>\n      <th></th>\n      <th></th>\n      <th></th>\n    </tr>\n  </thead>\n  <tbody>\n    <tr>\n      <th>2022-09-02</th>\n      <td>2.65</td>\n      <td>2.65</td>\n      <td>2.43</td>\n    </tr>\n    <tr>\n      <th>2022-09-01</th>\n      <td>2.65</td>\n      <td>2.65</td>\n      <td>2.43</td>\n    </tr>\n    <tr>\n      <th>2022-08-31</th>\n      <td>2.65</td>\n      <td>2.65</td>\n      <td>2.43</td>\n    </tr>\n    <tr>\n      <th>2022-08-30</th>\n      <td>2.15</td>\n      <td>2.65</td>\n      <td>2.43</td>\n    </tr>\n    <tr>\n      <th>2022-08-29</th>\n      <td>2.15</td>\n      <td>2.65</td>\n      <td>2.43</td>\n    </tr>\n    <tr>\n      <th>...</th>\n      <td>...</td>\n      <td>...</td>\n      <td>...</td>\n    </tr>\n    <tr>\n      <th>2008-01-14</th>\n      <td>11.97</td>\n      <td>NaN</td>\n      <td>NaN</td>\n    </tr>\n    <tr>\n      <th>2008-01-03</th>\n      <td>11.96</td>\n      <td>NaN</td>\n      <td>NaN</td>\n    </tr>\n    <tr>\n      <th>2008-01-04</th>\n      <td>11.96</td>\n      <td>NaN</td>\n      <td>NaN</td>\n    </tr>\n    <tr>\n      <th>2008-01-07</th>\n      <td>11.96</td>\n      <td>NaN</td>\n      <td>NaN</td>\n    </tr>\n    <tr>\n      <th>2008-01-08</th>\n      <td>11.96</td>\n      <td>NaN</td>\n      <td>NaN</td>\n    </tr>\n  </tbody>\n</table>\n<p>3667 rows × 3 columns</p>\n</div>"
     },
     "execution_count": 17,
     "metadata": {},
     "output_type": "execute_result"
    }
   ],
   "source": [
    "dfinterest"
   ]
  },
  {
   "cell_type": "code",
   "execution_count": 18,
   "id": "29ff7a7e",
   "metadata": {},
   "outputs": [
    {
     "name": "stdout",
     "output_type": "stream",
     "text": [
      "<class 'pandas.core.frame.DataFrame'>\n",
      "DatetimeIndex: 3667 entries, 2022-09-02 to 2008-01-08\n",
      "Data columns (total 3 columns):\n",
      " #   Column                Non-Null Count  Dtype  \n",
      "---  ------                --------------  -----  \n",
      " 0   7 Day Bobc            3667 non-null   float64\n",
      " 1   Monetary Policy Rate  84 non-null     float64\n",
      " 2   1 Month BoBC          33 non-null     float64\n",
      "dtypes: float64(3)\n",
      "memory usage: 114.6 KB\n"
     ]
    }
   ],
   "source": [
    "dfinterest.info()"
   ]
  },
  {
   "cell_type": "markdown",
   "id": "893149ff",
   "metadata": {},
   "source": [
    "With this dataset, only the 7 Day Bobc is recorded daily. The other two fields (Monetary Policy Rate and 1 Month BoBC) have very few records in comparison."
   ]
  },
  {
   "cell_type": "code",
   "execution_count": 19,
   "id": "2068e6c5",
   "metadata": {},
   "outputs": [
    {
     "data": {
      "text/plain": "            7 Day Bobc  Monetary Policy Rate  1 Month BoBC\ndate                                                      \n2022-09-02        2.65                  2.65          2.43\n2022-09-01        2.65                  2.65          2.43\n2022-08-31        2.65                  2.65          2.43\n2022-08-30        2.15                  2.65          2.43\n2022-08-29        2.15                  2.65          2.43\n2022-08-26        2.15                  2.15          2.43\n2022-08-25        2.15                  2.15          2.43\n2022-08-24        2.15                  2.15          2.43\n2022-08-23        2.15                  2.15          2.44\n2022-08-22        2.15                  2.15          2.44\n2022-08-19        2.15                  2.15          2.44\n2022-08-18        2.15                  2.15          2.44\n2022-08-17        2.15                  2.15          2.44\n2022-08-16        2.15                  2.15          2.44\n2022-08-15        2.15                  2.15          2.44\n2022-08-12        2.15                  2.15          2.44\n2022-08-11        2.15                  2.15          2.44\n2022-08-10        2.15                  2.15          2.44\n2022-08-09        2.15                  2.15          2.44\n2022-08-08        2.15                  2.15          2.44\n2022-08-05        2.15                  2.15          2.44\n2022-08-04        2.15                  2.15          2.44\n2022-08-03        2.15                  2.15          2.44\n2022-08-02        2.15                  2.15          2.44\n2022-08-01        2.15                  2.15          2.44\n2022-07-29        2.15                  2.15          2.44\n2022-07-28        2.15                  2.15          2.44\n2022-07-27        2.15                  2.15          2.44\n2022-07-26        2.15                  2.15          2.34\n2022-07-25        2.15                  2.15          2.34\n2022-07-22        2.15                  2.15          2.34\n2022-07-21        2.15                  2.15          2.34\n2022-06-28        2.15                  2.15          2.34\n2022-07-20        2.15                  2.15           NaN\n2022-07-15        2.15                  2.15           NaN\n2022-07-14        2.15                  2.15           NaN\n2022-07-13        2.15                  2.15           NaN\n2022-07-12        2.15                  2.15           NaN\n2022-07-11        2.15                  2.15           NaN\n2022-07-08        2.15                  2.15           NaN\n2022-07-07        2.15                  2.15           NaN\n2022-07-06        2.15                  2.15           NaN\n2022-07-05        2.15                  2.15           NaN\n2022-07-04        2.15                  2.15           NaN\n2022-06-30        2.15                  2.15           NaN\n2022-06-29        2.15                  2.15           NaN\n2022-06-27        2.15                  2.15           NaN\n2022-06-24        2.15                  2.15           NaN\n2022-06-23        2.15                  2.15           NaN\n2022-06-22        2.15                  2.15           NaN\n2022-06-21        1.65                  2.15           NaN\n2022-06-20        1.65                  2.15           NaN\n2022-06-17        1.65                  2.15           NaN\n2022-06-16        1.65                  1.65           NaN\n2022-06-15        1.65                  1.65           NaN\n2022-06-14        1.65                  1.65           NaN\n2022-06-13        1.65                  1.65           NaN\n2022-06-10        1.65                  1.65           NaN\n2022-06-09        1.65                  1.65           NaN\n2022-06-08        1.65                  1.65           NaN",
      "text/html": "<div>\n<style scoped>\n    .dataframe tbody tr th:only-of-type {\n        vertical-align: middle;\n    }\n\n    .dataframe tbody tr th {\n        vertical-align: top;\n    }\n\n    .dataframe thead th {\n        text-align: right;\n    }\n</style>\n<table border=\"1\" class=\"dataframe\">\n  <thead>\n    <tr style=\"text-align: right;\">\n      <th></th>\n      <th>7 Day Bobc</th>\n      <th>Monetary Policy Rate</th>\n      <th>1 Month BoBC</th>\n    </tr>\n    <tr>\n      <th>date</th>\n      <th></th>\n      <th></th>\n      <th></th>\n    </tr>\n  </thead>\n  <tbody>\n    <tr>\n      <th>2022-09-02</th>\n      <td>2.65</td>\n      <td>2.65</td>\n      <td>2.43</td>\n    </tr>\n    <tr>\n      <th>2022-09-01</th>\n      <td>2.65</td>\n      <td>2.65</td>\n      <td>2.43</td>\n    </tr>\n    <tr>\n      <th>2022-08-31</th>\n      <td>2.65</td>\n      <td>2.65</td>\n      <td>2.43</td>\n    </tr>\n    <tr>\n      <th>2022-08-30</th>\n      <td>2.15</td>\n      <td>2.65</td>\n      <td>2.43</td>\n    </tr>\n    <tr>\n      <th>2022-08-29</th>\n      <td>2.15</td>\n      <td>2.65</td>\n      <td>2.43</td>\n    </tr>\n    <tr>\n      <th>2022-08-26</th>\n      <td>2.15</td>\n      <td>2.15</td>\n      <td>2.43</td>\n    </tr>\n    <tr>\n      <th>2022-08-25</th>\n      <td>2.15</td>\n      <td>2.15</td>\n      <td>2.43</td>\n    </tr>\n    <tr>\n      <th>2022-08-24</th>\n      <td>2.15</td>\n      <td>2.15</td>\n      <td>2.43</td>\n    </tr>\n    <tr>\n      <th>2022-08-23</th>\n      <td>2.15</td>\n      <td>2.15</td>\n      <td>2.44</td>\n    </tr>\n    <tr>\n      <th>2022-08-22</th>\n      <td>2.15</td>\n      <td>2.15</td>\n      <td>2.44</td>\n    </tr>\n    <tr>\n      <th>2022-08-19</th>\n      <td>2.15</td>\n      <td>2.15</td>\n      <td>2.44</td>\n    </tr>\n    <tr>\n      <th>2022-08-18</th>\n      <td>2.15</td>\n      <td>2.15</td>\n      <td>2.44</td>\n    </tr>\n    <tr>\n      <th>2022-08-17</th>\n      <td>2.15</td>\n      <td>2.15</td>\n      <td>2.44</td>\n    </tr>\n    <tr>\n      <th>2022-08-16</th>\n      <td>2.15</td>\n      <td>2.15</td>\n      <td>2.44</td>\n    </tr>\n    <tr>\n      <th>2022-08-15</th>\n      <td>2.15</td>\n      <td>2.15</td>\n      <td>2.44</td>\n    </tr>\n    <tr>\n      <th>2022-08-12</th>\n      <td>2.15</td>\n      <td>2.15</td>\n      <td>2.44</td>\n    </tr>\n    <tr>\n      <th>2022-08-11</th>\n      <td>2.15</td>\n      <td>2.15</td>\n      <td>2.44</td>\n    </tr>\n    <tr>\n      <th>2022-08-10</th>\n      <td>2.15</td>\n      <td>2.15</td>\n      <td>2.44</td>\n    </tr>\n    <tr>\n      <th>2022-08-09</th>\n      <td>2.15</td>\n      <td>2.15</td>\n      <td>2.44</td>\n    </tr>\n    <tr>\n      <th>2022-08-08</th>\n      <td>2.15</td>\n      <td>2.15</td>\n      <td>2.44</td>\n    </tr>\n    <tr>\n      <th>2022-08-05</th>\n      <td>2.15</td>\n      <td>2.15</td>\n      <td>2.44</td>\n    </tr>\n    <tr>\n      <th>2022-08-04</th>\n      <td>2.15</td>\n      <td>2.15</td>\n      <td>2.44</td>\n    </tr>\n    <tr>\n      <th>2022-08-03</th>\n      <td>2.15</td>\n      <td>2.15</td>\n      <td>2.44</td>\n    </tr>\n    <tr>\n      <th>2022-08-02</th>\n      <td>2.15</td>\n      <td>2.15</td>\n      <td>2.44</td>\n    </tr>\n    <tr>\n      <th>2022-08-01</th>\n      <td>2.15</td>\n      <td>2.15</td>\n      <td>2.44</td>\n    </tr>\n    <tr>\n      <th>2022-07-29</th>\n      <td>2.15</td>\n      <td>2.15</td>\n      <td>2.44</td>\n    </tr>\n    <tr>\n      <th>2022-07-28</th>\n      <td>2.15</td>\n      <td>2.15</td>\n      <td>2.44</td>\n    </tr>\n    <tr>\n      <th>2022-07-27</th>\n      <td>2.15</td>\n      <td>2.15</td>\n      <td>2.44</td>\n    </tr>\n    <tr>\n      <th>2022-07-26</th>\n      <td>2.15</td>\n      <td>2.15</td>\n      <td>2.34</td>\n    </tr>\n    <tr>\n      <th>2022-07-25</th>\n      <td>2.15</td>\n      <td>2.15</td>\n      <td>2.34</td>\n    </tr>\n    <tr>\n      <th>2022-07-22</th>\n      <td>2.15</td>\n      <td>2.15</td>\n      <td>2.34</td>\n    </tr>\n    <tr>\n      <th>2022-07-21</th>\n      <td>2.15</td>\n      <td>2.15</td>\n      <td>2.34</td>\n    </tr>\n    <tr>\n      <th>2022-06-28</th>\n      <td>2.15</td>\n      <td>2.15</td>\n      <td>2.34</td>\n    </tr>\n    <tr>\n      <th>2022-07-20</th>\n      <td>2.15</td>\n      <td>2.15</td>\n      <td>NaN</td>\n    </tr>\n    <tr>\n      <th>2022-07-15</th>\n      <td>2.15</td>\n      <td>2.15</td>\n      <td>NaN</td>\n    </tr>\n    <tr>\n      <th>2022-07-14</th>\n      <td>2.15</td>\n      <td>2.15</td>\n      <td>NaN</td>\n    </tr>\n    <tr>\n      <th>2022-07-13</th>\n      <td>2.15</td>\n      <td>2.15</td>\n      <td>NaN</td>\n    </tr>\n    <tr>\n      <th>2022-07-12</th>\n      <td>2.15</td>\n      <td>2.15</td>\n      <td>NaN</td>\n    </tr>\n    <tr>\n      <th>2022-07-11</th>\n      <td>2.15</td>\n      <td>2.15</td>\n      <td>NaN</td>\n    </tr>\n    <tr>\n      <th>2022-07-08</th>\n      <td>2.15</td>\n      <td>2.15</td>\n      <td>NaN</td>\n    </tr>\n    <tr>\n      <th>2022-07-07</th>\n      <td>2.15</td>\n      <td>2.15</td>\n      <td>NaN</td>\n    </tr>\n    <tr>\n      <th>2022-07-06</th>\n      <td>2.15</td>\n      <td>2.15</td>\n      <td>NaN</td>\n    </tr>\n    <tr>\n      <th>2022-07-05</th>\n      <td>2.15</td>\n      <td>2.15</td>\n      <td>NaN</td>\n    </tr>\n    <tr>\n      <th>2022-07-04</th>\n      <td>2.15</td>\n      <td>2.15</td>\n      <td>NaN</td>\n    </tr>\n    <tr>\n      <th>2022-06-30</th>\n      <td>2.15</td>\n      <td>2.15</td>\n      <td>NaN</td>\n    </tr>\n    <tr>\n      <th>2022-06-29</th>\n      <td>2.15</td>\n      <td>2.15</td>\n      <td>NaN</td>\n    </tr>\n    <tr>\n      <th>2022-06-27</th>\n      <td>2.15</td>\n      <td>2.15</td>\n      <td>NaN</td>\n    </tr>\n    <tr>\n      <th>2022-06-24</th>\n      <td>2.15</td>\n      <td>2.15</td>\n      <td>NaN</td>\n    </tr>\n    <tr>\n      <th>2022-06-23</th>\n      <td>2.15</td>\n      <td>2.15</td>\n      <td>NaN</td>\n    </tr>\n    <tr>\n      <th>2022-06-22</th>\n      <td>2.15</td>\n      <td>2.15</td>\n      <td>NaN</td>\n    </tr>\n    <tr>\n      <th>2022-06-21</th>\n      <td>1.65</td>\n      <td>2.15</td>\n      <td>NaN</td>\n    </tr>\n    <tr>\n      <th>2022-06-20</th>\n      <td>1.65</td>\n      <td>2.15</td>\n      <td>NaN</td>\n    </tr>\n    <tr>\n      <th>2022-06-17</th>\n      <td>1.65</td>\n      <td>2.15</td>\n      <td>NaN</td>\n    </tr>\n    <tr>\n      <th>2022-06-16</th>\n      <td>1.65</td>\n      <td>1.65</td>\n      <td>NaN</td>\n    </tr>\n    <tr>\n      <th>2022-06-15</th>\n      <td>1.65</td>\n      <td>1.65</td>\n      <td>NaN</td>\n    </tr>\n    <tr>\n      <th>2022-06-14</th>\n      <td>1.65</td>\n      <td>1.65</td>\n      <td>NaN</td>\n    </tr>\n    <tr>\n      <th>2022-06-13</th>\n      <td>1.65</td>\n      <td>1.65</td>\n      <td>NaN</td>\n    </tr>\n    <tr>\n      <th>2022-06-10</th>\n      <td>1.65</td>\n      <td>1.65</td>\n      <td>NaN</td>\n    </tr>\n    <tr>\n      <th>2022-06-09</th>\n      <td>1.65</td>\n      <td>1.65</td>\n      <td>NaN</td>\n    </tr>\n    <tr>\n      <th>2022-06-08</th>\n      <td>1.65</td>\n      <td>1.65</td>\n      <td>NaN</td>\n    </tr>\n  </tbody>\n</table>\n</div>"
     },
     "execution_count": 19,
     "metadata": {},
     "output_type": "execute_result"
    }
   ],
   "source": [
    "dfinterest.head(60)"
   ]
  },
  {
   "cell_type": "markdown",
   "id": "53f719dd",
   "metadata": {},
   "source": [
    "The Bobc 7 days rate and the monetary policy rate are the same for most records where the monetary policy rate exists. There are only 84 monetary policy rate records compared to the 3667 records of the 7 day bobc rates. Based on the fact that the two fields are mostly similar and the monetary policy rate column is very small, a decision is made to drop the monetary policy rate field.\n",
    "\n",
    "For the 1 month BoBc, the records are even fewer at 33. But the difference is the values are definitely different from those of the Bobc 7 days. Since they are a bit different, bobc 1 month records will be kept with the missing values replaced by 0. But they could still be deleted altogether farther down the road of this analysis."
   ]
  },
  {
   "cell_type": "code",
   "execution_count": 20,
   "id": "4e657c11",
   "metadata": {},
   "outputs": [],
   "source": [
    "# Deleting the column for Monetary Policy Rate\n",
    "dfinterest.drop('Monetary Policy Rate', axis=1, inplace=True)"
   ]
  },
  {
   "cell_type": "code",
   "execution_count": 21,
   "id": "d00d8080",
   "metadata": {},
   "outputs": [],
   "source": [
    "# Filling the missing values for column bobc 1 month with zeros (Remember: There were no missing values for 7 Day Bobc)\n",
    "dfinterest.fillna(0, inplace=True)"
   ]
  },
  {
   "cell_type": "code",
   "execution_count": 22,
   "id": "bee2def6",
   "metadata": {},
   "outputs": [
    {
     "name": "stdout",
     "output_type": "stream",
     "text": [
      "<class 'pandas.core.frame.DataFrame'>\n",
      "DatetimeIndex: 3667 entries, 2022-09-02 to 2008-01-08\n",
      "Data columns (total 2 columns):\n",
      " #   Column        Non-Null Count  Dtype  \n",
      "---  ------        --------------  -----  \n",
      " 0   7 Day Bobc    3667 non-null   float64\n",
      " 1   1 Month BoBC  3667 non-null   float64\n",
      "dtypes: float64(2)\n",
      "memory usage: 85.9 KB\n"
     ]
    }
   ],
   "source": [
    "dfinterest.info()"
   ]
  },
  {
   "cell_type": "markdown",
   "id": "5a25b355",
   "metadata": {},
   "source": [
    "<h3>Exchange Rates Data</h3>"
   ]
  },
  {
   "cell_type": "markdown",
   "id": "4cb7b62b",
   "metadata": {},
   "source": [
    "Exchange Rates Data available consists of exchange rates for pula to Chinese YUAN, Euro, British Pound, US Dollars, SPECIAL DRAWING RIGHTS, Japanese YEN, AND THE SOUTH AFRICAN RAND.\n",
    "\n",
    "Fluctuations in this data is known to have an effect on inflation. Lets take a quick look at the data"
   ]
  },
  {
   "cell_type": "code",
   "execution_count": 23,
   "id": "443f4792",
   "metadata": {},
   "outputs": [
    {
     "data": {
      "text/plain": "             Date     CHN     EUR     GBP     USD     SDR    YEN     ZAR\n0     02 Sep 2022  0.5340  0.0775  0.0670  0.0772  0.0595  10.84  1.3355\n1     01 Sep 2022  0.5359  0.0774  0.0670  0.0775  0.0596  10.80  1.3333\n2     31 Aug 2022  0.5395  0.0779  0.0669  0.0782  0.0599  10.82  1.3234\n3     30 Aug 2022  0.5420  0.0783  0.0669  0.0783  0.0601  10.85  1.3191\n4     29 Aug 2022  0.5405  0.0785  0.0669  0.0780  0.0600  10.83  1.3216\n...           ...     ...     ...     ...     ...     ...    ...     ...\n5373  23 Apr 2009  0.0000  0.1027  0.0919  0.1339  0.0901  13.13  1.1929\n5374  22 Apr 2009  0.0000  0.1027  0.0907  0.1329  0.0897  13.08  1.1972\n5375  29 Apr 2009  0.0000  0.1037  0.0930  0.1368  0.0915  13.25  1.1804\n5376  28 Apr 2009  0.0000  0.1034  0.0924  0.1346  0.0904  12.90  1.1902\n5377  27 Apr 2009  0.0000  0.1023  0.0923  0.1345  0.0901  13.01  1.1929\n\n[5378 rows x 8 columns]",
      "text/html": "<div>\n<style scoped>\n    .dataframe tbody tr th:only-of-type {\n        vertical-align: middle;\n    }\n\n    .dataframe tbody tr th {\n        vertical-align: top;\n    }\n\n    .dataframe thead th {\n        text-align: right;\n    }\n</style>\n<table border=\"1\" class=\"dataframe\">\n  <thead>\n    <tr style=\"text-align: right;\">\n      <th></th>\n      <th>Date</th>\n      <th>CHN</th>\n      <th>EUR</th>\n      <th>GBP</th>\n      <th>USD</th>\n      <th>SDR</th>\n      <th>YEN</th>\n      <th>ZAR</th>\n    </tr>\n  </thead>\n  <tbody>\n    <tr>\n      <th>0</th>\n      <td>02 Sep 2022</td>\n      <td>0.5340</td>\n      <td>0.0775</td>\n      <td>0.0670</td>\n      <td>0.0772</td>\n      <td>0.0595</td>\n      <td>10.84</td>\n      <td>1.3355</td>\n    </tr>\n    <tr>\n      <th>1</th>\n      <td>01 Sep 2022</td>\n      <td>0.5359</td>\n      <td>0.0774</td>\n      <td>0.0670</td>\n      <td>0.0775</td>\n      <td>0.0596</td>\n      <td>10.80</td>\n      <td>1.3333</td>\n    </tr>\n    <tr>\n      <th>2</th>\n      <td>31 Aug 2022</td>\n      <td>0.5395</td>\n      <td>0.0779</td>\n      <td>0.0669</td>\n      <td>0.0782</td>\n      <td>0.0599</td>\n      <td>10.82</td>\n      <td>1.3234</td>\n    </tr>\n    <tr>\n      <th>3</th>\n      <td>30 Aug 2022</td>\n      <td>0.5420</td>\n      <td>0.0783</td>\n      <td>0.0669</td>\n      <td>0.0783</td>\n      <td>0.0601</td>\n      <td>10.85</td>\n      <td>1.3191</td>\n    </tr>\n    <tr>\n      <th>4</th>\n      <td>29 Aug 2022</td>\n      <td>0.5405</td>\n      <td>0.0785</td>\n      <td>0.0669</td>\n      <td>0.0780</td>\n      <td>0.0600</td>\n      <td>10.83</td>\n      <td>1.3216</td>\n    </tr>\n    <tr>\n      <th>...</th>\n      <td>...</td>\n      <td>...</td>\n      <td>...</td>\n      <td>...</td>\n      <td>...</td>\n      <td>...</td>\n      <td>...</td>\n      <td>...</td>\n    </tr>\n    <tr>\n      <th>5373</th>\n      <td>23 Apr 2009</td>\n      <td>0.0000</td>\n      <td>0.1027</td>\n      <td>0.0919</td>\n      <td>0.1339</td>\n      <td>0.0901</td>\n      <td>13.13</td>\n      <td>1.1929</td>\n    </tr>\n    <tr>\n      <th>5374</th>\n      <td>22 Apr 2009</td>\n      <td>0.0000</td>\n      <td>0.1027</td>\n      <td>0.0907</td>\n      <td>0.1329</td>\n      <td>0.0897</td>\n      <td>13.08</td>\n      <td>1.1972</td>\n    </tr>\n    <tr>\n      <th>5375</th>\n      <td>29 Apr 2009</td>\n      <td>0.0000</td>\n      <td>0.1037</td>\n      <td>0.0930</td>\n      <td>0.1368</td>\n      <td>0.0915</td>\n      <td>13.25</td>\n      <td>1.1804</td>\n    </tr>\n    <tr>\n      <th>5376</th>\n      <td>28 Apr 2009</td>\n      <td>0.0000</td>\n      <td>0.1034</td>\n      <td>0.0924</td>\n      <td>0.1346</td>\n      <td>0.0904</td>\n      <td>12.90</td>\n      <td>1.1902</td>\n    </tr>\n    <tr>\n      <th>5377</th>\n      <td>27 Apr 2009</td>\n      <td>0.0000</td>\n      <td>0.1023</td>\n      <td>0.0923</td>\n      <td>0.1345</td>\n      <td>0.0901</td>\n      <td>13.01</td>\n      <td>1.1929</td>\n    </tr>\n  </tbody>\n</table>\n<p>5378 rows × 8 columns</p>\n</div>"
     },
     "execution_count": 23,
     "metadata": {},
     "output_type": "execute_result"
    }
   ],
   "source": [
    "dfexchange"
   ]
  },
  {
   "cell_type": "code",
   "execution_count": 24,
   "id": "8804e29e",
   "metadata": {},
   "outputs": [
    {
     "name": "stdout",
     "output_type": "stream",
     "text": [
      "<class 'pandas.core.frame.DataFrame'>\n",
      "RangeIndex: 5378 entries, 0 to 5377\n",
      "Data columns (total 8 columns):\n",
      " #   Column  Non-Null Count  Dtype  \n",
      "---  ------  --------------  -----  \n",
      " 0   Date    5378 non-null   object \n",
      " 1   CHN     5378 non-null   float64\n",
      " 2   EUR     5378 non-null   float64\n",
      " 3   GBP     5378 non-null   float64\n",
      " 4   USD     5378 non-null   float64\n",
      " 5   SDR     5378 non-null   float64\n",
      " 6   YEN     5378 non-null   float64\n",
      " 7   ZAR     5378 non-null   float64\n",
      "dtypes: float64(7), object(1)\n",
      "memory usage: 336.2+ KB\n"
     ]
    }
   ],
   "source": [
    "dfexchange.info()"
   ]
  },
  {
   "cell_type": "markdown",
   "id": "7b4d5720",
   "metadata": {},
   "source": [
    "Once again, the data is on a daily basis but it only begins from April 2009. This means there would be a lot of missing values. A farther analysis will be made to see how these missing values can be addressed. As before, the date will be set as the index for the DataFrame."
   ]
  },
  {
   "cell_type": "code",
   "execution_count": 25,
   "id": "10b88954",
   "metadata": {},
   "outputs": [],
   "source": [
    "#Renaming column with date to 'date' and setting it as the index for the DataFrame\n",
    "dfexchange.rename(columns={'Date':'date'}, inplace=True)\n",
    "\n",
    "dfexchange['date'] = pd.to_datetime(dfexchange['date'])\n",
    "\n",
    "dfexchange.set_index('date', inplace=True)"
   ]
  },
  {
   "cell_type": "markdown",
   "id": "31a817bc",
   "metadata": {},
   "source": [
    "Perhaps we can replace the missing values with the average for 2009-2010. Assuming there are not too many outliers. Lets see the distribution of the values for 2009-2010"
   ]
  },
  {
   "cell_type": "code",
   "execution_count": 26,
   "id": "3e8f1f7e",
   "metadata": {},
   "outputs": [
    {
     "name": "stderr",
     "output_type": "stream",
     "text": [
      "C:\\Users\\ituser\\anaconda3\\lib\\site-packages\\pandas\\core\\indexes\\datetimes.py:770: UserWarning: Parsing '31-12-2009' in DD/MM/YYYY format. Provide format or specify infer_datetime_format=True for consistent parsing.\n",
      "  end_casted = self._maybe_cast_slice_bound(end, \"right\")\n",
      "C:\\Users\\ituser\\AppData\\Local\\Temp\\ipykernel_11464\\3831437251.py:2: FutureWarning: Value based partial slicing on non-monotonic DatetimeIndexes with non-existing keys is deprecated and will raise a KeyError in a future Version.\n",
      "  dfexchange.loc['01-04-2009':'31-12-2009'].boxplot()\n"
     ]
    },
    {
     "data": {
      "text/plain": "<AxesSubplot:>"
     },
     "execution_count": 26,
     "metadata": {},
     "output_type": "execute_result"
    },
    {
     "data": {
      "text/plain": "<Figure size 2000x2000 with 1 Axes>",
      "image/png": "[encoded data removed]"
     },
     "metadata": {},
     "output_type": "display_data"
    }
   ],
   "source": [
    "plt.figure(figsize=(20,20))\n",
    "dfexchange.loc['01-04-2009':'31-12-2009'].boxplot()\n",
    "\n"
   ]
  },
  {
   "cell_type": "markdown",
   "id": "af975905",
   "metadata": {},
   "source": [
    "Most of the entries dont vary much with the Japanese Yen having the largest variance. Lets see the basic statistics for the dataset."
   ]
  },
  {
   "cell_type": "code",
   "execution_count": 27,
   "id": "e2248e3b",
   "metadata": {},
   "outputs": [
    {
     "name": "stderr",
     "output_type": "stream",
     "text": [
      "C:\\Users\\ituser\\anaconda3\\lib\\site-packages\\pandas\\core\\indexes\\datetimes.py:770: UserWarning: Parsing '31-12-2009' in DD/MM/YYYY format. Provide format or specify infer_datetime_format=True for consistent parsing.\n",
      "  end_casted = self._maybe_cast_slice_bound(end, \"right\")\n",
      "C:\\Users\\ituser\\AppData\\Local\\Temp\\ipykernel_11464\\950275893.py:1: FutureWarning: Value based partial slicing on non-monotonic DatetimeIndexes with non-existing keys is deprecated and will raise a KeyError in a future Version.\n",
      "  dfexchange.loc['01-04-2009':'31-12-2009'].describe()\n"
     ]
    },
    {
     "data": {
      "text/plain": "         CHN         EUR         GBP         USD         SDR         YEN  \\\ncount  248.0  248.000000  248.000000  248.000000  248.000000  248.000000   \nmean     0.0    0.100726    0.089723    0.140546    0.091038   13.127500   \nstd      0.0    0.002667    0.002385    0.009829    0.004191    0.846766   \nmin      0.0    0.094300    0.084700    0.120000    0.082300   11.030000   \n25%      0.0    0.098575    0.087900    0.131700    0.087100   12.812500   \n50%      0.0    0.101500    0.089700    0.143850    0.092800   13.430000   \n75%      0.0    0.102725    0.091400    0.149025    0.094325   13.762500   \nmax      0.0    0.105200    0.096500    0.153900    0.096400   14.190000   \n\n              ZAR  \ncount  248.000000  \nmean     1.175903  \nstd      0.051920  \nmin      1.108600  \n25%      1.130075  \n50%      1.158900  \n75%      1.230450  \nmax      1.277600  ",
      "text/html": "<div>\n<style scoped>\n    .dataframe tbody tr th:only-of-type {\n        vertical-align: middle;\n    }\n\n    .dataframe tbody tr th {\n        vertical-align: top;\n    }\n\n    .dataframe thead th {\n        text-align: right;\n    }\n</style>\n<table border=\"1\" class=\"dataframe\">\n  <thead>\n    <tr style=\"text-align: right;\">\n      <th></th>\n      <th>CHN</th>\n      <th>EUR</th>\n      <th>GBP</th>\n      <th>USD</th>\n      <th>SDR</th>\n      <th>YEN</th>\n      <th>ZAR</th>\n    </tr>\n  </thead>\n  <tbody>\n    <tr>\n      <th>count</th>\n      <td>248.0</td>\n      <td>248.000000</td>\n      <td>248.000000</td>\n      <td>248.000000</td>\n      <td>248.000000</td>\n      <td>248.000000</td>\n      <td>248.000000</td>\n    </tr>\n    <tr>\n      <th>mean</th>\n      <td>0.0</td>\n      <td>0.100726</td>\n      <td>0.089723</td>\n      <td>0.140546</td>\n      <td>0.091038</td>\n      <td>13.127500</td>\n      <td>1.175903</td>\n    </tr>\n    <tr>\n      <th>std</th>\n      <td>0.0</td>\n      <td>0.002667</td>\n      <td>0.002385</td>\n      <td>0.009829</td>\n      <td>0.004191</td>\n      <td>0.846766</td>\n      <td>0.051920</td>\n    </tr>\n    <tr>\n      <th>min</th>\n      <td>0.0</td>\n      <td>0.094300</td>\n      <td>0.084700</td>\n      <td>0.120000</td>\n      <td>0.082300</td>\n      <td>11.030000</td>\n      <td>1.108600</td>\n    </tr>\n    <tr>\n      <th>25%</th>\n      <td>0.0</td>\n      <td>0.098575</td>\n      <td>0.087900</td>\n      <td>0.131700</td>\n      <td>0.087100</td>\n      <td>12.812500</td>\n      <td>1.130075</td>\n    </tr>\n    <tr>\n      <th>50%</th>\n      <td>0.0</td>\n      <td>0.101500</td>\n      <td>0.089700</td>\n      <td>0.143850</td>\n      <td>0.092800</td>\n      <td>13.430000</td>\n      <td>1.158900</td>\n    </tr>\n    <tr>\n      <th>75%</th>\n      <td>0.0</td>\n      <td>0.102725</td>\n      <td>0.091400</td>\n      <td>0.149025</td>\n      <td>0.094325</td>\n      <td>13.762500</td>\n      <td>1.230450</td>\n    </tr>\n    <tr>\n      <th>max</th>\n      <td>0.0</td>\n      <td>0.105200</td>\n      <td>0.096500</td>\n      <td>0.153900</td>\n      <td>0.096400</td>\n      <td>14.190000</td>\n      <td>1.277600</td>\n    </tr>\n  </tbody>\n</table>\n</div>"
     },
     "execution_count": 27,
     "metadata": {},
     "output_type": "execute_result"
    }
   ],
   "source": [
    "dfexchange.loc['01-04-2009':'31-12-2009'].describe()"
   ]
  },
  {
   "cell_type": "markdown",
   "id": "0cbb8cb2",
   "metadata": {},
   "source": [
    "It can be seen as expected that the YEN has by far the highest standard deviation of 0.85. All other fields have a standard deviation less than 0.05. Nevertheless, the mean of the entries in 2009 will be used to fill missing values upto 2008. \n",
    "\n",
    "This will be done once the datasets have been merged."
   ]
  },
  {
   "cell_type": "markdown",
   "id": "1d48a28b",
   "metadata": {},
   "source": [
    "<h3>Merging the Datasets</h3>"
   ]
  },
  {
   "cell_type": "markdown",
   "id": "f8c34455",
   "metadata": {},
   "source": [
    "The datasets for inflation, exchange rates and interest rates are now ready to be merged based on date. The challenge will be that inflation is recorded monthly while exchange rates and interest rates are recorded daily. \n",
    "\n",
    "The approach will be to fill the inflation dataset with the previous recorded inflation (Backfill)."
   ]
  },
  {
   "cell_type": "code",
   "execution_count": 28,
   "id": "79fecbf2",
   "metadata": {},
   "outputs": [],
   "source": [
    "df = dfinterest.merge(dfexchange, on='date', how='outer')"
   ]
  },
  {
   "cell_type": "code",
   "execution_count": 29,
   "id": "a90c5e85",
   "metadata": {},
   "outputs": [],
   "source": [
    "df = df.merge(dfinflation, on='date', how='outer')"
   ]
  },
  {
   "cell_type": "code",
   "execution_count": 30,
   "id": "b1d5c2ec",
   "metadata": {},
   "outputs": [
    {
     "data": {
      "text/plain": "            7 Day Bobc  1 Month BoBC     CHN     EUR     GBP     USD     SDR  \\\ndate                                                                           \n2022-09-02        2.65          2.43  0.5340  0.0775  0.0670  0.0772  0.0595   \n2022-09-01        2.65          2.43  0.5359  0.0774  0.0670  0.0775  0.0596   \n2022-08-31        2.65          2.43  0.5395  0.0779  0.0669  0.0782  0.0599   \n2022-08-30        2.15          2.43  0.5420  0.0783  0.0669  0.0783  0.0601   \n2022-08-29        2.15          2.43  0.5405  0.0785  0.0669  0.0780  0.0600   \n...                ...           ...     ...     ...     ...     ...     ...   \n2008-05-01         NaN           NaN     NaN     NaN     NaN     NaN     NaN   \n2008-06-01         NaN           NaN     NaN     NaN     NaN     NaN     NaN   \n2008-07-01         NaN           NaN     NaN     NaN     NaN     NaN     NaN   \n2008-03-01         NaN           NaN     NaN     NaN     NaN     NaN     NaN   \n2008-01-01         NaN           NaN     NaN     NaN     NaN     NaN     NaN   \n\n              YEN     ZAR   CPI  CPIT  CPIXA  \ndate                                          \n2022-09-02  10.84  1.3355   NaN   NaN    NaN  \n2022-09-01  10.80  1.3333   NaN   NaN    NaN  \n2022-08-31  10.82  1.3234   NaN   NaN    NaN  \n2022-08-30  10.85  1.3191   NaN   NaN    NaN  \n2022-08-29  10.83  1.3216   NaN   NaN    NaN  \n...           ...     ...   ...   ...    ...  \n2008-05-01    NaN     NaN  12.1  11.0    9.1  \n2008-06-01    NaN     NaN  14.5  12.5    9.8  \n2008-07-01    NaN     NaN  15.0  12.7   11.1  \n2008-03-01    NaN     NaN   9.8   9.7    8.9  \n2008-01-01    NaN     NaN   8.4   7.9    7.2  \n\n[5507 rows x 12 columns]",
      "text/html": "<div>\n<style scoped>\n    .dataframe tbody tr th:only-of-type {\n        vertical-align: middle;\n    }\n\n    .dataframe tbody tr th {\n        vertical-align: top;\n    }\n\n    .dataframe thead th {\n        text-align: right;\n    }\n</style>\n<table border=\"1\" class=\"dataframe\">\n  <thead>\n    <tr style=\"text-align: right;\">\n      <th></th>\n      <th>7 Day Bobc</th>\n      <th>1 Month BoBC</th>\n      <th>CHN</th>\n      <th>EUR</th>\n      <th>GBP</th>\n      <th>USD</th>\n      <th>SDR</th>\n      <th>YEN</th>\n      <th>ZAR</th>\n      <th>CPI</th>\n      <th>CPIT</th>\n      <th>CPIXA</th>\n    </tr>\n    <tr>\n      <th>date</th>\n      <th></th>\n      <th></th>\n      <th></th>\n      <th></th>\n      <th></th>\n      <th></th>\n      <th></th>\n      <th></th>\n      <th></th>\n      <th></th>\n      <th></th>\n      <th></th>\n    </tr>\n  </thead>\n  <tbody>\n    <tr>\n      <th>2022-09-02</th>\n      <td>2.65</td>\n      <td>2.43</td>\n      <td>0.5340</td>\n      <td>0.0775</td>\n      <td>0.0670</td>\n      <td>0.0772</td>\n      <td>0.0595</td>\n      <td>10.84</td>\n      <td>1.3355</td>\n      <td>NaN</td>\n      <td>NaN</td>\n      <td>NaN</td>\n    </tr>\n    <tr>\n      <th>2022-09-01</th>\n      <td>2.65</td>\n      <td>2.43</td>\n      <td>0.5359</td>\n      <td>0.0774</td>\n      <td>0.0670</td>\n      <td>0.0775</td>\n      <td>0.0596</td>\n      <td>10.80</td>\n      <td>1.3333</td>\n      <td>NaN</td>\n      <td>NaN</td>\n      <td>NaN</td>\n    </tr>\n    <tr>\n      <th>2022-08-31</th>\n      <td>2.65</td>\n      <td>2.43</td>\n      <td>0.5395</td>\n      <td>0.0779</td>\n      <td>0.0669</td>\n      <td>0.0782</td>\n      <td>0.0599</td>\n      <td>10.82</td>\n      <td>1.3234</td>\n      <td>NaN</td>\n      <td>NaN</td>\n      <td>NaN</td>\n    </tr>\n    <tr>\n      <th>2022-08-30</th>\n      <td>2.15</td>\n      <td>2.43</td>\n      <td>0.5420</td>\n      <td>0.0783</td>\n      <td>0.0669</td>\n      <td>0.0783</td>\n      <td>0.0601</td>\n      <td>10.85</td>\n      <td>1.3191</td>\n      <td>NaN</td>\n      <td>NaN</td>\n      <td>NaN</td>\n    </tr>\n    <tr>\n      <th>2022-08-29</th>\n      <td>2.15</td>\n      <td>2.43</td>\n      <td>0.5405</td>\n      <td>0.0785</td>\n      <td>0.0669</td>\n      <td>0.0780</td>\n      <td>0.0600</td>\n      <td>10.83</td>\n      <td>1.3216</td>\n      <td>NaN</td>\n      <td>NaN</td>\n      <td>NaN</td>\n    </tr>\n    <tr>\n      <th>...</th>\n      <td>...</td>\n      <td>...</td>\n      <td>...</td>\n      <td>...</td>\n      <td>...</td>\n      <td>...</td>\n      <td>...</td>\n      <td>...</td>\n      <td>...</td>\n      <td>...</td>\n      <td>...</td>\n      <td>...</td>\n    </tr>\n    <tr>\n      <th>2008-05-01</th>\n      <td>NaN</td>\n      <td>NaN</td>\n      <td>NaN</td>\n      <td>NaN</td>\n      <td>NaN</td>\n      <td>NaN</td>\n      <td>NaN</td>\n      <td>NaN</td>\n      <td>NaN</td>\n      <td>12.1</td>\n      <td>11.0</td>\n      <td>9.1</td>\n    </tr>\n    <tr>\n      <th>2008-06-01</th>\n      <td>NaN</td>\n      <td>NaN</td>\n      <td>NaN</td>\n      <td>NaN</td>\n      <td>NaN</td>\n      <td>NaN</td>\n      <td>NaN</td>\n      <td>NaN</td>\n      <td>NaN</td>\n      <td>14.5</td>\n      <td>12.5</td>\n      <td>9.8</td>\n    </tr>\n    <tr>\n      <th>2008-07-01</th>\n      <td>NaN</td>\n      <td>NaN</td>\n      <td>NaN</td>\n      <td>NaN</td>\n      <td>NaN</td>\n      <td>NaN</td>\n      <td>NaN</td>\n      <td>NaN</td>\n      <td>NaN</td>\n      <td>15.0</td>\n      <td>12.7</td>\n      <td>11.1</td>\n    </tr>\n    <tr>\n      <th>2008-03-01</th>\n      <td>NaN</td>\n      <td>NaN</td>\n      <td>NaN</td>\n      <td>NaN</td>\n      <td>NaN</td>\n      <td>NaN</td>\n      <td>NaN</td>\n      <td>NaN</td>\n      <td>NaN</td>\n      <td>9.8</td>\n      <td>9.7</td>\n      <td>8.9</td>\n    </tr>\n    <tr>\n      <th>2008-01-01</th>\n      <td>NaN</td>\n      <td>NaN</td>\n      <td>NaN</td>\n      <td>NaN</td>\n      <td>NaN</td>\n      <td>NaN</td>\n      <td>NaN</td>\n      <td>NaN</td>\n      <td>NaN</td>\n      <td>8.4</td>\n      <td>7.9</td>\n      <td>7.2</td>\n    </tr>\n  </tbody>\n</table>\n<p>5507 rows × 12 columns</p>\n</div>"
     },
     "execution_count": 30,
     "metadata": {},
     "output_type": "execute_result"
    }
   ],
   "source": [
    "df"
   ]
  },
  {
   "cell_type": "code",
   "execution_count": 31,
   "id": "fd736387",
   "metadata": {},
   "outputs": [
    {
     "name": "stdout",
     "output_type": "stream",
     "text": [
      "<class 'pandas.core.frame.DataFrame'>\n",
      "DatetimeIndex: 5507 entries, 2022-09-02 to 2008-01-01\n",
      "Data columns (total 12 columns):\n",
      " #   Column        Non-Null Count  Dtype  \n",
      "---  ------        --------------  -----  \n",
      " 0   7 Day Bobc    3670 non-null   float64\n",
      " 1   1 Month BoBC  3670 non-null   float64\n",
      " 2   CHN           5384 non-null   float64\n",
      " 3   EUR           5384 non-null   float64\n",
      " 4   GBP           5384 non-null   float64\n",
      " 5   USD           5384 non-null   float64\n",
      " 6   SDR           5384 non-null   float64\n",
      " 7   YEN           5384 non-null   float64\n",
      " 8   ZAR           5384 non-null   float64\n",
      " 9   CPI           175 non-null    float64\n",
      " 10  CPIT          175 non-null    float64\n",
      " 11  CPIXA         175 non-null    float64\n",
      "dtypes: float64(12)\n",
      "memory usage: 559.3 KB\n"
     ]
    }
   ],
   "source": [
    "df.info()"
   ]
  },
  {
   "cell_type": "code",
   "execution_count": 32,
   "id": "84960d68",
   "metadata": {},
   "outputs": [
    {
     "data": {
      "text/plain": "7 Day Bobc      1837\n1 Month BoBC    1837\nCHN              123\nEUR              123\nGBP              123\nUSD              123\nSDR              123\nYEN              123\nZAR              123\nCPI             5332\nCPIT            5332\nCPIXA           5332\ndtype: int64"
     },
     "execution_count": 32,
     "metadata": {},
     "output_type": "execute_result"
    }
   ],
   "source": [
    "df.isnull().sum()"
   ]
  },
  {
   "cell_type": "code",
   "execution_count": 33,
   "id": "7644be28",
   "metadata": {},
   "outputs": [
    {
     "name": "stderr",
     "output_type": "stream",
     "text": [
      "C:\\Users\\ituser\\anaconda3\\lib\\site-packages\\pandas\\core\\indexes\\datetimes.py:770: UserWarning: Parsing '31-12-2009' in DD/MM/YYYY format. Provide format or specify infer_datetime_format=True for consistent parsing.\n",
      "  end_casted = self._maybe_cast_slice_bound(end, \"right\")\n",
      "C:\\Users\\ituser\\AppData\\Local\\Temp\\ipykernel_11464\\3793513023.py:1: FutureWarning: Value based partial slicing on non-monotonic DatetimeIndexes with non-existing keys is deprecated and will raise a KeyError in a future Version.\n",
      "  dfexchange.loc['01-04-2009':'31-12-2009']\n"
     ]
    },
    {
     "data": {
      "text/plain": "            CHN     EUR     GBP     USD     SDR    YEN     ZAR\ndate                                                          \n2009-11-25  0.0  0.1011  0.0911  0.1515  0.0944  13.38  1.1245\n2009-11-26  0.0  0.1011  0.0915  0.1527  0.0946  13.25  1.1227\n2009-11-27  0.0  0.1002  0.0912  0.1495  0.0931  12.86  1.1341\n2009-11-30  0.0  0.1012  0.0921  0.1523  0.0945  13.14  1.1230\n2009-12-04  0.0  0.1007  0.0917  0.1517  0.0944  13.38  1.1231\n...         ...     ...     ...     ...     ...    ...     ...\n2009-04-23  0.0  0.1027  0.0919  0.1339  0.0901  13.13  1.1929\n2009-04-22  0.0  0.1027  0.0907  0.1329  0.0897  13.08  1.1972\n2009-04-29  0.0  0.1037  0.0930  0.1368  0.0915  13.25  1.1804\n2009-04-28  0.0  0.1034  0.0924  0.1346  0.0904  12.90  1.1902\n2009-04-27  0.0  0.1023  0.0923  0.1345  0.0901  13.01  1.1929\n\n[248 rows x 7 columns]",
      "text/html": "<div>\n<style scoped>\n    .dataframe tbody tr th:only-of-type {\n        vertical-align: middle;\n    }\n\n    .dataframe tbody tr th {\n        vertical-align: top;\n    }\n\n    .dataframe thead th {\n        text-align: right;\n    }\n</style>\n<table border=\"1\" class=\"dataframe\">\n  <thead>\n    <tr style=\"text-align: right;\">\n      <th></th>\n      <th>CHN</th>\n      <th>EUR</th>\n      <th>GBP</th>\n      <th>USD</th>\n      <th>SDR</th>\n      <th>YEN</th>\n      <th>ZAR</th>\n    </tr>\n    <tr>\n      <th>date</th>\n      <th></th>\n      <th></th>\n      <th></th>\n      <th></th>\n      <th></th>\n      <th></th>\n      <th></th>\n    </tr>\n  </thead>\n  <tbody>\n    <tr>\n      <th>2009-11-25</th>\n      <td>0.0</td>\n      <td>0.1011</td>\n      <td>0.0911</td>\n      <td>0.1515</td>\n      <td>0.0944</td>\n      <td>13.38</td>\n      <td>1.1245</td>\n    </tr>\n    <tr>\n      <th>2009-11-26</th>\n      <td>0.0</td>\n      <td>0.1011</td>\n      <td>0.0915</td>\n      <td>0.1527</td>\n      <td>0.0946</td>\n      <td>13.25</td>\n      <td>1.1227</td>\n    </tr>\n    <tr>\n      <th>2009-11-27</th>\n      <td>0.0</td>\n      <td>0.1002</td>\n      <td>0.0912</td>\n      <td>0.1495</td>\n      <td>0.0931</td>\n      <td>12.86</td>\n      <td>1.1341</td>\n    </tr>\n    <tr>\n      <th>2009-11-30</th>\n      <td>0.0</td>\n      <td>0.1012</td>\n      <td>0.0921</td>\n      <td>0.1523</td>\n      <td>0.0945</td>\n      <td>13.14</td>\n      <td>1.1230</td>\n    </tr>\n    <tr>\n      <th>2009-12-04</th>\n      <td>0.0</td>\n      <td>0.1007</td>\n      <td>0.0917</td>\n      <td>0.1517</td>\n      <td>0.0944</td>\n      <td>13.38</td>\n      <td>1.1231</td>\n    </tr>\n    <tr>\n      <th>...</th>\n      <td>...</td>\n      <td>...</td>\n      <td>...</td>\n      <td>...</td>\n      <td>...</td>\n      <td>...</td>\n      <td>...</td>\n    </tr>\n    <tr>\n      <th>2009-04-23</th>\n      <td>0.0</td>\n      <td>0.1027</td>\n      <td>0.0919</td>\n      <td>0.1339</td>\n      <td>0.0901</td>\n      <td>13.13</td>\n      <td>1.1929</td>\n    </tr>\n    <tr>\n      <th>2009-04-22</th>\n      <td>0.0</td>\n      <td>0.1027</td>\n      <td>0.0907</td>\n      <td>0.1329</td>\n      <td>0.0897</td>\n      <td>13.08</td>\n      <td>1.1972</td>\n    </tr>\n    <tr>\n      <th>2009-04-29</th>\n      <td>0.0</td>\n      <td>0.1037</td>\n      <td>0.0930</td>\n      <td>0.1368</td>\n      <td>0.0915</td>\n      <td>13.25</td>\n      <td>1.1804</td>\n    </tr>\n    <tr>\n      <th>2009-04-28</th>\n      <td>0.0</td>\n      <td>0.1034</td>\n      <td>0.0924</td>\n      <td>0.1346</td>\n      <td>0.0904</td>\n      <td>12.90</td>\n      <td>1.1902</td>\n    </tr>\n    <tr>\n      <th>2009-04-27</th>\n      <td>0.0</td>\n      <td>0.1023</td>\n      <td>0.0923</td>\n      <td>0.1345</td>\n      <td>0.0901</td>\n      <td>13.01</td>\n      <td>1.1929</td>\n    </tr>\n  </tbody>\n</table>\n<p>248 rows × 7 columns</p>\n</div>"
     },
     "execution_count": 33,
     "metadata": {},
     "output_type": "execute_result"
    }
   ],
   "source": [
    "dfexchange.loc['01-04-2009':'31-12-2009']"
   ]
  },
  {
   "cell_type": "code",
   "execution_count": 34,
   "id": "9a582bef",
   "metadata": {},
   "outputs": [
    {
     "name": "stderr",
     "output_type": "stream",
     "text": [
      "C:\\Users\\ituser\\anaconda3\\lib\\site-packages\\pandas\\core\\indexes\\datetimes.py:770: UserWarning: Parsing '31-12-2009' in DD/MM/YYYY format. Provide format or specify infer_datetime_format=True for consistent parsing.\n",
      "  end_casted = self._maybe_cast_slice_bound(end, \"right\")\n",
      "C:\\Users\\ituser\\AppData\\Local\\Temp\\ipykernel_11464\\2420668339.py:1: FutureWarning: Value based partial slicing on non-monotonic DatetimeIndexes with non-existing keys is deprecated and will raise a KeyError in a future Version.\n",
      "  df['CHN'].fillna(dfexchange.loc['01-04-2009':'31-12-2009']['CHN'].mean(), inplace=True)\n",
      "C:\\Users\\ituser\\AppData\\Local\\Temp\\ipykernel_11464\\2420668339.py:2: FutureWarning: Value based partial slicing on non-monotonic DatetimeIndexes with non-existing keys is deprecated and will raise a KeyError in a future Version.\n",
      "  df['EUR'].fillna(dfexchange.loc['01-04-2009':'31-12-2009']['EUR'].mean(), inplace=True)\n",
      "C:\\Users\\ituser\\AppData\\Local\\Temp\\ipykernel_11464\\2420668339.py:3: FutureWarning: Value based partial slicing on non-monotonic DatetimeIndexes with non-existing keys is deprecated and will raise a KeyError in a future Version.\n",
      "  df['GBP'].fillna(dfexchange.loc['01-04-2009':'31-12-2009']['GBP'].mean(), inplace=True)\n",
      "C:\\Users\\ituser\\AppData\\Local\\Temp\\ipykernel_11464\\2420668339.py:4: FutureWarning: Value based partial slicing on non-monotonic DatetimeIndexes with non-existing keys is deprecated and will raise a KeyError in a future Version.\n",
      "  df['USD'].fillna(dfexchange.loc['01-04-2009':'31-12-2009']['USD'].mean(), inplace=True)\n",
      "C:\\Users\\ituser\\AppData\\Local\\Temp\\ipykernel_11464\\2420668339.py:5: FutureWarning: Value based partial slicing on non-monotonic DatetimeIndexes with non-existing keys is deprecated and will raise a KeyError in a future Version.\n",
      "  df['SDR'].fillna(dfexchange.loc['01-04-2009':'31-12-2009']['SDR'].mean(), inplace=True)\n",
      "C:\\Users\\ituser\\AppData\\Local\\Temp\\ipykernel_11464\\2420668339.py:6: FutureWarning: Value based partial slicing on non-monotonic DatetimeIndexes with non-existing keys is deprecated and will raise a KeyError in a future Version.\n",
      "  df['YEN'].fillna(dfexchange.loc['01-04-2009':'31-12-2009']['YEN'].mean(), inplace=True)\n",
      "C:\\Users\\ituser\\AppData\\Local\\Temp\\ipykernel_11464\\2420668339.py:7: FutureWarning: Value based partial slicing on non-monotonic DatetimeIndexes with non-existing keys is deprecated and will raise a KeyError in a future Version.\n",
      "  df['ZAR'].fillna(dfexchange.loc['01-04-2009':'31-12-2009']['ZAR'].mean(), inplace=True)\n"
     ]
    }
   ],
   "source": [
    "df['CHN'].fillna(dfexchange.loc['01-04-2009':'31-12-2009']['CHN'].mean(), inplace=True)\n",
    "df['EUR'].fillna(dfexchange.loc['01-04-2009':'31-12-2009']['EUR'].mean(), inplace=True)\n",
    "df['GBP'].fillna(dfexchange.loc['01-04-2009':'31-12-2009']['GBP'].mean(), inplace=True)\n",
    "df['USD'].fillna(dfexchange.loc['01-04-2009':'31-12-2009']['USD'].mean(), inplace=True)\n",
    "df['SDR'].fillna(dfexchange.loc['01-04-2009':'31-12-2009']['SDR'].mean(), inplace=True)\n",
    "df['YEN'].fillna(dfexchange.loc['01-04-2009':'31-12-2009']['YEN'].mean(), inplace=True)\n",
    "df['ZAR'].fillna(dfexchange.loc['01-04-2009':'31-12-2009']['ZAR'].mean(), inplace=True)"
   ]
  },
  {
   "cell_type": "code",
   "execution_count": 35,
   "id": "432f81f0",
   "metadata": {},
   "outputs": [
    {
     "name": "stdout",
     "output_type": "stream",
     "text": [
      "<class 'pandas.core.frame.DataFrame'>\n",
      "DatetimeIndex: 5507 entries, 2022-09-02 to 2008-01-01\n",
      "Data columns (total 12 columns):\n",
      " #   Column        Non-Null Count  Dtype  \n",
      "---  ------        --------------  -----  \n",
      " 0   7 Day Bobc    3670 non-null   float64\n",
      " 1   1 Month BoBC  3670 non-null   float64\n",
      " 2   CHN           5507 non-null   float64\n",
      " 3   EUR           5507 non-null   float64\n",
      " 4   GBP           5507 non-null   float64\n",
      " 5   USD           5507 non-null   float64\n",
      " 6   SDR           5507 non-null   float64\n",
      " 7   YEN           5507 non-null   float64\n",
      " 8   ZAR           5507 non-null   float64\n",
      " 9   CPI           175 non-null    float64\n",
      " 10  CPIT          175 non-null    float64\n",
      " 11  CPIXA         175 non-null    float64\n",
      "dtypes: float64(12)\n",
      "memory usage: 559.3 KB\n"
     ]
    }
   ],
   "source": [
    "df.info()"
   ]
  },
  {
   "cell_type": "code",
   "execution_count": 36,
   "id": "b2758caf",
   "metadata": {},
   "outputs": [],
   "source": [
    "# Filling missing values using forward fill (ie. for days skipped, the previous day's interest applies)\n",
    "df['7 Day Bobc'].fillna(method='ffill', inplace=True)\n",
    "df['1 Month BoBC'].fillna(method='ffill', inplace=True)"
   ]
  },
  {
   "cell_type": "code",
   "execution_count": 37,
   "id": "621058c5",
   "metadata": {},
   "outputs": [
    {
     "name": "stdout",
     "output_type": "stream",
     "text": [
      "<class 'pandas.core.frame.DataFrame'>\n",
      "DatetimeIndex: 5507 entries, 2022-09-02 to 2008-01-01\n",
      "Data columns (total 12 columns):\n",
      " #   Column        Non-Null Count  Dtype  \n",
      "---  ------        --------------  -----  \n",
      " 0   7 Day Bobc    5507 non-null   float64\n",
      " 1   1 Month BoBC  5507 non-null   float64\n",
      " 2   CHN           5507 non-null   float64\n",
      " 3   EUR           5507 non-null   float64\n",
      " 4   GBP           5507 non-null   float64\n",
      " 5   USD           5507 non-null   float64\n",
      " 6   SDR           5507 non-null   float64\n",
      " 7   YEN           5507 non-null   float64\n",
      " 8   ZAR           5507 non-null   float64\n",
      " 9   CPI           175 non-null    float64\n",
      " 10  CPIT          175 non-null    float64\n",
      " 11  CPIXA         175 non-null    float64\n",
      "dtypes: float64(12)\n",
      "memory usage: 559.3 KB\n"
     ]
    }
   ],
   "source": [
    "df.info()"
   ]
  },
  {
   "cell_type": "code",
   "execution_count": 38,
   "id": "31c3639a",
   "metadata": {},
   "outputs": [],
   "source": [
    "# Firstly a forward fill is done. Then a backward fill will be done as well for the other values\n",
    "df['CPI'].fillna(method='ffill', inplace=True)\n",
    "df['CPIT'].fillna(method='ffill', inplace=True)\n",
    "df['CPIXA'].fillna(method='ffill', inplace=True)"
   ]
  },
  {
   "cell_type": "code",
   "execution_count": 39,
   "id": "38bd581f",
   "metadata": {},
   "outputs": [
    {
     "name": "stdout",
     "output_type": "stream",
     "text": [
      "<class 'pandas.core.frame.DataFrame'>\n",
      "DatetimeIndex: 5507 entries, 2022-09-02 to 2008-01-01\n",
      "Data columns (total 12 columns):\n",
      " #   Column        Non-Null Count  Dtype  \n",
      "---  ------        --------------  -----  \n",
      " 0   7 Day Bobc    5507 non-null   float64\n",
      " 1   1 Month BoBC  5507 non-null   float64\n",
      " 2   CHN           5507 non-null   float64\n",
      " 3   EUR           5507 non-null   float64\n",
      " 4   GBP           5507 non-null   float64\n",
      " 5   USD           5507 non-null   float64\n",
      " 6   SDR           5507 non-null   float64\n",
      " 7   YEN           5507 non-null   float64\n",
      " 8   ZAR           5507 non-null   float64\n",
      " 9   CPI           5443 non-null   float64\n",
      " 10  CPIT          5443 non-null   float64\n",
      " 11  CPIXA         5443 non-null   float64\n",
      "dtypes: float64(12)\n",
      "memory usage: 559.3 KB\n"
     ]
    }
   ],
   "source": [
    "df.info()"
   ]
  },
  {
   "cell_type": "code",
   "execution_count": 40,
   "id": "5576ca5e",
   "metadata": {},
   "outputs": [],
   "source": [
    "df['CPI'].fillna(method='bfill', inplace=True)\n",
    "df['CPIT'].fillna(method='bfill', inplace=True)\n",
    "df['CPIXA'].fillna(method='bfill', inplace=True)"
   ]
  },
  {
   "cell_type": "code",
   "execution_count": 41,
   "id": "f8f60d8d",
   "metadata": {},
   "outputs": [
    {
     "name": "stdout",
     "output_type": "stream",
     "text": [
      "<class 'pandas.core.frame.DataFrame'>\n",
      "DatetimeIndex: 5507 entries, 2022-09-02 to 2008-01-01\n",
      "Data columns (total 12 columns):\n",
      " #   Column        Non-Null Count  Dtype  \n",
      "---  ------        --------------  -----  \n",
      " 0   7 Day Bobc    5507 non-null   float64\n",
      " 1   1 Month BoBC  5507 non-null   float64\n",
      " 2   CHN           5507 non-null   float64\n",
      " 3   EUR           5507 non-null   float64\n",
      " 4   GBP           5507 non-null   float64\n",
      " 5   USD           5507 non-null   float64\n",
      " 6   SDR           5507 non-null   float64\n",
      " 7   YEN           5507 non-null   float64\n",
      " 8   ZAR           5507 non-null   float64\n",
      " 9   CPI           5507 non-null   float64\n",
      " 10  CPIT          5507 non-null   float64\n",
      " 11  CPIXA         5507 non-null   float64\n",
      "dtypes: float64(12)\n",
      "memory usage: 559.3 KB\n"
     ]
    }
   ],
   "source": [
    "df.info()"
   ]
  },
  {
   "cell_type": "markdown",
   "id": "dcbfe373",
   "metadata": {},
   "source": [
    "All the missing values have been addressed and we have a dataset with about 5507 records."
   ]
  },
  {
   "cell_type": "code",
   "execution_count": 42,
   "id": "e5cb81b9",
   "metadata": {},
   "outputs": [],
   "source": [
    "df.to_csv('Economic_Data_BOB')"
   ]
  },
  {
   "cell_type": "code",
   "execution_count": null,
   "id": "3e4bc415",
   "metadata": {},
   "outputs": [],
   "source": []
  }
 ],
 "metadata": {
  "kernelspec": {
   "display_name": "Python 3 (ipykernel)",
   "language": "python",
   "name": "python3"
  },
  "language_info": {
   "codemirror_mode": {
    "name": "ipython",
    "version": 3
   },
   "file_extension": ".py",
   "mimetype": "text/x-python",
   "name": "python",
   "nbconvert_exporter": "python",
   "pygments_lexer": "ipython3",
   "version": "3.9.7"
  }
 },
 "nbformat": 4,
 "nbformat_minor": 5
}
