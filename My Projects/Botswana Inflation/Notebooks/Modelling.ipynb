{
 "cells": [
  {
   "cell_type": "markdown",
   "id": "9850dedf",
   "metadata": {},
   "source": [
    "<h1>Predicting Inflation Rates - Modelling</h1>"
   ]
  },
  {
   "cell_type": "markdown",
   "id": "a41b5006",
   "metadata": {},
   "source": [
    "In this notebook, various types of modelling will be used to predict inflation rates using the data from the last notebook (Data Preprocessing). Each model will be evaluated to see how well it performs."
   ]
  },
  {
   "cell_type": "code",
   "execution_count": 2,
   "id": "4189b1f2",
   "metadata": {},
   "outputs": [],
   "source": [
    "import pandas as pd\n",
    "import numpy as np\n",
    "import matplotlib.pyplot as plt\n",
    "import seaborn as sns"
   ]
  },
  {
   "cell_type": "code",
   "execution_count": 3,
   "id": "5873f5a5",
   "metadata": {},
   "outputs": [],
   "source": [
    "from sklearn.tree import DecisionTreeRegressor\n",
    "from sklearn.ensemble import RandomForestRegressor, GradientBoostingRegressor\n",
    "from sklearn.model_selection import train_test_split, GridSearchCV, TimeSeriesSplit\n",
    "from sklearn.metrics import r2_score, mean_squared_error, mean_absolute_error\n",
    "from sklearn.linear_model import BayesianRidge"
   ]
  },
  {
   "cell_type": "code",
   "execution_count": 13,
   "id": "e1e380ec",
   "metadata": {},
   "outputs": [],
   "source": [
    "from statsforecast import StatsForecast\n",
    "from statsforecast.models import AutoARIMA, ETS\n",
    "from statsmodels.tsa.arima.model import ARIMA\n",
    "import statsmodels.graphics.tsaplots as sgt"
   ]
  },
  {
   "cell_type": "code",
   "execution_count": 5,
   "outputs": [],
   "source": [
    "from scipy.stats.distributions import chi2"
   ],
   "metadata": {
    "collapsed": false
   }
  },
  {
   "cell_type": "code",
   "execution_count": 6,
   "id": "5af6cbe8",
   "metadata": {},
   "outputs": [],
   "source": [
    "import time"
   ]
  },
  {
   "cell_type": "markdown",
   "id": "c813b7b4",
   "metadata": {},
   "source": [
    "The dataset is loaded"
   ]
  },
  {
   "cell_type": "code",
   "execution_count": 7,
   "id": "91bfd564",
   "metadata": {},
   "outputs": [],
   "source": [
    "df = pd.read_csv('../Data/PreprocessedNew')"
   ]
  },
  {
   "cell_type": "code",
   "execution_count": 8,
   "id": "998a6abe",
   "metadata": {},
   "outputs": [
    {
     "data": {
      "text/plain": "   date   CPI\n0  5358  12.7\n1  5357  12.7\n2  5356  12.7\n3  5355  12.7\n4  5354  12.7",
      "text/html": "<div>\n<style scoped>\n    .dataframe tbody tr th:only-of-type {\n        vertical-align: middle;\n    }\n\n    .dataframe tbody tr th {\n        vertical-align: top;\n    }\n\n    .dataframe thead th {\n        text-align: right;\n    }\n</style>\n<table border=\"1\" class=\"dataframe\">\n  <thead>\n    <tr style=\"text-align: right;\">\n      <th></th>\n      <th>date</th>\n      <th>CPI</th>\n    </tr>\n  </thead>\n  <tbody>\n    <tr>\n      <th>0</th>\n      <td>5358</td>\n      <td>12.7</td>\n    </tr>\n    <tr>\n      <th>1</th>\n      <td>5357</td>\n      <td>12.7</td>\n    </tr>\n    <tr>\n      <th>2</th>\n      <td>5356</td>\n      <td>12.7</td>\n    </tr>\n    <tr>\n      <th>3</th>\n      <td>5355</td>\n      <td>12.7</td>\n    </tr>\n    <tr>\n      <th>4</th>\n      <td>5354</td>\n      <td>12.7</td>\n    </tr>\n  </tbody>\n</table>\n</div>"
     },
     "execution_count": 8,
     "metadata": {},
     "output_type": "execute_result"
    }
   ],
   "source": [
    "df.head()"
   ]
  },
  {
   "cell_type": "code",
   "execution_count": 9,
   "id": "a2080d2b",
   "metadata": {},
   "outputs": [
    {
     "data": {
      "text/plain": "       CPI\ndate      \n5358  12.7\n5357  12.7\n5356  12.7\n5355  12.7\n5354  12.7",
      "text/html": "<div>\n<style scoped>\n    .dataframe tbody tr th:only-of-type {\n        vertical-align: middle;\n    }\n\n    .dataframe tbody tr th {\n        vertical-align: top;\n    }\n\n    .dataframe thead th {\n        text-align: right;\n    }\n</style>\n<table border=\"1\" class=\"dataframe\">\n  <thead>\n    <tr style=\"text-align: right;\">\n      <th></th>\n      <th>CPI</th>\n    </tr>\n    <tr>\n      <th>date</th>\n      <th></th>\n    </tr>\n  </thead>\n  <tbody>\n    <tr>\n      <th>5358</th>\n      <td>12.7</td>\n    </tr>\n    <tr>\n      <th>5357</th>\n      <td>12.7</td>\n    </tr>\n    <tr>\n      <th>5356</th>\n      <td>12.7</td>\n    </tr>\n    <tr>\n      <th>5355</th>\n      <td>12.7</td>\n    </tr>\n    <tr>\n      <th>5354</th>\n      <td>12.7</td>\n    </tr>\n  </tbody>\n</table>\n</div>"
     },
     "execution_count": 9,
     "metadata": {},
     "output_type": "execute_result"
    }
   ],
   "source": [
    "df.set_index('date', inplace=True)\n",
    "df.head()"
   ]
  },
  {
   "cell_type": "code",
   "execution_count": 10,
   "id": "470db44c",
   "metadata": {},
   "outputs": [],
   "source": [
    "#df.head()"
   ]
  },
  {
   "cell_type": "markdown",
   "source": [
    "<h3>Baseline Modelling</h3>"
   ],
   "metadata": {
    "collapsed": false
   },
   "outputs": [
    {
     "ename": "SyntaxError",
     "evalue": "invalid syntax (1789778231.py, line 1)",
     "output_type": "error",
     "traceback": [
      "\u001B[1;36m  File \u001B[1;32m\"C:\\Users\\ituser\\AppData\\Local\\Temp\\ipykernel_20756\\1789778231.py\"\u001B[1;36m, line \u001B[1;32m1\u001B[0m\n\u001B[1;33m    <h3>Baseline Modelling</h3>\u001B[0m\n\u001B[1;37m    ^\u001B[0m\n\u001B[1;31mSyntaxError\u001B[0m\u001B[1;31m:\u001B[0m invalid syntax\n"
     ]
    }
   ],
   "execution_count": 1
  },
  {
   "cell_type": "markdown",
   "source": [
    "To begin, some simple statistical models will be used to predict inflation. This will be used as a baseline before using learning models."
   ],
   "metadata": {
    "collapsed": false
   }
  },
  {
   "cell_type": "markdown",
   "source": [
    "<h5>Autoregressive Integrated Moving Average (ARIMA)</h5>"
   ],
   "metadata": {
    "collapsed": false
   }
  },
  {
   "cell_type": "markdown",
   "source": [
    "ARIMA is a popular model used for time series data. It is a regression of lagged data that has been differenced to make the data stationary (remove the trend and seasonality components of the time series data). The model also uses moving average. It can be represented as ARIMA(p,d,q) where p is the lag, d is the number of times the data is differenced for stationarity, and q is the moving average window size (order of moving average)."
   ],
   "metadata": {
    "collapsed": false
   }
  },
  {
   "cell_type": "markdown",
   "source": [
    "<h6>Defining an LLR Test</h6>"
   ],
   "metadata": {
    "collapsed": false
   }
  },
  {
   "cell_type": "code",
   "execution_count": 11,
   "outputs": [],
   "source": [
    "# define a fucntion for LLR test\n",
    "def LLR_test(mod_1, mod_2, DF = 1):\n",
    "    L1 = mod_1.fit().llf\n",
    "    L2 = mod_2.fit().llf\n",
    "    LR = (2*(L2-L1))\n",
    "    p = chi2.sf(LR, DF).round(3)\n",
    "    return p"
   ],
   "metadata": {
    "collapsed": false
   }
  },
  {
   "cell_type": "code",
   "execution_count": 12,
   "outputs": [
    {
     "name": "stderr",
     "output_type": "stream",
     "text": [
      "C:\\Users\\ituser\\anaconda3\\lib\\site-packages\\statsmodels\\tsa\\base\\tsa_model.py:471: ValueWarning: An unsupported index was provided and will be ignored when e.g. forecasting.\n",
      "  self._init_dates(dates, freq)\n",
      "C:\\Users\\ituser\\anaconda3\\lib\\site-packages\\statsmodels\\tsa\\base\\tsa_model.py:471: ValueWarning: An unsupported index was provided and will be ignored when e.g. forecasting.\n",
      "  self._init_dates(dates, freq)\n",
      "C:\\Users\\ituser\\anaconda3\\lib\\site-packages\\statsmodels\\tsa\\base\\tsa_model.py:471: ValueWarning: An unsupported index was provided and will be ignored when e.g. forecasting.\n",
      "  self._init_dates(dates, freq)\n"
     ]
    },
    {
     "data": {
      "text/plain": "<class 'statsmodels.iolib.summary.Summary'>\n\"\"\"\n                               SARIMAX Results                                \n==============================================================================\nDep. Variable:                    CPI   No. Observations:                 3771\nModel:                 ARIMA(1, 1, 1)   Log Likelihood                -492.580\nDate:                Thu, 19 Jan 2023   AIC                            991.160\nTime:                        12:41:34   BIC                           1009.865\nSample:                             0   HQIC                           997.811\n                               - 3771                                         \nCovariance Type:                  opg                                         \n==============================================================================\n                 coef    std err          z      P>|z|      [0.025      0.975]\n------------------------------------------------------------------------------\nar.L1         -0.1097      0.024     -4.533      0.000      -0.157      -0.062\nma.L1         -0.0017      0.024     -0.070      0.944      -0.050       0.046\nsigma2         0.0760      0.000    403.434      0.000       0.076       0.076\n===================================================================================\nLjung-Box (L1) (Q):                   0.00   Jarque-Bera (JB):           5315517.82\nProb(Q):                              1.00   Prob(JB):                         0.00\nHeteroskedasticity (H):               7.20   Skew:                             1.26\nProb(H) (two-sided):                  0.00   Kurtosis:                       186.94\n===================================================================================\n\nWarnings:\n[1] Covariance matrix calculated using the outer product of gradients (complex-step).\n\"\"\"",
      "text/html": "<table class=\"simpletable\">\n<caption>SARIMAX Results</caption>\n<tr>\n  <th>Dep. Variable:</th>          <td>CPI</td>       <th>  No. Observations:  </th>   <td>3771</td>  \n</tr>\n<tr>\n  <th>Model:</th>            <td>ARIMA(1, 1, 1)</td>  <th>  Log Likelihood     </th> <td>-492.580</td>\n</tr>\n<tr>\n  <th>Date:</th>            <td>Thu, 19 Jan 2023</td> <th>  AIC                </th>  <td>991.160</td>\n</tr>\n<tr>\n  <th>Time:</th>                <td>12:41:34</td>     <th>  BIC                </th> <td>1009.865</td>\n</tr>\n<tr>\n  <th>Sample:</th>                  <td>0</td>        <th>  HQIC               </th>  <td>997.811</td>\n</tr>\n<tr>\n  <th></th>                      <td> - 3771</td>     <th>                     </th>     <td> </td>   \n</tr>\n<tr>\n  <th>Covariance Type:</th>        <td>opg</td>       <th>                     </th>     <td> </td>   \n</tr>\n</table>\n<table class=\"simpletable\">\n<tr>\n     <td></td>       <th>coef</th>     <th>std err</th>      <th>z</th>      <th>P>|z|</th>  <th>[0.025</th>    <th>0.975]</th>  \n</tr>\n<tr>\n  <th>ar.L1</th>  <td>   -0.1097</td> <td>    0.024</td> <td>   -4.533</td> <td> 0.000</td> <td>   -0.157</td> <td>   -0.062</td>\n</tr>\n<tr>\n  <th>ma.L1</th>  <td>   -0.0017</td> <td>    0.024</td> <td>   -0.070</td> <td> 0.944</td> <td>   -0.050</td> <td>    0.046</td>\n</tr>\n<tr>\n  <th>sigma2</th> <td>    0.0760</td> <td>    0.000</td> <td>  403.434</td> <td> 0.000</td> <td>    0.076</td> <td>    0.076</td>\n</tr>\n</table>\n<table class=\"simpletable\">\n<tr>\n  <th>Ljung-Box (L1) (Q):</th>     <td>0.00</td> <th>  Jarque-Bera (JB):  </th> <td>5315517.82</td>\n</tr>\n<tr>\n  <th>Prob(Q):</th>                <td>1.00</td> <th>  Prob(JB):          </th>    <td>0.00</td>   \n</tr>\n<tr>\n  <th>Heteroskedasticity (H):</th> <td>7.20</td> <th>  Skew:              </th>    <td>1.26</td>   \n</tr>\n<tr>\n  <th>Prob(H) (two-sided):</th>    <td>0.00</td> <th>  Kurtosis:          </th>   <td>186.94</td>  \n</tr>\n</table><br/><br/>Warnings:<br/>[1] Covariance matrix calculated using the outer product of gradients (complex-step)."
     },
     "execution_count": 12,
     "metadata": {},
     "output_type": "execute_result"
    }
   ],
   "source": [
    "model_ar_1_i_1_ma_1 = ARIMA(df['CPI'], order=(1,1,1))\n",
    "results_ar_1_i_1_ma_1 = model_ar_1_i_1_ma_1.fit()\n",
    "results_ar_1_i_1_ma_1.summary()"
   ],
   "metadata": {
    "collapsed": false
   }
  },
  {
   "cell_type": "code",
   "execution_count": 14,
   "outputs": [
    {
     "data": {
      "text/plain": "<Figure size 640x480 with 1 Axes>",
      "image/png": "[encoded data removed]"
     },
     "metadata": {},
     "output_type": "display_data"
    }
   ],
   "source": [
    "df['res_ar_1_i_1_ma_1'] = results_ar_1_i_1_ma_1.resid\n",
    "sgt.plot_acf(df.res_ar_1_i_1_ma_1, zero = False, lags = 40)\n",
    "plt.title(\"ACF Of Residuals for ARIMA(1,1,1)\",size=20)\n",
    "plt.show()"
   ],
   "metadata": {
    "collapsed": false
   }
  },
  {
   "cell_type": "code",
   "execution_count": null,
   "outputs": [],
   "source": [
    "# Since 3rd Lag is significant\n",
    "# We need to take ARIMA(2,1,2) and its nested components => (1,1,2), (2,1,1), (2,1,2)\n",
    "# IFF (3,1,3) => p=1,2,3 q=1,2,3 - (1,1,3), (2,1,3), (3,1,3), (3,1,1), (3,1,2)"
   ],
   "metadata": {
    "collapsed": false
   }
  },
  {
   "cell_type": "code",
   "execution_count": 15,
   "outputs": [
    {
     "name": "stderr",
     "output_type": "stream",
     "text": [
      "C:\\Users\\ituser\\anaconda3\\lib\\site-packages\\statsmodels\\tsa\\base\\tsa_model.py:471: ValueWarning: An unsupported index was provided and will be ignored when e.g. forecasting.\n",
      "  self._init_dates(dates, freq)\n",
      "C:\\Users\\ituser\\anaconda3\\lib\\site-packages\\statsmodels\\tsa\\base\\tsa_model.py:471: ValueWarning: An unsupported index was provided and will be ignored when e.g. forecasting.\n",
      "  self._init_dates(dates, freq)\n",
      "C:\\Users\\ituser\\anaconda3\\lib\\site-packages\\statsmodels\\tsa\\base\\tsa_model.py:471: ValueWarning: An unsupported index was provided and will be ignored when e.g. forecasting.\n",
      "  self._init_dates(dates, freq)\n",
      "C:\\Users\\ituser\\anaconda3\\lib\\site-packages\\statsmodels\\tsa\\base\\tsa_model.py:471: ValueWarning: An unsupported index was provided and will be ignored when e.g. forecasting.\n",
      "  self._init_dates(dates, freq)\n",
      "C:\\Users\\ituser\\anaconda3\\lib\\site-packages\\statsmodels\\tsa\\base\\tsa_model.py:471: ValueWarning: An unsupported index was provided and will be ignored when e.g. forecasting.\n",
      "  self._init_dates(dates, freq)\n",
      "C:\\Users\\ituser\\anaconda3\\lib\\site-packages\\statsmodels\\tsa\\base\\tsa_model.py:471: ValueWarning: An unsupported index was provided and will be ignored when e.g. forecasting.\n",
      "  self._init_dates(dates, freq)\n",
      "C:\\Users\\ituser\\anaconda3\\lib\\site-packages\\statsmodels\\tsa\\statespace\\sarimax.py:966: UserWarning: Non-stationary starting autoregressive parameters found. Using zeros as starting parameters.\n",
      "  warn('Non-stationary starting autoregressive parameters'\n",
      "C:\\Users\\ituser\\anaconda3\\lib\\site-packages\\statsmodels\\tsa\\statespace\\sarimax.py:978: UserWarning: Non-invertible starting MA parameters found. Using zeros as starting parameters.\n",
      "  warn('Non-invertible starting MA parameters found.'\n",
      "C:\\Users\\ituser\\anaconda3\\lib\\site-packages\\statsmodels\\tsa\\base\\tsa_model.py:471: ValueWarning: An unsupported index was provided and will be ignored when e.g. forecasting.\n",
      "  self._init_dates(dates, freq)\n",
      "C:\\Users\\ituser\\anaconda3\\lib\\site-packages\\statsmodels\\tsa\\base\\tsa_model.py:471: ValueWarning: An unsupported index was provided and will be ignored when e.g. forecasting.\n",
      "  self._init_dates(dates, freq)\n",
      "C:\\Users\\ituser\\anaconda3\\lib\\site-packages\\statsmodels\\tsa\\base\\tsa_model.py:471: ValueWarning: An unsupported index was provided and will be ignored when e.g. forecasting.\n",
      "  self._init_dates(dates, freq)\n",
      "C:\\Users\\ituser\\anaconda3\\lib\\site-packages\\statsmodels\\base\\model.py:604: ConvergenceWarning: Maximum Likelihood optimization failed to converge. Check mle_retvals\n",
      "  warnings.warn(\"Maximum Likelihood optimization failed to \"\n"
     ]
    }
   ],
   "source": [
    "model_ar_1_i_1_ma_2 = ARIMA(df['CPI'], order=(1,1,2))\n",
    "results_ar_1_i_1_ma_2 = model_ar_1_i_1_ma_2.fit()\n",
    "model_ar_2_i_1_ma_1 = ARIMA(df['CPI'], order=(2,1,1))\n",
    "results_ar_2_i_1_ma_1 = model_ar_2_i_1_ma_1.fit()\n",
    "\n",
    "model_ar_2_i_1_ma_2 = ARIMA(df['CPI'], order=(2,1,2))\n",
    "results_ar_2_i_1_ma_2 = model_ar_2_i_1_ma_2.fit()"
   ],
   "metadata": {
    "collapsed": false
   }
  },
  {
   "cell_type": "code",
   "execution_count": 16,
   "outputs": [
    {
     "name": "stdout",
     "output_type": "stream",
     "text": [
      "ARIMA(1,1,2):  \t LL =  -478.81435570449514 \t AIC =  965.6287114089903\n",
      "ARIMA(2,1,1):  \t LL =  -491.6275685063985 \t AIC =  991.255137012797\n",
      "ARIMA(2,1,2):  \t LL =  -448.8973222249624 \t AIC =  907.7946444499248\n"
     ]
    }
   ],
   "source": [
    "print(\"ARIMA(1,1,2):  \\t LL = \", results_ar_1_i_1_ma_2.llf, \"\\t AIC = \", results_ar_1_i_1_ma_2.aic)\n",
    "print(\"ARIMA(2,1,1):  \\t LL = \", results_ar_2_i_1_ma_1.llf, \"\\t AIC = \", results_ar_2_i_1_ma_1.aic)\n",
    "print(\"ARIMA(2,1,2):  \\t LL = \", results_ar_2_i_1_ma_2.llf, \"\\t AIC = \", results_ar_2_i_1_ma_2.aic)"
   ],
   "metadata": {
    "collapsed": false
   }
  },
  {
   "cell_type": "code",
   "execution_count": 17,
   "outputs": [
    {
     "name": "stdout",
     "output_type": "stream",
     "text": [
      "\n",
      "LLR test p-value = 0.0\n"
     ]
    },
    {
     "name": "stderr",
     "output_type": "stream",
     "text": [
      "C:\\Users\\ituser\\anaconda3\\lib\\site-packages\\statsmodels\\base\\model.py:604: ConvergenceWarning: Maximum Likelihood optimization failed to converge. Check mle_retvals\n",
      "  warnings.warn(\"Maximum Likelihood optimization failed to \"\n"
     ]
    }
   ],
   "source": [
    "print(\"\\nLLR test p-value = \" + str(LLR_test(model_ar_1_i_1_ma_1, model_ar_2_i_1_ma_2, DF=2)))"
   ],
   "metadata": {
    "collapsed": false
   }
  },
  {
   "cell_type": "code",
   "execution_count": 18,
   "outputs": [
    {
     "name": "stderr",
     "output_type": "stream",
     "text": [
      "C:\\Users\\ituser\\anaconda3\\lib\\site-packages\\statsmodels\\tsa\\statespace\\sarimax.py:966: UserWarning: Non-stationary starting autoregressive parameters found. Using zeros as starting parameters.\n",
      "  warn('Non-stationary starting autoregressive parameters'\n",
      "C:\\Users\\ituser\\anaconda3\\lib\\site-packages\\statsmodels\\tsa\\statespace\\sarimax.py:978: UserWarning: Non-invertible starting MA parameters found. Using zeros as starting parameters.\n",
      "  warn('Non-invertible starting MA parameters found.'\n"
     ]
    },
    {
     "name": "stdout",
     "output_type": "stream",
     "text": [
      "\n",
      "LLR test p-value = 0.167\n"
     ]
    }
   ],
   "source": [
    "# Check with LLR test\n",
    "print(\"\\nLLR test p-value = \" + str(LLR_test(model_ar_1_i_1_ma_1, model_ar_2_i_1_ma_1, DF=1)))"
   ],
   "metadata": {
    "collapsed": false
   }
  },
  {
   "cell_type": "code",
   "execution_count": 19,
   "outputs": [
    {
     "name": "stderr",
     "output_type": "stream",
     "text": [
      "C:\\Users\\ituser\\anaconda3\\lib\\site-packages\\statsmodels\\tsa\\statespace\\sarimax.py:966: UserWarning: Non-stationary starting autoregressive parameters found. Using zeros as starting parameters.\n",
      "  warn('Non-stationary starting autoregressive parameters'\n",
      "C:\\Users\\ituser\\anaconda3\\lib\\site-packages\\statsmodels\\tsa\\statespace\\sarimax.py:978: UserWarning: Non-invertible starting MA parameters found. Using zeros as starting parameters.\n",
      "  warn('Non-invertible starting MA parameters found.'\n"
     ]
    },
    {
     "name": "stdout",
     "output_type": "stream",
     "text": [
      "\n",
      "LLR test p-value = 0.0\n"
     ]
    },
    {
     "name": "stderr",
     "output_type": "stream",
     "text": [
      "C:\\Users\\ituser\\anaconda3\\lib\\site-packages\\statsmodels\\base\\model.py:604: ConvergenceWarning: Maximum Likelihood optimization failed to converge. Check mle_retvals\n",
      "  warnings.warn(\"Maximum Likelihood optimization failed to \"\n"
     ]
    }
   ],
   "source": [
    "# Check with LLR test\n",
    "print(\"\\nLLR test p-value = \" + str(LLR_test(model_ar_2_i_1_ma_1, model_ar_2_i_1_ma_2, DF=1)))"
   ],
   "metadata": {
    "collapsed": false
   }
  },
  {
   "cell_type": "markdown",
   "source": [
    "Below is a line chart of CPI over the years from 2008 to 2022 with 0 being 01-01-2008. Each day is counted as one."
   ],
   "metadata": {
    "collapsed": false
   }
  },
  {
   "cell_type": "code",
   "execution_count": 10,
   "outputs": [
    {
     "data": {
      "text/plain": "<AxesSubplot:xlabel='date'>"
     },
     "execution_count": 10,
     "metadata": {},
     "output_type": "execute_result"
    },
    {
     "data": {
      "text/plain": "<Figure size 640x480 with 1 Axes>",
      "image/png": "[encoded data removed]"
     },
     "metadata": {},
     "output_type": "display_data"
    }
   ],
   "source": [
    "df.plot()"
   ],
   "metadata": {
    "collapsed": false
   }
  },
  {
   "cell_type": "markdown",
   "source": [
    "We already saw in the EDA notebook that the data is not stationary and the plan is to use differencing to detrend and deseasonalize the data. One level of differencing was enough to get the data to be stationary according to the augmented dickey fuller test.\n",
    "\n",
    "Based on this, the d value in ARIMA(p,d,q) will be set to 1 for one level of differencing."
   ],
   "metadata": {
    "collapsed": false
   }
  },
  {
   "cell_type": "code",
   "execution_count": 11,
   "outputs": [
    {
     "name": "stderr",
     "output_type": "stream",
     "text": [
      "C:\\Users\\ituser\\anaconda3\\lib\\site-packages\\statsmodels\\tsa\\base\\tsa_model.py:471: ValueWarning: An unsupported index was provided and will be ignored when e.g. forecasting.\n",
      "  self._init_dates(dates, freq)\n",
      "C:\\Users\\ituser\\anaconda3\\lib\\site-packages\\statsmodels\\tsa\\base\\tsa_model.py:471: ValueWarning: An unsupported index was provided and will be ignored when e.g. forecasting.\n",
      "  self._init_dates(dates, freq)\n",
      "C:\\Users\\ituser\\anaconda3\\lib\\site-packages\\statsmodels\\tsa\\base\\tsa_model.py:471: ValueWarning: An unsupported index was provided and will be ignored when e.g. forecasting.\n",
      "  self._init_dates(dates, freq)\n"
     ]
    },
    {
     "name": "stdout",
     "output_type": "stream",
     "text": [
      "                               SARIMAX Results                                \n",
      "==============================================================================\n",
      "Dep. Variable:                    CPI   No. Observations:                 3771\n",
      "Model:                ARIMA(10, 1, 0)   Log Likelihood                -363.129\n",
      "Date:                Fri, 13 Jan 2023   AIC                            748.257\n",
      "Time:                        14:12:25   BIC                            816.840\n",
      "Sample:                             0   HQIC                           772.641\n",
      "                               - 3771                                         \n",
      "Covariance Type:                  opg                                         \n",
      "==============================================================================\n",
      "                 coef    std err          z      P>|z|      [0.025      0.975]\n",
      "------------------------------------------------------------------------------\n",
      "ar.L1         -0.1072      0.004    -26.890      0.000      -0.115      -0.099\n",
      "ar.L2          0.0234      0.004      5.438      0.000       0.015       0.032\n",
      "ar.L3          0.0684      0.004     19.138      0.000       0.061       0.075\n",
      "ar.L4          0.0143      0.005      2.846      0.004       0.004       0.024\n",
      "ar.L5          0.0959      0.006     15.243      0.000       0.084       0.108\n",
      "ar.L6         -0.2282      0.004    -54.973      0.000      -0.236      -0.220\n",
      "ar.L7         -0.1227      0.005    -27.030      0.000      -0.132      -0.114\n",
      "ar.L8         -0.0279      0.010     -2.811      0.005      -0.047      -0.008\n",
      "ar.L9         -0.0290      0.011     -2.633      0.008      -0.051      -0.007\n",
      "ar.L10        -0.0357      0.009     -3.763      0.000      -0.054      -0.017\n",
      "sigma2         0.0710      0.000    325.616      0.000       0.071       0.071\n",
      "===================================================================================\n",
      "Ljung-Box (L1) (Q):                   0.00   Jarque-Bera (JB):           4074374.27\n",
      "Prob(Q):                              0.99   Prob(JB):                         0.00\n",
      "Heteroskedasticity (H):               6.04   Skew:                             2.14\n",
      "Prob(H) (two-sided):                  0.00   Kurtosis:                       164.00\n",
      "===================================================================================\n",
      "\n",
      "Warnings:\n",
      "[1] Covariance matrix calculated using the outer product of gradients (complex-step).\n"
     ]
    }
   ],
   "source": [
    "model = ARIMA(df, order=(10,1,0))\n",
    "model_fit = model.fit()\n",
    "\n",
    "print(model_fit.summary())"
   ],
   "metadata": {
    "collapsed": false
   }
  },
  {
   "cell_type": "code",
   "execution_count": 12,
   "outputs": [
    {
     "data": {
      "text/plain": "<Figure size 640x480 with 1 Axes>",
      "image/png": "[encoded data removed]"
     },
     "metadata": {},
     "output_type": "display_data"
    }
   ],
   "source": [
    "residuals = pd.DataFrame(model_fit.resid)\n",
    "residuals.plot()\n",
    "plt.show()"
   ],
   "metadata": {
    "collapsed": false
   }
  },
  {
   "cell_type": "code",
   "execution_count": 13,
   "outputs": [
    {
     "data": {
      "text/plain": "<Figure size 640x480 with 1 Axes>",
      "image/png": "[encoded data removed]"
     },
     "metadata": {},
     "output_type": "display_data"
    }
   ],
   "source": [
    "residuals.plot(kind='kde')\n",
    "plt.show()"
   ],
   "metadata": {
    "collapsed": false
   }
  },
  {
   "cell_type": "code",
   "execution_count": 14,
   "outputs": [
    {
     "name": "stdout",
     "output_type": "stream",
     "text": [
      "                 0\n",
      "count  3771.000000\n",
      "mean      0.001808\n",
      "std       0.337280\n",
      "min      -4.000000\n",
      "25%       0.000000\n",
      "50%       0.000000\n",
      "75%       0.000000\n",
      "max      12.700000\n"
     ]
    }
   ],
   "source": [
    "print(residuals.describe())"
   ],
   "metadata": {
    "collapsed": false
   }
  },
  {
   "cell_type": "markdown",
   "source": [
    "<h5>Forcasting using ARIMA</h5>"
   ],
   "metadata": {
    "collapsed": false
   }
  },
  {
   "cell_type": "code",
   "execution_count": 15,
   "outputs": [],
   "source": [
    "df.sort_values(by='date', inplace=True)\n",
    "df.reset_index(inplace=True)\n",
    "split_point = len(df) - 365\n",
    "dataset, validation = df[0: split_point], df[split_point:]"
   ],
   "metadata": {
    "collapsed": false
   }
  },
  {
   "cell_type": "code",
   "execution_count": 16,
   "outputs": [
    {
     "data": {
      "text/plain": "      date   CPI\n3406  4831   5.6\n3407  4832   5.6\n3408  4833   5.6\n3409  4836   5.6\n3410  4837   5.6\n...    ...   ...\n3766  5354  12.7\n3767  5355  12.7\n3768  5356  12.7\n3769  5357  12.7\n3770  5358  12.7\n\n[365 rows x 2 columns]",
      "text/html": "<div>\n<style scoped>\n    .dataframe tbody tr th:only-of-type {\n        vertical-align: middle;\n    }\n\n    .dataframe tbody tr th {\n        vertical-align: top;\n    }\n\n    .dataframe thead th {\n        text-align: right;\n    }\n</style>\n<table border=\"1\" class=\"dataframe\">\n  <thead>\n    <tr style=\"text-align: right;\">\n      <th></th>\n      <th>date</th>\n      <th>CPI</th>\n    </tr>\n  </thead>\n  <tbody>\n    <tr>\n      <th>3406</th>\n      <td>4831</td>\n      <td>5.6</td>\n    </tr>\n    <tr>\n      <th>3407</th>\n      <td>4832</td>\n      <td>5.6</td>\n    </tr>\n    <tr>\n      <th>3408</th>\n      <td>4833</td>\n      <td>5.6</td>\n    </tr>\n    <tr>\n      <th>3409</th>\n      <td>4836</td>\n      <td>5.6</td>\n    </tr>\n    <tr>\n      <th>3410</th>\n      <td>4837</td>\n      <td>5.6</td>\n    </tr>\n    <tr>\n      <th>...</th>\n      <td>...</td>\n      <td>...</td>\n    </tr>\n    <tr>\n      <th>3766</th>\n      <td>5354</td>\n      <td>12.7</td>\n    </tr>\n    <tr>\n      <th>3767</th>\n      <td>5355</td>\n      <td>12.7</td>\n    </tr>\n    <tr>\n      <th>3768</th>\n      <td>5356</td>\n      <td>12.7</td>\n    </tr>\n    <tr>\n      <th>3769</th>\n      <td>5357</td>\n      <td>12.7</td>\n    </tr>\n    <tr>\n      <th>3770</th>\n      <td>5358</td>\n      <td>12.7</td>\n    </tr>\n  </tbody>\n</table>\n<p>365 rows × 2 columns</p>\n</div>"
     },
     "execution_count": 16,
     "metadata": {},
     "output_type": "execute_result"
    }
   ],
   "source": [
    "validation"
   ],
   "metadata": {
    "collapsed": false
   }
  },
  {
   "cell_type": "code",
   "execution_count": 17,
   "outputs": [],
   "source": [
    "X = dataset['date']\n",
    "y = dataset['CPI']"
   ],
   "metadata": {
    "collapsed": false
   }
  },
  {
   "cell_type": "code",
   "execution_count": 18,
   "outputs": [
    {
     "data": {
      "text/plain": "      date  CPI\n0        0  8.4\n1        2  9.0\n2        3  9.0\n3        6  9.0\n4        7  9.0\n...    ...  ...\n3401  4824  5.6\n3402  4825  5.6\n3403  4826  5.6\n3404  4829  5.6\n3405  4830  5.6\n\n[3406 rows x 2 columns]",
      "text/html": "<div>\n<style scoped>\n    .dataframe tbody tr th:only-of-type {\n        vertical-align: middle;\n    }\n\n    .dataframe tbody tr th {\n        vertical-align: top;\n    }\n\n    .dataframe thead th {\n        text-align: right;\n    }\n</style>\n<table border=\"1\" class=\"dataframe\">\n  <thead>\n    <tr style=\"text-align: right;\">\n      <th></th>\n      <th>date</th>\n      <th>CPI</th>\n    </tr>\n  </thead>\n  <tbody>\n    <tr>\n      <th>0</th>\n      <td>0</td>\n      <td>8.4</td>\n    </tr>\n    <tr>\n      <th>1</th>\n      <td>2</td>\n      <td>9.0</td>\n    </tr>\n    <tr>\n      <th>2</th>\n      <td>3</td>\n      <td>9.0</td>\n    </tr>\n    <tr>\n      <th>3</th>\n      <td>6</td>\n      <td>9.0</td>\n    </tr>\n    <tr>\n      <th>4</th>\n      <td>7</td>\n      <td>9.0</td>\n    </tr>\n    <tr>\n      <th>...</th>\n      <td>...</td>\n      <td>...</td>\n    </tr>\n    <tr>\n      <th>3401</th>\n      <td>4824</td>\n      <td>5.6</td>\n    </tr>\n    <tr>\n      <th>3402</th>\n      <td>4825</td>\n      <td>5.6</td>\n    </tr>\n    <tr>\n      <th>3403</th>\n      <td>4826</td>\n      <td>5.6</td>\n    </tr>\n    <tr>\n      <th>3404</th>\n      <td>4829</td>\n      <td>5.6</td>\n    </tr>\n    <tr>\n      <th>3405</th>\n      <td>4830</td>\n      <td>5.6</td>\n    </tr>\n  </tbody>\n</table>\n<p>3406 rows × 2 columns</p>\n</div>"
     },
     "execution_count": 18,
     "metadata": {},
     "output_type": "execute_result"
    }
   ],
   "source": [
    "dataset"
   ],
   "metadata": {
    "collapsed": false
   }
  },
  {
   "cell_type": "code",
   "execution_count": 19,
   "outputs": [],
   "source": [
    "tscv = TimeSeriesSplit()"
   ],
   "metadata": {
    "collapsed": false
   }
  },
  {
   "cell_type": "code",
   "execution_count": 33,
   "outputs": [],
   "source": [
    "# Split data into train and test\n",
    "\n",
    "for train_index, test_index in tscv.split(y):\n",
    "    #print(\"TRAIN:\", train_index, \"TEST:\", test_index)\n",
    "    X_train, X_test = X.loc[train_index], X.loc[test_index]\n",
    "    y_train, y_test = y.loc[train_index], y.loc[test_index]"
   ],
   "metadata": {
    "collapsed": false
   }
  },
  {
   "cell_type": "code",
   "execution_count": null,
   "outputs": [
    {
     "name": "stdout",
     "output_type": "stream",
     "text": [
      "4024\n",
      "predicted=4023.657420, expected=4024.000000\n",
      "4025\n",
      "predicted=4023.657420, expected=4025.000000\n",
      "4026\n",
      "predicted=4023.657420, expected=4026.000000\n",
      "4027\n",
      "predicted=4023.657420, expected=4027.000000\n",
      "4028\n",
      "predicted=4023.657420, expected=4028.000000\n",
      "4031\n",
      "predicted=4023.657420, expected=4031.000000\n",
      "4032\n",
      "predicted=4023.657420, expected=4032.000000\n",
      "4033\n",
      "predicted=4023.657420, expected=4033.000000\n",
      "4034\n",
      "predicted=4023.657420, expected=4034.000000\n",
      "4035\n",
      "predicted=4023.657420, expected=4035.000000\n",
      "4038\n",
      "predicted=4023.657420, expected=4038.000000\n",
      "4039\n",
      "predicted=4023.657420, expected=4039.000000\n",
      "4040\n",
      "predicted=4023.657420, expected=4040.000000\n",
      "4041\n",
      "predicted=4023.657420, expected=4041.000000\n",
      "4042\n",
      "predicted=4023.657420, expected=4042.000000\n",
      "4045\n",
      "predicted=4023.657420, expected=4045.000000\n",
      "4046\n",
      "predicted=4023.657420, expected=4046.000000\n",
      "4047\n",
      "predicted=4023.657420, expected=4047.000000\n",
      "4048\n",
      "predicted=4023.657420, expected=4048.000000\n",
      "4049\n",
      "predicted=4023.657420, expected=4049.000000\n",
      "4052\n",
      "predicted=4023.657420, expected=4052.000000\n",
      "4053\n",
      "predicted=4023.657420, expected=4053.000000\n",
      "4054\n",
      "predicted=4023.657420, expected=4054.000000\n",
      "4055\n",
      "predicted=4023.657420, expected=4055.000000\n",
      "4056\n",
      "predicted=4023.657420, expected=4056.000000\n",
      "4057\n",
      "predicted=4023.657420, expected=4057.000000\n",
      "4059\n",
      "predicted=4023.657420, expected=4059.000000\n",
      "4060\n",
      "predicted=4023.657420, expected=4060.000000\n",
      "4061\n",
      "predicted=4023.657420, expected=4061.000000\n",
      "4062\n",
      "predicted=4023.657420, expected=4062.000000\n",
      "4063\n",
      "predicted=4023.657420, expected=4063.000000\n",
      "4066\n",
      "predicted=4023.657420, expected=4066.000000\n",
      "4067\n",
      "predicted=4023.657420, expected=4067.000000\n",
      "4068\n",
      "predicted=4023.657420, expected=4068.000000\n",
      "4069\n",
      "predicted=4023.657420, expected=4069.000000\n",
      "4070\n",
      "predicted=4023.657420, expected=4070.000000\n",
      "4073\n",
      "predicted=4023.657420, expected=4073.000000\n",
      "4074\n",
      "predicted=4023.657420, expected=4074.000000\n",
      "4075\n",
      "predicted=4023.657420, expected=4075.000000\n",
      "4076\n",
      "predicted=4023.657420, expected=4076.000000\n",
      "4077\n",
      "predicted=4023.657420, expected=4077.000000\n",
      "4080\n",
      "predicted=4023.657420, expected=4080.000000\n",
      "4081\n",
      "predicted=4023.657420, expected=4081.000000\n",
      "4082\n",
      "predicted=4023.657420, expected=4082.000000\n",
      "4083\n",
      "predicted=4023.657420, expected=4083.000000\n",
      "4084\n",
      "predicted=4023.657420, expected=4084.000000\n",
      "4087\n",
      "predicted=4023.657420, expected=4087.000000\n",
      "4088\n",
      "predicted=4023.657420, expected=4088.000000\n",
      "4089\n",
      "predicted=4023.657420, expected=4089.000000\n",
      "4090\n",
      "predicted=4023.657420, expected=4090.000000\n",
      "4091\n",
      "predicted=4023.657420, expected=4091.000000\n",
      "4094\n",
      "predicted=4023.657420, expected=4094.000000\n",
      "4095\n",
      "predicted=4023.657420, expected=4095.000000\n",
      "4096\n",
      "predicted=4023.657420, expected=4096.000000\n",
      "4097\n",
      "predicted=4023.657420, expected=4097.000000\n",
      "4098\n",
      "predicted=4023.657420, expected=4098.000000\n",
      "4101\n",
      "predicted=4023.657420, expected=4101.000000\n",
      "4102\n",
      "predicted=4023.657420, expected=4102.000000\n",
      "4103\n",
      "predicted=4023.657420, expected=4103.000000\n",
      "4104\n",
      "predicted=4023.657420, expected=4104.000000\n",
      "4105\n",
      "predicted=4023.657420, expected=4105.000000\n",
      "4108\n",
      "predicted=4023.657420, expected=4108.000000\n",
      "4109\n",
      "predicted=4023.657420, expected=4109.000000\n",
      "4110\n",
      "predicted=4023.657420, expected=4110.000000\n",
      "4111\n",
      "predicted=4023.657420, expected=4111.000000\n",
      "4112\n",
      "predicted=4023.657420, expected=4112.000000\n",
      "4115\n",
      "predicted=4023.657420, expected=4115.000000\n",
      "4116\n",
      "predicted=4023.657420, expected=4116.000000\n",
      "4117\n",
      "predicted=4023.657420, expected=4117.000000\n",
      "4118\n",
      "predicted=4023.657420, expected=4118.000000\n",
      "4119\n",
      "predicted=4023.657420, expected=4119.000000\n",
      "4122\n",
      "predicted=4023.657420, expected=4122.000000\n",
      "4123\n",
      "predicted=4023.657420, expected=4123.000000\n",
      "4124\n",
      "predicted=4023.657420, expected=4124.000000\n",
      "4125\n",
      "predicted=4023.657420, expected=4125.000000\n",
      "4130\n",
      "predicted=4023.657420, expected=4130.000000\n",
      "4131\n",
      "predicted=4023.657420, expected=4131.000000\n",
      "4132\n",
      "predicted=4023.657420, expected=4132.000000\n",
      "4133\n",
      "predicted=4023.657420, expected=4133.000000\n",
      "4136\n",
      "predicted=4023.657420, expected=4136.000000\n",
      "4137\n",
      "predicted=4023.657420, expected=4137.000000\n",
      "4138\n",
      "predicted=4023.657420, expected=4138.000000\n",
      "4139\n",
      "predicted=4023.657420, expected=4139.000000\n",
      "4140\n",
      "predicted=4023.657420, expected=4140.000000\n",
      "4143\n",
      "predicted=4023.657420, expected=4143.000000\n",
      "4144\n",
      "predicted=4023.657420, expected=4144.000000\n",
      "4145\n",
      "predicted=4023.657420, expected=4145.000000\n",
      "4146\n",
      "predicted=4023.657420, expected=4146.000000\n",
      "4147\n",
      "predicted=4023.657420, expected=4147.000000\n",
      "4150\n",
      "predicted=4023.657420, expected=4150.000000\n",
      "4151\n",
      "predicted=4023.657420, expected=4151.000000\n",
      "4152\n",
      "predicted=4023.657420, expected=4152.000000\n",
      "4153\n",
      "predicted=4023.657420, expected=4153.000000\n",
      "4154\n",
      "predicted=4023.657420, expected=4154.000000\n",
      "4157\n",
      "predicted=4023.657420, expected=4157.000000\n",
      "4158\n",
      "predicted=4023.657420, expected=4158.000000\n",
      "4159\n",
      "predicted=4023.657420, expected=4159.000000\n",
      "4160\n",
      "predicted=4023.657420, expected=4160.000000\n",
      "4161\n",
      "predicted=4023.657420, expected=4161.000000\n",
      "4164\n",
      "predicted=4023.657420, expected=4164.000000\n",
      "4165\n",
      "predicted=4023.657420, expected=4165.000000\n",
      "4166\n",
      "predicted=4023.657420, expected=4166.000000\n",
      "4168\n",
      "predicted=4023.657420, expected=4168.000000\n",
      "4169\n",
      "predicted=4023.657420, expected=4169.000000\n",
      "4171\n",
      "predicted=4023.657420, expected=4171.000000\n",
      "4172\n",
      "predicted=4023.657420, expected=4172.000000\n",
      "4173\n",
      "predicted=4023.657420, expected=4173.000000\n",
      "4174\n",
      "predicted=4023.657420, expected=4174.000000\n",
      "4175\n",
      "predicted=4023.657420, expected=4175.000000\n",
      "4178\n",
      "predicted=4023.657420, expected=4178.000000\n",
      "4179\n",
      "predicted=4023.657420, expected=4179.000000\n",
      "4180\n",
      "predicted=4023.657420, expected=4180.000000\n",
      "4181\n",
      "predicted=4023.657420, expected=4181.000000\n",
      "4182\n",
      "predicted=4023.657420, expected=4182.000000\n",
      "4185\n",
      "predicted=4023.657420, expected=4185.000000\n",
      "4186\n",
      "predicted=4023.657420, expected=4186.000000\n",
      "4187\n",
      "predicted=4023.657420, expected=4187.000000\n",
      "4188\n",
      "predicted=4023.657420, expected=4188.000000\n",
      "4189\n",
      "predicted=4023.657420, expected=4189.000000\n",
      "4192\n",
      "predicted=4023.657420, expected=4192.000000\n",
      "4193\n",
      "predicted=4023.657420, expected=4193.000000\n",
      "4194\n",
      "predicted=4023.657420, expected=4194.000000\n",
      "4195\n",
      "predicted=4023.657420, expected=4195.000000\n",
      "4196\n",
      "predicted=4023.657420, expected=4196.000000\n",
      "4199\n",
      "predicted=4023.657420, expected=4199.000000\n",
      "4200\n",
      "predicted=4023.657420, expected=4200.000000\n",
      "4201\n",
      "predicted=4023.657420, expected=4201.000000\n",
      "4202\n",
      "predicted=4023.657420, expected=4202.000000\n",
      "4203\n",
      "predicted=4023.657420, expected=4203.000000\n",
      "4206\n",
      "predicted=4023.657420, expected=4206.000000\n",
      "4207\n",
      "predicted=4023.657420, expected=4207.000000\n",
      "4208\n",
      "predicted=4023.657420, expected=4208.000000\n",
      "4209\n",
      "predicted=4023.657420, expected=4209.000000\n",
      "4210\n",
      "predicted=4023.657420, expected=4210.000000\n",
      "4215\n",
      "predicted=4023.657420, expected=4215.000000\n",
      "4216\n",
      "predicted=4023.657420, expected=4216.000000\n",
      "4217\n",
      "predicted=4023.657420, expected=4217.000000\n",
      "4220\n",
      "predicted=4023.657420, expected=4220.000000\n",
      "4221\n",
      "predicted=4023.657420, expected=4221.000000\n",
      "4222\n",
      "predicted=4023.657420, expected=4222.000000\n",
      "4223\n",
      "predicted=4023.657420, expected=4223.000000\n",
      "4224\n",
      "predicted=4023.657420, expected=4224.000000\n",
      "4227\n",
      "predicted=4023.657420, expected=4227.000000\n",
      "4228\n",
      "predicted=4023.657420, expected=4228.000000\n",
      "4229\n",
      "predicted=4023.657420, expected=4229.000000\n",
      "4230\n",
      "predicted=4023.657420, expected=4230.000000\n",
      "4231\n",
      "predicted=4023.657420, expected=4231.000000\n",
      "4234\n",
      "predicted=4023.657420, expected=4234.000000\n",
      "4235\n",
      "predicted=4023.657420, expected=4235.000000\n",
      "4236\n",
      "predicted=4023.657420, expected=4236.000000\n",
      "4237\n",
      "predicted=4023.657420, expected=4237.000000\n",
      "4238\n",
      "predicted=4023.657420, expected=4238.000000\n",
      "4241\n",
      "predicted=4023.657420, expected=4241.000000\n",
      "4242\n",
      "predicted=4023.657420, expected=4242.000000\n",
      "4242\n",
      "predicted=4023.657420, expected=4242.000000\n",
      "4243\n",
      "predicted=4023.657420, expected=4243.000000\n",
      "4244\n",
      "predicted=4023.657420, expected=4244.000000\n",
      "4245\n",
      "predicted=4023.657420, expected=4245.000000\n",
      "4248\n",
      "predicted=4023.657420, expected=4248.000000\n",
      "4249\n",
      "predicted=4023.657420, expected=4249.000000\n",
      "4250\n",
      "predicted=4023.657420, expected=4250.000000\n",
      "4251\n",
      "predicted=4023.657420, expected=4251.000000\n",
      "4252\n",
      "predicted=4023.657420, expected=4252.000000\n",
      "4255\n",
      "predicted=4023.657420, expected=4255.000000\n",
      "4256\n",
      "predicted=4023.657420, expected=4256.000000\n",
      "4257\n",
      "predicted=4023.657420, expected=4257.000000\n",
      "4258\n",
      "predicted=4023.657420, expected=4258.000000\n",
      "4259\n",
      "predicted=4023.657420, expected=4259.000000\n",
      "4261\n",
      "predicted=4023.657420, expected=4261.000000\n",
      "4262\n",
      "predicted=4023.657420, expected=4262.000000\n",
      "4263\n",
      "predicted=4023.657420, expected=4263.000000\n",
      "4264\n",
      "predicted=4023.657420, expected=4264.000000\n",
      "4265\n",
      "predicted=4023.657420, expected=4265.000000\n",
      "4266\n",
      "predicted=4023.657420, expected=4266.000000\n",
      "4269\n",
      "predicted=4023.657420, expected=4269.000000\n",
      "4270\n",
      "predicted=4023.657420, expected=4270.000000\n",
      "4271\n",
      "predicted=4023.657420, expected=4271.000000\n",
      "4272\n",
      "predicted=4023.657420, expected=4272.000000\n",
      "4273\n",
      "predicted=4023.657420, expected=4273.000000\n",
      "4276\n",
      "predicted=4023.657420, expected=4276.000000\n",
      "4277\n",
      "predicted=4023.657420, expected=4277.000000\n",
      "4278\n",
      "predicted=4023.657420, expected=4278.000000\n",
      "4279\n",
      "predicted=4023.657420, expected=4279.000000\n",
      "4280\n",
      "predicted=4023.657420, expected=4280.000000\n",
      "4283\n",
      "predicted=4023.657420, expected=4283.000000\n",
      "4284\n",
      "predicted=4023.657420, expected=4284.000000\n",
      "4285\n",
      "predicted=4023.657420, expected=4285.000000\n",
      "4286\n",
      "predicted=4023.657420, expected=4286.000000\n",
      "4287\n",
      "predicted=4023.657420, expected=4287.000000\n",
      "4291\n",
      "predicted=4023.657420, expected=4291.000000\n",
      "4292\n",
      "predicted=4023.657420, expected=4292.000000\n",
      "4293\n",
      "predicted=4023.657420, expected=4293.000000\n",
      "4294\n",
      "predicted=4023.657420, expected=4294.000000\n",
      "4297\n",
      "predicted=4023.657420, expected=4297.000000\n",
      "4298\n",
      "predicted=4023.657420, expected=4298.000000\n",
      "4299\n",
      "predicted=4023.657420, expected=4299.000000\n",
      "4300\n",
      "predicted=4023.657420, expected=4300.000000\n",
      "4301\n",
      "predicted=4023.657420, expected=4301.000000\n",
      "4304\n",
      "predicted=4023.657420, expected=4304.000000\n",
      "4305\n",
      "predicted=4023.657420, expected=4305.000000\n",
      "4306\n",
      "predicted=4023.657420, expected=4306.000000\n",
      "4307\n",
      "predicted=4023.657420, expected=4307.000000\n",
      "4308\n",
      "predicted=4023.657420, expected=4308.000000\n",
      "4311\n",
      "predicted=4023.657420, expected=4311.000000\n",
      "4312\n",
      "predicted=4023.657420, expected=4312.000000\n",
      "4318\n",
      "predicted=4023.657420, expected=4318.000000\n",
      "4319\n",
      "predicted=4023.657420, expected=4319.000000\n",
      "4320\n",
      "predicted=4023.657420, expected=4320.000000\n",
      "4321\n",
      "predicted=4023.657420, expected=4321.000000\n",
      "4322\n",
      "predicted=4023.657420, expected=4322.000000\n",
      "4325\n",
      "predicted=4023.657420, expected=4325.000000\n",
      "4326\n",
      "predicted=4023.657420, expected=4326.000000\n",
      "4327\n",
      "predicted=4023.657420, expected=4327.000000\n",
      "4328\n",
      "predicted=4023.657420, expected=4328.000000\n",
      "4329\n",
      "predicted=4023.657420, expected=4329.000000\n",
      "4332\n",
      "predicted=4023.657420, expected=4332.000000\n",
      "4333\n",
      "predicted=4023.657420, expected=4333.000000\n",
      "4334\n",
      "predicted=4023.657420, expected=4334.000000\n",
      "4335\n",
      "predicted=4023.657420, expected=4335.000000\n",
      "4336\n",
      "predicted=4023.657420, expected=4336.000000\n",
      "4339\n",
      "predicted=4023.657420, expected=4339.000000\n",
      "4340\n",
      "predicted=4023.657420, expected=4340.000000\n",
      "4341\n",
      "predicted=4023.657420, expected=4341.000000\n",
      "4342\n",
      "predicted=4023.657420, expected=4342.000000\n",
      "4343\n",
      "predicted=4023.657420, expected=4343.000000\n",
      "4346\n",
      "predicted=4023.657420, expected=4346.000000\n",
      "4347\n",
      "predicted=4023.657420, expected=4347.000000\n",
      "4348\n",
      "predicted=4023.657420, expected=4348.000000\n",
      "4349\n",
      "predicted=4023.657420, expected=4349.000000\n",
      "4350\n",
      "predicted=4023.657420, expected=4350.000000\n",
      "4352\n",
      "predicted=4023.657420, expected=4352.000000\n",
      "4353\n",
      "predicted=4023.657420, expected=4353.000000\n",
      "4354\n",
      "predicted=4023.657420, expected=4354.000000\n",
      "4355\n",
      "predicted=4023.657420, expected=4355.000000\n",
      "4356\n",
      "predicted=4023.657420, expected=4356.000000\n",
      "4357\n",
      "predicted=4023.657420, expected=4357.000000\n",
      "4360\n",
      "predicted=4023.657420, expected=4360.000000\n",
      "4361\n",
      "predicted=4023.657420, expected=4361.000000\n",
      "4362\n",
      "predicted=4023.657420, expected=4362.000000\n",
      "4363\n",
      "predicted=4023.657420, expected=4363.000000\n",
      "4364\n",
      "predicted=4023.657420, expected=4364.000000\n",
      "4367\n",
      "predicted=4023.657420, expected=4367.000000\n",
      "4368\n",
      "predicted=4023.657420, expected=4368.000000\n",
      "4369\n",
      "predicted=4023.657420, expected=4369.000000\n",
      "4370\n",
      "predicted=4023.657420, expected=4370.000000\n",
      "4371\n",
      "predicted=4023.657420, expected=4371.000000\n",
      "4374\n",
      "predicted=4023.657420, expected=4374.000000\n",
      "4375\n",
      "predicted=4023.657420, expected=4375.000000\n",
      "4378\n",
      "predicted=4023.657420, expected=4378.000000\n",
      "4381\n",
      "predicted=4023.657420, expected=4381.000000\n",
      "4382\n",
      "predicted=4023.657420, expected=4382.000000\n",
      "4383\n",
      "predicted=4023.657420, expected=4383.000000\n",
      "4385\n",
      "predicted=4023.657420, expected=4385.000000\n",
      "4388\n",
      "predicted=4023.657420, expected=4388.000000\n",
      "4389\n",
      "predicted=4023.657420, expected=4389.000000\n",
      "4390\n",
      "predicted=4023.657420, expected=4390.000000\n",
      "4391\n",
      "predicted=4023.657420, expected=4391.000000\n",
      "4392\n",
      "predicted=4023.657420, expected=4392.000000\n",
      "4395\n",
      "predicted=4023.657420, expected=4395.000000\n",
      "4396\n",
      "predicted=4023.657420, expected=4396.000000\n",
      "4397\n",
      "predicted=4023.657420, expected=4397.000000\n",
      "4398\n",
      "predicted=4023.657420, expected=4398.000000\n",
      "4399\n",
      "predicted=4023.657420, expected=4399.000000\n",
      "4402\n",
      "predicted=4023.657420, expected=4402.000000\n",
      "4403\n",
      "predicted=4023.657420, expected=4403.000000\n",
      "4404\n",
      "predicted=4023.657420, expected=4404.000000\n",
      "4405\n",
      "predicted=4023.657420, expected=4405.000000\n",
      "4406\n",
      "predicted=4023.657420, expected=4406.000000\n",
      "4409\n",
      "predicted=4023.657420, expected=4409.000000\n",
      "4410\n",
      "predicted=4023.657420, expected=4410.000000\n",
      "4411\n",
      "predicted=4023.657420, expected=4411.000000\n",
      "4412\n",
      "predicted=4023.657420, expected=4412.000000\n",
      "4413\n",
      "predicted=4023.657420, expected=4413.000000\n",
      "4414\n",
      "predicted=4023.657420, expected=4414.000000\n",
      "4416\n",
      "predicted=4023.657420, expected=4416.000000\n",
      "4417\n",
      "predicted=4023.657420, expected=4417.000000\n",
      "4418\n",
      "predicted=4023.657420, expected=4418.000000\n",
      "4419\n",
      "predicted=4023.657420, expected=4419.000000\n",
      "4420\n",
      "predicted=4023.657420, expected=4420.000000\n",
      "4423\n",
      "predicted=4023.657420, expected=4423.000000\n",
      "4424\n",
      "predicted=4023.657420, expected=4424.000000\n",
      "4425\n",
      "predicted=4023.657420, expected=4425.000000\n",
      "4426\n",
      "predicted=4023.657420, expected=4426.000000\n",
      "4427\n",
      "predicted=4023.657420, expected=4427.000000\n",
      "4430\n",
      "predicted=4023.657420, expected=4430.000000\n",
      "4431\n",
      "predicted=4023.657420, expected=4431.000000\n",
      "4432\n",
      "predicted=4023.657420, expected=4432.000000\n",
      "4433\n",
      "predicted=4023.657420, expected=4433.000000\n",
      "4434\n",
      "predicted=4023.657420, expected=4434.000000\n",
      "4437\n",
      "predicted=4023.657420, expected=4437.000000\n",
      "4438\n",
      "predicted=4023.657420, expected=4438.000000\n",
      "4439\n",
      "predicted=4023.657420, expected=4439.000000\n",
      "4440\n",
      "predicted=4023.657420, expected=4440.000000\n",
      "4441\n",
      "predicted=4023.657420, expected=4441.000000\n",
      "4443\n",
      "predicted=4023.657420, expected=4443.000000\n",
      "4444\n",
      "predicted=4023.657420, expected=4444.000000\n",
      "4445\n",
      "predicted=4023.657420, expected=4445.000000\n",
      "4446\n",
      "predicted=4023.657420, expected=4446.000000\n",
      "4447\n",
      "predicted=4023.657420, expected=4447.000000\n",
      "4448\n",
      "predicted=4023.657420, expected=4448.000000\n",
      "4451\n",
      "predicted=4023.657420, expected=4451.000000\n",
      "4452\n",
      "predicted=4023.657420, expected=4452.000000\n",
      "4453\n",
      "predicted=4023.657420, expected=4453.000000\n",
      "4454\n",
      "predicted=4023.657420, expected=4454.000000\n",
      "4455\n",
      "predicted=4023.657420, expected=4455.000000\n",
      "4458\n",
      "predicted=4023.657420, expected=4458.000000\n",
      "4459\n",
      "predicted=4023.657420, expected=4459.000000\n",
      "4460\n",
      "predicted=4023.657420, expected=4460.000000\n",
      "4461\n",
      "predicted=4023.657420, expected=4461.000000\n",
      "4462\n",
      "predicted=4023.657420, expected=4462.000000\n",
      "4465\n",
      "predicted=4023.657420, expected=4465.000000\n",
      "4466\n",
      "predicted=4023.657420, expected=4466.000000\n",
      "4467\n",
      "predicted=4023.657420, expected=4467.000000\n",
      "4468\n",
      "predicted=4023.657420, expected=4468.000000\n",
      "4469\n",
      "predicted=4023.657420, expected=4469.000000\n",
      "4472\n",
      "predicted=4023.657420, expected=4472.000000\n",
      "4473\n",
      "predicted=4023.657420, expected=4473.000000\n",
      "4474\n",
      "predicted=4023.657420, expected=4474.000000\n",
      "4475\n",
      "predicted=4023.657420, expected=4475.000000\n",
      "4476\n",
      "predicted=4023.657420, expected=4476.000000\n",
      "4479\n",
      "predicted=4023.657420, expected=4479.000000\n",
      "4480\n",
      "predicted=4023.657420, expected=4480.000000\n",
      "4481\n",
      "predicted=4023.657420, expected=4481.000000\n",
      "4482\n",
      "predicted=4023.657420, expected=4482.000000\n",
      "4487\n",
      "predicted=4023.657420, expected=4487.000000\n",
      "4488\n",
      "predicted=4023.657420, expected=4488.000000\n",
      "4489\n",
      "predicted=4023.657420, expected=4489.000000\n",
      "4490\n",
      "predicted=4023.657420, expected=4490.000000\n",
      "4493\n",
      "predicted=4023.657420, expected=4493.000000\n",
      "4494\n",
      "predicted=4023.657420, expected=4494.000000\n",
      "4495\n",
      "predicted=4023.657420, expected=4495.000000\n",
      "4496\n",
      "predicted=4023.657420, expected=4496.000000\n",
      "4497\n",
      "predicted=4023.657420, expected=4497.000000\n",
      "4500\n",
      "predicted=4023.657420, expected=4500.000000\n",
      "4501\n",
      "predicted=4023.657420, expected=4501.000000\n",
      "4502\n",
      "predicted=4023.657420, expected=4502.000000\n",
      "4503\n",
      "predicted=4023.657420, expected=4503.000000\n",
      "4504\n",
      "predicted=4023.657420, expected=4504.000000\n",
      "4507\n",
      "predicted=4023.657420, expected=4507.000000\n",
      "4508\n",
      "predicted=4023.657420, expected=4508.000000\n",
      "4509\n",
      "predicted=4023.657420, expected=4509.000000\n",
      "4510\n",
      "predicted=4023.657420, expected=4510.000000\n",
      "4511\n",
      "predicted=4023.657420, expected=4511.000000\n",
      "4514\n",
      "predicted=4023.657420, expected=4514.000000\n",
      "4515\n",
      "predicted=4023.657420, expected=4515.000000\n",
      "4516\n",
      "predicted=4023.657420, expected=4516.000000\n",
      "4517\n",
      "predicted=4023.657420, expected=4517.000000\n",
      "4518\n",
      "predicted=4023.657420, expected=4518.000000\n",
      "4518\n",
      "predicted=4023.657420, expected=4518.000000\n",
      "4521\n",
      "predicted=4023.657420, expected=4521.000000\n",
      "4522\n",
      "predicted=4023.657420, expected=4522.000000\n",
      "4523\n",
      "predicted=4023.657420, expected=4523.000000\n",
      "4525\n",
      "predicted=4023.657420, expected=4525.000000\n",
      "4528\n",
      "predicted=4023.657420, expected=4528.000000\n",
      "4529\n",
      "predicted=4023.657420, expected=4529.000000\n",
      "4530\n",
      "predicted=4023.657420, expected=4530.000000\n",
      "4531\n",
      "predicted=4023.657420, expected=4531.000000\n",
      "4532\n",
      "predicted=4023.657420, expected=4532.000000\n",
      "4535\n",
      "predicted=4023.657420, expected=4535.000000\n",
      "4536\n",
      "predicted=4023.657420, expected=4536.000000\n",
      "4537\n",
      "predicted=4023.657420, expected=4537.000000\n",
      "4538\n",
      "predicted=4023.657420, expected=4538.000000\n",
      "4539\n",
      "predicted=4023.657420, expected=4539.000000\n",
      "4542\n",
      "predicted=4023.657420, expected=4542.000000\n",
      "4543\n",
      "predicted=4023.657420, expected=4543.000000\n",
      "4544\n",
      "predicted=4023.657420, expected=4544.000000\n",
      "4545\n",
      "predicted=4023.657420, expected=4545.000000\n",
      "4546\n",
      "predicted=4023.657420, expected=4546.000000\n",
      "4549\n",
      "predicted=4023.657420, expected=4549.000000\n",
      "4550\n",
      "predicted=4023.657420, expected=4550.000000\n",
      "4551\n",
      "predicted=4023.657420, expected=4551.000000\n",
      "4552\n",
      "predicted=4023.657420, expected=4552.000000\n",
      "4553\n",
      "predicted=4023.657420, expected=4553.000000\n",
      "4556\n",
      "predicted=4023.657420, expected=4556.000000\n",
      "4557\n",
      "predicted=4023.657420, expected=4557.000000\n",
      "4558\n",
      "predicted=4023.657420, expected=4558.000000\n",
      "4559\n",
      "predicted=4023.657420, expected=4559.000000\n",
      "4560\n",
      "predicted=4023.657420, expected=4560.000000\n",
      "4563\n",
      "predicted=4023.657420, expected=4563.000000\n",
      "4564\n",
      "predicted=4023.657420, expected=4564.000000\n",
      "4565\n",
      "predicted=4023.657420, expected=4565.000000\n",
      "4566\n",
      "predicted=4023.657420, expected=4566.000000\n",
      "4567\n",
      "predicted=4023.657420, expected=4567.000000\n",
      "4570\n",
      "predicted=4023.657420, expected=4570.000000\n",
      "4571\n",
      "predicted=4023.657420, expected=4571.000000\n",
      "4572\n",
      "predicted=4023.657420, expected=4572.000000\n",
      "4573\n",
      "predicted=4023.657420, expected=4573.000000\n",
      "4574\n",
      "predicted=4023.657420, expected=4574.000000\n",
      "4577\n",
      "predicted=4023.657420, expected=4577.000000\n",
      "4578\n",
      "predicted=4023.657420, expected=4578.000000\n",
      "4579\n",
      "predicted=4023.657420, expected=4579.000000\n",
      "4580\n",
      "predicted=4023.657420, expected=4580.000000\n",
      "4581\n",
      "predicted=4023.657420, expected=4581.000000\n",
      "4586\n",
      "predicted=4023.657420, expected=4586.000000\n",
      "4587\n",
      "predicted=4023.657420, expected=4587.000000\n",
      "4588\n",
      "predicted=4023.657420, expected=4588.000000\n",
      "4591\n",
      "predicted=4023.657420, expected=4591.000000\n",
      "4592\n",
      "predicted=4023.657420, expected=4592.000000\n",
      "4593\n",
      "predicted=4023.657420, expected=4593.000000\n",
      "4594\n",
      "predicted=4023.657420, expected=4594.000000\n",
      "4595\n",
      "predicted=4023.657420, expected=4595.000000\n",
      "4596\n",
      "predicted=4023.657420, expected=4596.000000\n",
      "4598\n",
      "predicted=4023.657420, expected=4598.000000\n",
      "4599\n",
      "predicted=4023.657420, expected=4599.000000\n",
      "4600\n",
      "predicted=4023.657420, expected=4600.000000\n",
      "4601\n",
      "predicted=4023.657420, expected=4601.000000\n",
      "4602\n",
      "predicted=4023.657420, expected=4602.000000\n",
      "4605\n",
      "predicted=4023.657420, expected=4605.000000\n",
      "4606\n",
      "predicted=4023.657420, expected=4606.000000\n",
      "4607\n",
      "predicted=4023.657420, expected=4607.000000\n",
      "4608\n",
      "predicted=4023.657420, expected=4608.000000\n",
      "4609\n",
      "predicted=4023.657420, expected=4609.000000\n",
      "4612\n",
      "predicted=4023.657420, expected=4612.000000\n",
      "4613\n",
      "predicted=4023.657420, expected=4613.000000\n",
      "4614\n",
      "predicted=4023.657420, expected=4614.000000\n",
      "4615\n",
      "predicted=4023.657420, expected=4615.000000\n",
      "4616\n",
      "predicted=4023.657420, expected=4616.000000\n",
      "4619\n",
      "predicted=4023.657420, expected=4619.000000\n",
      "4620\n",
      "predicted=4023.657420, expected=4620.000000\n",
      "4621\n",
      "predicted=4023.657420, expected=4621.000000\n",
      "4622\n",
      "predicted=4023.657420, expected=4622.000000\n",
      "4623\n",
      "predicted=4023.657420, expected=4623.000000\n",
      "4626\n",
      "predicted=4023.657420, expected=4626.000000\n",
      "4627\n",
      "predicted=4023.657420, expected=4627.000000\n",
      "4628\n",
      "predicted=4023.657420, expected=4628.000000\n",
      "4629\n",
      "predicted=4023.657420, expected=4629.000000\n",
      "4630\n",
      "predicted=4023.657420, expected=4630.000000\n",
      "4633\n",
      "predicted=4023.657420, expected=4633.000000\n",
      "4634\n",
      "predicted=4023.657420, expected=4634.000000\n",
      "4635\n",
      "predicted=4023.657420, expected=4635.000000\n",
      "4636\n",
      "predicted=4023.657420, expected=4636.000000\n",
      "4637\n",
      "predicted=4023.657420, expected=4637.000000\n",
      "4640\n",
      "predicted=4023.657420, expected=4640.000000\n",
      "4641\n",
      "predicted=4023.657420, expected=4641.000000\n",
      "4642\n",
      "predicted=4023.657420, expected=4642.000000\n",
      "4643\n",
      "predicted=4023.657420, expected=4643.000000\n",
      "4644\n",
      "predicted=4023.657420, expected=4644.000000\n",
      "4647\n",
      "predicted=4023.657420, expected=4647.000000\n",
      "4648\n",
      "predicted=4023.657420, expected=4648.000000\n",
      "4649\n",
      "predicted=4023.657420, expected=4649.000000\n",
      "4650\n",
      "predicted=4023.657420, expected=4650.000000\n",
      "4651\n",
      "predicted=4023.657420, expected=4651.000000\n",
      "4654\n",
      "predicted=4023.657420, expected=4654.000000\n",
      "4655\n",
      "predicted=4023.657420, expected=4655.000000\n",
      "4657\n",
      "predicted=4023.657420, expected=4657.000000\n",
      "4658\n",
      "predicted=4023.657420, expected=4658.000000\n",
      "4661\n",
      "predicted=4023.657420, expected=4661.000000\n",
      "4662\n",
      "predicted=4023.657420, expected=4662.000000\n",
      "4663\n",
      "predicted=4023.657420, expected=4663.000000\n",
      "4664\n",
      "predicted=4023.657420, expected=4664.000000\n",
      "4665\n",
      "predicted=4023.657420, expected=4665.000000\n",
      "4668\n",
      "predicted=4023.657420, expected=4668.000000\n",
      "4669\n",
      "predicted=4023.657420, expected=4669.000000\n",
      "4670\n",
      "predicted=4023.657420, expected=4670.000000\n",
      "4671\n",
      "predicted=4023.657420, expected=4671.000000\n",
      "4672\n",
      "predicted=4023.657420, expected=4672.000000\n",
      "4675\n",
      "predicted=4023.657420, expected=4675.000000\n",
      "4676\n",
      "predicted=4023.657420, expected=4676.000000\n",
      "4677\n",
      "predicted=4023.657420, expected=4677.000000\n",
      "4678\n",
      "predicted=4023.657420, expected=4678.000000\n",
      "4679\n",
      "predicted=4023.657420, expected=4679.000000\n",
      "4682\n",
      "predicted=4023.657420, expected=4682.000000\n",
      "4683\n",
      "predicted=4023.657420, expected=4683.000000\n",
      "4684\n",
      "predicted=4023.657420, expected=4684.000000\n",
      "4685\n",
      "predicted=4023.657420, expected=4685.000000\n",
      "4686\n",
      "predicted=4023.657420, expected=4686.000000\n",
      "4688\n",
      "predicted=4023.657420, expected=4688.000000\n",
      "4689\n",
      "predicted=4023.657420, expected=4689.000000\n",
      "4690\n",
      "predicted=4023.657420, expected=4690.000000\n",
      "4691\n",
      "predicted=4023.657420, expected=4691.000000\n",
      "4692\n",
      "predicted=4023.657420, expected=4692.000000\n",
      "4693\n",
      "predicted=4023.657420, expected=4693.000000\n",
      "4696\n",
      "predicted=4023.657420, expected=4696.000000\n",
      "4697\n",
      "predicted=4023.657420, expected=4697.000000\n",
      "4698\n",
      "predicted=4023.657420, expected=4698.000000\n",
      "4699\n",
      "predicted=4023.657420, expected=4699.000000\n",
      "4700\n",
      "predicted=4023.657420, expected=4700.000000\n",
      "4703\n",
      "predicted=4023.657420, expected=4703.000000\n",
      "4704\n",
      "predicted=4023.657420, expected=4704.000000\n",
      "4705\n",
      "predicted=4023.657420, expected=4705.000000\n",
      "4706\n",
      "predicted=4023.657420, expected=4706.000000\n",
      "4707\n",
      "predicted=4023.657420, expected=4707.000000\n",
      "4710\n",
      "predicted=4023.657420, expected=4710.000000\n",
      "4711\n",
      "predicted=4023.657420, expected=4711.000000\n",
      "4712\n",
      "predicted=4023.657420, expected=4712.000000\n",
      "4713\n",
      "predicted=4023.657420, expected=4713.000000\n",
      "4714\n",
      "predicted=4023.657420, expected=4714.000000\n",
      "4717\n",
      "predicted=4023.657420, expected=4717.000000\n",
      "4718\n",
      "predicted=4023.657420, expected=4718.000000\n",
      "4719\n",
      "predicted=4023.657420, expected=4719.000000\n",
      "4720\n",
      "predicted=4023.657420, expected=4720.000000\n",
      "4721\n",
      "predicted=4023.657420, expected=4721.000000\n",
      "4724\n",
      "predicted=4023.657420, expected=4724.000000\n",
      "4725\n",
      "predicted=4023.657420, expected=4725.000000\n",
      "4726\n",
      "predicted=4023.657420, expected=4726.000000\n",
      "4727\n",
      "predicted=4023.657420, expected=4727.000000\n",
      "4728\n",
      "predicted=4023.657420, expected=4728.000000\n",
      "4731\n",
      "predicted=4023.657420, expected=4731.000000\n",
      "4732\n",
      "predicted=4023.657420, expected=4732.000000\n",
      "4733\n",
      "predicted=4023.657420, expected=4733.000000\n"
     ]
    }
   ],
   "source": [
    "predictions = list()\n",
    "for t in range(len(X_test)):\n",
    "    model = ARIMA(X_train.values, order=(5,1,0))\n",
    "    model_fit = model.fit()\n",
    "    output = model_fit.forecast()\n",
    "    yhat = output[0]\n",
    "    predictions.append(yhat)\n",
    "    obs = X_test.values[t]\n",
    "    print(obs)\n",
    "    history = [X_train.values]\n",
    "    history.append(obs)\n",
    "    print('predicted=%f, expected=%f' % (yhat, obs))\n"
   ],
   "metadata": {
    "collapsed": false,
    "pycharm": {
     "is_executing": true
    }
   }
  },
  {
   "cell_type": "code",
   "execution_count": 29,
   "outputs": [
    {
     "ename": "NameError",
     "evalue": "name 'obs' is not defined",
     "output_type": "error",
     "traceback": [
      "\u001B[1;31m---------------------------------------------------------------------------\u001B[0m",
      "\u001B[1;31mNameError\u001B[0m                                 Traceback (most recent call last)",
      "\u001B[1;32m~\\AppData\\Local\\Temp\\ipykernel_27128\\1252265022.py\u001B[0m in \u001B[0;36m<module>\u001B[1;34m\u001B[0m\n\u001B[1;32m----> 1\u001B[1;33m \u001B[0mobs\u001B[0m\u001B[1;33m\u001B[0m\u001B[1;33m\u001B[0m\u001B[0m\n\u001B[0m",
      "\u001B[1;31mNameError\u001B[0m: name 'obs' is not defined"
     ]
    }
   ],
   "source": [
    "obs"
   ],
   "metadata": {
    "collapsed": false
   }
  },
  {
   "cell_type": "code",
   "execution_count": 26,
   "outputs": [
    {
     "name": "stdout",
     "output_type": "stream",
     "text": [
      "Test RMSE: 465.732\n"
     ]
    }
   ],
   "source": [
    "rmse = np.sqrt(mean_squared_error(X_test, predictions))\n",
    "print('Test RMSE: %.3f' % rmse)\n"
   ],
   "metadata": {
    "collapsed": false
   }
  },
  {
   "cell_type": "code",
   "execution_count": null,
   "outputs": [],
   "source": [
    "plt.plot(X_test)\n",
    "plt.plot(predictions, color='red')\n",
    "plt.show()"
   ],
   "metadata": {
    "collapsed": false
   }
  },
  {
   "cell_type": "markdown",
   "id": "ee0265d2",
   "metadata": {},
   "source": [
    "<h3>Using the decision tree regressor</h3>"
   ]
  },
  {
   "cell_type": "code",
   "execution_count": 12,
   "id": "4bc258d3",
   "metadata": {},
   "outputs": [],
   "source": [
    "X = df\n",
    "y = df['CPI']"
   ]
  },
  {
   "cell_type": "code",
   "execution_count": 13,
   "id": "1668d20e",
   "metadata": {},
   "outputs": [],
   "source": [
    "tscv = TimeSeriesSplit()"
   ]
  },
  {
   "cell_type": "code",
   "execution_count": 14,
   "id": "a8cbcd3d",
   "metadata": {},
   "outputs": [
    {
     "name": "stdout",
     "output_type": "stream",
     "text": [
      "Fold 1\n",
      "R2 Score: -0.9820142471552693\n",
      "Mean Squared Error: 0.4041878980891719\n",
      "Root Mean Squared Error: 0.6357577353750183\n",
      "Mean Absolute Error: 0.514171974522293\n",
      "\n",
      "Fold 2\n",
      "R2 Score: 0.5485329784455428\n",
      "Mean Squared Error: 0.032213375796178265\n",
      "Root Mean Squared Error: 0.17948085077851136\n",
      "Mean Absolute Error: 0.15015923566879025\n",
      "\n",
      "Fold 3\n",
      "R2 Score: -0.9803901525821004\n",
      "Mean Squared Error: 4.012531847133747\n",
      "Root Mean Squared Error: 2.0031305117574707\n",
      "Mean Absolute Error: 1.4664012738853482\n",
      "\n",
      "Fold 4\n",
      "R2 Score: -0.21627173332084704\n",
      "Mean Squared Error: 0.6856528662420378\n",
      "Root Mean Squared Error: 0.8280415848506872\n",
      "Mean Absolute Error: 0.6912420382165605\n",
      "\n",
      "Fold 5\n",
      "R2 Score: 0.6756106162661579\n",
      "Mean Squared Error: 4.735079617834376\n",
      "Root Mean Squared Error: 2.1760238091147754\n",
      "Mean Absolute Error: 1.3957006369426703\n",
      "\n"
     ]
    }
   ],
   "source": [
    "# Split data into train and test, run decision tree regression model, and print R2 score, MSE, and MAE.\n",
    "i=1\n",
    "for train_index, test_index in tscv.split(X):\n",
    "    #print(\"TRAIN:\", train_index, \"TEST:\", test_index)\n",
    "    X_train, X_test = X.loc[train_index], X.loc[test_index]\n",
    "    y_train, y_test = y.loc[train_index], y.loc[test_index]\n",
    "    \n",
    "    dt = DecisionTreeRegressor()\n",
    "    \n",
    "    dt.fit(X_train, y_train)\n",
    "    ypred = dt.predict(X_test)\n",
    "    \n",
    "    print('Fold ' + str(i))\n",
    "    print('R2 Score: ' + str(r2_score(y_test, ypred)))\n",
    "    print('Mean Squared Error: ' + str(mean_squared_error(y_test, ypred)))\n",
    "    print('Root Mean Squared Error: ' + str(mean_squared_error(y_test, ypred, squared=False)))\n",
    "    print('Mean Absolute Error: ' + str(mean_absolute_error(y_test, ypred)))\n",
    "    print('')\n",
    "    i=i+1"
   ]
  },
  {
   "cell_type": "markdown",
   "id": "c41824a4",
   "metadata": {},
   "source": [
    "<h3>Decision Tree Regressor with hyperparameter tuning using GridSearchCV</h3>"
   ]
  },
  {
   "cell_type": "code",
   "execution_count": 15,
   "id": "cc02226a",
   "metadata": {},
   "outputs": [
    {
     "name": "stdout",
     "output_type": "stream",
     "text": [
      "Fold 1\n",
      "R2 Score: -1.282241820719963\n",
      "Mean Squared Error: 0.4654126607676914\n",
      "Root Mean Squared Error: 0.6822115953043392\n",
      "Mean Absolute Error: 0.5661254149098406\n",
      "\n",
      "Fold 2\n",
      "R2 Score: 0.6253024571478324\n",
      "Mean Squared Error: 0.0267356687898089\n",
      "Root Mean Squared Error: 0.1635104546804543\n",
      "Mean Absolute Error: 0.12277070063694338\n",
      "\n",
      "Fold 3\n",
      "R2 Score: -0.9803901525821086\n",
      "Mean Squared Error: 4.012531847133763\n",
      "Root Mean Squared Error: 2.0031305117574747\n",
      "Mean Absolute Error: 1.466401273885353\n",
      "\n",
      "Fold 4\n",
      "R2 Score: -0.1495654867874976\n",
      "Mean Squared Error: 0.6480483343937475\n",
      "Root Mean Squared Error: 0.8050144932817964\n",
      "Mean Absolute Error: 0.6299244706489949\n",
      "\n",
      "Fold 5\n",
      "R2 Score: 0.6763338742418159\n",
      "Mean Squared Error: 4.724522292993612\n",
      "Root Mean Squared Error: 2.173596626100071\n",
      "Mean Absolute Error: 1.4117834394904418\n",
      "\n"
     ]
    }
   ],
   "source": [
    "i=1\n",
    "for train_index, test_index in tscv.split(y):\n",
    "    #print(\"TRAIN:\", train_index, \"TEST:\", test_index)\n",
    "    X_train, X_test = X.loc[train_index], X.loc[test_index]\n",
    "    y_train, y_test = y.loc[train_index], y.loc[test_index]\n",
    "   \n",
    "    \n",
    "    tree = DecisionTreeRegressor()\n",
    "    \n",
    "    grid_search = GridSearchCV(tree, param_grid={'ccp_alpha':[0.001, 0.01, 0, 0.1, 1, 10]})\n",
    "    grid_search.fit(X_train, y_train)\n",
    "    ypred = grid_search.predict(X_test)\n",
    "    \n",
    "    \n",
    "    print('Fold ' + str(i))\n",
    "    print('R2 Score: ' + str(r2_score(y_test, ypred)))\n",
    "    print('Mean Squared Error: ' + str(mean_squared_error(y_test, ypred)))\n",
    "    print('Root Mean Squared Error: ' + str(mean_squared_error(y_test, ypred, squared=False)))\n",
    "    print('Mean Absolute Error: ' + str(mean_absolute_error(y_test, ypred)))\n",
    "    print('')\n",
    "    i=i+1"
   ]
  },
  {
   "cell_type": "markdown",
   "id": "88bf7dc4",
   "metadata": {},
   "source": [
    "Fold 2 and fold 5 seem to have better R2 values while Fold 1, 3, and 4 have negative R2 values."
   ]
  },
  {
   "cell_type": "code",
   "execution_count": 16,
   "id": "c148753a",
   "metadata": {},
   "outputs": [
    {
     "name": "stdout",
     "output_type": "stream",
     "text": [
      "Fold 1\n",
      "R2 Score: -0.5509784102331234\n",
      "Mean Squared Error: 0.316287687898089\n",
      "Root Mean Squared Error: 0.5623946015904571\n",
      "Mean Absolute Error: 0.4385222929936302\n",
      "\n",
      "Fold 2\n",
      "R2 Score: 0.6865667105064368\n",
      "Mean Squared Error: 0.02236430095541449\n",
      "Root Mean Squared Error: 0.1495469857784318\n",
      "Mean Absolute Error: 0.12102707006369548\n",
      "\n",
      "Fold 3\n",
      "R2 Score: 0.5802856746391148\n",
      "Mean Squared Error: 0.8503966226114573\n",
      "Root Mean Squared Error: 0.9221695194547787\n",
      "Mean Absolute Error: 0.7101194267515882\n",
      "\n",
      "Fold 4\n",
      "R2 Score: 0.04043663393881858\n",
      "Mean Squared Error: 0.5409378136942598\n",
      "Root Mean Squared Error: 0.7354847474246218\n",
      "Mean Absolute Error: 0.5478614649681484\n",
      "\n",
      "Fold 5\n",
      "R2 Score: 0.7263578962760076\n",
      "Mean Squared Error: 3.99432661146494\n",
      "Root Mean Squared Error: 1.998581149582108\n",
      "Mean Absolute Error: 1.299038216560504\n",
      "\n"
     ]
    }
   ],
   "source": [
    "# Split data into train and test, run random forest regression model, and print R2 score, MSE, and MAE.\n",
    "i=1\n",
    "for train_index, test_index in tscv.split(X):\n",
    "    #print(\"TRAIN:\", train_index, \"TEST:\", test_index)\n",
    "    X_train, X_test = X.loc[train_index], X.loc[test_index]\n",
    "    y_train, y_test = y.loc[train_index], y.loc[test_index]\n",
    "    \n",
    "    rf = RandomForestRegressor()\n",
    "    \n",
    "    rf.fit(X_train, y_train)\n",
    "    ypred = rf.predict(X_test)\n",
    "    \n",
    "    \n",
    "    print('Fold ' + str(i))\n",
    "    print('R2 Score: ' + str(r2_score(y_test, ypred)))\n",
    "    print('Mean Squared Error: ' + str(mean_squared_error(y_test, ypred)))\n",
    "    print('Root Mean Squared Error: ' + str(mean_squared_error(y_test, ypred, squared=False)))\n",
    "    print('Mean Absolute Error: ' + str(mean_absolute_error(y_test, ypred)))\n",
    "    print('')\n",
    "    i=i+1"
   ]
  },
  {
   "cell_type": "markdown",
   "id": "63d4d798",
   "metadata": {},
   "source": [
    "The R2 score for the decision tree regressor is not consistent. For some folds, it equates to about 0.90 while other folds have about zero. This could be because the model is unable to predict values at certain parts of the data. The MSE and MAE are both generally low"
   ]
  },
  {
   "cell_type": "code",
   "execution_count": 17,
   "id": "0e1d9fec",
   "metadata": {},
   "outputs": [
    {
     "name": "stdout",
     "output_type": "stream",
     "text": [
      "Fold 0\n",
      "R2 Score: 0.11458889689097485\n",
      "Mean Squared Error: 0.18055997994166614\n",
      "Root Mean Squared Error: 0.424923498928532\n",
      "Mean Absolute Error: 0.3119122944093811\n",
      "\n",
      "Fold 1\n",
      "R2 Score: 0.7968013090549106\n",
      "Mean Squared Error: 0.014498768415393744\n",
      "Root Mean Squared Error: 0.12041083180259882\n",
      "Mean Absolute Error: 0.08189764008152989\n",
      "\n",
      "Fold 2\n",
      "R2 Score: 0.7439251591683524\n",
      "Mean Squared Error: 0.5188414276585804\n",
      "Root Mean Squared Error: 0.7203064817552182\n",
      "Mean Absolute Error: 0.5935777640382834\n",
      "\n",
      "Fold 3\n",
      "R2 Score: 0.8427449458452029\n",
      "Mean Squared Error: 0.0886499091102699\n",
      "Root Mean Squared Error: 0.2977413459872006\n",
      "Mean Absolute Error: 0.24182127444959703\n",
      "\n",
      "Fold 4\n",
      "R2 Score: 0.7810262595901164\n",
      "Mean Squared Error: 3.1963379415231614\n",
      "Root Mean Squared Error: 1.7878305125271694\n",
      "Mean Absolute Error: 1.0932438781047424\n",
      "\n"
     ]
    }
   ],
   "source": [
    "# Split data into train and test, run GradientBoostingRegressor model, and print R2 score, MSE, and MAE.\n",
    "i=0\n",
    "for train_index, test_index in tscv.split(X):\n",
    "    #print(\"TRAIN:\", train_index, \"TEST:\", test_index)\n",
    "    X_train, X_test = X.loc[train_index], X.loc[test_index]\n",
    "    y_train, y_test = y.loc[train_index], y.loc[test_index]\n",
    "    \n",
    "    gbr = GradientBoostingRegressor()\n",
    "    \n",
    "    gbr.fit(X_train, y_train)\n",
    "    ypred = gbr.predict(X_test)\n",
    "    \n",
    "    \n",
    "    print('Fold ' + str(i))\n",
    "    print('R2 Score: ' + str(r2_score(y_test, ypred)))\n",
    "    print('Mean Squared Error: ' + str(mean_squared_error(y_test, ypred)))\n",
    "    print('Root Mean Squared Error: ' + str(mean_squared_error(y_test, ypred, squared=False)))\n",
    "    print('Mean Absolute Error: ' + str(mean_absolute_error(y_test, ypred)))\n",
    "    print('')\n",
    "    i=i+1"
   ]
  },
  {
   "cell_type": "markdown",
   "id": "1d8e74e3",
   "metadata": {},
   "source": [
    "The gradient booster has relatively consistent results across the folds. It has low MSE and MAE values across the folds and the R2 score is also generally high with just one significanly low value of 0.299."
   ]
  },
  {
   "cell_type": "code",
   "execution_count": 18,
   "id": "2b7e7594",
   "metadata": {},
   "outputs": [
    {
     "name": "stdout",
     "output_type": "stream",
     "text": [
      "Fold 1\n",
      "R2 Score: 0.9999999999999984\n",
      "Mean Squared Error: 3.1533588606085414e-16\n",
      "Root Mean Squared Error: 1.7757699345941582e-08\n",
      "Mean Absolute Error: 1.566073783817605e-08\n",
      "\n",
      "Fold 2\n",
      "R2 Score: 1.0\n",
      "Mean Squared Error: 1.5949702389866517e-19\n",
      "Root Mean Squared Error: 3.993707849839109e-10\n",
      "Mean Absolute Error: 3.1405752945167563e-10\n",
      "\n",
      "Fold 3\n",
      "R2 Score: 1.0\n",
      "Mean Squared Error: 3.681284718734038e-20\n",
      "Root Mean Squared Error: 1.9186674330727663e-10\n",
      "Mean Absolute Error: 1.7787576295119022e-10\n",
      "\n",
      "Fold 4\n",
      "R2 Score: 1.0\n",
      "Mean Squared Error: 8.226614332281202e-22\n",
      "Root Mean Squared Error: 2.8682075120676333e-11\n",
      "Mean Absolute Error: 2.5451435721884024e-11\n",
      "\n",
      "Fold 5\n",
      "R2 Score: 1.0\n",
      "Mean Squared Error: 1.1839755115386613e-21\n",
      "Root Mean Squared Error: 3.440894522560465e-11\n",
      "Mean Absolute Error: 2.6739752132266204e-11\n",
      "\n"
     ]
    }
   ],
   "source": [
    "# Split data into train and test, run BayesianRidge model, and print R2 score, MSE, and MAE.\n",
    "i=1\n",
    "for train_index, test_index in tscv.split(X):\n",
    "    #print(\"TRAIN:\", train_index, \"TEST:\", test_index)\n",
    "    X_train, X_test = X.loc[train_index], X.loc[test_index]\n",
    "    y_train, y_test = y.loc[train_index], y.loc[test_index]\n",
    "    \n",
    "    br = BayesianRidge()\n",
    "    \n",
    "    br.fit(X_train, y_train)\n",
    "    ypred = br.predict(X_test)\n",
    "    \n",
    "    \n",
    "    print('Fold ' + str(i))\n",
    "    print('R2 Score: ' + str(r2_score(y_test, ypred)))\n",
    "    print('Mean Squared Error: ' + str(mean_squared_error(y_test, ypred)))\n",
    "    print('Root Mean Squared Error: ' + str(mean_squared_error(y_test, ypred, squared=False)))\n",
    "    print('Mean Absolute Error: ' + str(mean_absolute_error(y_test, ypred)))\n",
    "    print('')\n",
    "    i=i+1"
   ]
  },
  {
   "cell_type": "markdown",
   "id": "1be612d8",
   "metadata": {},
   "source": [
    "The Bayesian Ridge, much like the linear regression model performs extremely well on the dataset with R2 scores of 1 and MSE and MAE giving values of zero. "
   ]
  },
  {
   "cell_type": "code",
   "execution_count": 20,
   "id": "eaa1dce2",
   "metadata": {},
   "outputs": [],
   "source": [
    "otherdf = pd.read_csv('../Data/exploredData')"
   ]
  },
  {
   "cell_type": "code",
   "execution_count": 21,
   "id": "b3aeaa9a",
   "metadata": {},
   "outputs": [
    {
     "data": {
      "text/plain": "         date  7 Day Bobc  1 Month BoBC     CHN     EUR     GBP     USD  \\\n0  2022-09-02        2.65          2.43  0.5340  0.0775  0.0670  0.0772   \n1  2022-09-01        2.65          2.43  0.5359  0.0774  0.0670  0.0775   \n2  2022-08-31        2.65          2.43  0.5395  0.0779  0.0669  0.0782   \n3  2022-08-30        2.15          2.43  0.5420  0.0783  0.0669  0.0783   \n4  2022-08-29        2.15          2.43  0.5405  0.0785  0.0669  0.0780   \n\n      SDR    YEN     ZAR   CPI  CPIT  CPIXA  \n0  0.0595  10.84  1.3355  12.7  10.3    6.6  \n1  0.0596  10.80  1.3333  12.7  10.3    6.6  \n2  0.0599  10.82  1.3234  12.7  10.3    6.6  \n3  0.0601  10.85  1.3191  12.7  10.3    6.6  \n4  0.0600  10.83  1.3216  12.7  10.3    6.6  ",
      "text/html": "<div>\n<style scoped>\n    .dataframe tbody tr th:only-of-type {\n        vertical-align: middle;\n    }\n\n    .dataframe tbody tr th {\n        vertical-align: top;\n    }\n\n    .dataframe thead th {\n        text-align: right;\n    }\n</style>\n<table border=\"1\" class=\"dataframe\">\n  <thead>\n    <tr style=\"text-align: right;\">\n      <th></th>\n      <th>date</th>\n      <th>7 Day Bobc</th>\n      <th>1 Month BoBC</th>\n      <th>CHN</th>\n      <th>EUR</th>\n      <th>GBP</th>\n      <th>USD</th>\n      <th>SDR</th>\n      <th>YEN</th>\n      <th>ZAR</th>\n      <th>CPI</th>\n      <th>CPIT</th>\n      <th>CPIXA</th>\n    </tr>\n  </thead>\n  <tbody>\n    <tr>\n      <th>0</th>\n      <td>2022-09-02</td>\n      <td>2.65</td>\n      <td>2.43</td>\n      <td>0.5340</td>\n      <td>0.0775</td>\n      <td>0.0670</td>\n      <td>0.0772</td>\n      <td>0.0595</td>\n      <td>10.84</td>\n      <td>1.3355</td>\n      <td>12.7</td>\n      <td>10.3</td>\n      <td>6.6</td>\n    </tr>\n    <tr>\n      <th>1</th>\n      <td>2022-09-01</td>\n      <td>2.65</td>\n      <td>2.43</td>\n      <td>0.5359</td>\n      <td>0.0774</td>\n      <td>0.0670</td>\n      <td>0.0775</td>\n      <td>0.0596</td>\n      <td>10.80</td>\n      <td>1.3333</td>\n      <td>12.7</td>\n      <td>10.3</td>\n      <td>6.6</td>\n    </tr>\n    <tr>\n      <th>2</th>\n      <td>2022-08-31</td>\n      <td>2.65</td>\n      <td>2.43</td>\n      <td>0.5395</td>\n      <td>0.0779</td>\n      <td>0.0669</td>\n      <td>0.0782</td>\n      <td>0.0599</td>\n      <td>10.82</td>\n      <td>1.3234</td>\n      <td>12.7</td>\n      <td>10.3</td>\n      <td>6.6</td>\n    </tr>\n    <tr>\n      <th>3</th>\n      <td>2022-08-30</td>\n      <td>2.15</td>\n      <td>2.43</td>\n      <td>0.5420</td>\n      <td>0.0783</td>\n      <td>0.0669</td>\n      <td>0.0783</td>\n      <td>0.0601</td>\n      <td>10.85</td>\n      <td>1.3191</td>\n      <td>12.7</td>\n      <td>10.3</td>\n      <td>6.6</td>\n    </tr>\n    <tr>\n      <th>4</th>\n      <td>2022-08-29</td>\n      <td>2.15</td>\n      <td>2.43</td>\n      <td>0.5405</td>\n      <td>0.0785</td>\n      <td>0.0669</td>\n      <td>0.0780</td>\n      <td>0.0600</td>\n      <td>10.83</td>\n      <td>1.3216</td>\n      <td>12.7</td>\n      <td>10.3</td>\n      <td>6.6</td>\n    </tr>\n  </tbody>\n</table>\n</div>"
     },
     "execution_count": 21,
     "metadata": {},
     "output_type": "execute_result"
    }
   ],
   "source": [
    "otherdf.head()"
   ]
  },
  {
   "cell_type": "code",
   "execution_count": 22,
   "id": "21afefde",
   "metadata": {},
   "outputs": [],
   "source": [
    "frcstdf = otherdf[['date', 'CPI']]"
   ]
  },
  {
   "cell_type": "code",
   "execution_count": 23,
   "id": "c1862f18",
   "metadata": {},
   "outputs": [
    {
     "name": "stderr",
     "output_type": "stream",
     "text": [
      "C:\\Users\\ituser\\AppData\\Local\\Temp\\ipykernel_3460\\4024293830.py:2: SettingWithCopyWarning: \n",
      "A value is trying to be set on a copy of a slice from a DataFrame\n",
      "\n",
      "See the caveats in the documentation: https://pandas.pydata.org/pandas-docs/stable/user_guide/indexing.html#returning-a-view-versus-a-copy\n",
      "  frcstdf.rename(columns={'index': 'unique_id', 'date':'ds', 'CPI':'y' }, inplace=True)\n"
     ]
    }
   ],
   "source": [
    "frcstdf.reset_index(inplace=True)\n",
    "frcstdf.rename(columns={'index': 'unique_id', 'date':'ds', 'CPI':'y' }, inplace=True)"
   ]
  },
  {
   "cell_type": "code",
   "execution_count": 24,
   "id": "519c0668",
   "metadata": {},
   "outputs": [
    {
     "data": {
      "text/plain": "   unique_id          ds     y\n0          0  2022-09-02  12.7\n1          1  2022-09-01  12.7\n2          2  2022-08-31  12.7\n3          3  2022-08-30  12.7\n4          4  2022-08-29  12.7",
      "text/html": "<div>\n<style scoped>\n    .dataframe tbody tr th:only-of-type {\n        vertical-align: middle;\n    }\n\n    .dataframe tbody tr th {\n        vertical-align: top;\n    }\n\n    .dataframe thead th {\n        text-align: right;\n    }\n</style>\n<table border=\"1\" class=\"dataframe\">\n  <thead>\n    <tr style=\"text-align: right;\">\n      <th></th>\n      <th>unique_id</th>\n      <th>ds</th>\n      <th>y</th>\n    </tr>\n  </thead>\n  <tbody>\n    <tr>\n      <th>0</th>\n      <td>0</td>\n      <td>2022-09-02</td>\n      <td>12.7</td>\n    </tr>\n    <tr>\n      <th>1</th>\n      <td>1</td>\n      <td>2022-09-01</td>\n      <td>12.7</td>\n    </tr>\n    <tr>\n      <th>2</th>\n      <td>2</td>\n      <td>2022-08-31</td>\n      <td>12.7</td>\n    </tr>\n    <tr>\n      <th>3</th>\n      <td>3</td>\n      <td>2022-08-30</td>\n      <td>12.7</td>\n    </tr>\n    <tr>\n      <th>4</th>\n      <td>4</td>\n      <td>2022-08-29</td>\n      <td>12.7</td>\n    </tr>\n  </tbody>\n</table>\n</div>"
     },
     "execution_count": 24,
     "metadata": {},
     "output_type": "execute_result"
    }
   ],
   "source": [
    "frcstdf.head()"
   ]
  },
  {
   "cell_type": "code",
   "execution_count": 25,
   "id": "b8144f61",
   "metadata": {},
   "outputs": [
    {
     "name": "stderr",
     "output_type": "stream",
     "text": [
      "C:\\Users\\ituser\\AppData\\Local\\Temp\\ipykernel_3460\\2198625539.py:1: SettingWithCopyWarning: \n",
      "A value is trying to be set on a copy of a slice from a DataFrame.\n",
      "Try using .loc[row_indexer,col_indexer] = value instead\n",
      "\n",
      "See the caveats in the documentation: https://pandas.pydata.org/pandas-docs/stable/user_guide/indexing.html#returning-a-view-versus-a-copy\n",
      "  frcstdf['unique_id'] = 1\n"
     ]
    }
   ],
   "source": [
    "frcstdf['unique_id'] = 1"
   ]
  },
  {
   "cell_type": "code",
   "execution_count": 26,
   "id": "932ec42e",
   "metadata": {},
   "outputs": [
    {
     "data": {
      "text/plain": "   unique_id          ds     y\n0          1  2022-09-02  12.7\n1          1  2022-09-01  12.7\n2          1  2022-08-31  12.7\n3          1  2022-08-30  12.7\n4          1  2022-08-29  12.7",
      "text/html": "<div>\n<style scoped>\n    .dataframe tbody tr th:only-of-type {\n        vertical-align: middle;\n    }\n\n    .dataframe tbody tr th {\n        vertical-align: top;\n    }\n\n    .dataframe thead th {\n        text-align: right;\n    }\n</style>\n<table border=\"1\" class=\"dataframe\">\n  <thead>\n    <tr style=\"text-align: right;\">\n      <th></th>\n      <th>unique_id</th>\n      <th>ds</th>\n      <th>y</th>\n    </tr>\n  </thead>\n  <tbody>\n    <tr>\n      <th>0</th>\n      <td>1</td>\n      <td>2022-09-02</td>\n      <td>12.7</td>\n    </tr>\n    <tr>\n      <th>1</th>\n      <td>1</td>\n      <td>2022-09-01</td>\n      <td>12.7</td>\n    </tr>\n    <tr>\n      <th>2</th>\n      <td>1</td>\n      <td>2022-08-31</td>\n      <td>12.7</td>\n    </tr>\n    <tr>\n      <th>3</th>\n      <td>1</td>\n      <td>2022-08-30</td>\n      <td>12.7</td>\n    </tr>\n    <tr>\n      <th>4</th>\n      <td>1</td>\n      <td>2022-08-29</td>\n      <td>12.7</td>\n    </tr>\n  </tbody>\n</table>\n</div>"
     },
     "execution_count": 26,
     "metadata": {},
     "output_type": "execute_result"
    }
   ],
   "source": [
    "frcstdf.head()"
   ]
  },
  {
   "cell_type": "code",
   "execution_count": 27,
   "id": "f504ed0b",
   "metadata": {},
   "outputs": [
    {
     "name": "stderr",
     "output_type": "stream",
     "text": [
      "C:\\Users\\ituser\\AppData\\Local\\Temp\\ipykernel_3460\\74521932.py:1: SettingWithCopyWarning: \n",
      "A value is trying to be set on a copy of a slice from a DataFrame.\n",
      "Try using .loc[row_indexer,col_indexer] = value instead\n",
      "\n",
      "See the caveats in the documentation: https://pandas.pydata.org/pandas-docs/stable/user_guide/indexing.html#returning-a-view-versus-a-copy\n",
      "  frcstdf['ds'] = pd.to_datetime(frcstdf['ds'])\n"
     ]
    }
   ],
   "source": [
    "frcstdf['ds'] = pd.to_datetime(frcstdf['ds'])"
   ]
  },
  {
   "cell_type": "code",
   "execution_count": 28,
   "id": "b40a6f5c",
   "metadata": {},
   "outputs": [
    {
     "data": {
      "text/plain": "0   2022-09-02\n1   2022-09-01\n2   2022-08-31\n3   2022-08-30\n4   2022-08-29\nName: ds, dtype: datetime64[ns]"
     },
     "execution_count": 28,
     "metadata": {},
     "output_type": "execute_result"
    }
   ],
   "source": [
    "frcstdf['ds'].head()"
   ]
  },
  {
   "cell_type": "code",
   "execution_count": 29,
   "id": "69aa7976",
   "metadata": {},
   "outputs": [
    {
     "name": "stdout",
     "output_type": "stream",
     "text": [
      "<class 'pandas.core.frame.DataFrame'>\n",
      "RangeIndex: 3771 entries, 0 to 3770\n",
      "Data columns (total 3 columns):\n",
      " #   Column     Non-Null Count  Dtype         \n",
      "---  ------     --------------  -----         \n",
      " 0   unique_id  3771 non-null   int64         \n",
      " 1   ds         3771 non-null   datetime64[ns]\n",
      " 2   y          3771 non-null   float64       \n",
      "dtypes: datetime64[ns](1), float64(1), int64(1)\n",
      "memory usage: 88.5 KB\n"
     ]
    }
   ],
   "source": [
    "frcstdf.info()"
   ]
  },
  {
   "cell_type": "code",
   "execution_count": 30,
   "id": "2c093a30",
   "metadata": {},
   "outputs": [],
   "source": [
    "tscv2 = TimeSeriesSplit(max_train_size=3000, test_size=500)"
   ]
  },
  {
   "cell_type": "code",
   "execution_count": 31,
   "id": "ce2285f0",
   "metadata": {},
   "outputs": [
    {
     "name": "stderr",
     "output_type": "stream",
     "text": [
      "C:\\Users\\ituser\\anaconda3\\lib\\site-packages\\statsforecast\\models.py:526: FutureWarning: `ETS` will be deprecated in future versions of `StatsForecast`. Please use `AutoETS` instead.\n",
      "  ETS._warn()\n"
     ]
    },
    {
     "name": "stdout",
     "output_type": "stream",
     "text": [
      "AUTO ARIMA\n",
      "Fold 1\n",
      "R2 Score: -1987.5466768126776\n",
      "Mean Squared Error: 171.7928541239923\n",
      "Root Mean Squared Error: 13.106977306915287\n",
      "Mean Absolute Error: 12.939298834609982\n",
      "\n",
      "ETS\n",
      "Fold 1\n",
      "R2 Score: -1075.1931698043077\n",
      "Mean Squared Error: 92.9735763234711\n",
      "Root Mean Squared Error: 9.642280659857972\n",
      "Mean Absolute Error: 9.637799809265136\n",
      "\n"
     ]
    },
    {
     "name": "stderr",
     "output_type": "stream",
     "text": [
      "C:\\Users\\ituser\\anaconda3\\lib\\site-packages\\statsforecast\\models.py:526: FutureWarning: `ETS` will be deprecated in future versions of `StatsForecast`. Please use `AutoETS` instead.\n",
      "  ETS._warn()\n"
     ]
    },
    {
     "name": "stdout",
     "output_type": "stream",
     "text": [
      "AUTO ARIMA\n",
      "Fold 2\n",
      "R2 Score: -323.3416772767229\n",
      "Mean Squared Error: 150.35456536215386\n",
      "Root Mean Squared Error: 12.261915240375536\n",
      "Mean Absolute Error: 12.172532559967044\n",
      "\n",
      "ETS\n",
      "Fold 2\n",
      "R2 Score: -165.03066564116605\n",
      "Mean Squared Error: 76.96657666343694\n",
      "Root Mean Squared Error: 8.773059709328152\n",
      "Mean Absolute Error: 8.746599809265138\n",
      "\n"
     ]
    },
    {
     "name": "stderr",
     "output_type": "stream",
     "text": [
      "C:\\Users\\ituser\\anaconda3\\lib\\site-packages\\statsforecast\\models.py:526: FutureWarning: `ETS` will be deprecated in future versions of `StatsForecast`. Please use `AutoETS` instead.\n",
      "  ETS._warn()\n"
     ]
    },
    {
     "name": "stdout",
     "output_type": "stream",
     "text": [
      "AUTO ARIMA\n",
      "Fold 3\n",
      "R2 Score: -63.99808998042381\n",
      "Mean Squared Error: 77.18491726099774\n",
      "Root Mean Squared Error: 8.785494707812289\n",
      "Mean Absolute Error: 8.700354706954958\n",
      "\n",
      "ETS\n",
      "Fold 3\n",
      "R2 Score: -23.23007601685278\n",
      "Mean Squared Error: 28.773097996444744\n",
      "Root Mean Squared Error: 5.364056114214759\n",
      "Mean Absolute Error: 5.252199809265138\n",
      "\n"
     ]
    },
    {
     "name": "stderr",
     "output_type": "stream",
     "text": [
      "C:\\Users\\ituser\\anaconda3\\lib\\site-packages\\statsforecast\\models.py:526: FutureWarning: `ETS` will be deprecated in future versions of `StatsForecast`. Please use `AutoETS` instead.\n",
      "  ETS._warn()\n"
     ]
    },
    {
     "name": "stdout",
     "output_type": "stream",
     "text": [
      "AUTO ARIMA\n",
      "Fold 4\n",
      "R2 Score: -147.49803062206232\n",
      "Mean Squared Error: 83.14799145298599\n",
      "Root Mean Squared Error: 9.118552048049404\n",
      "Mean Absolute Error: 8.731817150878905\n",
      "\n",
      "ETS\n",
      "Fold 4\n",
      "R2 Score: -50.52382478702004\n",
      "Mean Squared Error: 28.849557971038855\n",
      "Root Mean Squared Error: 5.371178452727004\n",
      "Mean Absolute Error: 5.318799809265136\n",
      "\n"
     ]
    },
    {
     "name": "stderr",
     "output_type": "stream",
     "text": [
      "C:\\Users\\ituser\\anaconda3\\lib\\site-packages\\statsforecast\\models.py:526: FutureWarning: `ETS` will be deprecated in future versions of `StatsForecast`. Please use `AutoETS` instead.\n",
      "  ETS._warn()\n"
     ]
    },
    {
     "name": "stdout",
     "output_type": "stream",
     "text": [
      "AUTO ARIMA\n",
      "Fold 5\n",
      "R2 Score: -0.29079228107420385\n",
      "Mean Squared Error: 19.519581599884177\n",
      "Root Mean Squared Error: 4.418097056412883\n",
      "Mean Absolute Error: 3.9002001693725585\n",
      "\n",
      "ETS\n",
      "Fold 5\n",
      "R2 Score: -0.29079228107420385\n",
      "Mean Squared Error: 19.519581599884177\n",
      "Root Mean Squared Error: 4.418097056412883\n",
      "Mean Absolute Error: 3.9002001693725585\n",
      "\n"
     ]
    }
   ],
   "source": [
    "# Split data into train and test, run AutoARIMA model, and print R2 score, MSE, and MAE.\n",
    "#forcasts=[]\n",
    "i=1\n",
    "for train_index, test_index in tscv2.split(frcstdf['ds']):\n",
    "    #print(\"TRAIN:\", train_index, \"TEST:\", test_index)\n",
    "    X_train, X_test = frcstdf.loc[train_index], frcstdf.loc[test_index]\n",
    "    y_train, y_test = frcstdf['y'].loc[train_index], frcstdf['y'].loc[test_index]\n",
    "    \n",
    "    X_train.sort_values(by='ds', inplace=True)\n",
    "    \n",
    "    models = [AutoARIMA(), ETS()]\n",
    "    fcst = StatsForecast(df=X_train, models=models, freq='D')\n",
    "    \n",
    "    \n",
    "    #print(X_train.tail(5))\n",
    "    forecasts = fcst.forecast(500)\n",
    "       \n",
    "    #print(forecasts.head(10))   \n",
    "    \n",
    "    print('AUTO ARIMA')\n",
    "    print('Fold ' + str(i))\n",
    "    print('R2 Score: ' + str(r2_score(y_test, forecasts['AutoARIMA'])))\n",
    "    print('Mean Squared Error: ' + str(mean_squared_error(y_test, forecasts['AutoARIMA'])))\n",
    "    print('Root Mean Squared Error: ' + str(mean_squared_error(y_test, forecasts['AutoARIMA'], squared=False)))\n",
    "    print('Mean Absolute Error: ' + str(mean_absolute_error(y_test, forecasts['AutoARIMA'])))\n",
    "    print('')\n",
    "    \n",
    "    print('ETS')\n",
    "    print('Fold ' + str(i))\n",
    "    print('R2 Score: ' + str(r2_score(y_test, forecasts['ETS'])))\n",
    "    print('Mean Squared Error: ' + str(mean_squared_error(y_test, forecasts['ETS'])))\n",
    "    print('Root Mean Squared Error: ' + str(mean_squared_error(y_test, forecasts['ETS'], squared=False)))\n",
    "    print('Mean Absolute Error: ' + str(mean_absolute_error(y_test, forecasts['ETS'])))\n",
    "    print('')\n",
    "    \n",
    "    i=i+1"
   ]
  },
  {
   "cell_type": "code",
   "execution_count": 32,
   "id": "4ee9b11a",
   "metadata": {},
   "outputs": [
    {
     "data": {
      "text/plain": "                  ds  AutoARIMA  ETS\nunique_id                           \n1         2022-12-11        8.4  8.4\n1         2022-12-12        8.4  8.4\n1         2022-12-13        8.4  8.4\n1         2022-12-14        8.4  8.4\n1         2022-12-15        8.4  8.4",
      "text/html": "<div>\n<style scoped>\n    .dataframe tbody tr th:only-of-type {\n        vertical-align: middle;\n    }\n\n    .dataframe tbody tr th {\n        vertical-align: top;\n    }\n\n    .dataframe thead th {\n        text-align: right;\n    }\n</style>\n<table border=\"1\" class=\"dataframe\">\n  <thead>\n    <tr style=\"text-align: right;\">\n      <th></th>\n      <th>ds</th>\n      <th>AutoARIMA</th>\n      <th>ETS</th>\n    </tr>\n    <tr>\n      <th>unique_id</th>\n      <th></th>\n      <th></th>\n      <th></th>\n    </tr>\n  </thead>\n  <tbody>\n    <tr>\n      <th>1</th>\n      <td>2022-12-11</td>\n      <td>8.4</td>\n      <td>8.4</td>\n    </tr>\n    <tr>\n      <th>1</th>\n      <td>2022-12-12</td>\n      <td>8.4</td>\n      <td>8.4</td>\n    </tr>\n    <tr>\n      <th>1</th>\n      <td>2022-12-13</td>\n      <td>8.4</td>\n      <td>8.4</td>\n    </tr>\n    <tr>\n      <th>1</th>\n      <td>2022-12-14</td>\n      <td>8.4</td>\n      <td>8.4</td>\n    </tr>\n    <tr>\n      <th>1</th>\n      <td>2022-12-15</td>\n      <td>8.4</td>\n      <td>8.4</td>\n    </tr>\n  </tbody>\n</table>\n</div>"
     },
     "execution_count": 32,
     "metadata": {},
     "output_type": "execute_result"
    }
   ],
   "source": [
    "forecasts.tail()"
   ]
  },
  {
   "cell_type": "code",
   "execution_count": 33,
   "id": "e6df7efd",
   "metadata": {},
   "outputs": [],
   "source": [
    "forecasts.to_csv('CPI forecasts')"
   ]
  },
  {
   "cell_type": "code",
   "execution_count": 34,
   "id": "ca413e26",
   "metadata": {},
   "outputs": [
    {
     "data": {
      "text/plain": "                  ds  AutoARIMA  ETS\nunique_id                           \n1         2021-08-03        8.4  8.4\n1         2021-08-04        8.4  8.4\n1         2021-08-05        8.4  8.4\n1         2021-08-06        8.4  8.4\n1         2021-08-07        8.4  8.4\n...              ...        ...  ...\n1         2022-12-11        8.4  8.4\n1         2022-12-12        8.4  8.4\n1         2022-12-13        8.4  8.4\n1         2022-12-14        8.4  8.4\n1         2022-12-15        8.4  8.4\n\n[500 rows x 3 columns]",
      "text/html": "<div>\n<style scoped>\n    .dataframe tbody tr th:only-of-type {\n        vertical-align: middle;\n    }\n\n    .dataframe tbody tr th {\n        vertical-align: top;\n    }\n\n    .dataframe thead th {\n        text-align: right;\n    }\n</style>\n<table border=\"1\" class=\"dataframe\">\n  <thead>\n    <tr style=\"text-align: right;\">\n      <th></th>\n      <th>ds</th>\n      <th>AutoARIMA</th>\n      <th>ETS</th>\n    </tr>\n    <tr>\n      <th>unique_id</th>\n      <th></th>\n      <th></th>\n      <th></th>\n    </tr>\n  </thead>\n  <tbody>\n    <tr>\n      <th>1</th>\n      <td>2021-08-03</td>\n      <td>8.4</td>\n      <td>8.4</td>\n    </tr>\n    <tr>\n      <th>1</th>\n      <td>2021-08-04</td>\n      <td>8.4</td>\n      <td>8.4</td>\n    </tr>\n    <tr>\n      <th>1</th>\n      <td>2021-08-05</td>\n      <td>8.4</td>\n      <td>8.4</td>\n    </tr>\n    <tr>\n      <th>1</th>\n      <td>2021-08-06</td>\n      <td>8.4</td>\n      <td>8.4</td>\n    </tr>\n    <tr>\n      <th>1</th>\n      <td>2021-08-07</td>\n      <td>8.4</td>\n      <td>8.4</td>\n    </tr>\n    <tr>\n      <th>...</th>\n      <td>...</td>\n      <td>...</td>\n      <td>...</td>\n    </tr>\n    <tr>\n      <th>1</th>\n      <td>2022-12-11</td>\n      <td>8.4</td>\n      <td>8.4</td>\n    </tr>\n    <tr>\n      <th>1</th>\n      <td>2022-12-12</td>\n      <td>8.4</td>\n      <td>8.4</td>\n    </tr>\n    <tr>\n      <th>1</th>\n      <td>2022-12-13</td>\n      <td>8.4</td>\n      <td>8.4</td>\n    </tr>\n    <tr>\n      <th>1</th>\n      <td>2022-12-14</td>\n      <td>8.4</td>\n      <td>8.4</td>\n    </tr>\n    <tr>\n      <th>1</th>\n      <td>2022-12-15</td>\n      <td>8.4</td>\n      <td>8.4</td>\n    </tr>\n  </tbody>\n</table>\n<p>500 rows × 3 columns</p>\n</div>"
     },
     "execution_count": 34,
     "metadata": {},
     "output_type": "execute_result"
    }
   ],
   "source": [
    "forecasts"
   ]
  },
  {
   "cell_type": "code",
   "execution_count": null,
   "id": "731b7f30",
   "metadata": {},
   "outputs": [],
   "source": []
  },
  {
   "cell_type": "code",
   "execution_count": null,
   "outputs": [],
   "source": [],
   "metadata": {
    "collapsed": false
   }
  }
 ],
 "metadata": {
  "kernelspec": {
   "display_name": "Python 3 (ipykernel)",
   "language": "python",
   "name": "python3"
  },
  "language_info": {
   "codemirror_mode": {
    "name": "ipython",
    "version": 3
   },
   "file_extension": ".py",
   "mimetype": "text/x-python",
   "name": "python",
   "nbconvert_exporter": "python",
   "pygments_lexer": "ipython3",
   "version": "3.9.7"
  }
 },
 "nbformat": 4,
 "nbformat_minor": 5
}
