{
 "cells": [
  {
   "cell_type": "markdown",
   "id": "9850dedf",
   "metadata": {},
   "source": [
    "<h1>Predicting Inflation Rates - Modelling</h1>"
   ]
  },
  {
   "cell_type": "markdown",
   "id": "a41b5006",
   "metadata": {},
   "source": [
    "In this notebook, various types of modelling will be used to predict inflation rates using the data from the last notebook (Data Preprocessing). Each model will be evaluated to see how well it performs."
   ]
  },
  {
   "cell_type": "code",
   "execution_count": 1,
   "id": "4189b1f2",
   "metadata": {},
   "outputs": [],
   "source": [
    "import pandas as pd\n",
    "import numpy as np\n",
    "import matplotlib.pyplot as plt\n",
    "import seaborn as sns"
   ]
  },
  {
   "cell_type": "code",
   "execution_count": 2,
   "id": "5873f5a5",
   "metadata": {},
   "outputs": [],
   "source": [
    "from sklearn.tree import DecisionTreeRegressor\n",
    "from sklearn.ensemble import RandomForestRegressor, GradientBoostingRegressor\n",
    "from sklearn.model_selection import train_test_split, GridSearchCV, TimeSeriesSplit\n",
    "from sklearn.metrics import r2_score, mean_squared_error, mean_absolute_error\n",
    "from sklearn.linear_model import BayesianRidge"
   ]
  },
  {
   "cell_type": "code",
   "execution_count": 4,
   "id": "e1e380ec",
   "metadata": {},
   "outputs": [
    {
     "name": "stderr",
     "output_type": "stream",
     "text": [
      "C:\\Users\\ituser\\anaconda3\\lib\\site-packages\\statsforecast\\core.py:21: TqdmExperimentalWarning: Using `tqdm.autonotebook.tqdm` in notebook mode. Use `tqdm.tqdm` instead to force console mode (e.g. in jupyter console)\n",
      "  from tqdm.autonotebook import tqdm\n"
     ]
    }
   ],
   "source": [
    "from statsforecast import StatsForecast\n",
    "from statsforecast.models import AutoARIMA, ETS"
   ]
  },
  {
   "cell_type": "code",
   "execution_count": 5,
   "id": "5af6cbe8",
   "metadata": {},
   "outputs": [],
   "source": [
    "import time"
   ]
  },
  {
   "cell_type": "markdown",
   "id": "c813b7b4",
   "metadata": {},
   "source": [
    "The dataset is now loaded from the previous notebook"
   ]
  },
  {
   "cell_type": "code",
   "execution_count": 8,
   "id": "91bfd564",
   "metadata": {},
   "outputs": [],
   "source": [
    "df = pd.read_csv('../Data/preprocessed')"
   ]
  },
  {
   "cell_type": "code",
   "execution_count": 9,
   "id": "998a6abe",
   "metadata": {},
   "outputs": [
    {
     "data": {
      "text/plain": "   Unnamed: 0  date  7 Day Bobc  1 Month BoBC     CHN     EUR     GBP     USD  \\\n0           0     0        2.65          2.43  0.5340  0.0775  0.0670  0.0772   \n1           1     1        2.65          2.43  0.5359  0.0774  0.0670  0.0775   \n2           2     2        2.65          2.43  0.5395  0.0779  0.0669  0.0782   \n3           3     3        2.15          2.43  0.5420  0.0783  0.0669  0.0783   \n4           4     4        2.15          2.43  0.5405  0.0785  0.0669  0.0780   \n\n      SDR    YEN     ZAR   CPI  CPIT  CPIXA  \n0  0.0595  10.84  1.3355  12.7  10.3    6.6  \n1  0.0596  10.80  1.3333  12.7  10.3    6.6  \n2  0.0599  10.82  1.3234  12.7  10.3    6.6  \n3  0.0601  10.85  1.3191  12.7  10.3    6.6  \n4  0.0600  10.83  1.3216  12.7  10.3    6.6  ",
      "text/html": "<div>\n<style scoped>\n    .dataframe tbody tr th:only-of-type {\n        vertical-align: middle;\n    }\n\n    .dataframe tbody tr th {\n        vertical-align: top;\n    }\n\n    .dataframe thead th {\n        text-align: right;\n    }\n</style>\n<table border=\"1\" class=\"dataframe\">\n  <thead>\n    <tr style=\"text-align: right;\">\n      <th></th>\n      <th>Unnamed: 0</th>\n      <th>date</th>\n      <th>7 Day Bobc</th>\n      <th>1 Month BoBC</th>\n      <th>CHN</th>\n      <th>EUR</th>\n      <th>GBP</th>\n      <th>USD</th>\n      <th>SDR</th>\n      <th>YEN</th>\n      <th>ZAR</th>\n      <th>CPI</th>\n      <th>CPIT</th>\n      <th>CPIXA</th>\n    </tr>\n  </thead>\n  <tbody>\n    <tr>\n      <th>0</th>\n      <td>0</td>\n      <td>0</td>\n      <td>2.65</td>\n      <td>2.43</td>\n      <td>0.5340</td>\n      <td>0.0775</td>\n      <td>0.0670</td>\n      <td>0.0772</td>\n      <td>0.0595</td>\n      <td>10.84</td>\n      <td>1.3355</td>\n      <td>12.7</td>\n      <td>10.3</td>\n      <td>6.6</td>\n    </tr>\n    <tr>\n      <th>1</th>\n      <td>1</td>\n      <td>1</td>\n      <td>2.65</td>\n      <td>2.43</td>\n      <td>0.5359</td>\n      <td>0.0774</td>\n      <td>0.0670</td>\n      <td>0.0775</td>\n      <td>0.0596</td>\n      <td>10.80</td>\n      <td>1.3333</td>\n      <td>12.7</td>\n      <td>10.3</td>\n      <td>6.6</td>\n    </tr>\n    <tr>\n      <th>2</th>\n      <td>2</td>\n      <td>2</td>\n      <td>2.65</td>\n      <td>2.43</td>\n      <td>0.5395</td>\n      <td>0.0779</td>\n      <td>0.0669</td>\n      <td>0.0782</td>\n      <td>0.0599</td>\n      <td>10.82</td>\n      <td>1.3234</td>\n      <td>12.7</td>\n      <td>10.3</td>\n      <td>6.6</td>\n    </tr>\n    <tr>\n      <th>3</th>\n      <td>3</td>\n      <td>3</td>\n      <td>2.15</td>\n      <td>2.43</td>\n      <td>0.5420</td>\n      <td>0.0783</td>\n      <td>0.0669</td>\n      <td>0.0783</td>\n      <td>0.0601</td>\n      <td>10.85</td>\n      <td>1.3191</td>\n      <td>12.7</td>\n      <td>10.3</td>\n      <td>6.6</td>\n    </tr>\n    <tr>\n      <th>4</th>\n      <td>4</td>\n      <td>4</td>\n      <td>2.15</td>\n      <td>2.43</td>\n      <td>0.5405</td>\n      <td>0.0785</td>\n      <td>0.0669</td>\n      <td>0.0780</td>\n      <td>0.0600</td>\n      <td>10.83</td>\n      <td>1.3216</td>\n      <td>12.7</td>\n      <td>10.3</td>\n      <td>6.6</td>\n    </tr>\n  </tbody>\n</table>\n</div>"
     },
     "execution_count": 9,
     "metadata": {},
     "output_type": "execute_result"
    }
   ],
   "source": [
    "df.head()"
   ]
  },
  {
   "cell_type": "code",
   "execution_count": 10,
   "id": "a2080d2b",
   "metadata": {},
   "outputs": [],
   "source": [
    "df.drop(columns=['Unnamed: 0'], inplace=True)"
   ]
  },
  {
   "cell_type": "code",
   "execution_count": 11,
   "id": "470db44c",
   "metadata": {},
   "outputs": [
    {
     "data": {
      "text/plain": "   date  7 Day Bobc  1 Month BoBC     CHN     EUR     GBP     USD     SDR  \\\n0     0        2.65          2.43  0.5340  0.0775  0.0670  0.0772  0.0595   \n1     1        2.65          2.43  0.5359  0.0774  0.0670  0.0775  0.0596   \n2     2        2.65          2.43  0.5395  0.0779  0.0669  0.0782  0.0599   \n3     3        2.15          2.43  0.5420  0.0783  0.0669  0.0783  0.0601   \n4     4        2.15          2.43  0.5405  0.0785  0.0669  0.0780  0.0600   \n\n     YEN     ZAR   CPI  CPIT  CPIXA  \n0  10.84  1.3355  12.7  10.3    6.6  \n1  10.80  1.3333  12.7  10.3    6.6  \n2  10.82  1.3234  12.7  10.3    6.6  \n3  10.85  1.3191  12.7  10.3    6.6  \n4  10.83  1.3216  12.7  10.3    6.6  ",
      "text/html": "<div>\n<style scoped>\n    .dataframe tbody tr th:only-of-type {\n        vertical-align: middle;\n    }\n\n    .dataframe tbody tr th {\n        vertical-align: top;\n    }\n\n    .dataframe thead th {\n        text-align: right;\n    }\n</style>\n<table border=\"1\" class=\"dataframe\">\n  <thead>\n    <tr style=\"text-align: right;\">\n      <th></th>\n      <th>date</th>\n      <th>7 Day Bobc</th>\n      <th>1 Month BoBC</th>\n      <th>CHN</th>\n      <th>EUR</th>\n      <th>GBP</th>\n      <th>USD</th>\n      <th>SDR</th>\n      <th>YEN</th>\n      <th>ZAR</th>\n      <th>CPI</th>\n      <th>CPIT</th>\n      <th>CPIXA</th>\n    </tr>\n  </thead>\n  <tbody>\n    <tr>\n      <th>0</th>\n      <td>0</td>\n      <td>2.65</td>\n      <td>2.43</td>\n      <td>0.5340</td>\n      <td>0.0775</td>\n      <td>0.0670</td>\n      <td>0.0772</td>\n      <td>0.0595</td>\n      <td>10.84</td>\n      <td>1.3355</td>\n      <td>12.7</td>\n      <td>10.3</td>\n      <td>6.6</td>\n    </tr>\n    <tr>\n      <th>1</th>\n      <td>1</td>\n      <td>2.65</td>\n      <td>2.43</td>\n      <td>0.5359</td>\n      <td>0.0774</td>\n      <td>0.0670</td>\n      <td>0.0775</td>\n      <td>0.0596</td>\n      <td>10.80</td>\n      <td>1.3333</td>\n      <td>12.7</td>\n      <td>10.3</td>\n      <td>6.6</td>\n    </tr>\n    <tr>\n      <th>2</th>\n      <td>2</td>\n      <td>2.65</td>\n      <td>2.43</td>\n      <td>0.5395</td>\n      <td>0.0779</td>\n      <td>0.0669</td>\n      <td>0.0782</td>\n      <td>0.0599</td>\n      <td>10.82</td>\n      <td>1.3234</td>\n      <td>12.7</td>\n      <td>10.3</td>\n      <td>6.6</td>\n    </tr>\n    <tr>\n      <th>3</th>\n      <td>3</td>\n      <td>2.15</td>\n      <td>2.43</td>\n      <td>0.5420</td>\n      <td>0.0783</td>\n      <td>0.0669</td>\n      <td>0.0783</td>\n      <td>0.0601</td>\n      <td>10.85</td>\n      <td>1.3191</td>\n      <td>12.7</td>\n      <td>10.3</td>\n      <td>6.6</td>\n    </tr>\n    <tr>\n      <th>4</th>\n      <td>4</td>\n      <td>2.15</td>\n      <td>2.43</td>\n      <td>0.5405</td>\n      <td>0.0785</td>\n      <td>0.0669</td>\n      <td>0.0780</td>\n      <td>0.0600</td>\n      <td>10.83</td>\n      <td>1.3216</td>\n      <td>12.7</td>\n      <td>10.3</td>\n      <td>6.6</td>\n    </tr>\n  </tbody>\n</table>\n</div>"
     },
     "execution_count": 11,
     "metadata": {},
     "output_type": "execute_result"
    }
   ],
   "source": [
    "df.head()"
   ]
  },
  {
   "cell_type": "markdown",
   "id": "ee0265d2",
   "metadata": {},
   "source": [
    "<h3>Using the decision tree regressor</h3>"
   ]
  },
  {
   "cell_type": "code",
   "execution_count": 12,
   "id": "4bc258d3",
   "metadata": {},
   "outputs": [],
   "source": [
    "X = df\n",
    "y = df['CPI']"
   ]
  },
  {
   "cell_type": "code",
   "execution_count": 13,
   "id": "1668d20e",
   "metadata": {},
   "outputs": [],
   "source": [
    "tscv = TimeSeriesSplit()"
   ]
  },
  {
   "cell_type": "code",
   "execution_count": 14,
   "id": "a8cbcd3d",
   "metadata": {},
   "outputs": [
    {
     "name": "stdout",
     "output_type": "stream",
     "text": [
      "Fold 1\n",
      "R2 Score: -0.9820142471552693\n",
      "Mean Squared Error: 0.4041878980891719\n",
      "Root Mean Squared Error: 0.6357577353750183\n",
      "Mean Absolute Error: 0.514171974522293\n",
      "\n",
      "Fold 2\n",
      "R2 Score: 0.5485329784455428\n",
      "Mean Squared Error: 0.032213375796178265\n",
      "Root Mean Squared Error: 0.17948085077851136\n",
      "Mean Absolute Error: 0.15015923566879025\n",
      "\n",
      "Fold 3\n",
      "R2 Score: -0.9803901525821004\n",
      "Mean Squared Error: 4.012531847133747\n",
      "Root Mean Squared Error: 2.0031305117574707\n",
      "Mean Absolute Error: 1.4664012738853482\n",
      "\n",
      "Fold 4\n",
      "R2 Score: -0.21627173332084704\n",
      "Mean Squared Error: 0.6856528662420378\n",
      "Root Mean Squared Error: 0.8280415848506872\n",
      "Mean Absolute Error: 0.6912420382165605\n",
      "\n",
      "Fold 5\n",
      "R2 Score: 0.6756106162661579\n",
      "Mean Squared Error: 4.735079617834376\n",
      "Root Mean Squared Error: 2.1760238091147754\n",
      "Mean Absolute Error: 1.3957006369426703\n",
      "\n"
     ]
    }
   ],
   "source": [
    "# Split data into train and test, run decision tree regression model, and print R2 score, MSE, and MAE.\n",
    "i=1\n",
    "for train_index, test_index in tscv.split(X):\n",
    "    #print(\"TRAIN:\", train_index, \"TEST:\", test_index)\n",
    "    X_train, X_test = X.loc[train_index], X.loc[test_index]\n",
    "    y_train, y_test = y.loc[train_index], y.loc[test_index]\n",
    "    \n",
    "    dt = DecisionTreeRegressor()\n",
    "    \n",
    "    dt.fit(X_train, y_train)\n",
    "    ypred = dt.predict(X_test)\n",
    "    \n",
    "    print('Fold ' + str(i))\n",
    "    print('R2 Score: ' + str(r2_score(y_test, ypred)))\n",
    "    print('Mean Squared Error: ' + str(mean_squared_error(y_test, ypred)))\n",
    "    print('Root Mean Squared Error: ' + str(mean_squared_error(y_test, ypred, squared=False)))\n",
    "    print('Mean Absolute Error: ' + str(mean_absolute_error(y_test, ypred)))\n",
    "    print('')\n",
    "    i=i+1"
   ]
  },
  {
   "cell_type": "markdown",
   "id": "c41824a4",
   "metadata": {},
   "source": [
    "<h3>Decision Tree Regressor with hyperparameter tuning using GridSearchCV</h3>"
   ]
  },
  {
   "cell_type": "code",
   "execution_count": 15,
   "id": "cc02226a",
   "metadata": {},
   "outputs": [
    {
     "name": "stdout",
     "output_type": "stream",
     "text": [
      "Fold 1\n",
      "R2 Score: -1.282241820719963\n",
      "Mean Squared Error: 0.4654126607676914\n",
      "Root Mean Squared Error: 0.6822115953043392\n",
      "Mean Absolute Error: 0.5661254149098406\n",
      "\n",
      "Fold 2\n",
      "R2 Score: 0.6253024571478324\n",
      "Mean Squared Error: 0.0267356687898089\n",
      "Root Mean Squared Error: 0.1635104546804543\n",
      "Mean Absolute Error: 0.12277070063694338\n",
      "\n",
      "Fold 3\n",
      "R2 Score: -0.9803901525821086\n",
      "Mean Squared Error: 4.012531847133763\n",
      "Root Mean Squared Error: 2.0031305117574747\n",
      "Mean Absolute Error: 1.466401273885353\n",
      "\n",
      "Fold 4\n",
      "R2 Score: -0.1495654867874976\n",
      "Mean Squared Error: 0.6480483343937475\n",
      "Root Mean Squared Error: 0.8050144932817964\n",
      "Mean Absolute Error: 0.6299244706489949\n",
      "\n",
      "Fold 5\n",
      "R2 Score: 0.6763338742418159\n",
      "Mean Squared Error: 4.724522292993612\n",
      "Root Mean Squared Error: 2.173596626100071\n",
      "Mean Absolute Error: 1.4117834394904418\n",
      "\n"
     ]
    }
   ],
   "source": [
    "i=1\n",
    "for train_index, test_index in tscv.split(y):\n",
    "    #print(\"TRAIN:\", train_index, \"TEST:\", test_index)\n",
    "    X_train, X_test = X.loc[train_index], X.loc[test_index]\n",
    "    y_train, y_test = y.loc[train_index], y.loc[test_index]\n",
    "   \n",
    "    \n",
    "    tree = DecisionTreeRegressor()\n",
    "    \n",
    "    grid_search = GridSearchCV(tree, param_grid={'ccp_alpha':[0.001, 0.01, 0, 0.1, 1, 10]})\n",
    "    grid_search.fit(X_train, y_train)\n",
    "    ypred = grid_search.predict(X_test)\n",
    "    \n",
    "    \n",
    "    print('Fold ' + str(i))\n",
    "    print('R2 Score: ' + str(r2_score(y_test, ypred)))\n",
    "    print('Mean Squared Error: ' + str(mean_squared_error(y_test, ypred)))\n",
    "    print('Root Mean Squared Error: ' + str(mean_squared_error(y_test, ypred, squared=False)))\n",
    "    print('Mean Absolute Error: ' + str(mean_absolute_error(y_test, ypred)))\n",
    "    print('')\n",
    "    i=i+1"
   ]
  },
  {
   "cell_type": "markdown",
   "id": "88bf7dc4",
   "metadata": {},
   "source": [
    "Fold 2 and fold 5 seem to have better R2 values while Fold 1, 3, and 4 have negative R2 values."
   ]
  },
  {
   "cell_type": "code",
   "execution_count": 16,
   "id": "c148753a",
   "metadata": {},
   "outputs": [
    {
     "name": "stdout",
     "output_type": "stream",
     "text": [
      "Fold 1\n",
      "R2 Score: -0.5509784102331234\n",
      "Mean Squared Error: 0.316287687898089\n",
      "Root Mean Squared Error: 0.5623946015904571\n",
      "Mean Absolute Error: 0.4385222929936302\n",
      "\n",
      "Fold 2\n",
      "R2 Score: 0.6865667105064368\n",
      "Mean Squared Error: 0.02236430095541449\n",
      "Root Mean Squared Error: 0.1495469857784318\n",
      "Mean Absolute Error: 0.12102707006369548\n",
      "\n",
      "Fold 3\n",
      "R2 Score: 0.5802856746391148\n",
      "Mean Squared Error: 0.8503966226114573\n",
      "Root Mean Squared Error: 0.9221695194547787\n",
      "Mean Absolute Error: 0.7101194267515882\n",
      "\n",
      "Fold 4\n",
      "R2 Score: 0.04043663393881858\n",
      "Mean Squared Error: 0.5409378136942598\n",
      "Root Mean Squared Error: 0.7354847474246218\n",
      "Mean Absolute Error: 0.5478614649681484\n",
      "\n",
      "Fold 5\n",
      "R2 Score: 0.7263578962760076\n",
      "Mean Squared Error: 3.99432661146494\n",
      "Root Mean Squared Error: 1.998581149582108\n",
      "Mean Absolute Error: 1.299038216560504\n",
      "\n"
     ]
    }
   ],
   "source": [
    "# Split data into train and test, run random forest regression model, and print R2 score, MSE, and MAE.\n",
    "i=1\n",
    "for train_index, test_index in tscv.split(X):\n",
    "    #print(\"TRAIN:\", train_index, \"TEST:\", test_index)\n",
    "    X_train, X_test = X.loc[train_index], X.loc[test_index]\n",
    "    y_train, y_test = y.loc[train_index], y.loc[test_index]\n",
    "    \n",
    "    rf = RandomForestRegressor()\n",
    "    \n",
    "    rf.fit(X_train, y_train)\n",
    "    ypred = rf.predict(X_test)\n",
    "    \n",
    "    \n",
    "    print('Fold ' + str(i))\n",
    "    print('R2 Score: ' + str(r2_score(y_test, ypred)))\n",
    "    print('Mean Squared Error: ' + str(mean_squared_error(y_test, ypred)))\n",
    "    print('Root Mean Squared Error: ' + str(mean_squared_error(y_test, ypred, squared=False)))\n",
    "    print('Mean Absolute Error: ' + str(mean_absolute_error(y_test, ypred)))\n",
    "    print('')\n",
    "    i=i+1"
   ]
  },
  {
   "cell_type": "markdown",
   "id": "63d4d798",
   "metadata": {},
   "source": [
    "The R2 score for the decision tree regressor is not consistent. For some folds, it equates to about 0.90 while other folds have about zero. This could be because the model is unable to predict values at certain parts of the data. The MSE and MAE are both generally low"
   ]
  },
  {
   "cell_type": "code",
   "execution_count": 17,
   "id": "0e1d9fec",
   "metadata": {},
   "outputs": [
    {
     "name": "stdout",
     "output_type": "stream",
     "text": [
      "Fold 0\n",
      "R2 Score: 0.11458889689097485\n",
      "Mean Squared Error: 0.18055997994166614\n",
      "Root Mean Squared Error: 0.424923498928532\n",
      "Mean Absolute Error: 0.3119122944093811\n",
      "\n",
      "Fold 1\n",
      "R2 Score: 0.7968013090549106\n",
      "Mean Squared Error: 0.014498768415393744\n",
      "Root Mean Squared Error: 0.12041083180259882\n",
      "Mean Absolute Error: 0.08189764008152989\n",
      "\n",
      "Fold 2\n",
      "R2 Score: 0.7439251591683524\n",
      "Mean Squared Error: 0.5188414276585804\n",
      "Root Mean Squared Error: 0.7203064817552182\n",
      "Mean Absolute Error: 0.5935777640382834\n",
      "\n",
      "Fold 3\n",
      "R2 Score: 0.8427449458452029\n",
      "Mean Squared Error: 0.0886499091102699\n",
      "Root Mean Squared Error: 0.2977413459872006\n",
      "Mean Absolute Error: 0.24182127444959703\n",
      "\n",
      "Fold 4\n",
      "R2 Score: 0.7810262595901164\n",
      "Mean Squared Error: 3.1963379415231614\n",
      "Root Mean Squared Error: 1.7878305125271694\n",
      "Mean Absolute Error: 1.0932438781047424\n",
      "\n"
     ]
    }
   ],
   "source": [
    "# Split data into train and test, run GradientBoostingRegressor model, and print R2 score, MSE, and MAE.\n",
    "i=0\n",
    "for train_index, test_index in tscv.split(X):\n",
    "    #print(\"TRAIN:\", train_index, \"TEST:\", test_index)\n",
    "    X_train, X_test = X.loc[train_index], X.loc[test_index]\n",
    "    y_train, y_test = y.loc[train_index], y.loc[test_index]\n",
    "    \n",
    "    gbr = GradientBoostingRegressor()\n",
    "    \n",
    "    gbr.fit(X_train, y_train)\n",
    "    ypred = gbr.predict(X_test)\n",
    "    \n",
    "    \n",
    "    print('Fold ' + str(i))\n",
    "    print('R2 Score: ' + str(r2_score(y_test, ypred)))\n",
    "    print('Mean Squared Error: ' + str(mean_squared_error(y_test, ypred)))\n",
    "    print('Root Mean Squared Error: ' + str(mean_squared_error(y_test, ypred, squared=False)))\n",
    "    print('Mean Absolute Error: ' + str(mean_absolute_error(y_test, ypred)))\n",
    "    print('')\n",
    "    i=i+1"
   ]
  },
  {
   "cell_type": "markdown",
   "id": "1d8e74e3",
   "metadata": {},
   "source": [
    "The gradient booster has relatively consistent results across the folds. It has low MSE and MAE values across the folds and the R2 score is also generally high with just one significanly low value of 0.299."
   ]
  },
  {
   "cell_type": "code",
   "execution_count": 18,
   "id": "2b7e7594",
   "metadata": {},
   "outputs": [
    {
     "name": "stdout",
     "output_type": "stream",
     "text": [
      "Fold 1\n",
      "R2 Score: 0.9999999999999984\n",
      "Mean Squared Error: 3.1533588606085414e-16\n",
      "Root Mean Squared Error: 1.7757699345941582e-08\n",
      "Mean Absolute Error: 1.566073783817605e-08\n",
      "\n",
      "Fold 2\n",
      "R2 Score: 1.0\n",
      "Mean Squared Error: 1.5949702389866517e-19\n",
      "Root Mean Squared Error: 3.993707849839109e-10\n",
      "Mean Absolute Error: 3.1405752945167563e-10\n",
      "\n",
      "Fold 3\n",
      "R2 Score: 1.0\n",
      "Mean Squared Error: 3.681284718734038e-20\n",
      "Root Mean Squared Error: 1.9186674330727663e-10\n",
      "Mean Absolute Error: 1.7787576295119022e-10\n",
      "\n",
      "Fold 4\n",
      "R2 Score: 1.0\n",
      "Mean Squared Error: 8.226614332281202e-22\n",
      "Root Mean Squared Error: 2.8682075120676333e-11\n",
      "Mean Absolute Error: 2.5451435721884024e-11\n",
      "\n",
      "Fold 5\n",
      "R2 Score: 1.0\n",
      "Mean Squared Error: 1.1839755115386613e-21\n",
      "Root Mean Squared Error: 3.440894522560465e-11\n",
      "Mean Absolute Error: 2.6739752132266204e-11\n",
      "\n"
     ]
    }
   ],
   "source": [
    "# Split data into train and test, run BayesianRidge model, and print R2 score, MSE, and MAE.\n",
    "i=1\n",
    "for train_index, test_index in tscv.split(X):\n",
    "    #print(\"TRAIN:\", train_index, \"TEST:\", test_index)\n",
    "    X_train, X_test = X.loc[train_index], X.loc[test_index]\n",
    "    y_train, y_test = y.loc[train_index], y.loc[test_index]\n",
    "    \n",
    "    br = BayesianRidge()\n",
    "    \n",
    "    br.fit(X_train, y_train)\n",
    "    ypred = br.predict(X_test)\n",
    "    \n",
    "    \n",
    "    print('Fold ' + str(i))\n",
    "    print('R2 Score: ' + str(r2_score(y_test, ypred)))\n",
    "    print('Mean Squared Error: ' + str(mean_squared_error(y_test, ypred)))\n",
    "    print('Root Mean Squared Error: ' + str(mean_squared_error(y_test, ypred, squared=False)))\n",
    "    print('Mean Absolute Error: ' + str(mean_absolute_error(y_test, ypred)))\n",
    "    print('')\n",
    "    i=i+1"
   ]
  },
  {
   "cell_type": "markdown",
   "id": "1be612d8",
   "metadata": {},
   "source": [
    "The Bayesian Ridge, much like the linear regression model performs extremely well on the dataset with R2 scores of 1 and MSE and MAE giving values of zero. "
   ]
  },
  {
   "cell_type": "code",
   "execution_count": 20,
   "id": "eaa1dce2",
   "metadata": {},
   "outputs": [],
   "source": [
    "otherdf = pd.read_csv('../Data/exploredData')"
   ]
  },
  {
   "cell_type": "code",
   "execution_count": 21,
   "id": "b3aeaa9a",
   "metadata": {},
   "outputs": [
    {
     "data": {
      "text/plain": "         date  7 Day Bobc  1 Month BoBC     CHN     EUR     GBP     USD  \\\n0  2022-09-02        2.65          2.43  0.5340  0.0775  0.0670  0.0772   \n1  2022-09-01        2.65          2.43  0.5359  0.0774  0.0670  0.0775   \n2  2022-08-31        2.65          2.43  0.5395  0.0779  0.0669  0.0782   \n3  2022-08-30        2.15          2.43  0.5420  0.0783  0.0669  0.0783   \n4  2022-08-29        2.15          2.43  0.5405  0.0785  0.0669  0.0780   \n\n      SDR    YEN     ZAR   CPI  CPIT  CPIXA  \n0  0.0595  10.84  1.3355  12.7  10.3    6.6  \n1  0.0596  10.80  1.3333  12.7  10.3    6.6  \n2  0.0599  10.82  1.3234  12.7  10.3    6.6  \n3  0.0601  10.85  1.3191  12.7  10.3    6.6  \n4  0.0600  10.83  1.3216  12.7  10.3    6.6  ",
      "text/html": "<div>\n<style scoped>\n    .dataframe tbody tr th:only-of-type {\n        vertical-align: middle;\n    }\n\n    .dataframe tbody tr th {\n        vertical-align: top;\n    }\n\n    .dataframe thead th {\n        text-align: right;\n    }\n</style>\n<table border=\"1\" class=\"dataframe\">\n  <thead>\n    <tr style=\"text-align: right;\">\n      <th></th>\n      <th>date</th>\n      <th>7 Day Bobc</th>\n      <th>1 Month BoBC</th>\n      <th>CHN</th>\n      <th>EUR</th>\n      <th>GBP</th>\n      <th>USD</th>\n      <th>SDR</th>\n      <th>YEN</th>\n      <th>ZAR</th>\n      <th>CPI</th>\n      <th>CPIT</th>\n      <th>CPIXA</th>\n    </tr>\n  </thead>\n  <tbody>\n    <tr>\n      <th>0</th>\n      <td>2022-09-02</td>\n      <td>2.65</td>\n      <td>2.43</td>\n      <td>0.5340</td>\n      <td>0.0775</td>\n      <td>0.0670</td>\n      <td>0.0772</td>\n      <td>0.0595</td>\n      <td>10.84</td>\n      <td>1.3355</td>\n      <td>12.7</td>\n      <td>10.3</td>\n      <td>6.6</td>\n    </tr>\n    <tr>\n      <th>1</th>\n      <td>2022-09-01</td>\n      <td>2.65</td>\n      <td>2.43</td>\n      <td>0.5359</td>\n      <td>0.0774</td>\n      <td>0.0670</td>\n      <td>0.0775</td>\n      <td>0.0596</td>\n      <td>10.80</td>\n      <td>1.3333</td>\n      <td>12.7</td>\n      <td>10.3</td>\n      <td>6.6</td>\n    </tr>\n    <tr>\n      <th>2</th>\n      <td>2022-08-31</td>\n      <td>2.65</td>\n      <td>2.43</td>\n      <td>0.5395</td>\n      <td>0.0779</td>\n      <td>0.0669</td>\n      <td>0.0782</td>\n      <td>0.0599</td>\n      <td>10.82</td>\n      <td>1.3234</td>\n      <td>12.7</td>\n      <td>10.3</td>\n      <td>6.6</td>\n    </tr>\n    <tr>\n      <th>3</th>\n      <td>2022-08-30</td>\n      <td>2.15</td>\n      <td>2.43</td>\n      <td>0.5420</td>\n      <td>0.0783</td>\n      <td>0.0669</td>\n      <td>0.0783</td>\n      <td>0.0601</td>\n      <td>10.85</td>\n      <td>1.3191</td>\n      <td>12.7</td>\n      <td>10.3</td>\n      <td>6.6</td>\n    </tr>\n    <tr>\n      <th>4</th>\n      <td>2022-08-29</td>\n      <td>2.15</td>\n      <td>2.43</td>\n      <td>0.5405</td>\n      <td>0.0785</td>\n      <td>0.0669</td>\n      <td>0.0780</td>\n      <td>0.0600</td>\n      <td>10.83</td>\n      <td>1.3216</td>\n      <td>12.7</td>\n      <td>10.3</td>\n      <td>6.6</td>\n    </tr>\n  </tbody>\n</table>\n</div>"
     },
     "execution_count": 21,
     "metadata": {},
     "output_type": "execute_result"
    }
   ],
   "source": [
    "otherdf.head()"
   ]
  },
  {
   "cell_type": "code",
   "execution_count": 22,
   "id": "21afefde",
   "metadata": {},
   "outputs": [],
   "source": [
    "frcstdf = otherdf[['date', 'CPI']]"
   ]
  },
  {
   "cell_type": "code",
   "execution_count": 23,
   "id": "c1862f18",
   "metadata": {},
   "outputs": [
    {
     "name": "stderr",
     "output_type": "stream",
     "text": [
      "C:\\Users\\ituser\\AppData\\Local\\Temp\\ipykernel_3460\\4024293830.py:2: SettingWithCopyWarning: \n",
      "A value is trying to be set on a copy of a slice from a DataFrame\n",
      "\n",
      "See the caveats in the documentation: https://pandas.pydata.org/pandas-docs/stable/user_guide/indexing.html#returning-a-view-versus-a-copy\n",
      "  frcstdf.rename(columns={'index': 'unique_id', 'date':'ds', 'CPI':'y' }, inplace=True)\n"
     ]
    }
   ],
   "source": [
    "frcstdf.reset_index(inplace=True)\n",
    "frcstdf.rename(columns={'index': 'unique_id', 'date':'ds', 'CPI':'y' }, inplace=True)"
   ]
  },
  {
   "cell_type": "code",
   "execution_count": 24,
   "id": "519c0668",
   "metadata": {},
   "outputs": [
    {
     "data": {
      "text/plain": "   unique_id          ds     y\n0          0  2022-09-02  12.7\n1          1  2022-09-01  12.7\n2          2  2022-08-31  12.7\n3          3  2022-08-30  12.7\n4          4  2022-08-29  12.7",
      "text/html": "<div>\n<style scoped>\n    .dataframe tbody tr th:only-of-type {\n        vertical-align: middle;\n    }\n\n    .dataframe tbody tr th {\n        vertical-align: top;\n    }\n\n    .dataframe thead th {\n        text-align: right;\n    }\n</style>\n<table border=\"1\" class=\"dataframe\">\n  <thead>\n    <tr style=\"text-align: right;\">\n      <th></th>\n      <th>unique_id</th>\n      <th>ds</th>\n      <th>y</th>\n    </tr>\n  </thead>\n  <tbody>\n    <tr>\n      <th>0</th>\n      <td>0</td>\n      <td>2022-09-02</td>\n      <td>12.7</td>\n    </tr>\n    <tr>\n      <th>1</th>\n      <td>1</td>\n      <td>2022-09-01</td>\n      <td>12.7</td>\n    </tr>\n    <tr>\n      <th>2</th>\n      <td>2</td>\n      <td>2022-08-31</td>\n      <td>12.7</td>\n    </tr>\n    <tr>\n      <th>3</th>\n      <td>3</td>\n      <td>2022-08-30</td>\n      <td>12.7</td>\n    </tr>\n    <tr>\n      <th>4</th>\n      <td>4</td>\n      <td>2022-08-29</td>\n      <td>12.7</td>\n    </tr>\n  </tbody>\n</table>\n</div>"
     },
     "execution_count": 24,
     "metadata": {},
     "output_type": "execute_result"
    }
   ],
   "source": [
    "frcstdf.head()"
   ]
  },
  {
   "cell_type": "code",
   "execution_count": 25,
   "id": "b8144f61",
   "metadata": {},
   "outputs": [
    {
     "name": "stderr",
     "output_type": "stream",
     "text": [
      "C:\\Users\\ituser\\AppData\\Local\\Temp\\ipykernel_3460\\2198625539.py:1: SettingWithCopyWarning: \n",
      "A value is trying to be set on a copy of a slice from a DataFrame.\n",
      "Try using .loc[row_indexer,col_indexer] = value instead\n",
      "\n",
      "See the caveats in the documentation: https://pandas.pydata.org/pandas-docs/stable/user_guide/indexing.html#returning-a-view-versus-a-copy\n",
      "  frcstdf['unique_id'] = 1\n"
     ]
    }
   ],
   "source": [
    "frcstdf['unique_id'] = 1"
   ]
  },
  {
   "cell_type": "code",
   "execution_count": 26,
   "id": "932ec42e",
   "metadata": {},
   "outputs": [
    {
     "data": {
      "text/plain": "   unique_id          ds     y\n0          1  2022-09-02  12.7\n1          1  2022-09-01  12.7\n2          1  2022-08-31  12.7\n3          1  2022-08-30  12.7\n4          1  2022-08-29  12.7",
      "text/html": "<div>\n<style scoped>\n    .dataframe tbody tr th:only-of-type {\n        vertical-align: middle;\n    }\n\n    .dataframe tbody tr th {\n        vertical-align: top;\n    }\n\n    .dataframe thead th {\n        text-align: right;\n    }\n</style>\n<table border=\"1\" class=\"dataframe\">\n  <thead>\n    <tr style=\"text-align: right;\">\n      <th></th>\n      <th>unique_id</th>\n      <th>ds</th>\n      <th>y</th>\n    </tr>\n  </thead>\n  <tbody>\n    <tr>\n      <th>0</th>\n      <td>1</td>\n      <td>2022-09-02</td>\n      <td>12.7</td>\n    </tr>\n    <tr>\n      <th>1</th>\n      <td>1</td>\n      <td>2022-09-01</td>\n      <td>12.7</td>\n    </tr>\n    <tr>\n      <th>2</th>\n      <td>1</td>\n      <td>2022-08-31</td>\n      <td>12.7</td>\n    </tr>\n    <tr>\n      <th>3</th>\n      <td>1</td>\n      <td>2022-08-30</td>\n      <td>12.7</td>\n    </tr>\n    <tr>\n      <th>4</th>\n      <td>1</td>\n      <td>2022-08-29</td>\n      <td>12.7</td>\n    </tr>\n  </tbody>\n</table>\n</div>"
     },
     "execution_count": 26,
     "metadata": {},
     "output_type": "execute_result"
    }
   ],
   "source": [
    "frcstdf.head()"
   ]
  },
  {
   "cell_type": "code",
   "execution_count": 27,
   "id": "f504ed0b",
   "metadata": {},
   "outputs": [
    {
     "name": "stderr",
     "output_type": "stream",
     "text": [
      "C:\\Users\\ituser\\AppData\\Local\\Temp\\ipykernel_3460\\74521932.py:1: SettingWithCopyWarning: \n",
      "A value is trying to be set on a copy of a slice from a DataFrame.\n",
      "Try using .loc[row_indexer,col_indexer] = value instead\n",
      "\n",
      "See the caveats in the documentation: https://pandas.pydata.org/pandas-docs/stable/user_guide/indexing.html#returning-a-view-versus-a-copy\n",
      "  frcstdf['ds'] = pd.to_datetime(frcstdf['ds'])\n"
     ]
    }
   ],
   "source": [
    "frcstdf['ds'] = pd.to_datetime(frcstdf['ds'])"
   ]
  },
  {
   "cell_type": "code",
   "execution_count": 28,
   "id": "b40a6f5c",
   "metadata": {},
   "outputs": [
    {
     "data": {
      "text/plain": "0   2022-09-02\n1   2022-09-01\n2   2022-08-31\n3   2022-08-30\n4   2022-08-29\nName: ds, dtype: datetime64[ns]"
     },
     "execution_count": 28,
     "metadata": {},
     "output_type": "execute_result"
    }
   ],
   "source": [
    "frcstdf['ds'].head()"
   ]
  },
  {
   "cell_type": "code",
   "execution_count": 29,
   "id": "69aa7976",
   "metadata": {},
   "outputs": [
    {
     "name": "stdout",
     "output_type": "stream",
     "text": [
      "<class 'pandas.core.frame.DataFrame'>\n",
      "RangeIndex: 3771 entries, 0 to 3770\n",
      "Data columns (total 3 columns):\n",
      " #   Column     Non-Null Count  Dtype         \n",
      "---  ------     --------------  -----         \n",
      " 0   unique_id  3771 non-null   int64         \n",
      " 1   ds         3771 non-null   datetime64[ns]\n",
      " 2   y          3771 non-null   float64       \n",
      "dtypes: datetime64[ns](1), float64(1), int64(1)\n",
      "memory usage: 88.5 KB\n"
     ]
    }
   ],
   "source": [
    "frcstdf.info()"
   ]
  },
  {
   "cell_type": "code",
   "execution_count": 30,
   "id": "2c093a30",
   "metadata": {},
   "outputs": [],
   "source": [
    "tscv2 = TimeSeriesSplit(max_train_size=3000, test_size=500)"
   ]
  },
  {
   "cell_type": "code",
   "execution_count": 31,
   "id": "ce2285f0",
   "metadata": {},
   "outputs": [
    {
     "name": "stderr",
     "output_type": "stream",
     "text": [
      "C:\\Users\\ituser\\anaconda3\\lib\\site-packages\\statsforecast\\models.py:526: FutureWarning: `ETS` will be deprecated in future versions of `StatsForecast`. Please use `AutoETS` instead.\n",
      "  ETS._warn()\n"
     ]
    },
    {
     "name": "stdout",
     "output_type": "stream",
     "text": [
      "AUTO ARIMA\n",
      "Fold 1\n",
      "R2 Score: -1987.5466768126776\n",
      "Mean Squared Error: 171.7928541239923\n",
      "Root Mean Squared Error: 13.106977306915287\n",
      "Mean Absolute Error: 12.939298834609982\n",
      "\n",
      "ETS\n",
      "Fold 1\n",
      "R2 Score: -1075.1931698043077\n",
      "Mean Squared Error: 92.9735763234711\n",
      "Root Mean Squared Error: 9.642280659857972\n",
      "Mean Absolute Error: 9.637799809265136\n",
      "\n"
     ]
    },
    {
     "name": "stderr",
     "output_type": "stream",
     "text": [
      "C:\\Users\\ituser\\anaconda3\\lib\\site-packages\\statsforecast\\models.py:526: FutureWarning: `ETS` will be deprecated in future versions of `StatsForecast`. Please use `AutoETS` instead.\n",
      "  ETS._warn()\n"
     ]
    },
    {
     "name": "stdout",
     "output_type": "stream",
     "text": [
      "AUTO ARIMA\n",
      "Fold 2\n",
      "R2 Score: -323.3416772767229\n",
      "Mean Squared Error: 150.35456536215386\n",
      "Root Mean Squared Error: 12.261915240375536\n",
      "Mean Absolute Error: 12.172532559967044\n",
      "\n",
      "ETS\n",
      "Fold 2\n",
      "R2 Score: -165.03066564116605\n",
      "Mean Squared Error: 76.96657666343694\n",
      "Root Mean Squared Error: 8.773059709328152\n",
      "Mean Absolute Error: 8.746599809265138\n",
      "\n"
     ]
    },
    {
     "name": "stderr",
     "output_type": "stream",
     "text": [
      "C:\\Users\\ituser\\anaconda3\\lib\\site-packages\\statsforecast\\models.py:526: FutureWarning: `ETS` will be deprecated in future versions of `StatsForecast`. Please use `AutoETS` instead.\n",
      "  ETS._warn()\n"
     ]
    },
    {
     "name": "stdout",
     "output_type": "stream",
     "text": [
      "AUTO ARIMA\n",
      "Fold 3\n",
      "R2 Score: -63.99808998042381\n",
      "Mean Squared Error: 77.18491726099774\n",
      "Root Mean Squared Error: 8.785494707812289\n",
      "Mean Absolute Error: 8.700354706954958\n",
      "\n",
      "ETS\n",
      "Fold 3\n",
      "R2 Score: -23.23007601685278\n",
      "Mean Squared Error: 28.773097996444744\n",
      "Root Mean Squared Error: 5.364056114214759\n",
      "Mean Absolute Error: 5.252199809265138\n",
      "\n"
     ]
    },
    {
     "name": "stderr",
     "output_type": "stream",
     "text": [
      "C:\\Users\\ituser\\anaconda3\\lib\\site-packages\\statsforecast\\models.py:526: FutureWarning: `ETS` will be deprecated in future versions of `StatsForecast`. Please use `AutoETS` instead.\n",
      "  ETS._warn()\n"
     ]
    },
    {
     "name": "stdout",
     "output_type": "stream",
     "text": [
      "AUTO ARIMA\n",
      "Fold 4\n",
      "R2 Score: -147.49803062206232\n",
      "Mean Squared Error: 83.14799145298599\n",
      "Root Mean Squared Error: 9.118552048049404\n",
      "Mean Absolute Error: 8.731817150878905\n",
      "\n",
      "ETS\n",
      "Fold 4\n",
      "R2 Score: -50.52382478702004\n",
      "Mean Squared Error: 28.849557971038855\n",
      "Root Mean Squared Error: 5.371178452727004\n",
      "Mean Absolute Error: 5.318799809265136\n",
      "\n"
     ]
    },
    {
     "name": "stderr",
     "output_type": "stream",
     "text": [
      "C:\\Users\\ituser\\anaconda3\\lib\\site-packages\\statsforecast\\models.py:526: FutureWarning: `ETS` will be deprecated in future versions of `StatsForecast`. Please use `AutoETS` instead.\n",
      "  ETS._warn()\n"
     ]
    },
    {
     "name": "stdout",
     "output_type": "stream",
     "text": [
      "AUTO ARIMA\n",
      "Fold 5\n",
      "R2 Score: -0.29079228107420385\n",
      "Mean Squared Error: 19.519581599884177\n",
      "Root Mean Squared Error: 4.418097056412883\n",
      "Mean Absolute Error: 3.9002001693725585\n",
      "\n",
      "ETS\n",
      "Fold 5\n",
      "R2 Score: -0.29079228107420385\n",
      "Mean Squared Error: 19.519581599884177\n",
      "Root Mean Squared Error: 4.418097056412883\n",
      "Mean Absolute Error: 3.9002001693725585\n",
      "\n"
     ]
    }
   ],
   "source": [
    "# Split data into train and test, run AutoARIMA model, and print R2 score, MSE, and MAE.\n",
    "#forcasts=[]\n",
    "i=1\n",
    "for train_index, test_index in tscv2.split(frcstdf['ds']):\n",
    "    #print(\"TRAIN:\", train_index, \"TEST:\", test_index)\n",
    "    X_train, X_test = frcstdf.loc[train_index], frcstdf.loc[test_index]\n",
    "    y_train, y_test = frcstdf['y'].loc[train_index], frcstdf['y'].loc[test_index]\n",
    "    \n",
    "    X_train.sort_values(by='ds', inplace=True)\n",
    "    \n",
    "    models = [AutoARIMA(), ETS()]\n",
    "    fcst = StatsForecast(df=X_train, models=models, freq='D')\n",
    "    \n",
    "    \n",
    "    #print(X_train.tail(5))\n",
    "    forecasts = fcst.forecast(500)\n",
    "       \n",
    "    #print(forecasts.head(10))   \n",
    "    \n",
    "    print('AUTO ARIMA')\n",
    "    print('Fold ' + str(i))\n",
    "    print('R2 Score: ' + str(r2_score(y_test, forecasts['AutoARIMA'])))\n",
    "    print('Mean Squared Error: ' + str(mean_squared_error(y_test, forecasts['AutoARIMA'])))\n",
    "    print('Root Mean Squared Error: ' + str(mean_squared_error(y_test, forecasts['AutoARIMA'], squared=False)))\n",
    "    print('Mean Absolute Error: ' + str(mean_absolute_error(y_test, forecasts['AutoARIMA'])))\n",
    "    print('')\n",
    "    \n",
    "    print('ETS')\n",
    "    print('Fold ' + str(i))\n",
    "    print('R2 Score: ' + str(r2_score(y_test, forecasts['ETS'])))\n",
    "    print('Mean Squared Error: ' + str(mean_squared_error(y_test, forecasts['ETS'])))\n",
    "    print('Root Mean Squared Error: ' + str(mean_squared_error(y_test, forecasts['ETS'], squared=False)))\n",
    "    print('Mean Absolute Error: ' + str(mean_absolute_error(y_test, forecasts['ETS'])))\n",
    "    print('')\n",
    "    \n",
    "    i=i+1"
   ]
  },
  {
   "cell_type": "code",
   "execution_count": 32,
   "id": "4ee9b11a",
   "metadata": {},
   "outputs": [
    {
     "data": {
      "text/plain": "                  ds  AutoARIMA  ETS\nunique_id                           \n1         2022-12-11        8.4  8.4\n1         2022-12-12        8.4  8.4\n1         2022-12-13        8.4  8.4\n1         2022-12-14        8.4  8.4\n1         2022-12-15        8.4  8.4",
      "text/html": "<div>\n<style scoped>\n    .dataframe tbody tr th:only-of-type {\n        vertical-align: middle;\n    }\n\n    .dataframe tbody tr th {\n        vertical-align: top;\n    }\n\n    .dataframe thead th {\n        text-align: right;\n    }\n</style>\n<table border=\"1\" class=\"dataframe\">\n  <thead>\n    <tr style=\"text-align: right;\">\n      <th></th>\n      <th>ds</th>\n      <th>AutoARIMA</th>\n      <th>ETS</th>\n    </tr>\n    <tr>\n      <th>unique_id</th>\n      <th></th>\n      <th></th>\n      <th></th>\n    </tr>\n  </thead>\n  <tbody>\n    <tr>\n      <th>1</th>\n      <td>2022-12-11</td>\n      <td>8.4</td>\n      <td>8.4</td>\n    </tr>\n    <tr>\n      <th>1</th>\n      <td>2022-12-12</td>\n      <td>8.4</td>\n      <td>8.4</td>\n    </tr>\n    <tr>\n      <th>1</th>\n      <td>2022-12-13</td>\n      <td>8.4</td>\n      <td>8.4</td>\n    </tr>\n    <tr>\n      <th>1</th>\n      <td>2022-12-14</td>\n      <td>8.4</td>\n      <td>8.4</td>\n    </tr>\n    <tr>\n      <th>1</th>\n      <td>2022-12-15</td>\n      <td>8.4</td>\n      <td>8.4</td>\n    </tr>\n  </tbody>\n</table>\n</div>"
     },
     "execution_count": 32,
     "metadata": {},
     "output_type": "execute_result"
    }
   ],
   "source": [
    "forecasts.tail()"
   ]
  },
  {
   "cell_type": "code",
   "execution_count": 33,
   "id": "e6df7efd",
   "metadata": {},
   "outputs": [],
   "source": [
    "forecasts.to_csv('CPI forecasts')"
   ]
  },
  {
   "cell_type": "code",
   "execution_count": 34,
   "id": "ca413e26",
   "metadata": {},
   "outputs": [
    {
     "data": {
      "text/plain": "                  ds  AutoARIMA  ETS\nunique_id                           \n1         2021-08-03        8.4  8.4\n1         2021-08-04        8.4  8.4\n1         2021-08-05        8.4  8.4\n1         2021-08-06        8.4  8.4\n1         2021-08-07        8.4  8.4\n...              ...        ...  ...\n1         2022-12-11        8.4  8.4\n1         2022-12-12        8.4  8.4\n1         2022-12-13        8.4  8.4\n1         2022-12-14        8.4  8.4\n1         2022-12-15        8.4  8.4\n\n[500 rows x 3 columns]",
      "text/html": "<div>\n<style scoped>\n    .dataframe tbody tr th:only-of-type {\n        vertical-align: middle;\n    }\n\n    .dataframe tbody tr th {\n        vertical-align: top;\n    }\n\n    .dataframe thead th {\n        text-align: right;\n    }\n</style>\n<table border=\"1\" class=\"dataframe\">\n  <thead>\n    <tr style=\"text-align: right;\">\n      <th></th>\n      <th>ds</th>\n      <th>AutoARIMA</th>\n      <th>ETS</th>\n    </tr>\n    <tr>\n      <th>unique_id</th>\n      <th></th>\n      <th></th>\n      <th></th>\n    </tr>\n  </thead>\n  <tbody>\n    <tr>\n      <th>1</th>\n      <td>2021-08-03</td>\n      <td>8.4</td>\n      <td>8.4</td>\n    </tr>\n    <tr>\n      <th>1</th>\n      <td>2021-08-04</td>\n      <td>8.4</td>\n      <td>8.4</td>\n    </tr>\n    <tr>\n      <th>1</th>\n      <td>2021-08-05</td>\n      <td>8.4</td>\n      <td>8.4</td>\n    </tr>\n    <tr>\n      <th>1</th>\n      <td>2021-08-06</td>\n      <td>8.4</td>\n      <td>8.4</td>\n    </tr>\n    <tr>\n      <th>1</th>\n      <td>2021-08-07</td>\n      <td>8.4</td>\n      <td>8.4</td>\n    </tr>\n    <tr>\n      <th>...</th>\n      <td>...</td>\n      <td>...</td>\n      <td>...</td>\n    </tr>\n    <tr>\n      <th>1</th>\n      <td>2022-12-11</td>\n      <td>8.4</td>\n      <td>8.4</td>\n    </tr>\n    <tr>\n      <th>1</th>\n      <td>2022-12-12</td>\n      <td>8.4</td>\n      <td>8.4</td>\n    </tr>\n    <tr>\n      <th>1</th>\n      <td>2022-12-13</td>\n      <td>8.4</td>\n      <td>8.4</td>\n    </tr>\n    <tr>\n      <th>1</th>\n      <td>2022-12-14</td>\n      <td>8.4</td>\n      <td>8.4</td>\n    </tr>\n    <tr>\n      <th>1</th>\n      <td>2022-12-15</td>\n      <td>8.4</td>\n      <td>8.4</td>\n    </tr>\n  </tbody>\n</table>\n<p>500 rows × 3 columns</p>\n</div>"
     },
     "execution_count": 34,
     "metadata": {},
     "output_type": "execute_result"
    }
   ],
   "source": [
    "forecasts"
   ]
  },
  {
   "cell_type": "code",
   "execution_count": null,
   "id": "731b7f30",
   "metadata": {
    "pycharm": {
     "is_executing": true
    }
   },
   "outputs": [],
   "source": []
  },
  {
   "cell_type": "code",
   "execution_count": null,
   "outputs": [],
   "source": [],
   "metadata": {
    "collapsed": false
   }
  }
 ],
 "metadata": {
  "kernelspec": {
   "display_name": "Python 3 (ipykernel)",
   "language": "python",
   "name": "python3"
  },
  "language_info": {
   "codemirror_mode": {
    "name": "ipython",
    "version": 3
   },
   "file_extension": ".py",
   "mimetype": "text/x-python",
   "name": "python",
   "nbconvert_exporter": "python",
   "pygments_lexer": "ipython3",
   "version": "3.9.7"
  }
 },
 "nbformat": 4,
 "nbformat_minor": 5
}
