{
 "cells": [
  {
   "cell_type": "markdown",
   "id": "dee32135",
   "metadata": {},
   "source": [
    "<h1>Data Preprocessing of Inflation Data</h1>"
   ]
  },
  {
   "cell_type": "code",
   "execution_count": 2,
   "id": "b6e4e476",
   "metadata": {},
   "outputs": [],
   "source": [
    "import pandas as pd\n",
    "import numpy as np\n",
    "import matplotlib as plt\n",
    "import seaborn as sns\n",
    "import scipy.stats as sp"
   ]
  },
  {
   "cell_type": "code",
   "execution_count": 3,
   "id": "d620b333",
   "metadata": {},
   "outputs": [],
   "source": [
    "from sklearn.preprocessing import StandardScaler\n",
    "from sklearn.model_selection import train_test_split, GridSearchCV, TimeSeriesSplit\n",
    "from sklearn.linear_model import LinearRegression, Ridge\n",
    "from sklearn.metrics import r2_score, mean_squared_error, mean_absolute_error"
   ]
  },
  {
   "cell_type": "code",
   "execution_count": 4,
   "id": "24df5c2e",
   "metadata": {},
   "outputs": [],
   "source": [
    "df = pd.read_csv('../Data/exploredData')"
   ]
  },
  {
   "cell_type": "code",
   "execution_count": 5,
   "id": "3d115180",
   "metadata": {},
   "outputs": [
    {
     "data": {
      "text/plain": "         date  7 Day Bobc  1 Month BoBC     CHN     EUR     GBP     USD  \\\n0  2022-09-02        2.65          2.43  0.5340  0.0775  0.0670  0.0772   \n1  2022-09-01        2.65          2.43  0.5359  0.0774  0.0670  0.0775   \n2  2022-08-31        2.65          2.43  0.5395  0.0779  0.0669  0.0782   \n3  2022-08-30        2.15          2.43  0.5420  0.0783  0.0669  0.0783   \n4  2022-08-29        2.15          2.43  0.5405  0.0785  0.0669  0.0780   \n\n      SDR    YEN     ZAR   CPI  CPIT  CPIXA  \n0  0.0595  10.84  1.3355  12.7  10.3    6.6  \n1  0.0596  10.80  1.3333  12.7  10.3    6.6  \n2  0.0599  10.82  1.3234  12.7  10.3    6.6  \n3  0.0601  10.85  1.3191  12.7  10.3    6.6  \n4  0.0600  10.83  1.3216  12.7  10.3    6.6  ",
      "text/html": "<div>\n<style scoped>\n    .dataframe tbody tr th:only-of-type {\n        vertical-align: middle;\n    }\n\n    .dataframe tbody tr th {\n        vertical-align: top;\n    }\n\n    .dataframe thead th {\n        text-align: right;\n    }\n</style>\n<table border=\"1\" class=\"dataframe\">\n  <thead>\n    <tr style=\"text-align: right;\">\n      <th></th>\n      <th>date</th>\n      <th>7 Day Bobc</th>\n      <th>1 Month BoBC</th>\n      <th>CHN</th>\n      <th>EUR</th>\n      <th>GBP</th>\n      <th>USD</th>\n      <th>SDR</th>\n      <th>YEN</th>\n      <th>ZAR</th>\n      <th>CPI</th>\n      <th>CPIT</th>\n      <th>CPIXA</th>\n    </tr>\n  </thead>\n  <tbody>\n    <tr>\n      <th>0</th>\n      <td>2022-09-02</td>\n      <td>2.65</td>\n      <td>2.43</td>\n      <td>0.5340</td>\n      <td>0.0775</td>\n      <td>0.0670</td>\n      <td>0.0772</td>\n      <td>0.0595</td>\n      <td>10.84</td>\n      <td>1.3355</td>\n      <td>12.7</td>\n      <td>10.3</td>\n      <td>6.6</td>\n    </tr>\n    <tr>\n      <th>1</th>\n      <td>2022-09-01</td>\n      <td>2.65</td>\n      <td>2.43</td>\n      <td>0.5359</td>\n      <td>0.0774</td>\n      <td>0.0670</td>\n      <td>0.0775</td>\n      <td>0.0596</td>\n      <td>10.80</td>\n      <td>1.3333</td>\n      <td>12.7</td>\n      <td>10.3</td>\n      <td>6.6</td>\n    </tr>\n    <tr>\n      <th>2</th>\n      <td>2022-08-31</td>\n      <td>2.65</td>\n      <td>2.43</td>\n      <td>0.5395</td>\n      <td>0.0779</td>\n      <td>0.0669</td>\n      <td>0.0782</td>\n      <td>0.0599</td>\n      <td>10.82</td>\n      <td>1.3234</td>\n      <td>12.7</td>\n      <td>10.3</td>\n      <td>6.6</td>\n    </tr>\n    <tr>\n      <th>3</th>\n      <td>2022-08-30</td>\n      <td>2.15</td>\n      <td>2.43</td>\n      <td>0.5420</td>\n      <td>0.0783</td>\n      <td>0.0669</td>\n      <td>0.0783</td>\n      <td>0.0601</td>\n      <td>10.85</td>\n      <td>1.3191</td>\n      <td>12.7</td>\n      <td>10.3</td>\n      <td>6.6</td>\n    </tr>\n    <tr>\n      <th>4</th>\n      <td>2022-08-29</td>\n      <td>2.15</td>\n      <td>2.43</td>\n      <td>0.5405</td>\n      <td>0.0785</td>\n      <td>0.0669</td>\n      <td>0.0780</td>\n      <td>0.0600</td>\n      <td>10.83</td>\n      <td>1.3216</td>\n      <td>12.7</td>\n      <td>10.3</td>\n      <td>6.6</td>\n    </tr>\n  </tbody>\n</table>\n</div>"
     },
     "execution_count": 5,
     "metadata": {},
     "output_type": "execute_result"
    }
   ],
   "source": [
    "df.head()"
   ]
  },
  {
   "cell_type": "code",
   "execution_count": 6,
   "id": "8b38dcce",
   "metadata": {},
   "outputs": [],
   "source": [
    "df['date'] = pd.to_datetime(df['date'])"
   ]
  },
  {
   "cell_type": "code",
   "execution_count": 7,
   "id": "9dbedf3f",
   "metadata": {},
   "outputs": [],
   "source": [
    "df.set_index('date', inplace=True)"
   ]
  },
  {
   "cell_type": "code",
   "execution_count": 8,
   "id": "c6acc513",
   "metadata": {},
   "outputs": [
    {
     "data": {
      "text/plain": "            7 Day Bobc  1 Month BoBC     CHN     EUR     GBP     USD     SDR  \\\ndate                                                                           \n2022-09-02        2.65          2.43  0.5340  0.0775  0.0670  0.0772  0.0595   \n2022-09-01        2.65          2.43  0.5359  0.0774  0.0670  0.0775  0.0596   \n2022-08-31        2.65          2.43  0.5395  0.0779  0.0669  0.0782  0.0599   \n2022-08-30        2.15          2.43  0.5420  0.0783  0.0669  0.0783  0.0601   \n2022-08-29        2.15          2.43  0.5405  0.0785  0.0669  0.0780  0.0600   \n\n              YEN     ZAR   CPI  CPIT  CPIXA  \ndate                                          \n2022-09-02  10.84  1.3355  12.7  10.3    6.6  \n2022-09-01  10.80  1.3333  12.7  10.3    6.6  \n2022-08-31  10.82  1.3234  12.7  10.3    6.6  \n2022-08-30  10.85  1.3191  12.7  10.3    6.6  \n2022-08-29  10.83  1.3216  12.7  10.3    6.6  ",
      "text/html": "<div>\n<style scoped>\n    .dataframe tbody tr th:only-of-type {\n        vertical-align: middle;\n    }\n\n    .dataframe tbody tr th {\n        vertical-align: top;\n    }\n\n    .dataframe thead th {\n        text-align: right;\n    }\n</style>\n<table border=\"1\" class=\"dataframe\">\n  <thead>\n    <tr style=\"text-align: right;\">\n      <th></th>\n      <th>7 Day Bobc</th>\n      <th>1 Month BoBC</th>\n      <th>CHN</th>\n      <th>EUR</th>\n      <th>GBP</th>\n      <th>USD</th>\n      <th>SDR</th>\n      <th>YEN</th>\n      <th>ZAR</th>\n      <th>CPI</th>\n      <th>CPIT</th>\n      <th>CPIXA</th>\n    </tr>\n    <tr>\n      <th>date</th>\n      <th></th>\n      <th></th>\n      <th></th>\n      <th></th>\n      <th></th>\n      <th></th>\n      <th></th>\n      <th></th>\n      <th></th>\n      <th></th>\n      <th></th>\n      <th></th>\n    </tr>\n  </thead>\n  <tbody>\n    <tr>\n      <th>2022-09-02</th>\n      <td>2.65</td>\n      <td>2.43</td>\n      <td>0.5340</td>\n      <td>0.0775</td>\n      <td>0.0670</td>\n      <td>0.0772</td>\n      <td>0.0595</td>\n      <td>10.84</td>\n      <td>1.3355</td>\n      <td>12.7</td>\n      <td>10.3</td>\n      <td>6.6</td>\n    </tr>\n    <tr>\n      <th>2022-09-01</th>\n      <td>2.65</td>\n      <td>2.43</td>\n      <td>0.5359</td>\n      <td>0.0774</td>\n      <td>0.0670</td>\n      <td>0.0775</td>\n      <td>0.0596</td>\n      <td>10.80</td>\n      <td>1.3333</td>\n      <td>12.7</td>\n      <td>10.3</td>\n      <td>6.6</td>\n    </tr>\n    <tr>\n      <th>2022-08-31</th>\n      <td>2.65</td>\n      <td>2.43</td>\n      <td>0.5395</td>\n      <td>0.0779</td>\n      <td>0.0669</td>\n      <td>0.0782</td>\n      <td>0.0599</td>\n      <td>10.82</td>\n      <td>1.3234</td>\n      <td>12.7</td>\n      <td>10.3</td>\n      <td>6.6</td>\n    </tr>\n    <tr>\n      <th>2022-08-30</th>\n      <td>2.15</td>\n      <td>2.43</td>\n      <td>0.5420</td>\n      <td>0.0783</td>\n      <td>0.0669</td>\n      <td>0.0783</td>\n      <td>0.0601</td>\n      <td>10.85</td>\n      <td>1.3191</td>\n      <td>12.7</td>\n      <td>10.3</td>\n      <td>6.6</td>\n    </tr>\n    <tr>\n      <th>2022-08-29</th>\n      <td>2.15</td>\n      <td>2.43</td>\n      <td>0.5405</td>\n      <td>0.0785</td>\n      <td>0.0669</td>\n      <td>0.0780</td>\n      <td>0.0600</td>\n      <td>10.83</td>\n      <td>1.3216</td>\n      <td>12.7</td>\n      <td>10.3</td>\n      <td>6.6</td>\n    </tr>\n  </tbody>\n</table>\n</div>"
     },
     "execution_count": 8,
     "metadata": {},
     "output_type": "execute_result"
    }
   ],
   "source": [
    "df.head()"
   ]
  },
  {
   "cell_type": "code",
   "execution_count": 9,
   "id": "0f911400",
   "metadata": {},
   "outputs": [
    {
     "data": {
      "text/plain": "<AxesSubplot:xlabel='date'>"
     },
     "execution_count": 9,
     "metadata": {},
     "output_type": "execute_result"
    },
    {
     "data": {
      "text/plain": "<Figure size 640x480 with 1 Axes>",
      "image/png": "[encoded data removed]"
     },
     "metadata": {},
     "output_type": "display_data"
    }
   ],
   "source": [
    "df[['CPI']].plot()"
   ]
  },
  {
   "cell_type": "markdown",
   "id": "54ab93c1",
   "metadata": {},
   "source": [
    "<h3>Feature Engineering</h3>"
   ]
  },
  {
   "cell_type": "markdown",
   "id": "d8f1bf26",
   "metadata": {},
   "source": [
    "The dataset already has a low dimensionality and so there is no need for dimensionality reduction. Also, the data is consistent and heterogenous. There is no feature engineering that will be done on this dataset."
   ]
  },
  {
   "cell_type": "markdown",
   "id": "8934f86e",
   "metadata": {},
   "source": [
    "In addition, all features are continuous, so there is no need to create any dummy variables."
   ]
  },
  {
   "cell_type": "markdown",
   "id": "94b81265",
   "metadata": {},
   "source": [
    "<h4>Breaking data into Training and Test sets</h4>"
   ]
  },
  {
   "cell_type": "markdown",
   "id": "6d85dd51",
   "metadata": {},
   "source": [
    "It is important to note that cpi, cpit, and cpixa are all measures of inflation rate even though cpi is the most common one. They will all be treated as target variables to see if the prediction model will be able to perform better predicting one of them than the others."
   ]
  },
  {
   "cell_type": "markdown",
   "id": "e65b227b",
   "metadata": {},
   "source": [
    "The data shall now be separated into test and training sets first before scaling to avoid scaling training data and testing data together. "
   ]
  },
  {
   "cell_type": "markdown",
   "id": "794f8d58",
   "metadata": {},
   "source": [
    "Also, linear model cannot handle DateTimeIndex objects, so the date column is to be converted to represent number of days from the 2nd September 2022."
   ]
  },
  {
   "cell_type": "code",
   "execution_count": 10,
   "id": "04267dc7",
   "metadata": {},
   "outputs": [],
   "source": [
    "# Converting date to number of days from September 2 2022.\n",
    "df.index = (df.index[0] -  df.index).days"
   ]
  },
  {
   "cell_type": "code",
   "execution_count": 11,
   "id": "e19b7d47",
   "metadata": {},
   "outputs": [
    {
     "data": {
      "text/plain": "      7 Day Bobc  1 Month BoBC     CHN       EUR       GBP       USD  \\\ndate                                                                   \n0           2.65          2.43  0.5340  0.077500  0.067000  0.077200   \n1           2.65          2.43  0.5359  0.077400  0.067000  0.077500   \n2           2.65          2.43  0.5395  0.077900  0.066900  0.078200   \n3           2.15          2.43  0.5420  0.078300  0.066900  0.078300   \n4           2.15          2.43  0.5405  0.078500  0.066900  0.078000   \n...          ...           ...     ...       ...       ...       ...   \n5237       11.96          0.00  0.0000  0.100726  0.089723  0.140546   \n5206       11.96          0.00  0.0000  0.100726  0.089723  0.140546   \n5176       11.96          0.00  0.0000  0.100726  0.089723  0.140546   \n5298       11.96          0.00  0.0000  0.100726  0.089723  0.140546   \n5358       11.96          0.00  0.0000  0.100726  0.089723  0.140546   \n\n           SDR      YEN       ZAR   CPI  CPIT  CPIXA  \ndate                                                  \n0     0.059500  10.8400  1.335500  12.7  10.3    6.6  \n1     0.059600  10.8000  1.333300  12.7  10.3    6.6  \n2     0.059900  10.8200  1.323400  12.7  10.3    6.6  \n3     0.060100  10.8500  1.319100  12.7  10.3    6.6  \n4     0.060000  10.8300  1.321600  12.7  10.3    6.6  \n...        ...      ...       ...   ...   ...    ...  \n5237  0.091038  13.1275  1.175903  12.1  11.0    9.1  \n5206  0.091038  13.1275  1.175903  14.5  12.5    9.8  \n5176  0.091038  13.1275  1.175903  15.0  12.7   11.1  \n5298  0.091038  13.1275  1.175903   9.8   9.7    8.9  \n5358  0.091038  13.1275  1.175903   8.4   7.9    7.2  \n\n[3771 rows x 12 columns]",
      "text/html": "<div>\n<style scoped>\n    .dataframe tbody tr th:only-of-type {\n        vertical-align: middle;\n    }\n\n    .dataframe tbody tr th {\n        vertical-align: top;\n    }\n\n    .dataframe thead th {\n        text-align: right;\n    }\n</style>\n<table border=\"1\" class=\"dataframe\">\n  <thead>\n    <tr style=\"text-align: right;\">\n      <th></th>\n      <th>7 Day Bobc</th>\n      <th>1 Month BoBC</th>\n      <th>CHN</th>\n      <th>EUR</th>\n      <th>GBP</th>\n      <th>USD</th>\n      <th>SDR</th>\n      <th>YEN</th>\n      <th>ZAR</th>\n      <th>CPI</th>\n      <th>CPIT</th>\n      <th>CPIXA</th>\n    </tr>\n    <tr>\n      <th>date</th>\n      <th></th>\n      <th></th>\n      <th></th>\n      <th></th>\n      <th></th>\n      <th></th>\n      <th></th>\n      <th></th>\n      <th></th>\n      <th></th>\n      <th></th>\n      <th></th>\n    </tr>\n  </thead>\n  <tbody>\n    <tr>\n      <th>0</th>\n      <td>2.65</td>\n      <td>2.43</td>\n      <td>0.5340</td>\n      <td>0.077500</td>\n      <td>0.067000</td>\n      <td>0.077200</td>\n      <td>0.059500</td>\n      <td>10.8400</td>\n      <td>1.335500</td>\n      <td>12.7</td>\n      <td>10.3</td>\n      <td>6.6</td>\n    </tr>\n    <tr>\n      <th>1</th>\n      <td>2.65</td>\n      <td>2.43</td>\n      <td>0.5359</td>\n      <td>0.077400</td>\n      <td>0.067000</td>\n      <td>0.077500</td>\n      <td>0.059600</td>\n      <td>10.8000</td>\n      <td>1.333300</td>\n      <td>12.7</td>\n      <td>10.3</td>\n      <td>6.6</td>\n    </tr>\n    <tr>\n      <th>2</th>\n      <td>2.65</td>\n      <td>2.43</td>\n      <td>0.5395</td>\n      <td>0.077900</td>\n      <td>0.066900</td>\n      <td>0.078200</td>\n      <td>0.059900</td>\n      <td>10.8200</td>\n      <td>1.323400</td>\n      <td>12.7</td>\n      <td>10.3</td>\n      <td>6.6</td>\n    </tr>\n    <tr>\n      <th>3</th>\n      <td>2.15</td>\n      <td>2.43</td>\n      <td>0.5420</td>\n      <td>0.078300</td>\n      <td>0.066900</td>\n      <td>0.078300</td>\n      <td>0.060100</td>\n      <td>10.8500</td>\n      <td>1.319100</td>\n      <td>12.7</td>\n      <td>10.3</td>\n      <td>6.6</td>\n    </tr>\n    <tr>\n      <th>4</th>\n      <td>2.15</td>\n      <td>2.43</td>\n      <td>0.5405</td>\n      <td>0.078500</td>\n      <td>0.066900</td>\n      <td>0.078000</td>\n      <td>0.060000</td>\n      <td>10.8300</td>\n      <td>1.321600</td>\n      <td>12.7</td>\n      <td>10.3</td>\n      <td>6.6</td>\n    </tr>\n    <tr>\n      <th>...</th>\n      <td>...</td>\n      <td>...</td>\n      <td>...</td>\n      <td>...</td>\n      <td>...</td>\n      <td>...</td>\n      <td>...</td>\n      <td>...</td>\n      <td>...</td>\n      <td>...</td>\n      <td>...</td>\n      <td>...</td>\n    </tr>\n    <tr>\n      <th>5237</th>\n      <td>11.96</td>\n      <td>0.00</td>\n      <td>0.0000</td>\n      <td>0.100726</td>\n      <td>0.089723</td>\n      <td>0.140546</td>\n      <td>0.091038</td>\n      <td>13.1275</td>\n      <td>1.175903</td>\n      <td>12.1</td>\n      <td>11.0</td>\n      <td>9.1</td>\n    </tr>\n    <tr>\n      <th>5206</th>\n      <td>11.96</td>\n      <td>0.00</td>\n      <td>0.0000</td>\n      <td>0.100726</td>\n      <td>0.089723</td>\n      <td>0.140546</td>\n      <td>0.091038</td>\n      <td>13.1275</td>\n      <td>1.175903</td>\n      <td>14.5</td>\n      <td>12.5</td>\n      <td>9.8</td>\n    </tr>\n    <tr>\n      <th>5176</th>\n      <td>11.96</td>\n      <td>0.00</td>\n      <td>0.0000</td>\n      <td>0.100726</td>\n      <td>0.089723</td>\n      <td>0.140546</td>\n      <td>0.091038</td>\n      <td>13.1275</td>\n      <td>1.175903</td>\n      <td>15.0</td>\n      <td>12.7</td>\n      <td>11.1</td>\n    </tr>\n    <tr>\n      <th>5298</th>\n      <td>11.96</td>\n      <td>0.00</td>\n      <td>0.0000</td>\n      <td>0.100726</td>\n      <td>0.089723</td>\n      <td>0.140546</td>\n      <td>0.091038</td>\n      <td>13.1275</td>\n      <td>1.175903</td>\n      <td>9.8</td>\n      <td>9.7</td>\n      <td>8.9</td>\n    </tr>\n    <tr>\n      <th>5358</th>\n      <td>11.96</td>\n      <td>0.00</td>\n      <td>0.0000</td>\n      <td>0.100726</td>\n      <td>0.089723</td>\n      <td>0.140546</td>\n      <td>0.091038</td>\n      <td>13.1275</td>\n      <td>1.175903</td>\n      <td>8.4</td>\n      <td>7.9</td>\n      <td>7.2</td>\n    </tr>\n  </tbody>\n</table>\n<p>3771 rows × 12 columns</p>\n</div>"
     },
     "execution_count": 11,
     "metadata": {},
     "output_type": "execute_result"
    }
   ],
   "source": [
    "df"
   ]
  },
  {
   "cell_type": "code",
   "execution_count": 12,
   "id": "45ed8d81",
   "metadata": {},
   "outputs": [],
   "source": [
    "# Resetting index so that the time series split function gives existing indexes\n",
    "df.reset_index(inplace=True)"
   ]
  },
  {
   "cell_type": "code",
   "execution_count": 13,
   "id": "37ebb130",
   "metadata": {},
   "outputs": [
    {
     "data": {
      "text/plain": "      date  7 Day Bobc  1 Month BoBC     CHN       EUR       GBP       USD  \\\n0        0        2.65          2.43  0.5340  0.077500  0.067000  0.077200   \n1        1        2.65          2.43  0.5359  0.077400  0.067000  0.077500   \n2        2        2.65          2.43  0.5395  0.077900  0.066900  0.078200   \n3        3        2.15          2.43  0.5420  0.078300  0.066900  0.078300   \n4        4        2.15          2.43  0.5405  0.078500  0.066900  0.078000   \n...    ...         ...           ...     ...       ...       ...       ...   \n3766  5237       11.96          0.00  0.0000  0.100726  0.089723  0.140546   \n3767  5206       11.96          0.00  0.0000  0.100726  0.089723  0.140546   \n3768  5176       11.96          0.00  0.0000  0.100726  0.089723  0.140546   \n3769  5298       11.96          0.00  0.0000  0.100726  0.089723  0.140546   \n3770  5358       11.96          0.00  0.0000  0.100726  0.089723  0.140546   \n\n           SDR      YEN       ZAR   CPI  CPIT  CPIXA  \n0     0.059500  10.8400  1.335500  12.7  10.3    6.6  \n1     0.059600  10.8000  1.333300  12.7  10.3    6.6  \n2     0.059900  10.8200  1.323400  12.7  10.3    6.6  \n3     0.060100  10.8500  1.319100  12.7  10.3    6.6  \n4     0.060000  10.8300  1.321600  12.7  10.3    6.6  \n...        ...      ...       ...   ...   ...    ...  \n3766  0.091038  13.1275  1.175903  12.1  11.0    9.1  \n3767  0.091038  13.1275  1.175903  14.5  12.5    9.8  \n3768  0.091038  13.1275  1.175903  15.0  12.7   11.1  \n3769  0.091038  13.1275  1.175903   9.8   9.7    8.9  \n3770  0.091038  13.1275  1.175903   8.4   7.9    7.2  \n\n[3771 rows x 13 columns]",
      "text/html": "<div>\n<style scoped>\n    .dataframe tbody tr th:only-of-type {\n        vertical-align: middle;\n    }\n\n    .dataframe tbody tr th {\n        vertical-align: top;\n    }\n\n    .dataframe thead th {\n        text-align: right;\n    }\n</style>\n<table border=\"1\" class=\"dataframe\">\n  <thead>\n    <tr style=\"text-align: right;\">\n      <th></th>\n      <th>date</th>\n      <th>7 Day Bobc</th>\n      <th>1 Month BoBC</th>\n      <th>CHN</th>\n      <th>EUR</th>\n      <th>GBP</th>\n      <th>USD</th>\n      <th>SDR</th>\n      <th>YEN</th>\n      <th>ZAR</th>\n      <th>CPI</th>\n      <th>CPIT</th>\n      <th>CPIXA</th>\n    </tr>\n  </thead>\n  <tbody>\n    <tr>\n      <th>0</th>\n      <td>0</td>\n      <td>2.65</td>\n      <td>2.43</td>\n      <td>0.5340</td>\n      <td>0.077500</td>\n      <td>0.067000</td>\n      <td>0.077200</td>\n      <td>0.059500</td>\n      <td>10.8400</td>\n      <td>1.335500</td>\n      <td>12.7</td>\n      <td>10.3</td>\n      <td>6.6</td>\n    </tr>\n    <tr>\n      <th>1</th>\n      <td>1</td>\n      <td>2.65</td>\n      <td>2.43</td>\n      <td>0.5359</td>\n      <td>0.077400</td>\n      <td>0.067000</td>\n      <td>0.077500</td>\n      <td>0.059600</td>\n      <td>10.8000</td>\n      <td>1.333300</td>\n      <td>12.7</td>\n      <td>10.3</td>\n      <td>6.6</td>\n    </tr>\n    <tr>\n      <th>2</th>\n      <td>2</td>\n      <td>2.65</td>\n      <td>2.43</td>\n      <td>0.5395</td>\n      <td>0.077900</td>\n      <td>0.066900</td>\n      <td>0.078200</td>\n      <td>0.059900</td>\n      <td>10.8200</td>\n      <td>1.323400</td>\n      <td>12.7</td>\n      <td>10.3</td>\n      <td>6.6</td>\n    </tr>\n    <tr>\n      <th>3</th>\n      <td>3</td>\n      <td>2.15</td>\n      <td>2.43</td>\n      <td>0.5420</td>\n      <td>0.078300</td>\n      <td>0.066900</td>\n      <td>0.078300</td>\n      <td>0.060100</td>\n      <td>10.8500</td>\n      <td>1.319100</td>\n      <td>12.7</td>\n      <td>10.3</td>\n      <td>6.6</td>\n    </tr>\n    <tr>\n      <th>4</th>\n      <td>4</td>\n      <td>2.15</td>\n      <td>2.43</td>\n      <td>0.5405</td>\n      <td>0.078500</td>\n      <td>0.066900</td>\n      <td>0.078000</td>\n      <td>0.060000</td>\n      <td>10.8300</td>\n      <td>1.321600</td>\n      <td>12.7</td>\n      <td>10.3</td>\n      <td>6.6</td>\n    </tr>\n    <tr>\n      <th>...</th>\n      <td>...</td>\n      <td>...</td>\n      <td>...</td>\n      <td>...</td>\n      <td>...</td>\n      <td>...</td>\n      <td>...</td>\n      <td>...</td>\n      <td>...</td>\n      <td>...</td>\n      <td>...</td>\n      <td>...</td>\n      <td>...</td>\n    </tr>\n    <tr>\n      <th>3766</th>\n      <td>5237</td>\n      <td>11.96</td>\n      <td>0.00</td>\n      <td>0.0000</td>\n      <td>0.100726</td>\n      <td>0.089723</td>\n      <td>0.140546</td>\n      <td>0.091038</td>\n      <td>13.1275</td>\n      <td>1.175903</td>\n      <td>12.1</td>\n      <td>11.0</td>\n      <td>9.1</td>\n    </tr>\n    <tr>\n      <th>3767</th>\n      <td>5206</td>\n      <td>11.96</td>\n      <td>0.00</td>\n      <td>0.0000</td>\n      <td>0.100726</td>\n      <td>0.089723</td>\n      <td>0.140546</td>\n      <td>0.091038</td>\n      <td>13.1275</td>\n      <td>1.175903</td>\n      <td>14.5</td>\n      <td>12.5</td>\n      <td>9.8</td>\n    </tr>\n    <tr>\n      <th>3768</th>\n      <td>5176</td>\n      <td>11.96</td>\n      <td>0.00</td>\n      <td>0.0000</td>\n      <td>0.100726</td>\n      <td>0.089723</td>\n      <td>0.140546</td>\n      <td>0.091038</td>\n      <td>13.1275</td>\n      <td>1.175903</td>\n      <td>15.0</td>\n      <td>12.7</td>\n      <td>11.1</td>\n    </tr>\n    <tr>\n      <th>3769</th>\n      <td>5298</td>\n      <td>11.96</td>\n      <td>0.00</td>\n      <td>0.0000</td>\n      <td>0.100726</td>\n      <td>0.089723</td>\n      <td>0.140546</td>\n      <td>0.091038</td>\n      <td>13.1275</td>\n      <td>1.175903</td>\n      <td>9.8</td>\n      <td>9.7</td>\n      <td>8.9</td>\n    </tr>\n    <tr>\n      <th>3770</th>\n      <td>5358</td>\n      <td>11.96</td>\n      <td>0.00</td>\n      <td>0.0000</td>\n      <td>0.100726</td>\n      <td>0.089723</td>\n      <td>0.140546</td>\n      <td>0.091038</td>\n      <td>13.1275</td>\n      <td>1.175903</td>\n      <td>8.4</td>\n      <td>7.9</td>\n      <td>7.2</td>\n    </tr>\n  </tbody>\n</table>\n<p>3771 rows × 13 columns</p>\n</div>"
     },
     "execution_count": 13,
     "metadata": {},
     "output_type": "execute_result"
    }
   ],
   "source": [
    "df"
   ]
  },
  {
   "cell_type": "code",
   "execution_count": 14,
   "id": "fe55f28f",
   "metadata": {},
   "outputs": [],
   "source": [
    "X = df.drop(columns=['CPIT', 'CPIXA'])\n",
    "y = df['CPI']"
   ]
  },
  {
   "cell_type": "code",
   "execution_count": 15,
   "outputs": [
    {
     "name": "stdout",
     "output_type": "stream",
     "text": [
      "      date  7 Day Bobc  1 Month BoBC     CHN       EUR       GBP       USD  \\\n",
      "0        0        2.65          2.43  0.5340  0.077500  0.067000  0.077200   \n",
      "1        1        2.65          2.43  0.5359  0.077400  0.067000  0.077500   \n",
      "2        2        2.65          2.43  0.5395  0.077900  0.066900  0.078200   \n",
      "3        3        2.15          2.43  0.5420  0.078300  0.066900  0.078300   \n",
      "4        4        2.15          2.43  0.5405  0.078500  0.066900  0.078000   \n",
      "...    ...         ...           ...     ...       ...       ...       ...   \n",
      "3766  5237       11.96          0.00  0.0000  0.100726  0.089723  0.140546   \n",
      "3767  5206       11.96          0.00  0.0000  0.100726  0.089723  0.140546   \n",
      "3768  5176       11.96          0.00  0.0000  0.100726  0.089723  0.140546   \n",
      "3769  5298       11.96          0.00  0.0000  0.100726  0.089723  0.140546   \n",
      "3770  5358       11.96          0.00  0.0000  0.100726  0.089723  0.140546   \n",
      "\n",
      "           SDR      YEN       ZAR   CPI  \n",
      "0     0.059500  10.8400  1.335500  12.7  \n",
      "1     0.059600  10.8000  1.333300  12.7  \n",
      "2     0.059900  10.8200  1.323400  12.7  \n",
      "3     0.060100  10.8500  1.319100  12.7  \n",
      "4     0.060000  10.8300  1.321600  12.7  \n",
      "...        ...      ...       ...   ...  \n",
      "3766  0.091038  13.1275  1.175903  12.1  \n",
      "3767  0.091038  13.1275  1.175903  14.5  \n",
      "3768  0.091038  13.1275  1.175903  15.0  \n",
      "3769  0.091038  13.1275  1.175903   9.8  \n",
      "3770  0.091038  13.1275  1.175903   8.4  \n",
      "\n",
      "[3771 rows x 11 columns]\n"
     ]
    }
   ],
   "source": [
    "print(X)"
   ],
   "metadata": {
    "collapsed": false
   }
  },
  {
   "cell_type": "code",
   "execution_count": 21,
   "id": "a0dc0d01",
   "metadata": {},
   "outputs": [],
   "source": [
    "tscv = TimeSeriesSplit()"
   ]
  },
  {
   "cell_type": "code",
   "execution_count": 22,
   "id": "f2f31e57",
   "metadata": {},
   "outputs": [
    {
     "name": "stdout",
     "output_type": "stream",
     "text": [
      "R2 Score: 1.0\n",
      "Mean Squared Error: 1.2071472715749037e-26\n",
      "Mean Absolute Error: 1.0553836643960604e-13\n",
      "R2 Score: 1.0\n",
      "Mean Squared Error: 4.15536407287475e-27\n",
      "Mean Absolute Error: 6.346586384527591e-14\n",
      "R2 Score: 1.0\n",
      "Mean Squared Error: 1.1688802006099444e-28\n",
      "Mean Absolute Error: 9.675911876398737e-15\n",
      "R2 Score: 1.0\n",
      "Mean Squared Error: 1.49751676458476e-28\n",
      "Mean Absolute Error: 1.2000308743878284e-14\n",
      "R2 Score: 1.0\n",
      "Mean Squared Error: 1.8681887491281896e-28\n",
      "Mean Absolute Error: 1.1576019689881409e-14\n"
     ]
    }
   ],
   "source": [
    "# Split data into train and test, run linear regression model, and print R2 score, MSE, and MAE.\n",
    "for train_index, test_index in tscv.split(y):\n",
    "    #print(\"TRAIN:\", train_index, \"TEST:\", test_index)\n",
    "    X_train, X_test = X.loc[train_index], X.loc[test_index]\n",
    "    y_train, y_test = y.loc[train_index], y.loc[test_index]\n",
    "   \n",
    "    \n",
    "    lm = LinearRegression()\n",
    "    lm.fit(X_train, y_train)\n",
    "    \n",
    "    ypred = lm.predict(X_test)\n",
    "    \n",
    "    \n",
    "    print('R2 Score: ' + str(r2_score(y_test, ypred)))\n",
    "    print('Mean Squared Error: ' + str(mean_squared_error(y_test, ypred)))\n",
    "    print('Mean Absolute Error: ' + str(mean_absolute_error(y_test, ypred)))"
   ]
  },
  {
   "cell_type": "markdown",
   "id": "687ac507",
   "metadata": {},
   "source": [
    "The linear regression model was able to achieve an R_squared value of 1 without any hyperparameter tuning. Cross validation was used, and for each fold, the R2 value was one, while the MSE and MAE were virtually zero. The model seems to be performing quite well with the data. "
   ]
  },
  {
   "cell_type": "code",
   "execution_count": 23,
   "id": "af0f5796",
   "metadata": {},
   "outputs": [],
   "source": [
    "rm = Ridge()"
   ]
  },
  {
   "cell_type": "code",
   "execution_count": 24,
   "id": "515a026e",
   "metadata": {},
   "outputs": [
    {
     "name": "stdout",
     "output_type": "stream",
     "text": [
      "R2 Score: 0.9995975773894269\n",
      "Mean Squared Error: 8.206517654680771e-05\n",
      "Mean Absolute Error: 0.008143939706403381\n",
      "R2 Score: 0.9998834105164337\n",
      "Mean Squared Error: 8.318970530938965e-06\n",
      "Mean Absolute Error: 0.002598197272248581\n",
      "R2 Score: 0.9999977692096315\n",
      "Mean Squared Error: 4.519875735785023e-06\n",
      "Mean Absolute Error: 0.0018697179231476904\n",
      "R2 Score: 0.9999996204033416\n",
      "Mean Squared Error: 2.139912733110121e-07\n",
      "Mean Absolute Error: 0.00041423974609692475\n",
      "R2 Score: 0.9999999367046288\n",
      "Mean Squared Error: 9.239162466804576e-07\n",
      "Mean Absolute Error: 0.0006974275110133107\n"
     ]
    }
   ],
   "source": [
    "for train_index, test_index in tscv.split(y):\n",
    "    #print(\"TRAIN:\", train_index, \"TEST:\", test_index)\n",
    "    X_train, X_test = X.loc[train_index], X.loc[test_index]\n",
    "    y_train, y_test = y.loc[train_index], y.loc[test_index]\n",
    "   \n",
    "    \n",
    "    rm = Ridge()\n",
    "    rm.fit(X_train, y_train)\n",
    "    \n",
    "    ypred = rm.predict(X_test)\n",
    "    \n",
    "    \n",
    "    print('R2 Score: ' + str(r2_score(y_test, ypred)))\n",
    "    print('Mean Squared Error: ' + str(mean_squared_error(y_test, ypred)))\n",
    "    print('Mean Absolute Error: ' + str(mean_absolute_error(y_test, ypred)))"
   ]
  },
  {
   "cell_type": "markdown",
   "id": "40f7379a",
   "metadata": {},
   "source": [
    "Metrics for Ridge Regression are similar though not as accurate as those for the Linear Regression Model."
   ]
  },
  {
   "cell_type": "code",
   "execution_count": 25,
   "id": "e1da104e",
   "metadata": {},
   "outputs": [
    {
     "name": "stdout",
     "output_type": "stream",
     "text": [
      "R2 Score: 0.9999999993310951\n",
      "Mean Squared Error: 1.36408333765203e-10\n",
      "Mean Absolute Error: 1.0268186039967693e-05\n",
      "R2 Score: 0.9999999996823258\n",
      "Mean Squared Error: 2.266690356354523e-11\n",
      "Mean Absolute Error: 4.02036077863186e-06\n",
      "R2 Score: 0.9999999999827247\n",
      "Mean Squared Error: 3.5002056234414823e-11\n",
      "Mean Absolute Error: 4.601306617113201e-06\n",
      "R2 Score: 0.9999999999859716\n",
      "Mean Squared Error: 7.908309776999712e-12\n",
      "Mean Absolute Error: 2.5989982506800762e-06\n",
      "R2 Score: 0.9999999999999115\n",
      "Mean Squared Error: 1.2921035066468552e-12\n",
      "Mean Absolute Error: 8.093229008999903e-07\n"
     ]
    }
   ],
   "source": [
    "for train_index, test_index in tscv.split(y):\n",
    "    #print(\"TRAIN:\", train_index, \"TEST:\", test_index)\n",
    "    X_train, X_test = X.loc[train_index], X.loc[test_index]\n",
    "    y_train, y_test = y.loc[train_index], y.loc[test_index]\n",
    "   \n",
    "    \n",
    "    rm = Ridge()\n",
    "    grid_search = GridSearchCV(rm, param_grid={'alpha':[0.001, 0.01, 0.1, 1, 10], 'solver':['svd', 'cholesky', 'lsqr', 'sparse_cg', 'sag', 'saga']},  cv=5)\n",
    "    grid_search.fit(X_train, y_train)\n",
    "    ypred = grid_search.predict(X_test)\n",
    "    \n",
    "    \n",
    "    print('R2 Score: ' + str(r2_score(y_test, ypred)))\n",
    "    print('Mean Squared Error: ' + str(mean_squared_error(y_test, ypred)))\n",
    "    print('Mean Absolute Error: ' + str(mean_absolute_error(y_test, ypred)))"
   ]
  },
  {
   "cell_type": "markdown",
   "id": "4bfbd0fc",
   "metadata": {},
   "source": [
    "Hyper parameter tuning makes Ridge Regression model slightly more accurate, though it's quite negligible."
   ]
  },
  {
   "cell_type": "code",
   "execution_count": 26,
   "id": "87a6c1b8",
   "metadata": {},
   "outputs": [],
   "source": [
    "df.to_csv('../Data/PreprocessedData')"
   ]
  },
  {
   "cell_type": "code",
   "execution_count": null,
   "id": "89d3ebe3",
   "metadata": {},
   "outputs": [],
   "source": []
  }
 ],
 "metadata": {
  "kernelspec": {
   "display_name": "Python 3 (ipykernel)",
   "language": "python",
   "name": "python3"
  },
  "language_info": {
   "codemirror_mode": {
    "name": "ipython",
    "version": 3
   },
   "file_extension": ".py",
   "mimetype": "text/x-python",
   "name": "python",
   "nbconvert_exporter": "python",
   "pygments_lexer": "ipython3",
   "version": "3.9.7"
  }
 },
 "nbformat": 4,
 "nbformat_minor": 5
}
