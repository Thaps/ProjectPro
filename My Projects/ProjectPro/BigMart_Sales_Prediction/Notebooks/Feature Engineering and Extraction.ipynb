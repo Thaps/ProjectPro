{
 "cells": [
  {
   "cell_type": "markdown",
   "source": [
    "<H1>FEATURE ENGINEERING AND EXTRACTION - BIGMART SALES PREDICTION</H1>"
   ],
   "metadata": {
    "collapsed": false
   }
  },
  {
   "cell_type": "code",
   "execution_count": null,
   "metadata": {
    "collapsed": true
   },
   "outputs": [],
   "source": [
    "# Target Encoding\n",
    "means = []\n",
    "values = df['device_brand'].unique()\n",
    "df['device_averages'] = df['device_brand']\n",
    "for i in values:\n",
    "    df['device_averages'].replace({i:df[df['device_brand'] == i]['normalized_used_price'].mean()}, inplace = True)"
   ]
  }
 ],
 "metadata": {
  "kernelspec": {
   "display_name": "Python 3",
   "language": "python",
   "name": "python3"
  },
  "language_info": {
   "codemirror_mode": {
    "name": "ipython",
    "version": 2
   },
   "file_extension": ".py",
   "mimetype": "text/x-python",
   "name": "python",
   "nbconvert_exporter": "python",
   "pygments_lexer": "ipython2",
   "version": "2.7.6"
  }
 },
 "nbformat": 4,
 "nbformat_minor": 0
}
