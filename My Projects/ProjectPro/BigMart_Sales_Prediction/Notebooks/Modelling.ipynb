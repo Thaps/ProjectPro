{
 "cells": [
  {
   "cell_type": "markdown",
   "source": [
    "<h1>Modelling</h1>"
   ],
   "metadata": {
    "collapsed": false
   }
  },
  {
   "cell_type": "markdown",
   "source": [
    "At this stage, the data has been cleaned and prepared. This notebook will look into modelling the data using Multiple Auto Regression Splines (MARS) and Generalized Additive Models (GAM)"
   ],
   "metadata": {
    "collapsed": false
   }
  },
  {
   "cell_type": "code",
   "execution_count": 1,
   "outputs": [],
   "source": [
    "#importing pyearth module for MARS\n",
    "from pyearth import Earth"
   ],
   "metadata": {
    "collapsed": false,
    "ExecuteTime": {
     "end_time": "2023-10-15T20:48:16.858533100Z",
     "start_time": "2023-10-15T20:48:16.674769200Z"
    }
   }
  },
  {
   "cell_type": "code",
   "execution_count": 4,
   "outputs": [
    {
     "name": "stdout",
     "output_type": "stream",
     "text": [
      "Requirement already satisfied: xgboost in c:\\users\\tlefh\\anaconda3\\envs\\test3env\\lib\\site-packages (1.6.2)\n",
      "Requirement already satisfied: scipy in c:\\users\\tlefh\\anaconda3\\envs\\test3env\\lib\\site-packages (from xgboost) (1.7.3)\n",
      "Requirement already satisfied: numpy in c:\\users\\tlefh\\anaconda3\\envs\\test3env\\lib\\site-packages (from xgboost) (1.21.6)\n",
      "Requirement already satisfied: patsy in c:\\users\\tlefh\\anaconda3\\envs\\test3env\\lib\\site-packages (0.5.3)\n",
      "Requirement already satisfied: numpy>=1.4 in c:\\users\\tlefh\\anaconda3\\envs\\test3env\\lib\\site-packages (from patsy) (1.21.6)\n",
      "Requirement already satisfied: six in c:\\users\\tlefh\\anaconda3\\envs\\test3env\\lib\\site-packages (from patsy) (1.16.0)\n",
      "Requirement already satisfied: pygam in c:\\users\\tlefh\\anaconda3\\envs\\test3env\\lib\\site-packages (0.8.0)\n",
      "Requirement already satisfied: scipy in c:\\users\\tlefh\\anaconda3\\envs\\test3env\\lib\\site-packages (from pygam) (1.7.3)\n",
      "Requirement already satisfied: future in c:\\users\\tlefh\\anaconda3\\envs\\test3env\\lib\\site-packages (from pygam) (0.18.3)\n",
      "Requirement already satisfied: progressbar2 in c:\\users\\tlefh\\anaconda3\\envs\\test3env\\lib\\site-packages (from pygam) (4.2.0)\n",
      "Requirement already satisfied: numpy in c:\\users\\tlefh\\anaconda3\\envs\\test3env\\lib\\site-packages (from pygam) (1.21.6)\n",
      "Requirement already satisfied: python-utils>=3.0.0 in c:\\users\\tlefh\\anaconda3\\envs\\test3env\\lib\\site-packages (from progressbar2->pygam) (3.5.2)\n",
      "Requirement already satisfied: typing-extensions in c:\\users\\tlefh\\anaconda3\\envs\\test3env\\lib\\site-packages (from python-utils>=3.0.0->progressbar2->pygam) (4.7.1)\n"
     ]
    }
   ],
   "source": [
    "!pip install xgboost\n",
    "!pip3 install patsy\n",
    "!pip install pygam"
   ],
   "metadata": {
    "collapsed": false,
    "ExecuteTime": {
     "end_time": "2023-10-15T14:05:04.762530100Z",
     "start_time": "2023-10-15T14:05:01.076554100Z"
    }
   }
  },
  {
   "cell_type": "code",
   "execution_count": 5,
   "outputs": [],
   "source": [
    "import pandas as pd\n",
    "import numpy as np"
   ],
   "metadata": {
    "collapsed": false,
    "ExecuteTime": {
     "end_time": "2023-10-15T14:05:04.762530100Z",
     "start_time": "2023-10-15T14:05:04.714191100Z"
    }
   }
  },
  {
   "cell_type": "code",
   "execution_count": 6,
   "outputs": [],
   "source": [
    "from sklearn.preprocessing import StandardScaler\n",
    "from sklearn.model_selection import train_test_split, KFold, cross_val_score, cross_validate\n",
    "from sklearn.linear_model import LinearRegression, ElasticNet\n",
    "from sklearn.ensemble import RandomForestRegressor, ExtraTreesRegressor, GradientBoostingRegressor\n",
    "from sklearn.neural_network import MLPRegressor\n",
    "from xgboost import XGBRegressor\n",
    "from sklearn.metrics import make_scorer\n",
    "import xgboost as xgb"
   ],
   "metadata": {
    "collapsed": false,
    "ExecuteTime": {
     "end_time": "2023-10-15T14:05:14.068326600Z",
     "start_time": "2023-10-15T14:05:04.733943500Z"
    }
   }
  },
  {
   "cell_type": "code",
   "execution_count": 7,
   "outputs": [],
   "source": [
    "from patsy import dmatrix"
   ],
   "metadata": {
    "collapsed": false,
    "ExecuteTime": {
     "end_time": "2023-10-15T14:05:14.115923300Z",
     "start_time": "2023-10-15T14:05:14.084556300Z"
    }
   }
  },
  {
   "cell_type": "code",
   "execution_count": 8,
   "outputs": [],
   "source": [
    "import statsmodels.api as sm"
   ],
   "metadata": {
    "collapsed": false,
    "ExecuteTime": {
     "end_time": "2023-10-15T14:06:43.988080Z",
     "start_time": "2023-10-15T14:05:14.115923300Z"
    }
   }
  },
  {
   "cell_type": "code",
   "execution_count": 9,
   "outputs": [],
   "source": [
    "from sklearn.metrics import r2_score"
   ],
   "metadata": {
    "collapsed": false,
    "ExecuteTime": {
     "end_time": "2023-10-15T14:06:44.003883900Z",
     "start_time": "2023-10-15T14:06:43.988080Z"
    }
   }
  },
  {
   "cell_type": "code",
   "execution_count": 10,
   "outputs": [],
   "source": [
    "from pygam import LinearGAM, PoissonGAM, GammaGAM"
   ],
   "metadata": {
    "collapsed": false,
    "ExecuteTime": {
     "end_time": "2023-10-15T14:06:44.070007600Z",
     "start_time": "2023-10-15T14:06:44.003883900Z"
    }
   }
  },
  {
   "cell_type": "markdown",
   "source": [
    "<h2>Loading Data</h2>"
   ],
   "metadata": {
    "collapsed": false
   }
  },
  {
   "cell_type": "code",
   "execution_count": 11,
   "outputs": [
    {
     "data": {
      "text/plain": "      Unnamed: 0  device_brand  os  screen_size  4g  5g  rear_camera_mp  \\\n0              0            10   0        14.50   1   0            13.0   \n1              1            10   0        17.30   1   1            13.0   \n2              2            10   0        16.69   1   1            13.0   \n3              3            10   0        25.50   1   1            13.0   \n4              4            10   0        15.32   1   0            13.0   \n...          ...           ...  ..          ...  ..  ..             ...   \n3250        3250             2   3        15.27   1   0             8.0   \n3251        3251             3   0        15.24   1   0            13.0   \n3252        3252             1   0        15.80   1   0            13.0   \n3253        3253             1   0        15.80   1   0            13.0   \n3254        3254             1   0        12.83   1   0            13.0   \n\n      front_camera_mp  internal_memory  ram  battery  weight  release_year  \\\n0                 5.0             64.0  3.0   3020.0   146.0          2020   \n1                16.0            128.0  8.0   4300.0   213.0          2020   \n2                 8.0            128.0  8.0   4200.0   213.0          2020   \n3                 8.0             64.0  6.0   7250.0   480.0          2020   \n4                 8.0             64.0  3.0   5000.0   185.0          2020   \n...               ...              ...  ...      ...     ...           ...   \n3250              7.0             64.0  4.0   3110.0   194.0          2019   \n3251              8.0            128.0  8.0   4000.0   200.0          2018   \n3252              5.0             32.0  3.0   4000.0   165.0          2020   \n3253              5.0             32.0  2.0   4000.0   160.0          2020   \n3254              5.0             16.0  2.0   4000.0   168.0          2020   \n\n      days_used  normalized_used_price  normalized_new_price  \n0           127               4.307572              4.715100  \n1           325               5.162097              5.519018  \n2           162               5.111084              5.884631  \n3           345               5.135387              5.630961  \n4           293               4.389995              4.947837  \n...         ...                    ...                   ...  \n3250        208               5.100902              6.287933  \n3251        541               5.037732              6.251538  \n3252        201               4.357350              4.528829  \n3253        149               4.349762              4.624188  \n3254        176               4.132122              4.279994  \n\n[3255 rows x 16 columns]",
      "text/html": "<div>\n<style scoped>\n    .dataframe tbody tr th:only-of-type {\n        vertical-align: middle;\n    }\n\n    .dataframe tbody tr th {\n        vertical-align: top;\n    }\n\n    .dataframe thead th {\n        text-align: right;\n    }\n</style>\n<table border=\"1\" class=\"dataframe\">\n  <thead>\n    <tr style=\"text-align: right;\">\n      <th></th>\n      <th>Unnamed: 0</th>\n      <th>device_brand</th>\n      <th>os</th>\n      <th>screen_size</th>\n      <th>4g</th>\n      <th>5g</th>\n      <th>rear_camera_mp</th>\n      <th>front_camera_mp</th>\n      <th>internal_memory</th>\n      <th>ram</th>\n      <th>battery</th>\n      <th>weight</th>\n      <th>release_year</th>\n      <th>days_used</th>\n      <th>normalized_used_price</th>\n      <th>normalized_new_price</th>\n    </tr>\n  </thead>\n  <tbody>\n    <tr>\n      <th>0</th>\n      <td>0</td>\n      <td>10</td>\n      <td>0</td>\n      <td>14.50</td>\n      <td>1</td>\n      <td>0</td>\n      <td>13.0</td>\n      <td>5.0</td>\n      <td>64.0</td>\n      <td>3.0</td>\n      <td>3020.0</td>\n      <td>146.0</td>\n      <td>2020</td>\n      <td>127</td>\n      <td>4.307572</td>\n      <td>4.715100</td>\n    </tr>\n    <tr>\n      <th>1</th>\n      <td>1</td>\n      <td>10</td>\n      <td>0</td>\n      <td>17.30</td>\n      <td>1</td>\n      <td>1</td>\n      <td>13.0</td>\n      <td>16.0</td>\n      <td>128.0</td>\n      <td>8.0</td>\n      <td>4300.0</td>\n      <td>213.0</td>\n      <td>2020</td>\n      <td>325</td>\n      <td>5.162097</td>\n      <td>5.519018</td>\n    </tr>\n    <tr>\n      <th>2</th>\n      <td>2</td>\n      <td>10</td>\n      <td>0</td>\n      <td>16.69</td>\n      <td>1</td>\n      <td>1</td>\n      <td>13.0</td>\n      <td>8.0</td>\n      <td>128.0</td>\n      <td>8.0</td>\n      <td>4200.0</td>\n      <td>213.0</td>\n      <td>2020</td>\n      <td>162</td>\n      <td>5.111084</td>\n      <td>5.884631</td>\n    </tr>\n    <tr>\n      <th>3</th>\n      <td>3</td>\n      <td>10</td>\n      <td>0</td>\n      <td>25.50</td>\n      <td>1</td>\n      <td>1</td>\n      <td>13.0</td>\n      <td>8.0</td>\n      <td>64.0</td>\n      <td>6.0</td>\n      <td>7250.0</td>\n      <td>480.0</td>\n      <td>2020</td>\n      <td>345</td>\n      <td>5.135387</td>\n      <td>5.630961</td>\n    </tr>\n    <tr>\n      <th>4</th>\n      <td>4</td>\n      <td>10</td>\n      <td>0</td>\n      <td>15.32</td>\n      <td>1</td>\n      <td>0</td>\n      <td>13.0</td>\n      <td>8.0</td>\n      <td>64.0</td>\n      <td>3.0</td>\n      <td>5000.0</td>\n      <td>185.0</td>\n      <td>2020</td>\n      <td>293</td>\n      <td>4.389995</td>\n      <td>4.947837</td>\n    </tr>\n    <tr>\n      <th>...</th>\n      <td>...</td>\n      <td>...</td>\n      <td>...</td>\n      <td>...</td>\n      <td>...</td>\n      <td>...</td>\n      <td>...</td>\n      <td>...</td>\n      <td>...</td>\n      <td>...</td>\n      <td>...</td>\n      <td>...</td>\n      <td>...</td>\n      <td>...</td>\n      <td>...</td>\n      <td>...</td>\n    </tr>\n    <tr>\n      <th>3250</th>\n      <td>3250</td>\n      <td>2</td>\n      <td>3</td>\n      <td>15.27</td>\n      <td>1</td>\n      <td>0</td>\n      <td>8.0</td>\n      <td>7.0</td>\n      <td>64.0</td>\n      <td>4.0</td>\n      <td>3110.0</td>\n      <td>194.0</td>\n      <td>2019</td>\n      <td>208</td>\n      <td>5.100902</td>\n      <td>6.287933</td>\n    </tr>\n    <tr>\n      <th>3251</th>\n      <td>3251</td>\n      <td>3</td>\n      <td>0</td>\n      <td>15.24</td>\n      <td>1</td>\n      <td>0</td>\n      <td>13.0</td>\n      <td>8.0</td>\n      <td>128.0</td>\n      <td>8.0</td>\n      <td>4000.0</td>\n      <td>200.0</td>\n      <td>2018</td>\n      <td>541</td>\n      <td>5.037732</td>\n      <td>6.251538</td>\n    </tr>\n    <tr>\n      <th>3252</th>\n      <td>3252</td>\n      <td>1</td>\n      <td>0</td>\n      <td>15.80</td>\n      <td>1</td>\n      <td>0</td>\n      <td>13.0</td>\n      <td>5.0</td>\n      <td>32.0</td>\n      <td>3.0</td>\n      <td>4000.0</td>\n      <td>165.0</td>\n      <td>2020</td>\n      <td>201</td>\n      <td>4.357350</td>\n      <td>4.528829</td>\n    </tr>\n    <tr>\n      <th>3253</th>\n      <td>3253</td>\n      <td>1</td>\n      <td>0</td>\n      <td>15.80</td>\n      <td>1</td>\n      <td>0</td>\n      <td>13.0</td>\n      <td>5.0</td>\n      <td>32.0</td>\n      <td>2.0</td>\n      <td>4000.0</td>\n      <td>160.0</td>\n      <td>2020</td>\n      <td>149</td>\n      <td>4.349762</td>\n      <td>4.624188</td>\n    </tr>\n    <tr>\n      <th>3254</th>\n      <td>3254</td>\n      <td>1</td>\n      <td>0</td>\n      <td>12.83</td>\n      <td>1</td>\n      <td>0</td>\n      <td>13.0</td>\n      <td>5.0</td>\n      <td>16.0</td>\n      <td>2.0</td>\n      <td>4000.0</td>\n      <td>168.0</td>\n      <td>2020</td>\n      <td>176</td>\n      <td>4.132122</td>\n      <td>4.279994</td>\n    </tr>\n  </tbody>\n</table>\n<p>3255 rows × 16 columns</p>\n</div>"
     },
     "execution_count": 11,
     "metadata": {},
     "output_type": "execute_result"
    }
   ],
   "source": [
    "df = pd.read_csv('../data/notprepared_data')\n",
    "df"
   ],
   "metadata": {
    "collapsed": false,
    "ExecuteTime": {
     "end_time": "2023-10-15T14:06:44.117413300Z",
     "start_time": "2023-10-15T14:06:44.070007600Z"
    }
   }
  },
  {
   "cell_type": "code",
   "execution_count": 12,
   "outputs": [
    {
     "data": {
      "text/plain": "      Unnamed: 0  screen_size  4g  rear_camera_mp  front_camera_mp  ram  \\\n0              0        14.50   1            13.0              5.0  3.0   \n1              1        17.30   1            13.0             16.0  8.0   \n2              2        16.69   1            13.0              8.0  8.0   \n3              3        25.50   1            13.0              8.0  6.0   \n4              4        15.32   1            13.0              8.0  3.0   \n...          ...          ...  ..             ...              ...  ...   \n3250        3250        15.27   1             8.0              7.0  4.0   \n3251        3251        15.24   1            13.0              8.0  8.0   \n3252        3252        15.80   1            13.0              5.0  3.0   \n3253        3253        15.80   1            13.0              5.0  2.0   \n3254        3254        12.83   1            13.0              5.0  2.0   \n\n      battery  weight  release_year  days_used  normalized_new_price  \\\n0      3020.0   146.0          2020        127              4.715100   \n1      4300.0   213.0          2020        325              5.519018   \n2      4200.0   213.0          2020        162              5.884631   \n3      7250.0   480.0          2020        345              5.630961   \n4      5000.0   185.0          2020        293              4.947837   \n...       ...     ...           ...        ...                   ...   \n3250   3110.0   194.0          2019        208              6.287933   \n3251   4000.0   200.0          2018        541              6.251538   \n3252   4000.0   165.0          2020        201              4.528829   \n3253   4000.0   160.0          2020        149              4.624188   \n3254   4000.0   168.0          2020        176              4.279994   \n\n      normalized_used_price  \n0                  4.307572  \n1                  5.162097  \n2                  5.111084  \n3                  5.135387  \n4                  4.389995  \n...                     ...  \n3250               5.100902  \n3251               5.037732  \n3252               4.357350  \n3253               4.349762  \n3254               4.132122  \n\n[3255 rows x 12 columns]",
      "text/html": "<div>\n<style scoped>\n    .dataframe tbody tr th:only-of-type {\n        vertical-align: middle;\n    }\n\n    .dataframe tbody tr th {\n        vertical-align: top;\n    }\n\n    .dataframe thead th {\n        text-align: right;\n    }\n</style>\n<table border=\"1\" class=\"dataframe\">\n  <thead>\n    <tr style=\"text-align: right;\">\n      <th></th>\n      <th>Unnamed: 0</th>\n      <th>screen_size</th>\n      <th>4g</th>\n      <th>rear_camera_mp</th>\n      <th>front_camera_mp</th>\n      <th>ram</th>\n      <th>battery</th>\n      <th>weight</th>\n      <th>release_year</th>\n      <th>days_used</th>\n      <th>normalized_new_price</th>\n      <th>normalized_used_price</th>\n    </tr>\n  </thead>\n  <tbody>\n    <tr>\n      <th>0</th>\n      <td>0</td>\n      <td>14.50</td>\n      <td>1</td>\n      <td>13.0</td>\n      <td>5.0</td>\n      <td>3.0</td>\n      <td>3020.0</td>\n      <td>146.0</td>\n      <td>2020</td>\n      <td>127</td>\n      <td>4.715100</td>\n      <td>4.307572</td>\n    </tr>\n    <tr>\n      <th>1</th>\n      <td>1</td>\n      <td>17.30</td>\n      <td>1</td>\n      <td>13.0</td>\n      <td>16.0</td>\n      <td>8.0</td>\n      <td>4300.0</td>\n      <td>213.0</td>\n      <td>2020</td>\n      <td>325</td>\n      <td>5.519018</td>\n      <td>5.162097</td>\n    </tr>\n    <tr>\n      <th>2</th>\n      <td>2</td>\n      <td>16.69</td>\n      <td>1</td>\n      <td>13.0</td>\n      <td>8.0</td>\n      <td>8.0</td>\n      <td>4200.0</td>\n      <td>213.0</td>\n      <td>2020</td>\n      <td>162</td>\n      <td>5.884631</td>\n      <td>5.111084</td>\n    </tr>\n    <tr>\n      <th>3</th>\n      <td>3</td>\n      <td>25.50</td>\n      <td>1</td>\n      <td>13.0</td>\n      <td>8.0</td>\n      <td>6.0</td>\n      <td>7250.0</td>\n      <td>480.0</td>\n      <td>2020</td>\n      <td>345</td>\n      <td>5.630961</td>\n      <td>5.135387</td>\n    </tr>\n    <tr>\n      <th>4</th>\n      <td>4</td>\n      <td>15.32</td>\n      <td>1</td>\n      <td>13.0</td>\n      <td>8.0</td>\n      <td>3.0</td>\n      <td>5000.0</td>\n      <td>185.0</td>\n      <td>2020</td>\n      <td>293</td>\n      <td>4.947837</td>\n      <td>4.389995</td>\n    </tr>\n    <tr>\n      <th>...</th>\n      <td>...</td>\n      <td>...</td>\n      <td>...</td>\n      <td>...</td>\n      <td>...</td>\n      <td>...</td>\n      <td>...</td>\n      <td>...</td>\n      <td>...</td>\n      <td>...</td>\n      <td>...</td>\n      <td>...</td>\n    </tr>\n    <tr>\n      <th>3250</th>\n      <td>3250</td>\n      <td>15.27</td>\n      <td>1</td>\n      <td>8.0</td>\n      <td>7.0</td>\n      <td>4.0</td>\n      <td>3110.0</td>\n      <td>194.0</td>\n      <td>2019</td>\n      <td>208</td>\n      <td>6.287933</td>\n      <td>5.100902</td>\n    </tr>\n    <tr>\n      <th>3251</th>\n      <td>3251</td>\n      <td>15.24</td>\n      <td>1</td>\n      <td>13.0</td>\n      <td>8.0</td>\n      <td>8.0</td>\n      <td>4000.0</td>\n      <td>200.0</td>\n      <td>2018</td>\n      <td>541</td>\n      <td>6.251538</td>\n      <td>5.037732</td>\n    </tr>\n    <tr>\n      <th>3252</th>\n      <td>3252</td>\n      <td>15.80</td>\n      <td>1</td>\n      <td>13.0</td>\n      <td>5.0</td>\n      <td>3.0</td>\n      <td>4000.0</td>\n      <td>165.0</td>\n      <td>2020</td>\n      <td>201</td>\n      <td>4.528829</td>\n      <td>4.357350</td>\n    </tr>\n    <tr>\n      <th>3253</th>\n      <td>3253</td>\n      <td>15.80</td>\n      <td>1</td>\n      <td>13.0</td>\n      <td>5.0</td>\n      <td>2.0</td>\n      <td>4000.0</td>\n      <td>160.0</td>\n      <td>2020</td>\n      <td>149</td>\n      <td>4.624188</td>\n      <td>4.349762</td>\n    </tr>\n    <tr>\n      <th>3254</th>\n      <td>3254</td>\n      <td>12.83</td>\n      <td>1</td>\n      <td>13.0</td>\n      <td>5.0</td>\n      <td>2.0</td>\n      <td>4000.0</td>\n      <td>168.0</td>\n      <td>2020</td>\n      <td>176</td>\n      <td>4.279994</td>\n      <td>4.132122</td>\n    </tr>\n  </tbody>\n</table>\n<p>3255 rows × 12 columns</p>\n</div>"
     },
     "execution_count": 12,
     "metadata": {},
     "output_type": "execute_result"
    }
   ],
   "source": [
    "df_selected = pd.read_csv('../data/selected_data')\n",
    "df_selected"
   ],
   "metadata": {
    "collapsed": false,
    "ExecuteTime": {
     "end_time": "2023-10-15T14:06:44.164304500Z",
     "start_time": "2023-10-15T14:06:44.117413300Z"
    }
   }
  },
  {
   "cell_type": "code",
   "execution_count": 13,
   "outputs": [
    {
     "data": {
      "text/plain": "      device_brand  os  screen_size  4g  5g  rear_camera_mp  front_camera_mp  \\\n322              0   0        25.43   0   0             5.0              2.0   \n358              0   0        10.29   1   0             5.0              2.0   \n359              0   0        12.70   1   0            13.0              5.0   \n360              0   0        12.70   0   0             8.0              2.0   \n361              0   0        12.88   1   0            13.0              2.0   \n...            ...  ..          ...  ..  ..             ...              ...   \n3033            32   0        10.29   0   0             5.0              2.0   \n3032            32   0        12.70   0   0             8.0              2.0   \n3031            32   0        12.70   0   0            13.0              5.0   \n3029            32   0        12.70   1   0            16.0              8.0   \n3017            32   0        12.83   1   0             8.0              8.0   \n\n      internal_memory  ram  battery  weight  release_year  days_used  \\\n322              16.0  1.0   2700.0   508.0          2014        578   \n358              32.0  4.0   2000.0   145.0          2015       1044   \n359              16.0  4.0   2300.0   116.0          2014        579   \n360              16.0  4.0   2000.0   150.0          2014        569   \n361              16.0  4.0   2700.0   164.0          2014        723   \n...               ...  ...      ...     ...           ...        ...   \n3033             16.0  4.0   1850.0   135.0          2015        853   \n3032             32.0  4.0   2000.0   149.5          2015       1041   \n3031             32.0  4.0   2000.0   150.0          2015        983   \n3029             16.0  4.0   2900.0   147.0          2015        797   \n3017             32.0  4.0   3000.0   172.9          2015        818   \n\n      normalized_used_price  normalized_new_price  \n322                4.836599              5.257756  \n358                3.642050              4.859812  \n359                4.028917              5.303504  \n360                4.348728              5.014694  \n361                4.342376              5.560412  \n...                     ...                   ...  \n3033               3.840957              4.625169  \n3032               3.950282              4.392224  \n3031               4.345363              4.607268  \n3029               4.649091              5.127529  \n3017               4.284276              5.666496  \n\n[3255 rows x 15 columns]",
      "text/html": "<div>\n<style scoped>\n    .dataframe tbody tr th:only-of-type {\n        vertical-align: middle;\n    }\n\n    .dataframe tbody tr th {\n        vertical-align: top;\n    }\n\n    .dataframe thead th {\n        text-align: right;\n    }\n</style>\n<table border=\"1\" class=\"dataframe\">\n  <thead>\n    <tr style=\"text-align: right;\">\n      <th></th>\n      <th>device_brand</th>\n      <th>os</th>\n      <th>screen_size</th>\n      <th>4g</th>\n      <th>5g</th>\n      <th>rear_camera_mp</th>\n      <th>front_camera_mp</th>\n      <th>internal_memory</th>\n      <th>ram</th>\n      <th>battery</th>\n      <th>weight</th>\n      <th>release_year</th>\n      <th>days_used</th>\n      <th>normalized_used_price</th>\n      <th>normalized_new_price</th>\n    </tr>\n  </thead>\n  <tbody>\n    <tr>\n      <th>322</th>\n      <td>0</td>\n      <td>0</td>\n      <td>25.43</td>\n      <td>0</td>\n      <td>0</td>\n      <td>5.0</td>\n      <td>2.0</td>\n      <td>16.0</td>\n      <td>1.0</td>\n      <td>2700.0</td>\n      <td>508.0</td>\n      <td>2014</td>\n      <td>578</td>\n      <td>4.836599</td>\n      <td>5.257756</td>\n    </tr>\n    <tr>\n      <th>358</th>\n      <td>0</td>\n      <td>0</td>\n      <td>10.29</td>\n      <td>1</td>\n      <td>0</td>\n      <td>5.0</td>\n      <td>2.0</td>\n      <td>32.0</td>\n      <td>4.0</td>\n      <td>2000.0</td>\n      <td>145.0</td>\n      <td>2015</td>\n      <td>1044</td>\n      <td>3.642050</td>\n      <td>4.859812</td>\n    </tr>\n    <tr>\n      <th>359</th>\n      <td>0</td>\n      <td>0</td>\n      <td>12.70</td>\n      <td>1</td>\n      <td>0</td>\n      <td>13.0</td>\n      <td>5.0</td>\n      <td>16.0</td>\n      <td>4.0</td>\n      <td>2300.0</td>\n      <td>116.0</td>\n      <td>2014</td>\n      <td>579</td>\n      <td>4.028917</td>\n      <td>5.303504</td>\n    </tr>\n    <tr>\n      <th>360</th>\n      <td>0</td>\n      <td>0</td>\n      <td>12.70</td>\n      <td>0</td>\n      <td>0</td>\n      <td>8.0</td>\n      <td>2.0</td>\n      <td>16.0</td>\n      <td>4.0</td>\n      <td>2000.0</td>\n      <td>150.0</td>\n      <td>2014</td>\n      <td>569</td>\n      <td>4.348728</td>\n      <td>5.014694</td>\n    </tr>\n    <tr>\n      <th>361</th>\n      <td>0</td>\n      <td>0</td>\n      <td>12.88</td>\n      <td>1</td>\n      <td>0</td>\n      <td>13.0</td>\n      <td>2.0</td>\n      <td>16.0</td>\n      <td>4.0</td>\n      <td>2700.0</td>\n      <td>164.0</td>\n      <td>2014</td>\n      <td>723</td>\n      <td>4.342376</td>\n      <td>5.560412</td>\n    </tr>\n    <tr>\n      <th>...</th>\n      <td>...</td>\n      <td>...</td>\n      <td>...</td>\n      <td>...</td>\n      <td>...</td>\n      <td>...</td>\n      <td>...</td>\n      <td>...</td>\n      <td>...</td>\n      <td>...</td>\n      <td>...</td>\n      <td>...</td>\n      <td>...</td>\n      <td>...</td>\n      <td>...</td>\n    </tr>\n    <tr>\n      <th>3033</th>\n      <td>32</td>\n      <td>0</td>\n      <td>10.29</td>\n      <td>0</td>\n      <td>0</td>\n      <td>5.0</td>\n      <td>2.0</td>\n      <td>16.0</td>\n      <td>4.0</td>\n      <td>1850.0</td>\n      <td>135.0</td>\n      <td>2015</td>\n      <td>853</td>\n      <td>3.840957</td>\n      <td>4.625169</td>\n    </tr>\n    <tr>\n      <th>3032</th>\n      <td>32</td>\n      <td>0</td>\n      <td>12.70</td>\n      <td>0</td>\n      <td>0</td>\n      <td>8.0</td>\n      <td>2.0</td>\n      <td>32.0</td>\n      <td>4.0</td>\n      <td>2000.0</td>\n      <td>149.5</td>\n      <td>2015</td>\n      <td>1041</td>\n      <td>3.950282</td>\n      <td>4.392224</td>\n    </tr>\n    <tr>\n      <th>3031</th>\n      <td>32</td>\n      <td>0</td>\n      <td>12.70</td>\n      <td>0</td>\n      <td>0</td>\n      <td>13.0</td>\n      <td>5.0</td>\n      <td>32.0</td>\n      <td>4.0</td>\n      <td>2000.0</td>\n      <td>150.0</td>\n      <td>2015</td>\n      <td>983</td>\n      <td>4.345363</td>\n      <td>4.607268</td>\n    </tr>\n    <tr>\n      <th>3029</th>\n      <td>32</td>\n      <td>0</td>\n      <td>12.70</td>\n      <td>1</td>\n      <td>0</td>\n      <td>16.0</td>\n      <td>8.0</td>\n      <td>16.0</td>\n      <td>4.0</td>\n      <td>2900.0</td>\n      <td>147.0</td>\n      <td>2015</td>\n      <td>797</td>\n      <td>4.649091</td>\n      <td>5.127529</td>\n    </tr>\n    <tr>\n      <th>3017</th>\n      <td>32</td>\n      <td>0</td>\n      <td>12.83</td>\n      <td>1</td>\n      <td>0</td>\n      <td>8.0</td>\n      <td>8.0</td>\n      <td>32.0</td>\n      <td>4.0</td>\n      <td>3000.0</td>\n      <td>172.9</td>\n      <td>2015</td>\n      <td>818</td>\n      <td>4.284276</td>\n      <td>5.666496</td>\n    </tr>\n  </tbody>\n</table>\n<p>3255 rows × 15 columns</p>\n</div>"
     },
     "execution_count": 13,
     "metadata": {},
     "output_type": "execute_result"
    }
   ],
   "source": [
    "df.drop('Unnamed: 0', axis=1, inplace=True)\n",
    "df.sort_values(by='device_brand', inplace=True)\n",
    "df"
   ],
   "metadata": {
    "collapsed": false,
    "ExecuteTime": {
     "end_time": "2023-10-15T14:06:44.338606500Z",
     "start_time": "2023-10-15T14:06:44.148705400Z"
    }
   }
  },
  {
   "cell_type": "code",
   "execution_count": 14,
   "outputs": [
    {
     "data": {
      "text/plain": "      screen_size  4g  rear_camera_mp  front_camera_mp  ram  battery  weight  \\\n0           14.50   1            13.0              5.0  3.0   3020.0   146.0   \n1           17.30   1            13.0             16.0  8.0   4300.0   213.0   \n2           16.69   1            13.0              8.0  8.0   4200.0   213.0   \n3           25.50   1            13.0              8.0  6.0   7250.0   480.0   \n4           15.32   1            13.0              8.0  3.0   5000.0   185.0   \n...           ...  ..             ...              ...  ...      ...     ...   \n3250        15.27   1             8.0              7.0  4.0   3110.0   194.0   \n3251        15.24   1            13.0              8.0  8.0   4000.0   200.0   \n3252        15.80   1            13.0              5.0  3.0   4000.0   165.0   \n3253        15.80   1            13.0              5.0  2.0   4000.0   160.0   \n3254        12.83   1            13.0              5.0  2.0   4000.0   168.0   \n\n      release_year  days_used  normalized_new_price  normalized_used_price  \n0             2020        127              4.715100               4.307572  \n1             2020        325              5.519018               5.162097  \n2             2020        162              5.884631               5.111084  \n3             2020        345              5.630961               5.135387  \n4             2020        293              4.947837               4.389995  \n...            ...        ...                   ...                    ...  \n3250          2019        208              6.287933               5.100902  \n3251          2018        541              6.251538               5.037732  \n3252          2020        201              4.528829               4.357350  \n3253          2020        149              4.624188               4.349762  \n3254          2020        176              4.279994               4.132122  \n\n[3255 rows x 11 columns]",
      "text/html": "<div>\n<style scoped>\n    .dataframe tbody tr th:only-of-type {\n        vertical-align: middle;\n    }\n\n    .dataframe tbody tr th {\n        vertical-align: top;\n    }\n\n    .dataframe thead th {\n        text-align: right;\n    }\n</style>\n<table border=\"1\" class=\"dataframe\">\n  <thead>\n    <tr style=\"text-align: right;\">\n      <th></th>\n      <th>screen_size</th>\n      <th>4g</th>\n      <th>rear_camera_mp</th>\n      <th>front_camera_mp</th>\n      <th>ram</th>\n      <th>battery</th>\n      <th>weight</th>\n      <th>release_year</th>\n      <th>days_used</th>\n      <th>normalized_new_price</th>\n      <th>normalized_used_price</th>\n    </tr>\n  </thead>\n  <tbody>\n    <tr>\n      <th>0</th>\n      <td>14.50</td>\n      <td>1</td>\n      <td>13.0</td>\n      <td>5.0</td>\n      <td>3.0</td>\n      <td>3020.0</td>\n      <td>146.0</td>\n      <td>2020</td>\n      <td>127</td>\n      <td>4.715100</td>\n      <td>4.307572</td>\n    </tr>\n    <tr>\n      <th>1</th>\n      <td>17.30</td>\n      <td>1</td>\n      <td>13.0</td>\n      <td>16.0</td>\n      <td>8.0</td>\n      <td>4300.0</td>\n      <td>213.0</td>\n      <td>2020</td>\n      <td>325</td>\n      <td>5.519018</td>\n      <td>5.162097</td>\n    </tr>\n    <tr>\n      <th>2</th>\n      <td>16.69</td>\n      <td>1</td>\n      <td>13.0</td>\n      <td>8.0</td>\n      <td>8.0</td>\n      <td>4200.0</td>\n      <td>213.0</td>\n      <td>2020</td>\n      <td>162</td>\n      <td>5.884631</td>\n      <td>5.111084</td>\n    </tr>\n    <tr>\n      <th>3</th>\n      <td>25.50</td>\n      <td>1</td>\n      <td>13.0</td>\n      <td>8.0</td>\n      <td>6.0</td>\n      <td>7250.0</td>\n      <td>480.0</td>\n      <td>2020</td>\n      <td>345</td>\n      <td>5.630961</td>\n      <td>5.135387</td>\n    </tr>\n    <tr>\n      <th>4</th>\n      <td>15.32</td>\n      <td>1</td>\n      <td>13.0</td>\n      <td>8.0</td>\n      <td>3.0</td>\n      <td>5000.0</td>\n      <td>185.0</td>\n      <td>2020</td>\n      <td>293</td>\n      <td>4.947837</td>\n      <td>4.389995</td>\n    </tr>\n    <tr>\n      <th>...</th>\n      <td>...</td>\n      <td>...</td>\n      <td>...</td>\n      <td>...</td>\n      <td>...</td>\n      <td>...</td>\n      <td>...</td>\n      <td>...</td>\n      <td>...</td>\n      <td>...</td>\n      <td>...</td>\n    </tr>\n    <tr>\n      <th>3250</th>\n      <td>15.27</td>\n      <td>1</td>\n      <td>8.0</td>\n      <td>7.0</td>\n      <td>4.0</td>\n      <td>3110.0</td>\n      <td>194.0</td>\n      <td>2019</td>\n      <td>208</td>\n      <td>6.287933</td>\n      <td>5.100902</td>\n    </tr>\n    <tr>\n      <th>3251</th>\n      <td>15.24</td>\n      <td>1</td>\n      <td>13.0</td>\n      <td>8.0</td>\n      <td>8.0</td>\n      <td>4000.0</td>\n      <td>200.0</td>\n      <td>2018</td>\n      <td>541</td>\n      <td>6.251538</td>\n      <td>5.037732</td>\n    </tr>\n    <tr>\n      <th>3252</th>\n      <td>15.80</td>\n      <td>1</td>\n      <td>13.0</td>\n      <td>5.0</td>\n      <td>3.0</td>\n      <td>4000.0</td>\n      <td>165.0</td>\n      <td>2020</td>\n      <td>201</td>\n      <td>4.528829</td>\n      <td>4.357350</td>\n    </tr>\n    <tr>\n      <th>3253</th>\n      <td>15.80</td>\n      <td>1</td>\n      <td>13.0</td>\n      <td>5.0</td>\n      <td>2.0</td>\n      <td>4000.0</td>\n      <td>160.0</td>\n      <td>2020</td>\n      <td>149</td>\n      <td>4.624188</td>\n      <td>4.349762</td>\n    </tr>\n    <tr>\n      <th>3254</th>\n      <td>12.83</td>\n      <td>1</td>\n      <td>13.0</td>\n      <td>5.0</td>\n      <td>2.0</td>\n      <td>4000.0</td>\n      <td>168.0</td>\n      <td>2020</td>\n      <td>176</td>\n      <td>4.279994</td>\n      <td>4.132122</td>\n    </tr>\n  </tbody>\n</table>\n<p>3255 rows × 11 columns</p>\n</div>"
     },
     "execution_count": 14,
     "metadata": {},
     "output_type": "execute_result"
    }
   ],
   "source": [
    "df_selected.drop('Unnamed: 0', axis=1, inplace=True)\n",
    "#df_selected.sort_values(by='device_brand', inplace=True)\n",
    "df_selected"
   ],
   "metadata": {
    "collapsed": false,
    "ExecuteTime": {
     "end_time": "2023-10-15T14:06:44.338606500Z",
     "start_time": "2023-10-15T14:06:44.197005600Z"
    }
   }
  },
  {
   "cell_type": "code",
   "execution_count": 15,
   "outputs": [
    {
     "data": {
      "text/plain": "      device_brand  os  screen_size  4g  5g  rear_camera_mp  front_camera_mp  \\\n322              0   0        25.43   0   0             5.0              2.0   \n358              0   0        10.29   1   0             5.0              2.0   \n359              0   0        12.70   1   0            13.0              5.0   \n360              0   0        12.70   0   0             8.0              2.0   \n361              0   0        12.88   1   0            13.0              2.0   \n...            ...  ..          ...  ..  ..             ...              ...   \n3033            32   0        10.29   0   0             5.0              2.0   \n3032            32   0        12.70   0   0             8.0              2.0   \n3031            32   0        12.70   0   0            13.0              5.0   \n3029            32   0        12.70   1   0            16.0              8.0   \n3017            32   0        12.83   1   0             8.0              8.0   \n\n      internal_memory  ram  battery  weight  release_year  days_used  \\\n322              16.0  1.0   2700.0   508.0          2014        578   \n358              32.0  4.0   2000.0   145.0          2015       1044   \n359              16.0  4.0   2300.0   116.0          2014        579   \n360              16.0  4.0   2000.0   150.0          2014        569   \n361              16.0  4.0   2700.0   164.0          2014        723   \n...               ...  ...      ...     ...           ...        ...   \n3033             16.0  4.0   1850.0   135.0          2015        853   \n3032             32.0  4.0   2000.0   149.5          2015       1041   \n3031             32.0  4.0   2000.0   150.0          2015        983   \n3029             16.0  4.0   2900.0   147.0          2015        797   \n3017             32.0  4.0   3000.0   172.9          2015        818   \n\n      normalized_used_price  normalized_new_price  \n322                4.836599              5.257756  \n358                3.642050              4.859812  \n359                4.028917              5.303504  \n360                4.348728              5.014694  \n361                4.342376              5.560412  \n...                     ...                   ...  \n3033               3.840957              4.625169  \n3032               3.950282              4.392224  \n3031               4.345363              4.607268  \n3029               4.649091              5.127529  \n3017               4.284276              5.666496  \n\n[3255 rows x 15 columns]",
      "text/html": "<div>\n<style scoped>\n    .dataframe tbody tr th:only-of-type {\n        vertical-align: middle;\n    }\n\n    .dataframe tbody tr th {\n        vertical-align: top;\n    }\n\n    .dataframe thead th {\n        text-align: right;\n    }\n</style>\n<table border=\"1\" class=\"dataframe\">\n  <thead>\n    <tr style=\"text-align: right;\">\n      <th></th>\n      <th>device_brand</th>\n      <th>os</th>\n      <th>screen_size</th>\n      <th>4g</th>\n      <th>5g</th>\n      <th>rear_camera_mp</th>\n      <th>front_camera_mp</th>\n      <th>internal_memory</th>\n      <th>ram</th>\n      <th>battery</th>\n      <th>weight</th>\n      <th>release_year</th>\n      <th>days_used</th>\n      <th>normalized_used_price</th>\n      <th>normalized_new_price</th>\n    </tr>\n  </thead>\n  <tbody>\n    <tr>\n      <th>322</th>\n      <td>0</td>\n      <td>0</td>\n      <td>25.43</td>\n      <td>0</td>\n      <td>0</td>\n      <td>5.0</td>\n      <td>2.0</td>\n      <td>16.0</td>\n      <td>1.0</td>\n      <td>2700.0</td>\n      <td>508.0</td>\n      <td>2014</td>\n      <td>578</td>\n      <td>4.836599</td>\n      <td>5.257756</td>\n    </tr>\n    <tr>\n      <th>358</th>\n      <td>0</td>\n      <td>0</td>\n      <td>10.29</td>\n      <td>1</td>\n      <td>0</td>\n      <td>5.0</td>\n      <td>2.0</td>\n      <td>32.0</td>\n      <td>4.0</td>\n      <td>2000.0</td>\n      <td>145.0</td>\n      <td>2015</td>\n      <td>1044</td>\n      <td>3.642050</td>\n      <td>4.859812</td>\n    </tr>\n    <tr>\n      <th>359</th>\n      <td>0</td>\n      <td>0</td>\n      <td>12.70</td>\n      <td>1</td>\n      <td>0</td>\n      <td>13.0</td>\n      <td>5.0</td>\n      <td>16.0</td>\n      <td>4.0</td>\n      <td>2300.0</td>\n      <td>116.0</td>\n      <td>2014</td>\n      <td>579</td>\n      <td>4.028917</td>\n      <td>5.303504</td>\n    </tr>\n    <tr>\n      <th>360</th>\n      <td>0</td>\n      <td>0</td>\n      <td>12.70</td>\n      <td>0</td>\n      <td>0</td>\n      <td>8.0</td>\n      <td>2.0</td>\n      <td>16.0</td>\n      <td>4.0</td>\n      <td>2000.0</td>\n      <td>150.0</td>\n      <td>2014</td>\n      <td>569</td>\n      <td>4.348728</td>\n      <td>5.014694</td>\n    </tr>\n    <tr>\n      <th>361</th>\n      <td>0</td>\n      <td>0</td>\n      <td>12.88</td>\n      <td>1</td>\n      <td>0</td>\n      <td>13.0</td>\n      <td>2.0</td>\n      <td>16.0</td>\n      <td>4.0</td>\n      <td>2700.0</td>\n      <td>164.0</td>\n      <td>2014</td>\n      <td>723</td>\n      <td>4.342376</td>\n      <td>5.560412</td>\n    </tr>\n    <tr>\n      <th>...</th>\n      <td>...</td>\n      <td>...</td>\n      <td>...</td>\n      <td>...</td>\n      <td>...</td>\n      <td>...</td>\n      <td>...</td>\n      <td>...</td>\n      <td>...</td>\n      <td>...</td>\n      <td>...</td>\n      <td>...</td>\n      <td>...</td>\n      <td>...</td>\n      <td>...</td>\n    </tr>\n    <tr>\n      <th>3033</th>\n      <td>32</td>\n      <td>0</td>\n      <td>10.29</td>\n      <td>0</td>\n      <td>0</td>\n      <td>5.0</td>\n      <td>2.0</td>\n      <td>16.0</td>\n      <td>4.0</td>\n      <td>1850.0</td>\n      <td>135.0</td>\n      <td>2015</td>\n      <td>853</td>\n      <td>3.840957</td>\n      <td>4.625169</td>\n    </tr>\n    <tr>\n      <th>3032</th>\n      <td>32</td>\n      <td>0</td>\n      <td>12.70</td>\n      <td>0</td>\n      <td>0</td>\n      <td>8.0</td>\n      <td>2.0</td>\n      <td>32.0</td>\n      <td>4.0</td>\n      <td>2000.0</td>\n      <td>149.5</td>\n      <td>2015</td>\n      <td>1041</td>\n      <td>3.950282</td>\n      <td>4.392224</td>\n    </tr>\n    <tr>\n      <th>3031</th>\n      <td>32</td>\n      <td>0</td>\n      <td>12.70</td>\n      <td>0</td>\n      <td>0</td>\n      <td>13.0</td>\n      <td>5.0</td>\n      <td>32.0</td>\n      <td>4.0</td>\n      <td>2000.0</td>\n      <td>150.0</td>\n      <td>2015</td>\n      <td>983</td>\n      <td>4.345363</td>\n      <td>4.607268</td>\n    </tr>\n    <tr>\n      <th>3029</th>\n      <td>32</td>\n      <td>0</td>\n      <td>12.70</td>\n      <td>1</td>\n      <td>0</td>\n      <td>16.0</td>\n      <td>8.0</td>\n      <td>16.0</td>\n      <td>4.0</td>\n      <td>2900.0</td>\n      <td>147.0</td>\n      <td>2015</td>\n      <td>797</td>\n      <td>4.649091</td>\n      <td>5.127529</td>\n    </tr>\n    <tr>\n      <th>3017</th>\n      <td>32</td>\n      <td>0</td>\n      <td>12.83</td>\n      <td>1</td>\n      <td>0</td>\n      <td>8.0</td>\n      <td>8.0</td>\n      <td>32.0</td>\n      <td>4.0</td>\n      <td>3000.0</td>\n      <td>172.9</td>\n      <td>2015</td>\n      <td>818</td>\n      <td>4.284276</td>\n      <td>5.666496</td>\n    </tr>\n  </tbody>\n</table>\n<p>3255 rows × 15 columns</p>\n</div>"
     },
     "execution_count": 15,
     "metadata": {},
     "output_type": "execute_result"
    }
   ],
   "source": [
    "df"
   ],
   "metadata": {
    "collapsed": false,
    "ExecuteTime": {
     "end_time": "2023-10-15T14:06:44.354235800Z",
     "start_time": "2023-10-15T14:06:44.227857300Z"
    }
   }
  },
  {
   "cell_type": "code",
   "execution_count": 16,
   "outputs": [
    {
     "data": {
      "text/plain": "      device_brand  os  screen_size  4g  5g  rear_camera_mp  front_camera_mp  \\\n0                0   0        25.43   0   0             5.0              2.0   \n1                0   0        10.29   1   0             5.0              2.0   \n2                0   0        12.70   1   0            13.0              5.0   \n3                0   0        12.70   0   0             8.0              2.0   \n4                0   0        12.88   1   0            13.0              2.0   \n...            ...  ..          ...  ..  ..             ...              ...   \n3250            32   0        10.29   0   0             5.0              2.0   \n3251            32   0        12.70   0   0             8.0              2.0   \n3252            32   0        12.70   0   0            13.0              5.0   \n3253            32   0        12.70   1   0            16.0              8.0   \n3254            32   0        12.83   1   0             8.0              8.0   \n\n      internal_memory  ram  battery  weight  release_year  days_used  \\\n0                16.0  1.0   2700.0   508.0          2014        578   \n1                32.0  4.0   2000.0   145.0          2015       1044   \n2                16.0  4.0   2300.0   116.0          2014        579   \n3                16.0  4.0   2000.0   150.0          2014        569   \n4                16.0  4.0   2700.0   164.0          2014        723   \n...               ...  ...      ...     ...           ...        ...   \n3250             16.0  4.0   1850.0   135.0          2015        853   \n3251             32.0  4.0   2000.0   149.5          2015       1041   \n3252             32.0  4.0   2000.0   150.0          2015        983   \n3253             16.0  4.0   2900.0   147.0          2015        797   \n3254             32.0  4.0   3000.0   172.9          2015        818   \n\n      normalized_used_price  normalized_new_price  \n0                  4.836599              5.257756  \n1                  3.642050              4.859812  \n2                  4.028917              5.303504  \n3                  4.348728              5.014694  \n4                  4.342376              5.560412  \n...                     ...                   ...  \n3250               3.840957              4.625169  \n3251               3.950282              4.392224  \n3252               4.345363              4.607268  \n3253               4.649091              5.127529  \n3254               4.284276              5.666496  \n\n[3255 rows x 15 columns]",
      "text/html": "<div>\n<style scoped>\n    .dataframe tbody tr th:only-of-type {\n        vertical-align: middle;\n    }\n\n    .dataframe tbody tr th {\n        vertical-align: top;\n    }\n\n    .dataframe thead th {\n        text-align: right;\n    }\n</style>\n<table border=\"1\" class=\"dataframe\">\n  <thead>\n    <tr style=\"text-align: right;\">\n      <th></th>\n      <th>device_brand</th>\n      <th>os</th>\n      <th>screen_size</th>\n      <th>4g</th>\n      <th>5g</th>\n      <th>rear_camera_mp</th>\n      <th>front_camera_mp</th>\n      <th>internal_memory</th>\n      <th>ram</th>\n      <th>battery</th>\n      <th>weight</th>\n      <th>release_year</th>\n      <th>days_used</th>\n      <th>normalized_used_price</th>\n      <th>normalized_new_price</th>\n    </tr>\n  </thead>\n  <tbody>\n    <tr>\n      <th>0</th>\n      <td>0</td>\n      <td>0</td>\n      <td>25.43</td>\n      <td>0</td>\n      <td>0</td>\n      <td>5.0</td>\n      <td>2.0</td>\n      <td>16.0</td>\n      <td>1.0</td>\n      <td>2700.0</td>\n      <td>508.0</td>\n      <td>2014</td>\n      <td>578</td>\n      <td>4.836599</td>\n      <td>5.257756</td>\n    </tr>\n    <tr>\n      <th>1</th>\n      <td>0</td>\n      <td>0</td>\n      <td>10.29</td>\n      <td>1</td>\n      <td>0</td>\n      <td>5.0</td>\n      <td>2.0</td>\n      <td>32.0</td>\n      <td>4.0</td>\n      <td>2000.0</td>\n      <td>145.0</td>\n      <td>2015</td>\n      <td>1044</td>\n      <td>3.642050</td>\n      <td>4.859812</td>\n    </tr>\n    <tr>\n      <th>2</th>\n      <td>0</td>\n      <td>0</td>\n      <td>12.70</td>\n      <td>1</td>\n      <td>0</td>\n      <td>13.0</td>\n      <td>5.0</td>\n      <td>16.0</td>\n      <td>4.0</td>\n      <td>2300.0</td>\n      <td>116.0</td>\n      <td>2014</td>\n      <td>579</td>\n      <td>4.028917</td>\n      <td>5.303504</td>\n    </tr>\n    <tr>\n      <th>3</th>\n      <td>0</td>\n      <td>0</td>\n      <td>12.70</td>\n      <td>0</td>\n      <td>0</td>\n      <td>8.0</td>\n      <td>2.0</td>\n      <td>16.0</td>\n      <td>4.0</td>\n      <td>2000.0</td>\n      <td>150.0</td>\n      <td>2014</td>\n      <td>569</td>\n      <td>4.348728</td>\n      <td>5.014694</td>\n    </tr>\n    <tr>\n      <th>4</th>\n      <td>0</td>\n      <td>0</td>\n      <td>12.88</td>\n      <td>1</td>\n      <td>0</td>\n      <td>13.0</td>\n      <td>2.0</td>\n      <td>16.0</td>\n      <td>4.0</td>\n      <td>2700.0</td>\n      <td>164.0</td>\n      <td>2014</td>\n      <td>723</td>\n      <td>4.342376</td>\n      <td>5.560412</td>\n    </tr>\n    <tr>\n      <th>...</th>\n      <td>...</td>\n      <td>...</td>\n      <td>...</td>\n      <td>...</td>\n      <td>...</td>\n      <td>...</td>\n      <td>...</td>\n      <td>...</td>\n      <td>...</td>\n      <td>...</td>\n      <td>...</td>\n      <td>...</td>\n      <td>...</td>\n      <td>...</td>\n      <td>...</td>\n    </tr>\n    <tr>\n      <th>3250</th>\n      <td>32</td>\n      <td>0</td>\n      <td>10.29</td>\n      <td>0</td>\n      <td>0</td>\n      <td>5.0</td>\n      <td>2.0</td>\n      <td>16.0</td>\n      <td>4.0</td>\n      <td>1850.0</td>\n      <td>135.0</td>\n      <td>2015</td>\n      <td>853</td>\n      <td>3.840957</td>\n      <td>4.625169</td>\n    </tr>\n    <tr>\n      <th>3251</th>\n      <td>32</td>\n      <td>0</td>\n      <td>12.70</td>\n      <td>0</td>\n      <td>0</td>\n      <td>8.0</td>\n      <td>2.0</td>\n      <td>32.0</td>\n      <td>4.0</td>\n      <td>2000.0</td>\n      <td>149.5</td>\n      <td>2015</td>\n      <td>1041</td>\n      <td>3.950282</td>\n      <td>4.392224</td>\n    </tr>\n    <tr>\n      <th>3252</th>\n      <td>32</td>\n      <td>0</td>\n      <td>12.70</td>\n      <td>0</td>\n      <td>0</td>\n      <td>13.0</td>\n      <td>5.0</td>\n      <td>32.0</td>\n      <td>4.0</td>\n      <td>2000.0</td>\n      <td>150.0</td>\n      <td>2015</td>\n      <td>983</td>\n      <td>4.345363</td>\n      <td>4.607268</td>\n    </tr>\n    <tr>\n      <th>3253</th>\n      <td>32</td>\n      <td>0</td>\n      <td>12.70</td>\n      <td>1</td>\n      <td>0</td>\n      <td>16.0</td>\n      <td>8.0</td>\n      <td>16.0</td>\n      <td>4.0</td>\n      <td>2900.0</td>\n      <td>147.0</td>\n      <td>2015</td>\n      <td>797</td>\n      <td>4.649091</td>\n      <td>5.127529</td>\n    </tr>\n    <tr>\n      <th>3254</th>\n      <td>32</td>\n      <td>0</td>\n      <td>12.83</td>\n      <td>1</td>\n      <td>0</td>\n      <td>8.0</td>\n      <td>8.0</td>\n      <td>32.0</td>\n      <td>4.0</td>\n      <td>3000.0</td>\n      <td>172.9</td>\n      <td>2015</td>\n      <td>818</td>\n      <td>4.284276</td>\n      <td>5.666496</td>\n    </tr>\n  </tbody>\n</table>\n<p>3255 rows × 15 columns</p>\n</div>"
     },
     "execution_count": 16,
     "metadata": {},
     "output_type": "execute_result"
    }
   ],
   "source": [
    "df.reset_index(inplace=True, drop=True)\n",
    "df"
   ],
   "metadata": {
    "collapsed": false,
    "ExecuteTime": {
     "end_time": "2023-10-15T14:06:44.354235800Z",
     "start_time": "2023-10-15T14:06:44.275230400Z"
    }
   }
  },
  {
   "cell_type": "code",
   "execution_count": 17,
   "outputs": [
    {
     "data": {
      "text/plain": "      screen_size  4g  rear_camera_mp  front_camera_mp  ram  battery  weight  \\\n0           14.50   1            13.0              5.0  3.0   3020.0   146.0   \n1           17.30   1            13.0             16.0  8.0   4300.0   213.0   \n2           16.69   1            13.0              8.0  8.0   4200.0   213.0   \n3           25.50   1            13.0              8.0  6.0   7250.0   480.0   \n4           15.32   1            13.0              8.0  3.0   5000.0   185.0   \n...           ...  ..             ...              ...  ...      ...     ...   \n3250        15.27   1             8.0              7.0  4.0   3110.0   194.0   \n3251        15.24   1            13.0              8.0  8.0   4000.0   200.0   \n3252        15.80   1            13.0              5.0  3.0   4000.0   165.0   \n3253        15.80   1            13.0              5.0  2.0   4000.0   160.0   \n3254        12.83   1            13.0              5.0  2.0   4000.0   168.0   \n\n      release_year  days_used  normalized_new_price  normalized_used_price  \n0             2020        127              4.715100               4.307572  \n1             2020        325              5.519018               5.162097  \n2             2020        162              5.884631               5.111084  \n3             2020        345              5.630961               5.135387  \n4             2020        293              4.947837               4.389995  \n...            ...        ...                   ...                    ...  \n3250          2019        208              6.287933               5.100902  \n3251          2018        541              6.251538               5.037732  \n3252          2020        201              4.528829               4.357350  \n3253          2020        149              4.624188               4.349762  \n3254          2020        176              4.279994               4.132122  \n\n[3255 rows x 11 columns]",
      "text/html": "<div>\n<style scoped>\n    .dataframe tbody tr th:only-of-type {\n        vertical-align: middle;\n    }\n\n    .dataframe tbody tr th {\n        vertical-align: top;\n    }\n\n    .dataframe thead th {\n        text-align: right;\n    }\n</style>\n<table border=\"1\" class=\"dataframe\">\n  <thead>\n    <tr style=\"text-align: right;\">\n      <th></th>\n      <th>screen_size</th>\n      <th>4g</th>\n      <th>rear_camera_mp</th>\n      <th>front_camera_mp</th>\n      <th>ram</th>\n      <th>battery</th>\n      <th>weight</th>\n      <th>release_year</th>\n      <th>days_used</th>\n      <th>normalized_new_price</th>\n      <th>normalized_used_price</th>\n    </tr>\n  </thead>\n  <tbody>\n    <tr>\n      <th>0</th>\n      <td>14.50</td>\n      <td>1</td>\n      <td>13.0</td>\n      <td>5.0</td>\n      <td>3.0</td>\n      <td>3020.0</td>\n      <td>146.0</td>\n      <td>2020</td>\n      <td>127</td>\n      <td>4.715100</td>\n      <td>4.307572</td>\n    </tr>\n    <tr>\n      <th>1</th>\n      <td>17.30</td>\n      <td>1</td>\n      <td>13.0</td>\n      <td>16.0</td>\n      <td>8.0</td>\n      <td>4300.0</td>\n      <td>213.0</td>\n      <td>2020</td>\n      <td>325</td>\n      <td>5.519018</td>\n      <td>5.162097</td>\n    </tr>\n    <tr>\n      <th>2</th>\n      <td>16.69</td>\n      <td>1</td>\n      <td>13.0</td>\n      <td>8.0</td>\n      <td>8.0</td>\n      <td>4200.0</td>\n      <td>213.0</td>\n      <td>2020</td>\n      <td>162</td>\n      <td>5.884631</td>\n      <td>5.111084</td>\n    </tr>\n    <tr>\n      <th>3</th>\n      <td>25.50</td>\n      <td>1</td>\n      <td>13.0</td>\n      <td>8.0</td>\n      <td>6.0</td>\n      <td>7250.0</td>\n      <td>480.0</td>\n      <td>2020</td>\n      <td>345</td>\n      <td>5.630961</td>\n      <td>5.135387</td>\n    </tr>\n    <tr>\n      <th>4</th>\n      <td>15.32</td>\n      <td>1</td>\n      <td>13.0</td>\n      <td>8.0</td>\n      <td>3.0</td>\n      <td>5000.0</td>\n      <td>185.0</td>\n      <td>2020</td>\n      <td>293</td>\n      <td>4.947837</td>\n      <td>4.389995</td>\n    </tr>\n    <tr>\n      <th>...</th>\n      <td>...</td>\n      <td>...</td>\n      <td>...</td>\n      <td>...</td>\n      <td>...</td>\n      <td>...</td>\n      <td>...</td>\n      <td>...</td>\n      <td>...</td>\n      <td>...</td>\n      <td>...</td>\n    </tr>\n    <tr>\n      <th>3250</th>\n      <td>15.27</td>\n      <td>1</td>\n      <td>8.0</td>\n      <td>7.0</td>\n      <td>4.0</td>\n      <td>3110.0</td>\n      <td>194.0</td>\n      <td>2019</td>\n      <td>208</td>\n      <td>6.287933</td>\n      <td>5.100902</td>\n    </tr>\n    <tr>\n      <th>3251</th>\n      <td>15.24</td>\n      <td>1</td>\n      <td>13.0</td>\n      <td>8.0</td>\n      <td>8.0</td>\n      <td>4000.0</td>\n      <td>200.0</td>\n      <td>2018</td>\n      <td>541</td>\n      <td>6.251538</td>\n      <td>5.037732</td>\n    </tr>\n    <tr>\n      <th>3252</th>\n      <td>15.80</td>\n      <td>1</td>\n      <td>13.0</td>\n      <td>5.0</td>\n      <td>3.0</td>\n      <td>4000.0</td>\n      <td>165.0</td>\n      <td>2020</td>\n      <td>201</td>\n      <td>4.528829</td>\n      <td>4.357350</td>\n    </tr>\n    <tr>\n      <th>3253</th>\n      <td>15.80</td>\n      <td>1</td>\n      <td>13.0</td>\n      <td>5.0</td>\n      <td>2.0</td>\n      <td>4000.0</td>\n      <td>160.0</td>\n      <td>2020</td>\n      <td>149</td>\n      <td>4.624188</td>\n      <td>4.349762</td>\n    </tr>\n    <tr>\n      <th>3254</th>\n      <td>12.83</td>\n      <td>1</td>\n      <td>13.0</td>\n      <td>5.0</td>\n      <td>2.0</td>\n      <td>4000.0</td>\n      <td>168.0</td>\n      <td>2020</td>\n      <td>176</td>\n      <td>4.279994</td>\n      <td>4.132122</td>\n    </tr>\n  </tbody>\n</table>\n<p>3255 rows × 11 columns</p>\n</div>"
     },
     "execution_count": 17,
     "metadata": {},
     "output_type": "execute_result"
    }
   ],
   "source": [
    "\n",
    "df_selected.reset_index(inplace=True, drop=True)\n",
    "df_selected"
   ],
   "metadata": {
    "collapsed": false,
    "ExecuteTime": {
     "end_time": "2023-10-15T14:06:44.354235800Z",
     "start_time": "2023-10-15T14:06:44.290886100Z"
    }
   }
  },
  {
   "cell_type": "markdown",
   "source": [
    "<h2>Splitting Data into Train and Test</h2>"
   ],
   "metadata": {
    "collapsed": false
   }
  },
  {
   "cell_type": "code",
   "execution_count": 18,
   "outputs": [],
   "source": [
    "x = df.drop('normalized_used_price', axis=1)\n",
    "y = df['normalized_used_price']"
   ],
   "metadata": {
    "collapsed": false,
    "ExecuteTime": {
     "end_time": "2023-10-15T14:06:44.401102800Z",
     "start_time": "2023-10-15T14:06:44.322940900Z"
    }
   }
  },
  {
   "cell_type": "code",
   "execution_count": 19,
   "outputs": [],
   "source": [
    "x_selected = df_selected.drop('normalized_used_price', axis=1)\n",
    "y_selected = df_selected['normalized_used_price']"
   ],
   "metadata": {
    "collapsed": false,
    "ExecuteTime": {
     "end_time": "2023-10-15T14:06:44.417157800Z",
     "start_time": "2023-10-15T14:06:44.338606500Z"
    }
   }
  },
  {
   "cell_type": "code",
   "execution_count": 20,
   "outputs": [
    {
     "data": {
      "text/plain": "(3255, 14)"
     },
     "execution_count": 20,
     "metadata": {},
     "output_type": "execute_result"
    }
   ],
   "source": [
    "x.shape"
   ],
   "metadata": {
    "collapsed": false,
    "ExecuteTime": {
     "end_time": "2023-10-15T14:06:44.464276200Z",
     "start_time": "2023-10-15T14:06:44.354235800Z"
    }
   }
  },
  {
   "cell_type": "code",
   "execution_count": 21,
   "outputs": [
    {
     "data": {
      "text/plain": "(3255,)"
     },
     "execution_count": 21,
     "metadata": {},
     "output_type": "execute_result"
    }
   ],
   "source": [
    "y.shape"
   ],
   "metadata": {
    "collapsed": false,
    "ExecuteTime": {
     "end_time": "2023-10-15T14:06:44.511152300Z",
     "start_time": "2023-10-15T14:06:44.369824900Z"
    }
   }
  },
  {
   "cell_type": "code",
   "execution_count": 22,
   "outputs": [],
   "source": [
    "x_train, x_test, y_train, y_test = train_test_split(x, y)"
   ],
   "metadata": {
    "collapsed": false,
    "ExecuteTime": {
     "end_time": "2023-10-15T14:06:44.512662Z",
     "start_time": "2023-10-15T14:06:44.385449800Z"
    }
   }
  },
  {
   "cell_type": "code",
   "execution_count": 23,
   "outputs": [],
   "source": [
    "x_sel_train, x_sel_test, y_sel_train, y_sel_test = train_test_split(x_selected, y_selected)"
   ],
   "metadata": {
    "collapsed": false,
    "ExecuteTime": {
     "end_time": "2023-10-15T14:06:44.512662Z",
     "start_time": "2023-10-15T14:06:44.401102800Z"
    }
   }
  },
  {
   "cell_type": "code",
   "execution_count": 24,
   "outputs": [
    {
     "data": {
      "text/plain": "(2441, 14)"
     },
     "execution_count": 24,
     "metadata": {},
     "output_type": "execute_result"
    }
   ],
   "source": [
    "x_train.shape"
   ],
   "metadata": {
    "collapsed": false,
    "ExecuteTime": {
     "end_time": "2023-10-15T14:06:44.512662Z",
     "start_time": "2023-10-15T14:06:44.417157800Z"
    }
   }
  },
  {
   "cell_type": "code",
   "execution_count": 25,
   "outputs": [
    {
     "data": {
      "text/plain": "(2441,)"
     },
     "execution_count": 25,
     "metadata": {},
     "output_type": "execute_result"
    }
   ],
   "source": [
    "y_train.shape"
   ],
   "metadata": {
    "collapsed": false,
    "ExecuteTime": {
     "end_time": "2023-10-15T14:06:44.653131700Z",
     "start_time": "2023-10-15T14:06:44.433026200Z"
    }
   }
  },
  {
   "cell_type": "code",
   "execution_count": 26,
   "outputs": [
    {
     "data": {
      "text/plain": "      device_brand  os  screen_size  4g  5g  rear_camera_mp  front_camera_mp  \\\n1473            17   0        12.83   1   0           13.00              8.0   \n2561            26   0        12.73   1   0           16.00              2.0   \n2486            26   0        15.42   1   0            8.00             13.0   \n1058            13   0        12.83   1   0           13.00              5.0   \n1052            13   0         7.75   0   0            3.15              1.3   \n...            ...  ..          ...  ..  ..             ...              ...   \n127              1   0        10.16   0   0            3.15              0.3   \n1354            15   0        12.70   1   0           13.00              5.0   \n2308            23   0        10.29   0   0            8.00              2.0   \n358              5   0        10.34   0   0            8.00              0.3   \n3151            32   0        15.24   1   0           16.00              8.0   \n\n      internal_memory   ram  battery  weight  release_year  days_used  \\\n1473             32.0  4.00   3000.0   162.0          2016        736   \n2561             16.0  4.00   2800.0   145.0          2014        718   \n2486            128.0  8.00   4500.0   186.0          2020        204   \n1058             16.0  4.00   4500.0   164.0          2017        576   \n1052             16.0  4.00   2540.0   114.0          2014        646   \n...               ...   ...      ...     ...           ...        ...   \n127              16.0  4.00   1300.0   116.0          2014        867   \n1354             16.0  4.00   2750.0   142.0          2016        932   \n2308             16.0  4.00   3000.0   149.0          2014        790   \n358             256.0  0.25   1400.0   140.0          2013        831   \n3151            256.0  4.00   3800.0   193.0          2018        705   \n\n      normalized_new_price  \n1473              4.508439  \n2561              5.968349  \n2486              6.490344  \n1058              5.192901  \n1052              4.377768  \n...                    ...  \n127               3.685373  \n1354              4.800984  \n2308              5.242329  \n358               4.930870  \n3151              6.036079  \n\n[2441 rows x 14 columns]",
      "text/html": "<div>\n<style scoped>\n    .dataframe tbody tr th:only-of-type {\n        vertical-align: middle;\n    }\n\n    .dataframe tbody tr th {\n        vertical-align: top;\n    }\n\n    .dataframe thead th {\n        text-align: right;\n    }\n</style>\n<table border=\"1\" class=\"dataframe\">\n  <thead>\n    <tr style=\"text-align: right;\">\n      <th></th>\n      <th>device_brand</th>\n      <th>os</th>\n      <th>screen_size</th>\n      <th>4g</th>\n      <th>5g</th>\n      <th>rear_camera_mp</th>\n      <th>front_camera_mp</th>\n      <th>internal_memory</th>\n      <th>ram</th>\n      <th>battery</th>\n      <th>weight</th>\n      <th>release_year</th>\n      <th>days_used</th>\n      <th>normalized_new_price</th>\n    </tr>\n  </thead>\n  <tbody>\n    <tr>\n      <th>1473</th>\n      <td>17</td>\n      <td>0</td>\n      <td>12.83</td>\n      <td>1</td>\n      <td>0</td>\n      <td>13.00</td>\n      <td>8.0</td>\n      <td>32.0</td>\n      <td>4.00</td>\n      <td>3000.0</td>\n      <td>162.0</td>\n      <td>2016</td>\n      <td>736</td>\n      <td>4.508439</td>\n    </tr>\n    <tr>\n      <th>2561</th>\n      <td>26</td>\n      <td>0</td>\n      <td>12.73</td>\n      <td>1</td>\n      <td>0</td>\n      <td>16.00</td>\n      <td>2.0</td>\n      <td>16.0</td>\n      <td>4.00</td>\n      <td>2800.0</td>\n      <td>145.0</td>\n      <td>2014</td>\n      <td>718</td>\n      <td>5.968349</td>\n    </tr>\n    <tr>\n      <th>2486</th>\n      <td>26</td>\n      <td>0</td>\n      <td>15.42</td>\n      <td>1</td>\n      <td>0</td>\n      <td>8.00</td>\n      <td>13.0</td>\n      <td>128.0</td>\n      <td>8.00</td>\n      <td>4500.0</td>\n      <td>186.0</td>\n      <td>2020</td>\n      <td>204</td>\n      <td>6.490344</td>\n    </tr>\n    <tr>\n      <th>1058</th>\n      <td>13</td>\n      <td>0</td>\n      <td>12.83</td>\n      <td>1</td>\n      <td>0</td>\n      <td>13.00</td>\n      <td>5.0</td>\n      <td>16.0</td>\n      <td>4.00</td>\n      <td>4500.0</td>\n      <td>164.0</td>\n      <td>2017</td>\n      <td>576</td>\n      <td>5.192901</td>\n    </tr>\n    <tr>\n      <th>1052</th>\n      <td>13</td>\n      <td>0</td>\n      <td>7.75</td>\n      <td>0</td>\n      <td>0</td>\n      <td>3.15</td>\n      <td>1.3</td>\n      <td>16.0</td>\n      <td>4.00</td>\n      <td>2540.0</td>\n      <td>114.0</td>\n      <td>2014</td>\n      <td>646</td>\n      <td>4.377768</td>\n    </tr>\n    <tr>\n      <th>...</th>\n      <td>...</td>\n      <td>...</td>\n      <td>...</td>\n      <td>...</td>\n      <td>...</td>\n      <td>...</td>\n      <td>...</td>\n      <td>...</td>\n      <td>...</td>\n      <td>...</td>\n      <td>...</td>\n      <td>...</td>\n      <td>...</td>\n      <td>...</td>\n    </tr>\n    <tr>\n      <th>127</th>\n      <td>1</td>\n      <td>0</td>\n      <td>10.16</td>\n      <td>0</td>\n      <td>0</td>\n      <td>3.15</td>\n      <td>0.3</td>\n      <td>16.0</td>\n      <td>4.00</td>\n      <td>1300.0</td>\n      <td>116.0</td>\n      <td>2014</td>\n      <td>867</td>\n      <td>3.685373</td>\n    </tr>\n    <tr>\n      <th>1354</th>\n      <td>15</td>\n      <td>0</td>\n      <td>12.70</td>\n      <td>1</td>\n      <td>0</td>\n      <td>13.00</td>\n      <td>5.0</td>\n      <td>16.0</td>\n      <td>4.00</td>\n      <td>2750.0</td>\n      <td>142.0</td>\n      <td>2016</td>\n      <td>932</td>\n      <td>4.800984</td>\n    </tr>\n    <tr>\n      <th>2308</th>\n      <td>23</td>\n      <td>0</td>\n      <td>10.29</td>\n      <td>0</td>\n      <td>0</td>\n      <td>8.00</td>\n      <td>2.0</td>\n      <td>16.0</td>\n      <td>4.00</td>\n      <td>3000.0</td>\n      <td>149.0</td>\n      <td>2014</td>\n      <td>790</td>\n      <td>5.242329</td>\n    </tr>\n    <tr>\n      <th>358</th>\n      <td>5</td>\n      <td>0</td>\n      <td>10.34</td>\n      <td>0</td>\n      <td>0</td>\n      <td>8.00</td>\n      <td>0.3</td>\n      <td>256.0</td>\n      <td>0.25</td>\n      <td>1400.0</td>\n      <td>140.0</td>\n      <td>2013</td>\n      <td>831</td>\n      <td>4.930870</td>\n    </tr>\n    <tr>\n      <th>3151</th>\n      <td>32</td>\n      <td>0</td>\n      <td>15.24</td>\n      <td>1</td>\n      <td>0</td>\n      <td>16.00</td>\n      <td>8.0</td>\n      <td>256.0</td>\n      <td>4.00</td>\n      <td>3800.0</td>\n      <td>193.0</td>\n      <td>2018</td>\n      <td>705</td>\n      <td>6.036079</td>\n    </tr>\n  </tbody>\n</table>\n<p>2441 rows × 14 columns</p>\n</div>"
     },
     "execution_count": 26,
     "metadata": {},
     "output_type": "execute_result"
    }
   ],
   "source": [
    "x_train"
   ],
   "metadata": {
    "collapsed": false,
    "ExecuteTime": {
     "end_time": "2023-10-15T14:06:44.653131700Z",
     "start_time": "2023-10-15T14:06:44.448652100Z"
    }
   }
  },
  {
   "cell_type": "markdown",
   "source": [
    "<h2>Modelling - MARS</h2>"
   ],
   "metadata": {
    "collapsed": false
   }
  },
  {
   "cell_type": "code",
   "execution_count": 27,
   "outputs": [
    {
     "data": {
      "text/plain": "array([0.8654516 , 0.83479976, 0.82599736, 0.85480544, 0.86747178])"
     },
     "execution_count": 27,
     "metadata": {},
     "output_type": "execute_result"
    }
   ],
   "source": [
    "model1 = Earth(max_degree=5, endspan=20)\n",
    "scores = cross_val_score(model1, x_sel_train, y_sel_train, cv=5, n_jobs=1)\n",
    "scores"
   ],
   "metadata": {
    "collapsed": false,
    "ExecuteTime": {
     "end_time": "2023-10-15T14:06:49.066605Z",
     "start_time": "2023-10-15T14:06:44.479903300Z"
    }
   }
  },
  {
   "cell_type": "code",
   "execution_count": 28,
   "outputs": [
    {
     "data": {
      "text/plain": "0.8497051869124688"
     },
     "execution_count": 28,
     "metadata": {},
     "output_type": "execute_result"
    }
   ],
   "source": [
    "scores.mean()"
   ],
   "metadata": {
    "collapsed": false,
    "ExecuteTime": {
     "end_time": "2023-10-15T14:06:49.082977100Z",
     "start_time": "2023-10-15T14:06:49.066605Z"
    }
   }
  },
  {
   "cell_type": "code",
   "execution_count": 29,
   "outputs": [],
   "source": [
    "model1.fit(x_train, y_train)\n",
    "y_hat=model1.predict(x_test)"
   ],
   "metadata": {
    "collapsed": false,
    "ExecuteTime": {
     "end_time": "2023-10-15T14:06:52.448758600Z",
     "start_time": "2023-10-15T14:06:49.082977100Z"
    }
   }
  },
  {
   "cell_type": "code",
   "execution_count": 30,
   "outputs": [
    {
     "data": {
      "text/plain": "0.8667061967273484"
     },
     "execution_count": 30,
     "metadata": {},
     "output_type": "execute_result"
    }
   ],
   "source": [
    "r2_score(y_test, y_hat)"
   ],
   "metadata": {
    "collapsed": false,
    "ExecuteTime": {
     "end_time": "2023-10-15T14:06:52.512529900Z",
     "start_time": "2023-10-15T14:06:52.448758600Z"
    }
   }
  },
  {
   "cell_type": "code",
   "execution_count": 31,
   "outputs": [
    {
     "data": {
      "text/plain": "array([0.8654516 , 0.83479976, 0.82599736, 0.85480544, 0.86747178])"
     },
     "execution_count": 31,
     "metadata": {},
     "output_type": "execute_result"
    }
   ],
   "source": [
    "model2 = Earth(max_degree=5, endspan=20)\n",
    "scores2 = cross_val_score(model2, x_sel_train, y_sel_train, cv=5, n_jobs=1)\n",
    "scores2"
   ],
   "metadata": {
    "collapsed": false,
    "ExecuteTime": {
     "end_time": "2023-10-15T14:06:57.088122300Z",
     "start_time": "2023-10-15T14:06:52.486780800Z"
    }
   }
  },
  {
   "cell_type": "code",
   "execution_count": 32,
   "outputs": [
    {
     "data": {
      "text/plain": "0.8497051869124688"
     },
     "execution_count": 32,
     "metadata": {},
     "output_type": "execute_result"
    }
   ],
   "source": [
    "scores2.mean()"
   ],
   "metadata": {
    "collapsed": false,
    "ExecuteTime": {
     "end_time": "2023-10-15T14:06:57.121472200Z",
     "start_time": "2023-10-15T14:06:57.088122300Z"
    }
   }
  },
  {
   "cell_type": "code",
   "execution_count": 33,
   "outputs": [],
   "source": [
    "model2.fit(x_sel_train, y_sel_train)\n",
    "y_hat2=model2.predict(x_sel_test)"
   ],
   "metadata": {
    "collapsed": false,
    "ExecuteTime": {
     "end_time": "2023-10-15T14:06:57.952031600Z",
     "start_time": "2023-10-15T14:06:57.120958300Z"
    }
   }
  },
  {
   "cell_type": "code",
   "execution_count": 34,
   "outputs": [
    {
     "data": {
      "text/plain": "0.830090397980416"
     },
     "execution_count": 34,
     "metadata": {},
     "output_type": "execute_result"
    }
   ],
   "source": [
    "r2_score(y_sel_test, y_hat2)"
   ],
   "metadata": {
    "collapsed": false,
    "ExecuteTime": {
     "end_time": "2023-10-15T14:06:57.972732400Z",
     "start_time": "2023-10-15T14:06:57.952031600Z"
    }
   }
  },
  {
   "cell_type": "markdown",
   "source": [
    "<h2>Generative Additive MODEL</h2>"
   ],
   "metadata": {
    "collapsed": false
   }
  },
  {
   "cell_type": "code",
   "execution_count": 35,
   "outputs": [
    {
     "name": "stderr",
     "output_type": "stream",
     "text": [
      "100% (11 of 11) |########################| Elapsed Time: 0:00:09 Time:  0:00:09\n"
     ]
    },
    {
     "name": "stdout",
     "output_type": "stream",
     "text": [
      "PoissonGAM                                                                                                \n",
      "=============================================== ==========================================================\n",
      "Distribution:                       PoissonDist Effective DoF:                                     47.4417\n",
      "Link Function:                          LogLink Log Likelihood:                                 -4108.0517\n",
      "Number of Samples:                         2441 AIC:                                             8310.9867\n",
      "                                                AICc:                                            8312.9896\n",
      "                                                UBRE:                                               2.0667\n",
      "                                                Scale:                                                 1.0\n",
      "                                                Pseudo R-Squared:                                   0.8431\n",
      "==========================================================================================================\n",
      "Feature Function                  Lambda               Rank         EDoF         P > x        Sig. Code   \n",
      "================================= ==================== ============ ============ ============ ============\n",
      "s(0)                              [1000.]              20           7.5          1.00e+00                 \n",
      "s(1)                              [1000.]              20           2.2          9.95e-01                 \n",
      "s(2)                              [1000.]              20           5.5          1.00e+00                 \n",
      "s(3)                              [1000.]              20           1.1          9.63e-01                 \n",
      "s(4)                              [1000.]              20           1.1          1.00e+00                 \n",
      "s(5)                              [1000.]              20           3.3          1.00e+00                 \n",
      "s(6)                              [1000.]              20           4.2          1.00e+00                 \n",
      "s(7)                              [1000.]              20           3.0          9.99e-01                 \n",
      "s(8)                              [1000.]              20           2.8          1.00e+00                 \n",
      "s(9)                              [1000.]              20           3.3          1.00e+00                 \n",
      "s(10)                             [1000.]              20           2.3          1.00e+00                 \n",
      "s(11)                             [1000.]              20           3.9          1.00e+00                 \n",
      "s(12)                             [1000.]              20           4.2          1.00e+00                 \n",
      "s(13)                             [1000.]              20           2.9          4.92e-01                 \n",
      "intercept                                              1            0.0          0.00e+00     ***         \n",
      "==========================================================================================================\n",
      "Significance codes:  0 '***' 0.001 '**' 0.01 '*' 0.05 '.' 0.1 ' ' 1\n",
      "\n",
      "WARNING: Fitting splines and a linear function to a feature introduces a model identifiability problem\n",
      "         which can cause p-values to appear significant when they are not.\n",
      "\n",
      "WARNING: p-values calculated in this manner behave correctly for un-penalized models or models with\n",
      "         known smoothing parameters, but when smoothing parameters have been estimated, the p-values\n",
      "         are typically lower than they should be, meaning that the tests reject the null too readily.\n"
     ]
    },
    {
     "name": "stderr",
     "output_type": "stream",
     "text": [
      "C:\\Users\\tlefh\\anaconda3\\envs\\test3env\\lib\\site-packages\\ipykernel_launcher.py:2: UserWarning: KNOWN BUG: p-values computed in this summary are likely much smaller than they should be. \n",
      " \n",
      "Please do not make inferences based on these values! \n",
      "\n",
      "Collaborate on a solution, and stay up to date at: \n",
      "github.com/dswah/pyGAM/issues/163 \n",
      "\n",
      "  \n"
     ]
    }
   ],
   "source": [
    "gam=PoissonGAM().gridsearch(x_train.values,y_train.values)\n",
    "gam.summary()"
   ],
   "metadata": {
    "collapsed": false,
    "ExecuteTime": {
     "end_time": "2023-10-15T14:07:07.516645900Z",
     "start_time": "2023-10-15T14:06:57.976995800Z"
    }
   }
  },
  {
   "cell_type": "code",
   "execution_count": 36,
   "outputs": [
    {
     "name": "stdout",
     "output_type": "stream",
     "text": [
      "0.871988675143471\n"
     ]
    }
   ],
   "source": [
    "y_pred=gam.predict(x_test.values)\n",
    "print(r2_score(y_test,y_pred))"
   ],
   "metadata": {
    "collapsed": false,
    "ExecuteTime": {
     "end_time": "2023-10-15T14:07:07.578936400Z",
     "start_time": "2023-10-15T14:07:07.528717800Z"
    }
   }
  },
  {
   "cell_type": "code",
   "execution_count": 38,
   "outputs": [
    {
     "name": "stderr",
     "output_type": "stream",
     "text": [
      "100% (11 of 11) |########################| Elapsed Time: 0:00:06 Time:  0:00:06\n"
     ]
    },
    {
     "name": "stdout",
     "output_type": "stream",
     "text": [
      "PoissonGAM                                                                                                \n",
      "=============================================== ==========================================================\n",
      "Distribution:                       PoissonDist Effective DoF:                                     36.9713\n",
      "Link Function:                          LogLink Log Likelihood:                                 -4102.9028\n",
      "Number of Samples:                         2441 AIC:                                             8279.7482\n",
      "                                                AICc:                                            8280.9803\n",
      "                                                UBRE:                                               2.0548\n",
      "                                                Scale:                                                 1.0\n",
      "                                                Pseudo R-Squared:                                   0.8551\n",
      "==========================================================================================================\n",
      "Feature Function                  Lambda               Rank         EDoF         P > x        Sig. Code   \n",
      "================================= ==================== ============ ============ ============ ============\n",
      "s(0)                              [1000.]              20           7.2          1.00e+00                 \n",
      "s(1)                              [1000.]              20           1.1          9.87e-01                 \n",
      "s(2)                              [1000.]              20           3.5          9.99e-01                 \n",
      "s(3)                              [1000.]              20           4.3          1.00e+00                 \n",
      "s(4)                              [1000.]              20           3.3          1.00e+00                 \n",
      "s(5)                              [1000.]              20           3.5          1.00e+00                 \n",
      "s(6)                              [1000.]              20           2.3          1.00e+00                 \n",
      "s(7)                              [1000.]              20           4.1          1.00e+00                 \n",
      "s(8)                              [1000.]              20           4.4          1.00e+00                 \n",
      "s(9)                              [1000.]              20           3.2          2.96e-01                 \n",
      "intercept                                              1            0.0          0.00e+00     ***         \n",
      "==========================================================================================================\n",
      "Significance codes:  0 '***' 0.001 '**' 0.01 '*' 0.05 '.' 0.1 ' ' 1\n",
      "\n",
      "WARNING: Fitting splines and a linear function to a feature introduces a model identifiability problem\n",
      "         which can cause p-values to appear significant when they are not.\n",
      "\n",
      "WARNING: p-values calculated in this manner behave correctly for un-penalized models or models with\n",
      "         known smoothing parameters, but when smoothing parameters have been estimated, the p-values\n",
      "         are typically lower than they should be, meaning that the tests reject the null too readily.\n"
     ]
    },
    {
     "name": "stderr",
     "output_type": "stream",
     "text": [
      "C:\\Users\\tlefh\\anaconda3\\envs\\test3env\\lib\\site-packages\\ipykernel_launcher.py:2: UserWarning: KNOWN BUG: p-values computed in this summary are likely much smaller than they should be. \n",
      " \n",
      "Please do not make inferences based on these values! \n",
      "\n",
      "Collaborate on a solution, and stay up to date at: \n",
      "github.com/dswah/pyGAM/issues/163 \n",
      "\n",
      "  \n"
     ]
    }
   ],
   "source": [
    "gam2=PoissonGAM().gridsearch(x_sel_train.values,y_sel_train.values)\n",
    "gam2.summary()"
   ],
   "metadata": {
    "collapsed": false,
    "ExecuteTime": {
     "end_time": "2023-10-15T14:07:14.094601800Z",
     "start_time": "2023-10-15T14:07:07.625916400Z"
    }
   }
  },
  {
   "cell_type": "code",
   "execution_count": 40,
   "outputs": [
    {
     "name": "stdout",
     "output_type": "stream",
     "text": [
      "0.8264126479137966\n"
     ]
    }
   ],
   "source": [
    "y_pred=gam2.predict(x_sel_test.values)\n",
    "print(r2_score(y_sel_test,y_pred))"
   ],
   "metadata": {
    "collapsed": false,
    "ExecuteTime": {
     "end_time": "2023-10-15T17:11:34.390821300Z",
     "start_time": "2023-10-15T17:11:34.358886400Z"
    }
   }
  },
  {
   "cell_type": "code",
   "execution_count": null,
   "outputs": [],
   "source": [],
   "metadata": {
    "collapsed": false
   }
  }
 ],
 "metadata": {
  "kernelspec": {
   "display_name": "Python 3",
   "language": "python",
   "name": "python3"
  },
  "language_info": {
   "codemirror_mode": {
    "name": "ipython",
    "version": 2
   },
   "file_extension": ".py",
   "mimetype": "text/x-python",
   "name": "python",
   "nbconvert_exporter": "python",
   "pygments_lexer": "ipython2",
   "version": "2.7.6"
  }
 },
 "nbformat": 4,
 "nbformat_minor": 0
}
