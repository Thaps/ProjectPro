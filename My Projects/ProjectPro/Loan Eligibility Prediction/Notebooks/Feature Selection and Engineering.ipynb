{
 "cells": [
  {
   "cell_type": "markdown",
   "source": [
    "<h1>FEATURE SELECTION AND ENGINEERING</h1>"
   ],
   "metadata": {
    "collapsed": false
   },
   "outputs": [
    {
     "ename": "SyntaxError",
     "evalue": "invalid syntax (3504362735.py, line 1)",
     "output_type": "error",
     "traceback": [
      "\u001B[1;36m  File \u001B[1;32m\"C:\\Users\\ituser\\AppData\\Local\\Temp\\ipykernel_2488\\3504362735.py\"\u001B[1;36m, line \u001B[1;32m1\u001B[0m\n\u001B[1;33m    <h1>FEATURE SELECTION AND ENGINEERING</h1>\u001B[0m\n\u001B[1;37m    ^\u001B[0m\n\u001B[1;31mSyntaxError\u001B[0m\u001B[1;31m:\u001B[0m invalid syntax\n"
     ]
    }
   ],
   "execution_count": 1
  },
  {
   "cell_type": "code",
   "execution_count": 1,
   "outputs": [],
   "source": [
    "import pandas as pd\n",
    "import numpy as np\n",
    "import matplotlib.pyplot as plt\n",
    "import seaborn as sns"
   ],
   "metadata": {
    "collapsed": false
   }
  },
  {
   "cell_type": "code",
   "execution_count": 2,
   "outputs": [],
   "source": [
    "from sklearn.feature_selection import chi2, RFE\n",
    "from sklearn.linear_model import LogisticRegression\n",
    "from sklearn.model_selection import train_test_split"
   ],
   "metadata": {
    "collapsed": false
   }
  },
  {
   "cell_type": "markdown",
   "source": [
    "<h3>Importing Data</h3>"
   ],
   "metadata": {
    "collapsed": false
   }
  },
  {
   "cell_type": "code",
   "execution_count": 3,
   "outputs": [
    {
     "data": {
      "text/plain": "    Loan_ID Gender Married Dependents     Education Self_Employed  \\\n0  LP001002   Male      No          0      Graduate            No   \n1  LP001003   Male     Yes          1      Graduate            No   \n2  LP001005   Male     Yes          0      Graduate           Yes   \n3  LP001006   Male     Yes          0  Not Graduate            No   \n4  LP001008   Male      No          0      Graduate            No   \n\n   ApplicantIncome  CoapplicantIncome  LoanAmount  Loan_Amount_Term  \\\n0             5849                0.0         NaN             360.0   \n1             4583             1508.0       128.0             360.0   \n2             3000                0.0        66.0             360.0   \n3             2583             2358.0       120.0             360.0   \n4             6000                0.0       141.0             360.0   \n\n   Credit_History Property_Area Loan_Status  \n0             1.0         Urban           Y  \n1             1.0         Rural           N  \n2             1.0         Urban           Y  \n3             1.0         Urban           Y  \n4             1.0         Urban           Y  ",
      "text/html": "<div>\n<style scoped>\n    .dataframe tbody tr th:only-of-type {\n        vertical-align: middle;\n    }\n\n    .dataframe tbody tr th {\n        vertical-align: top;\n    }\n\n    .dataframe thead th {\n        text-align: right;\n    }\n</style>\n<table border=\"1\" class=\"dataframe\">\n  <thead>\n    <tr style=\"text-align: right;\">\n      <th></th>\n      <th>Loan_ID</th>\n      <th>Gender</th>\n      <th>Married</th>\n      <th>Dependents</th>\n      <th>Education</th>\n      <th>Self_Employed</th>\n      <th>ApplicantIncome</th>\n      <th>CoapplicantIncome</th>\n      <th>LoanAmount</th>\n      <th>Loan_Amount_Term</th>\n      <th>Credit_History</th>\n      <th>Property_Area</th>\n      <th>Loan_Status</th>\n    </tr>\n  </thead>\n  <tbody>\n    <tr>\n      <th>0</th>\n      <td>LP001002</td>\n      <td>Male</td>\n      <td>No</td>\n      <td>0</td>\n      <td>Graduate</td>\n      <td>No</td>\n      <td>5849</td>\n      <td>0.0</td>\n      <td>NaN</td>\n      <td>360.0</td>\n      <td>1.0</td>\n      <td>Urban</td>\n      <td>Y</td>\n    </tr>\n    <tr>\n      <th>1</th>\n      <td>LP001003</td>\n      <td>Male</td>\n      <td>Yes</td>\n      <td>1</td>\n      <td>Graduate</td>\n      <td>No</td>\n      <td>4583</td>\n      <td>1508.0</td>\n      <td>128.0</td>\n      <td>360.0</td>\n      <td>1.0</td>\n      <td>Rural</td>\n      <td>N</td>\n    </tr>\n    <tr>\n      <th>2</th>\n      <td>LP001005</td>\n      <td>Male</td>\n      <td>Yes</td>\n      <td>0</td>\n      <td>Graduate</td>\n      <td>Yes</td>\n      <td>3000</td>\n      <td>0.0</td>\n      <td>66.0</td>\n      <td>360.0</td>\n      <td>1.0</td>\n      <td>Urban</td>\n      <td>Y</td>\n    </tr>\n    <tr>\n      <th>3</th>\n      <td>LP001006</td>\n      <td>Male</td>\n      <td>Yes</td>\n      <td>0</td>\n      <td>Not Graduate</td>\n      <td>No</td>\n      <td>2583</td>\n      <td>2358.0</td>\n      <td>120.0</td>\n      <td>360.0</td>\n      <td>1.0</td>\n      <td>Urban</td>\n      <td>Y</td>\n    </tr>\n    <tr>\n      <th>4</th>\n      <td>LP001008</td>\n      <td>Male</td>\n      <td>No</td>\n      <td>0</td>\n      <td>Graduate</td>\n      <td>No</td>\n      <td>6000</td>\n      <td>0.0</td>\n      <td>141.0</td>\n      <td>360.0</td>\n      <td>1.0</td>\n      <td>Urban</td>\n      <td>Y</td>\n    </tr>\n  </tbody>\n</table>\n</div>"
     },
     "execution_count": 3,
     "metadata": {},
     "output_type": "execute_result"
    }
   ],
   "source": [
    "# Loading the dataset into the notebook\n",
    "data = pd.read_csv('../data/Loan_Data.csv')\n",
    "data.head()"
   ],
   "metadata": {
    "collapsed": false
   }
  },
  {
   "cell_type": "code",
   "execution_count": 4,
   "outputs": [
    {
     "name": "stdout",
     "output_type": "stream",
     "text": [
      "<class 'pandas.core.frame.DataFrame'>\n",
      "RangeIndex: 614 entries, 0 to 613\n",
      "Data columns (total 13 columns):\n",
      " #   Column             Non-Null Count  Dtype  \n",
      "---  ------             --------------  -----  \n",
      " 0   Loan_ID            614 non-null    object \n",
      " 1   Gender             601 non-null    object \n",
      " 2   Married            611 non-null    object \n",
      " 3   Dependents         599 non-null    object \n",
      " 4   Education          614 non-null    object \n",
      " 5   Self_Employed      582 non-null    object \n",
      " 6   ApplicantIncome    614 non-null    int64  \n",
      " 7   CoapplicantIncome  614 non-null    float64\n",
      " 8   LoanAmount         592 non-null    float64\n",
      " 9   Loan_Amount_Term   600 non-null    float64\n",
      " 10  Credit_History     564 non-null    float64\n",
      " 11  Property_Area      614 non-null    object \n",
      " 12  Loan_Status        614 non-null    object \n",
      "dtypes: float64(4), int64(1), object(8)\n",
      "memory usage: 62.5+ KB\n"
     ]
    }
   ],
   "source": [
    "data.info()"
   ],
   "metadata": {
    "collapsed": false
   }
  },
  {
   "cell_type": "markdown",
   "source": [
    "<h3>Treatment of Outliers</h3>"
   ],
   "metadata": {
    "collapsed": false
   }
  },
  {
   "cell_type": "code",
   "execution_count": 5,
   "outputs": [
    {
     "data": {
      "text/plain": "       ApplicantIncome  CoapplicantIncome  LoanAmount  Loan_Amount_Term  \\\ncount       614.000000         614.000000  592.000000         600.00000   \nmean       5403.459283        1621.245798  146.412162         342.00000   \nstd        6109.041673        2926.248369   85.587325          65.12041   \nmin         150.000000           0.000000    9.000000          12.00000   \n25%        2877.500000           0.000000  100.000000         360.00000   \n50%        3812.500000        1188.500000  128.000000         360.00000   \n75%        5795.000000        2297.250000  168.000000         360.00000   \nmax       81000.000000       41667.000000  700.000000         480.00000   \n\n       Credit_History  \ncount      564.000000  \nmean         0.842199  \nstd          0.364878  \nmin          0.000000  \n25%          1.000000  \n50%          1.000000  \n75%          1.000000  \nmax          1.000000  ",
      "text/html": "<div>\n<style scoped>\n    .dataframe tbody tr th:only-of-type {\n        vertical-align: middle;\n    }\n\n    .dataframe tbody tr th {\n        vertical-align: top;\n    }\n\n    .dataframe thead th {\n        text-align: right;\n    }\n</style>\n<table border=\"1\" class=\"dataframe\">\n  <thead>\n    <tr style=\"text-align: right;\">\n      <th></th>\n      <th>ApplicantIncome</th>\n      <th>CoapplicantIncome</th>\n      <th>LoanAmount</th>\n      <th>Loan_Amount_Term</th>\n      <th>Credit_History</th>\n    </tr>\n  </thead>\n  <tbody>\n    <tr>\n      <th>count</th>\n      <td>614.000000</td>\n      <td>614.000000</td>\n      <td>592.000000</td>\n      <td>600.00000</td>\n      <td>564.000000</td>\n    </tr>\n    <tr>\n      <th>mean</th>\n      <td>5403.459283</td>\n      <td>1621.245798</td>\n      <td>146.412162</td>\n      <td>342.00000</td>\n      <td>0.842199</td>\n    </tr>\n    <tr>\n      <th>std</th>\n      <td>6109.041673</td>\n      <td>2926.248369</td>\n      <td>85.587325</td>\n      <td>65.12041</td>\n      <td>0.364878</td>\n    </tr>\n    <tr>\n      <th>min</th>\n      <td>150.000000</td>\n      <td>0.000000</td>\n      <td>9.000000</td>\n      <td>12.00000</td>\n      <td>0.000000</td>\n    </tr>\n    <tr>\n      <th>25%</th>\n      <td>2877.500000</td>\n      <td>0.000000</td>\n      <td>100.000000</td>\n      <td>360.00000</td>\n      <td>1.000000</td>\n    </tr>\n    <tr>\n      <th>50%</th>\n      <td>3812.500000</td>\n      <td>1188.500000</td>\n      <td>128.000000</td>\n      <td>360.00000</td>\n      <td>1.000000</td>\n    </tr>\n    <tr>\n      <th>75%</th>\n      <td>5795.000000</td>\n      <td>2297.250000</td>\n      <td>168.000000</td>\n      <td>360.00000</td>\n      <td>1.000000</td>\n    </tr>\n    <tr>\n      <th>max</th>\n      <td>81000.000000</td>\n      <td>41667.000000</td>\n      <td>700.000000</td>\n      <td>480.00000</td>\n      <td>1.000000</td>\n    </tr>\n  </tbody>\n</table>\n</div>"
     },
     "execution_count": 5,
     "metadata": {},
     "output_type": "execute_result"
    }
   ],
   "source": [
    "data.describe()"
   ],
   "metadata": {
    "collapsed": false
   }
  },
  {
   "cell_type": "code",
   "execution_count": 6,
   "outputs": [
    {
     "data": {
      "text/plain": "(614, 13)"
     },
     "execution_count": 6,
     "metadata": {},
     "output_type": "execute_result"
    }
   ],
   "source": [
    "data.shape"
   ],
   "metadata": {
    "collapsed": false
   }
  },
  {
   "cell_type": "code",
   "execution_count": 7,
   "outputs": [],
   "source": [
    "# Identifying outliers as those which are 1.5 times the interquartile range and removing them\n",
    "\n",
    "def remove_outliers(data, col):\n",
    "    newdata = data[col].dropna()\n",
    "    q25, q75 = np.percentile(newdata,25), np.percentile(newdata,75)\n",
    "    iqr = q75 - q25\n",
    "    limit = iqr*1.5\n",
    "\n",
    "    lwr, upr = q25-limit, q75+limit\n",
    "    print(lwr)\n",
    "    print(upr)\n",
    "    return data[col].clip(lower=lwr, upper=upr)\n"
   ],
   "metadata": {
    "collapsed": false
   }
  },
  {
   "cell_type": "code",
   "execution_count": 8,
   "outputs": [
    {
     "name": "stdout",
     "output_type": "stream",
     "text": [
      "-1498.75\n",
      "10171.25\n",
      "-3445.875\n",
      "5743.125\n",
      "-2.0\n",
      "270.0\n"
     ]
    }
   ],
   "source": [
    "data['ApplicantIncome']=remove_outliers(data, 'ApplicantIncome')\n",
    "data['CoapplicantIncome'] = remove_outliers(data, 'CoapplicantIncome')\n",
    "data['LoanAmount'] = remove_outliers(data, 'LoanAmount')"
   ],
   "metadata": {
    "collapsed": false
   }
  },
  {
   "cell_type": "code",
   "execution_count": 9,
   "outputs": [
    {
     "data": {
      "text/plain": "array([[<AxesSubplot:title={'center':'ApplicantIncome'}>,\n        <AxesSubplot:title={'center':'CoapplicantIncome'}>],\n       [<AxesSubplot:title={'center':'LoanAmount'}>,\n        <AxesSubplot:title={'center':'Loan_Amount_Term'}>],\n       [<AxesSubplot:title={'center':'Credit_History'}>, <AxesSubplot:>]],\n      dtype=object)"
     },
     "execution_count": 9,
     "metadata": {},
     "output_type": "execute_result"
    },
    {
     "data": {
      "text/plain": "<Figure size 2000x2000 with 6 Axes>",
      "image/png": "[encoded data removed]"
     },
     "metadata": {},
     "output_type": "display_data"
    }
   ],
   "source": [
    "data.hist(figsize=(20,20))"
   ],
   "metadata": {
    "collapsed": false
   }
  },
  {
   "cell_type": "code",
   "execution_count": 10,
   "outputs": [
    {
     "name": "stdout",
     "output_type": "stream",
     "text": [
      "<class 'pandas.core.frame.DataFrame'>\n",
      "RangeIndex: 614 entries, 0 to 613\n",
      "Data columns (total 13 columns):\n",
      " #   Column             Non-Null Count  Dtype  \n",
      "---  ------             --------------  -----  \n",
      " 0   Loan_ID            614 non-null    object \n",
      " 1   Gender             601 non-null    object \n",
      " 2   Married            611 non-null    object \n",
      " 3   Dependents         599 non-null    object \n",
      " 4   Education          614 non-null    object \n",
      " 5   Self_Employed      582 non-null    object \n",
      " 6   ApplicantIncome    614 non-null    float64\n",
      " 7   CoapplicantIncome  614 non-null    float64\n",
      " 8   LoanAmount         592 non-null    float64\n",
      " 9   Loan_Amount_Term   600 non-null    float64\n",
      " 10  Credit_History     564 non-null    float64\n",
      " 11  Property_Area      614 non-null    object \n",
      " 12  Loan_Status        614 non-null    object \n",
      "dtypes: float64(5), object(8)\n",
      "memory usage: 62.5+ KB\n"
     ]
    }
   ],
   "source": [
    "data.info()"
   ],
   "metadata": {
    "collapsed": false
   }
  },
  {
   "cell_type": "markdown",
   "source": [
    "<h3>MISSING VALUES</h3>"
   ],
   "metadata": {
    "collapsed": false
   }
  },
  {
   "cell_type": "code",
   "execution_count": 11,
   "outputs": [
    {
     "name": "stdout",
     "output_type": "stream",
     "text": [
      "Male      489\n",
      "Female    112\n",
      "Name: Gender, dtype: int64\n"
     ]
    },
    {
     "name": "stderr",
     "output_type": "stream",
     "text": [
      "C:\\Users\\ituser\\anaconda3\\lib\\site-packages\\seaborn\\_decorators.py:36: FutureWarning: Pass the following variable as a keyword arg: x. From version 0.12, the only valid positional argument will be `data`, and passing other arguments without an explicit keyword will result in an error or misinterpretation.\n",
      "  warnings.warn(\n"
     ]
    },
    {
     "data": {
      "text/plain": "<AxesSubplot:xlabel='Gender', ylabel='count'>"
     },
     "execution_count": 11,
     "metadata": {},
     "output_type": "execute_result"
    },
    {
     "data": {
      "text/plain": "<Figure size 640x480 with 1 Axes>",
      "image/png": "[encoded data removed]"
     },
     "metadata": {},
     "output_type": "display_data"
    }
   ],
   "source": [
    "# A quick observation of Gender values\n",
    "print(data['Gender'].value_counts())\n",
    "sns.countplot(data['Gender'])"
   ],
   "metadata": {
    "collapsed": false
   }
  },
  {
   "cell_type": "markdown",
   "source": [
    "489 records out of 601 are all Male gender. That is 81%."
   ],
   "metadata": {
    "collapsed": false
   }
  },
  {
   "cell_type": "code",
   "execution_count": 12,
   "outputs": [
    {
     "data": {
      "text/plain": "      Loan_ID Gender Married Dependents     Education Self_Employed  \\\n23   LP001050    NaN     Yes          2  Not Graduate            No   \n126  LP001448    NaN     Yes         3+      Graduate            No   \n171  LP001585    NaN     Yes         3+      Graduate            No   \n188  LP001644    NaN     Yes          0      Graduate           Yes   \n314  LP002024    NaN     Yes          0      Graduate            No   \n334  LP002103    NaN     Yes          1      Graduate           Yes   \n460  LP002478    NaN     Yes          0      Graduate           Yes   \n467  LP002501    NaN     Yes          0      Graduate            No   \n477  LP002530    NaN     Yes          2      Graduate            No   \n507  LP002625    NaN      No          0      Graduate            No   \n576  LP002872    NaN     Yes          0      Graduate            No   \n588  LP002925    NaN      No          0      Graduate            No   \n592  LP002933    NaN      No         3+      Graduate           Yes   \n\n     ApplicantIncome  CoapplicantIncome  LoanAmount  Loan_Amount_Term  \\\n23           3365.00             1917.0       112.0             360.0   \n126         10171.25                0.0       270.0             360.0   \n171         10171.25                0.0       270.0             300.0   \n188           674.00             5296.0       168.0             360.0   \n314          2473.00             1843.0       159.0             360.0   \n334          9833.00             1833.0       182.0             180.0   \n460          2083.00             4083.0       160.0             360.0   \n467         10171.25                0.0       110.0             360.0   \n477          2873.00             1872.0       132.0             360.0   \n507          3583.00                0.0        96.0             360.0   \n576          3087.00             2210.0       136.0             360.0   \n588          4750.00                0.0        94.0             360.0   \n592          9357.00                0.0       270.0             360.0   \n\n     Credit_History Property_Area Loan_Status  \n23              0.0         Rural           N  \n126             1.0         Rural           Y  \n171             1.0         Urban           Y  \n188             1.0         Rural           Y  \n314             1.0         Rural           N  \n334             1.0         Urban           Y  \n460             NaN     Semiurban           Y  \n467             1.0     Semiurban           Y  \n477             0.0     Semiurban           N  \n507             1.0         Urban           N  \n576             0.0     Semiurban           N  \n588             1.0     Semiurban           Y  \n592             1.0     Semiurban           Y  ",
      "text/html": "<div>\n<style scoped>\n    .dataframe tbody tr th:only-of-type {\n        vertical-align: middle;\n    }\n\n    .dataframe tbody tr th {\n        vertical-align: top;\n    }\n\n    .dataframe thead th {\n        text-align: right;\n    }\n</style>\n<table border=\"1\" class=\"dataframe\">\n  <thead>\n    <tr style=\"text-align: right;\">\n      <th></th>\n      <th>Loan_ID</th>\n      <th>Gender</th>\n      <th>Married</th>\n      <th>Dependents</th>\n      <th>Education</th>\n      <th>Self_Employed</th>\n      <th>ApplicantIncome</th>\n      <th>CoapplicantIncome</th>\n      <th>LoanAmount</th>\n      <th>Loan_Amount_Term</th>\n      <th>Credit_History</th>\n      <th>Property_Area</th>\n      <th>Loan_Status</th>\n    </tr>\n  </thead>\n  <tbody>\n    <tr>\n      <th>23</th>\n      <td>LP001050</td>\n      <td>NaN</td>\n      <td>Yes</td>\n      <td>2</td>\n      <td>Not Graduate</td>\n      <td>No</td>\n      <td>3365.00</td>\n      <td>1917.0</td>\n      <td>112.0</td>\n      <td>360.0</td>\n      <td>0.0</td>\n      <td>Rural</td>\n      <td>N</td>\n    </tr>\n    <tr>\n      <th>126</th>\n      <td>LP001448</td>\n      <td>NaN</td>\n      <td>Yes</td>\n      <td>3+</td>\n      <td>Graduate</td>\n      <td>No</td>\n      <td>10171.25</td>\n      <td>0.0</td>\n      <td>270.0</td>\n      <td>360.0</td>\n      <td>1.0</td>\n      <td>Rural</td>\n      <td>Y</td>\n    </tr>\n    <tr>\n      <th>171</th>\n      <td>LP001585</td>\n      <td>NaN</td>\n      <td>Yes</td>\n      <td>3+</td>\n      <td>Graduate</td>\n      <td>No</td>\n      <td>10171.25</td>\n      <td>0.0</td>\n      <td>270.0</td>\n      <td>300.0</td>\n      <td>1.0</td>\n      <td>Urban</td>\n      <td>Y</td>\n    </tr>\n    <tr>\n      <th>188</th>\n      <td>LP001644</td>\n      <td>NaN</td>\n      <td>Yes</td>\n      <td>0</td>\n      <td>Graduate</td>\n      <td>Yes</td>\n      <td>674.00</td>\n      <td>5296.0</td>\n      <td>168.0</td>\n      <td>360.0</td>\n      <td>1.0</td>\n      <td>Rural</td>\n      <td>Y</td>\n    </tr>\n    <tr>\n      <th>314</th>\n      <td>LP002024</td>\n      <td>NaN</td>\n      <td>Yes</td>\n      <td>0</td>\n      <td>Graduate</td>\n      <td>No</td>\n      <td>2473.00</td>\n      <td>1843.0</td>\n      <td>159.0</td>\n      <td>360.0</td>\n      <td>1.0</td>\n      <td>Rural</td>\n      <td>N</td>\n    </tr>\n    <tr>\n      <th>334</th>\n      <td>LP002103</td>\n      <td>NaN</td>\n      <td>Yes</td>\n      <td>1</td>\n      <td>Graduate</td>\n      <td>Yes</td>\n      <td>9833.00</td>\n      <td>1833.0</td>\n      <td>182.0</td>\n      <td>180.0</td>\n      <td>1.0</td>\n      <td>Urban</td>\n      <td>Y</td>\n    </tr>\n    <tr>\n      <th>460</th>\n      <td>LP002478</td>\n      <td>NaN</td>\n      <td>Yes</td>\n      <td>0</td>\n      <td>Graduate</td>\n      <td>Yes</td>\n      <td>2083.00</td>\n      <td>4083.0</td>\n      <td>160.0</td>\n      <td>360.0</td>\n      <td>NaN</td>\n      <td>Semiurban</td>\n      <td>Y</td>\n    </tr>\n    <tr>\n      <th>467</th>\n      <td>LP002501</td>\n      <td>NaN</td>\n      <td>Yes</td>\n      <td>0</td>\n      <td>Graduate</td>\n      <td>No</td>\n      <td>10171.25</td>\n      <td>0.0</td>\n      <td>110.0</td>\n      <td>360.0</td>\n      <td>1.0</td>\n      <td>Semiurban</td>\n      <td>Y</td>\n    </tr>\n    <tr>\n      <th>477</th>\n      <td>LP002530</td>\n      <td>NaN</td>\n      <td>Yes</td>\n      <td>2</td>\n      <td>Graduate</td>\n      <td>No</td>\n      <td>2873.00</td>\n      <td>1872.0</td>\n      <td>132.0</td>\n      <td>360.0</td>\n      <td>0.0</td>\n      <td>Semiurban</td>\n      <td>N</td>\n    </tr>\n    <tr>\n      <th>507</th>\n      <td>LP002625</td>\n      <td>NaN</td>\n      <td>No</td>\n      <td>0</td>\n      <td>Graduate</td>\n      <td>No</td>\n      <td>3583.00</td>\n      <td>0.0</td>\n      <td>96.0</td>\n      <td>360.0</td>\n      <td>1.0</td>\n      <td>Urban</td>\n      <td>N</td>\n    </tr>\n    <tr>\n      <th>576</th>\n      <td>LP002872</td>\n      <td>NaN</td>\n      <td>Yes</td>\n      <td>0</td>\n      <td>Graduate</td>\n      <td>No</td>\n      <td>3087.00</td>\n      <td>2210.0</td>\n      <td>136.0</td>\n      <td>360.0</td>\n      <td>0.0</td>\n      <td>Semiurban</td>\n      <td>N</td>\n    </tr>\n    <tr>\n      <th>588</th>\n      <td>LP002925</td>\n      <td>NaN</td>\n      <td>No</td>\n      <td>0</td>\n      <td>Graduate</td>\n      <td>No</td>\n      <td>4750.00</td>\n      <td>0.0</td>\n      <td>94.0</td>\n      <td>360.0</td>\n      <td>1.0</td>\n      <td>Semiurban</td>\n      <td>Y</td>\n    </tr>\n    <tr>\n      <th>592</th>\n      <td>LP002933</td>\n      <td>NaN</td>\n      <td>No</td>\n      <td>3+</td>\n      <td>Graduate</td>\n      <td>Yes</td>\n      <td>9357.00</td>\n      <td>0.0</td>\n      <td>270.0</td>\n      <td>360.0</td>\n      <td>1.0</td>\n      <td>Semiurban</td>\n      <td>Y</td>\n    </tr>\n  </tbody>\n</table>\n</div>"
     },
     "execution_count": 12,
     "metadata": {},
     "output_type": "execute_result"
    }
   ],
   "source": [
    "data[data['Gender'].isna()]"
   ],
   "metadata": {
    "collapsed": false
   }
  },
  {
   "cell_type": "markdown",
   "source": [
    "There is a lot of valuable data for the 13 records that have missing values at Gender though the records are only 13. It would be reasonable to just assume they are all male. Any mistake shouldn't have much impact on the final product. Afterall, Gender is not highly correlated to the target variable Loan_Status with a correlation coefficient of 0.015."
   ],
   "metadata": {
    "collapsed": false
   }
  },
  {
   "cell_type": "code",
   "execution_count": 13,
   "outputs": [],
   "source": [
    "data['Gender'].fillna('Male', inplace=True)"
   ],
   "metadata": {
    "collapsed": false
   }
  },
  {
   "cell_type": "markdown",
   "source": [
    "Married only has 3 missing values."
   ],
   "metadata": {
    "collapsed": false
   }
  },
  {
   "cell_type": "code",
   "execution_count": 14,
   "outputs": [
    {
     "data": {
      "text/plain": "      Loan_ID  Gender Married Dependents Education Self_Employed  \\\n104  LP001357    Male     NaN        NaN  Graduate            No   \n228  LP001760    Male     NaN        NaN  Graduate            No   \n435  LP002393  Female     NaN        NaN  Graduate            No   \n\n     ApplicantIncome  CoapplicantIncome  LoanAmount  Loan_Amount_Term  \\\n104           3816.0              754.0       160.0             360.0   \n228           4758.0                0.0       158.0             480.0   \n435          10047.0                0.0         NaN             240.0   \n\n     Credit_History Property_Area Loan_Status  \n104             1.0         Urban           Y  \n228             1.0     Semiurban           Y  \n435             1.0     Semiurban           Y  ",
      "text/html": "<div>\n<style scoped>\n    .dataframe tbody tr th:only-of-type {\n        vertical-align: middle;\n    }\n\n    .dataframe tbody tr th {\n        vertical-align: top;\n    }\n\n    .dataframe thead th {\n        text-align: right;\n    }\n</style>\n<table border=\"1\" class=\"dataframe\">\n  <thead>\n    <tr style=\"text-align: right;\">\n      <th></th>\n      <th>Loan_ID</th>\n      <th>Gender</th>\n      <th>Married</th>\n      <th>Dependents</th>\n      <th>Education</th>\n      <th>Self_Employed</th>\n      <th>ApplicantIncome</th>\n      <th>CoapplicantIncome</th>\n      <th>LoanAmount</th>\n      <th>Loan_Amount_Term</th>\n      <th>Credit_History</th>\n      <th>Property_Area</th>\n      <th>Loan_Status</th>\n    </tr>\n  </thead>\n  <tbody>\n    <tr>\n      <th>104</th>\n      <td>LP001357</td>\n      <td>Male</td>\n      <td>NaN</td>\n      <td>NaN</td>\n      <td>Graduate</td>\n      <td>No</td>\n      <td>3816.0</td>\n      <td>754.0</td>\n      <td>160.0</td>\n      <td>360.0</td>\n      <td>1.0</td>\n      <td>Urban</td>\n      <td>Y</td>\n    </tr>\n    <tr>\n      <th>228</th>\n      <td>LP001760</td>\n      <td>Male</td>\n      <td>NaN</td>\n      <td>NaN</td>\n      <td>Graduate</td>\n      <td>No</td>\n      <td>4758.0</td>\n      <td>0.0</td>\n      <td>158.0</td>\n      <td>480.0</td>\n      <td>1.0</td>\n      <td>Semiurban</td>\n      <td>Y</td>\n    </tr>\n    <tr>\n      <th>435</th>\n      <td>LP002393</td>\n      <td>Female</td>\n      <td>NaN</td>\n      <td>NaN</td>\n      <td>Graduate</td>\n      <td>No</td>\n      <td>10047.0</td>\n      <td>0.0</td>\n      <td>NaN</td>\n      <td>240.0</td>\n      <td>1.0</td>\n      <td>Semiurban</td>\n      <td>Y</td>\n    </tr>\n  </tbody>\n</table>\n</div>"
     },
     "execution_count": 14,
     "metadata": {},
     "output_type": "execute_result"
    }
   ],
   "source": [
    "data[data['Married'].isna()]"
   ],
   "metadata": {
    "collapsed": false
   }
  },
  {
   "cell_type": "code",
   "execution_count": 15,
   "outputs": [
    {
     "name": "stderr",
     "output_type": "stream",
     "text": [
      "C:\\Users\\ituser\\anaconda3\\lib\\site-packages\\seaborn\\_decorators.py:36: FutureWarning: Pass the following variable as a keyword arg: x. From version 0.12, the only valid positional argument will be `data`, and passing other arguments without an explicit keyword will result in an error or misinterpretation.\n",
      "  warnings.warn(\n"
     ]
    },
    {
     "data": {
      "text/plain": "<AxesSubplot:xlabel='Married', ylabel='count'>"
     },
     "execution_count": 15,
     "metadata": {},
     "output_type": "execute_result"
    },
    {
     "data": {
      "text/plain": "<Figure size 640x480 with 1 Axes>",
      "image/png": "[encoded data removed]"
     },
     "metadata": {},
     "output_type": "display_data"
    }
   ],
   "source": [
    "sns.countplot(data['Married'])"
   ],
   "metadata": {
    "collapsed": false
   }
  },
  {
   "cell_type": "markdown",
   "source": [
    "It appears most applicants are married. Again, it shouldn't hurt to fill these missing values with the mode (Yes)."
   ],
   "metadata": {
    "collapsed": false
   }
  },
  {
   "cell_type": "code",
   "execution_count": 16,
   "outputs": [],
   "source": [
    "data['Married'].fillna('Yes', inplace=True)"
   ],
   "metadata": {
    "collapsed": false
   }
  },
  {
   "cell_type": "code",
   "execution_count": 17,
   "outputs": [
    {
     "name": "stderr",
     "output_type": "stream",
     "text": [
      "C:\\Users\\ituser\\anaconda3\\lib\\site-packages\\seaborn\\_decorators.py:36: FutureWarning: Pass the following variable as a keyword arg: x. From version 0.12, the only valid positional argument will be `data`, and passing other arguments without an explicit keyword will result in an error or misinterpretation.\n",
      "  warnings.warn(\n"
     ]
    },
    {
     "data": {
      "text/plain": "<AxesSubplot:xlabel='Dependents', ylabel='count'>"
     },
     "execution_count": 17,
     "metadata": {},
     "output_type": "execute_result"
    },
    {
     "data": {
      "text/plain": "<Figure size 640x480 with 1 Axes>",
      "image/png": "[encoded data removed]"
     },
     "metadata": {},
     "output_type": "display_data"
    }
   ],
   "source": [
    "sns.countplot(data['Dependents'])"
   ],
   "metadata": {
    "collapsed": false
   }
  },
  {
   "cell_type": "code",
   "execution_count": 20,
   "outputs": [
    {
     "data": {
      "text/plain": "0     345\n1     102\n2     101\n3+     51\nName: Dependents, dtype: int64"
     },
     "execution_count": 20,
     "metadata": {},
     "output_type": "execute_result"
    }
   ],
   "source": [
    "data['Dependents'].value_counts()"
   ],
   "metadata": {
    "collapsed": false
   }
  },
  {
   "cell_type": "markdown",
   "source": [
    "Most records are of people with no dependents and there are only 15 records missing. We shall fill the missing records with 0."
   ],
   "metadata": {
    "collapsed": false
   }
  },
  {
   "cell_type": "code",
   "execution_count": 21,
   "outputs": [],
   "source": [
    "data['Dependents'].fillna(0, inplace=True)"
   ],
   "metadata": {
    "collapsed": false
   }
  },
  {
   "cell_type": "code",
   "execution_count": 23,
   "outputs": [
    {
     "data": {
      "text/plain": "No     500\nYes     82\nName: Self_Employed, dtype: int64"
     },
     "execution_count": 23,
     "metadata": {},
     "output_type": "execute_result"
    }
   ],
   "source": [
    "data['Self_Employed'].value_counts()"
   ],
   "metadata": {
    "collapsed": false
   }
  },
  {
   "cell_type": "markdown",
   "source": [
    "Only 32 missing values and most are no. We replace values with the mode of 'NO'"
   ],
   "metadata": {
    "collapsed": false
   }
  },
  {
   "cell_type": "code",
   "execution_count": 24,
   "outputs": [],
   "source": [
    "data['Self_Employed'].fillna('No', inplace=True)"
   ],
   "metadata": {
    "collapsed": false
   }
  },
  {
   "cell_type": "code",
   "execution_count": 26,
   "outputs": [
    {
     "data": {
      "text/plain": "count    592.000000\nmean     138.288851\nstd       58.059973\nmin        9.000000\n25%      100.000000\n50%      128.000000\n75%      168.000000\nmax      270.000000\nName: LoanAmount, dtype: float64"
     },
     "execution_count": 26,
     "metadata": {},
     "output_type": "execute_result"
    }
   ],
   "source": [
    "data['LoanAmount'].describe()"
   ],
   "metadata": {
    "collapsed": false
   }
  },
  {
   "cell_type": "markdown",
   "source": [
    "Loan Amount is a continuous variable and only 22 records are missing. These will be replaced by the mean."
   ],
   "metadata": {
    "collapsed": false
   }
  },
  {
   "cell_type": "code",
   "execution_count": 28,
   "outputs": [],
   "source": [
    "data['LoanAmount'].fillna(data['LoanAmount'].mean(), inplace=True)"
   ],
   "metadata": {
    "collapsed": false
   }
  },
  {
   "cell_type": "code",
   "execution_count": 29,
   "outputs": [
    {
     "name": "stderr",
     "output_type": "stream",
     "text": [
      "C:\\Users\\ituser\\anaconda3\\lib\\site-packages\\seaborn\\_decorators.py:36: FutureWarning: Pass the following variable as a keyword arg: x. From version 0.12, the only valid positional argument will be `data`, and passing other arguments without an explicit keyword will result in an error or misinterpretation.\n",
      "  warnings.warn(\n"
     ]
    },
    {
     "data": {
      "text/plain": "<AxesSubplot:xlabel='Loan_Amount_Term', ylabel='count'>"
     },
     "execution_count": 29,
     "metadata": {},
     "output_type": "execute_result"
    },
    {
     "data": {
      "text/plain": "<Figure size 640x480 with 1 Axes>",
      "image/png": "[encoded data removed]"
     },
     "metadata": {},
     "output_type": "display_data"
    }
   ],
   "source": [
    "sns.countplot(data['Loan_Amount_Term'])"
   ],
   "metadata": {
    "collapsed": false
   }
  },
  {
   "cell_type": "code",
   "execution_count": 30,
   "outputs": [
    {
     "data": {
      "text/plain": "count    600.00000\nmean     342.00000\nstd       65.12041\nmin       12.00000\n25%      360.00000\n50%      360.00000\n75%      360.00000\nmax      480.00000\nName: Loan_Amount_Term, dtype: float64"
     },
     "execution_count": 30,
     "metadata": {},
     "output_type": "execute_result"
    }
   ],
   "source": [
    "data['Loan_Amount_Term'].describe()"
   ],
   "metadata": {
    "collapsed": false
   }
  },
  {
   "cell_type": "code",
   "execution_count": 31,
   "outputs": [
    {
     "data": {
      "text/plain": "4240.667779632721"
     },
     "execution_count": 31,
     "metadata": {},
     "output_type": "execute_result"
    }
   ],
   "source": [
    "data['Loan_Amount_Term'].var()"
   ],
   "metadata": {
    "collapsed": false
   }
  },
  {
   "cell_type": "code",
   "execution_count": 32,
   "outputs": [
    {
     "data": {
      "text/plain": "360.0    512\n180.0     44\n480.0     15\n300.0     13\n240.0      4\n84.0       4\n120.0      3\n60.0       2\n36.0       2\n12.0       1\nName: Loan_Amount_Term, dtype: int64"
     },
     "execution_count": 32,
     "metadata": {},
     "output_type": "execute_result"
    }
   ],
   "source": [
    "data['Loan_Amount_Term'].value_counts()"
   ],
   "metadata": {
    "collapsed": false
   }
  },
  {
   "cell_type": "markdown",
   "source": [
    "Loan Amount Term seems like a continuous variable at first, but with a closer look, it is likely that it is actually a categorical variable. In addition, only 14 records are missing, so filling missing values with the mode should be appropriate."
   ],
   "metadata": {
    "collapsed": false
   }
  },
  {
   "cell_type": "code",
   "execution_count": 33,
   "outputs": [],
   "source": [
    "data['Loan_Amount_Term'].fillna(360, inplace=True)"
   ],
   "metadata": {
    "collapsed": false
   }
  },
  {
   "cell_type": "code",
   "execution_count": 34,
   "outputs": [
    {
     "data": {
      "text/plain": "360.0    526\n180.0     44\n480.0     15\n300.0     13\n240.0      4\n84.0       4\n120.0      3\n60.0       2\n36.0       2\n12.0       1\nName: Loan_Amount_Term, dtype: int64"
     },
     "execution_count": 34,
     "metadata": {},
     "output_type": "execute_result"
    }
   ],
   "source": [
    "data['Loan_Amount_Term'].value_counts()"
   ],
   "metadata": {
    "collapsed": false
   }
  },
  {
   "cell_type": "markdown",
   "source": [
    "The only feature left with missing values is Credit_History. This is a categorical feature. There are 50 missing values and it has the highest correlation with the target variable of 56%."
   ],
   "metadata": {
    "collapsed": false
   }
  },
  {
   "cell_type": "code",
   "execution_count": 36,
   "outputs": [
    {
     "data": {
      "text/plain": "1.0    475\n0.0     89\nName: Credit_History, dtype: int64"
     },
     "execution_count": 36,
     "metadata": {},
     "output_type": "execute_result"
    }
   ],
   "source": [
    "data['Credit_History'].value_counts()"
   ],
   "metadata": {
    "collapsed": false
   }
  },
  {
   "cell_type": "code",
   "execution_count": 37,
   "outputs": [
    {
     "data": {
      "text/plain": "50"
     },
     "execution_count": 37,
     "metadata": {},
     "output_type": "execute_result"
    }
   ],
   "source": [
    "data['Credit_History'].isna().sum()"
   ],
   "metadata": {
    "collapsed": false
   }
  },
  {
   "cell_type": "code",
   "execution_count": 38,
   "outputs": [
    {
     "data": {
      "text/plain": "0.08143322475570032"
     },
     "execution_count": 38,
     "metadata": {},
     "output_type": "execute_result"
    }
   ],
   "source": [
    "50/614"
   ],
   "metadata": {
    "collapsed": false
   }
  },
  {
   "cell_type": "markdown",
   "source": [
    "8.1% of records have a missing credit history. In the interest of preserving the integrity of the data, the records will be deleted. We may come back to choose a different solution as the project progresses if the need arises."
   ],
   "metadata": {
    "collapsed": false
   }
  },
  {
   "cell_type": "code",
   "execution_count": 39,
   "outputs": [],
   "source": [
    "df = data[data['Credit_History'].isna()==False]"
   ],
   "metadata": {
    "collapsed": false
   }
  },
  {
   "cell_type": "code",
   "execution_count": 40,
   "outputs": [
    {
     "name": "stdout",
     "output_type": "stream",
     "text": [
      "<class 'pandas.core.frame.DataFrame'>\n",
      "Int64Index: 564 entries, 0 to 613\n",
      "Data columns (total 13 columns):\n",
      " #   Column             Non-Null Count  Dtype  \n",
      "---  ------             --------------  -----  \n",
      " 0   Loan_ID            564 non-null    object \n",
      " 1   Gender             564 non-null    object \n",
      " 2   Married            564 non-null    object \n",
      " 3   Dependents         564 non-null    object \n",
      " 4   Education          564 non-null    object \n",
      " 5   Self_Employed      564 non-null    object \n",
      " 6   ApplicantIncome    564 non-null    float64\n",
      " 7   CoapplicantIncome  564 non-null    float64\n",
      " 8   LoanAmount         564 non-null    float64\n",
      " 9   Loan_Amount_Term   564 non-null    float64\n",
      " 10  Credit_History     564 non-null    float64\n",
      " 11  Property_Area      564 non-null    object \n",
      " 12  Loan_Status        564 non-null    object \n",
      "dtypes: float64(5), object(8)\n",
      "memory usage: 61.7+ KB\n"
     ]
    }
   ],
   "source": [
    "df.info()"
   ],
   "metadata": {
    "collapsed": false
   }
  },
  {
   "cell_type": "markdown",
   "source": [
    "<h3>TURNING FEATURES TO NUMERIC VALUES</h3>"
   ],
   "metadata": {
    "collapsed": false
   }
  },
  {
   "cell_type": "code",
   "execution_count": 41,
   "outputs": [
    {
     "name": "stderr",
     "output_type": "stream",
     "text": [
      "C:\\Users\\ituser\\anaconda3\\lib\\site-packages\\pandas\\core\\generic.py:6610: SettingWithCopyWarning: \n",
      "A value is trying to be set on a copy of a slice from a DataFrame\n",
      "\n",
      "See the caveats in the documentation: https://pandas.pydata.org/pandas-docs/stable/user_guide/indexing.html#returning-a-view-versus-a-copy\n",
      "  return self._update_inplace(result)\n"
     ]
    }
   ],
   "source": [
    "# Converting objects into numeric variables\n",
    "df['Gender'].replace({'Female':0, 'Male':1}, inplace=True)\n",
    "df['Loan_Status'].replace({'N':0, 'Y':1}, inplace=True)\n",
    "df['Married'].replace({'No':0, 'Yes':1}, inplace=True)\n",
    "df['Dependents'].replace({'3+':3}, inplace=True)\n",
    "df['Self_Employed'].replace({'No':0, 'Yes':1}, inplace=True)\n",
    "df['Education'].replace({'Not Graduate':0, 'Graduate':1}, inplace=True)\n",
    "df['Property_Area'].replace({'Urban':2, 'Rural':0, 'Semiurban':1}, inplace=True)\n",
    "df = df.astype({'Dependents':'float'})"
   ],
   "metadata": {
    "collapsed": false
   }
  },
  {
   "cell_type": "code",
   "execution_count": 42,
   "outputs": [
    {
     "name": "stdout",
     "output_type": "stream",
     "text": [
      "<class 'pandas.core.frame.DataFrame'>\n",
      "Int64Index: 564 entries, 0 to 613\n",
      "Data columns (total 13 columns):\n",
      " #   Column             Non-Null Count  Dtype  \n",
      "---  ------             --------------  -----  \n",
      " 0   Loan_ID            564 non-null    object \n",
      " 1   Gender             564 non-null    int64  \n",
      " 2   Married            564 non-null    int64  \n",
      " 3   Dependents         564 non-null    float64\n",
      " 4   Education          564 non-null    int64  \n",
      " 5   Self_Employed      564 non-null    int64  \n",
      " 6   ApplicantIncome    564 non-null    float64\n",
      " 7   CoapplicantIncome  564 non-null    float64\n",
      " 8   LoanAmount         564 non-null    float64\n",
      " 9   Loan_Amount_Term   564 non-null    float64\n",
      " 10  Credit_History     564 non-null    float64\n",
      " 11  Property_Area      564 non-null    int64  \n",
      " 12  Loan_Status        564 non-null    int64  \n",
      "dtypes: float64(6), int64(6), object(1)\n",
      "memory usage: 61.7+ KB\n"
     ]
    }
   ],
   "source": [
    "df.info()"
   ],
   "metadata": {
    "collapsed": false
   }
  },
  {
   "cell_type": "code",
   "execution_count": 43,
   "outputs": [],
   "source": [
    "# The Loan ID feature is being removed because it is not needed\n",
    "df.drop('Loan_ID', axis=1, inplace=True)"
   ],
   "metadata": {
    "collapsed": false
   }
  },
  {
   "cell_type": "markdown",
   "source": [
    "<h3>FEATURE ENGINEERING</h3>"
   ],
   "metadata": {
    "collapsed": false
   }
  },
  {
   "cell_type": "code",
   "execution_count": 44,
   "outputs": [
    {
     "data": {
      "text/plain": "     Gender  Married  Dependents  Education  Self_Employed  ApplicantIncome  \\\n0         1        0         0.0          1              0           5849.0   \n1         1        1         1.0          1              0           4583.0   \n2         1        1         0.0          1              1           3000.0   \n3         1        1         0.0          0              0           2583.0   \n4         1        0         0.0          1              0           6000.0   \n..      ...      ...         ...        ...            ...              ...   \n609       0        0         0.0          1              0           2900.0   \n610       1        1         3.0          1              0           4106.0   \n611       1        1         1.0          1              0           8072.0   \n612       1        1         2.0          1              0           7583.0   \n613       0        0         0.0          1              1           4583.0   \n\n     CoapplicantIncome  LoanAmount  Loan_Amount_Term  Credit_History  \\\n0                  0.0  138.288851             360.0             1.0   \n1               1508.0  128.000000             360.0             1.0   \n2                  0.0   66.000000             360.0             1.0   \n3               2358.0  120.000000             360.0             1.0   \n4                  0.0  141.000000             360.0             1.0   \n..                 ...         ...               ...             ...   \n609                0.0   71.000000             360.0             1.0   \n610                0.0   40.000000             180.0             1.0   \n611              240.0  253.000000             360.0             1.0   \n612                0.0  187.000000             360.0             1.0   \n613                0.0  133.000000             360.0             0.0   \n\n     Property_Area  Loan_Status  \n0                2            1  \n1                0            0  \n2                2            1  \n3                2            1  \n4                2            1  \n..             ...          ...  \n609              0            1  \n610              0            1  \n611              2            1  \n612              2            1  \n613              1            0  \n\n[564 rows x 12 columns]",
      "text/html": "<div>\n<style scoped>\n    .dataframe tbody tr th:only-of-type {\n        vertical-align: middle;\n    }\n\n    .dataframe tbody tr th {\n        vertical-align: top;\n    }\n\n    .dataframe thead th {\n        text-align: right;\n    }\n</style>\n<table border=\"1\" class=\"dataframe\">\n  <thead>\n    <tr style=\"text-align: right;\">\n      <th></th>\n      <th>Gender</th>\n      <th>Married</th>\n      <th>Dependents</th>\n      <th>Education</th>\n      <th>Self_Employed</th>\n      <th>ApplicantIncome</th>\n      <th>CoapplicantIncome</th>\n      <th>LoanAmount</th>\n      <th>Loan_Amount_Term</th>\n      <th>Credit_History</th>\n      <th>Property_Area</th>\n      <th>Loan_Status</th>\n    </tr>\n  </thead>\n  <tbody>\n    <tr>\n      <th>0</th>\n      <td>1</td>\n      <td>0</td>\n      <td>0.0</td>\n      <td>1</td>\n      <td>0</td>\n      <td>5849.0</td>\n      <td>0.0</td>\n      <td>138.288851</td>\n      <td>360.0</td>\n      <td>1.0</td>\n      <td>2</td>\n      <td>1</td>\n    </tr>\n    <tr>\n      <th>1</th>\n      <td>1</td>\n      <td>1</td>\n      <td>1.0</td>\n      <td>1</td>\n      <td>0</td>\n      <td>4583.0</td>\n      <td>1508.0</td>\n      <td>128.000000</td>\n      <td>360.0</td>\n      <td>1.0</td>\n      <td>0</td>\n      <td>0</td>\n    </tr>\n    <tr>\n      <th>2</th>\n      <td>1</td>\n      <td>1</td>\n      <td>0.0</td>\n      <td>1</td>\n      <td>1</td>\n      <td>3000.0</td>\n      <td>0.0</td>\n      <td>66.000000</td>\n      <td>360.0</td>\n      <td>1.0</td>\n      <td>2</td>\n      <td>1</td>\n    </tr>\n    <tr>\n      <th>3</th>\n      <td>1</td>\n      <td>1</td>\n      <td>0.0</td>\n      <td>0</td>\n      <td>0</td>\n      <td>2583.0</td>\n      <td>2358.0</td>\n      <td>120.000000</td>\n      <td>360.0</td>\n      <td>1.0</td>\n      <td>2</td>\n      <td>1</td>\n    </tr>\n    <tr>\n      <th>4</th>\n      <td>1</td>\n      <td>0</td>\n      <td>0.0</td>\n      <td>1</td>\n      <td>0</td>\n      <td>6000.0</td>\n      <td>0.0</td>\n      <td>141.000000</td>\n      <td>360.0</td>\n      <td>1.0</td>\n      <td>2</td>\n      <td>1</td>\n    </tr>\n    <tr>\n      <th>...</th>\n      <td>...</td>\n      <td>...</td>\n      <td>...</td>\n      <td>...</td>\n      <td>...</td>\n      <td>...</td>\n      <td>...</td>\n      <td>...</td>\n      <td>...</td>\n      <td>...</td>\n      <td>...</td>\n      <td>...</td>\n    </tr>\n    <tr>\n      <th>609</th>\n      <td>0</td>\n      <td>0</td>\n      <td>0.0</td>\n      <td>1</td>\n      <td>0</td>\n      <td>2900.0</td>\n      <td>0.0</td>\n      <td>71.000000</td>\n      <td>360.0</td>\n      <td>1.0</td>\n      <td>0</td>\n      <td>1</td>\n    </tr>\n    <tr>\n      <th>610</th>\n      <td>1</td>\n      <td>1</td>\n      <td>3.0</td>\n      <td>1</td>\n      <td>0</td>\n      <td>4106.0</td>\n      <td>0.0</td>\n      <td>40.000000</td>\n      <td>180.0</td>\n      <td>1.0</td>\n      <td>0</td>\n      <td>1</td>\n    </tr>\n    <tr>\n      <th>611</th>\n      <td>1</td>\n      <td>1</td>\n      <td>1.0</td>\n      <td>1</td>\n      <td>0</td>\n      <td>8072.0</td>\n      <td>240.0</td>\n      <td>253.000000</td>\n      <td>360.0</td>\n      <td>1.0</td>\n      <td>2</td>\n      <td>1</td>\n    </tr>\n    <tr>\n      <th>612</th>\n      <td>1</td>\n      <td>1</td>\n      <td>2.0</td>\n      <td>1</td>\n      <td>0</td>\n      <td>7583.0</td>\n      <td>0.0</td>\n      <td>187.000000</td>\n      <td>360.0</td>\n      <td>1.0</td>\n      <td>2</td>\n      <td>1</td>\n    </tr>\n    <tr>\n      <th>613</th>\n      <td>0</td>\n      <td>0</td>\n      <td>0.0</td>\n      <td>1</td>\n      <td>1</td>\n      <td>4583.0</td>\n      <td>0.0</td>\n      <td>133.000000</td>\n      <td>360.0</td>\n      <td>0.0</td>\n      <td>1</td>\n      <td>0</td>\n    </tr>\n  </tbody>\n</table>\n<p>564 rows × 12 columns</p>\n</div>"
     },
     "execution_count": 44,
     "metadata": {},
     "output_type": "execute_result"
    }
   ],
   "source": [
    "df"
   ],
   "metadata": {
    "collapsed": false
   }
  },
  {
   "cell_type": "code",
   "execution_count": 45,
   "outputs": [],
   "source": [
    "# Adding feature for Graduated Married Males\n",
    "df[\"graduatedMarriedMale\"] =  (df.loc[:,'Gender'] + df.loc[:, 'Married'] + df.loc[:, 'Education'] == 3).astype('int64')"
   ],
   "metadata": {
    "collapsed": false
   }
  },
  {
   "cell_type": "code",
   "execution_count": 50,
   "outputs": [
    {
     "data": {
      "text/plain": "Gender                 -0.548140\nMarried                -0.512792\nDependents             -0.567678\nEducation              -0.519431\nSelf_Employed          -0.600884\nApplicantIncome        -0.563143\nCoapplicantIncome      -0.546490\nLoanAmount             -0.576408\nLoan_Amount_Term       -0.549564\nCredit_History         -0.396647\nProperty_Area          -0.557021\nLoan_Status             1.000000\ngraduatedMarriedMale   -0.462114\nName: Loan_Status, dtype: float64"
     },
     "execution_count": 50,
     "metadata": {},
     "output_type": "execute_result"
    }
   ],
   "source": [
    "df.corr('kendall')['Loan_Status']"
   ],
   "metadata": {
    "collapsed": false
   }
  },
  {
   "cell_type": "markdown",
   "source": [
    "<h5>Do Graduated Married Males have positive impact on Loan Status compared to Non-Graduated Married Males?</h5>"
   ],
   "metadata": {
    "collapsed": false
   }
  },
  {
   "cell_type": "code",
   "execution_count": 52,
   "outputs": [],
   "source": [
    "frame = df[['graduatedMarriedMale', 'Loan_Status']]"
   ],
   "metadata": {
    "collapsed": false
   }
  },
  {
   "cell_type": "code",
   "execution_count": 53,
   "outputs": [
    {
     "data": {
      "text/plain": "     graduatedMarriedMale  Loan_Status\n0                       0            1\n1                       1            0\n2                       1            1\n3                       0            1\n4                       0            1\n..                    ...          ...\n609                     0            1\n610                     1            1\n611                     1            1\n612                     1            1\n613                     0            0\n\n[564 rows x 2 columns]",
      "text/html": "<div>\n<style scoped>\n    .dataframe tbody tr th:only-of-type {\n        vertical-align: middle;\n    }\n\n    .dataframe tbody tr th {\n        vertical-align: top;\n    }\n\n    .dataframe thead th {\n        text-align: right;\n    }\n</style>\n<table border=\"1\" class=\"dataframe\">\n  <thead>\n    <tr style=\"text-align: right;\">\n      <th></th>\n      <th>graduatedMarriedMale</th>\n      <th>Loan_Status</th>\n    </tr>\n  </thead>\n  <tbody>\n    <tr>\n      <th>0</th>\n      <td>0</td>\n      <td>1</td>\n    </tr>\n    <tr>\n      <th>1</th>\n      <td>1</td>\n      <td>0</td>\n    </tr>\n    <tr>\n      <th>2</th>\n      <td>1</td>\n      <td>1</td>\n    </tr>\n    <tr>\n      <th>3</th>\n      <td>0</td>\n      <td>1</td>\n    </tr>\n    <tr>\n      <th>4</th>\n      <td>0</td>\n      <td>1</td>\n    </tr>\n    <tr>\n      <th>...</th>\n      <td>...</td>\n      <td>...</td>\n    </tr>\n    <tr>\n      <th>609</th>\n      <td>0</td>\n      <td>1</td>\n    </tr>\n    <tr>\n      <th>610</th>\n      <td>1</td>\n      <td>1</td>\n    </tr>\n    <tr>\n      <th>611</th>\n      <td>1</td>\n      <td>1</td>\n    </tr>\n    <tr>\n      <th>612</th>\n      <td>1</td>\n      <td>1</td>\n    </tr>\n    <tr>\n      <th>613</th>\n      <td>0</td>\n      <td>0</td>\n    </tr>\n  </tbody>\n</table>\n<p>564 rows × 2 columns</p>\n</div>"
     },
     "execution_count": 53,
     "metadata": {},
     "output_type": "execute_result"
    }
   ],
   "source": [
    "frame"
   ],
   "metadata": {
    "collapsed": false
   }
  },
  {
   "cell_type": "code",
   "execution_count": 54,
   "outputs": [
    {
     "data": {
      "text/plain": "(array([5.80517343]), array([0.01597909]))"
     },
     "execution_count": 54,
     "metadata": {},
     "output_type": "execute_result"
    }
   ],
   "source": [
    "chi2(frame[['graduatedMarriedMale']], frame['Loan_Status'])"
   ],
   "metadata": {
    "collapsed": false
   }
  },
  {
   "cell_type": "markdown",
   "source": [
    "According to the chi2 test above, the p-value is less than 5% which means the two features are dependent. This means being a graduated married male has a significant impact on Loan Status."
   ],
   "metadata": {
    "collapsed": false
   }
  },
  {
   "cell_type": "markdown",
   "source": [
    "<h5>Does having CoapplicantIncome increase the Loan Approval Percentage?</h5>"
   ],
   "metadata": {
    "collapsed": false
   }
  },
  {
   "cell_type": "code",
   "execution_count": 55,
   "outputs": [
    {
     "data": {
      "text/plain": "564"
     },
     "execution_count": 55,
     "metadata": {},
     "output_type": "execute_result"
    }
   ],
   "source": [
    "df['Loan_Status'].count()"
   ],
   "metadata": {
    "collapsed": false
   }
  },
  {
   "cell_type": "code",
   "execution_count": 53,
   "outputs": [
    {
     "data": {
      "text/plain": "0.6826241134751773"
     },
     "execution_count": 53,
     "metadata": {},
     "output_type": "execute_result"
    }
   ],
   "source": [
    "df['Loan_Status'].sum()/df['Loan_Status'].count()"
   ],
   "metadata": {
    "collapsed": false
   }
  },
  {
   "cell_type": "code",
   "execution_count": 54,
   "outputs": [],
   "source": [
    "#df['Loan_Approval_Percentage'] = df['Loan_Status'].sum()/df['Loan_Status'].count()"
   ],
   "metadata": {
    "collapsed": false
   }
  },
  {
   "cell_type": "markdown",
   "source": [
    "As seen in the EDA notebook, the pearson coefficient for CoapplicantIncome and Loan_Status is about 0.06. This is very low. There is hardly any correlation between the two features. So CoapplicantIncome does not have any impact on Loan Approval Percentage."
   ],
   "metadata": {
    "collapsed": false
   }
  },
  {
   "cell_type": "markdown",
   "source": [
    "<h5>Loan Approval Percentage of users who request for Loan Amount greater than 200 per property area.</h5>"
   ],
   "metadata": {
    "collapsed": false
   }
  },
  {
   "cell_type": "code",
   "execution_count": 55,
   "outputs": [
    {
     "data": {
      "text/plain": "Property_Area\n0    0.450000\n1    0.709677\n2    0.650000\nName: Loan_Status, dtype: float64"
     },
     "execution_count": 55,
     "metadata": {},
     "output_type": "execute_result"
    }
   ],
   "source": [
    "df[df['LoanAmount']>200].groupby('Property_Area').agg(np.mean)['Loan_Status']"
   ],
   "metadata": {
    "collapsed": false
   }
  },
  {
   "cell_type": "markdown",
   "source": [
    "<h5>Creating the new composite features</h5>"
   ],
   "metadata": {
    "collapsed": false
   }
  },
  {
   "cell_type": "code",
   "execution_count": 56,
   "outputs": [],
   "source": [
    "df['GME'] = df['Gender']+df['Married']+df['Education']"
   ],
   "metadata": {
    "collapsed": false
   }
  },
  {
   "cell_type": "code",
   "execution_count": 57,
   "outputs": [],
   "source": [
    "df['selfemp_Proparea'] = df['Self_Employed']+df['Property_Area']"
   ],
   "metadata": {
    "collapsed": false
   }
  },
  {
   "cell_type": "code",
   "execution_count": 58,
   "outputs": [
    {
     "data": {
      "text/plain": "      Loan_ID  Gender  Married  Dependents  Education  Self_Employed  \\\n0    LP001002       1        0         0.0          1              0   \n1    LP001003       1        1         1.0          1              0   \n2    LP001005       1        1         0.0          1              1   \n3    LP001006       1        1         0.0          0              0   \n4    LP001008       1        0         0.0          1              0   \n..        ...     ...      ...         ...        ...            ...   \n609  LP002978       0        0         0.0          1              0   \n610  LP002979       1        1         3.0          1              0   \n611  LP002983       1        1         1.0          1              0   \n612  LP002984       1        1         2.0          1              0   \n613  LP002990       0        0         0.0          1              1   \n\n     ApplicantIncome  CoapplicantIncome  LoanAmount  Loan_Amount_Term  \\\n0             5849.0                0.0  138.288851             360.0   \n1             4583.0             1508.0  128.000000             360.0   \n2             3000.0                0.0   66.000000             360.0   \n3             2583.0             2358.0  120.000000             360.0   \n4             6000.0                0.0  141.000000             360.0   \n..               ...                ...         ...               ...   \n609           2900.0                0.0   71.000000             360.0   \n610           4106.0                0.0   40.000000             180.0   \n611           8072.0              240.0  253.000000             360.0   \n612           7583.0                0.0  187.000000             360.0   \n613           4583.0                0.0  133.000000             360.0   \n\n     Credit_History  Property_Area  Loan_Status  graduatedMarriedMale  GME  \\\n0               1.0              2            1                     0    2   \n1               1.0              0            0                     1    3   \n2               1.0              2            1                     1    3   \n3               1.0              2            1                     0    2   \n4               1.0              2            1                     0    2   \n..              ...            ...          ...                   ...  ...   \n609             1.0              0            1                     0    1   \n610             1.0              0            1                     1    3   \n611             1.0              2            1                     1    3   \n612             1.0              2            1                     1    3   \n613             0.0              1            0                     0    1   \n\n     selfemp_Proparea  \n0                   2  \n1                   0  \n2                   3  \n3                   2  \n4                   2  \n..                ...  \n609                 0  \n610                 0  \n611                 2  \n612                 2  \n613                 2  \n\n[564 rows x 16 columns]",
      "text/html": "<div>\n<style scoped>\n    .dataframe tbody tr th:only-of-type {\n        vertical-align: middle;\n    }\n\n    .dataframe tbody tr th {\n        vertical-align: top;\n    }\n\n    .dataframe thead th {\n        text-align: right;\n    }\n</style>\n<table border=\"1\" class=\"dataframe\">\n  <thead>\n    <tr style=\"text-align: right;\">\n      <th></th>\n      <th>Loan_ID</th>\n      <th>Gender</th>\n      <th>Married</th>\n      <th>Dependents</th>\n      <th>Education</th>\n      <th>Self_Employed</th>\n      <th>ApplicantIncome</th>\n      <th>CoapplicantIncome</th>\n      <th>LoanAmount</th>\n      <th>Loan_Amount_Term</th>\n      <th>Credit_History</th>\n      <th>Property_Area</th>\n      <th>Loan_Status</th>\n      <th>graduatedMarriedMale</th>\n      <th>GME</th>\n      <th>selfemp_Proparea</th>\n    </tr>\n  </thead>\n  <tbody>\n    <tr>\n      <th>0</th>\n      <td>LP001002</td>\n      <td>1</td>\n      <td>0</td>\n      <td>0.0</td>\n      <td>1</td>\n      <td>0</td>\n      <td>5849.0</td>\n      <td>0.0</td>\n      <td>138.288851</td>\n      <td>360.0</td>\n      <td>1.0</td>\n      <td>2</td>\n      <td>1</td>\n      <td>0</td>\n      <td>2</td>\n      <td>2</td>\n    </tr>\n    <tr>\n      <th>1</th>\n      <td>LP001003</td>\n      <td>1</td>\n      <td>1</td>\n      <td>1.0</td>\n      <td>1</td>\n      <td>0</td>\n      <td>4583.0</td>\n      <td>1508.0</td>\n      <td>128.000000</td>\n      <td>360.0</td>\n      <td>1.0</td>\n      <td>0</td>\n      <td>0</td>\n      <td>1</td>\n      <td>3</td>\n      <td>0</td>\n    </tr>\n    <tr>\n      <th>2</th>\n      <td>LP001005</td>\n      <td>1</td>\n      <td>1</td>\n      <td>0.0</td>\n      <td>1</td>\n      <td>1</td>\n      <td>3000.0</td>\n      <td>0.0</td>\n      <td>66.000000</td>\n      <td>360.0</td>\n      <td>1.0</td>\n      <td>2</td>\n      <td>1</td>\n      <td>1</td>\n      <td>3</td>\n      <td>3</td>\n    </tr>\n    <tr>\n      <th>3</th>\n      <td>LP001006</td>\n      <td>1</td>\n      <td>1</td>\n      <td>0.0</td>\n      <td>0</td>\n      <td>0</td>\n      <td>2583.0</td>\n      <td>2358.0</td>\n      <td>120.000000</td>\n      <td>360.0</td>\n      <td>1.0</td>\n      <td>2</td>\n      <td>1</td>\n      <td>0</td>\n      <td>2</td>\n      <td>2</td>\n    </tr>\n    <tr>\n      <th>4</th>\n      <td>LP001008</td>\n      <td>1</td>\n      <td>0</td>\n      <td>0.0</td>\n      <td>1</td>\n      <td>0</td>\n      <td>6000.0</td>\n      <td>0.0</td>\n      <td>141.000000</td>\n      <td>360.0</td>\n      <td>1.0</td>\n      <td>2</td>\n      <td>1</td>\n      <td>0</td>\n      <td>2</td>\n      <td>2</td>\n    </tr>\n    <tr>\n      <th>...</th>\n      <td>...</td>\n      <td>...</td>\n      <td>...</td>\n      <td>...</td>\n      <td>...</td>\n      <td>...</td>\n      <td>...</td>\n      <td>...</td>\n      <td>...</td>\n      <td>...</td>\n      <td>...</td>\n      <td>...</td>\n      <td>...</td>\n      <td>...</td>\n      <td>...</td>\n      <td>...</td>\n    </tr>\n    <tr>\n      <th>609</th>\n      <td>LP002978</td>\n      <td>0</td>\n      <td>0</td>\n      <td>0.0</td>\n      <td>1</td>\n      <td>0</td>\n      <td>2900.0</td>\n      <td>0.0</td>\n      <td>71.000000</td>\n      <td>360.0</td>\n      <td>1.0</td>\n      <td>0</td>\n      <td>1</td>\n      <td>0</td>\n      <td>1</td>\n      <td>0</td>\n    </tr>\n    <tr>\n      <th>610</th>\n      <td>LP002979</td>\n      <td>1</td>\n      <td>1</td>\n      <td>3.0</td>\n      <td>1</td>\n      <td>0</td>\n      <td>4106.0</td>\n      <td>0.0</td>\n      <td>40.000000</td>\n      <td>180.0</td>\n      <td>1.0</td>\n      <td>0</td>\n      <td>1</td>\n      <td>1</td>\n      <td>3</td>\n      <td>0</td>\n    </tr>\n    <tr>\n      <th>611</th>\n      <td>LP002983</td>\n      <td>1</td>\n      <td>1</td>\n      <td>1.0</td>\n      <td>1</td>\n      <td>0</td>\n      <td>8072.0</td>\n      <td>240.0</td>\n      <td>253.000000</td>\n      <td>360.0</td>\n      <td>1.0</td>\n      <td>2</td>\n      <td>1</td>\n      <td>1</td>\n      <td>3</td>\n      <td>2</td>\n    </tr>\n    <tr>\n      <th>612</th>\n      <td>LP002984</td>\n      <td>1</td>\n      <td>1</td>\n      <td>2.0</td>\n      <td>1</td>\n      <td>0</td>\n      <td>7583.0</td>\n      <td>0.0</td>\n      <td>187.000000</td>\n      <td>360.0</td>\n      <td>1.0</td>\n      <td>2</td>\n      <td>1</td>\n      <td>1</td>\n      <td>3</td>\n      <td>2</td>\n    </tr>\n    <tr>\n      <th>613</th>\n      <td>LP002990</td>\n      <td>0</td>\n      <td>0</td>\n      <td>0.0</td>\n      <td>1</td>\n      <td>1</td>\n      <td>4583.0</td>\n      <td>0.0</td>\n      <td>133.000000</td>\n      <td>360.0</td>\n      <td>0.0</td>\n      <td>1</td>\n      <td>0</td>\n      <td>0</td>\n      <td>1</td>\n      <td>2</td>\n    </tr>\n  </tbody>\n</table>\n<p>564 rows × 16 columns</p>\n</div>"
     },
     "execution_count": 58,
     "metadata": {},
     "output_type": "execute_result"
    }
   ],
   "source": [
    "df"
   ],
   "metadata": {
    "collapsed": false
   }
  },
  {
   "cell_type": "markdown",
   "source": [
    "<h5>Encoding categorical variables using target encoding</h5>"
   ],
   "metadata": {
    "collapsed": false
   }
  },
  {
   "cell_type": "code",
   "execution_count": 59,
   "outputs": [],
   "source": [
    "# Breaking data into training and test sets\n",
    "def splitData(data):\n",
    "    X = data.drop('Loan_Status',axis=1)\n",
    "    y = data[['Loan_Status']]\n",
    "    x_train, x_test, y_train, y_test = train_test_split(X,y,test_size=0.2,random_state=42)\n",
    "    print((x_train.shape, x_test.shape), (y_train.shape,y_test.shape))\n",
    "    return [x_train, x_test, y_train, y_test]"
   ],
   "metadata": {
    "collapsed": false
   }
  },
  {
   "cell_type": "code",
   "execution_count": 60,
   "outputs": [],
   "source": [
    "def targetEncode(x_train, x_test, y_train, vars):\n",
    "    list = []\n",
    "    for i in vars:\n",
    "        values = x_train[i].unique()\n",
    "        x_train[i+'_Encoded'] = x_train[i]\n",
    "        x_test[i+'_Encoded'] = x_test[i]\n",
    "        print(x_train)\n",
    "        for j in values:\n",
    "            avg = y_train[x_train[i] == j]['Loan_Status'].mean()\n",
    "            x_train[i+'_Encoded'].replace({j:avg}, inplace = True)\n",
    "            x_test[i+'_Encoded'].replace({j:avg}, inplace = True)\n",
    "\n",
    "    return [x_train, x_test]"
   ],
   "metadata": {
    "collapsed": false
   }
  },
  {
   "cell_type": "code",
   "execution_count": 61,
   "outputs": [
    {
     "name": "stdout",
     "output_type": "stream",
     "text": [
      "((451, 15), (113, 15)) ((451, 1), (113, 1))\n"
     ]
    }
   ],
   "source": [
    "x_train, x_test, y_train, y_test = splitData(df)"
   ],
   "metadata": {
    "collapsed": false
   }
  },
  {
   "cell_type": "code",
   "execution_count": 63,
   "outputs": [
    {
     "name": "stdout",
     "output_type": "stream",
     "text": [
      "      Loan_ID  Gender  Married  Dependents  Education  Self_Employed  \\\n",
      "359  LP002160       1        1         3.0          1              0   \n",
      "127  LP001449       1        0         0.0          1              0   \n",
      "228  LP001760       1        1         0.0          1              0   \n",
      "0    LP001002       1        0         0.0          1              0   \n",
      "482  LP002537       1        1         0.0          1              0   \n",
      "..        ...     ...      ...         ...        ...            ...   \n",
      "75   LP001255       1        0         0.0          1              0   \n",
      "114  LP001398       1        0         0.0          1              0   \n",
      "292  LP001940       1        1         2.0          1              0   \n",
      "472  LP002519       1        1         3.0          1              0   \n",
      "110  LP001385       1        0         0.0          1              0   \n",
      "\n",
      "     ApplicantIncome  CoapplicantIncome  LoanAmount  Loan_Amount_Term  \\\n",
      "359           5167.0             3167.0  200.000000             360.0   \n",
      "127           3865.0             1640.0  138.288851             360.0   \n",
      "228           4758.0                0.0  158.000000             480.0   \n",
      "0             5849.0                0.0  138.288851             360.0   \n",
      "482           2083.0             3150.0  128.000000             360.0   \n",
      "..               ...                ...         ...               ...   \n",
      "75            3750.0                0.0  113.000000             480.0   \n",
      "114           5050.0                0.0  118.000000             360.0   \n",
      "292           3153.0             1560.0  134.000000             360.0   \n",
      "472           4691.0                0.0  100.000000             360.0   \n",
      "110           5316.0                0.0  136.000000             360.0   \n",
      "\n",
      "     Credit_History  Property_Area  graduatedMarriedMale  GME  \\\n",
      "359             1.0              1                     1    3   \n",
      "127             1.0              0                     0    2   \n",
      "228             1.0              1                     1    3   \n",
      "0               1.0              2                     0    2   \n",
      "482             1.0              1                     1    3   \n",
      "..              ...            ...                   ...  ...   \n",
      "75              1.0              2                     0    2   \n",
      "114             1.0              1                     0    2   \n",
      "292             1.0              2                     1    3   \n",
      "472             1.0              1                     1    3   \n",
      "110             1.0              2                     0    2   \n",
      "\n",
      "     selfemp_Proparea  Gender_Encoded  \n",
      "359                 1               1  \n",
      "127                 0               1  \n",
      "228                 1               1  \n",
      "0                   2               1  \n",
      "482                 1               1  \n",
      "..                ...             ...  \n",
      "75                  2               1  \n",
      "114                 1               1  \n",
      "292                 2               1  \n",
      "472                 1               1  \n",
      "110                 2               1  \n",
      "\n",
      "[451 rows x 16 columns]\n",
      "      Loan_ID  Gender  Married  Dependents  Education  Self_Employed  \\\n",
      "359  LP002160       1        1         3.0          1              0   \n",
      "127  LP001449       1        0         0.0          1              0   \n",
      "228  LP001760       1        1         0.0          1              0   \n",
      "0    LP001002       1        0         0.0          1              0   \n",
      "482  LP002537       1        1         0.0          1              0   \n",
      "..        ...     ...      ...         ...        ...            ...   \n",
      "75   LP001255       1        0         0.0          1              0   \n",
      "114  LP001398       1        0         0.0          1              0   \n",
      "292  LP001940       1        1         2.0          1              0   \n",
      "472  LP002519       1        1         3.0          1              0   \n",
      "110  LP001385       1        0         0.0          1              0   \n",
      "\n",
      "     ApplicantIncome  CoapplicantIncome  LoanAmount  Loan_Amount_Term  \\\n",
      "359           5167.0             3167.0  200.000000             360.0   \n",
      "127           3865.0             1640.0  138.288851             360.0   \n",
      "228           4758.0                0.0  158.000000             480.0   \n",
      "0             5849.0                0.0  138.288851             360.0   \n",
      "482           2083.0             3150.0  128.000000             360.0   \n",
      "..               ...                ...         ...               ...   \n",
      "75            3750.0                0.0  113.000000             480.0   \n",
      "114           5050.0                0.0  118.000000             360.0   \n",
      "292           3153.0             1560.0  134.000000             360.0   \n",
      "472           4691.0                0.0  100.000000             360.0   \n",
      "110           5316.0                0.0  136.000000             360.0   \n",
      "\n",
      "     Credit_History  Property_Area  graduatedMarriedMale  GME  \\\n",
      "359             1.0              1                     1    3   \n",
      "127             1.0              0                     0    2   \n",
      "228             1.0              1                     1    3   \n",
      "0               1.0              2                     0    2   \n",
      "482             1.0              1                     1    3   \n",
      "..              ...            ...                   ...  ...   \n",
      "75              1.0              2                     0    2   \n",
      "114             1.0              1                     0    2   \n",
      "292             1.0              2                     1    3   \n",
      "472             1.0              1                     1    3   \n",
      "110             1.0              2                     0    2   \n",
      "\n",
      "     selfemp_Proparea  Gender_Encoded  Married_Encoded  \n",
      "359                 1             0.7                1  \n",
      "127                 0             0.7                0  \n",
      "228                 1             0.7                1  \n",
      "0                   2             0.7                0  \n",
      "482                 1             0.7                1  \n",
      "..                ...             ...              ...  \n",
      "75                  2             0.7                0  \n",
      "114                 1             0.7                0  \n",
      "292                 2             0.7                1  \n",
      "472                 1             0.7                1  \n",
      "110                 2             0.7                0  \n",
      "\n",
      "[451 rows x 17 columns]\n",
      "      Loan_ID  Gender  Married  Dependents  Education  Self_Employed  \\\n",
      "359  LP002160       1        1         3.0          1              0   \n",
      "127  LP001449       1        0         0.0          1              0   \n",
      "228  LP001760       1        1         0.0          1              0   \n",
      "0    LP001002       1        0         0.0          1              0   \n",
      "482  LP002537       1        1         0.0          1              0   \n",
      "..        ...     ...      ...         ...        ...            ...   \n",
      "75   LP001255       1        0         0.0          1              0   \n",
      "114  LP001398       1        0         0.0          1              0   \n",
      "292  LP001940       1        1         2.0          1              0   \n",
      "472  LP002519       1        1         3.0          1              0   \n",
      "110  LP001385       1        0         0.0          1              0   \n",
      "\n",
      "     ApplicantIncome  CoapplicantIncome  LoanAmount  Loan_Amount_Term  \\\n",
      "359           5167.0             3167.0  200.000000             360.0   \n",
      "127           3865.0             1640.0  138.288851             360.0   \n",
      "228           4758.0                0.0  158.000000             480.0   \n",
      "0             5849.0                0.0  138.288851             360.0   \n",
      "482           2083.0             3150.0  128.000000             360.0   \n",
      "..               ...                ...         ...               ...   \n",
      "75            3750.0                0.0  113.000000             480.0   \n",
      "114           5050.0                0.0  118.000000             360.0   \n",
      "292           3153.0             1560.0  134.000000             360.0   \n",
      "472           4691.0                0.0  100.000000             360.0   \n",
      "110           5316.0                0.0  136.000000             360.0   \n",
      "\n",
      "     Credit_History  Property_Area  graduatedMarriedMale  GME  \\\n",
      "359             1.0              1                     1    3   \n",
      "127             1.0              0                     0    2   \n",
      "228             1.0              1                     1    3   \n",
      "0               1.0              2                     0    2   \n",
      "482             1.0              1                     1    3   \n",
      "..              ...            ...                   ...  ...   \n",
      "75              1.0              2                     0    2   \n",
      "114             1.0              1                     0    2   \n",
      "292             1.0              2                     1    3   \n",
      "472             1.0              1                     1    3   \n",
      "110             1.0              2                     0    2   \n",
      "\n",
      "     selfemp_Proparea  Gender_Encoded  Married_Encoded  Dependents_Encoded  \n",
      "359                 1             0.7         0.728873                 3.0  \n",
      "127                 0             0.7         0.622754                 0.0  \n",
      "228                 1             0.7         0.728873                 0.0  \n",
      "0                   2             0.7         0.622754                 0.0  \n",
      "482                 1             0.7         0.728873                 0.0  \n",
      "..                ...             ...              ...                 ...  \n",
      "75                  2             0.7         0.622754                 0.0  \n",
      "114                 1             0.7         0.622754                 0.0  \n",
      "292                 2             0.7         0.728873                 2.0  \n",
      "472                 1             0.7         0.728873                 3.0  \n",
      "110                 2             0.7         0.622754                 0.0  \n",
      "\n",
      "[451 rows x 18 columns]\n",
      "      Loan_ID  Gender  Married  Dependents  Education  Self_Employed  \\\n",
      "359  LP002160       1        1         3.0          1              0   \n",
      "127  LP001449       1        0         0.0          1              0   \n",
      "228  LP001760       1        1         0.0          1              0   \n",
      "0    LP001002       1        0         0.0          1              0   \n",
      "482  LP002537       1        1         0.0          1              0   \n",
      "..        ...     ...      ...         ...        ...            ...   \n",
      "75   LP001255       1        0         0.0          1              0   \n",
      "114  LP001398       1        0         0.0          1              0   \n",
      "292  LP001940       1        1         2.0          1              0   \n",
      "472  LP002519       1        1         3.0          1              0   \n",
      "110  LP001385       1        0         0.0          1              0   \n",
      "\n",
      "     ApplicantIncome  CoapplicantIncome  LoanAmount  Loan_Amount_Term  \\\n",
      "359           5167.0             3167.0  200.000000             360.0   \n",
      "127           3865.0             1640.0  138.288851             360.0   \n",
      "228           4758.0                0.0  158.000000             480.0   \n",
      "0             5849.0                0.0  138.288851             360.0   \n",
      "482           2083.0             3150.0  128.000000             360.0   \n",
      "..               ...                ...         ...               ...   \n",
      "75            3750.0                0.0  113.000000             480.0   \n",
      "114           5050.0                0.0  118.000000             360.0   \n",
      "292           3153.0             1560.0  134.000000             360.0   \n",
      "472           4691.0                0.0  100.000000             360.0   \n",
      "110           5316.0                0.0  136.000000             360.0   \n",
      "\n",
      "     Credit_History  Property_Area  graduatedMarriedMale  GME  \\\n",
      "359             1.0              1                     1    3   \n",
      "127             1.0              0                     0    2   \n",
      "228             1.0              1                     1    3   \n",
      "0               1.0              2                     0    2   \n",
      "482             1.0              1                     1    3   \n",
      "..              ...            ...                   ...  ...   \n",
      "75              1.0              2                     0    2   \n",
      "114             1.0              1                     0    2   \n",
      "292             1.0              2                     1    3   \n",
      "472             1.0              1                     1    3   \n",
      "110             1.0              2                     0    2   \n",
      "\n",
      "     selfemp_Proparea  Gender_Encoded  Married_Encoded  Dependents_Encoded  \\\n",
      "359                 1             0.7         0.728873            0.694444   \n",
      "127                 0             0.7         0.622754            0.683824   \n",
      "228                 1             0.7         0.728873            0.683824   \n",
      "0                   2             0.7         0.622754            0.683824   \n",
      "482                 1             0.7         0.728873            0.683824   \n",
      "..                ...             ...              ...                 ...   \n",
      "75                  2             0.7         0.622754            0.683824   \n",
      "114                 1             0.7         0.622754            0.683824   \n",
      "292                 2             0.7         0.728873            0.746667   \n",
      "472                 1             0.7         0.728873            0.694444   \n",
      "110                 2             0.7         0.622754            0.683824   \n",
      "\n",
      "     Education_Encoded  \n",
      "359                  1  \n",
      "127                  1  \n",
      "228                  1  \n",
      "0                    1  \n",
      "482                  1  \n",
      "..                 ...  \n",
      "75                   1  \n",
      "114                  1  \n",
      "292                  1  \n",
      "472                  1  \n",
      "110                  1  \n",
      "\n",
      "[451 rows x 19 columns]\n",
      "      Loan_ID  Gender  Married  Dependents  Education  Self_Employed  \\\n",
      "359  LP002160       1        1         3.0          1              0   \n",
      "127  LP001449       1        0         0.0          1              0   \n",
      "228  LP001760       1        1         0.0          1              0   \n",
      "0    LP001002       1        0         0.0          1              0   \n",
      "482  LP002537       1        1         0.0          1              0   \n",
      "..        ...     ...      ...         ...        ...            ...   \n",
      "75   LP001255       1        0         0.0          1              0   \n",
      "114  LP001398       1        0         0.0          1              0   \n",
      "292  LP001940       1        1         2.0          1              0   \n",
      "472  LP002519       1        1         3.0          1              0   \n",
      "110  LP001385       1        0         0.0          1              0   \n",
      "\n",
      "     ApplicantIncome  CoapplicantIncome  LoanAmount  Loan_Amount_Term  \\\n",
      "359           5167.0             3167.0  200.000000             360.0   \n",
      "127           3865.0             1640.0  138.288851             360.0   \n",
      "228           4758.0                0.0  158.000000             480.0   \n",
      "0             5849.0                0.0  138.288851             360.0   \n",
      "482           2083.0             3150.0  128.000000             360.0   \n",
      "..               ...                ...         ...               ...   \n",
      "75            3750.0                0.0  113.000000             480.0   \n",
      "114           5050.0                0.0  118.000000             360.0   \n",
      "292           3153.0             1560.0  134.000000             360.0   \n",
      "472           4691.0                0.0  100.000000             360.0   \n",
      "110           5316.0                0.0  136.000000             360.0   \n",
      "\n",
      "     Credit_History  Property_Area  graduatedMarriedMale  GME  \\\n",
      "359             1.0              1                     1    3   \n",
      "127             1.0              0                     0    2   \n",
      "228             1.0              1                     1    3   \n",
      "0               1.0              2                     0    2   \n",
      "482             1.0              1                     1    3   \n",
      "..              ...            ...                   ...  ...   \n",
      "75              1.0              2                     0    2   \n",
      "114             1.0              1                     0    2   \n",
      "292             1.0              2                     1    3   \n",
      "472             1.0              1                     1    3   \n",
      "110             1.0              2                     0    2   \n",
      "\n",
      "     selfemp_Proparea  Gender_Encoded  Married_Encoded  Dependents_Encoded  \\\n",
      "359                 1             0.7         0.728873            0.694444   \n",
      "127                 0             0.7         0.622754            0.683824   \n",
      "228                 1             0.7         0.728873            0.683824   \n",
      "0                   2             0.7         0.622754            0.683824   \n",
      "482                 1             0.7         0.728873            0.683824   \n",
      "..                ...             ...              ...                 ...   \n",
      "75                  2             0.7         0.622754            0.683824   \n",
      "114                 1             0.7         0.622754            0.683824   \n",
      "292                 2             0.7         0.728873            0.746667   \n",
      "472                 1             0.7         0.728873            0.694444   \n",
      "110                 2             0.7         0.622754            0.683824   \n",
      "\n",
      "     Education_Encoded  Self_Employed_Encoded  \n",
      "359            0.71875                      0  \n",
      "127            0.71875                      0  \n",
      "228            0.71875                      0  \n",
      "0              0.71875                      0  \n",
      "482            0.71875                      0  \n",
      "..                 ...                    ...  \n",
      "75             0.71875                      0  \n",
      "114            0.71875                      0  \n",
      "292            0.71875                      0  \n",
      "472            0.71875                      0  \n",
      "110            0.71875                      0  \n",
      "\n",
      "[451 rows x 20 columns]\n",
      "      Loan_ID  Gender  Married  Dependents  Education  Self_Employed  \\\n",
      "359  LP002160       1        1         3.0          1              0   \n",
      "127  LP001449       1        0         0.0          1              0   \n",
      "228  LP001760       1        1         0.0          1              0   \n",
      "0    LP001002       1        0         0.0          1              0   \n",
      "482  LP002537       1        1         0.0          1              0   \n",
      "..        ...     ...      ...         ...        ...            ...   \n",
      "75   LP001255       1        0         0.0          1              0   \n",
      "114  LP001398       1        0         0.0          1              0   \n",
      "292  LP001940       1        1         2.0          1              0   \n",
      "472  LP002519       1        1         3.0          1              0   \n",
      "110  LP001385       1        0         0.0          1              0   \n",
      "\n",
      "     ApplicantIncome  CoapplicantIncome  LoanAmount  Loan_Amount_Term  ...  \\\n",
      "359           5167.0             3167.0  200.000000             360.0  ...   \n",
      "127           3865.0             1640.0  138.288851             360.0  ...   \n",
      "228           4758.0                0.0  158.000000             480.0  ...   \n",
      "0             5849.0                0.0  138.288851             360.0  ...   \n",
      "482           2083.0             3150.0  128.000000             360.0  ...   \n",
      "..               ...                ...         ...               ...  ...   \n",
      "75            3750.0                0.0  113.000000             480.0  ...   \n",
      "114           5050.0                0.0  118.000000             360.0  ...   \n",
      "292           3153.0             1560.0  134.000000             360.0  ...   \n",
      "472           4691.0                0.0  100.000000             360.0  ...   \n",
      "110           5316.0                0.0  136.000000             360.0  ...   \n",
      "\n",
      "     Property_Area  graduatedMarriedMale  GME  selfemp_Proparea  \\\n",
      "359              1                     1    3                 1   \n",
      "127              0                     0    2                 0   \n",
      "228              1                     1    3                 1   \n",
      "0                2                     0    2                 2   \n",
      "482              1                     1    3                 1   \n",
      "..             ...                   ...  ...               ...   \n",
      "75               2                     0    2                 2   \n",
      "114              1                     0    2                 1   \n",
      "292              2                     1    3                 2   \n",
      "472              1                     1    3                 1   \n",
      "110              2                     0    2                 2   \n",
      "\n",
      "     Gender_Encoded  Married_Encoded  Dependents_Encoded  Education_Encoded  \\\n",
      "359             0.7         0.728873            0.694444            0.71875   \n",
      "127             0.7         0.622754            0.683824            0.71875   \n",
      "228             0.7         0.728873            0.683824            0.71875   \n",
      "0               0.7         0.622754            0.683824            0.71875   \n",
      "482             0.7         0.728873            0.683824            0.71875   \n",
      "..              ...              ...                 ...                ...   \n",
      "75              0.7         0.622754            0.683824            0.71875   \n",
      "114             0.7         0.622754            0.683824            0.71875   \n",
      "292             0.7         0.728873            0.746667            0.71875   \n",
      "472             0.7         0.728873            0.694444            0.71875   \n",
      "110             0.7         0.622754            0.683824            0.71875   \n",
      "\n",
      "     Self_Employed_Encoded  Credit_History_Encoded  \n",
      "359               0.688312                     1.0  \n",
      "127               0.688312                     1.0  \n",
      "228               0.688312                     1.0  \n",
      "0                 0.688312                     1.0  \n",
      "482               0.688312                     1.0  \n",
      "..                     ...                     ...  \n",
      "75                0.688312                     1.0  \n",
      "114               0.688312                     1.0  \n",
      "292               0.688312                     1.0  \n",
      "472               0.688312                     1.0  \n",
      "110               0.688312                     1.0  \n",
      "\n",
      "[451 rows x 21 columns]\n",
      "      Loan_ID  Gender  Married  Dependents  Education  Self_Employed  \\\n",
      "359  LP002160       1        1         3.0          1              0   \n",
      "127  LP001449       1        0         0.0          1              0   \n",
      "228  LP001760       1        1         0.0          1              0   \n",
      "0    LP001002       1        0         0.0          1              0   \n",
      "482  LP002537       1        1         0.0          1              0   \n",
      "..        ...     ...      ...         ...        ...            ...   \n",
      "75   LP001255       1        0         0.0          1              0   \n",
      "114  LP001398       1        0         0.0          1              0   \n",
      "292  LP001940       1        1         2.0          1              0   \n",
      "472  LP002519       1        1         3.0          1              0   \n",
      "110  LP001385       1        0         0.0          1              0   \n",
      "\n",
      "     ApplicantIncome  CoapplicantIncome  LoanAmount  Loan_Amount_Term  ...  \\\n",
      "359           5167.0             3167.0  200.000000             360.0  ...   \n",
      "127           3865.0             1640.0  138.288851             360.0  ...   \n",
      "228           4758.0                0.0  158.000000             480.0  ...   \n",
      "0             5849.0                0.0  138.288851             360.0  ...   \n",
      "482           2083.0             3150.0  128.000000             360.0  ...   \n",
      "..               ...                ...         ...               ...  ...   \n",
      "75            3750.0                0.0  113.000000             480.0  ...   \n",
      "114           5050.0                0.0  118.000000             360.0  ...   \n",
      "292           3153.0             1560.0  134.000000             360.0  ...   \n",
      "472           4691.0                0.0  100.000000             360.0  ...   \n",
      "110           5316.0                0.0  136.000000             360.0  ...   \n",
      "\n",
      "     graduatedMarriedMale  GME  selfemp_Proparea  Gender_Encoded  \\\n",
      "359                     1    3                 1             0.7   \n",
      "127                     0    2                 0             0.7   \n",
      "228                     1    3                 1             0.7   \n",
      "0                       0    2                 2             0.7   \n",
      "482                     1    3                 1             0.7   \n",
      "..                    ...  ...               ...             ...   \n",
      "75                      0    2                 2             0.7   \n",
      "114                     0    2                 1             0.7   \n",
      "292                     1    3                 2             0.7   \n",
      "472                     1    3                 1             0.7   \n",
      "110                     0    2                 2             0.7   \n",
      "\n",
      "     Married_Encoded  Dependents_Encoded  Education_Encoded  \\\n",
      "359         0.728873            0.694444            0.71875   \n",
      "127         0.622754            0.683824            0.71875   \n",
      "228         0.728873            0.683824            0.71875   \n",
      "0           0.622754            0.683824            0.71875   \n",
      "482         0.728873            0.683824            0.71875   \n",
      "..               ...                 ...                ...   \n",
      "75          0.622754            0.683824            0.71875   \n",
      "114         0.622754            0.683824            0.71875   \n",
      "292         0.728873            0.746667            0.71875   \n",
      "472         0.728873            0.694444            0.71875   \n",
      "110         0.622754            0.683824            0.71875   \n",
      "\n",
      "     Self_Employed_Encoded  Credit_History_Encoded  Property_Area_Encoded  \n",
      "359               0.688312                0.794271                      1  \n",
      "127               0.688312                0.794271                      0  \n",
      "228               0.688312                0.794271                      1  \n",
      "0                 0.688312                0.794271                      2  \n",
      "482               0.688312                0.794271                      1  \n",
      "..                     ...                     ...                    ...  \n",
      "75                0.688312                0.794271                      2  \n",
      "114               0.688312                0.794271                      1  \n",
      "292               0.688312                0.794271                      2  \n",
      "472               0.688312                0.794271                      1  \n",
      "110               0.688312                0.794271                      2  \n",
      "\n",
      "[451 rows x 22 columns]\n",
      "      Loan_ID  Gender  Married  Dependents  Education  Self_Employed  \\\n",
      "359  LP002160       1        1         3.0          1              0   \n",
      "127  LP001449       1        0         0.0          1              0   \n",
      "228  LP001760       1        1         0.0          1              0   \n",
      "0    LP001002       1        0         0.0          1              0   \n",
      "482  LP002537       1        1         0.0          1              0   \n",
      "..        ...     ...      ...         ...        ...            ...   \n",
      "75   LP001255       1        0         0.0          1              0   \n",
      "114  LP001398       1        0         0.0          1              0   \n",
      "292  LP001940       1        1         2.0          1              0   \n",
      "472  LP002519       1        1         3.0          1              0   \n",
      "110  LP001385       1        0         0.0          1              0   \n",
      "\n",
      "     ApplicantIncome  CoapplicantIncome  LoanAmount  Loan_Amount_Term  ...  \\\n",
      "359           5167.0             3167.0  200.000000             360.0  ...   \n",
      "127           3865.0             1640.0  138.288851             360.0  ...   \n",
      "228           4758.0                0.0  158.000000             480.0  ...   \n",
      "0             5849.0                0.0  138.288851             360.0  ...   \n",
      "482           2083.0             3150.0  128.000000             360.0  ...   \n",
      "..               ...                ...         ...               ...  ...   \n",
      "75            3750.0                0.0  113.000000             480.0  ...   \n",
      "114           5050.0                0.0  118.000000             360.0  ...   \n",
      "292           3153.0             1560.0  134.000000             360.0  ...   \n",
      "472           4691.0                0.0  100.000000             360.0  ...   \n",
      "110           5316.0                0.0  136.000000             360.0  ...   \n",
      "\n",
      "     GME  selfemp_Proparea  Gender_Encoded  Married_Encoded  \\\n",
      "359    3                 1             0.7         0.728873   \n",
      "127    2                 0             0.7         0.622754   \n",
      "228    3                 1             0.7         0.728873   \n",
      "0      2                 2             0.7         0.622754   \n",
      "482    3                 1             0.7         0.728873   \n",
      "..   ...               ...             ...              ...   \n",
      "75     2                 2             0.7         0.622754   \n",
      "114    2                 1             0.7         0.622754   \n",
      "292    3                 2             0.7         0.728873   \n",
      "472    3                 1             0.7         0.728873   \n",
      "110    2                 2             0.7         0.622754   \n",
      "\n",
      "     Dependents_Encoded  Education_Encoded  Self_Employed_Encoded  \\\n",
      "359            0.694444            0.71875               0.688312   \n",
      "127            0.683824            0.71875               0.688312   \n",
      "228            0.683824            0.71875               0.688312   \n",
      "0              0.683824            0.71875               0.688312   \n",
      "482            0.683824            0.71875               0.688312   \n",
      "..                  ...                ...                    ...   \n",
      "75             0.683824            0.71875               0.688312   \n",
      "114            0.683824            0.71875               0.688312   \n",
      "292            0.746667            0.71875               0.688312   \n",
      "472            0.694444            0.71875               0.688312   \n",
      "110            0.683824            0.71875               0.688312   \n",
      "\n",
      "     Credit_History_Encoded  Property_Area_Encoded  \\\n",
      "359                0.794271               0.761364   \n",
      "127                0.794271               0.615942   \n",
      "228                0.794271               0.761364   \n",
      "0                  0.794271               0.671533   \n",
      "482                0.794271               0.761364   \n",
      "..                      ...                    ...   \n",
      "75                 0.794271               0.671533   \n",
      "114                0.794271               0.761364   \n",
      "292                0.794271               0.671533   \n",
      "472                0.794271               0.761364   \n",
      "110                0.794271               0.671533   \n",
      "\n",
      "     graduatedMarriedMale_Encoded  \n",
      "359                             1  \n",
      "127                             0  \n",
      "228                             1  \n",
      "0                               0  \n",
      "482                             1  \n",
      "..                            ...  \n",
      "75                              0  \n",
      "114                             0  \n",
      "292                             1  \n",
      "472                             1  \n",
      "110                             0  \n",
      "\n",
      "[451 rows x 23 columns]\n",
      "      Loan_ID  Gender  Married  Dependents  Education  Self_Employed  \\\n",
      "359  LP002160       1        1         3.0          1              0   \n",
      "127  LP001449       1        0         0.0          1              0   \n",
      "228  LP001760       1        1         0.0          1              0   \n",
      "0    LP001002       1        0         0.0          1              0   \n",
      "482  LP002537       1        1         0.0          1              0   \n",
      "..        ...     ...      ...         ...        ...            ...   \n",
      "75   LP001255       1        0         0.0          1              0   \n",
      "114  LP001398       1        0         0.0          1              0   \n",
      "292  LP001940       1        1         2.0          1              0   \n",
      "472  LP002519       1        1         3.0          1              0   \n",
      "110  LP001385       1        0         0.0          1              0   \n",
      "\n",
      "     ApplicantIncome  CoapplicantIncome  LoanAmount  Loan_Amount_Term  ...  \\\n",
      "359           5167.0             3167.0  200.000000             360.0  ...   \n",
      "127           3865.0             1640.0  138.288851             360.0  ...   \n",
      "228           4758.0                0.0  158.000000             480.0  ...   \n",
      "0             5849.0                0.0  138.288851             360.0  ...   \n",
      "482           2083.0             3150.0  128.000000             360.0  ...   \n",
      "..               ...                ...         ...               ...  ...   \n",
      "75            3750.0                0.0  113.000000             480.0  ...   \n",
      "114           5050.0                0.0  118.000000             360.0  ...   \n",
      "292           3153.0             1560.0  134.000000             360.0  ...   \n",
      "472           4691.0                0.0  100.000000             360.0  ...   \n",
      "110           5316.0                0.0  136.000000             360.0  ...   \n",
      "\n",
      "     selfemp_Proparea  Gender_Encoded  Married_Encoded  Dependents_Encoded  \\\n",
      "359                 1             0.7         0.728873            0.694444   \n",
      "127                 0             0.7         0.622754            0.683824   \n",
      "228                 1             0.7         0.728873            0.683824   \n",
      "0                   2             0.7         0.622754            0.683824   \n",
      "482                 1             0.7         0.728873            0.683824   \n",
      "..                ...             ...              ...                 ...   \n",
      "75                  2             0.7         0.622754            0.683824   \n",
      "114                 1             0.7         0.622754            0.683824   \n",
      "292                 2             0.7         0.728873            0.746667   \n",
      "472                 1             0.7         0.728873            0.694444   \n",
      "110                 2             0.7         0.622754            0.683824   \n",
      "\n",
      "     Education_Encoded  Self_Employed_Encoded  Credit_History_Encoded  \\\n",
      "359            0.71875               0.688312                0.794271   \n",
      "127            0.71875               0.688312                0.794271   \n",
      "228            0.71875               0.688312                0.794271   \n",
      "0              0.71875               0.688312                0.794271   \n",
      "482            0.71875               0.688312                0.794271   \n",
      "..                 ...                    ...                     ...   \n",
      "75             0.71875               0.688312                0.794271   \n",
      "114            0.71875               0.688312                0.794271   \n",
      "292            0.71875               0.688312                0.794271   \n",
      "472            0.71875               0.688312                0.794271   \n",
      "110            0.71875               0.688312                0.794271   \n",
      "\n",
      "     Property_Area_Encoded  graduatedMarriedMale_Encoded  GME_Encoded  \n",
      "359               0.761364                      0.782609            3  \n",
      "127               0.615942                      0.610656            2  \n",
      "228               0.761364                      0.782609            3  \n",
      "0                 0.671533                      0.610656            2  \n",
      "482               0.761364                      0.782609            3  \n",
      "..                     ...                           ...          ...  \n",
      "75                0.671533                      0.610656            2  \n",
      "114               0.761364                      0.610656            2  \n",
      "292               0.671533                      0.782609            3  \n",
      "472               0.761364                      0.782609            3  \n",
      "110               0.671533                      0.610656            2  \n",
      "\n",
      "[451 rows x 24 columns]\n",
      "      Loan_ID  Gender  Married  Dependents  Education  Self_Employed  \\\n",
      "359  LP002160       1        1         3.0          1              0   \n",
      "127  LP001449       1        0         0.0          1              0   \n",
      "228  LP001760       1        1         0.0          1              0   \n",
      "0    LP001002       1        0         0.0          1              0   \n",
      "482  LP002537       1        1         0.0          1              0   \n",
      "..        ...     ...      ...         ...        ...            ...   \n",
      "75   LP001255       1        0         0.0          1              0   \n",
      "114  LP001398       1        0         0.0          1              0   \n",
      "292  LP001940       1        1         2.0          1              0   \n",
      "472  LP002519       1        1         3.0          1              0   \n",
      "110  LP001385       1        0         0.0          1              0   \n",
      "\n",
      "     ApplicantIncome  CoapplicantIncome  LoanAmount  Loan_Amount_Term  ...  \\\n",
      "359           5167.0             3167.0  200.000000             360.0  ...   \n",
      "127           3865.0             1640.0  138.288851             360.0  ...   \n",
      "228           4758.0                0.0  158.000000             480.0  ...   \n",
      "0             5849.0                0.0  138.288851             360.0  ...   \n",
      "482           2083.0             3150.0  128.000000             360.0  ...   \n",
      "..               ...                ...         ...               ...  ...   \n",
      "75            3750.0                0.0  113.000000             480.0  ...   \n",
      "114           5050.0                0.0  118.000000             360.0  ...   \n",
      "292           3153.0             1560.0  134.000000             360.0  ...   \n",
      "472           4691.0                0.0  100.000000             360.0  ...   \n",
      "110           5316.0                0.0  136.000000             360.0  ...   \n",
      "\n",
      "     Gender_Encoded  Married_Encoded  Dependents_Encoded  Education_Encoded  \\\n",
      "359             0.7         0.728873            0.694444            0.71875   \n",
      "127             0.7         0.622754            0.683824            0.71875   \n",
      "228             0.7         0.728873            0.683824            0.71875   \n",
      "0               0.7         0.622754            0.683824            0.71875   \n",
      "482             0.7         0.728873            0.683824            0.71875   \n",
      "..              ...              ...                 ...                ...   \n",
      "75              0.7         0.622754            0.683824            0.71875   \n",
      "114             0.7         0.622754            0.683824            0.71875   \n",
      "292             0.7         0.728873            0.746667            0.71875   \n",
      "472             0.7         0.728873            0.694444            0.71875   \n",
      "110             0.7         0.622754            0.683824            0.71875   \n",
      "\n",
      "     Self_Employed_Encoded  Credit_History_Encoded  Property_Area_Encoded  \\\n",
      "359               0.688312                0.794271               0.761364   \n",
      "127               0.688312                0.794271               0.615942   \n",
      "228               0.688312                0.794271               0.761364   \n",
      "0                 0.688312                0.794271               0.671533   \n",
      "482               0.688312                0.794271               0.761364   \n",
      "..                     ...                     ...                    ...   \n",
      "75                0.688312                0.794271               0.671533   \n",
      "114               0.688312                0.794271               0.761364   \n",
      "292               0.688312                0.794271               0.671533   \n",
      "472               0.688312                0.794271               0.761364   \n",
      "110               0.688312                0.794271               0.671533   \n",
      "\n",
      "     graduatedMarriedMale_Encoded  GME_Encoded  selfemp_Proparea_Encoded  \n",
      "359                      0.782609     0.782609                         1  \n",
      "127                      0.610656     0.607843                         0  \n",
      "228                      0.782609     0.782609                         1  \n",
      "0                        0.610656     0.607843                         2  \n",
      "482                      0.782609     0.782609                         1  \n",
      "..                            ...          ...                       ...  \n",
      "75                       0.610656     0.607843                         2  \n",
      "114                      0.610656     0.607843                         1  \n",
      "292                      0.782609     0.782609                         2  \n",
      "472                      0.782609     0.782609                         1  \n",
      "110                      0.610656     0.607843                         2  \n",
      "\n",
      "[451 rows x 25 columns]\n"
     ]
    }
   ],
   "source": [
    "x_train, x_test = targetEncode(x_train, x_test, y_train, ['Gender', 'Married', 'Dependents', 'Education', 'Self_Employed', 'Credit_History', 'Property_Area', 'graduatedMarriedMale', 'GME', 'selfemp_Proparea'])"
   ],
   "metadata": {
    "collapsed": false
   }
  },
  {
   "cell_type": "code",
   "execution_count": 64,
   "outputs": [],
   "source": [
    "x_train.drop(['Gender', 'Married', 'Dependents', 'Education', 'Self_Employed', 'Credit_History', 'Property_Area', 'graduatedMarriedMale', 'GME', 'selfemp_Proparea'], axis=1, inplace=True)"
   ],
   "metadata": {
    "collapsed": false
   }
  },
  {
   "cell_type": "code",
   "execution_count": 65,
   "outputs": [
    {
     "data": {
      "text/plain": "      Loan_ID  ApplicantIncome  CoapplicantIncome  LoanAmount  \\\n359  LP002160           5167.0             3167.0  200.000000   \n127  LP001449           3865.0             1640.0  138.288851   \n228  LP001760           4758.0                0.0  158.000000   \n0    LP001002           5849.0                0.0  138.288851   \n482  LP002537           2083.0             3150.0  128.000000   \n..        ...              ...                ...         ...   \n75   LP001255           3750.0                0.0  113.000000   \n114  LP001398           5050.0                0.0  118.000000   \n292  LP001940           3153.0             1560.0  134.000000   \n472  LP002519           4691.0                0.0  100.000000   \n110  LP001385           5316.0                0.0  136.000000   \n\n     Loan_Amount_Term  Gender_Encoded  Married_Encoded  Dependents_Encoded  \\\n359             360.0             0.7         0.728873            0.694444   \n127             360.0             0.7         0.622754            0.683824   \n228             480.0             0.7         0.728873            0.683824   \n0               360.0             0.7         0.622754            0.683824   \n482             360.0             0.7         0.728873            0.683824   \n..                ...             ...              ...                 ...   \n75              480.0             0.7         0.622754            0.683824   \n114             360.0             0.7         0.622754            0.683824   \n292             360.0             0.7         0.728873            0.746667   \n472             360.0             0.7         0.728873            0.694444   \n110             360.0             0.7         0.622754            0.683824   \n\n     Education_Encoded  Self_Employed_Encoded  Credit_History_Encoded  \\\n359            0.71875               0.688312                0.794271   \n127            0.71875               0.688312                0.794271   \n228            0.71875               0.688312                0.794271   \n0              0.71875               0.688312                0.794271   \n482            0.71875               0.688312                0.794271   \n..                 ...                    ...                     ...   \n75             0.71875               0.688312                0.794271   \n114            0.71875               0.688312                0.794271   \n292            0.71875               0.688312                0.794271   \n472            0.71875               0.688312                0.794271   \n110            0.71875               0.688312                0.794271   \n\n     Property_Area_Encoded  graduatedMarriedMale_Encoded  GME_Encoded  \\\n359               0.761364                      0.782609     0.782609   \n127               0.615942                      0.610656     0.607843   \n228               0.761364                      0.782609     0.782609   \n0                 0.671533                      0.610656     0.607843   \n482               0.761364                      0.782609     0.782609   \n..                     ...                           ...          ...   \n75                0.671533                      0.610656     0.607843   \n114               0.761364                      0.610656     0.607843   \n292               0.671533                      0.782609     0.782609   \n472               0.761364                      0.782609     0.782609   \n110               0.671533                      0.610656     0.607843   \n\n     selfemp_Proparea_Encoded  \n359                  0.738636  \n127                  0.610619  \n228                  0.738636  \n0                    0.698630  \n482                  0.738636  \n..                        ...  \n75                   0.698630  \n114                  0.738636  \n292                  0.698630  \n472                  0.738636  \n110                  0.698630  \n\n[451 rows x 15 columns]",
      "text/html": "<div>\n<style scoped>\n    .dataframe tbody tr th:only-of-type {\n        vertical-align: middle;\n    }\n\n    .dataframe tbody tr th {\n        vertical-align: top;\n    }\n\n    .dataframe thead th {\n        text-align: right;\n    }\n</style>\n<table border=\"1\" class=\"dataframe\">\n  <thead>\n    <tr style=\"text-align: right;\">\n      <th></th>\n      <th>Loan_ID</th>\n      <th>ApplicantIncome</th>\n      <th>CoapplicantIncome</th>\n      <th>LoanAmount</th>\n      <th>Loan_Amount_Term</th>\n      <th>Gender_Encoded</th>\n      <th>Married_Encoded</th>\n      <th>Dependents_Encoded</th>\n      <th>Education_Encoded</th>\n      <th>Self_Employed_Encoded</th>\n      <th>Credit_History_Encoded</th>\n      <th>Property_Area_Encoded</th>\n      <th>graduatedMarriedMale_Encoded</th>\n      <th>GME_Encoded</th>\n      <th>selfemp_Proparea_Encoded</th>\n    </tr>\n  </thead>\n  <tbody>\n    <tr>\n      <th>359</th>\n      <td>LP002160</td>\n      <td>5167.0</td>\n      <td>3167.0</td>\n      <td>200.000000</td>\n      <td>360.0</td>\n      <td>0.7</td>\n      <td>0.728873</td>\n      <td>0.694444</td>\n      <td>0.71875</td>\n      <td>0.688312</td>\n      <td>0.794271</td>\n      <td>0.761364</td>\n      <td>0.782609</td>\n      <td>0.782609</td>\n      <td>0.738636</td>\n    </tr>\n    <tr>\n      <th>127</th>\n      <td>LP001449</td>\n      <td>3865.0</td>\n      <td>1640.0</td>\n      <td>138.288851</td>\n      <td>360.0</td>\n      <td>0.7</td>\n      <td>0.622754</td>\n      <td>0.683824</td>\n      <td>0.71875</td>\n      <td>0.688312</td>\n      <td>0.794271</td>\n      <td>0.615942</td>\n      <td>0.610656</td>\n      <td>0.607843</td>\n      <td>0.610619</td>\n    </tr>\n    <tr>\n      <th>228</th>\n      <td>LP001760</td>\n      <td>4758.0</td>\n      <td>0.0</td>\n      <td>158.000000</td>\n      <td>480.0</td>\n      <td>0.7</td>\n      <td>0.728873</td>\n      <td>0.683824</td>\n      <td>0.71875</td>\n      <td>0.688312</td>\n      <td>0.794271</td>\n      <td>0.761364</td>\n      <td>0.782609</td>\n      <td>0.782609</td>\n      <td>0.738636</td>\n    </tr>\n    <tr>\n      <th>0</th>\n      <td>LP001002</td>\n      <td>5849.0</td>\n      <td>0.0</td>\n      <td>138.288851</td>\n      <td>360.0</td>\n      <td>0.7</td>\n      <td>0.622754</td>\n      <td>0.683824</td>\n      <td>0.71875</td>\n      <td>0.688312</td>\n      <td>0.794271</td>\n      <td>0.671533</td>\n      <td>0.610656</td>\n      <td>0.607843</td>\n      <td>0.698630</td>\n    </tr>\n    <tr>\n      <th>482</th>\n      <td>LP002537</td>\n      <td>2083.0</td>\n      <td>3150.0</td>\n      <td>128.000000</td>\n      <td>360.0</td>\n      <td>0.7</td>\n      <td>0.728873</td>\n      <td>0.683824</td>\n      <td>0.71875</td>\n      <td>0.688312</td>\n      <td>0.794271</td>\n      <td>0.761364</td>\n      <td>0.782609</td>\n      <td>0.782609</td>\n      <td>0.738636</td>\n    </tr>\n    <tr>\n      <th>...</th>\n      <td>...</td>\n      <td>...</td>\n      <td>...</td>\n      <td>...</td>\n      <td>...</td>\n      <td>...</td>\n      <td>...</td>\n      <td>...</td>\n      <td>...</td>\n      <td>...</td>\n      <td>...</td>\n      <td>...</td>\n      <td>...</td>\n      <td>...</td>\n      <td>...</td>\n    </tr>\n    <tr>\n      <th>75</th>\n      <td>LP001255</td>\n      <td>3750.0</td>\n      <td>0.0</td>\n      <td>113.000000</td>\n      <td>480.0</td>\n      <td>0.7</td>\n      <td>0.622754</td>\n      <td>0.683824</td>\n      <td>0.71875</td>\n      <td>0.688312</td>\n      <td>0.794271</td>\n      <td>0.671533</td>\n      <td>0.610656</td>\n      <td>0.607843</td>\n      <td>0.698630</td>\n    </tr>\n    <tr>\n      <th>114</th>\n      <td>LP001398</td>\n      <td>5050.0</td>\n      <td>0.0</td>\n      <td>118.000000</td>\n      <td>360.0</td>\n      <td>0.7</td>\n      <td>0.622754</td>\n      <td>0.683824</td>\n      <td>0.71875</td>\n      <td>0.688312</td>\n      <td>0.794271</td>\n      <td>0.761364</td>\n      <td>0.610656</td>\n      <td>0.607843</td>\n      <td>0.738636</td>\n    </tr>\n    <tr>\n      <th>292</th>\n      <td>LP001940</td>\n      <td>3153.0</td>\n      <td>1560.0</td>\n      <td>134.000000</td>\n      <td>360.0</td>\n      <td>0.7</td>\n      <td>0.728873</td>\n      <td>0.746667</td>\n      <td>0.71875</td>\n      <td>0.688312</td>\n      <td>0.794271</td>\n      <td>0.671533</td>\n      <td>0.782609</td>\n      <td>0.782609</td>\n      <td>0.698630</td>\n    </tr>\n    <tr>\n      <th>472</th>\n      <td>LP002519</td>\n      <td>4691.0</td>\n      <td>0.0</td>\n      <td>100.000000</td>\n      <td>360.0</td>\n      <td>0.7</td>\n      <td>0.728873</td>\n      <td>0.694444</td>\n      <td>0.71875</td>\n      <td>0.688312</td>\n      <td>0.794271</td>\n      <td>0.761364</td>\n      <td>0.782609</td>\n      <td>0.782609</td>\n      <td>0.738636</td>\n    </tr>\n    <tr>\n      <th>110</th>\n      <td>LP001385</td>\n      <td>5316.0</td>\n      <td>0.0</td>\n      <td>136.000000</td>\n      <td>360.0</td>\n      <td>0.7</td>\n      <td>0.622754</td>\n      <td>0.683824</td>\n      <td>0.71875</td>\n      <td>0.688312</td>\n      <td>0.794271</td>\n      <td>0.671533</td>\n      <td>0.610656</td>\n      <td>0.607843</td>\n      <td>0.698630</td>\n    </tr>\n  </tbody>\n</table>\n<p>451 rows × 15 columns</p>\n</div>"
     },
     "execution_count": 65,
     "metadata": {},
     "output_type": "execute_result"
    }
   ],
   "source": [
    "x_train"
   ],
   "metadata": {
    "collapsed": false
   }
  },
  {
   "cell_type": "code",
   "execution_count": 66,
   "outputs": [],
   "source": [
    "x_test.drop(['Gender', 'Married', 'Dependents', 'Education', 'Self_Employed', 'Credit_History', 'Property_Area', 'graduatedMarriedMale', 'GME', 'selfemp_Proparea'], axis=1, inplace=True)"
   ],
   "metadata": {
    "collapsed": false
   }
  },
  {
   "cell_type": "code",
   "execution_count": 67,
   "outputs": [
    {
     "data": {
      "text/plain": "      Loan_ID  ApplicantIncome  CoapplicantIncome  LoanAmount  \\\n586  LP002916           2297.0           1522.000       104.0   \n570  LP002842           3417.0           1750.000       186.0   \n253  LP001843           2661.0           5743.125       270.0   \n571  LP002847           5116.0           1451.000       165.0   \n528  LP002714           2679.0           1302.000        94.0   \n..        ...              ...                ...         ...   \n208  LP001699           2479.0              0.000        59.0   \n96   LP001327           2484.0           2302.000       137.0   \n569  LP002841           3166.0           2064.000       104.0   \n402  LP002297           2500.0           5743.125       103.0   \n36   LP001109           1828.0           1330.000       100.0   \n\n     Loan_Amount_Term  Gender_Encoded  Married_Encoded  Dependents_Encoded  \\\n586             360.0        0.700000         0.728873            0.683824   \n570             360.0        0.700000         0.728873            0.647059   \n253             180.0        0.700000         0.728873            0.647059   \n571             360.0        0.700000         0.728873            0.683824   \n528             360.0        0.700000         0.622754            0.647059   \n..                ...             ...              ...                 ...   \n208             360.0        0.700000         0.622754            0.683824   \n96              360.0        0.641975         0.728873            0.683824   \n569             360.0        0.700000         0.728873            0.683824   \n402             360.0        0.700000         0.622754            0.683824   \n36              360.0        0.700000         0.728873            0.683824   \n\n     Education_Encoded  Self_Employed_Encoded  Credit_History_Encoded  \\\n586           0.718750               0.688312                0.794271   \n570           0.718750               0.688312                0.794271   \n253           0.585859               0.688312                0.794271   \n571           0.718750               0.688312                0.089552   \n528           0.585859               0.688312                0.794271   \n..                 ...                    ...                     ...   \n208           0.718750               0.688312                0.794271   \n96            0.718750               0.688312                0.794271   \n569           0.718750               0.688312                0.089552   \n402           0.718750               0.688312                0.794271   \n36            0.718750               0.688312                0.089552   \n\n     Property_Area_Encoded  graduatedMarriedMale_Encoded  GME_Encoded  \\\n586               0.671533                      0.782609     0.782609   \n570               0.671533                      0.782609     0.782609   \n253               0.761364                      0.610656     0.607843   \n571               0.671533                      0.782609     0.782609   \n528               0.761364                      0.610656     0.594937   \n..                     ...                           ...          ...   \n208               0.671533                      0.610656     0.607843   \n96                0.761364                      0.610656     0.607843   \n569               0.671533                      0.782609     0.782609   \n402               0.761364                      0.610656     0.607843   \n36                0.671533                      0.782609     0.782609   \n\n     selfemp_Proparea_Encoded  \n586                  0.698630  \n570                  0.698630  \n253                  0.738636  \n571                  0.698630  \n528                  0.738636  \n..                        ...  \n208                  0.698630  \n96                   0.738636  \n569                  0.698630  \n402                  0.738636  \n36                   0.698630  \n\n[113 rows x 15 columns]",
      "text/html": "<div>\n<style scoped>\n    .dataframe tbody tr th:only-of-type {\n        vertical-align: middle;\n    }\n\n    .dataframe tbody tr th {\n        vertical-align: top;\n    }\n\n    .dataframe thead th {\n        text-align: right;\n    }\n</style>\n<table border=\"1\" class=\"dataframe\">\n  <thead>\n    <tr style=\"text-align: right;\">\n      <th></th>\n      <th>Loan_ID</th>\n      <th>ApplicantIncome</th>\n      <th>CoapplicantIncome</th>\n      <th>LoanAmount</th>\n      <th>Loan_Amount_Term</th>\n      <th>Gender_Encoded</th>\n      <th>Married_Encoded</th>\n      <th>Dependents_Encoded</th>\n      <th>Education_Encoded</th>\n      <th>Self_Employed_Encoded</th>\n      <th>Credit_History_Encoded</th>\n      <th>Property_Area_Encoded</th>\n      <th>graduatedMarriedMale_Encoded</th>\n      <th>GME_Encoded</th>\n      <th>selfemp_Proparea_Encoded</th>\n    </tr>\n  </thead>\n  <tbody>\n    <tr>\n      <th>586</th>\n      <td>LP002916</td>\n      <td>2297.0</td>\n      <td>1522.000</td>\n      <td>104.0</td>\n      <td>360.0</td>\n      <td>0.700000</td>\n      <td>0.728873</td>\n      <td>0.683824</td>\n      <td>0.718750</td>\n      <td>0.688312</td>\n      <td>0.794271</td>\n      <td>0.671533</td>\n      <td>0.782609</td>\n      <td>0.782609</td>\n      <td>0.698630</td>\n    </tr>\n    <tr>\n      <th>570</th>\n      <td>LP002842</td>\n      <td>3417.0</td>\n      <td>1750.000</td>\n      <td>186.0</td>\n      <td>360.0</td>\n      <td>0.700000</td>\n      <td>0.728873</td>\n      <td>0.647059</td>\n      <td>0.718750</td>\n      <td>0.688312</td>\n      <td>0.794271</td>\n      <td>0.671533</td>\n      <td>0.782609</td>\n      <td>0.782609</td>\n      <td>0.698630</td>\n    </tr>\n    <tr>\n      <th>253</th>\n      <td>LP001843</td>\n      <td>2661.0</td>\n      <td>5743.125</td>\n      <td>270.0</td>\n      <td>180.0</td>\n      <td>0.700000</td>\n      <td>0.728873</td>\n      <td>0.647059</td>\n      <td>0.585859</td>\n      <td>0.688312</td>\n      <td>0.794271</td>\n      <td>0.761364</td>\n      <td>0.610656</td>\n      <td>0.607843</td>\n      <td>0.738636</td>\n    </tr>\n    <tr>\n      <th>571</th>\n      <td>LP002847</td>\n      <td>5116.0</td>\n      <td>1451.000</td>\n      <td>165.0</td>\n      <td>360.0</td>\n      <td>0.700000</td>\n      <td>0.728873</td>\n      <td>0.683824</td>\n      <td>0.718750</td>\n      <td>0.688312</td>\n      <td>0.089552</td>\n      <td>0.671533</td>\n      <td>0.782609</td>\n      <td>0.782609</td>\n      <td>0.698630</td>\n    </tr>\n    <tr>\n      <th>528</th>\n      <td>LP002714</td>\n      <td>2679.0</td>\n      <td>1302.000</td>\n      <td>94.0</td>\n      <td>360.0</td>\n      <td>0.700000</td>\n      <td>0.622754</td>\n      <td>0.647059</td>\n      <td>0.585859</td>\n      <td>0.688312</td>\n      <td>0.794271</td>\n      <td>0.761364</td>\n      <td>0.610656</td>\n      <td>0.594937</td>\n      <td>0.738636</td>\n    </tr>\n    <tr>\n      <th>...</th>\n      <td>...</td>\n      <td>...</td>\n      <td>...</td>\n      <td>...</td>\n      <td>...</td>\n      <td>...</td>\n      <td>...</td>\n      <td>...</td>\n      <td>...</td>\n      <td>...</td>\n      <td>...</td>\n      <td>...</td>\n      <td>...</td>\n      <td>...</td>\n      <td>...</td>\n    </tr>\n    <tr>\n      <th>208</th>\n      <td>LP001699</td>\n      <td>2479.0</td>\n      <td>0.000</td>\n      <td>59.0</td>\n      <td>360.0</td>\n      <td>0.700000</td>\n      <td>0.622754</td>\n      <td>0.683824</td>\n      <td>0.718750</td>\n      <td>0.688312</td>\n      <td>0.794271</td>\n      <td>0.671533</td>\n      <td>0.610656</td>\n      <td>0.607843</td>\n      <td>0.698630</td>\n    </tr>\n    <tr>\n      <th>96</th>\n      <td>LP001327</td>\n      <td>2484.0</td>\n      <td>2302.000</td>\n      <td>137.0</td>\n      <td>360.0</td>\n      <td>0.641975</td>\n      <td>0.728873</td>\n      <td>0.683824</td>\n      <td>0.718750</td>\n      <td>0.688312</td>\n      <td>0.794271</td>\n      <td>0.761364</td>\n      <td>0.610656</td>\n      <td>0.607843</td>\n      <td>0.738636</td>\n    </tr>\n    <tr>\n      <th>569</th>\n      <td>LP002841</td>\n      <td>3166.0</td>\n      <td>2064.000</td>\n      <td>104.0</td>\n      <td>360.0</td>\n      <td>0.700000</td>\n      <td>0.728873</td>\n      <td>0.683824</td>\n      <td>0.718750</td>\n      <td>0.688312</td>\n      <td>0.089552</td>\n      <td>0.671533</td>\n      <td>0.782609</td>\n      <td>0.782609</td>\n      <td>0.698630</td>\n    </tr>\n    <tr>\n      <th>402</th>\n      <td>LP002297</td>\n      <td>2500.0</td>\n      <td>5743.125</td>\n      <td>103.0</td>\n      <td>360.0</td>\n      <td>0.700000</td>\n      <td>0.622754</td>\n      <td>0.683824</td>\n      <td>0.718750</td>\n      <td>0.688312</td>\n      <td>0.794271</td>\n      <td>0.761364</td>\n      <td>0.610656</td>\n      <td>0.607843</td>\n      <td>0.738636</td>\n    </tr>\n    <tr>\n      <th>36</th>\n      <td>LP001109</td>\n      <td>1828.0</td>\n      <td>1330.000</td>\n      <td>100.0</td>\n      <td>360.0</td>\n      <td>0.700000</td>\n      <td>0.728873</td>\n      <td>0.683824</td>\n      <td>0.718750</td>\n      <td>0.688312</td>\n      <td>0.089552</td>\n      <td>0.671533</td>\n      <td>0.782609</td>\n      <td>0.782609</td>\n      <td>0.698630</td>\n    </tr>\n  </tbody>\n</table>\n<p>113 rows × 15 columns</p>\n</div>"
     },
     "execution_count": 67,
     "metadata": {},
     "output_type": "execute_result"
    }
   ],
   "source": [
    "x_test"
   ],
   "metadata": {
    "collapsed": false
   }
  },
  {
   "cell_type": "markdown",
   "source": [
    "<h3>Feature Selection</h3>"
   ],
   "metadata": {
    "collapsed": false
   }
  },
  {
   "cell_type": "markdown",
   "source": [
    "<h5>Using Recursive Feature Elimination (RFE)</h5>"
   ],
   "metadata": {
    "collapsed": false
   }
  },
  {
   "cell_type": "code",
   "execution_count": 68,
   "outputs": [],
   "source": [
    "rfe = RFE(LogisticRegression())"
   ],
   "metadata": {
    "collapsed": false
   }
  },
  {
   "cell_type": "code",
   "execution_count": 69,
   "outputs": [
    {
     "name": "stderr",
     "output_type": "stream",
     "text": [
      "C:\\Users\\ituser\\anaconda3\\lib\\site-packages\\sklearn\\utils\\validation.py:993: DataConversionWarning: A column-vector y was passed when a 1d array was expected. Please change the shape of y to (n_samples, ), for example using ravel().\n",
      "  y = column_or_1d(y, warn=True)\n",
      "C:\\Users\\ituser\\anaconda3\\lib\\site-packages\\sklearn\\utils\\validation.py:993: DataConversionWarning: A column-vector y was passed when a 1d array was expected. Please change the shape of y to (n_samples, ), for example using ravel().\n",
      "  y = column_or_1d(y, warn=True)\n",
      "C:\\Users\\ituser\\anaconda3\\lib\\site-packages\\sklearn\\utils\\validation.py:993: DataConversionWarning: A column-vector y was passed when a 1d array was expected. Please change the shape of y to (n_samples, ), for example using ravel().\n",
      "  y = column_or_1d(y, warn=True)\n",
      "C:\\Users\\ituser\\anaconda3\\lib\\site-packages\\sklearn\\linear_model\\_logistic.py:814: ConvergenceWarning: lbfgs failed to converge (status=1):\n",
      "STOP: TOTAL NO. of ITERATIONS REACHED LIMIT.\n",
      "\n",
      "Increase the number of iterations (max_iter) or scale the data as shown in:\n",
      "    https://scikit-learn.org/stable/modules/preprocessing.html\n",
      "Please also refer to the documentation for alternative solver options:\n",
      "    https://scikit-learn.org/stable/modules/linear_model.html#logistic-regression\n",
      "  n_iter_i = _check_optimize_result(\n",
      "C:\\Users\\ituser\\anaconda3\\lib\\site-packages\\sklearn\\utils\\validation.py:993: DataConversionWarning: A column-vector y was passed when a 1d array was expected. Please change the shape of y to (n_samples, ), for example using ravel().\n",
      "  y = column_or_1d(y, warn=True)\n",
      "C:\\Users\\ituser\\anaconda3\\lib\\site-packages\\sklearn\\linear_model\\_logistic.py:814: ConvergenceWarning: lbfgs failed to converge (status=1):\n",
      "STOP: TOTAL NO. of ITERATIONS REACHED LIMIT.\n",
      "\n",
      "Increase the number of iterations (max_iter) or scale the data as shown in:\n",
      "    https://scikit-learn.org/stable/modules/preprocessing.html\n",
      "Please also refer to the documentation for alternative solver options:\n",
      "    https://scikit-learn.org/stable/modules/linear_model.html#logistic-regression\n",
      "  n_iter_i = _check_optimize_result(\n",
      "C:\\Users\\ituser\\anaconda3\\lib\\site-packages\\sklearn\\utils\\validation.py:993: DataConversionWarning: A column-vector y was passed when a 1d array was expected. Please change the shape of y to (n_samples, ), for example using ravel().\n",
      "  y = column_or_1d(y, warn=True)\n",
      "C:\\Users\\ituser\\anaconda3\\lib\\site-packages\\sklearn\\utils\\validation.py:993: DataConversionWarning: A column-vector y was passed when a 1d array was expected. Please change the shape of y to (n_samples, ), for example using ravel().\n",
      "  y = column_or_1d(y, warn=True)\n",
      "C:\\Users\\ituser\\anaconda3\\lib\\site-packages\\sklearn\\utils\\validation.py:993: DataConversionWarning: A column-vector y was passed when a 1d array was expected. Please change the shape of y to (n_samples, ), for example using ravel().\n",
      "  y = column_or_1d(y, warn=True)\n",
      "C:\\Users\\ituser\\anaconda3\\lib\\site-packages\\sklearn\\utils\\validation.py:993: DataConversionWarning: A column-vector y was passed when a 1d array was expected. Please change the shape of y to (n_samples, ), for example using ravel().\n",
      "  y = column_or_1d(y, warn=True)\n"
     ]
    },
    {
     "data": {
      "text/plain": "RFE(estimator=LogisticRegression())"
     },
     "execution_count": 69,
     "metadata": {},
     "output_type": "execute_result"
    }
   ],
   "source": [
    "X = x_train.drop(['Loan_ID'], axis=1)\n",
    "y = y_train\n",
    "rfe.fit(X, y)"
   ],
   "metadata": {
    "collapsed": false
   }
  },
  {
   "cell_type": "code",
   "execution_count": 81,
   "outputs": [
    {
     "data": {
      "text/plain": "array(['Married_Encoded', 'Education_Encoded', 'Credit_History_Encoded',\n       'Property_Area_Encoded', 'graduatedMarriedMale_Encoded',\n       'GME_Encoded', 'selfemp_Proparea_Encoded'], dtype=object)"
     },
     "execution_count": 81,
     "metadata": {},
     "output_type": "execute_result"
    }
   ],
   "source": [
    "# The list of selected features\n",
    "selected_features = rfe.get_feature_names_out()\n",
    "selected_features"
   ],
   "metadata": {
    "collapsed": false
   }
  },
  {
   "cell_type": "code",
   "execution_count": 72,
   "outputs": [],
   "source": [
    "final_train = x_train[selected_features]"
   ],
   "metadata": {
    "collapsed": false
   }
  },
  {
   "cell_type": "code",
   "execution_count": 73,
   "outputs": [],
   "source": [
    "final_test = x_test[selected_features]"
   ],
   "metadata": {
    "collapsed": false
   }
  },
  {
   "cell_type": "code",
   "execution_count": 74,
   "outputs": [
    {
     "name": "stderr",
     "output_type": "stream",
     "text": [
      "C:\\Users\\ituser\\anaconda3\\lib\\site-packages\\pandas\\core\\frame.py:3599: SettingWithCopyWarning: \n",
      "A value is trying to be set on a copy of a slice from a DataFrame.\n",
      "Try using .loc[row_indexer,col_indexer] = value instead\n",
      "\n",
      "See the caveats in the documentation: https://pandas.pydata.org/pandas-docs/stable/user_guide/indexing.html#returning-a-view-versus-a-copy\n",
      "  self._set_item_frame_value(key, value)\n"
     ]
    }
   ],
   "source": [
    "final_train['Loan_Status'] = y_train"
   ],
   "metadata": {
    "collapsed": false
   }
  },
  {
   "cell_type": "code",
   "execution_count": 75,
   "outputs": [
    {
     "name": "stderr",
     "output_type": "stream",
     "text": [
      "C:\\Users\\ituser\\anaconda3\\lib\\site-packages\\pandas\\core\\frame.py:3599: SettingWithCopyWarning: \n",
      "A value is trying to be set on a copy of a slice from a DataFrame.\n",
      "Try using .loc[row_indexer,col_indexer] = value instead\n",
      "\n",
      "See the caveats in the documentation: https://pandas.pydata.org/pandas-docs/stable/user_guide/indexing.html#returning-a-view-versus-a-copy\n",
      "  self._set_item_frame_value(key, value)\n"
     ]
    }
   ],
   "source": [
    "final_test['Loan_Status'] = y_test"
   ],
   "metadata": {
    "collapsed": false
   }
  },
  {
   "cell_type": "code",
   "execution_count": 76,
   "outputs": [
    {
     "data": {
      "text/plain": "                              Married_Encoded  Education_Encoded  \\\nMarried_Encoded                      1.000000           0.014882   \nEducation_Encoded                    0.014882           1.000000   \nCredit_History_Encoded               0.002462           0.094781   \nProperty_Area_Encoded               -0.001829           0.081547   \ngraduatedMarriedMale_Encoded         0.706300           0.488468   \nGME_Encoded                          0.666851           0.408089   \nselfemp_Proparea_Encoded             0.069236           0.101755   \nLoan_Status                          0.110756           0.118889   \n\n                              Credit_History_Encoded  Property_Area_Encoded  \\\nMarried_Encoded                             0.002462              -0.001829   \nEducation_Encoded                           0.094781               0.081547   \nCredit_History_Encoded                      1.000000               0.013274   \nProperty_Area_Encoded                       0.013274               1.000000   \ngraduatedMarriedMale_Encoded                0.109492               0.006825   \nGME_Encoded                                 0.127069               0.009216   \nselfemp_Proparea_Encoded                   -0.007706               0.777518   \nLoan_Status                                 0.541720               0.132693   \n\n                              graduatedMarriedMale_Encoded  GME_Encoded  \\\nMarried_Encoded                                   0.706300     0.666851   \nEducation_Encoded                                 0.488468     0.408089   \nCredit_History_Encoded                            0.109492     0.127069   \nProperty_Area_Encoded                             0.006825     0.009216   \ngraduatedMarriedMale_Encoded                      1.000000     0.963757   \nGME_Encoded                                       0.963757     1.000000   \nselfemp_Proparea_Encoded                          0.063302     0.049741   \nLoan_Status                                       0.185202     0.192167   \n\n                              selfemp_Proparea_Encoded  Loan_Status  \nMarried_Encoded                               0.069236     0.110756  \nEducation_Encoded                             0.101755     0.118889  \nCredit_History_Encoded                       -0.007706     0.541720  \nProperty_Area_Encoded                         0.777518     0.132693  \ngraduatedMarriedMale_Encoded                  0.063302     0.185202  \nGME_Encoded                                   0.049741     0.192167  \nselfemp_Proparea_Encoded                      1.000000     0.111803  \nLoan_Status                                   0.111803     1.000000  ",
      "text/html": "<div>\n<style scoped>\n    .dataframe tbody tr th:only-of-type {\n        vertical-align: middle;\n    }\n\n    .dataframe tbody tr th {\n        vertical-align: top;\n    }\n\n    .dataframe thead th {\n        text-align: right;\n    }\n</style>\n<table border=\"1\" class=\"dataframe\">\n  <thead>\n    <tr style=\"text-align: right;\">\n      <th></th>\n      <th>Married_Encoded</th>\n      <th>Education_Encoded</th>\n      <th>Credit_History_Encoded</th>\n      <th>Property_Area_Encoded</th>\n      <th>graduatedMarriedMale_Encoded</th>\n      <th>GME_Encoded</th>\n      <th>selfemp_Proparea_Encoded</th>\n      <th>Loan_Status</th>\n    </tr>\n  </thead>\n  <tbody>\n    <tr>\n      <th>Married_Encoded</th>\n      <td>1.000000</td>\n      <td>0.014882</td>\n      <td>0.002462</td>\n      <td>-0.001829</td>\n      <td>0.706300</td>\n      <td>0.666851</td>\n      <td>0.069236</td>\n      <td>0.110756</td>\n    </tr>\n    <tr>\n      <th>Education_Encoded</th>\n      <td>0.014882</td>\n      <td>1.000000</td>\n      <td>0.094781</td>\n      <td>0.081547</td>\n      <td>0.488468</td>\n      <td>0.408089</td>\n      <td>0.101755</td>\n      <td>0.118889</td>\n    </tr>\n    <tr>\n      <th>Credit_History_Encoded</th>\n      <td>0.002462</td>\n      <td>0.094781</td>\n      <td>1.000000</td>\n      <td>0.013274</td>\n      <td>0.109492</td>\n      <td>0.127069</td>\n      <td>-0.007706</td>\n      <td>0.541720</td>\n    </tr>\n    <tr>\n      <th>Property_Area_Encoded</th>\n      <td>-0.001829</td>\n      <td>0.081547</td>\n      <td>0.013274</td>\n      <td>1.000000</td>\n      <td>0.006825</td>\n      <td>0.009216</td>\n      <td>0.777518</td>\n      <td>0.132693</td>\n    </tr>\n    <tr>\n      <th>graduatedMarriedMale_Encoded</th>\n      <td>0.706300</td>\n      <td>0.488468</td>\n      <td>0.109492</td>\n      <td>0.006825</td>\n      <td>1.000000</td>\n      <td>0.963757</td>\n      <td>0.063302</td>\n      <td>0.185202</td>\n    </tr>\n    <tr>\n      <th>GME_Encoded</th>\n      <td>0.666851</td>\n      <td>0.408089</td>\n      <td>0.127069</td>\n      <td>0.009216</td>\n      <td>0.963757</td>\n      <td>1.000000</td>\n      <td>0.049741</td>\n      <td>0.192167</td>\n    </tr>\n    <tr>\n      <th>selfemp_Proparea_Encoded</th>\n      <td>0.069236</td>\n      <td>0.101755</td>\n      <td>-0.007706</td>\n      <td>0.777518</td>\n      <td>0.063302</td>\n      <td>0.049741</td>\n      <td>1.000000</td>\n      <td>0.111803</td>\n    </tr>\n    <tr>\n      <th>Loan_Status</th>\n      <td>0.110756</td>\n      <td>0.118889</td>\n      <td>0.541720</td>\n      <td>0.132693</td>\n      <td>0.185202</td>\n      <td>0.192167</td>\n      <td>0.111803</td>\n      <td>1.000000</td>\n    </tr>\n  </tbody>\n</table>\n</div>"
     },
     "execution_count": 76,
     "metadata": {},
     "output_type": "execute_result"
    }
   ],
   "source": [
    "final_train.corr()"
   ],
   "metadata": {
    "collapsed": false
   }
  },
  {
   "cell_type": "markdown",
   "source": [
    "Some of the features in the dataset are too highly correlated and some dimensionality reduction technique may be necessary to resolve the issue."
   ],
   "metadata": {
    "collapsed": false
   }
  },
  {
   "cell_type": "code",
   "execution_count": 78,
   "outputs": [],
   "source": [
    "final_train.to_csv('../Data/selected_data.csv')"
   ],
   "metadata": {
    "collapsed": false
   }
  },
  {
   "cell_type": "code",
   "execution_count": 80,
   "outputs": [],
   "source": [
    "final_test.to_csv('../Data/test_data.csv')"
   ],
   "metadata": {
    "collapsed": false
   }
  },
  {
   "cell_type": "code",
   "execution_count": null,
   "outputs": [],
   "source": [],
   "metadata": {
    "collapsed": false
   }
  }
 ],
 "metadata": {
  "kernelspec": {
   "display_name": "Python 3",
   "language": "python",
   "name": "python3"
  },
  "language_info": {
   "codemirror_mode": {
    "name": "ipython",
    "version": 2
   },
   "file_extension": ".py",
   "mimetype": "text/x-python",
   "name": "python",
   "nbconvert_exporter": "python",
   "pygments_lexer": "ipython2",
   "version": "2.7.6"
  }
 },
 "nbformat": 4,
 "nbformat_minor": 0
}
