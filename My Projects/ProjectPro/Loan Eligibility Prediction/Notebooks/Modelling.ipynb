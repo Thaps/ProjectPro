{
 "cells": [
  {
   "cell_type": "markdown",
   "source": [
    "<h1>Modelling for Loan Eligibility Prediction</h1>"
   ],
   "metadata": {
    "collapsed": false
   }
  },
  {
   "cell_type": "code",
   "execution_count": 4,
   "outputs": [],
   "source": [
    "import pandas as pd\n",
    "import numpy as np\n",
    "import matplotlib.pyplot as plt\n",
    "import seaborn as sns"
   ],
   "metadata": {
    "collapsed": false
   }
  },
  {
   "cell_type": "code",
   "execution_count": 5,
   "outputs": [],
   "source": [
    "from sklearn.linear_model import LogisticRegression\n",
    "from sklearn.model_selection import train_test_split\n",
    "from sklearn.preprocessing import StandardScaler\n",
    "from sklearn.metrics import mean_squared_error, mean_absolute_error, r2_score, f1_score, recall_score, precision_score\n",
    "from sklearn.utils import resample"
   ],
   "metadata": {
    "collapsed": false
   }
  },
  {
   "cell_type": "markdown",
   "source": [
    "<h3>Importing Data</h3>"
   ],
   "metadata": {
    "collapsed": false
   }
  },
  {
   "cell_type": "code",
   "execution_count": 6,
   "outputs": [
    {
     "data": {
      "text/plain": "   Unnamed: 0  Married_Encoded  Education_Encoded  Credit_History_Encoded  \\\n0         359         0.728873            0.71875                0.794271   \n1         127         0.622754            0.71875                0.794271   \n2         228         0.728873            0.71875                0.794271   \n3           0         0.622754            0.71875                0.794271   \n4         482         0.728873            0.71875                0.794271   \n\n   Property_Area_Encoded  graduatedMarriedMale_Encoded  GME_Encoded  \\\n0               0.761364                      0.782609     0.782609   \n1               0.615942                      0.610656     0.607843   \n2               0.761364                      0.782609     0.782609   \n3               0.671533                      0.610656     0.607843   \n4               0.761364                      0.782609     0.782609   \n\n   selfemp_Proparea_Encoded  Loan_Status  \n0                  0.738636            1  \n1                  0.610619            1  \n2                  0.738636            1  \n3                  0.698630            1  \n4                  0.738636            1  ",
      "text/html": "<div>\n<style scoped>\n    .dataframe tbody tr th:only-of-type {\n        vertical-align: middle;\n    }\n\n    .dataframe tbody tr th {\n        vertical-align: top;\n    }\n\n    .dataframe thead th {\n        text-align: right;\n    }\n</style>\n<table border=\"1\" class=\"dataframe\">\n  <thead>\n    <tr style=\"text-align: right;\">\n      <th></th>\n      <th>Unnamed: 0</th>\n      <th>Married_Encoded</th>\n      <th>Education_Encoded</th>\n      <th>Credit_History_Encoded</th>\n      <th>Property_Area_Encoded</th>\n      <th>graduatedMarriedMale_Encoded</th>\n      <th>GME_Encoded</th>\n      <th>selfemp_Proparea_Encoded</th>\n      <th>Loan_Status</th>\n    </tr>\n  </thead>\n  <tbody>\n    <tr>\n      <th>0</th>\n      <td>359</td>\n      <td>0.728873</td>\n      <td>0.71875</td>\n      <td>0.794271</td>\n      <td>0.761364</td>\n      <td>0.782609</td>\n      <td>0.782609</td>\n      <td>0.738636</td>\n      <td>1</td>\n    </tr>\n    <tr>\n      <th>1</th>\n      <td>127</td>\n      <td>0.622754</td>\n      <td>0.71875</td>\n      <td>0.794271</td>\n      <td>0.615942</td>\n      <td>0.610656</td>\n      <td>0.607843</td>\n      <td>0.610619</td>\n      <td>1</td>\n    </tr>\n    <tr>\n      <th>2</th>\n      <td>228</td>\n      <td>0.728873</td>\n      <td>0.71875</td>\n      <td>0.794271</td>\n      <td>0.761364</td>\n      <td>0.782609</td>\n      <td>0.782609</td>\n      <td>0.738636</td>\n      <td>1</td>\n    </tr>\n    <tr>\n      <th>3</th>\n      <td>0</td>\n      <td>0.622754</td>\n      <td>0.71875</td>\n      <td>0.794271</td>\n      <td>0.671533</td>\n      <td>0.610656</td>\n      <td>0.607843</td>\n      <td>0.698630</td>\n      <td>1</td>\n    </tr>\n    <tr>\n      <th>4</th>\n      <td>482</td>\n      <td>0.728873</td>\n      <td>0.71875</td>\n      <td>0.794271</td>\n      <td>0.761364</td>\n      <td>0.782609</td>\n      <td>0.782609</td>\n      <td>0.738636</td>\n      <td>1</td>\n    </tr>\n  </tbody>\n</table>\n</div>"
     },
     "execution_count": 6,
     "metadata": {},
     "output_type": "execute_result"
    }
   ],
   "source": [
    "# Loading the dataset into the notebook\n",
    "data = pd.read_csv('../data/selected_data.csv')\n",
    "data.head()"
   ],
   "metadata": {
    "collapsed": false
   }
  },
  {
   "cell_type": "code",
   "execution_count": 7,
   "outputs": [],
   "source": [
    "test_data = pd.read_csv('../data/test_data.csv')"
   ],
   "metadata": {
    "collapsed": false
   }
  },
  {
   "cell_type": "code",
   "execution_count": 8,
   "outputs": [
    {
     "data": {
      "text/plain": "     Unnamed: 0  Married_Encoded  Education_Encoded  Credit_History_Encoded  \\\n0           586         0.728873           0.718750                0.794271   \n1           570         0.728873           0.718750                0.794271   \n2           253         0.728873           0.585859                0.794271   \n3           571         0.728873           0.718750                0.089552   \n4           528         0.622754           0.585859                0.794271   \n..          ...              ...                ...                     ...   \n108         208         0.622754           0.718750                0.794271   \n109          96         0.728873           0.718750                0.794271   \n110         569         0.728873           0.718750                0.089552   \n111         402         0.622754           0.718750                0.794271   \n112          36         0.728873           0.718750                0.089552   \n\n     Property_Area_Encoded  graduatedMarriedMale_Encoded  GME_Encoded  \\\n0                 0.671533                      0.782609     0.782609   \n1                 0.671533                      0.782609     0.782609   \n2                 0.761364                      0.610656     0.607843   \n3                 0.671533                      0.782609     0.782609   \n4                 0.761364                      0.610656     0.594937   \n..                     ...                           ...          ...   \n108               0.671533                      0.610656     0.607843   \n109               0.761364                      0.610656     0.607843   \n110               0.671533                      0.782609     0.782609   \n111               0.761364                      0.610656     0.607843   \n112               0.671533                      0.782609     0.782609   \n\n     selfemp_Proparea_Encoded  Loan_Status  \n0                    0.698630            1  \n1                    0.698630            1  \n2                    0.738636            1  \n3                    0.698630            0  \n4                    0.738636            1  \n..                        ...          ...  \n108                  0.698630            1  \n109                  0.738636            1  \n110                  0.698630            0  \n111                  0.738636            1  \n112                  0.698630            0  \n\n[113 rows x 9 columns]",
      "text/html": "<div>\n<style scoped>\n    .dataframe tbody tr th:only-of-type {\n        vertical-align: middle;\n    }\n\n    .dataframe tbody tr th {\n        vertical-align: top;\n    }\n\n    .dataframe thead th {\n        text-align: right;\n    }\n</style>\n<table border=\"1\" class=\"dataframe\">\n  <thead>\n    <tr style=\"text-align: right;\">\n      <th></th>\n      <th>Unnamed: 0</th>\n      <th>Married_Encoded</th>\n      <th>Education_Encoded</th>\n      <th>Credit_History_Encoded</th>\n      <th>Property_Area_Encoded</th>\n      <th>graduatedMarriedMale_Encoded</th>\n      <th>GME_Encoded</th>\n      <th>selfemp_Proparea_Encoded</th>\n      <th>Loan_Status</th>\n    </tr>\n  </thead>\n  <tbody>\n    <tr>\n      <th>0</th>\n      <td>586</td>\n      <td>0.728873</td>\n      <td>0.718750</td>\n      <td>0.794271</td>\n      <td>0.671533</td>\n      <td>0.782609</td>\n      <td>0.782609</td>\n      <td>0.698630</td>\n      <td>1</td>\n    </tr>\n    <tr>\n      <th>1</th>\n      <td>570</td>\n      <td>0.728873</td>\n      <td>0.718750</td>\n      <td>0.794271</td>\n      <td>0.671533</td>\n      <td>0.782609</td>\n      <td>0.782609</td>\n      <td>0.698630</td>\n      <td>1</td>\n    </tr>\n    <tr>\n      <th>2</th>\n      <td>253</td>\n      <td>0.728873</td>\n      <td>0.585859</td>\n      <td>0.794271</td>\n      <td>0.761364</td>\n      <td>0.610656</td>\n      <td>0.607843</td>\n      <td>0.738636</td>\n      <td>1</td>\n    </tr>\n    <tr>\n      <th>3</th>\n      <td>571</td>\n      <td>0.728873</td>\n      <td>0.718750</td>\n      <td>0.089552</td>\n      <td>0.671533</td>\n      <td>0.782609</td>\n      <td>0.782609</td>\n      <td>0.698630</td>\n      <td>0</td>\n    </tr>\n    <tr>\n      <th>4</th>\n      <td>528</td>\n      <td>0.622754</td>\n      <td>0.585859</td>\n      <td>0.794271</td>\n      <td>0.761364</td>\n      <td>0.610656</td>\n      <td>0.594937</td>\n      <td>0.738636</td>\n      <td>1</td>\n    </tr>\n    <tr>\n      <th>...</th>\n      <td>...</td>\n      <td>...</td>\n      <td>...</td>\n      <td>...</td>\n      <td>...</td>\n      <td>...</td>\n      <td>...</td>\n      <td>...</td>\n      <td>...</td>\n    </tr>\n    <tr>\n      <th>108</th>\n      <td>208</td>\n      <td>0.622754</td>\n      <td>0.718750</td>\n      <td>0.794271</td>\n      <td>0.671533</td>\n      <td>0.610656</td>\n      <td>0.607843</td>\n      <td>0.698630</td>\n      <td>1</td>\n    </tr>\n    <tr>\n      <th>109</th>\n      <td>96</td>\n      <td>0.728873</td>\n      <td>0.718750</td>\n      <td>0.794271</td>\n      <td>0.761364</td>\n      <td>0.610656</td>\n      <td>0.607843</td>\n      <td>0.738636</td>\n      <td>1</td>\n    </tr>\n    <tr>\n      <th>110</th>\n      <td>569</td>\n      <td>0.728873</td>\n      <td>0.718750</td>\n      <td>0.089552</td>\n      <td>0.671533</td>\n      <td>0.782609</td>\n      <td>0.782609</td>\n      <td>0.698630</td>\n      <td>0</td>\n    </tr>\n    <tr>\n      <th>111</th>\n      <td>402</td>\n      <td>0.622754</td>\n      <td>0.718750</td>\n      <td>0.794271</td>\n      <td>0.761364</td>\n      <td>0.610656</td>\n      <td>0.607843</td>\n      <td>0.738636</td>\n      <td>1</td>\n    </tr>\n    <tr>\n      <th>112</th>\n      <td>36</td>\n      <td>0.728873</td>\n      <td>0.718750</td>\n      <td>0.089552</td>\n      <td>0.671533</td>\n      <td>0.782609</td>\n      <td>0.782609</td>\n      <td>0.698630</td>\n      <td>0</td>\n    </tr>\n  </tbody>\n</table>\n<p>113 rows × 9 columns</p>\n</div>"
     },
     "execution_count": 8,
     "metadata": {},
     "output_type": "execute_result"
    }
   ],
   "source": [
    "test_data"
   ],
   "metadata": {
    "collapsed": false
   }
  },
  {
   "cell_type": "code",
   "execution_count": 9,
   "outputs": [],
   "source": [
    "data.drop('Unnamed: 0', axis=1, inplace=True)"
   ],
   "metadata": {
    "collapsed": false
   }
  },
  {
   "cell_type": "code",
   "execution_count": 10,
   "outputs": [],
   "source": [
    "test_data.drop('Unnamed: 0', axis=1, inplace=True)"
   ],
   "metadata": {
    "collapsed": false
   }
  },
  {
   "cell_type": "code",
   "execution_count": 11,
   "outputs": [
    {
     "data": {
      "text/plain": "     Married_Encoded  Education_Encoded  Credit_History_Encoded  \\\n0           0.728873            0.71875                0.794271   \n1           0.622754            0.71875                0.794271   \n2           0.728873            0.71875                0.794271   \n3           0.622754            0.71875                0.794271   \n4           0.728873            0.71875                0.794271   \n..               ...                ...                     ...   \n446         0.622754            0.71875                0.794271   \n447         0.622754            0.71875                0.794271   \n448         0.728873            0.71875                0.794271   \n449         0.728873            0.71875                0.794271   \n450         0.622754            0.71875                0.794271   \n\n     Property_Area_Encoded  graduatedMarriedMale_Encoded  GME_Encoded  \\\n0                 0.761364                      0.782609     0.782609   \n1                 0.615942                      0.610656     0.607843   \n2                 0.761364                      0.782609     0.782609   \n3                 0.671533                      0.610656     0.607843   \n4                 0.761364                      0.782609     0.782609   \n..                     ...                           ...          ...   \n446               0.671533                      0.610656     0.607843   \n447               0.761364                      0.610656     0.607843   \n448               0.671533                      0.782609     0.782609   \n449               0.761364                      0.782609     0.782609   \n450               0.671533                      0.610656     0.607843   \n\n     selfemp_Proparea_Encoded  Loan_Status  \n0                    0.738636            1  \n1                    0.610619            1  \n2                    0.738636            1  \n3                    0.698630            1  \n4                    0.738636            1  \n..                        ...          ...  \n446                  0.698630            0  \n447                  0.738636            1  \n448                  0.698630            1  \n449                  0.738636            1  \n450                  0.698630            1  \n\n[451 rows x 8 columns]",
      "text/html": "<div>\n<style scoped>\n    .dataframe tbody tr th:only-of-type {\n        vertical-align: middle;\n    }\n\n    .dataframe tbody tr th {\n        vertical-align: top;\n    }\n\n    .dataframe thead th {\n        text-align: right;\n    }\n</style>\n<table border=\"1\" class=\"dataframe\">\n  <thead>\n    <tr style=\"text-align: right;\">\n      <th></th>\n      <th>Married_Encoded</th>\n      <th>Education_Encoded</th>\n      <th>Credit_History_Encoded</th>\n      <th>Property_Area_Encoded</th>\n      <th>graduatedMarriedMale_Encoded</th>\n      <th>GME_Encoded</th>\n      <th>selfemp_Proparea_Encoded</th>\n      <th>Loan_Status</th>\n    </tr>\n  </thead>\n  <tbody>\n    <tr>\n      <th>0</th>\n      <td>0.728873</td>\n      <td>0.71875</td>\n      <td>0.794271</td>\n      <td>0.761364</td>\n      <td>0.782609</td>\n      <td>0.782609</td>\n      <td>0.738636</td>\n      <td>1</td>\n    </tr>\n    <tr>\n      <th>1</th>\n      <td>0.622754</td>\n      <td>0.71875</td>\n      <td>0.794271</td>\n      <td>0.615942</td>\n      <td>0.610656</td>\n      <td>0.607843</td>\n      <td>0.610619</td>\n      <td>1</td>\n    </tr>\n    <tr>\n      <th>2</th>\n      <td>0.728873</td>\n      <td>0.71875</td>\n      <td>0.794271</td>\n      <td>0.761364</td>\n      <td>0.782609</td>\n      <td>0.782609</td>\n      <td>0.738636</td>\n      <td>1</td>\n    </tr>\n    <tr>\n      <th>3</th>\n      <td>0.622754</td>\n      <td>0.71875</td>\n      <td>0.794271</td>\n      <td>0.671533</td>\n      <td>0.610656</td>\n      <td>0.607843</td>\n      <td>0.698630</td>\n      <td>1</td>\n    </tr>\n    <tr>\n      <th>4</th>\n      <td>0.728873</td>\n      <td>0.71875</td>\n      <td>0.794271</td>\n      <td>0.761364</td>\n      <td>0.782609</td>\n      <td>0.782609</td>\n      <td>0.738636</td>\n      <td>1</td>\n    </tr>\n    <tr>\n      <th>...</th>\n      <td>...</td>\n      <td>...</td>\n      <td>...</td>\n      <td>...</td>\n      <td>...</td>\n      <td>...</td>\n      <td>...</td>\n      <td>...</td>\n    </tr>\n    <tr>\n      <th>446</th>\n      <td>0.622754</td>\n      <td>0.71875</td>\n      <td>0.794271</td>\n      <td>0.671533</td>\n      <td>0.610656</td>\n      <td>0.607843</td>\n      <td>0.698630</td>\n      <td>0</td>\n    </tr>\n    <tr>\n      <th>447</th>\n      <td>0.622754</td>\n      <td>0.71875</td>\n      <td>0.794271</td>\n      <td>0.761364</td>\n      <td>0.610656</td>\n      <td>0.607843</td>\n      <td>0.738636</td>\n      <td>1</td>\n    </tr>\n    <tr>\n      <th>448</th>\n      <td>0.728873</td>\n      <td>0.71875</td>\n      <td>0.794271</td>\n      <td>0.671533</td>\n      <td>0.782609</td>\n      <td>0.782609</td>\n      <td>0.698630</td>\n      <td>1</td>\n    </tr>\n    <tr>\n      <th>449</th>\n      <td>0.728873</td>\n      <td>0.71875</td>\n      <td>0.794271</td>\n      <td>0.761364</td>\n      <td>0.782609</td>\n      <td>0.782609</td>\n      <td>0.738636</td>\n      <td>1</td>\n    </tr>\n    <tr>\n      <th>450</th>\n      <td>0.622754</td>\n      <td>0.71875</td>\n      <td>0.794271</td>\n      <td>0.671533</td>\n      <td>0.610656</td>\n      <td>0.607843</td>\n      <td>0.698630</td>\n      <td>1</td>\n    </tr>\n  </tbody>\n</table>\n<p>451 rows × 8 columns</p>\n</div>"
     },
     "execution_count": 11,
     "metadata": {},
     "output_type": "execute_result"
    }
   ],
   "source": [
    "data"
   ],
   "metadata": {
    "collapsed": false
   }
  },
  {
   "cell_type": "code",
   "execution_count": 12,
   "outputs": [
    {
     "data": {
      "text/plain": "     Married_Encoded  Education_Encoded  Credit_History_Encoded  \\\n0           0.728873           0.718750                0.794271   \n1           0.728873           0.718750                0.794271   \n2           0.728873           0.585859                0.794271   \n3           0.728873           0.718750                0.089552   \n4           0.622754           0.585859                0.794271   \n..               ...                ...                     ...   \n108         0.622754           0.718750                0.794271   \n109         0.728873           0.718750                0.794271   \n110         0.728873           0.718750                0.089552   \n111         0.622754           0.718750                0.794271   \n112         0.728873           0.718750                0.089552   \n\n     Property_Area_Encoded  graduatedMarriedMale_Encoded  GME_Encoded  \\\n0                 0.671533                      0.782609     0.782609   \n1                 0.671533                      0.782609     0.782609   \n2                 0.761364                      0.610656     0.607843   \n3                 0.671533                      0.782609     0.782609   \n4                 0.761364                      0.610656     0.594937   \n..                     ...                           ...          ...   \n108               0.671533                      0.610656     0.607843   \n109               0.761364                      0.610656     0.607843   \n110               0.671533                      0.782609     0.782609   \n111               0.761364                      0.610656     0.607843   \n112               0.671533                      0.782609     0.782609   \n\n     selfemp_Proparea_Encoded  Loan_Status  \n0                    0.698630            1  \n1                    0.698630            1  \n2                    0.738636            1  \n3                    0.698630            0  \n4                    0.738636            1  \n..                        ...          ...  \n108                  0.698630            1  \n109                  0.738636            1  \n110                  0.698630            0  \n111                  0.738636            1  \n112                  0.698630            0  \n\n[113 rows x 8 columns]",
      "text/html": "<div>\n<style scoped>\n    .dataframe tbody tr th:only-of-type {\n        vertical-align: middle;\n    }\n\n    .dataframe tbody tr th {\n        vertical-align: top;\n    }\n\n    .dataframe thead th {\n        text-align: right;\n    }\n</style>\n<table border=\"1\" class=\"dataframe\">\n  <thead>\n    <tr style=\"text-align: right;\">\n      <th></th>\n      <th>Married_Encoded</th>\n      <th>Education_Encoded</th>\n      <th>Credit_History_Encoded</th>\n      <th>Property_Area_Encoded</th>\n      <th>graduatedMarriedMale_Encoded</th>\n      <th>GME_Encoded</th>\n      <th>selfemp_Proparea_Encoded</th>\n      <th>Loan_Status</th>\n    </tr>\n  </thead>\n  <tbody>\n    <tr>\n      <th>0</th>\n      <td>0.728873</td>\n      <td>0.718750</td>\n      <td>0.794271</td>\n      <td>0.671533</td>\n      <td>0.782609</td>\n      <td>0.782609</td>\n      <td>0.698630</td>\n      <td>1</td>\n    </tr>\n    <tr>\n      <th>1</th>\n      <td>0.728873</td>\n      <td>0.718750</td>\n      <td>0.794271</td>\n      <td>0.671533</td>\n      <td>0.782609</td>\n      <td>0.782609</td>\n      <td>0.698630</td>\n      <td>1</td>\n    </tr>\n    <tr>\n      <th>2</th>\n      <td>0.728873</td>\n      <td>0.585859</td>\n      <td>0.794271</td>\n      <td>0.761364</td>\n      <td>0.610656</td>\n      <td>0.607843</td>\n      <td>0.738636</td>\n      <td>1</td>\n    </tr>\n    <tr>\n      <th>3</th>\n      <td>0.728873</td>\n      <td>0.718750</td>\n      <td>0.089552</td>\n      <td>0.671533</td>\n      <td>0.782609</td>\n      <td>0.782609</td>\n      <td>0.698630</td>\n      <td>0</td>\n    </tr>\n    <tr>\n      <th>4</th>\n      <td>0.622754</td>\n      <td>0.585859</td>\n      <td>0.794271</td>\n      <td>0.761364</td>\n      <td>0.610656</td>\n      <td>0.594937</td>\n      <td>0.738636</td>\n      <td>1</td>\n    </tr>\n    <tr>\n      <th>...</th>\n      <td>...</td>\n      <td>...</td>\n      <td>...</td>\n      <td>...</td>\n      <td>...</td>\n      <td>...</td>\n      <td>...</td>\n      <td>...</td>\n    </tr>\n    <tr>\n      <th>108</th>\n      <td>0.622754</td>\n      <td>0.718750</td>\n      <td>0.794271</td>\n      <td>0.671533</td>\n      <td>0.610656</td>\n      <td>0.607843</td>\n      <td>0.698630</td>\n      <td>1</td>\n    </tr>\n    <tr>\n      <th>109</th>\n      <td>0.728873</td>\n      <td>0.718750</td>\n      <td>0.794271</td>\n      <td>0.761364</td>\n      <td>0.610656</td>\n      <td>0.607843</td>\n      <td>0.738636</td>\n      <td>1</td>\n    </tr>\n    <tr>\n      <th>110</th>\n      <td>0.728873</td>\n      <td>0.718750</td>\n      <td>0.089552</td>\n      <td>0.671533</td>\n      <td>0.782609</td>\n      <td>0.782609</td>\n      <td>0.698630</td>\n      <td>0</td>\n    </tr>\n    <tr>\n      <th>111</th>\n      <td>0.622754</td>\n      <td>0.718750</td>\n      <td>0.794271</td>\n      <td>0.761364</td>\n      <td>0.610656</td>\n      <td>0.607843</td>\n      <td>0.738636</td>\n      <td>1</td>\n    </tr>\n    <tr>\n      <th>112</th>\n      <td>0.728873</td>\n      <td>0.718750</td>\n      <td>0.089552</td>\n      <td>0.671533</td>\n      <td>0.782609</td>\n      <td>0.782609</td>\n      <td>0.698630</td>\n      <td>0</td>\n    </tr>\n  </tbody>\n</table>\n<p>113 rows × 8 columns</p>\n</div>"
     },
     "execution_count": 12,
     "metadata": {},
     "output_type": "execute_result"
    }
   ],
   "source": [
    "test_data"
   ],
   "metadata": {
    "collapsed": false
   }
  },
  {
   "cell_type": "code",
   "execution_count": 13,
   "outputs": [],
   "source": [
    "def splitData(data):\n",
    "    x_train = data.drop('Loan_Status',axis=1)\n",
    "    y_train = data[['Loan_Status']]\n",
    "\n",
    "    x_test = test_data.drop('Loan_Status',axis=1)\n",
    "    y_test = test_data[['Loan_Status']]\n",
    "    return [x_train, x_test, y_train, y_test]"
   ],
   "metadata": {
    "collapsed": false
   }
  },
  {
   "cell_type": "code",
   "execution_count": 14,
   "outputs": [],
   "source": [
    "def standardizeTransform(x_train, x_test, y_train, y_test):\n",
    "    scaler = StandardScaler().fit(x_train)\n",
    "    x_train_scaled = scaler.transform(x_train)\n",
    "    x_test_scaled = scaler.transform(x_test)\n",
    "    y_train_log = np.log(1+y_train)\n",
    "    y_test_log = np.log(1+y_test)\n",
    "    return [x_train_scaled, x_test_scaled, y_train_log, y_test_log]"
   ],
   "metadata": {
    "collapsed": false
   }
  },
  {
   "cell_type": "code",
   "execution_count": 15,
   "outputs": [],
   "source": [
    "x_train, x_test, y_train, y_test = splitData(data)"
   ],
   "metadata": {
    "collapsed": false
   }
  },
  {
   "cell_type": "code",
   "execution_count": 16,
   "outputs": [],
   "source": [
    "# Fit Model and Evaluate\n",
    "def fitPredict(x_train, y_train, x_test, y_test, model):\n",
    "    model.fit(x_train, y_train)\n",
    "\n",
    "    y_hat = model.predict(x_test)\n",
    "\n",
    "    #print(\"Train R2 score: \"+ str(model.score(x_train,y_train)))\n",
    "    print(\"Test F1 Score: \"+ str(f1_score(y_test,y_hat)))\n",
    "    print(\"Test Precision: \"+ str(precision_score(y_test,y_hat)))\n",
    "    print(\"Test Recall: \"+ str(recall_score(y_test,y_hat)))\n",
    "\n",
    "    return model"
   ],
   "metadata": {
    "collapsed": false
   }
  },
  {
   "cell_type": "code",
   "execution_count": 17,
   "outputs": [
    {
     "name": "stdout",
     "output_type": "stream",
     "text": [
      "Count Vectorizer Test Set Results:\n",
      "Test F1 Score: 0.8848484848484848\n",
      "Test Precision: 0.8021978021978022\n",
      "Test Recall: 0.9864864864864865\n"
     ]
    },
    {
     "name": "stderr",
     "output_type": "stream",
     "text": [
      "C:\\Users\\ituser\\anaconda3\\lib\\site-packages\\sklearn\\utils\\validation.py:993: DataConversionWarning: A column-vector y was passed when a 1d array was expected. Please change the shape of y to (n_samples, ), for example using ravel().\n",
      "  y = column_or_1d(y, warn=True)\n"
     ]
    }
   ],
   "source": [
    "# Logistic Model Test set prediction and Evaluation\n",
    "print('Count Vectorizer Test Set Results:')\n",
    "lm = fitPredict(x_train, y_train, x_test, y_test, LogisticRegression())"
   ],
   "metadata": {
    "collapsed": false
   }
  },
  {
   "cell_type": "markdown",
   "source": [
    "<h3>Upsampling</h3>"
   ],
   "metadata": {
    "collapsed": false
   }
  },
  {
   "cell_type": "code",
   "execution_count": 18,
   "outputs": [],
   "source": [
    "# Upsampling the minority dataset\n",
    "minority = data[data['Loan_Status'] == 0]\n",
    "majority = data[data['Loan_Status'] == 1]"
   ],
   "metadata": {
    "collapsed": false
   }
  },
  {
   "cell_type": "code",
   "execution_count": 19,
   "outputs": [
    {
     "data": {
      "text/plain": "(140, 8)"
     },
     "execution_count": 19,
     "metadata": {},
     "output_type": "execute_result"
    }
   ],
   "source": [
    "minority.shape"
   ],
   "metadata": {
    "collapsed": false
   }
  },
  {
   "cell_type": "code",
   "execution_count": 20,
   "outputs": [
    {
     "data": {
      "text/plain": "(311, 8)"
     },
     "execution_count": 20,
     "metadata": {},
     "output_type": "execute_result"
    }
   ],
   "source": [
    "majority.shape"
   ],
   "metadata": {
    "collapsed": false
   }
  },
  {
   "cell_type": "code",
   "execution_count": 21,
   "outputs": [],
   "source": [
    "upsampled = resample(minority, replace=True, n_samples=300, random_state=42)"
   ],
   "metadata": {
    "collapsed": false
   }
  },
  {
   "cell_type": "code",
   "execution_count": 28,
   "outputs": [],
   "source": [
    "updata = pd.concat([majority, upsampled])"
   ],
   "metadata": {
    "collapsed": false
   }
  },
  {
   "cell_type": "code",
   "execution_count": 29,
   "outputs": [],
   "source": [
    "x_train_up, x_test_up, y_train_up, y_test_up = splitData(updata)"
   ],
   "metadata": {
    "collapsed": false
   }
  },
  {
   "cell_type": "code",
   "execution_count": 32,
   "outputs": [
    {
     "data": {
      "text/plain": "1    311\n0    300\nName: Loan_Status, dtype: int64"
     },
     "execution_count": 32,
     "metadata": {},
     "output_type": "execute_result"
    }
   ],
   "source": [
    "updata['Loan_Status'].value_counts()"
   ],
   "metadata": {
    "collapsed": false
   }
  },
  {
   "cell_type": "code",
   "execution_count": 30,
   "outputs": [
    {
     "name": "stdout",
     "output_type": "stream",
     "text": [
      "Count Vectorizer Test Set Results:\n",
      "Test F1 Score: 0.8848484848484848\n",
      "Test Precision: 0.8021978021978022\n",
      "Test Recall: 0.9864864864864865\n"
     ]
    },
    {
     "name": "stderr",
     "output_type": "stream",
     "text": [
      "C:\\Users\\ituser\\anaconda3\\lib\\site-packages\\sklearn\\utils\\validation.py:993: DataConversionWarning: A column-vector y was passed when a 1d array was expected. Please change the shape of y to (n_samples, ), for example using ravel().\n",
      "  y = column_or_1d(y, warn=True)\n"
     ]
    }
   ],
   "source": [
    "# Logistic Model Test set prediction and Evaluation\n",
    "print('Count Vectorizer Test Set Results:')\n",
    "lm = fitPredict(x_train_up, y_train_up, x_test_up, y_test_up, LogisticRegression())"
   ],
   "metadata": {
    "collapsed": false
   }
  },
  {
   "cell_type": "markdown",
   "source": [
    "<h3>Downsampling</h3>"
   ],
   "metadata": {
    "collapsed": false
   }
  },
  {
   "cell_type": "code",
   "execution_count": 33,
   "outputs": [],
   "source": [
    "downsampled = resample(majority, replace=True, n_samples=140, random_state=42)"
   ],
   "metadata": {
    "collapsed": false
   }
  },
  {
   "cell_type": "code",
   "execution_count": 34,
   "outputs": [],
   "source": [
    "downData = pd.concat([downsampled, minority])"
   ],
   "metadata": {
    "collapsed": false
   }
  },
  {
   "cell_type": "code",
   "execution_count": 35,
   "outputs": [
    {
     "data": {
      "text/plain": "1    140\n0    140\nName: Loan_Status, dtype: int64"
     },
     "execution_count": 35,
     "metadata": {},
     "output_type": "execute_result"
    }
   ],
   "source": [
    "downData['Loan_Status'].value_counts()"
   ],
   "metadata": {
    "collapsed": false
   }
  },
  {
   "cell_type": "code",
   "execution_count": 36,
   "outputs": [],
   "source": [
    "x_train_down, x_test_down, y_train_down, y_test_down = splitData(downData)"
   ],
   "metadata": {
    "collapsed": false
   }
  },
  {
   "cell_type": "code",
   "execution_count": 37,
   "outputs": [
    {
     "name": "stdout",
     "output_type": "stream",
     "text": [
      "Count Vectorizer Test Set Results:\n",
      "Test F1 Score: 0.8848484848484848\n",
      "Test Precision: 0.8021978021978022\n",
      "Test Recall: 0.9864864864864865\n"
     ]
    },
    {
     "name": "stderr",
     "output_type": "stream",
     "text": [
      "C:\\Users\\ituser\\anaconda3\\lib\\site-packages\\sklearn\\utils\\validation.py:993: DataConversionWarning: A column-vector y was passed when a 1d array was expected. Please change the shape of y to (n_samples, ), for example using ravel().\n",
      "  y = column_or_1d(y, warn=True)\n"
     ]
    }
   ],
   "source": [
    "# Logistic Model Test set prediction and Evaluation\n",
    "print('Count Vectorizer Test Set Results:')\n",
    "down_lm = fitPredict(x_train_down, y_train_down, x_test_down, y_test_down, LogisticRegression())"
   ],
   "metadata": {
    "collapsed": false
   }
  },
  {
   "cell_type": "markdown",
   "source": [
    "It would seem upsampling or downsampling does not make a difference for this dataset."
   ],
   "metadata": {
    "collapsed": false
   }
  },
  {
   "cell_type": "code",
   "execution_count": null,
   "outputs": [],
   "source": [],
   "metadata": {
    "collapsed": false
   }
  }
 ],
 "metadata": {
  "kernelspec": {
   "display_name": "Python 3",
   "language": "python",
   "name": "python3"
  },
  "language_info": {
   "codemirror_mode": {
    "name": "ipython",
    "version": 2
   },
   "file_extension": ".py",
   "mimetype": "text/x-python",
   "name": "python",
   "nbconvert_exporter": "python",
   "pygments_lexer": "ipython2",
   "version": "2.7.6"
  }
 },
 "nbformat": 4,
 "nbformat_minor": 0
}
