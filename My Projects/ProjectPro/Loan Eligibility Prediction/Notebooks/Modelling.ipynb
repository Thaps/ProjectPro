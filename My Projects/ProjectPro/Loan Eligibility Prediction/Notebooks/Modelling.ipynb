{
 "cells": [
  {
   "cell_type": "markdown",
   "source": [
    "<h1>Modelling for Loan Eligibility Prediction</h1>"
   ],
   "metadata": {
    "collapsed": false
   }
  },
  {
   "cell_type": "code",
   "execution_count": 1,
   "outputs": [],
   "source": [
    "import pandas as pd\n",
    "import numpy as np\n",
    "import matplotlib.pyplot as plt\n",
    "import seaborn as sns"
   ],
   "metadata": {
    "collapsed": false
   }
  },
  {
   "cell_type": "code",
   "execution_count": 23,
   "outputs": [],
   "source": [
    "from sklearn.linear_model import LogisticRegression\n",
    "from sklearn.model_selection import train_test_split\n",
    "from sklearn.preprocessing import StandardScaler\n",
    "from sklearn.metrics import mean_squared_error, mean_absolute_error, r2_score, f1_score, recall_score, precision_score\n",
    "from sklearn.utils import resample"
   ],
   "metadata": {
    "collapsed": false
   }
  },
  {
   "cell_type": "markdown",
   "source": [
    "<h3>Importing Data</h3>"
   ],
   "metadata": {
    "collapsed": false
   }
  },
  {
   "cell_type": "code",
   "execution_count": 3,
   "outputs": [
    {
     "data": {
      "text/plain": "   Unnamed: 0  Married_Encoded  Education_Encoded  Credit_History_Encoded  \\\n0           0         0.628141           0.706546                0.795789   \n1           1         0.712329           0.706546                0.795789   \n2           2         0.712329           0.706546                0.795789   \n3           3         0.712329           0.595041                0.795789   \n4           4         0.628141           0.706546                0.795789   \n\n   Property_Area_Encoded  graduatedMarriedMale_Encoded  GME_Encoded  \\\n0               0.642857                      0.622517     0.624365   \n1               0.606061                      0.751908     0.751908   \n2               0.642857                      0.751908     0.751908   \n3               0.642857                      0.622517     0.624365   \n4               0.642857                      0.622517     0.624365   \n\n   selfemp_Proparea_Encoded  Loan_Status  \n0                  0.678947            1  \n1                  0.600000            0  \n2                  0.523810            1  \n3                  0.678947            1  \n4                  0.678947            1  ",
      "text/html": "<div>\n<style scoped>\n    .dataframe tbody tr th:only-of-type {\n        vertical-align: middle;\n    }\n\n    .dataframe tbody tr th {\n        vertical-align: top;\n    }\n\n    .dataframe thead th {\n        text-align: right;\n    }\n</style>\n<table border=\"1\" class=\"dataframe\">\n  <thead>\n    <tr style=\"text-align: right;\">\n      <th></th>\n      <th>Unnamed: 0</th>\n      <th>Married_Encoded</th>\n      <th>Education_Encoded</th>\n      <th>Credit_History_Encoded</th>\n      <th>Property_Area_Encoded</th>\n      <th>graduatedMarriedMale_Encoded</th>\n      <th>GME_Encoded</th>\n      <th>selfemp_Proparea_Encoded</th>\n      <th>Loan_Status</th>\n    </tr>\n  </thead>\n  <tbody>\n    <tr>\n      <th>0</th>\n      <td>0</td>\n      <td>0.628141</td>\n      <td>0.706546</td>\n      <td>0.795789</td>\n      <td>0.642857</td>\n      <td>0.622517</td>\n      <td>0.624365</td>\n      <td>0.678947</td>\n      <td>1</td>\n    </tr>\n    <tr>\n      <th>1</th>\n      <td>1</td>\n      <td>0.712329</td>\n      <td>0.706546</td>\n      <td>0.795789</td>\n      <td>0.606061</td>\n      <td>0.751908</td>\n      <td>0.751908</td>\n      <td>0.600000</td>\n      <td>0</td>\n    </tr>\n    <tr>\n      <th>2</th>\n      <td>2</td>\n      <td>0.712329</td>\n      <td>0.706546</td>\n      <td>0.795789</td>\n      <td>0.642857</td>\n      <td>0.751908</td>\n      <td>0.751908</td>\n      <td>0.523810</td>\n      <td>1</td>\n    </tr>\n    <tr>\n      <th>3</th>\n      <td>3</td>\n      <td>0.712329</td>\n      <td>0.595041</td>\n      <td>0.795789</td>\n      <td>0.642857</td>\n      <td>0.622517</td>\n      <td>0.624365</td>\n      <td>0.678947</td>\n      <td>1</td>\n    </tr>\n    <tr>\n      <th>4</th>\n      <td>4</td>\n      <td>0.628141</td>\n      <td>0.706546</td>\n      <td>0.795789</td>\n      <td>0.642857</td>\n      <td>0.622517</td>\n      <td>0.624365</td>\n      <td>0.678947</td>\n      <td>1</td>\n    </tr>\n  </tbody>\n</table>\n</div>"
     },
     "execution_count": 3,
     "metadata": {},
     "output_type": "execute_result"
    }
   ],
   "source": [
    "# Loading the dataset into the notebook\n",
    "data = pd.read_csv('../data/selected_data.csv')\n",
    "data.head()"
   ],
   "metadata": {
    "collapsed": false
   }
  },
  {
   "cell_type": "code",
   "execution_count": 4,
   "outputs": [],
   "source": [
    "data.drop('Unnamed: 0', axis=1, inplace=True)"
   ],
   "metadata": {
    "collapsed": false
   }
  },
  {
   "cell_type": "code",
   "execution_count": 5,
   "outputs": [
    {
     "data": {
      "text/plain": "     Married_Encoded  Education_Encoded  Credit_History_Encoded  \\\n0           0.628141           0.706546                0.795789   \n1           0.712329           0.706546                0.795789   \n2           0.712329           0.706546                0.795789   \n3           0.712329           0.595041                0.795789   \n4           0.628141           0.706546                0.795789   \n..               ...                ...                     ...   \n559         0.628141           0.706546                0.795789   \n560         0.712329           0.706546                0.795789   \n561         0.712329           0.706546                0.795789   \n562         0.712329           0.706546                0.795789   \n563         0.628141           0.706546                0.078652   \n\n     Property_Area_Encoded  graduatedMarriedMale_Encoded  GME_Encoded  \\\n0                 0.642857                      0.622517     0.624365   \n1                 0.606061                      0.751908     0.751908   \n2                 0.642857                      0.751908     0.751908   \n3                 0.642857                      0.622517     0.624365   \n4                 0.642857                      0.622517     0.624365   \n..                     ...                           ...          ...   \n559               0.606061                      0.622517     0.615385   \n560               0.606061                      0.751908     0.751908   \n561               0.642857                      0.751908     0.751908   \n562               0.642857                      0.751908     0.751908   \n563               0.774194                      0.622517     0.615385   \n\n     selfemp_Proparea_Encoded  Loan_Status  \n0                    0.678947            1  \n1                    0.600000            0  \n2                    0.523810            1  \n3                    0.678947            1  \n4                    0.678947            1  \n..                        ...          ...  \n559                  0.600000            1  \n560                  0.600000            1  \n561                  0.678947            1  \n562                  0.678947            1  \n563                  0.678947            0  \n\n[564 rows x 8 columns]",
      "text/html": "<div>\n<style scoped>\n    .dataframe tbody tr th:only-of-type {\n        vertical-align: middle;\n    }\n\n    .dataframe tbody tr th {\n        vertical-align: top;\n    }\n\n    .dataframe thead th {\n        text-align: right;\n    }\n</style>\n<table border=\"1\" class=\"dataframe\">\n  <thead>\n    <tr style=\"text-align: right;\">\n      <th></th>\n      <th>Married_Encoded</th>\n      <th>Education_Encoded</th>\n      <th>Credit_History_Encoded</th>\n      <th>Property_Area_Encoded</th>\n      <th>graduatedMarriedMale_Encoded</th>\n      <th>GME_Encoded</th>\n      <th>selfemp_Proparea_Encoded</th>\n      <th>Loan_Status</th>\n    </tr>\n  </thead>\n  <tbody>\n    <tr>\n      <th>0</th>\n      <td>0.628141</td>\n      <td>0.706546</td>\n      <td>0.795789</td>\n      <td>0.642857</td>\n      <td>0.622517</td>\n      <td>0.624365</td>\n      <td>0.678947</td>\n      <td>1</td>\n    </tr>\n    <tr>\n      <th>1</th>\n      <td>0.712329</td>\n      <td>0.706546</td>\n      <td>0.795789</td>\n      <td>0.606061</td>\n      <td>0.751908</td>\n      <td>0.751908</td>\n      <td>0.600000</td>\n      <td>0</td>\n    </tr>\n    <tr>\n      <th>2</th>\n      <td>0.712329</td>\n      <td>0.706546</td>\n      <td>0.795789</td>\n      <td>0.642857</td>\n      <td>0.751908</td>\n      <td>0.751908</td>\n      <td>0.523810</td>\n      <td>1</td>\n    </tr>\n    <tr>\n      <th>3</th>\n      <td>0.712329</td>\n      <td>0.595041</td>\n      <td>0.795789</td>\n      <td>0.642857</td>\n      <td>0.622517</td>\n      <td>0.624365</td>\n      <td>0.678947</td>\n      <td>1</td>\n    </tr>\n    <tr>\n      <th>4</th>\n      <td>0.628141</td>\n      <td>0.706546</td>\n      <td>0.795789</td>\n      <td>0.642857</td>\n      <td>0.622517</td>\n      <td>0.624365</td>\n      <td>0.678947</td>\n      <td>1</td>\n    </tr>\n    <tr>\n      <th>...</th>\n      <td>...</td>\n      <td>...</td>\n      <td>...</td>\n      <td>...</td>\n      <td>...</td>\n      <td>...</td>\n      <td>...</td>\n      <td>...</td>\n    </tr>\n    <tr>\n      <th>559</th>\n      <td>0.628141</td>\n      <td>0.706546</td>\n      <td>0.795789</td>\n      <td>0.606061</td>\n      <td>0.622517</td>\n      <td>0.615385</td>\n      <td>0.600000</td>\n      <td>1</td>\n    </tr>\n    <tr>\n      <th>560</th>\n      <td>0.712329</td>\n      <td>0.706546</td>\n      <td>0.795789</td>\n      <td>0.606061</td>\n      <td>0.751908</td>\n      <td>0.751908</td>\n      <td>0.600000</td>\n      <td>1</td>\n    </tr>\n    <tr>\n      <th>561</th>\n      <td>0.712329</td>\n      <td>0.706546</td>\n      <td>0.795789</td>\n      <td>0.642857</td>\n      <td>0.751908</td>\n      <td>0.751908</td>\n      <td>0.678947</td>\n      <td>1</td>\n    </tr>\n    <tr>\n      <th>562</th>\n      <td>0.712329</td>\n      <td>0.706546</td>\n      <td>0.795789</td>\n      <td>0.642857</td>\n      <td>0.751908</td>\n      <td>0.751908</td>\n      <td>0.678947</td>\n      <td>1</td>\n    </tr>\n    <tr>\n      <th>563</th>\n      <td>0.628141</td>\n      <td>0.706546</td>\n      <td>0.078652</td>\n      <td>0.774194</td>\n      <td>0.622517</td>\n      <td>0.615385</td>\n      <td>0.678947</td>\n      <td>0</td>\n    </tr>\n  </tbody>\n</table>\n<p>564 rows × 8 columns</p>\n</div>"
     },
     "execution_count": 5,
     "metadata": {},
     "output_type": "execute_result"
    }
   ],
   "source": [
    "data"
   ],
   "metadata": {
    "collapsed": false
   }
  },
  {
   "cell_type": "code",
   "execution_count": 6,
   "outputs": [],
   "source": [
    "def splitData(data):\n",
    "    X = data.drop('Loan_Status',axis=1)\n",
    "    y = data[['Loan_Status']]\n",
    "    x_train, x_test, y_train, y_test = train_test_split(X,y,test_size=0.2,random_state=42)\n",
    "    print((x_train.shape, x_test.shape), (y_train.shape,y_test.shape))\n",
    "    return [x_train, x_test, y_train, y_test]"
   ],
   "metadata": {
    "collapsed": false
   }
  },
  {
   "cell_type": "code",
   "execution_count": 7,
   "outputs": [],
   "source": [
    "def standardizeTransform(x_train, x_test, y_train, y_test):\n",
    "    scaler = StandardScaler().fit(x_train)\n",
    "    x_train_scaled = scaler.transform(x_train)\n",
    "    x_test_scaled = scaler.transform(x_test)\n",
    "    y_train_log = np.log(1+y_train)\n",
    "    y_test_log = np.log(1+y_test)\n",
    "    return [x_train_scaled, x_test_scaled, y_train_log, y_test_log]"
   ],
   "metadata": {
    "collapsed": false
   }
  },
  {
   "cell_type": "code",
   "execution_count": 8,
   "outputs": [
    {
     "name": "stdout",
     "output_type": "stream",
     "text": [
      "((451, 7), (113, 7)) ((451, 1), (113, 1))\n"
     ]
    }
   ],
   "source": [
    "x_train, x_test, y_train, y_test = splitData(data)"
   ],
   "metadata": {
    "collapsed": false
   }
  },
  {
   "cell_type": "code",
   "execution_count": 9,
   "outputs": [],
   "source": [
    "#x_train_scaled, x_test_scaled, y_train_log, y_test_log = standardizeTransform(x_train, x_test, y_train, y_test)"
   ],
   "metadata": {
    "collapsed": false
   }
  },
  {
   "cell_type": "code",
   "execution_count": 21,
   "outputs": [],
   "source": [
    "# Fit Model and Evaluate\n",
    "def fitPredict(x_train, y_train, x_test, y_test, model):\n",
    "    model.fit(x_train, y_train)\n",
    "\n",
    "    y_hat = model.predict(x_test)\n",
    "\n",
    "    #print(\"Train R2 score: \"+ str(model.score(x_train,y_train)))\n",
    "    print(\"Test F1 Score: \"+ str(f1_score(y_test,y_hat)))\n",
    "    print(\"Test Precision: \"+ str(precision_score(y_test,y_hat)))\n",
    "    print(\"Test Recall: \"+ str(recall_score(y_test,y_hat)))\n",
    "\n",
    "    return model"
   ],
   "metadata": {
    "collapsed": false
   }
  },
  {
   "cell_type": "code",
   "execution_count": 14,
   "outputs": [
    {
     "name": "stderr",
     "output_type": "stream",
     "text": [
      "C:\\Users\\ituser\\anaconda3\\lib\\site-packages\\numpy\\core\\fromnumeric.py:3472: FutureWarning: In a future version, DataFrame.mean(axis=None) will return a scalar mean over the entire DataFrame. To retain the old behavior, use 'frame.mean(axis=0)' or just 'frame.mean()'\n",
      "  return mean(axis=axis, dtype=dtype, out=out, **kwargs)\n"
     ]
    },
    {
     "ename": "ValueError",
     "evalue": "Found input variables with inconsistent numbers of samples: [113, 1]",
     "output_type": "error",
     "traceback": [
      "\u001B[1;31m---------------------------------------------------------------------------\u001B[0m",
      "\u001B[1;31mValueError\u001B[0m                                Traceback (most recent call last)",
      "\u001B[1;32m~\\AppData\\Local\\Temp\\ipykernel_17688\\868904778.py\u001B[0m in \u001B[0;36m<module>\u001B[1;34m\u001B[0m\n\u001B[0;32m      1\u001B[0m \u001B[1;31m# Baselining using mean\u001B[0m\u001B[1;33m\u001B[0m\u001B[1;33m\u001B[0m\u001B[0m\n\u001B[0;32m      2\u001B[0m \u001B[1;33m\u001B[0m\u001B[0m\n\u001B[1;32m----> 3\u001B[1;33m \u001B[0mprint\u001B[0m\u001B[1;33m(\u001B[0m\u001B[1;34m\"Test R2 score: \"\u001B[0m\u001B[1;33m+\u001B[0m \u001B[0mstr\u001B[0m\u001B[1;33m(\u001B[0m\u001B[0mr2_score\u001B[0m\u001B[1;33m(\u001B[0m\u001B[0my_test\u001B[0m\u001B[1;33m,\u001B[0m\u001B[0mnp\u001B[0m\u001B[1;33m.\u001B[0m\u001B[0mmean\u001B[0m\u001B[1;33m(\u001B[0m\u001B[0my_train\u001B[0m\u001B[1;33m)\u001B[0m\u001B[1;33m)\u001B[0m\u001B[1;33m)\u001B[0m\u001B[1;33m)\u001B[0m\u001B[1;33m\u001B[0m\u001B[1;33m\u001B[0m\u001B[0m\n\u001B[0m\u001B[0;32m      4\u001B[0m \u001B[0mprint\u001B[0m\u001B[1;33m(\u001B[0m\u001B[1;34m\"Test MAE: \"\u001B[0m\u001B[1;33m+\u001B[0m \u001B[0mstr\u001B[0m\u001B[1;33m(\u001B[0m\u001B[0mmean_absolute_error\u001B[0m\u001B[1;33m(\u001B[0m\u001B[0my_test\u001B[0m\u001B[1;33m,\u001B[0m\u001B[0mnp\u001B[0m\u001B[1;33m.\u001B[0m\u001B[0mmean\u001B[0m\u001B[1;33m(\u001B[0m\u001B[0my_train\u001B[0m\u001B[1;33m)\u001B[0m\u001B[1;33m)\u001B[0m\u001B[1;33m)\u001B[0m\u001B[1;33m)\u001B[0m\u001B[1;33m\u001B[0m\u001B[1;33m\u001B[0m\u001B[0m\n\u001B[0;32m      5\u001B[0m \u001B[0mprint\u001B[0m\u001B[1;33m(\u001B[0m\u001B[1;34m\"Test RMSE: \"\u001B[0m\u001B[1;33m+\u001B[0m \u001B[0mstr\u001B[0m\u001B[1;33m(\u001B[0m\u001B[0mnp\u001B[0m\u001B[1;33m.\u001B[0m\u001B[0msqrt\u001B[0m\u001B[1;33m(\u001B[0m\u001B[0mmean_squared_error\u001B[0m\u001B[1;33m(\u001B[0m\u001B[0my_test\u001B[0m\u001B[1;33m,\u001B[0m\u001B[0mnp\u001B[0m\u001B[1;33m.\u001B[0m\u001B[0mmean\u001B[0m\u001B[1;33m(\u001B[0m\u001B[0my_train\u001B[0m\u001B[1;33m)\u001B[0m\u001B[1;33m)\u001B[0m\u001B[1;33m)\u001B[0m\u001B[1;33m)\u001B[0m\u001B[1;33m)\u001B[0m\u001B[1;33m\u001B[0m\u001B[1;33m\u001B[0m\u001B[0m\n",
      "\u001B[1;32m~\\anaconda3\\lib\\site-packages\\sklearn\\metrics\\_regression.py\u001B[0m in \u001B[0;36mr2_score\u001B[1;34m(y_true, y_pred, sample_weight, multioutput)\u001B[0m\n\u001B[0;32m    787\u001B[0m     \u001B[1;33m-\u001B[0m\u001B[1;36m3.0\u001B[0m\u001B[1;33m\u001B[0m\u001B[1;33m\u001B[0m\u001B[0m\n\u001B[0;32m    788\u001B[0m     \"\"\"\n\u001B[1;32m--> 789\u001B[1;33m     y_type, y_true, y_pred, multioutput = _check_reg_targets(\n\u001B[0m\u001B[0;32m    790\u001B[0m         \u001B[0my_true\u001B[0m\u001B[1;33m,\u001B[0m \u001B[0my_pred\u001B[0m\u001B[1;33m,\u001B[0m \u001B[0mmultioutput\u001B[0m\u001B[1;33m\u001B[0m\u001B[1;33m\u001B[0m\u001B[0m\n\u001B[0;32m    791\u001B[0m     )\n",
      "\u001B[1;32m~\\anaconda3\\lib\\site-packages\\sklearn\\metrics\\_regression.py\u001B[0m in \u001B[0;36m_check_reg_targets\u001B[1;34m(y_true, y_pred, multioutput, dtype)\u001B[0m\n\u001B[0;32m     92\u001B[0m         \u001B[0mthe\u001B[0m \u001B[0mdtype\u001B[0m \u001B[0margument\u001B[0m \u001B[0mpassed\u001B[0m \u001B[0mto\u001B[0m \u001B[0mcheck_array\u001B[0m\u001B[1;33m.\u001B[0m\u001B[1;33m\u001B[0m\u001B[1;33m\u001B[0m\u001B[0m\n\u001B[0;32m     93\u001B[0m     \"\"\"\n\u001B[1;32m---> 94\u001B[1;33m     \u001B[0mcheck_consistent_length\u001B[0m\u001B[1;33m(\u001B[0m\u001B[0my_true\u001B[0m\u001B[1;33m,\u001B[0m \u001B[0my_pred\u001B[0m\u001B[1;33m)\u001B[0m\u001B[1;33m\u001B[0m\u001B[1;33m\u001B[0m\u001B[0m\n\u001B[0m\u001B[0;32m     95\u001B[0m     \u001B[0my_true\u001B[0m \u001B[1;33m=\u001B[0m \u001B[0mcheck_array\u001B[0m\u001B[1;33m(\u001B[0m\u001B[0my_true\u001B[0m\u001B[1;33m,\u001B[0m \u001B[0mensure_2d\u001B[0m\u001B[1;33m=\u001B[0m\u001B[1;32mFalse\u001B[0m\u001B[1;33m,\u001B[0m \u001B[0mdtype\u001B[0m\u001B[1;33m=\u001B[0m\u001B[0mdtype\u001B[0m\u001B[1;33m)\u001B[0m\u001B[1;33m\u001B[0m\u001B[1;33m\u001B[0m\u001B[0m\n\u001B[0;32m     96\u001B[0m     \u001B[0my_pred\u001B[0m \u001B[1;33m=\u001B[0m \u001B[0mcheck_array\u001B[0m\u001B[1;33m(\u001B[0m\u001B[0my_pred\u001B[0m\u001B[1;33m,\u001B[0m \u001B[0mensure_2d\u001B[0m\u001B[1;33m=\u001B[0m\u001B[1;32mFalse\u001B[0m\u001B[1;33m,\u001B[0m \u001B[0mdtype\u001B[0m\u001B[1;33m=\u001B[0m\u001B[0mdtype\u001B[0m\u001B[1;33m)\u001B[0m\u001B[1;33m\u001B[0m\u001B[1;33m\u001B[0m\u001B[0m\n",
      "\u001B[1;32m~\\anaconda3\\lib\\site-packages\\sklearn\\utils\\validation.py\u001B[0m in \u001B[0;36mcheck_consistent_length\u001B[1;34m(*arrays)\u001B[0m\n\u001B[0;32m    330\u001B[0m     \u001B[0muniques\u001B[0m \u001B[1;33m=\u001B[0m \u001B[0mnp\u001B[0m\u001B[1;33m.\u001B[0m\u001B[0munique\u001B[0m\u001B[1;33m(\u001B[0m\u001B[0mlengths\u001B[0m\u001B[1;33m)\u001B[0m\u001B[1;33m\u001B[0m\u001B[1;33m\u001B[0m\u001B[0m\n\u001B[0;32m    331\u001B[0m     \u001B[1;32mif\u001B[0m \u001B[0mlen\u001B[0m\u001B[1;33m(\u001B[0m\u001B[0muniques\u001B[0m\u001B[1;33m)\u001B[0m \u001B[1;33m>\u001B[0m \u001B[1;36m1\u001B[0m\u001B[1;33m:\u001B[0m\u001B[1;33m\u001B[0m\u001B[1;33m\u001B[0m\u001B[0m\n\u001B[1;32m--> 332\u001B[1;33m         raise ValueError(\n\u001B[0m\u001B[0;32m    333\u001B[0m             \u001B[1;34m\"Found input variables with inconsistent numbers of samples: %r\"\u001B[0m\u001B[1;33m\u001B[0m\u001B[1;33m\u001B[0m\u001B[0m\n\u001B[0;32m    334\u001B[0m             \u001B[1;33m%\u001B[0m \u001B[1;33m[\u001B[0m\u001B[0mint\u001B[0m\u001B[1;33m(\u001B[0m\u001B[0ml\u001B[0m\u001B[1;33m)\u001B[0m \u001B[1;32mfor\u001B[0m \u001B[0ml\u001B[0m \u001B[1;32min\u001B[0m \u001B[0mlengths\u001B[0m\u001B[1;33m]\u001B[0m\u001B[1;33m\u001B[0m\u001B[1;33m\u001B[0m\u001B[0m\n",
      "\u001B[1;31mValueError\u001B[0m: Found input variables with inconsistent numbers of samples: [113, 1]"
     ]
    }
   ],
   "source": [
    "# Baselining using mean\n",
    "\n",
    "print(\"Test R2 score: \"+ str(r2_score(y_test,np.mean(y_train))))\n",
    "print(\"Test MAE: \"+ str(mean_absolute_error(y_test,np.mean(y_train))))\n",
    "print(\"Test RMSE: \"+ str(np.sqrt(mean_squared_error(y_test,np.mean(y_train)))))"
   ],
   "metadata": {
    "collapsed": false
   }
  },
  {
   "cell_type": "code",
   "execution_count": 22,
   "outputs": [
    {
     "name": "stdout",
     "output_type": "stream",
     "text": [
      "Count Vectorizer Test Set Results:\n",
      "Test F1 Score: 0.8848484848484848\n",
      "Test Precision: 0.8021978021978022\n",
      "Test Recall: 0.9864864864864865\n"
     ]
    },
    {
     "name": "stderr",
     "output_type": "stream",
     "text": [
      "C:\\Users\\ituser\\anaconda3\\lib\\site-packages\\sklearn\\utils\\validation.py:993: DataConversionWarning: A column-vector y was passed when a 1d array was expected. Please change the shape of y to (n_samples, ), for example using ravel().\n",
      "  y = column_or_1d(y, warn=True)\n"
     ]
    }
   ],
   "source": [
    "# Logistic Model Test set prediction and Evaluation\n",
    "print('Count Vectorizer Test Set Results:')\n",
    "lm = fitPredict(x_train, y_train, x_test, y_test, LogisticRegression())"
   ],
   "metadata": {
    "collapsed": false
   }
  },
  {
   "cell_type": "markdown",
   "source": [
    "<h3>Upsampling</h3>"
   ],
   "metadata": {
    "collapsed": false
   }
  },
  {
   "cell_type": "code",
   "execution_count": null,
   "outputs": [],
   "source": [],
   "metadata": {
    "collapsed": false
   }
  }
 ],
 "metadata": {
  "kernelspec": {
   "display_name": "Python 3",
   "language": "python",
   "name": "python3"
  },
  "language_info": {
   "codemirror_mode": {
    "name": "ipython",
    "version": 2
   },
   "file_extension": ".py",
   "mimetype": "text/x-python",
   "name": "python",
   "nbconvert_exporter": "python",
   "pygments_lexer": "ipython2",
   "version": "2.7.6"
  }
 },
 "nbformat": 4,
 "nbformat_minor": 0
}
