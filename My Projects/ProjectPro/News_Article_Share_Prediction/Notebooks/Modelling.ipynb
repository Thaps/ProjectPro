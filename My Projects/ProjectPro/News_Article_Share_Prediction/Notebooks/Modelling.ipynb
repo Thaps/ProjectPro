{
 "cells": [
  {
   "cell_type": "markdown",
   "source": [
    "<h1>Modelling</h1>"
   ],
   "metadata": {
    "collapsed": false
   }
  },
  {
   "cell_type": "code",
   "execution_count": 1,
   "outputs": [],
   "source": [
    "# Importing the necessary libraries\n",
    "import pandas as pd\n",
    "import numpy as np\n",
    "import matplotlib.pyplot as plt"
   ],
   "metadata": {
    "collapsed": false
   }
  },
  {
   "cell_type": "code",
   "execution_count": 33,
   "outputs": [],
   "source": [
    "from sklearn.model_selection import train_test_split\n",
    "from sklearn.linear_model import LinearRegression, Ridge, ElasticNet\n",
    "from sklearn.metrics import mean_squared_error, mean_absolute_error, r2_score\n",
    "from sklearn.neural_network import MLPRegressor\n",
    "from sklearn.preprocessing import StandardScaler\n",
    "from sklearn.ensemble import GradientBoostingRegressor\n",
    "from xgboost.sklearn import XGBRegressor"
   ],
   "metadata": {
    "collapsed": false
   }
  },
  {
   "cell_type": "code",
   "execution_count": 3,
   "outputs": [],
   "source": [
    "def importData(location):\n",
    "    data = pd.read_csv(location)\n",
    "    return data"
   ],
   "metadata": {
    "collapsed": false
   }
  },
  {
   "cell_type": "code",
   "execution_count": 4,
   "outputs": [
    {
     "data": {
      "text/plain": "   Unnamed: 0  article_id                                              title  \\\n0           0     7014291                 It's Time for a YouTube Competitor   \n1           1     7014327  The Ultimate Roundup of 2014's Biggest April F...   \n2           2     7014304  A Selfie and One Garish Jacket: How the Red So...   \n3           3     7031995    African Telecom Proposes More Diverse Emoticons   \n4           4     6541359  Google to Launch Improved Android Camera App, ...   \n\n                                                text  unique_tokens_rate  \\\n0  It was reported last week that Yahoo is gettin...            0.640816   \n1  April Fools' marks the day when pranking goes ...            0.549618   \n2  The 2013 World Series champion Boston Red Sox ...            0.577236   \n3  Less than a week after Apple pledged to make i...            0.525896   \n4  Android users may soon see a series of new fea...            0.588889   \n\n   num_hrefs  num_imgs  num_videos  average_token_length  num_keywords  ...  \\\n0        5.0       3.0         1.0              4.579592             5  ...   \n1        4.0       1.0         0.0              4.636704             7  ...   \n2        8.0       1.0         0.0              4.627451             7  ...   \n3        4.0       1.0         0.0              5.083665             9  ...   \n4        6.0       9.0         0.0              4.336022             7  ...   \n\n   windows phone  windows update  windows xp  world cup  wp_scm_comment bonus  \\\n0              0               0           0          0                     0   \n1              0               0           0          0                     0   \n2              0               0           0          0                     0   \n3              0               0           0          0                     1   \n4              0               0           0          0                     0   \n\n   wrote blog  york city  york times  youtube channel  youtube videos  \n0           0          0           0                0               1  \n1           0          0           0                0               0  \n2           0          0           0                0               0  \n3           0          0           0                0               0  \n4           0          0           0                0               0  \n\n[5 rows x 231 columns]",
      "text/html": "<div>\n<style scoped>\n    .dataframe tbody tr th:only-of-type {\n        vertical-align: middle;\n    }\n\n    .dataframe tbody tr th {\n        vertical-align: top;\n    }\n\n    .dataframe thead th {\n        text-align: right;\n    }\n</style>\n<table border=\"1\" class=\"dataframe\">\n  <thead>\n    <tr style=\"text-align: right;\">\n      <th></th>\n      <th>Unnamed: 0</th>\n      <th>article_id</th>\n      <th>title</th>\n      <th>text</th>\n      <th>unique_tokens_rate</th>\n      <th>num_hrefs</th>\n      <th>num_imgs</th>\n      <th>num_videos</th>\n      <th>average_token_length</th>\n      <th>num_keywords</th>\n      <th>...</th>\n      <th>windows phone</th>\n      <th>windows update</th>\n      <th>windows xp</th>\n      <th>world cup</th>\n      <th>wp_scm_comment bonus</th>\n      <th>wrote blog</th>\n      <th>york city</th>\n      <th>york times</th>\n      <th>youtube channel</th>\n      <th>youtube videos</th>\n    </tr>\n  </thead>\n  <tbody>\n    <tr>\n      <th>0</th>\n      <td>0</td>\n      <td>7014291</td>\n      <td>It's Time for a YouTube Competitor</td>\n      <td>It was reported last week that Yahoo is gettin...</td>\n      <td>0.640816</td>\n      <td>5.0</td>\n      <td>3.0</td>\n      <td>1.0</td>\n      <td>4.579592</td>\n      <td>5</td>\n      <td>...</td>\n      <td>0</td>\n      <td>0</td>\n      <td>0</td>\n      <td>0</td>\n      <td>0</td>\n      <td>0</td>\n      <td>0</td>\n      <td>0</td>\n      <td>0</td>\n      <td>1</td>\n    </tr>\n    <tr>\n      <th>1</th>\n      <td>1</td>\n      <td>7014327</td>\n      <td>The Ultimate Roundup of 2014's Biggest April F...</td>\n      <td>April Fools' marks the day when pranking goes ...</td>\n      <td>0.549618</td>\n      <td>4.0</td>\n      <td>1.0</td>\n      <td>0.0</td>\n      <td>4.636704</td>\n      <td>7</td>\n      <td>...</td>\n      <td>0</td>\n      <td>0</td>\n      <td>0</td>\n      <td>0</td>\n      <td>0</td>\n      <td>0</td>\n      <td>0</td>\n      <td>0</td>\n      <td>0</td>\n      <td>0</td>\n    </tr>\n    <tr>\n      <th>2</th>\n      <td>2</td>\n      <td>7014304</td>\n      <td>A Selfie and One Garish Jacket: How the Red So...</td>\n      <td>The 2013 World Series champion Boston Red Sox ...</td>\n      <td>0.577236</td>\n      <td>8.0</td>\n      <td>1.0</td>\n      <td>0.0</td>\n      <td>4.627451</td>\n      <td>7</td>\n      <td>...</td>\n      <td>0</td>\n      <td>0</td>\n      <td>0</td>\n      <td>0</td>\n      <td>0</td>\n      <td>0</td>\n      <td>0</td>\n      <td>0</td>\n      <td>0</td>\n      <td>0</td>\n    </tr>\n    <tr>\n      <th>3</th>\n      <td>3</td>\n      <td>7031995</td>\n      <td>African Telecom Proposes More Diverse Emoticons</td>\n      <td>Less than a week after Apple pledged to make i...</td>\n      <td>0.525896</td>\n      <td>4.0</td>\n      <td>1.0</td>\n      <td>0.0</td>\n      <td>5.083665</td>\n      <td>9</td>\n      <td>...</td>\n      <td>0</td>\n      <td>0</td>\n      <td>0</td>\n      <td>0</td>\n      <td>1</td>\n      <td>0</td>\n      <td>0</td>\n      <td>0</td>\n      <td>0</td>\n      <td>0</td>\n    </tr>\n    <tr>\n      <th>4</th>\n      <td>4</td>\n      <td>6541359</td>\n      <td>Google to Launch Improved Android Camera App, ...</td>\n      <td>Android users may soon see a series of new fea...</td>\n      <td>0.588889</td>\n      <td>6.0</td>\n      <td>9.0</td>\n      <td>0.0</td>\n      <td>4.336022</td>\n      <td>7</td>\n      <td>...</td>\n      <td>0</td>\n      <td>0</td>\n      <td>0</td>\n      <td>0</td>\n      <td>0</td>\n      <td>0</td>\n      <td>0</td>\n      <td>0</td>\n      <td>0</td>\n      <td>0</td>\n    </tr>\n  </tbody>\n</table>\n<p>5 rows × 231 columns</p>\n</div>"
     },
     "execution_count": 4,
     "metadata": {},
     "output_type": "execute_result"
    }
   ],
   "source": [
    "cv_2_200 = importData('../Data/cv_2_200.csv')\n",
    "cv_2_200.head()"
   ],
   "metadata": {
    "collapsed": false
   }
  },
  {
   "cell_type": "code",
   "execution_count": 5,
   "outputs": [
    {
     "data": {
      "text/plain": "   Unnamed: 0  article_id                                              title  \\\n0           0     7014291                 It's Time for a YouTube Competitor   \n1           1     7014327  The Ultimate Roundup of 2014's Biggest April F...   \n2           2     7014304  A Selfie and One Garish Jacket: How the Red So...   \n3           3     7031995    African Telecom Proposes More Diverse Emoticons   \n4           4     6541359  Google to Launch Improved Android Camera App, ...   \n\n                                                text  unique_tokens_rate  \\\n0  It was reported last week that Yahoo is gettin...            0.640816   \n1  April Fools' marks the day when pranking goes ...            0.549618   \n2  The 2013 World Series champion Boston Red Sox ...            0.577236   \n3  Less than a week after Apple pledged to make i...            0.525896   \n4  Android users may soon see a series of new fea...            0.588889   \n\n   num_hrefs  num_imgs  num_videos  average_token_length  num_keywords  ...  \\\n0        5.0       3.0         1.0              4.579592             5  ...   \n1        4.0       1.0         0.0              4.636704             7  ...   \n2        8.0       1.0         0.0              4.627451             7  ...   \n3        4.0       1.0         0.0              5.083665             9  ...   \n4        6.0       9.0         0.0              4.336022             7  ...   \n\n   windows phone  windows update  windows xp  world cup  wp_scm_comment bonus  \\\n0            0.0             0.0         0.0        0.0              0.000000   \n1            0.0             0.0         0.0        0.0              0.000000   \n2            0.0             0.0         0.0        0.0              0.000000   \n3            0.0             0.0         0.0        0.0              0.415438   \n4            0.0             0.0         0.0        0.0              0.000000   \n\n   wrote blog  york city  york times  youtube channel  youtube videos  \n0         0.0        0.0         0.0              0.0        0.715661  \n1         0.0        0.0         0.0              0.0        0.000000  \n2         0.0        0.0         0.0              0.0        0.000000  \n3         0.0        0.0         0.0              0.0        0.000000  \n4         0.0        0.0         0.0              0.0        0.000000  \n\n[5 rows x 231 columns]",
      "text/html": "<div>\n<style scoped>\n    .dataframe tbody tr th:only-of-type {\n        vertical-align: middle;\n    }\n\n    .dataframe tbody tr th {\n        vertical-align: top;\n    }\n\n    .dataframe thead th {\n        text-align: right;\n    }\n</style>\n<table border=\"1\" class=\"dataframe\">\n  <thead>\n    <tr style=\"text-align: right;\">\n      <th></th>\n      <th>Unnamed: 0</th>\n      <th>article_id</th>\n      <th>title</th>\n      <th>text</th>\n      <th>unique_tokens_rate</th>\n      <th>num_hrefs</th>\n      <th>num_imgs</th>\n      <th>num_videos</th>\n      <th>average_token_length</th>\n      <th>num_keywords</th>\n      <th>...</th>\n      <th>windows phone</th>\n      <th>windows update</th>\n      <th>windows xp</th>\n      <th>world cup</th>\n      <th>wp_scm_comment bonus</th>\n      <th>wrote blog</th>\n      <th>york city</th>\n      <th>york times</th>\n      <th>youtube channel</th>\n      <th>youtube videos</th>\n    </tr>\n  </thead>\n  <tbody>\n    <tr>\n      <th>0</th>\n      <td>0</td>\n      <td>7014291</td>\n      <td>It's Time for a YouTube Competitor</td>\n      <td>It was reported last week that Yahoo is gettin...</td>\n      <td>0.640816</td>\n      <td>5.0</td>\n      <td>3.0</td>\n      <td>1.0</td>\n      <td>4.579592</td>\n      <td>5</td>\n      <td>...</td>\n      <td>0.0</td>\n      <td>0.0</td>\n      <td>0.0</td>\n      <td>0.0</td>\n      <td>0.000000</td>\n      <td>0.0</td>\n      <td>0.0</td>\n      <td>0.0</td>\n      <td>0.0</td>\n      <td>0.715661</td>\n    </tr>\n    <tr>\n      <th>1</th>\n      <td>1</td>\n      <td>7014327</td>\n      <td>The Ultimate Roundup of 2014's Biggest April F...</td>\n      <td>April Fools' marks the day when pranking goes ...</td>\n      <td>0.549618</td>\n      <td>4.0</td>\n      <td>1.0</td>\n      <td>0.0</td>\n      <td>4.636704</td>\n      <td>7</td>\n      <td>...</td>\n      <td>0.0</td>\n      <td>0.0</td>\n      <td>0.0</td>\n      <td>0.0</td>\n      <td>0.000000</td>\n      <td>0.0</td>\n      <td>0.0</td>\n      <td>0.0</td>\n      <td>0.0</td>\n      <td>0.000000</td>\n    </tr>\n    <tr>\n      <th>2</th>\n      <td>2</td>\n      <td>7014304</td>\n      <td>A Selfie and One Garish Jacket: How the Red So...</td>\n      <td>The 2013 World Series champion Boston Red Sox ...</td>\n      <td>0.577236</td>\n      <td>8.0</td>\n      <td>1.0</td>\n      <td>0.0</td>\n      <td>4.627451</td>\n      <td>7</td>\n      <td>...</td>\n      <td>0.0</td>\n      <td>0.0</td>\n      <td>0.0</td>\n      <td>0.0</td>\n      <td>0.000000</td>\n      <td>0.0</td>\n      <td>0.0</td>\n      <td>0.0</td>\n      <td>0.0</td>\n      <td>0.000000</td>\n    </tr>\n    <tr>\n      <th>3</th>\n      <td>3</td>\n      <td>7031995</td>\n      <td>African Telecom Proposes More Diverse Emoticons</td>\n      <td>Less than a week after Apple pledged to make i...</td>\n      <td>0.525896</td>\n      <td>4.0</td>\n      <td>1.0</td>\n      <td>0.0</td>\n      <td>5.083665</td>\n      <td>9</td>\n      <td>...</td>\n      <td>0.0</td>\n      <td>0.0</td>\n      <td>0.0</td>\n      <td>0.0</td>\n      <td>0.415438</td>\n      <td>0.0</td>\n      <td>0.0</td>\n      <td>0.0</td>\n      <td>0.0</td>\n      <td>0.000000</td>\n    </tr>\n    <tr>\n      <th>4</th>\n      <td>4</td>\n      <td>6541359</td>\n      <td>Google to Launch Improved Android Camera App, ...</td>\n      <td>Android users may soon see a series of new fea...</td>\n      <td>0.588889</td>\n      <td>6.0</td>\n      <td>9.0</td>\n      <td>0.0</td>\n      <td>4.336022</td>\n      <td>7</td>\n      <td>...</td>\n      <td>0.0</td>\n      <td>0.0</td>\n      <td>0.0</td>\n      <td>0.0</td>\n      <td>0.000000</td>\n      <td>0.0</td>\n      <td>0.0</td>\n      <td>0.0</td>\n      <td>0.0</td>\n      <td>0.000000</td>\n    </tr>\n  </tbody>\n</table>\n<p>5 rows × 231 columns</p>\n</div>"
     },
     "execution_count": 5,
     "metadata": {},
     "output_type": "execute_result"
    }
   ],
   "source": [
    "tfidf_2_200 = importData('../Data/tfidf_2_200.csv')\n",
    "tfidf_2_200.head()"
   ],
   "metadata": {
    "collapsed": false
   }
  },
  {
   "cell_type": "code",
   "execution_count": 6,
   "outputs": [],
   "source": [
    "# Function for deleting column Unnamed: 0 and also creating df which only has numeric fields\n",
    "def initialProcessing(data):\n",
    "    data.drop('Unnamed: 0', axis=1, inplace=True)\n",
    "    df = data.drop(['article_id', 'title', 'text', 'data_channel_cleaned', 'text_prepared', 'published_date_cleaned'], axis=1)\n",
    "    return df"
   ],
   "metadata": {
    "collapsed": false
   }
  },
  {
   "cell_type": "code",
   "execution_count": 7,
   "outputs": [
    {
     "data": {
      "text/plain": "      unique_tokens_rate  num_hrefs  num_imgs  num_videos  \\\n0               0.640816        5.0       3.0         1.0   \n1               0.549618        4.0       1.0         0.0   \n2               0.577236        8.0       1.0         0.0   \n3               0.525896        4.0       1.0         0.0   \n4               0.588889        6.0       9.0         0.0   \n...                  ...        ...       ...         ...   \n998             0.606557        6.0       2.0         0.0   \n999             0.491018        4.0       2.0         0.0   \n1000            0.634518        3.0       0.0         2.0   \n1001            0.447368        7.0       1.0         0.0   \n1002            0.480412        5.0       2.0         0.0   \n\n      average_token_length  num_keywords  min_avg_key  max_avg_key  \\\n0                 4.579592             5     1459.500     4817.692   \n1                 4.636704             7        0.000     3581.094   \n2                 4.627451             7     2270.889     3852.800   \n3                 5.083665             9        0.000     3581.094   \n4                 4.336022             7     3264.605     8453.451   \n...                    ...           ...          ...          ...   \n998               4.913978             4     3264.605     5709.823   \n999               4.674627             6        0.000     4352.491   \n1000              4.177665             9     2126.118     6060.771   \n1001              4.667961             8        0.000     4763.083   \n1002              4.429126             5     1404.841     3610.125   \n\n      avg_avg_key  href_avg_shares  ...  windows phone  windows update  \\\n0        3370.415         1833.333  ...              0               0   \n1        2556.367         8500.000  ...              0               0   \n2        3018.167         2076.333  ...              0               0   \n3        1871.403         2200.000  ...              0               0   \n4        5155.323          805.000  ...              0               0   \n...           ...              ...  ...            ...             ...   \n998      4020.608         1950.000  ...              0               0   \n999      2358.572         4200.000  ...              0               0   \n1000     3296.052         3400.000  ...              0               0   \n1001     2709.129            0.000  ...              0               0   \n1002     2717.930         1100.000  ...              0               0   \n\n      windows xp  world cup  wp_scm_comment bonus  wrote blog  york city  \\\n0              0          0                     0           0          0   \n1              0          0                     0           0          0   \n2              0          0                     0           0          0   \n3              0          0                     1           0          0   \n4              0          0                     0           0          0   \n...          ...        ...                   ...         ...        ...   \n998            0          0                     0           0          0   \n999            0          0                     0           0          0   \n1000           0          0                     0           0          0   \n1001           0          0                     0           0          0   \n1002           0          0                     0           0          1   \n\n      york times  youtube channel  youtube videos  \n0              0                0               1  \n1              0                0               0  \n2              0                0               0  \n3              0                0               0  \n4              0                0               0  \n...          ...              ...             ...  \n998            0                0               0  \n999            0                0               0  \n1000           0                0               0  \n1001           0                0               0  \n1002           0                0               0  \n\n[1003 rows x 224 columns]",
      "text/html": "<div>\n<style scoped>\n    .dataframe tbody tr th:only-of-type {\n        vertical-align: middle;\n    }\n\n    .dataframe tbody tr th {\n        vertical-align: top;\n    }\n\n    .dataframe thead th {\n        text-align: right;\n    }\n</style>\n<table border=\"1\" class=\"dataframe\">\n  <thead>\n    <tr style=\"text-align: right;\">\n      <th></th>\n      <th>unique_tokens_rate</th>\n      <th>num_hrefs</th>\n      <th>num_imgs</th>\n      <th>num_videos</th>\n      <th>average_token_length</th>\n      <th>num_keywords</th>\n      <th>min_avg_key</th>\n      <th>max_avg_key</th>\n      <th>avg_avg_key</th>\n      <th>href_avg_shares</th>\n      <th>...</th>\n      <th>windows phone</th>\n      <th>windows update</th>\n      <th>windows xp</th>\n      <th>world cup</th>\n      <th>wp_scm_comment bonus</th>\n      <th>wrote blog</th>\n      <th>york city</th>\n      <th>york times</th>\n      <th>youtube channel</th>\n      <th>youtube videos</th>\n    </tr>\n  </thead>\n  <tbody>\n    <tr>\n      <th>0</th>\n      <td>0.640816</td>\n      <td>5.0</td>\n      <td>3.0</td>\n      <td>1.0</td>\n      <td>4.579592</td>\n      <td>5</td>\n      <td>1459.500</td>\n      <td>4817.692</td>\n      <td>3370.415</td>\n      <td>1833.333</td>\n      <td>...</td>\n      <td>0</td>\n      <td>0</td>\n      <td>0</td>\n      <td>0</td>\n      <td>0</td>\n      <td>0</td>\n      <td>0</td>\n      <td>0</td>\n      <td>0</td>\n      <td>1</td>\n    </tr>\n    <tr>\n      <th>1</th>\n      <td>0.549618</td>\n      <td>4.0</td>\n      <td>1.0</td>\n      <td>0.0</td>\n      <td>4.636704</td>\n      <td>7</td>\n      <td>0.000</td>\n      <td>3581.094</td>\n      <td>2556.367</td>\n      <td>8500.000</td>\n      <td>...</td>\n      <td>0</td>\n      <td>0</td>\n      <td>0</td>\n      <td>0</td>\n      <td>0</td>\n      <td>0</td>\n      <td>0</td>\n      <td>0</td>\n      <td>0</td>\n      <td>0</td>\n    </tr>\n    <tr>\n      <th>2</th>\n      <td>0.577236</td>\n      <td>8.0</td>\n      <td>1.0</td>\n      <td>0.0</td>\n      <td>4.627451</td>\n      <td>7</td>\n      <td>2270.889</td>\n      <td>3852.800</td>\n      <td>3018.167</td>\n      <td>2076.333</td>\n      <td>...</td>\n      <td>0</td>\n      <td>0</td>\n      <td>0</td>\n      <td>0</td>\n      <td>0</td>\n      <td>0</td>\n      <td>0</td>\n      <td>0</td>\n      <td>0</td>\n      <td>0</td>\n    </tr>\n    <tr>\n      <th>3</th>\n      <td>0.525896</td>\n      <td>4.0</td>\n      <td>1.0</td>\n      <td>0.0</td>\n      <td>5.083665</td>\n      <td>9</td>\n      <td>0.000</td>\n      <td>3581.094</td>\n      <td>1871.403</td>\n      <td>2200.000</td>\n      <td>...</td>\n      <td>0</td>\n      <td>0</td>\n      <td>0</td>\n      <td>0</td>\n      <td>1</td>\n      <td>0</td>\n      <td>0</td>\n      <td>0</td>\n      <td>0</td>\n      <td>0</td>\n    </tr>\n    <tr>\n      <th>4</th>\n      <td>0.588889</td>\n      <td>6.0</td>\n      <td>9.0</td>\n      <td>0.0</td>\n      <td>4.336022</td>\n      <td>7</td>\n      <td>3264.605</td>\n      <td>8453.451</td>\n      <td>5155.323</td>\n      <td>805.000</td>\n      <td>...</td>\n      <td>0</td>\n      <td>0</td>\n      <td>0</td>\n      <td>0</td>\n      <td>0</td>\n      <td>0</td>\n      <td>0</td>\n      <td>0</td>\n      <td>0</td>\n      <td>0</td>\n    </tr>\n    <tr>\n      <th>...</th>\n      <td>...</td>\n      <td>...</td>\n      <td>...</td>\n      <td>...</td>\n      <td>...</td>\n      <td>...</td>\n      <td>...</td>\n      <td>...</td>\n      <td>...</td>\n      <td>...</td>\n      <td>...</td>\n      <td>...</td>\n      <td>...</td>\n      <td>...</td>\n      <td>...</td>\n      <td>...</td>\n      <td>...</td>\n      <td>...</td>\n      <td>...</td>\n      <td>...</td>\n      <td>...</td>\n    </tr>\n    <tr>\n      <th>998</th>\n      <td>0.606557</td>\n      <td>6.0</td>\n      <td>2.0</td>\n      <td>0.0</td>\n      <td>4.913978</td>\n      <td>4</td>\n      <td>3264.605</td>\n      <td>5709.823</td>\n      <td>4020.608</td>\n      <td>1950.000</td>\n      <td>...</td>\n      <td>0</td>\n      <td>0</td>\n      <td>0</td>\n      <td>0</td>\n      <td>0</td>\n      <td>0</td>\n      <td>0</td>\n      <td>0</td>\n      <td>0</td>\n      <td>0</td>\n    </tr>\n    <tr>\n      <th>999</th>\n      <td>0.491018</td>\n      <td>4.0</td>\n      <td>2.0</td>\n      <td>0.0</td>\n      <td>4.674627</td>\n      <td>6</td>\n      <td>0.000</td>\n      <td>4352.491</td>\n      <td>2358.572</td>\n      <td>4200.000</td>\n      <td>...</td>\n      <td>0</td>\n      <td>0</td>\n      <td>0</td>\n      <td>0</td>\n      <td>0</td>\n      <td>0</td>\n      <td>0</td>\n      <td>0</td>\n      <td>0</td>\n      <td>0</td>\n    </tr>\n    <tr>\n      <th>1000</th>\n      <td>0.634518</td>\n      <td>3.0</td>\n      <td>0.0</td>\n      <td>2.0</td>\n      <td>4.177665</td>\n      <td>9</td>\n      <td>2126.118</td>\n      <td>6060.771</td>\n      <td>3296.052</td>\n      <td>3400.000</td>\n      <td>...</td>\n      <td>0</td>\n      <td>0</td>\n      <td>0</td>\n      <td>0</td>\n      <td>0</td>\n      <td>0</td>\n      <td>0</td>\n      <td>0</td>\n      <td>0</td>\n      <td>0</td>\n    </tr>\n    <tr>\n      <th>1001</th>\n      <td>0.447368</td>\n      <td>7.0</td>\n      <td>1.0</td>\n      <td>0.0</td>\n      <td>4.667961</td>\n      <td>8</td>\n      <td>0.000</td>\n      <td>4763.083</td>\n      <td>2709.129</td>\n      <td>0.000</td>\n      <td>...</td>\n      <td>0</td>\n      <td>0</td>\n      <td>0</td>\n      <td>0</td>\n      <td>0</td>\n      <td>0</td>\n      <td>0</td>\n      <td>0</td>\n      <td>0</td>\n      <td>0</td>\n    </tr>\n    <tr>\n      <th>1002</th>\n      <td>0.480412</td>\n      <td>5.0</td>\n      <td>2.0</td>\n      <td>0.0</td>\n      <td>4.429126</td>\n      <td>5</td>\n      <td>1404.841</td>\n      <td>3610.125</td>\n      <td>2717.930</td>\n      <td>1100.000</td>\n      <td>...</td>\n      <td>0</td>\n      <td>0</td>\n      <td>0</td>\n      <td>0</td>\n      <td>0</td>\n      <td>0</td>\n      <td>1</td>\n      <td>0</td>\n      <td>0</td>\n      <td>0</td>\n    </tr>\n  </tbody>\n</table>\n<p>1003 rows × 224 columns</p>\n</div>"
     },
     "execution_count": 7,
     "metadata": {},
     "output_type": "execute_result"
    }
   ],
   "source": [
    "cv_2_200 = initialProcessing(cv_2_200)\n",
    "cv_2_200"
   ],
   "metadata": {
    "collapsed": false
   }
  },
  {
   "cell_type": "code",
   "execution_count": 8,
   "outputs": [
    {
     "data": {
      "text/plain": "      unique_tokens_rate  num_hrefs  num_imgs  num_videos  \\\n0               0.640816        5.0       3.0         1.0   \n1               0.549618        4.0       1.0         0.0   \n2               0.577236        8.0       1.0         0.0   \n3               0.525896        4.0       1.0         0.0   \n4               0.588889        6.0       9.0         0.0   \n...                  ...        ...       ...         ...   \n998             0.606557        6.0       2.0         0.0   \n999             0.491018        4.0       2.0         0.0   \n1000            0.634518        3.0       0.0         2.0   \n1001            0.447368        7.0       1.0         0.0   \n1002            0.480412        5.0       2.0         0.0   \n\n      average_token_length  num_keywords  min_avg_key  max_avg_key  \\\n0                 4.579592             5     1459.500     4817.692   \n1                 4.636704             7        0.000     3581.094   \n2                 4.627451             7     2270.889     3852.800   \n3                 5.083665             9        0.000     3581.094   \n4                 4.336022             7     3264.605     8453.451   \n...                    ...           ...          ...          ...   \n998               4.913978             4     3264.605     5709.823   \n999               4.674627             6        0.000     4352.491   \n1000              4.177665             9     2126.118     6060.771   \n1001              4.667961             8        0.000     4763.083   \n1002              4.429126             5     1404.841     3610.125   \n\n      avg_avg_key  href_avg_shares  ...  windows phone  windows update  \\\n0        3370.415         1833.333  ...            0.0             0.0   \n1        2556.367         8500.000  ...            0.0             0.0   \n2        3018.167         2076.333  ...            0.0             0.0   \n3        1871.403         2200.000  ...            0.0             0.0   \n4        5155.323          805.000  ...            0.0             0.0   \n...           ...              ...  ...            ...             ...   \n998      4020.608         1950.000  ...            0.0             0.0   \n999      2358.572         4200.000  ...            0.0             0.0   \n1000     3296.052         3400.000  ...            0.0             0.0   \n1001     2709.129            0.000  ...            0.0             0.0   \n1002     2717.930         1100.000  ...            0.0             0.0   \n\n      windows xp  world cup  wp_scm_comment bonus  wrote blog  york city  \\\n0            0.0        0.0              0.000000         0.0   0.000000   \n1            0.0        0.0              0.000000         0.0   0.000000   \n2            0.0        0.0              0.000000         0.0   0.000000   \n3            0.0        0.0              0.415438         0.0   0.000000   \n4            0.0        0.0              0.000000         0.0   0.000000   \n...          ...        ...                   ...         ...        ...   \n998          0.0        0.0              0.000000         0.0   0.000000   \n999          0.0        0.0              0.000000         0.0   0.000000   \n1000         0.0        0.0              0.000000         0.0   0.000000   \n1001         0.0        0.0              0.000000         0.0   0.000000   \n1002         0.0        0.0              0.000000         0.0   0.475936   \n\n      york times  youtube channel  youtube videos  \n0            0.0              0.0        0.715661  \n1            0.0              0.0        0.000000  \n2            0.0              0.0        0.000000  \n3            0.0              0.0        0.000000  \n4            0.0              0.0        0.000000  \n...          ...              ...             ...  \n998          0.0              0.0        0.000000  \n999          0.0              0.0        0.000000  \n1000         0.0              0.0        0.000000  \n1001         0.0              0.0        0.000000  \n1002         0.0              0.0        0.000000  \n\n[1003 rows x 224 columns]",
      "text/html": "<div>\n<style scoped>\n    .dataframe tbody tr th:only-of-type {\n        vertical-align: middle;\n    }\n\n    .dataframe tbody tr th {\n        vertical-align: top;\n    }\n\n    .dataframe thead th {\n        text-align: right;\n    }\n</style>\n<table border=\"1\" class=\"dataframe\">\n  <thead>\n    <tr style=\"text-align: right;\">\n      <th></th>\n      <th>unique_tokens_rate</th>\n      <th>num_hrefs</th>\n      <th>num_imgs</th>\n      <th>num_videos</th>\n      <th>average_token_length</th>\n      <th>num_keywords</th>\n      <th>min_avg_key</th>\n      <th>max_avg_key</th>\n      <th>avg_avg_key</th>\n      <th>href_avg_shares</th>\n      <th>...</th>\n      <th>windows phone</th>\n      <th>windows update</th>\n      <th>windows xp</th>\n      <th>world cup</th>\n      <th>wp_scm_comment bonus</th>\n      <th>wrote blog</th>\n      <th>york city</th>\n      <th>york times</th>\n      <th>youtube channel</th>\n      <th>youtube videos</th>\n    </tr>\n  </thead>\n  <tbody>\n    <tr>\n      <th>0</th>\n      <td>0.640816</td>\n      <td>5.0</td>\n      <td>3.0</td>\n      <td>1.0</td>\n      <td>4.579592</td>\n      <td>5</td>\n      <td>1459.500</td>\n      <td>4817.692</td>\n      <td>3370.415</td>\n      <td>1833.333</td>\n      <td>...</td>\n      <td>0.0</td>\n      <td>0.0</td>\n      <td>0.0</td>\n      <td>0.0</td>\n      <td>0.000000</td>\n      <td>0.0</td>\n      <td>0.000000</td>\n      <td>0.0</td>\n      <td>0.0</td>\n      <td>0.715661</td>\n    </tr>\n    <tr>\n      <th>1</th>\n      <td>0.549618</td>\n      <td>4.0</td>\n      <td>1.0</td>\n      <td>0.0</td>\n      <td>4.636704</td>\n      <td>7</td>\n      <td>0.000</td>\n      <td>3581.094</td>\n      <td>2556.367</td>\n      <td>8500.000</td>\n      <td>...</td>\n      <td>0.0</td>\n      <td>0.0</td>\n      <td>0.0</td>\n      <td>0.0</td>\n      <td>0.000000</td>\n      <td>0.0</td>\n      <td>0.000000</td>\n      <td>0.0</td>\n      <td>0.0</td>\n      <td>0.000000</td>\n    </tr>\n    <tr>\n      <th>2</th>\n      <td>0.577236</td>\n      <td>8.0</td>\n      <td>1.0</td>\n      <td>0.0</td>\n      <td>4.627451</td>\n      <td>7</td>\n      <td>2270.889</td>\n      <td>3852.800</td>\n      <td>3018.167</td>\n      <td>2076.333</td>\n      <td>...</td>\n      <td>0.0</td>\n      <td>0.0</td>\n      <td>0.0</td>\n      <td>0.0</td>\n      <td>0.000000</td>\n      <td>0.0</td>\n      <td>0.000000</td>\n      <td>0.0</td>\n      <td>0.0</td>\n      <td>0.000000</td>\n    </tr>\n    <tr>\n      <th>3</th>\n      <td>0.525896</td>\n      <td>4.0</td>\n      <td>1.0</td>\n      <td>0.0</td>\n      <td>5.083665</td>\n      <td>9</td>\n      <td>0.000</td>\n      <td>3581.094</td>\n      <td>1871.403</td>\n      <td>2200.000</td>\n      <td>...</td>\n      <td>0.0</td>\n      <td>0.0</td>\n      <td>0.0</td>\n      <td>0.0</td>\n      <td>0.415438</td>\n      <td>0.0</td>\n      <td>0.000000</td>\n      <td>0.0</td>\n      <td>0.0</td>\n      <td>0.000000</td>\n    </tr>\n    <tr>\n      <th>4</th>\n      <td>0.588889</td>\n      <td>6.0</td>\n      <td>9.0</td>\n      <td>0.0</td>\n      <td>4.336022</td>\n      <td>7</td>\n      <td>3264.605</td>\n      <td>8453.451</td>\n      <td>5155.323</td>\n      <td>805.000</td>\n      <td>...</td>\n      <td>0.0</td>\n      <td>0.0</td>\n      <td>0.0</td>\n      <td>0.0</td>\n      <td>0.000000</td>\n      <td>0.0</td>\n      <td>0.000000</td>\n      <td>0.0</td>\n      <td>0.0</td>\n      <td>0.000000</td>\n    </tr>\n    <tr>\n      <th>...</th>\n      <td>...</td>\n      <td>...</td>\n      <td>...</td>\n      <td>...</td>\n      <td>...</td>\n      <td>...</td>\n      <td>...</td>\n      <td>...</td>\n      <td>...</td>\n      <td>...</td>\n      <td>...</td>\n      <td>...</td>\n      <td>...</td>\n      <td>...</td>\n      <td>...</td>\n      <td>...</td>\n      <td>...</td>\n      <td>...</td>\n      <td>...</td>\n      <td>...</td>\n      <td>...</td>\n    </tr>\n    <tr>\n      <th>998</th>\n      <td>0.606557</td>\n      <td>6.0</td>\n      <td>2.0</td>\n      <td>0.0</td>\n      <td>4.913978</td>\n      <td>4</td>\n      <td>3264.605</td>\n      <td>5709.823</td>\n      <td>4020.608</td>\n      <td>1950.000</td>\n      <td>...</td>\n      <td>0.0</td>\n      <td>0.0</td>\n      <td>0.0</td>\n      <td>0.0</td>\n      <td>0.000000</td>\n      <td>0.0</td>\n      <td>0.000000</td>\n      <td>0.0</td>\n      <td>0.0</td>\n      <td>0.000000</td>\n    </tr>\n    <tr>\n      <th>999</th>\n      <td>0.491018</td>\n      <td>4.0</td>\n      <td>2.0</td>\n      <td>0.0</td>\n      <td>4.674627</td>\n      <td>6</td>\n      <td>0.000</td>\n      <td>4352.491</td>\n      <td>2358.572</td>\n      <td>4200.000</td>\n      <td>...</td>\n      <td>0.0</td>\n      <td>0.0</td>\n      <td>0.0</td>\n      <td>0.0</td>\n      <td>0.000000</td>\n      <td>0.0</td>\n      <td>0.000000</td>\n      <td>0.0</td>\n      <td>0.0</td>\n      <td>0.000000</td>\n    </tr>\n    <tr>\n      <th>1000</th>\n      <td>0.634518</td>\n      <td>3.0</td>\n      <td>0.0</td>\n      <td>2.0</td>\n      <td>4.177665</td>\n      <td>9</td>\n      <td>2126.118</td>\n      <td>6060.771</td>\n      <td>3296.052</td>\n      <td>3400.000</td>\n      <td>...</td>\n      <td>0.0</td>\n      <td>0.0</td>\n      <td>0.0</td>\n      <td>0.0</td>\n      <td>0.000000</td>\n      <td>0.0</td>\n      <td>0.000000</td>\n      <td>0.0</td>\n      <td>0.0</td>\n      <td>0.000000</td>\n    </tr>\n    <tr>\n      <th>1001</th>\n      <td>0.447368</td>\n      <td>7.0</td>\n      <td>1.0</td>\n      <td>0.0</td>\n      <td>4.667961</td>\n      <td>8</td>\n      <td>0.000</td>\n      <td>4763.083</td>\n      <td>2709.129</td>\n      <td>0.000</td>\n      <td>...</td>\n      <td>0.0</td>\n      <td>0.0</td>\n      <td>0.0</td>\n      <td>0.0</td>\n      <td>0.000000</td>\n      <td>0.0</td>\n      <td>0.000000</td>\n      <td>0.0</td>\n      <td>0.0</td>\n      <td>0.000000</td>\n    </tr>\n    <tr>\n      <th>1002</th>\n      <td>0.480412</td>\n      <td>5.0</td>\n      <td>2.0</td>\n      <td>0.0</td>\n      <td>4.429126</td>\n      <td>5</td>\n      <td>1404.841</td>\n      <td>3610.125</td>\n      <td>2717.930</td>\n      <td>1100.000</td>\n      <td>...</td>\n      <td>0.0</td>\n      <td>0.0</td>\n      <td>0.0</td>\n      <td>0.0</td>\n      <td>0.000000</td>\n      <td>0.0</td>\n      <td>0.475936</td>\n      <td>0.0</td>\n      <td>0.0</td>\n      <td>0.000000</td>\n    </tr>\n  </tbody>\n</table>\n<p>1003 rows × 224 columns</p>\n</div>"
     },
     "execution_count": 8,
     "metadata": {},
     "output_type": "execute_result"
    }
   ],
   "source": [
    "tfidf_2_200 = initialProcessing(tfidf_2_200)\n",
    "tfidf_2_200"
   ],
   "metadata": {
    "collapsed": false
   }
  },
  {
   "cell_type": "code",
   "execution_count": 9,
   "outputs": [
    {
     "data": {
      "text/plain": "     unique_tokens_rate  num_hrefs  num_imgs  num_videos  \\\n895            0.492511       33.0       0.0         1.0   \n904            0.356121       15.0       4.0         0.0   \n407            0.598361        6.0       1.0         1.0   \n30             0.452484       33.0       3.0         1.0   \n555            0.687783        4.0      13.0         0.0   \n..                  ...        ...       ...         ...   \n841            0.555324        3.0       1.0         0.0   \n791            0.687783        4.0       1.0         4.0   \n754            0.647059        6.0       2.0         0.0   \n413            0.460630       19.0       3.0         0.0   \n639            0.548975        7.0       1.0         1.0   \n\n     average_token_length  num_keywords  min_avg_key  max_avg_key  \\\n895              5.125162             7     3264.605     7674.667   \n904              4.431962             6        0.000     7045.000   \n407              4.748000             6        0.000     4715.200   \n30               4.536511             4     3249.933    11625.000   \n555              4.600000             7        0.000     8439.371   \n..                    ...           ...          ...          ...   \n841              4.985477             5      710.000     4360.563   \n791              4.336634             7     2373.367     5988.238   \n754              4.717791             8     1212.333     3830.235   \n413              4.773216             6        0.000     5532.872   \n639              4.325843             5      999.300     3758.342   \n\n     avg_avg_key  href_avg_shares  ...  windows phone  windows update  \\\n895     5451.520        45940.000  ...            0.0             0.0   \n904     3295.043         9871.429  ...            0.0             0.0   \n407     2943.471         2200.000  ...            0.0             0.0   \n30      5546.815         2627.000  ...            0.0             0.0   \n555     3658.861         1100.000  ...            0.0             0.0   \n..           ...              ...  ...            ...             ...   \n841     3146.869         1370.000  ...            0.0             0.0   \n791     3973.711         4200.000  ...            0.0             0.0   \n754     2917.420         3600.000  ...            0.0             0.0   \n413     2924.013            0.000  ...            0.0             0.0   \n639     3019.900         1566.667  ...            0.0             0.0   \n\n     windows xp  world cup  wp_scm_comment bonus  wrote blog  york city  \\\n895         0.0        0.0                   0.0         0.0        0.0   \n904         0.0        0.0                   0.0         0.0        0.0   \n407         0.0        0.0                   0.0         0.0        0.0   \n30          0.0        0.0                   0.0         0.0        0.0   \n555         0.0        0.0                   0.0         0.0        0.0   \n..          ...        ...                   ...         ...        ...   \n841         0.0        0.0                   0.0         0.0        0.0   \n791         0.0        0.0                   0.0         0.0        0.0   \n754         0.0        0.0                   0.0         0.0        0.0   \n413         0.0        0.0                   0.0         0.0        0.0   \n639         0.0        0.0                   0.0         0.0        0.0   \n\n     york times  youtube channel  youtube videos  \n895         0.0              0.0             0.0  \n904         0.0              0.0             0.0  \n407         0.0              0.0             0.0  \n30          0.0              0.0             0.0  \n555         0.0              0.0             0.0  \n..          ...              ...             ...  \n841         0.0              0.0             0.0  \n791         0.0              0.0             0.0  \n754         0.0              0.0             0.0  \n413         0.0              0.0             0.0  \n639         0.0              0.0             0.0  \n\n[1003 rows x 224 columns]",
      "text/html": "<div>\n<style scoped>\n    .dataframe tbody tr th:only-of-type {\n        vertical-align: middle;\n    }\n\n    .dataframe tbody tr th {\n        vertical-align: top;\n    }\n\n    .dataframe thead th {\n        text-align: right;\n    }\n</style>\n<table border=\"1\" class=\"dataframe\">\n  <thead>\n    <tr style=\"text-align: right;\">\n      <th></th>\n      <th>unique_tokens_rate</th>\n      <th>num_hrefs</th>\n      <th>num_imgs</th>\n      <th>num_videos</th>\n      <th>average_token_length</th>\n      <th>num_keywords</th>\n      <th>min_avg_key</th>\n      <th>max_avg_key</th>\n      <th>avg_avg_key</th>\n      <th>href_avg_shares</th>\n      <th>...</th>\n      <th>windows phone</th>\n      <th>windows update</th>\n      <th>windows xp</th>\n      <th>world cup</th>\n      <th>wp_scm_comment bonus</th>\n      <th>wrote blog</th>\n      <th>york city</th>\n      <th>york times</th>\n      <th>youtube channel</th>\n      <th>youtube videos</th>\n    </tr>\n  </thead>\n  <tbody>\n    <tr>\n      <th>895</th>\n      <td>0.492511</td>\n      <td>33.0</td>\n      <td>0.0</td>\n      <td>1.0</td>\n      <td>5.125162</td>\n      <td>7</td>\n      <td>3264.605</td>\n      <td>7674.667</td>\n      <td>5451.520</td>\n      <td>45940.000</td>\n      <td>...</td>\n      <td>0.0</td>\n      <td>0.0</td>\n      <td>0.0</td>\n      <td>0.0</td>\n      <td>0.0</td>\n      <td>0.0</td>\n      <td>0.0</td>\n      <td>0.0</td>\n      <td>0.0</td>\n      <td>0.0</td>\n    </tr>\n    <tr>\n      <th>904</th>\n      <td>0.356121</td>\n      <td>15.0</td>\n      <td>4.0</td>\n      <td>0.0</td>\n      <td>4.431962</td>\n      <td>6</td>\n      <td>0.000</td>\n      <td>7045.000</td>\n      <td>3295.043</td>\n      <td>9871.429</td>\n      <td>...</td>\n      <td>0.0</td>\n      <td>0.0</td>\n      <td>0.0</td>\n      <td>0.0</td>\n      <td>0.0</td>\n      <td>0.0</td>\n      <td>0.0</td>\n      <td>0.0</td>\n      <td>0.0</td>\n      <td>0.0</td>\n    </tr>\n    <tr>\n      <th>407</th>\n      <td>0.598361</td>\n      <td>6.0</td>\n      <td>1.0</td>\n      <td>1.0</td>\n      <td>4.748000</td>\n      <td>6</td>\n      <td>0.000</td>\n      <td>4715.200</td>\n      <td>2943.471</td>\n      <td>2200.000</td>\n      <td>...</td>\n      <td>0.0</td>\n      <td>0.0</td>\n      <td>0.0</td>\n      <td>0.0</td>\n      <td>0.0</td>\n      <td>0.0</td>\n      <td>0.0</td>\n      <td>0.0</td>\n      <td>0.0</td>\n      <td>0.0</td>\n    </tr>\n    <tr>\n      <th>30</th>\n      <td>0.452484</td>\n      <td>33.0</td>\n      <td>3.0</td>\n      <td>1.0</td>\n      <td>4.536511</td>\n      <td>4</td>\n      <td>3249.933</td>\n      <td>11625.000</td>\n      <td>5546.815</td>\n      <td>2627.000</td>\n      <td>...</td>\n      <td>0.0</td>\n      <td>0.0</td>\n      <td>0.0</td>\n      <td>0.0</td>\n      <td>0.0</td>\n      <td>0.0</td>\n      <td>0.0</td>\n      <td>0.0</td>\n      <td>0.0</td>\n      <td>0.0</td>\n    </tr>\n    <tr>\n      <th>555</th>\n      <td>0.687783</td>\n      <td>4.0</td>\n      <td>13.0</td>\n      <td>0.0</td>\n      <td>4.600000</td>\n      <td>7</td>\n      <td>0.000</td>\n      <td>8439.371</td>\n      <td>3658.861</td>\n      <td>1100.000</td>\n      <td>...</td>\n      <td>0.0</td>\n      <td>0.0</td>\n      <td>0.0</td>\n      <td>0.0</td>\n      <td>0.0</td>\n      <td>0.0</td>\n      <td>0.0</td>\n      <td>0.0</td>\n      <td>0.0</td>\n      <td>0.0</td>\n    </tr>\n    <tr>\n      <th>...</th>\n      <td>...</td>\n      <td>...</td>\n      <td>...</td>\n      <td>...</td>\n      <td>...</td>\n      <td>...</td>\n      <td>...</td>\n      <td>...</td>\n      <td>...</td>\n      <td>...</td>\n      <td>...</td>\n      <td>...</td>\n      <td>...</td>\n      <td>...</td>\n      <td>...</td>\n      <td>...</td>\n      <td>...</td>\n      <td>...</td>\n      <td>...</td>\n      <td>...</td>\n      <td>...</td>\n    </tr>\n    <tr>\n      <th>841</th>\n      <td>0.555324</td>\n      <td>3.0</td>\n      <td>1.0</td>\n      <td>0.0</td>\n      <td>4.985477</td>\n      <td>5</td>\n      <td>710.000</td>\n      <td>4360.563</td>\n      <td>3146.869</td>\n      <td>1370.000</td>\n      <td>...</td>\n      <td>0.0</td>\n      <td>0.0</td>\n      <td>0.0</td>\n      <td>0.0</td>\n      <td>0.0</td>\n      <td>0.0</td>\n      <td>0.0</td>\n      <td>0.0</td>\n      <td>0.0</td>\n      <td>0.0</td>\n    </tr>\n    <tr>\n      <th>791</th>\n      <td>0.687783</td>\n      <td>4.0</td>\n      <td>1.0</td>\n      <td>4.0</td>\n      <td>4.336634</td>\n      <td>7</td>\n      <td>2373.367</td>\n      <td>5988.238</td>\n      <td>3973.711</td>\n      <td>4200.000</td>\n      <td>...</td>\n      <td>0.0</td>\n      <td>0.0</td>\n      <td>0.0</td>\n      <td>0.0</td>\n      <td>0.0</td>\n      <td>0.0</td>\n      <td>0.0</td>\n      <td>0.0</td>\n      <td>0.0</td>\n      <td>0.0</td>\n    </tr>\n    <tr>\n      <th>754</th>\n      <td>0.647059</td>\n      <td>6.0</td>\n      <td>2.0</td>\n      <td>0.0</td>\n      <td>4.717791</td>\n      <td>8</td>\n      <td>1212.333</td>\n      <td>3830.235</td>\n      <td>2917.420</td>\n      <td>3600.000</td>\n      <td>...</td>\n      <td>0.0</td>\n      <td>0.0</td>\n      <td>0.0</td>\n      <td>0.0</td>\n      <td>0.0</td>\n      <td>0.0</td>\n      <td>0.0</td>\n      <td>0.0</td>\n      <td>0.0</td>\n      <td>0.0</td>\n    </tr>\n    <tr>\n      <th>413</th>\n      <td>0.460630</td>\n      <td>19.0</td>\n      <td>3.0</td>\n      <td>0.0</td>\n      <td>4.773216</td>\n      <td>6</td>\n      <td>0.000</td>\n      <td>5532.872</td>\n      <td>2924.013</td>\n      <td>0.000</td>\n      <td>...</td>\n      <td>0.0</td>\n      <td>0.0</td>\n      <td>0.0</td>\n      <td>0.0</td>\n      <td>0.0</td>\n      <td>0.0</td>\n      <td>0.0</td>\n      <td>0.0</td>\n      <td>0.0</td>\n      <td>0.0</td>\n    </tr>\n    <tr>\n      <th>639</th>\n      <td>0.548975</td>\n      <td>7.0</td>\n      <td>1.0</td>\n      <td>1.0</td>\n      <td>4.325843</td>\n      <td>5</td>\n      <td>999.300</td>\n      <td>3758.342</td>\n      <td>3019.900</td>\n      <td>1566.667</td>\n      <td>...</td>\n      <td>0.0</td>\n      <td>0.0</td>\n      <td>0.0</td>\n      <td>0.0</td>\n      <td>0.0</td>\n      <td>0.0</td>\n      <td>0.0</td>\n      <td>0.0</td>\n      <td>0.0</td>\n      <td>0.0</td>\n    </tr>\n  </tbody>\n</table>\n<p>1003 rows × 224 columns</p>\n</div>"
     },
     "execution_count": 9,
     "metadata": {},
     "output_type": "execute_result"
    }
   ],
   "source": [
    "tfidf_2_200.sort_values(by=['shares'], ascending=False)"
   ],
   "metadata": {
    "collapsed": false
   }
  },
  {
   "cell_type": "code",
   "execution_count": 10,
   "outputs": [
    {
     "data": {
      "text/plain": "9.416622566214981"
     },
     "execution_count": 10,
     "metadata": {},
     "output_type": "execute_result"
    }
   ],
   "source": [
    "np.log(1+12290)"
   ],
   "metadata": {
    "collapsed": false
   }
  },
  {
   "cell_type": "code",
   "execution_count": 11,
   "outputs": [
    {
     "data": {
      "text/plain": "pandas.core.frame.DataFrame"
     },
     "execution_count": 11,
     "metadata": {},
     "output_type": "execute_result"
    }
   ],
   "source": [
    "type(tfidf_2_200)"
   ],
   "metadata": {
    "collapsed": false
   }
  },
  {
   "cell_type": "markdown",
   "source": [
    "<h3>Splitting Data in Preparation for Modelling</h3>"
   ],
   "metadata": {
    "collapsed": false
   }
  },
  {
   "cell_type": "code",
   "execution_count": 12,
   "outputs": [],
   "source": [
    "def splitData(data):\n",
    "    X = data.drop('shares',axis=1)\n",
    "    y = data[['shares']]\n",
    "    x_train, x_test, y_train, y_test = train_test_split(X,y,test_size=0.2,random_state=42)\n",
    "    print((x_train.shape, x_test.shape), (y_train.shape,y_test.shape))\n",
    "    return [x_train, x_test, y_train, y_test]"
   ],
   "metadata": {
    "collapsed": false
   }
  },
  {
   "cell_type": "code",
   "execution_count": 13,
   "outputs": [],
   "source": [
    "def standardizeTransform(x_train, x_test, y_train, y_test):\n",
    "    scaler = StandardScaler().fit(x_train)\n",
    "    x_train_scaled = scaler.transform(x_train)\n",
    "    x_test_scaled = scaler.transform(x_test)\n",
    "    y_train_log = np.log(1+y_train)\n",
    "    y_test_log = np.log(1+y_test)\n",
    "    return [x_train_scaled, x_test_scaled, y_train_log, y_test_log]"
   ],
   "metadata": {
    "collapsed": false
   }
  },
  {
   "cell_type": "code",
   "execution_count": 14,
   "outputs": [
    {
     "name": "stdout",
     "output_type": "stream",
     "text": [
      "((802, 223), (201, 223)) ((802, 1), (201, 1))\n"
     ]
    }
   ],
   "source": [
    "x_train_cv, x_test_cv, y_train_cv, y_test_cv = splitData(cv_2_200)"
   ],
   "metadata": {
    "collapsed": false
   }
  },
  {
   "cell_type": "code",
   "execution_count": 15,
   "outputs": [
    {
     "data": {
      "text/plain": "     shares\n626    2000\n629    1400\n847    1400\n514    1100\n365    1700\n..      ...\n208     757\n777    2200\n334    2900\n210    6500\n350    1700\n\n[201 rows x 1 columns]",
      "text/html": "<div>\n<style scoped>\n    .dataframe tbody tr th:only-of-type {\n        vertical-align: middle;\n    }\n\n    .dataframe tbody tr th {\n        vertical-align: top;\n    }\n\n    .dataframe thead th {\n        text-align: right;\n    }\n</style>\n<table border=\"1\" class=\"dataframe\">\n  <thead>\n    <tr style=\"text-align: right;\">\n      <th></th>\n      <th>shares</th>\n    </tr>\n  </thead>\n  <tbody>\n    <tr>\n      <th>626</th>\n      <td>2000</td>\n    </tr>\n    <tr>\n      <th>629</th>\n      <td>1400</td>\n    </tr>\n    <tr>\n      <th>847</th>\n      <td>1400</td>\n    </tr>\n    <tr>\n      <th>514</th>\n      <td>1100</td>\n    </tr>\n    <tr>\n      <th>365</th>\n      <td>1700</td>\n    </tr>\n    <tr>\n      <th>...</th>\n      <td>...</td>\n    </tr>\n    <tr>\n      <th>208</th>\n      <td>757</td>\n    </tr>\n    <tr>\n      <th>777</th>\n      <td>2200</td>\n    </tr>\n    <tr>\n      <th>334</th>\n      <td>2900</td>\n    </tr>\n    <tr>\n      <th>210</th>\n      <td>6500</td>\n    </tr>\n    <tr>\n      <th>350</th>\n      <td>1700</td>\n    </tr>\n  </tbody>\n</table>\n<p>201 rows × 1 columns</p>\n</div>"
     },
     "execution_count": 15,
     "metadata": {},
     "output_type": "execute_result"
    }
   ],
   "source": [
    "y_test_cv"
   ],
   "metadata": {
    "collapsed": false
   }
  },
  {
   "cell_type": "code",
   "execution_count": 16,
   "outputs": [],
   "source": [
    "x_train_scaled_cv, x_test_scaled_cv, y_train_log_cv, y_test_log_cv = standardizeTransform(x_train_cv, x_test_cv, y_train_cv, y_test_cv)"
   ],
   "metadata": {
    "collapsed": false
   }
  },
  {
   "cell_type": "code",
   "execution_count": 17,
   "outputs": [
    {
     "data": {
      "text/plain": "       shares\n516  9.416623\n904  9.416623\n30   9.416623\n394  9.416623\n54   9.416623\n..        ...\n826  6.284134\n199  6.263398\n816  6.190315\n784  6.084499\n848  5.998937\n\n[201 rows x 1 columns]",
      "text/html": "<div>\n<style scoped>\n    .dataframe tbody tr th:only-of-type {\n        vertical-align: middle;\n    }\n\n    .dataframe tbody tr th {\n        vertical-align: top;\n    }\n\n    .dataframe thead th {\n        text-align: right;\n    }\n</style>\n<table border=\"1\" class=\"dataframe\">\n  <thead>\n    <tr style=\"text-align: right;\">\n      <th></th>\n      <th>shares</th>\n    </tr>\n  </thead>\n  <tbody>\n    <tr>\n      <th>516</th>\n      <td>9.416623</td>\n    </tr>\n    <tr>\n      <th>904</th>\n      <td>9.416623</td>\n    </tr>\n    <tr>\n      <th>30</th>\n      <td>9.416623</td>\n    </tr>\n    <tr>\n      <th>394</th>\n      <td>9.416623</td>\n    </tr>\n    <tr>\n      <th>54</th>\n      <td>9.416623</td>\n    </tr>\n    <tr>\n      <th>...</th>\n      <td>...</td>\n    </tr>\n    <tr>\n      <th>826</th>\n      <td>6.284134</td>\n    </tr>\n    <tr>\n      <th>199</th>\n      <td>6.263398</td>\n    </tr>\n    <tr>\n      <th>816</th>\n      <td>6.190315</td>\n    </tr>\n    <tr>\n      <th>784</th>\n      <td>6.084499</td>\n    </tr>\n    <tr>\n      <th>848</th>\n      <td>5.998937</td>\n    </tr>\n  </tbody>\n</table>\n<p>201 rows × 1 columns</p>\n</div>"
     },
     "execution_count": 17,
     "metadata": {},
     "output_type": "execute_result"
    }
   ],
   "source": [
    "y_test_log_cv.sort_values(by=['shares'], ascending=False)"
   ],
   "metadata": {
    "collapsed": false
   }
  },
  {
   "cell_type": "code",
   "execution_count": 18,
   "outputs": [
    {
     "data": {
      "text/plain": "       shares\n610  9.416623\n282  9.416623\n430  9.416623\n555  9.416623\n352  9.416623\n..        ...\n841  5.948035\n791  5.774552\n754  5.572154\n413  5.056246\n639  4.077537\n\n[802 rows x 1 columns]",
      "text/html": "<div>\n<style scoped>\n    .dataframe tbody tr th:only-of-type {\n        vertical-align: middle;\n    }\n\n    .dataframe tbody tr th {\n        vertical-align: top;\n    }\n\n    .dataframe thead th {\n        text-align: right;\n    }\n</style>\n<table border=\"1\" class=\"dataframe\">\n  <thead>\n    <tr style=\"text-align: right;\">\n      <th></th>\n      <th>shares</th>\n    </tr>\n  </thead>\n  <tbody>\n    <tr>\n      <th>610</th>\n      <td>9.416623</td>\n    </tr>\n    <tr>\n      <th>282</th>\n      <td>9.416623</td>\n    </tr>\n    <tr>\n      <th>430</th>\n      <td>9.416623</td>\n    </tr>\n    <tr>\n      <th>555</th>\n      <td>9.416623</td>\n    </tr>\n    <tr>\n      <th>352</th>\n      <td>9.416623</td>\n    </tr>\n    <tr>\n      <th>...</th>\n      <td>...</td>\n    </tr>\n    <tr>\n      <th>841</th>\n      <td>5.948035</td>\n    </tr>\n    <tr>\n      <th>791</th>\n      <td>5.774552</td>\n    </tr>\n    <tr>\n      <th>754</th>\n      <td>5.572154</td>\n    </tr>\n    <tr>\n      <th>413</th>\n      <td>5.056246</td>\n    </tr>\n    <tr>\n      <th>639</th>\n      <td>4.077537</td>\n    </tr>\n  </tbody>\n</table>\n<p>802 rows × 1 columns</p>\n</div>"
     },
     "execution_count": 18,
     "metadata": {},
     "output_type": "execute_result"
    }
   ],
   "source": [
    "y_train_log_cv.sort_values(by=['shares'], ascending=False)"
   ],
   "metadata": {
    "collapsed": false
   }
  },
  {
   "cell_type": "code",
   "execution_count": 19,
   "outputs": [
    {
     "name": "stdout",
     "output_type": "stream",
     "text": [
      "((802, 223), (201, 223)) ((802, 1), (201, 1))\n"
     ]
    }
   ],
   "source": [
    "x_train_tf, x_test_tf, y_train_tf, y_test_tf = splitData(tfidf_2_200)"
   ],
   "metadata": {
    "collapsed": false
   }
  },
  {
   "cell_type": "code",
   "execution_count": 20,
   "outputs": [],
   "source": [
    "x_train_scaled_tf, x_test_scaled_tf, y_train_log_tf, y_test_log_tf = standardizeTransform(x_train_tf, x_test_tf, y_train_tf, y_test_tf)"
   ],
   "metadata": {
    "collapsed": false
   }
  },
  {
   "cell_type": "markdown",
   "source": [
    "<h1>Models</h1>"
   ],
   "metadata": {
    "collapsed": false
   }
  },
  {
   "cell_type": "code",
   "execution_count": 22,
   "outputs": [],
   "source": [
    "# Fit Model and Evaluate\n",
    "def fitPredict(x_train, y_train, x_test, y_test, model):\n",
    "    model.fit(x_train, y_train)\n",
    "\n",
    "    y_hat = np.exp(model.predict(x_test))\n",
    "\n",
    "    print(\"Train R2 score: \"+ str(model.score(x_train,y_train)))\n",
    "    print(\"Test R2 score: \"+ str(r2_score(y_test,y_hat)))\n",
    "    print(\"Test MAE: \"+ str(mean_absolute_error(y_test,y_hat)))\n",
    "    print(\"Test RMSE: \"+ str(np.sqrt(mean_squared_error(y_test,y_hat))))\n",
    "\n",
    "    return model\n"
   ],
   "metadata": {
    "collapsed": false
   }
  },
  {
   "cell_type": "code",
   "execution_count": null,
   "outputs": [],
   "source": [
    "type(y_train_cv)"
   ],
   "metadata": {
    "collapsed": false
   }
  },
  {
   "cell_type": "code",
   "execution_count": null,
   "outputs": [],
   "source": [
    "# Baselining using mean\n",
    "\n",
    "print(\"Test R2 score: \"+ str(r2_score(y_test_cv,np.mean(y_train_cv))))\n",
    "print(\"Test MAE: \"+ str(mean_absolute_error(y_test,y_hat)))\n",
    "print(\"Test RMSE: \"+ str(np.sqrt(mean_squared_error(y_test,y_hat))))"
   ],
   "metadata": {
    "collapsed": false
   }
  },
  {
   "cell_type": "code",
   "execution_count": 35,
   "outputs": [
    {
     "name": "stdout",
     "output_type": "stream",
     "text": [
      "Count Vectorizer Test Set Results:\n",
      "Train R2 score: 0.35906749933010995\n"
     ]
    },
    {
     "name": "stderr",
     "output_type": "stream",
     "text": [
      "C:\\Users\\ituser\\AppData\\Local\\Temp\\ipykernel_23844\\3925403474.py:5: RuntimeWarning: overflow encountered in exp\n",
      "  y_hat = np.exp(model.predict(x_test))\n"
     ]
    },
    {
     "ename": "ValueError",
     "evalue": "Input contains NaN, infinity or a value too large for dtype('float64').",
     "output_type": "error",
     "traceback": [
      "\u001B[1;31m---------------------------------------------------------------------------\u001B[0m",
      "\u001B[1;31mValueError\u001B[0m                                Traceback (most recent call last)",
      "\u001B[1;32m~\\AppData\\Local\\Temp\\ipykernel_23844\\3747934360.py\u001B[0m in \u001B[0;36m<module>\u001B[1;34m\u001B[0m\n\u001B[0;32m      1\u001B[0m \u001B[1;31m# Linear Model Test set prediction and Evaluation\u001B[0m\u001B[1;33m\u001B[0m\u001B[1;33m\u001B[0m\u001B[0m\n\u001B[0;32m      2\u001B[0m \u001B[0mprint\u001B[0m\u001B[1;33m(\u001B[0m\u001B[1;34m'Count Vectorizer Test Set Results:'\u001B[0m\u001B[1;33m)\u001B[0m\u001B[1;33m\u001B[0m\u001B[1;33m\u001B[0m\u001B[0m\n\u001B[1;32m----> 3\u001B[1;33m \u001B[0mlm\u001B[0m \u001B[1;33m=\u001B[0m \u001B[0mfitPredict\u001B[0m\u001B[1;33m(\u001B[0m\u001B[0mx_train_scaled_cv\u001B[0m\u001B[1;33m,\u001B[0m \u001B[0my_train_log_cv\u001B[0m\u001B[1;33m,\u001B[0m \u001B[0mx_test_scaled_cv\u001B[0m\u001B[1;33m,\u001B[0m \u001B[0my_test_log_cv\u001B[0m\u001B[1;33m,\u001B[0m \u001B[0mLinearRegression\u001B[0m\u001B[1;33m(\u001B[0m\u001B[1;33m)\u001B[0m\u001B[1;33m)\u001B[0m\u001B[1;33m\u001B[0m\u001B[1;33m\u001B[0m\u001B[0m\n\u001B[0m\u001B[0;32m      4\u001B[0m \u001B[0mprint\u001B[0m\u001B[1;33m(\u001B[0m\u001B[1;34m'tfidf Test set Results:'\u001B[0m\u001B[1;33m)\u001B[0m\u001B[1;33m\u001B[0m\u001B[1;33m\u001B[0m\u001B[0m\n\u001B[0;32m      5\u001B[0m \u001B[0mlm\u001B[0m \u001B[1;33m=\u001B[0m \u001B[0mfitPredict\u001B[0m\u001B[1;33m(\u001B[0m\u001B[0mx_train_scaled_tf\u001B[0m\u001B[1;33m,\u001B[0m \u001B[0my_train_log_tf\u001B[0m\u001B[1;33m,\u001B[0m \u001B[0mx_test_scaled_tf\u001B[0m\u001B[1;33m,\u001B[0m \u001B[0my_test_log_tf\u001B[0m\u001B[1;33m,\u001B[0m \u001B[0mLinearRegression\u001B[0m\u001B[1;33m(\u001B[0m\u001B[1;33m)\u001B[0m\u001B[1;33m)\u001B[0m\u001B[1;33m\u001B[0m\u001B[1;33m\u001B[0m\u001B[0m\n",
      "\u001B[1;32m~\\AppData\\Local\\Temp\\ipykernel_23844\\3925403474.py\u001B[0m in \u001B[0;36mfitPredict\u001B[1;34m(x_train, y_train, x_test, y_test, model)\u001B[0m\n\u001B[0;32m      6\u001B[0m \u001B[1;33m\u001B[0m\u001B[0m\n\u001B[0;32m      7\u001B[0m     \u001B[0mprint\u001B[0m\u001B[1;33m(\u001B[0m\u001B[1;34m\"Train R2 score: \"\u001B[0m\u001B[1;33m+\u001B[0m \u001B[0mstr\u001B[0m\u001B[1;33m(\u001B[0m\u001B[0mmodel\u001B[0m\u001B[1;33m.\u001B[0m\u001B[0mscore\u001B[0m\u001B[1;33m(\u001B[0m\u001B[0mx_train\u001B[0m\u001B[1;33m,\u001B[0m\u001B[0my_train\u001B[0m\u001B[1;33m)\u001B[0m\u001B[1;33m)\u001B[0m\u001B[1;33m)\u001B[0m\u001B[1;33m\u001B[0m\u001B[1;33m\u001B[0m\u001B[0m\n\u001B[1;32m----> 8\u001B[1;33m     \u001B[0mprint\u001B[0m\u001B[1;33m(\u001B[0m\u001B[1;34m\"Test R2 score: \"\u001B[0m\u001B[1;33m+\u001B[0m \u001B[0mstr\u001B[0m\u001B[1;33m(\u001B[0m\u001B[0mr2_score\u001B[0m\u001B[1;33m(\u001B[0m\u001B[0my_test\u001B[0m\u001B[1;33m,\u001B[0m\u001B[0my_hat\u001B[0m\u001B[1;33m)\u001B[0m\u001B[1;33m)\u001B[0m\u001B[1;33m)\u001B[0m\u001B[1;33m\u001B[0m\u001B[1;33m\u001B[0m\u001B[0m\n\u001B[0m\u001B[0;32m      9\u001B[0m     \u001B[0mprint\u001B[0m\u001B[1;33m(\u001B[0m\u001B[1;34m\"Test MAE: \"\u001B[0m\u001B[1;33m+\u001B[0m \u001B[0mstr\u001B[0m\u001B[1;33m(\u001B[0m\u001B[0mmean_absolute_error\u001B[0m\u001B[1;33m(\u001B[0m\u001B[0my_test\u001B[0m\u001B[1;33m,\u001B[0m\u001B[0my_hat\u001B[0m\u001B[1;33m)\u001B[0m\u001B[1;33m)\u001B[0m\u001B[1;33m)\u001B[0m\u001B[1;33m\u001B[0m\u001B[1;33m\u001B[0m\u001B[0m\n\u001B[0;32m     10\u001B[0m     \u001B[0mprint\u001B[0m\u001B[1;33m(\u001B[0m\u001B[1;34m\"Test RMSE: \"\u001B[0m\u001B[1;33m+\u001B[0m \u001B[0mstr\u001B[0m\u001B[1;33m(\u001B[0m\u001B[0mnp\u001B[0m\u001B[1;33m.\u001B[0m\u001B[0msqrt\u001B[0m\u001B[1;33m(\u001B[0m\u001B[0mmean_squared_error\u001B[0m\u001B[1;33m(\u001B[0m\u001B[0my_test\u001B[0m\u001B[1;33m,\u001B[0m\u001B[0my_hat\u001B[0m\u001B[1;33m)\u001B[0m\u001B[1;33m)\u001B[0m\u001B[1;33m)\u001B[0m\u001B[1;33m)\u001B[0m\u001B[1;33m\u001B[0m\u001B[1;33m\u001B[0m\u001B[0m\n",
      "\u001B[1;32m~\\anaconda3\\lib\\site-packages\\sklearn\\metrics\\_regression.py\u001B[0m in \u001B[0;36mr2_score\u001B[1;34m(y_true, y_pred, sample_weight, multioutput)\u001B[0m\n\u001B[0;32m    787\u001B[0m     \u001B[1;33m-\u001B[0m\u001B[1;36m3.0\u001B[0m\u001B[1;33m\u001B[0m\u001B[1;33m\u001B[0m\u001B[0m\n\u001B[0;32m    788\u001B[0m     \"\"\"\n\u001B[1;32m--> 789\u001B[1;33m     y_type, y_true, y_pred, multioutput = _check_reg_targets(\n\u001B[0m\u001B[0;32m    790\u001B[0m         \u001B[0my_true\u001B[0m\u001B[1;33m,\u001B[0m \u001B[0my_pred\u001B[0m\u001B[1;33m,\u001B[0m \u001B[0mmultioutput\u001B[0m\u001B[1;33m\u001B[0m\u001B[1;33m\u001B[0m\u001B[0m\n\u001B[0;32m    791\u001B[0m     )\n",
      "\u001B[1;32m~\\anaconda3\\lib\\site-packages\\sklearn\\metrics\\_regression.py\u001B[0m in \u001B[0;36m_check_reg_targets\u001B[1;34m(y_true, y_pred, multioutput, dtype)\u001B[0m\n\u001B[0;32m     94\u001B[0m     \u001B[0mcheck_consistent_length\u001B[0m\u001B[1;33m(\u001B[0m\u001B[0my_true\u001B[0m\u001B[1;33m,\u001B[0m \u001B[0my_pred\u001B[0m\u001B[1;33m)\u001B[0m\u001B[1;33m\u001B[0m\u001B[1;33m\u001B[0m\u001B[0m\n\u001B[0;32m     95\u001B[0m     \u001B[0my_true\u001B[0m \u001B[1;33m=\u001B[0m \u001B[0mcheck_array\u001B[0m\u001B[1;33m(\u001B[0m\u001B[0my_true\u001B[0m\u001B[1;33m,\u001B[0m \u001B[0mensure_2d\u001B[0m\u001B[1;33m=\u001B[0m\u001B[1;32mFalse\u001B[0m\u001B[1;33m,\u001B[0m \u001B[0mdtype\u001B[0m\u001B[1;33m=\u001B[0m\u001B[0mdtype\u001B[0m\u001B[1;33m)\u001B[0m\u001B[1;33m\u001B[0m\u001B[1;33m\u001B[0m\u001B[0m\n\u001B[1;32m---> 96\u001B[1;33m     \u001B[0my_pred\u001B[0m \u001B[1;33m=\u001B[0m \u001B[0mcheck_array\u001B[0m\u001B[1;33m(\u001B[0m\u001B[0my_pred\u001B[0m\u001B[1;33m,\u001B[0m \u001B[0mensure_2d\u001B[0m\u001B[1;33m=\u001B[0m\u001B[1;32mFalse\u001B[0m\u001B[1;33m,\u001B[0m \u001B[0mdtype\u001B[0m\u001B[1;33m=\u001B[0m\u001B[0mdtype\u001B[0m\u001B[1;33m)\u001B[0m\u001B[1;33m\u001B[0m\u001B[1;33m\u001B[0m\u001B[0m\n\u001B[0m\u001B[0;32m     97\u001B[0m \u001B[1;33m\u001B[0m\u001B[0m\n\u001B[0;32m     98\u001B[0m     \u001B[1;32mif\u001B[0m \u001B[0my_true\u001B[0m\u001B[1;33m.\u001B[0m\u001B[0mndim\u001B[0m \u001B[1;33m==\u001B[0m \u001B[1;36m1\u001B[0m\u001B[1;33m:\u001B[0m\u001B[1;33m\u001B[0m\u001B[1;33m\u001B[0m\u001B[0m\n",
      "\u001B[1;32m~\\anaconda3\\lib\\site-packages\\sklearn\\utils\\validation.py\u001B[0m in \u001B[0;36mcheck_array\u001B[1;34m(array, accept_sparse, accept_large_sparse, dtype, order, copy, force_all_finite, ensure_2d, allow_nd, ensure_min_samples, ensure_min_features, estimator)\u001B[0m\n\u001B[0;32m    798\u001B[0m \u001B[1;33m\u001B[0m\u001B[0m\n\u001B[0;32m    799\u001B[0m         \u001B[1;32mif\u001B[0m \u001B[0mforce_all_finite\u001B[0m\u001B[1;33m:\u001B[0m\u001B[1;33m\u001B[0m\u001B[1;33m\u001B[0m\u001B[0m\n\u001B[1;32m--> 800\u001B[1;33m             \u001B[0m_assert_all_finite\u001B[0m\u001B[1;33m(\u001B[0m\u001B[0marray\u001B[0m\u001B[1;33m,\u001B[0m \u001B[0mallow_nan\u001B[0m\u001B[1;33m=\u001B[0m\u001B[0mforce_all_finite\u001B[0m \u001B[1;33m==\u001B[0m \u001B[1;34m\"allow-nan\"\u001B[0m\u001B[1;33m)\u001B[0m\u001B[1;33m\u001B[0m\u001B[1;33m\u001B[0m\u001B[0m\n\u001B[0m\u001B[0;32m    801\u001B[0m \u001B[1;33m\u001B[0m\u001B[0m\n\u001B[0;32m    802\u001B[0m     \u001B[1;32mif\u001B[0m \u001B[0mensure_min_samples\u001B[0m \u001B[1;33m>\u001B[0m \u001B[1;36m0\u001B[0m\u001B[1;33m:\u001B[0m\u001B[1;33m\u001B[0m\u001B[1;33m\u001B[0m\u001B[0m\n",
      "\u001B[1;32m~\\anaconda3\\lib\\site-packages\\sklearn\\utils\\validation.py\u001B[0m in \u001B[0;36m_assert_all_finite\u001B[1;34m(X, allow_nan, msg_dtype)\u001B[0m\n\u001B[0;32m    112\u001B[0m         ):\n\u001B[0;32m    113\u001B[0m             \u001B[0mtype_err\u001B[0m \u001B[1;33m=\u001B[0m \u001B[1;34m\"infinity\"\u001B[0m \u001B[1;32mif\u001B[0m \u001B[0mallow_nan\u001B[0m \u001B[1;32melse\u001B[0m \u001B[1;34m\"NaN, infinity\"\u001B[0m\u001B[1;33m\u001B[0m\u001B[1;33m\u001B[0m\u001B[0m\n\u001B[1;32m--> 114\u001B[1;33m             raise ValueError(\n\u001B[0m\u001B[0;32m    115\u001B[0m                 msg_err.format(\n\u001B[0;32m    116\u001B[0m                     \u001B[0mtype_err\u001B[0m\u001B[1;33m,\u001B[0m \u001B[0mmsg_dtype\u001B[0m \u001B[1;32mif\u001B[0m \u001B[0mmsg_dtype\u001B[0m \u001B[1;32mis\u001B[0m \u001B[1;32mnot\u001B[0m \u001B[1;32mNone\u001B[0m \u001B[1;32melse\u001B[0m \u001B[0mX\u001B[0m\u001B[1;33m.\u001B[0m\u001B[0mdtype\u001B[0m\u001B[1;33m\u001B[0m\u001B[1;33m\u001B[0m\u001B[0m\n",
      "\u001B[1;31mValueError\u001B[0m: Input contains NaN, infinity or a value too large for dtype('float64')."
     ]
    }
   ],
   "source": [
    "# Linear Model Test set prediction and Evaluation\n",
    "print('Count Vectorizer Test Set Results:')\n",
    "lm = fitPredict(x_train_scaled_cv, y_train_log_cv, x_test_scaled_cv, y_test_log_cv, LinearRegression())\n",
    "print('tfidf Test set Results:')\n",
    "lm = fitPredict(x_train_scaled_tf, y_train_log_tf, x_test_scaled_tf, y_test_log_tf, LinearRegression())"
   ],
   "metadata": {
    "collapsed": false
   }
  },
  {
   "cell_type": "markdown",
   "source": [
    "Linear Model seems to make predictions that are unreasonably high causing the above error."
   ],
   "metadata": {
    "collapsed": false
   }
  },
  {
   "cell_type": "code",
   "execution_count": 25,
   "outputs": [
    {
     "name": "stdout",
     "output_type": "stream",
     "text": [
      "Count Vectorizer Train Set Results:\n",
      "Train R2 score: 0.3594376181280087\n",
      "Test R2 score: -1208850618.2705479\n",
      "Test MAE: 4948.069583587039\n",
      "Test RMSE: 29386.361782110846\n",
      "tfidf Train set Results:\n",
      "Train R2 score: 0.35030067368941864\n",
      "Test R2 score: -12195794.008421885\n",
      "Test MAE: 2390.8515982752965\n",
      "Test RMSE: 2951.6479731448494\n"
     ]
    }
   ],
   "source": [
    "# Ridge Test set prediction and Evaluation\n",
    "print('Count Vectorizer Train Set Results:')\n",
    "rm = fitPredict(x_train_scaled_cv, y_train_log_cv, x_test_scaled_cv, y_test_log_cv, Ridge())\n",
    "print('tfidf Train set Results:')\n",
    "rm = fitPredict(x_train_scaled_tf, y_train_log_tf, x_test_scaled_tf, y_test_log_tf, Ridge())"
   ],
   "metadata": {
    "collapsed": false
   }
  },
  {
   "cell_type": "markdown",
   "source": [
    "TfIdf data performs significantly better than Count Vectorizer data when using the Ridge Regression Model."
   ],
   "metadata": {
    "collapsed": false
   }
  },
  {
   "cell_type": "code",
   "execution_count": 28,
   "outputs": [
    {
     "name": "stdout",
     "output_type": "stream",
     "text": [
      "Count Vectorizer Test Set Results:\n"
     ]
    },
    {
     "name": "stderr",
     "output_type": "stream",
     "text": [
      "C:\\Users\\ituser\\anaconda3\\lib\\site-packages\\sklearn\\neural_network\\_multilayer_perceptron.py:1599: DataConversionWarning: A column-vector y was passed when a 1d array was expected. Please change the shape of y to (n_samples, ), for example using ravel().\n",
      "  y = column_or_1d(y, warn=True)\n",
      "C:\\Users\\ituser\\anaconda3\\lib\\site-packages\\sklearn\\neural_network\\_multilayer_perceptron.py:692: ConvergenceWarning: Stochastic Optimizer: Maximum iterations (200) reached and the optimization hasn't converged yet.\n",
      "  warnings.warn(\n",
      "C:\\Users\\ituser\\anaconda3\\lib\\site-packages\\sklearn\\neural_network\\_multilayer_perceptron.py:1599: DataConversionWarning: A column-vector y was passed when a 1d array was expected. Please change the shape of y to (n_samples, ), for example using ravel().\n",
      "  y = column_or_1d(y, warn=True)\n"
     ]
    },
    {
     "name": "stdout",
     "output_type": "stream",
     "text": [
      "Train R2 score: 0.6369392091011905\n",
      "Test R2 score: -1.020786741671778e+41\n",
      "Test MAE: 2.1286458306782265e+19\n",
      "Test RMSE: 2.7003932432870113e+20\n",
      "tfidf Test set Results:\n",
      "Train R2 score: 0.6580150558740787\n",
      "Test R2 score: -269769433443.1649\n",
      "Test MAE: 58321.8647826916\n",
      "Test RMSE: 438991.2584095346\n"
     ]
    }
   ],
   "source": [
    "# MLPRegressor Test set prediction and Evaluation\n",
    "print('Count Vectorizer Test Set Results:')\n",
    "rm = fitPredict(x_train_scaled_cv, y_train_log_cv, x_test_scaled_cv, y_test_log_cv, MLPRegressor())\n",
    "print('tfidf Test set Results:')\n",
    "rm = fitPredict(x_train_scaled_tf, y_train_log_tf, x_test_scaled_tf, y_test_log_tf, MLPRegressor())"
   ],
   "metadata": {
    "collapsed": false
   }
  },
  {
   "cell_type": "markdown",
   "source": [
    "Performance of the model is not good, but TfIdf still performs much better than Count Vectorizer Data for the MLPRegressor Model"
   ],
   "metadata": {
    "collapsed": false
   }
  },
  {
   "cell_type": "code",
   "execution_count": 29,
   "outputs": [
    {
     "name": "stdout",
     "output_type": "stream",
     "text": [
      "Count Vectorizer Test Set Results:\n"
     ]
    },
    {
     "name": "stderr",
     "output_type": "stream",
     "text": [
      "C:\\Users\\ituser\\anaconda3\\lib\\site-packages\\sklearn\\ensemble\\_gb.py:494: DataConversionWarning: A column-vector y was passed when a 1d array was expected. Please change the shape of y to (n_samples, ), for example using ravel().\n",
      "  y = column_or_1d(y, warn=True)\n"
     ]
    },
    {
     "name": "stdout",
     "output_type": "stream",
     "text": [
      "Train R2 score: 0.550353263985458\n",
      "Test R2 score: -7192321.258238166\n",
      "Test MAE: 2105.6486334417677\n",
      "Test RMSE: 2266.7001396900177\n",
      "tfidf Test set Results:\n"
     ]
    },
    {
     "name": "stderr",
     "output_type": "stream",
     "text": [
      "C:\\Users\\ituser\\anaconda3\\lib\\site-packages\\sklearn\\ensemble\\_gb.py:494: DataConversionWarning: A column-vector y was passed when a 1d array was expected. Please change the shape of y to (n_samples, ), for example using ravel().\n",
      "  y = column_or_1d(y, warn=True)\n"
     ]
    },
    {
     "name": "stdout",
     "output_type": "stream",
     "text": [
      "Train R2 score: 0.5287719271283919\n",
      "Test R2 score: -6711515.379266732\n",
      "Test MAE: 2081.9820575564727\n",
      "Test RMSE: 2189.6254364260426\n"
     ]
    }
   ],
   "source": [
    "# Gradient Boosting Regressor Test set prediction and Evaluation\n",
    "print('Count Vectorizer Test Set Results:')\n",
    "rm = fitPredict(x_train_scaled_cv, y_train_log_cv, x_test_scaled_cv, y_test_log_cv, GradientBoostingRegressor())\n",
    "print('tfidf Test set Results:')\n",
    "rm = fitPredict(x_train_scaled_tf, y_train_log_tf, x_test_scaled_tf, y_test_log_tf, GradientBoostingRegressor())"
   ],
   "metadata": {
    "collapsed": false
   }
  },
  {
   "cell_type": "markdown",
   "source": [
    "Gradient Boosting Model performs better than the other models using test data. And again, the best results come from TfIdf data."
   ],
   "metadata": {
    "collapsed": false
   }
  },
  {
   "cell_type": "code",
   "execution_count": 32,
   "outputs": [
    {
     "name": "stdout",
     "output_type": "stream",
     "text": [
      "Count Vectorizer Test Set Results:\n",
      "Train R2 score: 0.0\n",
      "Test R2 score: -4918072.997380169\n",
      "Test MAE: 1874.3771773979906\n",
      "Test RMSE: 1874.3773679581027\n",
      "tfidf Test set Results:\n",
      "Train R2 score: 0.0\n",
      "Test R2 score: -4918072.997380169\n",
      "Test MAE: 1874.3771773979906\n",
      "Test RMSE: 1874.3773679581027\n"
     ]
    }
   ],
   "source": [
    "# Elastic Net Test set prediction and Evaluation\n",
    "print('Count Vectorizer Test Set Results:')\n",
    "rm = fitPredict(x_train_scaled_cv, y_train_log_cv, x_test_scaled_cv, y_test_log_cv, ElasticNet())\n",
    "print('tfidf Test set Results:')\n",
    "rm = fitPredict(x_train_scaled_tf, y_train_log_tf, x_test_scaled_tf, y_test_log_tf, ElasticNet())"
   ],
   "metadata": {
    "collapsed": false
   }
  },
  {
   "cell_type": "code",
   "execution_count": 34,
   "outputs": [
    {
     "name": "stdout",
     "output_type": "stream",
     "text": [
      "Count Vectorizer Test Set Results:\n",
      "Train R2 score: 0.996991300089808\n",
      "Test R2 score: -8565580.459056232\n",
      "Test MAE: 2196.8519935105073\n",
      "Test RMSE: 2473.648156817093\n",
      "tfidf Test set Results:\n",
      "Train R2 score: 0.9872991985104576\n",
      "Test R2 score: -8519095.04914936\n",
      "Test MAE: 2211.0176981902337\n",
      "Test RMSE: 2466.9267810078254\n"
     ]
    }
   ],
   "source": [
    "# XG Boost Regressor Test set prediction and Evaluation\n",
    "print('Count Vectorizer Test Set Results:')\n",
    "rm = fitPredict(x_train_scaled_cv, y_train_log_cv, x_test_scaled_cv, y_test_log_cv, XGBRegressor())\n",
    "print('tfidf Test set Results:')\n",
    "rm = fitPredict(x_train_scaled_tf, y_train_log_tf, x_test_scaled_tf, y_test_log_tf, XGBRegressor())"
   ],
   "metadata": {
    "collapsed": false
   }
  },
  {
   "cell_type": "code",
   "execution_count": null,
   "outputs": [],
   "source": [],
   "metadata": {
    "collapsed": false
   }
  }
 ],
 "metadata": {
  "kernelspec": {
   "display_name": "Python 3",
   "language": "python",
   "name": "python3"
  },
  "language_info": {
   "codemirror_mode": {
    "name": "ipython",
    "version": 2
   },
   "file_extension": ".py",
   "mimetype": "text/x-python",
   "name": "python",
   "nbconvert_exporter": "python",
   "pygments_lexer": "ipython2",
   "version": "2.7.6"
  }
 },
 "nbformat": 4,
 "nbformat_minor": 0
}
