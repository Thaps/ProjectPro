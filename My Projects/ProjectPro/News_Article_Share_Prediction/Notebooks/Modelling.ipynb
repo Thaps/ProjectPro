{
 "cells": [
  {
   "cell_type": "markdown",
   "source": [
    "<h1>Modelling</h1>"
   ],
   "metadata": {
    "collapsed": false
   }
  },
  {
   "cell_type": "code",
   "execution_count": 2,
   "outputs": [],
   "source": [
    "# Importing the necessary libraries\n",
    "import pandas as pd\n",
    "import numpy as np\n",
    "import matplotlib.pyplot as plt"
   ],
   "metadata": {
    "collapsed": false
   }
  },
  {
   "cell_type": "code",
   "execution_count": 1,
   "outputs": [],
   "source": [
    "from sklearn.model_selection import train_test_split\n",
    "from sklearn.linear_model import LinearRegression, Ridge\n",
    "from sklearn.metrics import mean_squared_error, mean_absolute_error, r2_score\n",
    "from sklearn.neural_network import MLPRegressor\n",
    "from sklearn.preprocessing import StandardScaler"
   ],
   "metadata": {
    "collapsed": false
   }
  },
  {
   "cell_type": "code",
   "execution_count": 19,
   "outputs": [
    {
     "data": {
      "text/plain": "   Unnamed: 0  article_id                                              title  \\\n0           0     7014291                 It's Time for a YouTube Competitor   \n1           1     7014327  The Ultimate Roundup of 2014's Biggest April F...   \n2           2     7014304  A Selfie and One Garish Jacket: How the Red So...   \n3           3     7031995    African Telecom Proposes More Diverse Emoticons   \n4           4     6541359  Google to Launch Improved Android Camera App, ...   \n\n                                                text  unique_tokens_rate  \\\n0  It was reported last week that Yahoo is gettin...            0.640816   \n1  April Fools' marks the day when pranking goes ...            0.549618   \n2  The 2013 World Series champion Boston Red Sox ...            0.577236   \n3  Less than a week after Apple pledged to make i...            0.525896   \n4  Android users may soon see a series of new fea...            0.588889   \n\n   num_hrefs  num_imgs  num_videos  average_token_length  num_keywords  ...  \\\n0        5.0       3.0         1.0              4.579592             5  ...   \n1        4.0       1.0         0.0              4.636704             7  ...   \n2        8.0       1.0         0.0              4.627451             7  ...   \n3        4.0       1.0         0.0              5.083665             9  ...   \n4        6.0       9.0         0.0              4.336022             7  ...   \n\n   april opens  fire tv  new window  new york  opens new  pic twitter  \\\n0            0        0           0         0          0            0   \n1            0        0           0         0          0            0   \n2            5        0          17         0         13            5   \n3            0        0           2         0          2            0   \n4            0        0           1         0          1            0   \n\n   see also  seealso slug  social media.1  twitter com  \n0         0             1               0            0  \n1         0             0               0            0  \n2         0             0               0            5  \n3         1             1               0            0  \n4         0             1               0            0  \n\n[5 rows x 43 columns]",
      "text/html": "<div>\n<style scoped>\n    .dataframe tbody tr th:only-of-type {\n        vertical-align: middle;\n    }\n\n    .dataframe tbody tr th {\n        vertical-align: top;\n    }\n\n    .dataframe thead th {\n        text-align: right;\n    }\n</style>\n<table border=\"1\" class=\"dataframe\">\n  <thead>\n    <tr style=\"text-align: right;\">\n      <th></th>\n      <th>Unnamed: 0</th>\n      <th>article_id</th>\n      <th>title</th>\n      <th>text</th>\n      <th>unique_tokens_rate</th>\n      <th>num_hrefs</th>\n      <th>num_imgs</th>\n      <th>num_videos</th>\n      <th>average_token_length</th>\n      <th>num_keywords</th>\n      <th>...</th>\n      <th>april opens</th>\n      <th>fire tv</th>\n      <th>new window</th>\n      <th>new york</th>\n      <th>opens new</th>\n      <th>pic twitter</th>\n      <th>see also</th>\n      <th>seealso slug</th>\n      <th>social media.1</th>\n      <th>twitter com</th>\n    </tr>\n  </thead>\n  <tbody>\n    <tr>\n      <th>0</th>\n      <td>0</td>\n      <td>7014291</td>\n      <td>It's Time for a YouTube Competitor</td>\n      <td>It was reported last week that Yahoo is gettin...</td>\n      <td>0.640816</td>\n      <td>5.0</td>\n      <td>3.0</td>\n      <td>1.0</td>\n      <td>4.579592</td>\n      <td>5</td>\n      <td>...</td>\n      <td>0</td>\n      <td>0</td>\n      <td>0</td>\n      <td>0</td>\n      <td>0</td>\n      <td>0</td>\n      <td>0</td>\n      <td>1</td>\n      <td>0</td>\n      <td>0</td>\n    </tr>\n    <tr>\n      <th>1</th>\n      <td>1</td>\n      <td>7014327</td>\n      <td>The Ultimate Roundup of 2014's Biggest April F...</td>\n      <td>April Fools' marks the day when pranking goes ...</td>\n      <td>0.549618</td>\n      <td>4.0</td>\n      <td>1.0</td>\n      <td>0.0</td>\n      <td>4.636704</td>\n      <td>7</td>\n      <td>...</td>\n      <td>0</td>\n      <td>0</td>\n      <td>0</td>\n      <td>0</td>\n      <td>0</td>\n      <td>0</td>\n      <td>0</td>\n      <td>0</td>\n      <td>0</td>\n      <td>0</td>\n    </tr>\n    <tr>\n      <th>2</th>\n      <td>2</td>\n      <td>7014304</td>\n      <td>A Selfie and One Garish Jacket: How the Red So...</td>\n      <td>The 2013 World Series champion Boston Red Sox ...</td>\n      <td>0.577236</td>\n      <td>8.0</td>\n      <td>1.0</td>\n      <td>0.0</td>\n      <td>4.627451</td>\n      <td>7</td>\n      <td>...</td>\n      <td>5</td>\n      <td>0</td>\n      <td>17</td>\n      <td>0</td>\n      <td>13</td>\n      <td>5</td>\n      <td>0</td>\n      <td>0</td>\n      <td>0</td>\n      <td>5</td>\n    </tr>\n    <tr>\n      <th>3</th>\n      <td>3</td>\n      <td>7031995</td>\n      <td>African Telecom Proposes More Diverse Emoticons</td>\n      <td>Less than a week after Apple pledged to make i...</td>\n      <td>0.525896</td>\n      <td>4.0</td>\n      <td>1.0</td>\n      <td>0.0</td>\n      <td>5.083665</td>\n      <td>9</td>\n      <td>...</td>\n      <td>0</td>\n      <td>0</td>\n      <td>2</td>\n      <td>0</td>\n      <td>2</td>\n      <td>0</td>\n      <td>1</td>\n      <td>1</td>\n      <td>0</td>\n      <td>0</td>\n    </tr>\n    <tr>\n      <th>4</th>\n      <td>4</td>\n      <td>6541359</td>\n      <td>Google to Launch Improved Android Camera App, ...</td>\n      <td>Android users may soon see a series of new fea...</td>\n      <td>0.588889</td>\n      <td>6.0</td>\n      <td>9.0</td>\n      <td>0.0</td>\n      <td>4.336022</td>\n      <td>7</td>\n      <td>...</td>\n      <td>0</td>\n      <td>0</td>\n      <td>1</td>\n      <td>0</td>\n      <td>1</td>\n      <td>0</td>\n      <td>0</td>\n      <td>1</td>\n      <td>0</td>\n      <td>0</td>\n    </tr>\n  </tbody>\n</table>\n<p>5 rows × 43 columns</p>\n</div>"
     },
     "execution_count": 19,
     "metadata": {},
     "output_type": "execute_result"
    }
   ],
   "source": [
    "data = pd.read_csv('../Data/preprocessed.csv')\n",
    "data.head()"
   ],
   "metadata": {
    "collapsed": false
   }
  },
  {
   "cell_type": "code",
   "execution_count": 20,
   "outputs": [],
   "source": [
    "data.drop('Unnamed: 0', axis=1, inplace=True)"
   ],
   "metadata": {
    "collapsed": false
   }
  },
  {
   "cell_type": "code",
   "execution_count": 21,
   "outputs": [
    {
     "data": {
      "text/plain": "   article_id                                              title  \\\n0     7014291                 It's Time for a YouTube Competitor   \n1     7014327  The Ultimate Roundup of 2014's Biggest April F...   \n2     7014304  A Selfie and One Garish Jacket: How the Red So...   \n3     7031995    African Telecom Proposes More Diverse Emoticons   \n4     6541359  Google to Launch Improved Android Camera App, ...   \n\n                                                text  unique_tokens_rate  \\\n0  It was reported last week that Yahoo is gettin...            0.640816   \n1  April Fools' marks the day when pranking goes ...            0.549618   \n2  The 2013 World Series champion Boston Red Sox ...            0.577236   \n3  Less than a week after Apple pledged to make i...            0.525896   \n4  Android users may soon see a series of new fea...            0.588889   \n\n   num_hrefs  num_imgs  num_videos  average_token_length  num_keywords  \\\n0        5.0       3.0         1.0              4.579592             5   \n1        4.0       1.0         0.0              4.636704             7   \n2        8.0       1.0         0.0              4.627451             7   \n3        4.0       1.0         0.0              5.083665             9   \n4        6.0       9.0         0.0              4.336022             7   \n\n   min_avg_key  ...  april opens  fire tv  new window  new york  opens new  \\\n0     1459.500  ...            0        0           0         0          0   \n1        0.000  ...            0        0           0         0          0   \n2     2270.889  ...            5        0          17         0         13   \n3        0.000  ...            0        0           2         0          2   \n4     3264.605  ...            0        0           1         0          1   \n\n   pic twitter  see also  seealso slug  social media.1  twitter com  \n0            0         0             1               0            0  \n1            0         0             0               0            0  \n2            5         0             0               0            5  \n3            0         1             1               0            0  \n4            0         0             1               0            0  \n\n[5 rows x 42 columns]",
      "text/html": "<div>\n<style scoped>\n    .dataframe tbody tr th:only-of-type {\n        vertical-align: middle;\n    }\n\n    .dataframe tbody tr th {\n        vertical-align: top;\n    }\n\n    .dataframe thead th {\n        text-align: right;\n    }\n</style>\n<table border=\"1\" class=\"dataframe\">\n  <thead>\n    <tr style=\"text-align: right;\">\n      <th></th>\n      <th>article_id</th>\n      <th>title</th>\n      <th>text</th>\n      <th>unique_tokens_rate</th>\n      <th>num_hrefs</th>\n      <th>num_imgs</th>\n      <th>num_videos</th>\n      <th>average_token_length</th>\n      <th>num_keywords</th>\n      <th>min_avg_key</th>\n      <th>...</th>\n      <th>april opens</th>\n      <th>fire tv</th>\n      <th>new window</th>\n      <th>new york</th>\n      <th>opens new</th>\n      <th>pic twitter</th>\n      <th>see also</th>\n      <th>seealso slug</th>\n      <th>social media.1</th>\n      <th>twitter com</th>\n    </tr>\n  </thead>\n  <tbody>\n    <tr>\n      <th>0</th>\n      <td>7014291</td>\n      <td>It's Time for a YouTube Competitor</td>\n      <td>It was reported last week that Yahoo is gettin...</td>\n      <td>0.640816</td>\n      <td>5.0</td>\n      <td>3.0</td>\n      <td>1.0</td>\n      <td>4.579592</td>\n      <td>5</td>\n      <td>1459.500</td>\n      <td>...</td>\n      <td>0</td>\n      <td>0</td>\n      <td>0</td>\n      <td>0</td>\n      <td>0</td>\n      <td>0</td>\n      <td>0</td>\n      <td>1</td>\n      <td>0</td>\n      <td>0</td>\n    </tr>\n    <tr>\n      <th>1</th>\n      <td>7014327</td>\n      <td>The Ultimate Roundup of 2014's Biggest April F...</td>\n      <td>April Fools' marks the day when pranking goes ...</td>\n      <td>0.549618</td>\n      <td>4.0</td>\n      <td>1.0</td>\n      <td>0.0</td>\n      <td>4.636704</td>\n      <td>7</td>\n      <td>0.000</td>\n      <td>...</td>\n      <td>0</td>\n      <td>0</td>\n      <td>0</td>\n      <td>0</td>\n      <td>0</td>\n      <td>0</td>\n      <td>0</td>\n      <td>0</td>\n      <td>0</td>\n      <td>0</td>\n    </tr>\n    <tr>\n      <th>2</th>\n      <td>7014304</td>\n      <td>A Selfie and One Garish Jacket: How the Red So...</td>\n      <td>The 2013 World Series champion Boston Red Sox ...</td>\n      <td>0.577236</td>\n      <td>8.0</td>\n      <td>1.0</td>\n      <td>0.0</td>\n      <td>4.627451</td>\n      <td>7</td>\n      <td>2270.889</td>\n      <td>...</td>\n      <td>5</td>\n      <td>0</td>\n      <td>17</td>\n      <td>0</td>\n      <td>13</td>\n      <td>5</td>\n      <td>0</td>\n      <td>0</td>\n      <td>0</td>\n      <td>5</td>\n    </tr>\n    <tr>\n      <th>3</th>\n      <td>7031995</td>\n      <td>African Telecom Proposes More Diverse Emoticons</td>\n      <td>Less than a week after Apple pledged to make i...</td>\n      <td>0.525896</td>\n      <td>4.0</td>\n      <td>1.0</td>\n      <td>0.0</td>\n      <td>5.083665</td>\n      <td>9</td>\n      <td>0.000</td>\n      <td>...</td>\n      <td>0</td>\n      <td>0</td>\n      <td>2</td>\n      <td>0</td>\n      <td>2</td>\n      <td>0</td>\n      <td>1</td>\n      <td>1</td>\n      <td>0</td>\n      <td>0</td>\n    </tr>\n    <tr>\n      <th>4</th>\n      <td>6541359</td>\n      <td>Google to Launch Improved Android Camera App, ...</td>\n      <td>Android users may soon see a series of new fea...</td>\n      <td>0.588889</td>\n      <td>6.0</td>\n      <td>9.0</td>\n      <td>0.0</td>\n      <td>4.336022</td>\n      <td>7</td>\n      <td>3264.605</td>\n      <td>...</td>\n      <td>0</td>\n      <td>0</td>\n      <td>1</td>\n      <td>0</td>\n      <td>1</td>\n      <td>0</td>\n      <td>0</td>\n      <td>1</td>\n      <td>0</td>\n      <td>0</td>\n    </tr>\n  </tbody>\n</table>\n<p>5 rows × 42 columns</p>\n</div>"
     },
     "execution_count": 21,
     "metadata": {},
     "output_type": "execute_result"
    }
   ],
   "source": [
    "data.head()"
   ],
   "metadata": {
    "collapsed": false
   }
  },
  {
   "cell_type": "code",
   "execution_count": 22,
   "outputs": [
    {
     "data": {
      "text/plain": "   unique_tokens_rate  num_hrefs  num_imgs  num_videos  average_token_length  \\\n0            0.640816        5.0       3.0         1.0              4.579592   \n1            0.549618        4.0       1.0         0.0              4.636704   \n2            0.577236        8.0       1.0         0.0              4.627451   \n3            0.525896        4.0       1.0         0.0              5.083665   \n4            0.588889        6.0       9.0         0.0              4.336022   \n\n   num_keywords  min_avg_key  max_avg_key  avg_avg_key  href_avg_shares  ...  \\\n0             5     1459.500     4817.692     3370.415         1833.333  ...   \n1             7        0.000     3581.094     2556.367         8500.000  ...   \n2             7     2270.889     3852.800     3018.167         2076.333  ...   \n3             9        0.000     3581.094     1871.403         2200.000  ...   \n4             7     3264.605     8453.451     5155.323          805.000  ...   \n\n   april opens  fire tv  new window  new york  opens new  pic twitter  \\\n0            0        0           0         0          0            0   \n1            0        0           0         0          0            0   \n2            5        0          17         0         13            5   \n3            0        0           2         0          2            0   \n4            0        0           1         0          1            0   \n\n   see also  seealso slug  social media.1  twitter com  \n0         0             1               0            0  \n1         0             0               0            0  \n2         0             0               0            5  \n3         1             1               0            0  \n4         0             1               0            0  \n\n[5 rows x 36 columns]",
      "text/html": "<div>\n<style scoped>\n    .dataframe tbody tr th:only-of-type {\n        vertical-align: middle;\n    }\n\n    .dataframe tbody tr th {\n        vertical-align: top;\n    }\n\n    .dataframe thead th {\n        text-align: right;\n    }\n</style>\n<table border=\"1\" class=\"dataframe\">\n  <thead>\n    <tr style=\"text-align: right;\">\n      <th></th>\n      <th>unique_tokens_rate</th>\n      <th>num_hrefs</th>\n      <th>num_imgs</th>\n      <th>num_videos</th>\n      <th>average_token_length</th>\n      <th>num_keywords</th>\n      <th>min_avg_key</th>\n      <th>max_avg_key</th>\n      <th>avg_avg_key</th>\n      <th>href_avg_shares</th>\n      <th>...</th>\n      <th>april opens</th>\n      <th>fire tv</th>\n      <th>new window</th>\n      <th>new york</th>\n      <th>opens new</th>\n      <th>pic twitter</th>\n      <th>see also</th>\n      <th>seealso slug</th>\n      <th>social media.1</th>\n      <th>twitter com</th>\n    </tr>\n  </thead>\n  <tbody>\n    <tr>\n      <th>0</th>\n      <td>0.640816</td>\n      <td>5.0</td>\n      <td>3.0</td>\n      <td>1.0</td>\n      <td>4.579592</td>\n      <td>5</td>\n      <td>1459.500</td>\n      <td>4817.692</td>\n      <td>3370.415</td>\n      <td>1833.333</td>\n      <td>...</td>\n      <td>0</td>\n      <td>0</td>\n      <td>0</td>\n      <td>0</td>\n      <td>0</td>\n      <td>0</td>\n      <td>0</td>\n      <td>1</td>\n      <td>0</td>\n      <td>0</td>\n    </tr>\n    <tr>\n      <th>1</th>\n      <td>0.549618</td>\n      <td>4.0</td>\n      <td>1.0</td>\n      <td>0.0</td>\n      <td>4.636704</td>\n      <td>7</td>\n      <td>0.000</td>\n      <td>3581.094</td>\n      <td>2556.367</td>\n      <td>8500.000</td>\n      <td>...</td>\n      <td>0</td>\n      <td>0</td>\n      <td>0</td>\n      <td>0</td>\n      <td>0</td>\n      <td>0</td>\n      <td>0</td>\n      <td>0</td>\n      <td>0</td>\n      <td>0</td>\n    </tr>\n    <tr>\n      <th>2</th>\n      <td>0.577236</td>\n      <td>8.0</td>\n      <td>1.0</td>\n      <td>0.0</td>\n      <td>4.627451</td>\n      <td>7</td>\n      <td>2270.889</td>\n      <td>3852.800</td>\n      <td>3018.167</td>\n      <td>2076.333</td>\n      <td>...</td>\n      <td>5</td>\n      <td>0</td>\n      <td>17</td>\n      <td>0</td>\n      <td>13</td>\n      <td>5</td>\n      <td>0</td>\n      <td>0</td>\n      <td>0</td>\n      <td>5</td>\n    </tr>\n    <tr>\n      <th>3</th>\n      <td>0.525896</td>\n      <td>4.0</td>\n      <td>1.0</td>\n      <td>0.0</td>\n      <td>5.083665</td>\n      <td>9</td>\n      <td>0.000</td>\n      <td>3581.094</td>\n      <td>1871.403</td>\n      <td>2200.000</td>\n      <td>...</td>\n      <td>0</td>\n      <td>0</td>\n      <td>2</td>\n      <td>0</td>\n      <td>2</td>\n      <td>0</td>\n      <td>1</td>\n      <td>1</td>\n      <td>0</td>\n      <td>0</td>\n    </tr>\n    <tr>\n      <th>4</th>\n      <td>0.588889</td>\n      <td>6.0</td>\n      <td>9.0</td>\n      <td>0.0</td>\n      <td>4.336022</td>\n      <td>7</td>\n      <td>3264.605</td>\n      <td>8453.451</td>\n      <td>5155.323</td>\n      <td>805.000</td>\n      <td>...</td>\n      <td>0</td>\n      <td>0</td>\n      <td>1</td>\n      <td>0</td>\n      <td>1</td>\n      <td>0</td>\n      <td>0</td>\n      <td>1</td>\n      <td>0</td>\n      <td>0</td>\n    </tr>\n  </tbody>\n</table>\n<p>5 rows × 36 columns</p>\n</div>"
     },
     "execution_count": 22,
     "metadata": {},
     "output_type": "execute_result"
    }
   ],
   "source": [
    "# extracting numeric data into dataframe df\n",
    "df = data.drop(['article_id', 'title', 'text', 'data_channel_cleaned', 'text_prepared', 'published_date_cleaned'], axis=1)\n",
    "df.head()"
   ],
   "metadata": {
    "collapsed": false
   }
  },
  {
   "cell_type": "code",
   "execution_count": 23,
   "outputs": [
    {
     "data": {
      "text/plain": "(1003, 36)"
     },
     "execution_count": 23,
     "metadata": {},
     "output_type": "execute_result"
    }
   ],
   "source": [
    "df.shape"
   ],
   "metadata": {
    "collapsed": false
   }
  },
  {
   "cell_type": "code",
   "execution_count": 24,
   "outputs": [],
   "source": [
    "# splitting dataset into predictor and target variables\n",
    "X = df.drop('shares',axis=1)\n",
    "y = df[['shares']]"
   ],
   "metadata": {
    "collapsed": false
   }
  },
  {
   "cell_type": "code",
   "execution_count": 25,
   "outputs": [
    {
     "name": "stdout",
     "output_type": "stream",
     "text": [
      "((802, 35), (201, 35)) ((802, 1), (201, 1))\n"
     ]
    }
   ],
   "source": [
    "x_train, x_test, y_train, y_test = train_test_split(X,y,test_size=0.2,random_state=42)\n",
    "print((x_train.shape, x_test.shape), (y_train.shape,y_test.shape))"
   ],
   "metadata": {
    "collapsed": false
   }
  },
  {
   "cell_type": "code",
   "execution_count": 26,
   "outputs": [],
   "source": [
    "scaler = StandardScaler()"
   ],
   "metadata": {
    "collapsed": false
   }
  },
  {
   "cell_type": "code",
   "execution_count": 27,
   "outputs": [],
   "source": [
    "x_train = scaler.fit_transform(x_train)"
   ],
   "metadata": {
    "collapsed": false
   }
  },
  {
   "cell_type": "code",
   "execution_count": 31,
   "outputs": [
    {
     "data": {
      "text/plain": "array([[ 1.07789591, -0.00784462, -0.59958131, ..., -0.77720135,\n        -0.21205872, -0.21541484],\n       [-0.31869803,  2.88619426, -0.59958131, ...,  1.27317852,\n        -0.21205872, -0.21541484],\n       [ 1.50333135, -0.63698351, -0.42642171, ..., -0.77720135,\n        -0.21205872, -0.21541484],\n       ...,\n       [-0.45344529,  0.36963871, -0.59958131, ..., -0.77720135,\n         5.18702352, -0.21541484],\n       [ 0.04649706, -0.76281129, -0.77274092, ...,  1.27317852,\n        -0.21205872, -0.21541484],\n       [ 1.23317868, -0.76281129, -0.59958131, ..., -0.77720135,\n        -0.21205872, -0.21541484]])"
     },
     "execution_count": 31,
     "metadata": {},
     "output_type": "execute_result"
    }
   ],
   "source": [
    "x_train"
   ],
   "metadata": {
    "collapsed": false
   }
  },
  {
   "cell_type": "code",
   "execution_count": 32,
   "outputs": [],
   "source": [
    "x_test = scaler.transform(x_test)"
   ],
   "metadata": {
    "collapsed": false
   }
  },
  {
   "cell_type": "markdown",
   "source": [
    "<h1>Models</h1>"
   ],
   "metadata": {
    "collapsed": false
   }
  },
  {
   "cell_type": "code",
   "execution_count": 33,
   "outputs": [
    {
     "data": {
      "text/plain": "LinearRegression()"
     },
     "execution_count": 33,
     "metadata": {},
     "output_type": "execute_result"
    }
   ],
   "source": [
    "# Fitting the Linear Regression model\n",
    "lm = LinearRegression()\n",
    "lm.fit(x_train, y_train)"
   ],
   "metadata": {
    "collapsed": false
   }
  },
  {
   "cell_type": "code",
   "execution_count": 34,
   "outputs": [
    {
     "data": {
      "text/plain": "0.05873832261827805"
     },
     "execution_count": 34,
     "metadata": {},
     "output_type": "execute_result"
    }
   ],
   "source": [
    "lm.score(x_test, y_test)"
   ],
   "metadata": {
    "collapsed": false
   }
  },
  {
   "cell_type": "code",
   "execution_count": 35,
   "outputs": [
    {
     "name": "stdout",
     "output_type": "stream",
     "text": [
      "Test R2 score: 0.05873832261827805\n",
      "Test MAE: 2130.807247358031\n",
      "Test RMSE: 3026.825541651812\n"
     ]
    }
   ],
   "source": [
    "y_hat = lm.predict(x_test)\n",
    "\n",
    "print(\"Test R2 score: \"+ str(r2_score(y_test,y_hat)))\n",
    "print(\"Test MAE: \"+ str(mean_absolute_error(y_test,y_hat)))\n",
    "print(\"Test RMSE: \"+ str(np.sqrt(mean_squared_error(y_test,y_hat))))"
   ],
   "metadata": {
    "collapsed": false
   }
  },
  {
   "cell_type": "code",
   "execution_count": 36,
   "outputs": [
    {
     "data": {
      "text/plain": "Ridge()"
     },
     "execution_count": 36,
     "metadata": {},
     "output_type": "execute_result"
    }
   ],
   "source": [
    "rm = Ridge()\n",
    "rm.fit(x_train, y_train)"
   ],
   "metadata": {
    "collapsed": false
   }
  },
  {
   "cell_type": "code",
   "execution_count": 37,
   "outputs": [
    {
     "data": {
      "text/plain": "0.05994034285274308"
     },
     "execution_count": 37,
     "metadata": {},
     "output_type": "execute_result"
    }
   ],
   "source": [
    "rm.score(x_test, y_test)"
   ],
   "metadata": {
    "collapsed": false
   }
  },
  {
   "cell_type": "code",
   "execution_count": 38,
   "outputs": [
    {
     "name": "stdout",
     "output_type": "stream",
     "text": [
      "Test R2 score: 0.05994034285274308\n",
      "Test MAE: 2129.4766390039927\n",
      "Test RMSE: 3024.892249383508\n"
     ]
    }
   ],
   "source": [
    "y_hat = rm.predict(x_test)\n",
    "\n",
    "print(\"Test R2 score: \"+ str(r2_score(y_test,y_hat)))\n",
    "print(\"Test MAE: \"+ str(mean_absolute_error(y_test,y_hat)))\n",
    "print(\"Test RMSE: \"+ str(np.sqrt(mean_squared_error(y_test,y_hat))))"
   ],
   "metadata": {
    "collapsed": false
   }
  },
  {
   "cell_type": "code",
   "execution_count": 39,
   "outputs": [],
   "source": [
    "mlp = MLPRegressor(random_state=42)"
   ],
   "metadata": {
    "collapsed": false
   }
  },
  {
   "cell_type": "code",
   "execution_count": 40,
   "outputs": [
    {
     "name": "stderr",
     "output_type": "stream",
     "text": [
      "C:\\Users\\ituser\\anaconda3\\lib\\site-packages\\sklearn\\neural_network\\_multilayer_perceptron.py:1599: DataConversionWarning: A column-vector y was passed when a 1d array was expected. Please change the shape of y to (n_samples, ), for example using ravel().\n",
      "  y = column_or_1d(y, warn=True)\n",
      "C:\\Users\\ituser\\anaconda3\\lib\\site-packages\\sklearn\\neural_network\\_multilayer_perceptron.py:692: ConvergenceWarning: Stochastic Optimizer: Maximum iterations (200) reached and the optimization hasn't converged yet.\n",
      "  warnings.warn(\n"
     ]
    },
    {
     "data": {
      "text/plain": "MLPRegressor(random_state=42)"
     },
     "execution_count": 40,
     "metadata": {},
     "output_type": "execute_result"
    }
   ],
   "source": [
    "mlp.fit(x_train, y_train)"
   ],
   "metadata": {
    "collapsed": false
   }
  },
  {
   "cell_type": "code",
   "execution_count": 41,
   "outputs": [],
   "source": [
    "y_hat = mlp.predict(x_test)"
   ],
   "metadata": {
    "collapsed": false
   }
  },
  {
   "cell_type": "code",
   "execution_count": 42,
   "outputs": [
    {
     "data": {
      "text/plain": "-0.7317615431060098"
     },
     "execution_count": 42,
     "metadata": {},
     "output_type": "execute_result"
    }
   ],
   "source": [
    "mlp.score(x_test, y_test)"
   ],
   "metadata": {
    "collapsed": false
   }
  },
  {
   "cell_type": "code",
   "execution_count": 43,
   "outputs": [
    {
     "name": "stdout",
     "output_type": "stream",
     "text": [
      "Test R2 score: -0.7317615431060098\n",
      "Test MAE: 2688.3843138811794\n",
      "Test RMSE: 4105.596335536841\n"
     ]
    }
   ],
   "source": [
    "y_hat = mlp.predict(x_test)\n",
    "\n",
    "print(\"Test R2 score: \"+ str(r2_score(y_test,y_hat)))\n",
    "print(\"Test MAE: \"+ str(mean_absolute_error(y_test,y_hat)))\n",
    "print(\"Test RMSE: \"+ str(np.sqrt(mean_squared_error(y_test,y_hat))))"
   ],
   "metadata": {
    "collapsed": false
   }
  },
  {
   "cell_type": "code",
   "execution_count": null,
   "outputs": [],
   "source": [],
   "metadata": {
    "collapsed": false
   }
  }
 ],
 "metadata": {
  "kernelspec": {
   "display_name": "Python 3",
   "language": "python",
   "name": "python3"
  },
  "language_info": {
   "codemirror_mode": {
    "name": "ipython",
    "version": 2
   },
   "file_extension": ".py",
   "mimetype": "text/x-python",
   "name": "python",
   "nbconvert_exporter": "python",
   "pygments_lexer": "ipython2",
   "version": "2.7.6"
  }
 },
 "nbformat": 4,
 "nbformat_minor": 0
}
