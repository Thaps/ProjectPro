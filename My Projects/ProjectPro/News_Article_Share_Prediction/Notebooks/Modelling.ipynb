{
 "cells": [
  {
   "cell_type": "markdown",
   "source": [
    "<h1>Modelling</h1>"
   ],
   "metadata": {
    "collapsed": false
   }
  },
  {
   "cell_type": "code",
   "execution_count": 1,
   "outputs": [],
   "source": [
    "# Importing the necessary libraries\n",
    "import pandas as pd\n",
    "import numpy as np\n",
    "import matplotlib.pyplot as plt"
   ],
   "metadata": {
    "collapsed": false
   }
  },
  {
   "cell_type": "code",
   "execution_count": 2,
   "outputs": [],
   "source": [
    "from sklearn.model_selection import train_test_split\n",
    "from sklearn.linear_model import LinearRegression, Ridge\n",
    "from sklearn.metrics import mean_squared_error, mean_absolute_error, r2_score\n",
    "from sklearn.neural_network import MLPRegressor\n",
    "from sklearn.preprocessing import StandardScaler\n",
    "from sklearn.ensemble import GradientBoostingRegressor\n"
   ],
   "metadata": {
    "collapsed": false
   }
  },
  {
   "cell_type": "code",
   "execution_count": 3,
   "outputs": [
    {
     "data": {
      "text/plain": "   Unnamed: 0  article_id                                              title  \\\n0           0     7014291                 It's Time for a YouTube Competitor   \n1           1     7014327  The Ultimate Roundup of 2014's Biggest April F...   \n2           2     7014304  A Selfie and One Garish Jacket: How the Red So...   \n3           3     7031995    African Telecom Proposes More Diverse Emoticons   \n4           4     6541359  Google to Launch Improved Android Camera App, ...   \n\n                                                text  unique_tokens_rate  \\\n0  It was reported last week that Yahoo is gettin...            0.640816   \n1  April Fools' marks the day when pranking goes ...            0.549618   \n2  The 2013 World Series champion Boston Red Sox ...            0.577236   \n3  Less than a week after Apple pledged to make i...            0.525896   \n4  Android users may soon see a series of new fea...            0.588889   \n\n   num_hrefs  num_imgs  num_videos  average_token_length  num_keywords  ...  \\\n0        5.0       3.0         1.0              4.579592             5  ...   \n1        4.0       1.0         0.0              4.636704             7  ...   \n2        8.0       1.0         0.0              4.627451             7  ...   \n3        4.0       1.0         0.0              5.083665             9  ...   \n4        6.0       9.0         0.0              4.336022             7  ...   \n\n   zugara  zuker  zumba  zunzuneo  zusi  zwcrybfe  zwnrtry  zynga  zywbootuh  \\\n0     0.0    0.0    0.0       0.0   0.0       0.0      0.0    0.0        0.0   \n1     0.0    0.0    0.0       0.0   0.0       0.0      0.0    0.0        0.0   \n2     0.0    0.0    0.0       0.0   0.0       0.0      0.0    0.0        0.0   \n3     0.0    0.0    0.0       0.0   0.0       0.0      0.0    0.0        0.0   \n4     0.0    0.0    0.0       0.0   0.0       0.0      0.0    0.0        0.0   \n\n    zz  \n0  0.0  \n1  0.0  \n2  0.0  \n3  0.0  \n4  0.0  \n\n[5 rows x 23353 columns]",
      "text/html": "<div>\n<style scoped>\n    .dataframe tbody tr th:only-of-type {\n        vertical-align: middle;\n    }\n\n    .dataframe tbody tr th {\n        vertical-align: top;\n    }\n\n    .dataframe thead th {\n        text-align: right;\n    }\n</style>\n<table border=\"1\" class=\"dataframe\">\n  <thead>\n    <tr style=\"text-align: right;\">\n      <th></th>\n      <th>Unnamed: 0</th>\n      <th>article_id</th>\n      <th>title</th>\n      <th>text</th>\n      <th>unique_tokens_rate</th>\n      <th>num_hrefs</th>\n      <th>num_imgs</th>\n      <th>num_videos</th>\n      <th>average_token_length</th>\n      <th>num_keywords</th>\n      <th>...</th>\n      <th>zugara</th>\n      <th>zuker</th>\n      <th>zumba</th>\n      <th>zunzuneo</th>\n      <th>zusi</th>\n      <th>zwcrybfe</th>\n      <th>zwnrtry</th>\n      <th>zynga</th>\n      <th>zywbootuh</th>\n      <th>zz</th>\n    </tr>\n  </thead>\n  <tbody>\n    <tr>\n      <th>0</th>\n      <td>0</td>\n      <td>7014291</td>\n      <td>It's Time for a YouTube Competitor</td>\n      <td>It was reported last week that Yahoo is gettin...</td>\n      <td>0.640816</td>\n      <td>5.0</td>\n      <td>3.0</td>\n      <td>1.0</td>\n      <td>4.579592</td>\n      <td>5</td>\n      <td>...</td>\n      <td>0.0</td>\n      <td>0.0</td>\n      <td>0.0</td>\n      <td>0.0</td>\n      <td>0.0</td>\n      <td>0.0</td>\n      <td>0.0</td>\n      <td>0.0</td>\n      <td>0.0</td>\n      <td>0.0</td>\n    </tr>\n    <tr>\n      <th>1</th>\n      <td>1</td>\n      <td>7014327</td>\n      <td>The Ultimate Roundup of 2014's Biggest April F...</td>\n      <td>April Fools' marks the day when pranking goes ...</td>\n      <td>0.549618</td>\n      <td>4.0</td>\n      <td>1.0</td>\n      <td>0.0</td>\n      <td>4.636704</td>\n      <td>7</td>\n      <td>...</td>\n      <td>0.0</td>\n      <td>0.0</td>\n      <td>0.0</td>\n      <td>0.0</td>\n      <td>0.0</td>\n      <td>0.0</td>\n      <td>0.0</td>\n      <td>0.0</td>\n      <td>0.0</td>\n      <td>0.0</td>\n    </tr>\n    <tr>\n      <th>2</th>\n      <td>2</td>\n      <td>7014304</td>\n      <td>A Selfie and One Garish Jacket: How the Red So...</td>\n      <td>The 2013 World Series champion Boston Red Sox ...</td>\n      <td>0.577236</td>\n      <td>8.0</td>\n      <td>1.0</td>\n      <td>0.0</td>\n      <td>4.627451</td>\n      <td>7</td>\n      <td>...</td>\n      <td>0.0</td>\n      <td>0.0</td>\n      <td>0.0</td>\n      <td>0.0</td>\n      <td>0.0</td>\n      <td>0.0</td>\n      <td>0.0</td>\n      <td>0.0</td>\n      <td>0.0</td>\n      <td>0.0</td>\n    </tr>\n    <tr>\n      <th>3</th>\n      <td>3</td>\n      <td>7031995</td>\n      <td>African Telecom Proposes More Diverse Emoticons</td>\n      <td>Less than a week after Apple pledged to make i...</td>\n      <td>0.525896</td>\n      <td>4.0</td>\n      <td>1.0</td>\n      <td>0.0</td>\n      <td>5.083665</td>\n      <td>9</td>\n      <td>...</td>\n      <td>0.0</td>\n      <td>0.0</td>\n      <td>0.0</td>\n      <td>0.0</td>\n      <td>0.0</td>\n      <td>0.0</td>\n      <td>0.0</td>\n      <td>0.0</td>\n      <td>0.0</td>\n      <td>0.0</td>\n    </tr>\n    <tr>\n      <th>4</th>\n      <td>4</td>\n      <td>6541359</td>\n      <td>Google to Launch Improved Android Camera App, ...</td>\n      <td>Android users may soon see a series of new fea...</td>\n      <td>0.588889</td>\n      <td>6.0</td>\n      <td>9.0</td>\n      <td>0.0</td>\n      <td>4.336022</td>\n      <td>7</td>\n      <td>...</td>\n      <td>0.0</td>\n      <td>0.0</td>\n      <td>0.0</td>\n      <td>0.0</td>\n      <td>0.0</td>\n      <td>0.0</td>\n      <td>0.0</td>\n      <td>0.0</td>\n      <td>0.0</td>\n      <td>0.0</td>\n    </tr>\n  </tbody>\n</table>\n<p>5 rows × 23353 columns</p>\n</div>"
     },
     "execution_count": 3,
     "metadata": {},
     "output_type": "execute_result"
    }
   ],
   "source": [
    "data = pd.read_csv('../Data/preprocessedtf.csv')\n",
    "data.head()"
   ],
   "metadata": {
    "collapsed": false
   }
  },
  {
   "cell_type": "code",
   "execution_count": 4,
   "outputs": [],
   "source": [
    "data.drop('Unnamed: 0', axis=1, inplace=True)"
   ],
   "metadata": {
    "collapsed": false
   }
  },
  {
   "cell_type": "code",
   "execution_count": 5,
   "outputs": [
    {
     "data": {
      "text/plain": "   article_id                                              title  \\\n0     7014291                 It's Time for a YouTube Competitor   \n1     7014327  The Ultimate Roundup of 2014's Biggest April F...   \n2     7014304  A Selfie and One Garish Jacket: How the Red So...   \n3     7031995    African Telecom Proposes More Diverse Emoticons   \n4     6541359  Google to Launch Improved Android Camera App, ...   \n\n                                                text  unique_tokens_rate  \\\n0  It was reported last week that Yahoo is gettin...            0.640816   \n1  April Fools' marks the day when pranking goes ...            0.549618   \n2  The 2013 World Series champion Boston Red Sox ...            0.577236   \n3  Less than a week after Apple pledged to make i...            0.525896   \n4  Android users may soon see a series of new fea...            0.588889   \n\n   num_hrefs  num_imgs  num_videos  average_token_length  num_keywords  \\\n0        5.0       3.0         1.0              4.579592             5   \n1        4.0       1.0         0.0              4.636704             7   \n2        8.0       1.0         0.0              4.627451             7   \n3        4.0       1.0         0.0              5.083665             9   \n4        6.0       9.0         0.0              4.336022             7   \n\n   min_avg_key  ...  zugara  zuker  zumba  zunzuneo  zusi  zwcrybfe  zwnrtry  \\\n0     1459.500  ...     0.0    0.0    0.0       0.0   0.0       0.0      0.0   \n1        0.000  ...     0.0    0.0    0.0       0.0   0.0       0.0      0.0   \n2     2270.889  ...     0.0    0.0    0.0       0.0   0.0       0.0      0.0   \n3        0.000  ...     0.0    0.0    0.0       0.0   0.0       0.0      0.0   \n4     3264.605  ...     0.0    0.0    0.0       0.0   0.0       0.0      0.0   \n\n   zynga  zywbootuh   zz  \n0    0.0        0.0  0.0  \n1    0.0        0.0  0.0  \n2    0.0        0.0  0.0  \n3    0.0        0.0  0.0  \n4    0.0        0.0  0.0  \n\n[5 rows x 23352 columns]",
      "text/html": "<div>\n<style scoped>\n    .dataframe tbody tr th:only-of-type {\n        vertical-align: middle;\n    }\n\n    .dataframe tbody tr th {\n        vertical-align: top;\n    }\n\n    .dataframe thead th {\n        text-align: right;\n    }\n</style>\n<table border=\"1\" class=\"dataframe\">\n  <thead>\n    <tr style=\"text-align: right;\">\n      <th></th>\n      <th>article_id</th>\n      <th>title</th>\n      <th>text</th>\n      <th>unique_tokens_rate</th>\n      <th>num_hrefs</th>\n      <th>num_imgs</th>\n      <th>num_videos</th>\n      <th>average_token_length</th>\n      <th>num_keywords</th>\n      <th>min_avg_key</th>\n      <th>...</th>\n      <th>zugara</th>\n      <th>zuker</th>\n      <th>zumba</th>\n      <th>zunzuneo</th>\n      <th>zusi</th>\n      <th>zwcrybfe</th>\n      <th>zwnrtry</th>\n      <th>zynga</th>\n      <th>zywbootuh</th>\n      <th>zz</th>\n    </tr>\n  </thead>\n  <tbody>\n    <tr>\n      <th>0</th>\n      <td>7014291</td>\n      <td>It's Time for a YouTube Competitor</td>\n      <td>It was reported last week that Yahoo is gettin...</td>\n      <td>0.640816</td>\n      <td>5.0</td>\n      <td>3.0</td>\n      <td>1.0</td>\n      <td>4.579592</td>\n      <td>5</td>\n      <td>1459.500</td>\n      <td>...</td>\n      <td>0.0</td>\n      <td>0.0</td>\n      <td>0.0</td>\n      <td>0.0</td>\n      <td>0.0</td>\n      <td>0.0</td>\n      <td>0.0</td>\n      <td>0.0</td>\n      <td>0.0</td>\n      <td>0.0</td>\n    </tr>\n    <tr>\n      <th>1</th>\n      <td>7014327</td>\n      <td>The Ultimate Roundup of 2014's Biggest April F...</td>\n      <td>April Fools' marks the day when pranking goes ...</td>\n      <td>0.549618</td>\n      <td>4.0</td>\n      <td>1.0</td>\n      <td>0.0</td>\n      <td>4.636704</td>\n      <td>7</td>\n      <td>0.000</td>\n      <td>...</td>\n      <td>0.0</td>\n      <td>0.0</td>\n      <td>0.0</td>\n      <td>0.0</td>\n      <td>0.0</td>\n      <td>0.0</td>\n      <td>0.0</td>\n      <td>0.0</td>\n      <td>0.0</td>\n      <td>0.0</td>\n    </tr>\n    <tr>\n      <th>2</th>\n      <td>7014304</td>\n      <td>A Selfie and One Garish Jacket: How the Red So...</td>\n      <td>The 2013 World Series champion Boston Red Sox ...</td>\n      <td>0.577236</td>\n      <td>8.0</td>\n      <td>1.0</td>\n      <td>0.0</td>\n      <td>4.627451</td>\n      <td>7</td>\n      <td>2270.889</td>\n      <td>...</td>\n      <td>0.0</td>\n      <td>0.0</td>\n      <td>0.0</td>\n      <td>0.0</td>\n      <td>0.0</td>\n      <td>0.0</td>\n      <td>0.0</td>\n      <td>0.0</td>\n      <td>0.0</td>\n      <td>0.0</td>\n    </tr>\n    <tr>\n      <th>3</th>\n      <td>7031995</td>\n      <td>African Telecom Proposes More Diverse Emoticons</td>\n      <td>Less than a week after Apple pledged to make i...</td>\n      <td>0.525896</td>\n      <td>4.0</td>\n      <td>1.0</td>\n      <td>0.0</td>\n      <td>5.083665</td>\n      <td>9</td>\n      <td>0.000</td>\n      <td>...</td>\n      <td>0.0</td>\n      <td>0.0</td>\n      <td>0.0</td>\n      <td>0.0</td>\n      <td>0.0</td>\n      <td>0.0</td>\n      <td>0.0</td>\n      <td>0.0</td>\n      <td>0.0</td>\n      <td>0.0</td>\n    </tr>\n    <tr>\n      <th>4</th>\n      <td>6541359</td>\n      <td>Google to Launch Improved Android Camera App, ...</td>\n      <td>Android users may soon see a series of new fea...</td>\n      <td>0.588889</td>\n      <td>6.0</td>\n      <td>9.0</td>\n      <td>0.0</td>\n      <td>4.336022</td>\n      <td>7</td>\n      <td>3264.605</td>\n      <td>...</td>\n      <td>0.0</td>\n      <td>0.0</td>\n      <td>0.0</td>\n      <td>0.0</td>\n      <td>0.0</td>\n      <td>0.0</td>\n      <td>0.0</td>\n      <td>0.0</td>\n      <td>0.0</td>\n      <td>0.0</td>\n    </tr>\n  </tbody>\n</table>\n<p>5 rows × 23352 columns</p>\n</div>"
     },
     "execution_count": 5,
     "metadata": {},
     "output_type": "execute_result"
    }
   ],
   "source": [
    "data.head()"
   ],
   "metadata": {
    "collapsed": false
   }
  },
  {
   "cell_type": "code",
   "execution_count": 6,
   "outputs": [
    {
     "data": {
      "text/plain": "   unique_tokens_rate  num_hrefs  num_imgs  num_videos  average_token_length  \\\n0            0.640816        5.0       3.0         1.0              4.579592   \n1            0.549618        4.0       1.0         0.0              4.636704   \n2            0.577236        8.0       1.0         0.0              4.627451   \n3            0.525896        4.0       1.0         0.0              5.083665   \n4            0.588889        6.0       9.0         0.0              4.336022   \n\n   num_keywords  min_avg_key  max_avg_key  avg_avg_key  href_avg_shares  ...  \\\n0             5     1459.500     4817.692     3370.415         1833.333  ...   \n1             7        0.000     3581.094     2556.367         8500.000  ...   \n2             7     2270.889     3852.800     3018.167         2076.333  ...   \n3             9        0.000     3581.094     1871.403         2200.000  ...   \n4             7     3264.605     8453.451     5155.323          805.000  ...   \n\n   zugara  zuker  zumba  zunzuneo  zusi  zwcrybfe  zwnrtry  zynga  zywbootuh  \\\n0     0.0    0.0    0.0       0.0   0.0       0.0      0.0    0.0        0.0   \n1     0.0    0.0    0.0       0.0   0.0       0.0      0.0    0.0        0.0   \n2     0.0    0.0    0.0       0.0   0.0       0.0      0.0    0.0        0.0   \n3     0.0    0.0    0.0       0.0   0.0       0.0      0.0    0.0        0.0   \n4     0.0    0.0    0.0       0.0   0.0       0.0      0.0    0.0        0.0   \n\n    zz  \n0  0.0  \n1  0.0  \n2  0.0  \n3  0.0  \n4  0.0  \n\n[5 rows x 23346 columns]",
      "text/html": "<div>\n<style scoped>\n    .dataframe tbody tr th:only-of-type {\n        vertical-align: middle;\n    }\n\n    .dataframe tbody tr th {\n        vertical-align: top;\n    }\n\n    .dataframe thead th {\n        text-align: right;\n    }\n</style>\n<table border=\"1\" class=\"dataframe\">\n  <thead>\n    <tr style=\"text-align: right;\">\n      <th></th>\n      <th>unique_tokens_rate</th>\n      <th>num_hrefs</th>\n      <th>num_imgs</th>\n      <th>num_videos</th>\n      <th>average_token_length</th>\n      <th>num_keywords</th>\n      <th>min_avg_key</th>\n      <th>max_avg_key</th>\n      <th>avg_avg_key</th>\n      <th>href_avg_shares</th>\n      <th>...</th>\n      <th>zugara</th>\n      <th>zuker</th>\n      <th>zumba</th>\n      <th>zunzuneo</th>\n      <th>zusi</th>\n      <th>zwcrybfe</th>\n      <th>zwnrtry</th>\n      <th>zynga</th>\n      <th>zywbootuh</th>\n      <th>zz</th>\n    </tr>\n  </thead>\n  <tbody>\n    <tr>\n      <th>0</th>\n      <td>0.640816</td>\n      <td>5.0</td>\n      <td>3.0</td>\n      <td>1.0</td>\n      <td>4.579592</td>\n      <td>5</td>\n      <td>1459.500</td>\n      <td>4817.692</td>\n      <td>3370.415</td>\n      <td>1833.333</td>\n      <td>...</td>\n      <td>0.0</td>\n      <td>0.0</td>\n      <td>0.0</td>\n      <td>0.0</td>\n      <td>0.0</td>\n      <td>0.0</td>\n      <td>0.0</td>\n      <td>0.0</td>\n      <td>0.0</td>\n      <td>0.0</td>\n    </tr>\n    <tr>\n      <th>1</th>\n      <td>0.549618</td>\n      <td>4.0</td>\n      <td>1.0</td>\n      <td>0.0</td>\n      <td>4.636704</td>\n      <td>7</td>\n      <td>0.000</td>\n      <td>3581.094</td>\n      <td>2556.367</td>\n      <td>8500.000</td>\n      <td>...</td>\n      <td>0.0</td>\n      <td>0.0</td>\n      <td>0.0</td>\n      <td>0.0</td>\n      <td>0.0</td>\n      <td>0.0</td>\n      <td>0.0</td>\n      <td>0.0</td>\n      <td>0.0</td>\n      <td>0.0</td>\n    </tr>\n    <tr>\n      <th>2</th>\n      <td>0.577236</td>\n      <td>8.0</td>\n      <td>1.0</td>\n      <td>0.0</td>\n      <td>4.627451</td>\n      <td>7</td>\n      <td>2270.889</td>\n      <td>3852.800</td>\n      <td>3018.167</td>\n      <td>2076.333</td>\n      <td>...</td>\n      <td>0.0</td>\n      <td>0.0</td>\n      <td>0.0</td>\n      <td>0.0</td>\n      <td>0.0</td>\n      <td>0.0</td>\n      <td>0.0</td>\n      <td>0.0</td>\n      <td>0.0</td>\n      <td>0.0</td>\n    </tr>\n    <tr>\n      <th>3</th>\n      <td>0.525896</td>\n      <td>4.0</td>\n      <td>1.0</td>\n      <td>0.0</td>\n      <td>5.083665</td>\n      <td>9</td>\n      <td>0.000</td>\n      <td>3581.094</td>\n      <td>1871.403</td>\n      <td>2200.000</td>\n      <td>...</td>\n      <td>0.0</td>\n      <td>0.0</td>\n      <td>0.0</td>\n      <td>0.0</td>\n      <td>0.0</td>\n      <td>0.0</td>\n      <td>0.0</td>\n      <td>0.0</td>\n      <td>0.0</td>\n      <td>0.0</td>\n    </tr>\n    <tr>\n      <th>4</th>\n      <td>0.588889</td>\n      <td>6.0</td>\n      <td>9.0</td>\n      <td>0.0</td>\n      <td>4.336022</td>\n      <td>7</td>\n      <td>3264.605</td>\n      <td>8453.451</td>\n      <td>5155.323</td>\n      <td>805.000</td>\n      <td>...</td>\n      <td>0.0</td>\n      <td>0.0</td>\n      <td>0.0</td>\n      <td>0.0</td>\n      <td>0.0</td>\n      <td>0.0</td>\n      <td>0.0</td>\n      <td>0.0</td>\n      <td>0.0</td>\n      <td>0.0</td>\n    </tr>\n  </tbody>\n</table>\n<p>5 rows × 23346 columns</p>\n</div>"
     },
     "execution_count": 6,
     "metadata": {},
     "output_type": "execute_result"
    }
   ],
   "source": [
    "# extracting numeric data into dataframe df\n",
    "df = data.drop(['article_id', 'title', 'text', 'data_channel_cleaned', 'text_prepared', 'published_date_cleaned'], axis=1)\n",
    "df.head()"
   ],
   "metadata": {
    "collapsed": false
   }
  },
  {
   "cell_type": "code",
   "execution_count": 7,
   "outputs": [
    {
     "data": {
      "text/plain": "(1003, 23346)"
     },
     "execution_count": 7,
     "metadata": {},
     "output_type": "execute_result"
    }
   ],
   "source": [
    "df.shape"
   ],
   "metadata": {
    "collapsed": false
   }
  },
  {
   "cell_type": "code",
   "execution_count": 65,
   "outputs": [],
   "source": [
    "# splitting dataset into predictor and target variables\n",
    "X = df.drop('shares',axis=1)\n",
    "y = df[['shares']]"
   ],
   "metadata": {
    "collapsed": false
   }
  },
  {
   "cell_type": "code",
   "execution_count": 66,
   "outputs": [
    {
     "name": "stdout",
     "output_type": "stream",
     "text": [
      "((802, 23345), (201, 23345)) ((802, 1), (201, 1))\n"
     ]
    }
   ],
   "source": [
    "x_train, x_test, y_train, y_test = train_test_split(X,y,test_size=0.2,random_state=42)\n",
    "print((x_train.shape, x_test.shape), (y_train.shape,y_test.shape))"
   ],
   "metadata": {
    "collapsed": false
   }
  },
  {
   "cell_type": "code",
   "execution_count": 52,
   "outputs": [],
   "source": [
    "#scaler = StandardScaler()"
   ],
   "metadata": {
    "collapsed": false
   }
  },
  {
   "cell_type": "code",
   "execution_count": 53,
   "outputs": [],
   "source": [
    "#x_train = scaler.fit_transform(x_train)"
   ],
   "metadata": {
    "collapsed": false
   }
  },
  {
   "cell_type": "code",
   "execution_count": 64,
   "outputs": [
    {
     "data": {
      "text/plain": "array([[ 1.07789591, -0.00784462, -0.59958131, ..., -0.03533326,\n        -0.03533326, -0.03533326],\n       [-0.31869803,  2.88619426, -0.59958131, ..., -0.03533326,\n        -0.03533326, -0.03533326],\n       [ 1.50333135, -0.63698351, -0.42642171, ..., -0.03533326,\n        -0.03533326, -0.03533326],\n       ...,\n       [-0.45344529,  0.36963871, -0.59958131, ..., -0.03533326,\n        -0.03533326, -0.03533326],\n       [ 0.04649706, -0.76281129, -0.77274092, ..., -0.03533326,\n        -0.03533326, -0.03533326],\n       [ 1.23317868, -0.76281129, -0.59958131, ..., -0.03533326,\n        -0.03533326, -0.03533326]])"
     },
     "execution_count": 64,
     "metadata": {},
     "output_type": "execute_result"
    }
   ],
   "source": [
    "#x_train"
   ],
   "metadata": {
    "collapsed": false
   }
  },
  {
   "cell_type": "code",
   "execution_count": 55,
   "outputs": [],
   "source": [
    "#x_test = scaler.transform(x_test)"
   ],
   "metadata": {
    "collapsed": false
   }
  },
  {
   "cell_type": "markdown",
   "source": [
    "<h1>Models</h1>"
   ],
   "metadata": {
    "collapsed": false
   }
  },
  {
   "cell_type": "code",
   "execution_count": 67,
   "outputs": [
    {
     "data": {
      "text/plain": "LinearRegression()"
     },
     "execution_count": 67,
     "metadata": {},
     "output_type": "execute_result"
    }
   ],
   "source": [
    "# Fitting the Linear Regression model\n",
    "lm = LinearRegression()\n",
    "lm.fit(x_train, y_train)"
   ],
   "metadata": {
    "collapsed": false
   }
  },
  {
   "cell_type": "code",
   "execution_count": 68,
   "outputs": [
    {
     "data": {
      "text/plain": "-0.06042723307182385"
     },
     "execution_count": 68,
     "metadata": {},
     "output_type": "execute_result"
    }
   ],
   "source": [
    "lm.score(x_test, y_test)"
   ],
   "metadata": {
    "collapsed": false
   }
  },
  {
   "cell_type": "code",
   "execution_count": 69,
   "outputs": [
    {
     "name": "stdout",
     "output_type": "stream",
     "text": [
      "Test R2 score: -0.06042723307182385\n",
      "Test MAE: 2268.4772897694074\n",
      "Test RMSE: 3212.718230686025\n"
     ]
    }
   ],
   "source": [
    "y_hat = lm.predict(x_test)\n",
    "\n",
    "print(\"Test R2 score: \"+ str(r2_score(y_test,y_hat)))\n",
    "print(\"Test MAE: \"+ str(mean_absolute_error(y_test,y_hat)))\n",
    "print(\"Test RMSE: \"+ str(np.sqrt(mean_squared_error(y_test,y_hat))))"
   ],
   "metadata": {
    "collapsed": false
   }
  },
  {
   "cell_type": "code",
   "execution_count": 70,
   "outputs": [
    {
     "data": {
      "text/plain": "Ridge()"
     },
     "execution_count": 70,
     "metadata": {},
     "output_type": "execute_result"
    }
   ],
   "source": [
    "rm = Ridge()\n",
    "rm.fit(x_train, y_train)"
   ],
   "metadata": {
    "collapsed": false
   }
  },
  {
   "cell_type": "code",
   "execution_count": 71,
   "outputs": [
    {
     "data": {
      "text/plain": "0.05053032070695174"
     },
     "execution_count": 71,
     "metadata": {},
     "output_type": "execute_result"
    }
   ],
   "source": [
    "rm.score(x_test, y_test)"
   ],
   "metadata": {
    "collapsed": false
   }
  },
  {
   "cell_type": "code",
   "execution_count": 72,
   "outputs": [
    {
     "name": "stdout",
     "output_type": "stream",
     "text": [
      "Test R2 score: 0.05053032070695174\n",
      "Test MAE: 2086.35055102036\n",
      "Test RMSE: 3039.994176710498\n"
     ]
    }
   ],
   "source": [
    "y_hat = rm.predict(x_test)\n",
    "\n",
    "print(\"Test R2 score: \"+ str(r2_score(y_test,y_hat)))\n",
    "print(\"Test MAE: \"+ str(mean_absolute_error(y_test,y_hat)))\n",
    "print(\"Test RMSE: \"+ str(np.sqrt(mean_squared_error(y_test,y_hat))))"
   ],
   "metadata": {
    "collapsed": false
   }
  },
  {
   "cell_type": "code",
   "execution_count": 73,
   "outputs": [],
   "source": [
    "mlp = MLPRegressor(random_state=42)"
   ],
   "metadata": {
    "collapsed": false
   }
  },
  {
   "cell_type": "code",
   "execution_count": 74,
   "outputs": [
    {
     "name": "stderr",
     "output_type": "stream",
     "text": [
      "C:\\Users\\ituser\\anaconda3\\lib\\site-packages\\sklearn\\neural_network\\_multilayer_perceptron.py:1599: DataConversionWarning: A column-vector y was passed when a 1d array was expected. Please change the shape of y to (n_samples, ), for example using ravel().\n",
      "  y = column_or_1d(y, warn=True)\n"
     ]
    },
    {
     "data": {
      "text/plain": "MLPRegressor(random_state=42)"
     },
     "execution_count": 74,
     "metadata": {},
     "output_type": "execute_result"
    }
   ],
   "source": [
    "mlp.fit(x_train, y_train)"
   ],
   "metadata": {
    "collapsed": false
   }
  },
  {
   "cell_type": "code",
   "execution_count": 75,
   "outputs": [],
   "source": [
    "y_hat = mlp.predict(x_test)"
   ],
   "metadata": {
    "collapsed": false
   }
  },
  {
   "cell_type": "code",
   "execution_count": 76,
   "outputs": [
    {
     "data": {
      "text/plain": "0.02332059726481639"
     },
     "execution_count": 76,
     "metadata": {},
     "output_type": "execute_result"
    }
   ],
   "source": [
    "mlp.score(x_test, y_test)"
   ],
   "metadata": {
    "collapsed": false
   }
  },
  {
   "cell_type": "code",
   "execution_count": 77,
   "outputs": [
    {
     "name": "stdout",
     "output_type": "stream",
     "text": [
      "Test R2 score: 0.02332059726481639\n",
      "Test MAE: 2061.296974144147\n",
      "Test RMSE: 3083.2462785079647\n"
     ]
    }
   ],
   "source": [
    "y_hat = mlp.predict(x_test)\n",
    "\n",
    "print(\"Test R2 score: \"+ str(r2_score(y_test,y_hat)))\n",
    "print(\"Test MAE: \"+ str(mean_absolute_error(y_test,y_hat)))\n",
    "print(\"Test RMSE: \"+ str(np.sqrt(mean_squared_error(y_test,y_hat))))"
   ],
   "metadata": {
    "collapsed": false
   }
  },
  {
   "cell_type": "code",
   "execution_count": 78,
   "outputs": [],
   "source": [
    "gbr = GradientBoostingRegressor(random_state=42)"
   ],
   "metadata": {
    "collapsed": false
   }
  },
  {
   "cell_type": "code",
   "execution_count": 79,
   "outputs": [
    {
     "name": "stderr",
     "output_type": "stream",
     "text": [
      "C:\\Users\\ituser\\anaconda3\\lib\\site-packages\\sklearn\\ensemble\\_gb.py:494: DataConversionWarning: A column-vector y was passed when a 1d array was expected. Please change the shape of y to (n_samples, ), for example using ravel().\n",
      "  y = column_or_1d(y, warn=True)\n"
     ]
    },
    {
     "data": {
      "text/plain": "GradientBoostingRegressor(random_state=42)"
     },
     "execution_count": 79,
     "metadata": {},
     "output_type": "execute_result"
    }
   ],
   "source": [
    "gbr.fit(x_train, y_train)"
   ],
   "metadata": {
    "collapsed": false
   }
  },
  {
   "cell_type": "code",
   "execution_count": 80,
   "outputs": [],
   "source": [
    "y_hat = gbr.predict(x_test)"
   ],
   "metadata": {
    "collapsed": false
   }
  },
  {
   "cell_type": "code",
   "execution_count": 81,
   "outputs": [
    {
     "data": {
      "text/plain": "-0.016440084198509508"
     },
     "execution_count": 81,
     "metadata": {},
     "output_type": "execute_result"
    }
   ],
   "source": [
    "gbr.score(x_test, y_test)"
   ],
   "metadata": {
    "collapsed": false
   }
  },
  {
   "cell_type": "code",
   "execution_count": 82,
   "outputs": [
    {
     "name": "stdout",
     "output_type": "stream",
     "text": [
      "Test R2 score: -0.016440084198509508\n",
      "Test MAE: 2063.305547301799\n",
      "Test RMSE: 3145.379799147638\n"
     ]
    }
   ],
   "source": [
    "y_hat = gbr.predict(x_test)\n",
    "\n",
    "print(\"Test R2 score: \"+ str(r2_score(y_test,y_hat)))\n",
    "print(\"Test MAE: \"+ str(mean_absolute_error(y_test,y_hat)))\n",
    "print(\"Test RMSE: \"+ str(np.sqrt(mean_squared_error(y_test,y_hat))))"
   ],
   "metadata": {
    "collapsed": false
   }
  },
  {
   "cell_type": "markdown",
   "source": [
    "Ridge Regression score seems to be the best one."
   ],
   "metadata": {
    "collapsed": false
   }
  },
  {
   "cell_type": "code",
   "execution_count": 78,
   "outputs": [],
   "source": [],
   "metadata": {
    "collapsed": false
   }
  }
 ],
 "metadata": {
  "kernelspec": {
   "display_name": "Python 3",
   "language": "python",
   "name": "python3"
  },
  "language_info": {
   "codemirror_mode": {
    "name": "ipython",
    "version": 2
   },
   "file_extension": ".py",
   "mimetype": "text/x-python",
   "name": "python",
   "nbconvert_exporter": "python",
   "pygments_lexer": "ipython2",
   "version": "2.7.6"
  }
 },
 "nbformat": 4,
 "nbformat_minor": 0
}
