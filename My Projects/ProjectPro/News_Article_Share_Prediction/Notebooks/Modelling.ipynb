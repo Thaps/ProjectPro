{
 "cells": [
  {
   "cell_type": "markdown",
   "source": [
    "<h1>Modelling</h1>"
   ],
   "metadata": {
    "collapsed": false
   }
  },
  {
   "cell_type": "code",
   "execution_count": 1,
   "outputs": [],
   "source": [
    "# Importing the necessary libraries\n",
    "import pandas as pd\n",
    "import numpy as np\n",
    "import matplotlib.pyplot as plt"
   ],
   "metadata": {
    "collapsed": false
   }
  },
  {
   "cell_type": "code",
   "execution_count": 2,
   "outputs": [],
   "source": [
    "from sklearn.model_selection import train_test_split\n",
    "from sklearn.linear_model import LinearRegression, Ridge\n",
    "from sklearn.metrics import mean_squared_error, mean_absolute_error, r2_score\n",
    "from sklearn.neural_network import MLPRegressor\n",
    "from sklearn.preprocessing import StandardScaler\n",
    "from sklearn.ensemble import GradientBoostingRegressor\n"
   ],
   "metadata": {
    "collapsed": false
   }
  },
  {
   "cell_type": "code",
   "execution_count": 3,
   "outputs": [],
   "source": [
    "def importData(location):\n",
    "    data = pd.read_csv(location)\n",
    "    return data"
   ],
   "metadata": {
    "collapsed": false
   }
  },
  {
   "cell_type": "code",
   "execution_count": 4,
   "outputs": [
    {
     "data": {
      "text/plain": "   Unnamed: 0  article_id                                              title  \\\n0           0     7014291                 It's Time for a YouTube Competitor   \n1           1     7014327  The Ultimate Roundup of 2014's Biggest April F...   \n2           2     7014304  A Selfie and One Garish Jacket: How the Red So...   \n3           3     7031995    African Telecom Proposes More Diverse Emoticons   \n4           4     6541359  Google to Launch Improved Android Camera App, ...   \n\n                                                text  unique_tokens_rate  \\\n0  It was reported last week that Yahoo is gettin...            0.640816   \n1  April Fools' marks the day when pranking goes ...            0.549618   \n2  The 2013 World Series champion Boston Red Sox ...            0.577236   \n3  Less than a week after Apple pledged to make i...            0.525896   \n4  Android users may soon see a series of new fea...            0.588889   \n\n   num_hrefs  num_imgs  num_videos  average_token_length  num_keywords  ...  \\\n0        5.0       3.0         1.0              4.579592             5  ...   \n1        4.0       1.0         0.0              4.636704             7  ...   \n2        8.0       1.0         0.0              4.627451             7  ...   \n3        4.0       1.0         0.0              5.083665             9  ...   \n4        6.0       9.0         0.0              4.336022             7  ...   \n\n   windows phone  windows update  windows xp  world cup  wp_scm_comment bonus  \\\n0              0               0           0          0                     0   \n1              0               0           0          0                     0   \n2              0               0           0          0                     0   \n3              0               0           0          0                     1   \n4              0               0           0          0                     0   \n\n   wrote blog  york city  york times  youtube channel  youtube videos  \n0           0          0           0                0               1  \n1           0          0           0                0               0  \n2           0          0           0                0               0  \n3           0          0           0                0               0  \n4           0          0           0                0               0  \n\n[5 rows x 231 columns]",
      "text/html": "<div>\n<style scoped>\n    .dataframe tbody tr th:only-of-type {\n        vertical-align: middle;\n    }\n\n    .dataframe tbody tr th {\n        vertical-align: top;\n    }\n\n    .dataframe thead th {\n        text-align: right;\n    }\n</style>\n<table border=\"1\" class=\"dataframe\">\n  <thead>\n    <tr style=\"text-align: right;\">\n      <th></th>\n      <th>Unnamed: 0</th>\n      <th>article_id</th>\n      <th>title</th>\n      <th>text</th>\n      <th>unique_tokens_rate</th>\n      <th>num_hrefs</th>\n      <th>num_imgs</th>\n      <th>num_videos</th>\n      <th>average_token_length</th>\n      <th>num_keywords</th>\n      <th>...</th>\n      <th>windows phone</th>\n      <th>windows update</th>\n      <th>windows xp</th>\n      <th>world cup</th>\n      <th>wp_scm_comment bonus</th>\n      <th>wrote blog</th>\n      <th>york city</th>\n      <th>york times</th>\n      <th>youtube channel</th>\n      <th>youtube videos</th>\n    </tr>\n  </thead>\n  <tbody>\n    <tr>\n      <th>0</th>\n      <td>0</td>\n      <td>7014291</td>\n      <td>It's Time for a YouTube Competitor</td>\n      <td>It was reported last week that Yahoo is gettin...</td>\n      <td>0.640816</td>\n      <td>5.0</td>\n      <td>3.0</td>\n      <td>1.0</td>\n      <td>4.579592</td>\n      <td>5</td>\n      <td>...</td>\n      <td>0</td>\n      <td>0</td>\n      <td>0</td>\n      <td>0</td>\n      <td>0</td>\n      <td>0</td>\n      <td>0</td>\n      <td>0</td>\n      <td>0</td>\n      <td>1</td>\n    </tr>\n    <tr>\n      <th>1</th>\n      <td>1</td>\n      <td>7014327</td>\n      <td>The Ultimate Roundup of 2014's Biggest April F...</td>\n      <td>April Fools' marks the day when pranking goes ...</td>\n      <td>0.549618</td>\n      <td>4.0</td>\n      <td>1.0</td>\n      <td>0.0</td>\n      <td>4.636704</td>\n      <td>7</td>\n      <td>...</td>\n      <td>0</td>\n      <td>0</td>\n      <td>0</td>\n      <td>0</td>\n      <td>0</td>\n      <td>0</td>\n      <td>0</td>\n      <td>0</td>\n      <td>0</td>\n      <td>0</td>\n    </tr>\n    <tr>\n      <th>2</th>\n      <td>2</td>\n      <td>7014304</td>\n      <td>A Selfie and One Garish Jacket: How the Red So...</td>\n      <td>The 2013 World Series champion Boston Red Sox ...</td>\n      <td>0.577236</td>\n      <td>8.0</td>\n      <td>1.0</td>\n      <td>0.0</td>\n      <td>4.627451</td>\n      <td>7</td>\n      <td>...</td>\n      <td>0</td>\n      <td>0</td>\n      <td>0</td>\n      <td>0</td>\n      <td>0</td>\n      <td>0</td>\n      <td>0</td>\n      <td>0</td>\n      <td>0</td>\n      <td>0</td>\n    </tr>\n    <tr>\n      <th>3</th>\n      <td>3</td>\n      <td>7031995</td>\n      <td>African Telecom Proposes More Diverse Emoticons</td>\n      <td>Less than a week after Apple pledged to make i...</td>\n      <td>0.525896</td>\n      <td>4.0</td>\n      <td>1.0</td>\n      <td>0.0</td>\n      <td>5.083665</td>\n      <td>9</td>\n      <td>...</td>\n      <td>0</td>\n      <td>0</td>\n      <td>0</td>\n      <td>0</td>\n      <td>1</td>\n      <td>0</td>\n      <td>0</td>\n      <td>0</td>\n      <td>0</td>\n      <td>0</td>\n    </tr>\n    <tr>\n      <th>4</th>\n      <td>4</td>\n      <td>6541359</td>\n      <td>Google to Launch Improved Android Camera App, ...</td>\n      <td>Android users may soon see a series of new fea...</td>\n      <td>0.588889</td>\n      <td>6.0</td>\n      <td>9.0</td>\n      <td>0.0</td>\n      <td>4.336022</td>\n      <td>7</td>\n      <td>...</td>\n      <td>0</td>\n      <td>0</td>\n      <td>0</td>\n      <td>0</td>\n      <td>0</td>\n      <td>0</td>\n      <td>0</td>\n      <td>0</td>\n      <td>0</td>\n      <td>0</td>\n    </tr>\n  </tbody>\n</table>\n<p>5 rows × 231 columns</p>\n</div>"
     },
     "execution_count": 4,
     "metadata": {},
     "output_type": "execute_result"
    }
   ],
   "source": [
    "cv_2_200 = importData('../Data/cv_2_200.csv')\n",
    "cv_2_200.head()"
   ],
   "metadata": {
    "collapsed": false
   }
  },
  {
   "cell_type": "code",
   "execution_count": 5,
   "outputs": [
    {
     "data": {
      "text/plain": "   Unnamed: 0  article_id                                              title  \\\n0           0     7014291                 It's Time for a YouTube Competitor   \n1           1     7014327  The Ultimate Roundup of 2014's Biggest April F...   \n2           2     7014304  A Selfie and One Garish Jacket: How the Red So...   \n3           3     7031995    African Telecom Proposes More Diverse Emoticons   \n4           4     6541359  Google to Launch Improved Android Camera App, ...   \n\n                                                text  unique_tokens_rate  \\\n0  It was reported last week that Yahoo is gettin...            0.640816   \n1  April Fools' marks the day when pranking goes ...            0.549618   \n2  The 2013 World Series champion Boston Red Sox ...            0.577236   \n3  Less than a week after Apple pledged to make i...            0.525896   \n4  Android users may soon see a series of new fea...            0.588889   \n\n   num_hrefs  num_imgs  num_videos  average_token_length  num_keywords  ...  \\\n0        5.0       3.0         1.0              4.579592             5  ...   \n1        4.0       1.0         0.0              4.636704             7  ...   \n2        8.0       1.0         0.0              4.627451             7  ...   \n3        4.0       1.0         0.0              5.083665             9  ...   \n4        6.0       9.0         0.0              4.336022             7  ...   \n\n   windows phone  windows update  windows xp  world cup  wp_scm_comment bonus  \\\n0            0.0             0.0         0.0        0.0              0.000000   \n1            0.0             0.0         0.0        0.0              0.000000   \n2            0.0             0.0         0.0        0.0              0.000000   \n3            0.0             0.0         0.0        0.0              0.415438   \n4            0.0             0.0         0.0        0.0              0.000000   \n\n   wrote blog  york city  york times  youtube channel  youtube videos  \n0         0.0        0.0         0.0              0.0        0.715661  \n1         0.0        0.0         0.0              0.0        0.000000  \n2         0.0        0.0         0.0              0.0        0.000000  \n3         0.0        0.0         0.0              0.0        0.000000  \n4         0.0        0.0         0.0              0.0        0.000000  \n\n[5 rows x 231 columns]",
      "text/html": "<div>\n<style scoped>\n    .dataframe tbody tr th:only-of-type {\n        vertical-align: middle;\n    }\n\n    .dataframe tbody tr th {\n        vertical-align: top;\n    }\n\n    .dataframe thead th {\n        text-align: right;\n    }\n</style>\n<table border=\"1\" class=\"dataframe\">\n  <thead>\n    <tr style=\"text-align: right;\">\n      <th></th>\n      <th>Unnamed: 0</th>\n      <th>article_id</th>\n      <th>title</th>\n      <th>text</th>\n      <th>unique_tokens_rate</th>\n      <th>num_hrefs</th>\n      <th>num_imgs</th>\n      <th>num_videos</th>\n      <th>average_token_length</th>\n      <th>num_keywords</th>\n      <th>...</th>\n      <th>windows phone</th>\n      <th>windows update</th>\n      <th>windows xp</th>\n      <th>world cup</th>\n      <th>wp_scm_comment bonus</th>\n      <th>wrote blog</th>\n      <th>york city</th>\n      <th>york times</th>\n      <th>youtube channel</th>\n      <th>youtube videos</th>\n    </tr>\n  </thead>\n  <tbody>\n    <tr>\n      <th>0</th>\n      <td>0</td>\n      <td>7014291</td>\n      <td>It's Time for a YouTube Competitor</td>\n      <td>It was reported last week that Yahoo is gettin...</td>\n      <td>0.640816</td>\n      <td>5.0</td>\n      <td>3.0</td>\n      <td>1.0</td>\n      <td>4.579592</td>\n      <td>5</td>\n      <td>...</td>\n      <td>0.0</td>\n      <td>0.0</td>\n      <td>0.0</td>\n      <td>0.0</td>\n      <td>0.000000</td>\n      <td>0.0</td>\n      <td>0.0</td>\n      <td>0.0</td>\n      <td>0.0</td>\n      <td>0.715661</td>\n    </tr>\n    <tr>\n      <th>1</th>\n      <td>1</td>\n      <td>7014327</td>\n      <td>The Ultimate Roundup of 2014's Biggest April F...</td>\n      <td>April Fools' marks the day when pranking goes ...</td>\n      <td>0.549618</td>\n      <td>4.0</td>\n      <td>1.0</td>\n      <td>0.0</td>\n      <td>4.636704</td>\n      <td>7</td>\n      <td>...</td>\n      <td>0.0</td>\n      <td>0.0</td>\n      <td>0.0</td>\n      <td>0.0</td>\n      <td>0.000000</td>\n      <td>0.0</td>\n      <td>0.0</td>\n      <td>0.0</td>\n      <td>0.0</td>\n      <td>0.000000</td>\n    </tr>\n    <tr>\n      <th>2</th>\n      <td>2</td>\n      <td>7014304</td>\n      <td>A Selfie and One Garish Jacket: How the Red So...</td>\n      <td>The 2013 World Series champion Boston Red Sox ...</td>\n      <td>0.577236</td>\n      <td>8.0</td>\n      <td>1.0</td>\n      <td>0.0</td>\n      <td>4.627451</td>\n      <td>7</td>\n      <td>...</td>\n      <td>0.0</td>\n      <td>0.0</td>\n      <td>0.0</td>\n      <td>0.0</td>\n      <td>0.000000</td>\n      <td>0.0</td>\n      <td>0.0</td>\n      <td>0.0</td>\n      <td>0.0</td>\n      <td>0.000000</td>\n    </tr>\n    <tr>\n      <th>3</th>\n      <td>3</td>\n      <td>7031995</td>\n      <td>African Telecom Proposes More Diverse Emoticons</td>\n      <td>Less than a week after Apple pledged to make i...</td>\n      <td>0.525896</td>\n      <td>4.0</td>\n      <td>1.0</td>\n      <td>0.0</td>\n      <td>5.083665</td>\n      <td>9</td>\n      <td>...</td>\n      <td>0.0</td>\n      <td>0.0</td>\n      <td>0.0</td>\n      <td>0.0</td>\n      <td>0.415438</td>\n      <td>0.0</td>\n      <td>0.0</td>\n      <td>0.0</td>\n      <td>0.0</td>\n      <td>0.000000</td>\n    </tr>\n    <tr>\n      <th>4</th>\n      <td>4</td>\n      <td>6541359</td>\n      <td>Google to Launch Improved Android Camera App, ...</td>\n      <td>Android users may soon see a series of new fea...</td>\n      <td>0.588889</td>\n      <td>6.0</td>\n      <td>9.0</td>\n      <td>0.0</td>\n      <td>4.336022</td>\n      <td>7</td>\n      <td>...</td>\n      <td>0.0</td>\n      <td>0.0</td>\n      <td>0.0</td>\n      <td>0.0</td>\n      <td>0.000000</td>\n      <td>0.0</td>\n      <td>0.0</td>\n      <td>0.0</td>\n      <td>0.0</td>\n      <td>0.000000</td>\n    </tr>\n  </tbody>\n</table>\n<p>5 rows × 231 columns</p>\n</div>"
     },
     "execution_count": 5,
     "metadata": {},
     "output_type": "execute_result"
    }
   ],
   "source": [
    "tfidf_2_200 = importData('../Data/tfidf_2_200.csv')\n",
    "tfidf_2_200.head()"
   ],
   "metadata": {
    "collapsed": false
   }
  },
  {
   "cell_type": "code",
   "execution_count": 6,
   "outputs": [],
   "source": [
    "# Function for deleting column Unnamed: 0 and also creating df which only has numeric fields\n",
    "def initialProcessing(data):\n",
    "    data.drop('Unnamed: 0', axis=1, inplace=True)\n",
    "    df = data.drop(['article_id', 'title', 'text', 'data_channel_cleaned', 'text_prepared', 'published_date_cleaned'], axis=1)\n",
    "    return df"
   ],
   "metadata": {
    "collapsed": false
   }
  },
  {
   "cell_type": "code",
   "execution_count": 7,
   "outputs": [
    {
     "data": {
      "text/plain": "      unique_tokens_rate  num_hrefs  num_imgs  num_videos  \\\n0               0.640816        5.0       3.0         1.0   \n1               0.549618        4.0       1.0         0.0   \n2               0.577236        8.0       1.0         0.0   \n3               0.525896        4.0       1.0         0.0   \n4               0.588889        6.0       9.0         0.0   \n...                  ...        ...       ...         ...   \n998             0.606557        6.0       2.0         0.0   \n999             0.491018        4.0       2.0         0.0   \n1000            0.634518        3.0       0.0         2.0   \n1001            0.447368        7.0       1.0         0.0   \n1002            0.480412        5.0       2.0         0.0   \n\n      average_token_length  num_keywords  min_avg_key  max_avg_key  \\\n0                 4.579592             5     1459.500     4817.692   \n1                 4.636704             7        0.000     3581.094   \n2                 4.627451             7     2270.889     3852.800   \n3                 5.083665             9        0.000     3581.094   \n4                 4.336022             7     3264.605     8453.451   \n...                    ...           ...          ...          ...   \n998               4.913978             4     3264.605     5709.823   \n999               4.674627             6        0.000     4352.491   \n1000              4.177665             9     2126.118     6060.771   \n1001              4.667961             8        0.000     4763.083   \n1002              4.429126             5     1404.841     3610.125   \n\n      avg_avg_key  href_avg_shares  ...  windows phone  windows update  \\\n0        3370.415         1833.333  ...              0               0   \n1        2556.367         8500.000  ...              0               0   \n2        3018.167         2076.333  ...              0               0   \n3        1871.403         2200.000  ...              0               0   \n4        5155.323          805.000  ...              0               0   \n...           ...              ...  ...            ...             ...   \n998      4020.608         1950.000  ...              0               0   \n999      2358.572         4200.000  ...              0               0   \n1000     3296.052         3400.000  ...              0               0   \n1001     2709.129            0.000  ...              0               0   \n1002     2717.930         1100.000  ...              0               0   \n\n      windows xp  world cup  wp_scm_comment bonus  wrote blog  york city  \\\n0              0          0                     0           0          0   \n1              0          0                     0           0          0   \n2              0          0                     0           0          0   \n3              0          0                     1           0          0   \n4              0          0                     0           0          0   \n...          ...        ...                   ...         ...        ...   \n998            0          0                     0           0          0   \n999            0          0                     0           0          0   \n1000           0          0                     0           0          0   \n1001           0          0                     0           0          0   \n1002           0          0                     0           0          1   \n\n      york times  youtube channel  youtube videos  \n0              0                0               1  \n1              0                0               0  \n2              0                0               0  \n3              0                0               0  \n4              0                0               0  \n...          ...              ...             ...  \n998            0                0               0  \n999            0                0               0  \n1000           0                0               0  \n1001           0                0               0  \n1002           0                0               0  \n\n[1003 rows x 224 columns]",
      "text/html": "<div>\n<style scoped>\n    .dataframe tbody tr th:only-of-type {\n        vertical-align: middle;\n    }\n\n    .dataframe tbody tr th {\n        vertical-align: top;\n    }\n\n    .dataframe thead th {\n        text-align: right;\n    }\n</style>\n<table border=\"1\" class=\"dataframe\">\n  <thead>\n    <tr style=\"text-align: right;\">\n      <th></th>\n      <th>unique_tokens_rate</th>\n      <th>num_hrefs</th>\n      <th>num_imgs</th>\n      <th>num_videos</th>\n      <th>average_token_length</th>\n      <th>num_keywords</th>\n      <th>min_avg_key</th>\n      <th>max_avg_key</th>\n      <th>avg_avg_key</th>\n      <th>href_avg_shares</th>\n      <th>...</th>\n      <th>windows phone</th>\n      <th>windows update</th>\n      <th>windows xp</th>\n      <th>world cup</th>\n      <th>wp_scm_comment bonus</th>\n      <th>wrote blog</th>\n      <th>york city</th>\n      <th>york times</th>\n      <th>youtube channel</th>\n      <th>youtube videos</th>\n    </tr>\n  </thead>\n  <tbody>\n    <tr>\n      <th>0</th>\n      <td>0.640816</td>\n      <td>5.0</td>\n      <td>3.0</td>\n      <td>1.0</td>\n      <td>4.579592</td>\n      <td>5</td>\n      <td>1459.500</td>\n      <td>4817.692</td>\n      <td>3370.415</td>\n      <td>1833.333</td>\n      <td>...</td>\n      <td>0</td>\n      <td>0</td>\n      <td>0</td>\n      <td>0</td>\n      <td>0</td>\n      <td>0</td>\n      <td>0</td>\n      <td>0</td>\n      <td>0</td>\n      <td>1</td>\n    </tr>\n    <tr>\n      <th>1</th>\n      <td>0.549618</td>\n      <td>4.0</td>\n      <td>1.0</td>\n      <td>0.0</td>\n      <td>4.636704</td>\n      <td>7</td>\n      <td>0.000</td>\n      <td>3581.094</td>\n      <td>2556.367</td>\n      <td>8500.000</td>\n      <td>...</td>\n      <td>0</td>\n      <td>0</td>\n      <td>0</td>\n      <td>0</td>\n      <td>0</td>\n      <td>0</td>\n      <td>0</td>\n      <td>0</td>\n      <td>0</td>\n      <td>0</td>\n    </tr>\n    <tr>\n      <th>2</th>\n      <td>0.577236</td>\n      <td>8.0</td>\n      <td>1.0</td>\n      <td>0.0</td>\n      <td>4.627451</td>\n      <td>7</td>\n      <td>2270.889</td>\n      <td>3852.800</td>\n      <td>3018.167</td>\n      <td>2076.333</td>\n      <td>...</td>\n      <td>0</td>\n      <td>0</td>\n      <td>0</td>\n      <td>0</td>\n      <td>0</td>\n      <td>0</td>\n      <td>0</td>\n      <td>0</td>\n      <td>0</td>\n      <td>0</td>\n    </tr>\n    <tr>\n      <th>3</th>\n      <td>0.525896</td>\n      <td>4.0</td>\n      <td>1.0</td>\n      <td>0.0</td>\n      <td>5.083665</td>\n      <td>9</td>\n      <td>0.000</td>\n      <td>3581.094</td>\n      <td>1871.403</td>\n      <td>2200.000</td>\n      <td>...</td>\n      <td>0</td>\n      <td>0</td>\n      <td>0</td>\n      <td>0</td>\n      <td>1</td>\n      <td>0</td>\n      <td>0</td>\n      <td>0</td>\n      <td>0</td>\n      <td>0</td>\n    </tr>\n    <tr>\n      <th>4</th>\n      <td>0.588889</td>\n      <td>6.0</td>\n      <td>9.0</td>\n      <td>0.0</td>\n      <td>4.336022</td>\n      <td>7</td>\n      <td>3264.605</td>\n      <td>8453.451</td>\n      <td>5155.323</td>\n      <td>805.000</td>\n      <td>...</td>\n      <td>0</td>\n      <td>0</td>\n      <td>0</td>\n      <td>0</td>\n      <td>0</td>\n      <td>0</td>\n      <td>0</td>\n      <td>0</td>\n      <td>0</td>\n      <td>0</td>\n    </tr>\n    <tr>\n      <th>...</th>\n      <td>...</td>\n      <td>...</td>\n      <td>...</td>\n      <td>...</td>\n      <td>...</td>\n      <td>...</td>\n      <td>...</td>\n      <td>...</td>\n      <td>...</td>\n      <td>...</td>\n      <td>...</td>\n      <td>...</td>\n      <td>...</td>\n      <td>...</td>\n      <td>...</td>\n      <td>...</td>\n      <td>...</td>\n      <td>...</td>\n      <td>...</td>\n      <td>...</td>\n      <td>...</td>\n    </tr>\n    <tr>\n      <th>998</th>\n      <td>0.606557</td>\n      <td>6.0</td>\n      <td>2.0</td>\n      <td>0.0</td>\n      <td>4.913978</td>\n      <td>4</td>\n      <td>3264.605</td>\n      <td>5709.823</td>\n      <td>4020.608</td>\n      <td>1950.000</td>\n      <td>...</td>\n      <td>0</td>\n      <td>0</td>\n      <td>0</td>\n      <td>0</td>\n      <td>0</td>\n      <td>0</td>\n      <td>0</td>\n      <td>0</td>\n      <td>0</td>\n      <td>0</td>\n    </tr>\n    <tr>\n      <th>999</th>\n      <td>0.491018</td>\n      <td>4.0</td>\n      <td>2.0</td>\n      <td>0.0</td>\n      <td>4.674627</td>\n      <td>6</td>\n      <td>0.000</td>\n      <td>4352.491</td>\n      <td>2358.572</td>\n      <td>4200.000</td>\n      <td>...</td>\n      <td>0</td>\n      <td>0</td>\n      <td>0</td>\n      <td>0</td>\n      <td>0</td>\n      <td>0</td>\n      <td>0</td>\n      <td>0</td>\n      <td>0</td>\n      <td>0</td>\n    </tr>\n    <tr>\n      <th>1000</th>\n      <td>0.634518</td>\n      <td>3.0</td>\n      <td>0.0</td>\n      <td>2.0</td>\n      <td>4.177665</td>\n      <td>9</td>\n      <td>2126.118</td>\n      <td>6060.771</td>\n      <td>3296.052</td>\n      <td>3400.000</td>\n      <td>...</td>\n      <td>0</td>\n      <td>0</td>\n      <td>0</td>\n      <td>0</td>\n      <td>0</td>\n      <td>0</td>\n      <td>0</td>\n      <td>0</td>\n      <td>0</td>\n      <td>0</td>\n    </tr>\n    <tr>\n      <th>1001</th>\n      <td>0.447368</td>\n      <td>7.0</td>\n      <td>1.0</td>\n      <td>0.0</td>\n      <td>4.667961</td>\n      <td>8</td>\n      <td>0.000</td>\n      <td>4763.083</td>\n      <td>2709.129</td>\n      <td>0.000</td>\n      <td>...</td>\n      <td>0</td>\n      <td>0</td>\n      <td>0</td>\n      <td>0</td>\n      <td>0</td>\n      <td>0</td>\n      <td>0</td>\n      <td>0</td>\n      <td>0</td>\n      <td>0</td>\n    </tr>\n    <tr>\n      <th>1002</th>\n      <td>0.480412</td>\n      <td>5.0</td>\n      <td>2.0</td>\n      <td>0.0</td>\n      <td>4.429126</td>\n      <td>5</td>\n      <td>1404.841</td>\n      <td>3610.125</td>\n      <td>2717.930</td>\n      <td>1100.000</td>\n      <td>...</td>\n      <td>0</td>\n      <td>0</td>\n      <td>0</td>\n      <td>0</td>\n      <td>0</td>\n      <td>0</td>\n      <td>1</td>\n      <td>0</td>\n      <td>0</td>\n      <td>0</td>\n    </tr>\n  </tbody>\n</table>\n<p>1003 rows × 224 columns</p>\n</div>"
     },
     "execution_count": 7,
     "metadata": {},
     "output_type": "execute_result"
    }
   ],
   "source": [
    "cv_2_200 = initialProcessing(cv_2_200)\n",
    "cv_2_200"
   ],
   "metadata": {
    "collapsed": false
   }
  },
  {
   "cell_type": "code",
   "execution_count": 8,
   "outputs": [
    {
     "data": {
      "text/plain": "      unique_tokens_rate  num_hrefs  num_imgs  num_videos  \\\n0               0.640816        5.0       3.0         1.0   \n1               0.549618        4.0       1.0         0.0   \n2               0.577236        8.0       1.0         0.0   \n3               0.525896        4.0       1.0         0.0   \n4               0.588889        6.0       9.0         0.0   \n...                  ...        ...       ...         ...   \n998             0.606557        6.0       2.0         0.0   \n999             0.491018        4.0       2.0         0.0   \n1000            0.634518        3.0       0.0         2.0   \n1001            0.447368        7.0       1.0         0.0   \n1002            0.480412        5.0       2.0         0.0   \n\n      average_token_length  num_keywords  min_avg_key  max_avg_key  \\\n0                 4.579592             5     1459.500     4817.692   \n1                 4.636704             7        0.000     3581.094   \n2                 4.627451             7     2270.889     3852.800   \n3                 5.083665             9        0.000     3581.094   \n4                 4.336022             7     3264.605     8453.451   \n...                    ...           ...          ...          ...   \n998               4.913978             4     3264.605     5709.823   \n999               4.674627             6        0.000     4352.491   \n1000              4.177665             9     2126.118     6060.771   \n1001              4.667961             8        0.000     4763.083   \n1002              4.429126             5     1404.841     3610.125   \n\n      avg_avg_key  href_avg_shares  ...  windows phone  windows update  \\\n0        3370.415         1833.333  ...            0.0             0.0   \n1        2556.367         8500.000  ...            0.0             0.0   \n2        3018.167         2076.333  ...            0.0             0.0   \n3        1871.403         2200.000  ...            0.0             0.0   \n4        5155.323          805.000  ...            0.0             0.0   \n...           ...              ...  ...            ...             ...   \n998      4020.608         1950.000  ...            0.0             0.0   \n999      2358.572         4200.000  ...            0.0             0.0   \n1000     3296.052         3400.000  ...            0.0             0.0   \n1001     2709.129            0.000  ...            0.0             0.0   \n1002     2717.930         1100.000  ...            0.0             0.0   \n\n      windows xp  world cup  wp_scm_comment bonus  wrote blog  york city  \\\n0            0.0        0.0              0.000000         0.0   0.000000   \n1            0.0        0.0              0.000000         0.0   0.000000   \n2            0.0        0.0              0.000000         0.0   0.000000   \n3            0.0        0.0              0.415438         0.0   0.000000   \n4            0.0        0.0              0.000000         0.0   0.000000   \n...          ...        ...                   ...         ...        ...   \n998          0.0        0.0              0.000000         0.0   0.000000   \n999          0.0        0.0              0.000000         0.0   0.000000   \n1000         0.0        0.0              0.000000         0.0   0.000000   \n1001         0.0        0.0              0.000000         0.0   0.000000   \n1002         0.0        0.0              0.000000         0.0   0.475936   \n\n      york times  youtube channel  youtube videos  \n0            0.0              0.0        0.715661  \n1            0.0              0.0        0.000000  \n2            0.0              0.0        0.000000  \n3            0.0              0.0        0.000000  \n4            0.0              0.0        0.000000  \n...          ...              ...             ...  \n998          0.0              0.0        0.000000  \n999          0.0              0.0        0.000000  \n1000         0.0              0.0        0.000000  \n1001         0.0              0.0        0.000000  \n1002         0.0              0.0        0.000000  \n\n[1003 rows x 224 columns]",
      "text/html": "<div>\n<style scoped>\n    .dataframe tbody tr th:only-of-type {\n        vertical-align: middle;\n    }\n\n    .dataframe tbody tr th {\n        vertical-align: top;\n    }\n\n    .dataframe thead th {\n        text-align: right;\n    }\n</style>\n<table border=\"1\" class=\"dataframe\">\n  <thead>\n    <tr style=\"text-align: right;\">\n      <th></th>\n      <th>unique_tokens_rate</th>\n      <th>num_hrefs</th>\n      <th>num_imgs</th>\n      <th>num_videos</th>\n      <th>average_token_length</th>\n      <th>num_keywords</th>\n      <th>min_avg_key</th>\n      <th>max_avg_key</th>\n      <th>avg_avg_key</th>\n      <th>href_avg_shares</th>\n      <th>...</th>\n      <th>windows phone</th>\n      <th>windows update</th>\n      <th>windows xp</th>\n      <th>world cup</th>\n      <th>wp_scm_comment bonus</th>\n      <th>wrote blog</th>\n      <th>york city</th>\n      <th>york times</th>\n      <th>youtube channel</th>\n      <th>youtube videos</th>\n    </tr>\n  </thead>\n  <tbody>\n    <tr>\n      <th>0</th>\n      <td>0.640816</td>\n      <td>5.0</td>\n      <td>3.0</td>\n      <td>1.0</td>\n      <td>4.579592</td>\n      <td>5</td>\n      <td>1459.500</td>\n      <td>4817.692</td>\n      <td>3370.415</td>\n      <td>1833.333</td>\n      <td>...</td>\n      <td>0.0</td>\n      <td>0.0</td>\n      <td>0.0</td>\n      <td>0.0</td>\n      <td>0.000000</td>\n      <td>0.0</td>\n      <td>0.000000</td>\n      <td>0.0</td>\n      <td>0.0</td>\n      <td>0.715661</td>\n    </tr>\n    <tr>\n      <th>1</th>\n      <td>0.549618</td>\n      <td>4.0</td>\n      <td>1.0</td>\n      <td>0.0</td>\n      <td>4.636704</td>\n      <td>7</td>\n      <td>0.000</td>\n      <td>3581.094</td>\n      <td>2556.367</td>\n      <td>8500.000</td>\n      <td>...</td>\n      <td>0.0</td>\n      <td>0.0</td>\n      <td>0.0</td>\n      <td>0.0</td>\n      <td>0.000000</td>\n      <td>0.0</td>\n      <td>0.000000</td>\n      <td>0.0</td>\n      <td>0.0</td>\n      <td>0.000000</td>\n    </tr>\n    <tr>\n      <th>2</th>\n      <td>0.577236</td>\n      <td>8.0</td>\n      <td>1.0</td>\n      <td>0.0</td>\n      <td>4.627451</td>\n      <td>7</td>\n      <td>2270.889</td>\n      <td>3852.800</td>\n      <td>3018.167</td>\n      <td>2076.333</td>\n      <td>...</td>\n      <td>0.0</td>\n      <td>0.0</td>\n      <td>0.0</td>\n      <td>0.0</td>\n      <td>0.000000</td>\n      <td>0.0</td>\n      <td>0.000000</td>\n      <td>0.0</td>\n      <td>0.0</td>\n      <td>0.000000</td>\n    </tr>\n    <tr>\n      <th>3</th>\n      <td>0.525896</td>\n      <td>4.0</td>\n      <td>1.0</td>\n      <td>0.0</td>\n      <td>5.083665</td>\n      <td>9</td>\n      <td>0.000</td>\n      <td>3581.094</td>\n      <td>1871.403</td>\n      <td>2200.000</td>\n      <td>...</td>\n      <td>0.0</td>\n      <td>0.0</td>\n      <td>0.0</td>\n      <td>0.0</td>\n      <td>0.415438</td>\n      <td>0.0</td>\n      <td>0.000000</td>\n      <td>0.0</td>\n      <td>0.0</td>\n      <td>0.000000</td>\n    </tr>\n    <tr>\n      <th>4</th>\n      <td>0.588889</td>\n      <td>6.0</td>\n      <td>9.0</td>\n      <td>0.0</td>\n      <td>4.336022</td>\n      <td>7</td>\n      <td>3264.605</td>\n      <td>8453.451</td>\n      <td>5155.323</td>\n      <td>805.000</td>\n      <td>...</td>\n      <td>0.0</td>\n      <td>0.0</td>\n      <td>0.0</td>\n      <td>0.0</td>\n      <td>0.000000</td>\n      <td>0.0</td>\n      <td>0.000000</td>\n      <td>0.0</td>\n      <td>0.0</td>\n      <td>0.000000</td>\n    </tr>\n    <tr>\n      <th>...</th>\n      <td>...</td>\n      <td>...</td>\n      <td>...</td>\n      <td>...</td>\n      <td>...</td>\n      <td>...</td>\n      <td>...</td>\n      <td>...</td>\n      <td>...</td>\n      <td>...</td>\n      <td>...</td>\n      <td>...</td>\n      <td>...</td>\n      <td>...</td>\n      <td>...</td>\n      <td>...</td>\n      <td>...</td>\n      <td>...</td>\n      <td>...</td>\n      <td>...</td>\n      <td>...</td>\n    </tr>\n    <tr>\n      <th>998</th>\n      <td>0.606557</td>\n      <td>6.0</td>\n      <td>2.0</td>\n      <td>0.0</td>\n      <td>4.913978</td>\n      <td>4</td>\n      <td>3264.605</td>\n      <td>5709.823</td>\n      <td>4020.608</td>\n      <td>1950.000</td>\n      <td>...</td>\n      <td>0.0</td>\n      <td>0.0</td>\n      <td>0.0</td>\n      <td>0.0</td>\n      <td>0.000000</td>\n      <td>0.0</td>\n      <td>0.000000</td>\n      <td>0.0</td>\n      <td>0.0</td>\n      <td>0.000000</td>\n    </tr>\n    <tr>\n      <th>999</th>\n      <td>0.491018</td>\n      <td>4.0</td>\n      <td>2.0</td>\n      <td>0.0</td>\n      <td>4.674627</td>\n      <td>6</td>\n      <td>0.000</td>\n      <td>4352.491</td>\n      <td>2358.572</td>\n      <td>4200.000</td>\n      <td>...</td>\n      <td>0.0</td>\n      <td>0.0</td>\n      <td>0.0</td>\n      <td>0.0</td>\n      <td>0.000000</td>\n      <td>0.0</td>\n      <td>0.000000</td>\n      <td>0.0</td>\n      <td>0.0</td>\n      <td>0.000000</td>\n    </tr>\n    <tr>\n      <th>1000</th>\n      <td>0.634518</td>\n      <td>3.0</td>\n      <td>0.0</td>\n      <td>2.0</td>\n      <td>4.177665</td>\n      <td>9</td>\n      <td>2126.118</td>\n      <td>6060.771</td>\n      <td>3296.052</td>\n      <td>3400.000</td>\n      <td>...</td>\n      <td>0.0</td>\n      <td>0.0</td>\n      <td>0.0</td>\n      <td>0.0</td>\n      <td>0.000000</td>\n      <td>0.0</td>\n      <td>0.000000</td>\n      <td>0.0</td>\n      <td>0.0</td>\n      <td>0.000000</td>\n    </tr>\n    <tr>\n      <th>1001</th>\n      <td>0.447368</td>\n      <td>7.0</td>\n      <td>1.0</td>\n      <td>0.0</td>\n      <td>4.667961</td>\n      <td>8</td>\n      <td>0.000</td>\n      <td>4763.083</td>\n      <td>2709.129</td>\n      <td>0.000</td>\n      <td>...</td>\n      <td>0.0</td>\n      <td>0.0</td>\n      <td>0.0</td>\n      <td>0.0</td>\n      <td>0.000000</td>\n      <td>0.0</td>\n      <td>0.000000</td>\n      <td>0.0</td>\n      <td>0.0</td>\n      <td>0.000000</td>\n    </tr>\n    <tr>\n      <th>1002</th>\n      <td>0.480412</td>\n      <td>5.0</td>\n      <td>2.0</td>\n      <td>0.0</td>\n      <td>4.429126</td>\n      <td>5</td>\n      <td>1404.841</td>\n      <td>3610.125</td>\n      <td>2717.930</td>\n      <td>1100.000</td>\n      <td>...</td>\n      <td>0.0</td>\n      <td>0.0</td>\n      <td>0.0</td>\n      <td>0.0</td>\n      <td>0.000000</td>\n      <td>0.0</td>\n      <td>0.475936</td>\n      <td>0.0</td>\n      <td>0.0</td>\n      <td>0.000000</td>\n    </tr>\n  </tbody>\n</table>\n<p>1003 rows × 224 columns</p>\n</div>"
     },
     "execution_count": 8,
     "metadata": {},
     "output_type": "execute_result"
    }
   ],
   "source": [
    "tfidf_2_200 = initialProcessing(tfidf_2_200)\n",
    "tfidf_2_200"
   ],
   "metadata": {
    "collapsed": false
   }
  },
  {
   "cell_type": "markdown",
   "source": [
    "<h3>Splitting Data in Preparation for Modelling</h3>"
   ],
   "metadata": {
    "collapsed": false
   }
  },
  {
   "cell_type": "code",
   "execution_count": 10,
   "outputs": [],
   "source": [
    "def splitData(data):\n",
    "    X = data.drop('shares',axis=1)\n",
    "    y = data[['shares']]\n",
    "    x_train, x_test, y_train, y_test = train_test_split(X,y,test_size=0.2,random_state=42)\n",
    "    print((x_train.shape, x_test.shape), (y_train.shape,y_test.shape))\n",
    "    return [x_train, x_test, y_train, y_test]"
   ],
   "metadata": {
    "collapsed": false
   }
  },
  {
   "cell_type": "code",
   "execution_count": 9,
   "outputs": [],
   "source": [
    "def standardizeTransform(x_train, x_test, y_train, y_test):\n",
    "    scaler = StandardScaler().fit(x_train)\n",
    "    x_train_scaled = scaler.transform(x_train)\n",
    "    x_test_scaled = scaler.transform(x_test)\n",
    "    y_train_log = np.log(1+y_train)\n",
    "    y_test_log = np.log(1+y_test)\n",
    "    return [x_train_scaled, x_test_scaled, y_train_log, y_test_log]"
   ],
   "metadata": {
    "collapsed": false
   }
  },
  {
   "cell_type": "code",
   "execution_count": 11,
   "outputs": [
    {
     "name": "stdout",
     "output_type": "stream",
     "text": [
      "((802, 223), (201, 223)) ((802, 1), (201, 1))\n"
     ]
    }
   ],
   "source": [
    "x_train_cv, x_test_cv, y_train_cv, y_test_cv = splitData(cv_2_200)"
   ],
   "metadata": {
    "collapsed": false
   }
  },
  {
   "cell_type": "code",
   "execution_count": 12,
   "outputs": [],
   "source": [
    "x_train_scaled_cv, x_test_scaled_cv, y_train_log_cv, y_test_log_cv = standardizeTransform(x_train_cv, x_test_cv, y_train_cv, y_test_cv)"
   ],
   "metadata": {
    "collapsed": false
   }
  },
  {
   "cell_type": "code",
   "execution_count": 13,
   "outputs": [
    {
     "name": "stdout",
     "output_type": "stream",
     "text": [
      "((802, 223), (201, 223)) ((802, 1), (201, 1))\n"
     ]
    }
   ],
   "source": [
    "x_train_tf, x_test_tf, y_train_tf, y_test_tf = splitData(tfidf_2_200)"
   ],
   "metadata": {
    "collapsed": false
   }
  },
  {
   "cell_type": "code",
   "execution_count": 14,
   "outputs": [],
   "source": [
    "x_train_scaled_tf, x_test_scaled_tf, y_train_log_tf, y_test_log_tf = standardizeTransform(x_train_tf, x_test_tf, y_train_tf, y_test_tf)"
   ],
   "metadata": {
    "collapsed": false
   }
  },
  {
   "cell_type": "markdown",
   "source": [
    "<h1>Models</h1>"
   ],
   "metadata": {
    "collapsed": false
   }
  },
  {
   "cell_type": "code",
   "execution_count": 15,
   "outputs": [],
   "source": [
    "# Fit Model and Evaluate\n",
    "def fitPredict(x_train, y_train, x_test, y_test, model, testEval):\n",
    "    model.fit(x_train, y_train)\n",
    "    if testEval == True:\n",
    "        y_hat = model.predict(x_test)\n",
    "\n",
    "        print(\"Test R2 score: \"+ str(r2_score(y_test,y_hat)))\n",
    "        print(\"Test MAE: \"+ str(mean_absolute_error(y_test,y_hat)))\n",
    "        print(\"Test RMSE: \"+ str(np.sqrt(mean_squared_error(y_test,y_hat))))\n",
    "\n",
    "    elif testEval == False:\n",
    "        y_hat = model.predict(x_train)\n",
    "\n",
    "        print(\"Test R2 score: \"+ str(r2_score(y_train,y_hat)))\n",
    "        print(\"Test MAE: \"+ str(mean_absolute_error(y_train,y_hat)))\n",
    "        print(\"Test RMSE: \"+ str(np.sqrt(mean_squared_error(y_train,y_hat))))\n",
    "    else:\n",
    "        return 0\n",
    "\n",
    "    return model\n"
   ],
   "metadata": {
    "collapsed": false
   }
  },
  {
   "cell_type": "code",
   "execution_count": 16,
   "outputs": [
    {
     "name": "stdout",
     "output_type": "stream",
     "text": [
      "Count Vectorizer Train Set Results:\n",
      "Test R2 score: 0.35906749933010995\n",
      "Test MAE: 0.5050545500509469\n",
      "Test RMSE: 0.6600342801480844\n",
      "tfidf Train set Results:\n",
      "Test R2 score: 0.3503478025519683\n",
      "Test MAE: 0.5139187529106072\n",
      "Test RMSE: 0.6645088980129954\n"
     ]
    }
   ],
   "source": [
    "# Linear Model Train set prediction and Evaluation\n",
    "print('Count Vectorizer Train Set Results:')\n",
    "lm = fitPredict(x_train_scaled_cv, y_train_log_cv, x_test_scaled_cv, y_test_log_cv, LinearRegression(), False)\n",
    "print('tfidf Train set Results:')\n",
    "lm = fitPredict(x_train_scaled_tf, y_train_log_tf, x_test_scaled_tf, y_test_log_tf, LinearRegression(), False)"
   ],
   "metadata": {
    "collapsed": false
   }
  },
  {
   "cell_type": "code",
   "execution_count": 17,
   "outputs": [
    {
     "name": "stdout",
     "output_type": "stream",
     "text": [
      "Count Vectorizer Test Set Results:\n",
      "Test R2 score: -9.484555140145596e+22\n",
      "Test MAE: 19186723527.3798\n",
      "Test RMSE: 260296294219.10306\n",
      "tfidf Test set Results:\n",
      "Test R2 score: -4.75898955153067e+21\n",
      "Test MAE: 4126928514.3153925\n",
      "Test RMSE: 58306487305.06622\n"
     ]
    }
   ],
   "source": [
    "# Linear Model Test set prediction and Evaluation\n",
    "print('Count Vectorizer Test Set Results:')\n",
    "lm = fitPredict(x_train_scaled_cv, y_train_log_cv, x_test_scaled_cv, y_test_log_cv, LinearRegression(), True)\n",
    "print('tfidf Test set Results:')\n",
    "lm = fitPredict(x_train_scaled_tf, y_train_log_tf, x_test_scaled_tf, y_test_log_tf, LinearRegression(), True)"
   ],
   "metadata": {
    "collapsed": false
   }
  },
  {
   "cell_type": "code",
   "execution_count": 18,
   "outputs": [
    {
     "name": "stdout",
     "output_type": "stream",
     "text": [
      "Count Vectorizer Train Set Results:\n",
      "Test R2 score: 0.3594376181280087\n",
      "Test MAE: 0.504930443090036\n",
      "Test RMSE: 0.6598436778834783\n",
      "tfidf Train set Results:\n",
      "Test R2 score: 0.35030067368941864\n",
      "Test MAE: 0.5140328010482187\n",
      "Test RMSE: 0.6645330008950299\n"
     ]
    }
   ],
   "source": [
    "# Ridge Train set prediction and Evaluation\n",
    "print('Count Vectorizer Train Set Results:')\n",
    "rm = fitPredict(x_train_scaled_cv, y_train_log_cv, x_test_scaled_cv, y_test_log_cv, Ridge(), False)\n",
    "print('tfidf Train set Results:')\n",
    "rm = fitPredict(x_train_scaled_tf, y_train_log_tf, x_test_scaled_tf, y_test_log_tf, Ridge(), False)\n"
   ],
   "metadata": {
    "collapsed": false
   }
  },
  {
   "cell_type": "code",
   "execution_count": 19,
   "outputs": [
    {
     "name": "stdout",
     "output_type": "stream",
     "text": [
      "Count Vectorizer Train Set Results:\n",
      "Test R2 score: -0.8239217200808162\n",
      "Test MAE: 0.8298499412157989\n",
      "Test RMSE: 1.1414650009612228\n",
      "tfidf Train set Results:\n",
      "Test R2 score: -0.1089526347667964\n",
      "Test MAE: 0.7273328584170243\n",
      "Test RMSE: 0.8900532716093941\n"
     ]
    }
   ],
   "source": [
    "# Ridge Test set prediction and Evaluation\n",
    "print('Count Vectorizer Train Set Results:')\n",
    "rm = fitPredict(x_train_scaled_cv, y_train_log_cv, x_test_scaled_cv, y_test_log_cv, Ridge(), True)\n",
    "print('tfidf Train set Results:')\n",
    "rm = fitPredict(x_train_scaled_tf, y_train_log_tf, x_test_scaled_tf, y_test_log_tf, Ridge(), True)"
   ],
   "metadata": {
    "collapsed": false
   }
  },
  {
   "cell_type": "code",
   "execution_count": 20,
   "outputs": [
    {
     "name": "stdout",
     "output_type": "stream",
     "text": [
      "Count Vectorizer Train Set Results:\n"
     ]
    },
    {
     "name": "stderr",
     "output_type": "stream",
     "text": [
      "C:\\Users\\ituser\\anaconda3\\lib\\site-packages\\sklearn\\neural_network\\_multilayer_perceptron.py:1599: DataConversionWarning: A column-vector y was passed when a 1d array was expected. Please change the shape of y to (n_samples, ), for example using ravel().\n",
      "  y = column_or_1d(y, warn=True)\n"
     ]
    },
    {
     "name": "stdout",
     "output_type": "stream",
     "text": [
      "Test R2 score: 0.6874851370704871\n",
      "Test MAE: 0.31125734660055704\n",
      "Test RMSE: 0.46088829981902363\n",
      "tfidf Train set Results:\n"
     ]
    },
    {
     "name": "stderr",
     "output_type": "stream",
     "text": [
      "C:\\Users\\ituser\\anaconda3\\lib\\site-packages\\sklearn\\neural_network\\_multilayer_perceptron.py:1599: DataConversionWarning: A column-vector y was passed when a 1d array was expected. Please change the shape of y to (n_samples, ), for example using ravel().\n",
      "  y = column_or_1d(y, warn=True)\n"
     ]
    },
    {
     "name": "stdout",
     "output_type": "stream",
     "text": [
      "Test R2 score: 0.7421200599644315\n",
      "Test MAE: 0.2634318108722671\n",
      "Test RMSE: 0.41866738040288604\n"
     ]
    }
   ],
   "source": [
    "# MLPRegressor Train set prediction and Evaluation\n",
    "print('Count Vectorizer Train Set Results:')\n",
    "rm = fitPredict(x_train_scaled_cv, y_train_log_cv, x_test_scaled_cv, y_test_log_cv, MLPRegressor(), False)\n",
    "print('tfidf Train set Results:')\n",
    "rm = fitPredict(x_train_scaled_tf, y_train_log_tf, x_test_scaled_tf, y_test_log_tf, MLPRegressor(), False)"
   ],
   "metadata": {
    "collapsed": false
   }
  },
  {
   "cell_type": "code",
   "execution_count": 22,
   "outputs": [
    {
     "name": "stdout",
     "output_type": "stream",
     "text": [
      "Count Vectorizer Test Set Results:\n",
      "Test R2 score: -0.8239217200808162\n",
      "Test MAE: 0.8298499412157989\n",
      "Test RMSE: 1.1414650009612228\n",
      "tfidf Test set Results:\n",
      "Test R2 score: -0.1089526347667964\n",
      "Test MAE: 0.7273328584170243\n",
      "Test RMSE: 0.8900532716093941\n"
     ]
    }
   ],
   "source": [
    "# MLPRegressor Test set prediction and Evaluation\n",
    "print('Count Vectorizer Test Set Results:')\n",
    "rm = fitPredict(x_train_scaled_cv, y_train_log_cv, x_test_scaled_cv, y_test_log_cv, Ridge(), True)\n",
    "print('tfidf Test set Results:')\n",
    "rm = fitPredict(x_train_scaled_tf, y_train_log_tf, x_test_scaled_tf, y_test_log_tf, Ridge(), True)"
   ],
   "metadata": {
    "collapsed": false
   }
  },
  {
   "cell_type": "code",
   "execution_count": 23,
   "outputs": [
    {
     "name": "stdout",
     "output_type": "stream",
     "text": [
      "Count Vectorizer Train Set Results:\n"
     ]
    },
    {
     "name": "stderr",
     "output_type": "stream",
     "text": [
      "C:\\Users\\ituser\\anaconda3\\lib\\site-packages\\sklearn\\ensemble\\_gb.py:494: DataConversionWarning: A column-vector y was passed when a 1d array was expected. Please change the shape of y to (n_samples, ), for example using ravel().\n",
      "  y = column_or_1d(y, warn=True)\n"
     ]
    },
    {
     "name": "stdout",
     "output_type": "stream",
     "text": [
      "Test R2 score: 0.550353263985458\n",
      "Test MAE: 0.44206000017082697\n",
      "Test RMSE: 0.5528356835214052\n",
      "tfidf Train set Results:\n"
     ]
    },
    {
     "name": "stderr",
     "output_type": "stream",
     "text": [
      "C:\\Users\\ituser\\anaconda3\\lib\\site-packages\\sklearn\\ensemble\\_gb.py:494: DataConversionWarning: A column-vector y was passed when a 1d array was expected. Please change the shape of y to (n_samples, ), for example using ravel().\n",
      "  y = column_or_1d(y, warn=True)\n"
     ]
    },
    {
     "name": "stdout",
     "output_type": "stream",
     "text": [
      "Test R2 score: 0.5287719271283926\n",
      "Test MAE: 0.45053932483381687\n",
      "Test RMSE: 0.5659472087920016\n"
     ]
    }
   ],
   "source": [
    "# Gradient Bossting Regressor Train set prediction and Evaluation\n",
    "print('Count Vectorizer Train Set Results:')\n",
    "rm = fitPredict(x_train_scaled_cv, y_train_log_cv, x_test_scaled_cv, y_test_log_cv, GradientBoostingRegressor(), False)\n",
    "print('tfidf Train set Results:')\n",
    "rm = fitPredict(x_train_scaled_tf, y_train_log_tf, x_test_scaled_tf, y_test_log_tf, GradientBoostingRegressor(), False)"
   ],
   "metadata": {
    "collapsed": false
   }
  },
  {
   "cell_type": "code",
   "execution_count": 40,
   "outputs": [
    {
     "name": "stdout",
     "output_type": "stream",
     "text": [
      "Count Vectorizer Train Set Results:\n"
     ]
    },
    {
     "name": "stderr",
     "output_type": "stream",
     "text": [
      "C:\\Users\\ituser\\anaconda3\\lib\\site-packages\\sklearn\\ensemble\\_gb.py:494: DataConversionWarning: A column-vector y was passed when a 1d array was expected. Please change the shape of y to (n_samples, ), for example using ravel().\n",
      "  y = column_or_1d(y, warn=True)\n"
     ]
    },
    {
     "name": "stdout",
     "output_type": "stream",
     "text": [
      "Test R2 score: 0.05204890507097881\n",
      "Test MAE: 0.6705383539978528\n",
      "Test RMSE: 0.8229102438707641\n",
      "tfidf Train set Results:\n"
     ]
    },
    {
     "name": "stderr",
     "output_type": "stream",
     "text": [
      "C:\\Users\\ituser\\anaconda3\\lib\\site-packages\\sklearn\\ensemble\\_gb.py:494: DataConversionWarning: A column-vector y was passed when a 1d array was expected. Please change the shape of y to (n_samples, ), for example using ravel().\n",
      "  y = column_or_1d(y, warn=True)\n"
     ]
    },
    {
     "name": "stdout",
     "output_type": "stream",
     "text": [
      "Test R2 score: 0.0739656911208163\n",
      "Test MAE: 0.6544986906639244\n",
      "Test RMSE: 0.8133417034381053\n"
     ]
    }
   ],
   "source": [
    "# Gradient Boosting Regressor Test set prediction and Evaluation\n",
    "print('Count Vectorizer Test Set Results:')\n",
    "rm = fitPredict(x_train_scaled_cv, y_train_log_cv, x_test_scaled_cv, y_test_log_cv, GradientBoostingRegressor(), True)\n",
    "print('tfidf Test set Results:')\n",
    "rm = fitPredict(x_train_scaled_tf, y_train_log_tf, x_test_scaled_tf, y_test_log_tf, GradientBoostingRegressor(), True)"
   ],
   "metadata": {
    "collapsed": false
   }
  },
  {
   "cell_type": "code",
   "execution_count": null,
   "outputs": [],
   "source": [],
   "metadata": {
    "collapsed": false
   }
  }
 ],
 "metadata": {
  "kernelspec": {
   "display_name": "Python 3",
   "language": "python",
   "name": "python3"
  },
  "language_info": {
   "codemirror_mode": {
    "name": "ipython",
    "version": 2
   },
   "file_extension": ".py",
   "mimetype": "text/x-python",
   "name": "python",
   "nbconvert_exporter": "python",
   "pygments_lexer": "ipython2",
   "version": "2.7.6"
  }
 },
 "nbformat": 4,
 "nbformat_minor": 0
}
