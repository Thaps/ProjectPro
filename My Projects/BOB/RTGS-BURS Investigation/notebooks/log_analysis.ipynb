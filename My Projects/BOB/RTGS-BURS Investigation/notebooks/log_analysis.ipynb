{
 "cells": [
  {
   "cell_type": "code",
   "execution_count": 1,
   "metadata": {
    "collapsed": true
   },
   "outputs": [],
   "source": [
    "# Importing the necessary libraries\n",
    "import pandas as pd\n",
    "import numpy as np\n",
    "import os"
   ]
  },
  {
   "cell_type": "code",
   "execution_count": 2,
   "outputs": [
    {
     "data": {
      "text/plain": "['server.log_2023-04-05T08-28-53',\n 'server.log_2023-04-05T09-38-00',\n 'server.log_2023-04-05T11-14-17',\n 'server.log_2023-04-05T12-27-17',\n 'server.log_2023-04-05T14-54-12',\n 'server.log_2023-04-05T18-49-43']"
     },
     "execution_count": 2,
     "metadata": {},
     "output_type": "execute_result"
    }
   ],
   "source": [
    "os.listdir('../logs')"
   ],
   "metadata": {
    "collapsed": false
   }
  },
  {
   "cell_type": "code",
   "execution_count": 3,
   "outputs": [],
   "source": [
    "def get_amount(request):\n",
    "    amount = request[request.find('amount\":')+8: -7]\n",
    "    return amount"
   ],
   "metadata": {
    "collapsed": false
   }
  },
  {
   "cell_type": "code",
   "execution_count": 4,
   "outputs": [],
   "source": [
    "def get_ref(line):\n",
    "    return line[line.find('tran:')+6:-4]\n"
   ],
   "metadata": {
    "collapsed": false
   }
  },
  {
   "cell_type": "code",
   "execution_count": 5,
   "outputs": [],
   "source": [
    "def get_ref2(line):\n",
    "    return line[line.find('record')+7:-4]"
   ],
   "metadata": {
    "collapsed": false
   }
  },
  {
   "cell_type": "code",
   "execution_count": 6,
   "outputs": [],
   "source": [
    "def get_mt(line):\n",
    "    return line[line.find('mt'):line.find('mt')+5]"
   ],
   "metadata": {
    "collapsed": false
   }
  },
  {
   "cell_type": "code",
   "execution_count": 26,
   "outputs": [],
   "source": [
    "def get_mt2(line):\n",
    "    return line[line.find('MT'):line.find('MT')+5]"
   ],
   "metadata": {
    "collapsed": false
   }
  },
  {
   "cell_type": "code",
   "execution_count": 7,
   "outputs": [],
   "source": [
    "#def get_valid(line):\n",
    "    #return line[line.find('Verified\":')+10:line.find('}')]"
   ],
   "metadata": {
    "collapsed": false
   }
  },
  {
   "cell_type": "code",
   "execution_count": 8,
   "outputs": [],
   "source": [
    "#def get_valid2(line):\n",
    "    #return line[line.find('success')+8:line.find(',')]"
   ],
   "metadata": {
    "collapsed": false
   }
  },
  {
   "cell_type": "code",
   "execution_count": 27,
   "outputs": [],
   "source": [
    "#res_verified = []\n",
    "#off_verified = []\n",
    "res_mts = []\n",
    "off_mts = []\n",
    "builds = []\n",
    "res_ogrefs = []\n",
    "off_ogrefs = []\n",
    "requests = []\n",
    "res_amounts = []\n",
    "off_amounts = []\n",
    "count = 0\n",
    "badcount=0\n",
    "responses = []\n",
    "offline = []\n",
    "grid_reports = []\n",
    "\n",
    "for filename in os.listdir('../logs'):\n",
    "    #k=0\n",
    "    with open(os.path.join('../logs', filename)) as f:\n",
    "        lines = f.readlines()\n",
    "        for line in lines:\n",
    "            if 'Prepend for' in line:\n",
    "                ogref = get_ref(line)\n",
    "                mt = get_mt(line)\n",
    "            if '|Building' in line:\n",
    "                ogref = get_ref2(line)\n",
    "                mt = get_mt2(line)\n",
    "                #builds.append(line)\n",
    "            if 'BURS Validation Request' in line:\n",
    "                request = line\n",
    "                requests.append(request)\n",
    "            if 'BURS Validation Response' in line:\n",
    "                #res_verified.append(get_valid(line))\n",
    "                res_mts.append(mt)\n",
    "                res_ogrefs.append(ogref)\n",
    "                res_amounts.append(get_amount(request))\n",
    "                responses.append(line)\n",
    "                count = count+1\n",
    "            if 'offline BURS validation' in line:\n",
    "                #off_verified.append(get_valid2(k))\n",
    "                #print(lines[k+2])\n",
    "                off_mts.append(mt)\n",
    "                off_ogrefs.append(ogref)\n",
    "                off_amounts.append(get_amount(request))\n",
    "                offline.append(line)\n",
    "                badcount = badcount+1\n",
    "            #k=k+1\n"
   ],
   "metadata": {
    "collapsed": false
   }
  },
  {
   "cell_type": "code",
   "execution_count": 10,
   "outputs": [],
   "source": [
    "def print_counts():\n",
    "    print('Number of transactions validated online: ',count)\n",
    "    print('Number of transactions validated offline: ',badcount)"
   ],
   "metadata": {
    "collapsed": false
   }
  },
  {
   "cell_type": "code",
   "execution_count": 11,
   "outputs": [
    {
     "name": "stdout",
     "output_type": "stream",
     "text": [
      "Number of transactions validated online:  83\n",
      "Number of transactions validated offline:  10\n"
     ]
    }
   ],
   "source": [
    "print_counts()"
   ],
   "metadata": {
    "collapsed": false
   }
  },
  {
   "cell_type": "code",
   "execution_count": 12,
   "outputs": [],
   "source": [
    "def print_responses():\n",
    "    print(*responses, sep='\\n')"
   ],
   "metadata": {
    "collapsed": false
   }
  },
  {
   "cell_type": "code",
   "execution_count": 13,
   "outputs": [
    {
     "name": "stdout",
     "output_type": "stream",
     "text": [
      "[#|2023-04-05T07:47:43.177+0200|INFO|glassfish3.1.2|com.montran.rtgs.bw.tp.validator.impl.BURSOnlineValidation|_ThreadID=70;_ThreadName=Thread-2;|Received BURS Validation Response={\"PaymentVerification\":{\"PAYMENTDETAILS\":{\"paymentRef\":\"PMT-INSTR-20230006948429\",\"Verified\":true},\"Status\":{\"faultcode\":\"0\",\"detail\":\"\",\"Message\":\"success\"}}}|#]\n",
      "\n",
      "[#|2023-04-05T07:47:44.145+0200|INFO|glassfish3.1.2|com.montran.rtgs.bw.tp.validator.impl.BURSOnlineValidation|_ThreadID=145;_ThreadName=Thread-2;|Received BURS Validation Response={\"PaymentVerification\":{\"PAYMENTDETAILS\":{\"paymentRef\":\"PMT-INSTR-20230006948973\",\"Verified\":true},\"Status\":{\"faultcode\":\"0\",\"detail\":\"\",\"Message\":\"success\"}}}|#]\n",
      "\n",
      "[#|2023-04-05T09:11:38.545+0200|INFO|glassfish3.1.2|com.montran.rtgs.bw.tp.validator.impl.BURSOnlineValidation|_ThreadID=144;_ThreadName=Thread-2;|Received BURS Validation Response={\"PaymentVerification\":{\"PAYMENTDETAILS\":{\"paymentRef\":\"PMT-INSTR-20230006957398\",\"Verified\":true},\"Status\":{\"faultcode\":\"0\",\"detail\":\"\",\"Message\":\"success\"}}}|#]\n",
      "\n",
      "[#|2023-04-05T10:55:27.637+0200|INFO|glassfish3.1.2|com.montran.rtgs.bw.tp.validator.impl.BURSOnlineValidation|_ThreadID=107;_ThreadName=Thread-2;|Received BURS Validation Response={\"PaymentVerification\":{\"PAYMENTDETAILS\":{\"paymentRef\":\"B00008166722-PAYE\",\"Verified\":\"true\"}}}|#]\n",
      "\n",
      "[#|2023-04-05T10:55:27.711+0200|INFO|glassfish3.1.2|com.montran.rtgs.bw.tp.validator.impl.BURSOnlineValidation|_ThreadID=107;_ThreadName=Thread-2;|Received BURS Validation Response={\"PaymentVerification\":{\"PAYMENTDETAILS\":{\"paymentRef\":\"B00035909692-PAYE\",\"Verified\":\"true\"}}}|#]\n",
      "\n",
      "[#|2023-04-05T10:55:27.756+0200|INFO|glassfish3.1.2|com.montran.rtgs.bw.tp.validator.impl.BURSOnlineValidation|_ThreadID=107;_ThreadName=Thread-2;|Received BURS Validation Response={\"PaymentVerification\":{\"PAYMENTDETAILS\":{\"paymentRef\":\"B00035909692-PAYE\",\"Verified\":\"true\"}}}|#]\n",
      "\n",
      "[#|2023-04-05T10:55:27.802+0200|INFO|glassfish3.1.2|com.montran.rtgs.bw.tp.validator.impl.BURSOnlineValidation|_ThreadID=107;_ThreadName=Thread-2;|Received BURS Validation Response={\"PaymentVerification\":{\"PAYMENTDETAILS\":{\"paymentRef\":\"B00011989007-PAYE\",\"Verified\":\"true\"}}}|#]\n",
      "\n",
      "[#|2023-04-05T10:55:27.839+0200|INFO|glassfish3.1.2|com.montran.rtgs.bw.tp.validator.impl.BURSOnlineValidation|_ThreadID=107;_ThreadName=Thread-2;|Received BURS Validation Response={\"PaymentVerification\":{\"PAYMENTDETAILS\":{\"paymentRef\":\"B00035909692-PAYE\",\"Verified\":\"true\"}}}|#]\n",
      "\n",
      "[#|2023-04-05T10:55:27.878+0200|INFO|glassfish3.1.2|com.montran.rtgs.bw.tp.validator.impl.BURSOnlineValidation|_ThreadID=107;_ThreadName=Thread-2;|Received BURS Validation Response={\"PaymentVerification\":{\"PAYMENTDETAILS\":{\"paymentRef\":\"B00035909692-PAYE\",\"Verified\":\"true\"}}}|#]\n",
      "\n",
      "[#|2023-04-05T10:55:27.924+0200|INFO|glassfish3.1.2|com.montran.rtgs.bw.tp.validator.impl.BURSOnlineValidation|_ThreadID=107;_ThreadName=Thread-2;|Received BURS Validation Response={\"PaymentVerification\":{\"PAYMENTDETAILS\":{\"paymentRef\":\"B00035909692-PAYE\",\"Verified\":\"true\"}}}|#]\n",
      "\n",
      "[#|2023-04-05T10:55:27.964+0200|INFO|glassfish3.1.2|com.montran.rtgs.bw.tp.validator.impl.BURSOnlineValidation|_ThreadID=107;_ThreadName=Thread-2;|Received BURS Validation Response={\"PaymentVerification\":{\"PAYMENTDETAILS\":{\"paymentRef\":\"B00032881255-WHT108\",\"Verified\":\"true\"}}}|#]\n",
      "\n",
      "[#|2023-04-05T10:55:28.010+0200|INFO|glassfish3.1.2|com.montran.rtgs.bw.tp.validator.impl.BURSOnlineValidation|_ThreadID=107;_ThreadName=Thread-2;|Received BURS Validation Response={\"PaymentVerification\":{\"PAYMENTDETAILS\":{\"paymentRef\":\"B00035909692-PAYE\",\"Verified\":\"true\"}}}|#]\n",
      "\n",
      "[#|2023-04-05T10:55:28.056+0200|INFO|glassfish3.1.2|com.montran.rtgs.bw.tp.validator.impl.BURSOnlineValidation|_ThreadID=107;_ThreadName=Thread-2;|Received BURS Validation Response={\"PaymentVerification\":{\"PAYMENTDETAILS\":{\"paymentRef\":\"B00024053867-PAYE\",\"Verified\":\"true\"}}}|#]\n",
      "\n",
      "[#|2023-04-05T10:55:28.101+0200|INFO|glassfish3.1.2|com.montran.rtgs.bw.tp.validator.impl.BURSOnlineValidation|_ThreadID=107;_ThreadName=Thread-2;|Received BURS Validation Response={\"PaymentVerification\":{\"PAYMENTDETAILS\":{\"paymentRef\":\"B00011933814-PAYE\",\"Verified\":\"true\"}}}|#]\n",
      "\n",
      "[#|2023-04-05T10:55:28.147+0200|INFO|glassfish3.1.2|com.montran.rtgs.bw.tp.validator.impl.BURSOnlineValidation|_ThreadID=107;_ThreadName=Thread-2;|Received BURS Validation Response={\"PaymentVerification\":{\"PAYMENTDETAILS\":{\"paymentRef\":\"B00012765977-PAYE\",\"Verified\":\"true\"}}}|#]\n",
      "\n",
      "[#|2023-04-05T10:55:30.228+0200|INFO|glassfish3.1.2|com.montran.rtgs.bw.tp.validator.impl.BURSOnlineValidation|_ThreadID=107;_ThreadName=Thread-2;|Received BURS Validation Response={\"PaymentVerification\":{\"PAYMENTDETAILS\":{\"paymentRef\":\"CMS2101B0810901112\",\"Verified\":\"false\"},\"Status\":{\"faultcode\":\"4001\",\"Message\":\"Payment reference number does not exist\",\"detail\":\"Payment reference number does not exist\"}}}|#]\n",
      "\n",
      "[#|2023-04-05T10:55:30.367+0200|INFO|glassfish3.1.2|com.montran.rtgs.bw.tp.validator.impl.BURSOnlineValidation|_ThreadID=107;_ThreadName=Thread-2;|Received BURS Validation Response={\"PaymentVerification\":{\"PAYMENTDETAILS\":{\"paymentRef\":\"CMS2101B08103901112\",\"Verified\":false},\"Status\":{\"faultcode\":\"4002\",\"detail\":null,\"Message\":\"The specified amount,54242.45 is not equals to 163952\"}}}|#]\n",
      "\n",
      "[#|2023-04-05T10:55:30.402+0200|INFO|glassfish3.1.2|com.montran.rtgs.bw.tp.validator.impl.BURSOnlineValidation|_ThreadID=107;_ThreadName=Thread-2;|Received BURS Validation Response={\"PaymentVerification\":{\"PAYMENTDETAILS\":{\"paymentRef\":\"B00008166625-PAYE\",\"Verified\":\"true\"}}}|#]\n",
      "\n",
      "[#|2023-04-05T10:55:30.521+0200|INFO|glassfish3.1.2|com.montran.rtgs.bw.tp.validator.impl.BURSOnlineValidation|_ThreadID=107;_ThreadName=Thread-2;|Received BURS Validation Response={\"PaymentVerification\":{\"PAYMENTDETAILS\":{\"paymentRef\":\"CMS2102B08103901112\",\"Verified\":true},\"Status\":{\"faultcode\":\"0\",\"detail\":\"\",\"Message\":\"success\"}}}|#]\n",
      "\n",
      "[#|2023-04-05T10:55:30.568+0200|INFO|glassfish3.1.2|com.montran.rtgs.bw.tp.validator.impl.BURSOnlineValidation|_ThreadID=107;_ThreadName=Thread-2;|Received BURS Validation Response={\"PaymentVerification\":{\"PAYMENTDETAILS\":{\"paymentRef\":\"B00012765977-PAYE\",\"Verified\":\"true\"}}}|#]\n",
      "\n",
      "[#|2023-04-05T10:55:30.611+0200|INFO|glassfish3.1.2|com.montran.rtgs.bw.tp.validator.impl.BURSOnlineValidation|_ThreadID=107;_ThreadName=Thread-2;|Received BURS Validation Response={\"PaymentVerification\":{\"PAYMENTDETAILS\":{\"paymentRef\":\"B00012765977-PAYE\",\"Verified\":\"true\"}}}|#]\n",
      "\n",
      "[#|2023-04-05T10:55:30.666+0200|INFO|glassfish3.1.2|com.montran.rtgs.bw.tp.validator.impl.BURSOnlineValidation|_ThreadID=107;_ThreadName=Thread-2;|Received BURS Validation Response={\"PaymentVerification\":{\"PAYMENTDETAILS\":{\"paymentRef\":\"B00012765977-PAYE\",\"Verified\":\"true\"}}}|#]\n",
      "\n",
      "[#|2023-04-05T10:55:30.704+0200|INFO|glassfish3.1.2|com.montran.rtgs.bw.tp.validator.impl.BURSOnlineValidation|_ThreadID=107;_ThreadName=Thread-2;|Received BURS Validation Response={\"PaymentVerification\":{\"PAYMENTDETAILS\":{\"paymentRef\":\"B00012765977-PAYE\",\"Verified\":\"true\"}}}|#]\n",
      "\n",
      "[#|2023-04-05T10:55:30.747+0200|INFO|glassfish3.1.2|com.montran.rtgs.bw.tp.validator.impl.BURSOnlineValidation|_ThreadID=107;_ThreadName=Thread-2;|Received BURS Validation Response={\"PaymentVerification\":{\"PAYMENTDETAILS\":{\"paymentRef\":\"B00012765977-PAYE\",\"Verified\":\"true\"}}}|#]\n",
      "\n",
      "[#|2023-04-05T10:55:30.896+0200|INFO|glassfish3.1.2|com.montran.rtgs.bw.tp.validator.impl.BURSOnlineValidation|_ThreadID=107;_ThreadName=Thread-2;|Received BURS Validation Response={\"PaymentVerification\":{\"PAYMENTDETAILS\":{\"paymentRef\":\"B00011972226-WHT108\",\"Verified\":\"true\"}}}|#]\n",
      "\n",
      "[#|2023-04-05T10:55:30.937+0200|INFO|glassfish3.1.2|com.montran.rtgs.bw.tp.validator.impl.BURSOnlineValidation|_ThreadID=107;_ThreadName=Thread-2;|Received BURS Validation Response={\"PaymentVerification\":{\"PAYMENTDETAILS\":{\"paymentRef\":\"B00012765977-PAYE\",\"Verified\":\"true\"}}}|#]\n",
      "\n",
      "[#|2023-04-05T10:55:30.973+0200|INFO|glassfish3.1.2|com.montran.rtgs.bw.tp.validator.impl.BURSOnlineValidation|_ThreadID=107;_ThreadName=Thread-2;|Received BURS Validation Response={\"PaymentVerification\":{\"PAYMENTDETAILS\":{\"paymentRef\":\"B00012765977-PAYE\",\"Verified\":\"true\"}}}|#]\n",
      "\n",
      "[#|2023-04-05T10:55:31.012+0200|INFO|glassfish3.1.2|com.montran.rtgs.bw.tp.validator.impl.BURSOnlineValidation|_ThreadID=107;_ThreadName=Thread-2;|Received BURS Validation Response={\"PaymentVerification\":{\"PAYMENTDETAILS\":{\"paymentRef\":\"B00012765977-PAYE\",\"Verified\":\"true\"}}}|#]\n",
      "\n",
      "[#|2023-04-05T10:55:31.049+0200|INFO|glassfish3.1.2|com.montran.rtgs.bw.tp.validator.impl.BURSOnlineValidation|_ThreadID=107;_ThreadName=Thread-2;|Received BURS Validation Response={\"PaymentVerification\":{\"PAYMENTDETAILS\":{\"paymentRef\":\"B00012765977-PAYE\",\"Verified\":\"true\"}}}|#]\n",
      "\n",
      "[#|2023-04-05T10:55:31.090+0200|INFO|glassfish3.1.2|com.montran.rtgs.bw.tp.validator.impl.BURSOnlineValidation|_ThreadID=107;_ThreadName=Thread-2;|Received BURS Validation Response={\"PaymentVerification\":{\"PAYMENTDETAILS\":{\"paymentRef\":\"B00004761634-WHT108\",\"Verified\":\"true\"}}}|#]\n",
      "\n",
      "[#|2023-04-05T10:55:31.133+0200|INFO|glassfish3.1.2|com.montran.rtgs.bw.tp.validator.impl.BURSOnlineValidation|_ThreadID=107;_ThreadName=Thread-2;|Received BURS Validation Response={\"PaymentVerification\":{\"PAYMENTDETAILS\":{\"paymentRef\":\"B00033306406-WHT108\",\"Verified\":\"true\"}}}|#]\n",
      "\n",
      "[#|2023-04-05T10:55:31.165+0200|INFO|glassfish3.1.2|com.montran.rtgs.bw.tp.validator.impl.BURSOnlineValidation|_ThreadID=107;_ThreadName=Thread-2;|Received BURS Validation Response={\"PaymentVerification\":{\"PAYMENTDETAILS\":{\"paymentRef\":\"B00012765977-PAYE\",\"Verified\":\"true\"}}}|#]\n",
      "\n",
      "[#|2023-04-05T10:55:31.200+0200|INFO|glassfish3.1.2|com.montran.rtgs.bw.tp.validator.impl.BURSOnlineValidation|_ThreadID=107;_ThreadName=Thread-2;|Received BURS Validation Response={\"PaymentVerification\":{\"PAYMENTDETAILS\":{\"paymentRef\":\"B00012765977-PAYE\",\"Verified\":\"true\"}}}|#]\n",
      "\n",
      "[#|2023-04-05T10:55:31.239+0200|INFO|glassfish3.1.2|com.montran.rtgs.bw.tp.validator.impl.BURSOnlineValidation|_ThreadID=107;_ThreadName=Thread-2;|Received BURS Validation Response={\"PaymentVerification\":{\"PAYMENTDETAILS\":{\"paymentRef\":\"B00012765977-PAYE\",\"Verified\":\"true\"}}}|#]\n",
      "\n",
      "[#|2023-04-05T10:55:31.281+0200|INFO|glassfish3.1.2|com.montran.rtgs.bw.tp.validator.impl.BURSOnlineValidation|_ThreadID=107;_ThreadName=Thread-2;|Received BURS Validation Response={\"PaymentVerification\":{\"PAYMENTDETAILS\":{\"paymentRef\":\"B00007908217-WHT108\",\"Verified\":\"true\"}}}|#]\n",
      "\n",
      "[#|2023-04-05T10:55:31.325+0200|INFO|glassfish3.1.2|com.montran.rtgs.bw.tp.validator.impl.BURSOnlineValidation|_ThreadID=107;_ThreadName=Thread-2;|Received BURS Validation Response={\"PaymentVerification\":{\"PAYMENTDETAILS\":{\"paymentRef\":\"B00007908217-WHT108\",\"Verified\":\"true\"}}}|#]\n",
      "\n",
      "[#|2023-04-05T10:55:31.365+0200|INFO|glassfish3.1.2|com.montran.rtgs.bw.tp.validator.impl.BURSOnlineValidation|_ThreadID=107;_ThreadName=Thread-2;|Received BURS Validation Response={\"PaymentVerification\":{\"PAYMENTDETAILS\":{\"paymentRef\":\"B00007908217-WHT108\",\"Verified\":\"true\"}}}|#]\n",
      "\n",
      "[#|2023-04-05T10:55:31.402+0200|INFO|glassfish3.1.2|com.montran.rtgs.bw.tp.validator.impl.BURSOnlineValidation|_ThreadID=107;_ThreadName=Thread-2;|Received BURS Validation Response={\"PaymentVerification\":{\"PAYMENTDETAILS\":{\"paymentRef\":\"B00007908217-WHT108\",\"Verified\":\"true\"}}}|#]\n",
      "\n",
      "[#|2023-04-05T10:55:31.438+0200|INFO|glassfish3.1.2|com.montran.rtgs.bw.tp.validator.impl.BURSOnlineValidation|_ThreadID=107;_ThreadName=Thread-2;|Received BURS Validation Response={\"PaymentVerification\":{\"PAYMENTDETAILS\":{\"paymentRef\":\"B00012765977-PAYE\",\"Verified\":\"true\"}}}|#]\n",
      "\n",
      "[#|2023-04-05T10:55:31.478+0200|INFO|glassfish3.1.2|com.montran.rtgs.bw.tp.validator.impl.BURSOnlineValidation|_ThreadID=107;_ThreadName=Thread-2;|Received BURS Validation Response={\"PaymentVerification\":{\"PAYMENTDETAILS\":{\"paymentRef\":\"B00012765977-PAYE\",\"Verified\":\"true\"}}}|#]\n",
      "\n",
      "[#|2023-04-05T10:55:31.522+0200|INFO|glassfish3.1.2|com.montran.rtgs.bw.tp.validator.impl.BURSOnlineValidation|_ThreadID=107;_ThreadName=Thread-2;|Received BURS Validation Response={\"PaymentVerification\":{\"PAYMENTDETAILS\":{\"paymentRef\":\"B00005474390-PAYE\",\"Verified\":\"true\"}}}|#]\n",
      "\n",
      "[#|2023-04-05T10:55:31.562+0200|INFO|glassfish3.1.2|com.montran.rtgs.bw.tp.validator.impl.BURSOnlineValidation|_ThreadID=107;_ThreadName=Thread-2;|Received BURS Validation Response={\"PaymentVerification\":{\"PAYMENTDETAILS\":{\"paymentRef\":\"B00012765977-PAYE\",\"Verified\":\"true\"}}}|#]\n",
      "\n",
      "[#|2023-04-05T10:55:31.599+0200|INFO|glassfish3.1.2|com.montran.rtgs.bw.tp.validator.impl.BURSOnlineValidation|_ThreadID=107;_ThreadName=Thread-2;|Received BURS Validation Response={\"PaymentVerification\":{\"PAYMENTDETAILS\":{\"paymentRef\":\"B00012765977-PAYE\",\"Verified\":\"true\"}}}|#]\n",
      "\n",
      "[#|2023-04-05T10:55:31.639+0200|INFO|glassfish3.1.2|com.montran.rtgs.bw.tp.validator.impl.BURSOnlineValidation|_ThreadID=107;_ThreadName=Thread-2;|Received BURS Validation Response={\"PaymentVerification\":{\"PAYMENTDETAILS\":{\"paymentRef\":\"B00012765977-PAYE\",\"Verified\":\"true\"}}}|#]\n",
      "\n",
      "[#|2023-04-05T10:55:31.676+0200|INFO|glassfish3.1.2|com.montran.rtgs.bw.tp.validator.impl.BURSOnlineValidation|_ThreadID=107;_ThreadName=Thread-2;|Received BURS Validation Response={\"PaymentVerification\":{\"PAYMENTDETAILS\":{\"paymentRef\":\"B00012765977-PAYE\",\"Verified\":\"true\"}}}|#]\n",
      "\n",
      "[#|2023-04-05T10:55:31.715+0200|INFO|glassfish3.1.2|com.montran.rtgs.bw.tp.validator.impl.BURSOnlineValidation|_ThreadID=107;_ThreadName=Thread-2;|Received BURS Validation Response={\"PaymentVerification\":{\"PAYMENTDETAILS\":{\"paymentRef\":\"B00012765977-PAYE\",\"Verified\":\"true\"}}}|#]\n",
      "\n",
      "[#|2023-04-05T10:55:31.748+0200|INFO|glassfish3.1.2|com.montran.rtgs.bw.tp.validator.impl.BURSOnlineValidation|_ThreadID=107;_ThreadName=Thread-2;|Received BURS Validation Response={\"PaymentVerification\":{\"PAYMENTDETAILS\":{\"paymentRef\":\"B00012765977-PAYE\",\"Verified\":\"true\"}}}|#]\n",
      "\n",
      "[#|2023-04-05T10:55:31.790+0200|INFO|glassfish3.1.2|com.montran.rtgs.bw.tp.validator.impl.BURSOnlineValidation|_ThreadID=107;_ThreadName=Thread-2;|Received BURS Validation Response={\"PaymentVerification\":{\"PAYMENTDETAILS\":{\"paymentRef\":\"B00015114929-PAYE\",\"Verified\":\"true\"}}}|#]\n",
      "\n",
      "[#|2023-04-05T10:55:31.829+0200|INFO|glassfish3.1.2|com.montran.rtgs.bw.tp.validator.impl.BURSOnlineValidation|_ThreadID=107;_ThreadName=Thread-2;|Received BURS Validation Response={\"PaymentVerification\":{\"PAYMENTDETAILS\":{\"paymentRef\":\"B00033306406-PAYE\",\"Verified\":\"true\"}}}|#]\n",
      "\n",
      "[#|2023-04-05T10:55:31.867+0200|INFO|glassfish3.1.2|com.montran.rtgs.bw.tp.validator.impl.BURSOnlineValidation|_ThreadID=107;_ThreadName=Thread-2;|Received BURS Validation Response={\"PaymentVerification\":{\"PAYMENTDETAILS\":{\"paymentRef\":\"B00012765977-PAYE\",\"Verified\":\"true\"}}}|#]\n",
      "\n",
      "[#|2023-04-05T10:55:31.911+0200|INFO|glassfish3.1.2|com.montran.rtgs.bw.tp.validator.impl.BURSOnlineValidation|_ThreadID=107;_ThreadName=Thread-2;|Received BURS Validation Response={\"PaymentVerification\":{\"PAYMENTDETAILS\":{\"paymentRef\":\"B00033306406-WHT108\",\"Verified\":\"true\"}}}|#]\n",
      "\n",
      "[#|2023-04-05T10:55:31.944+0200|INFO|glassfish3.1.2|com.montran.rtgs.bw.tp.validator.impl.BURSOnlineValidation|_ThreadID=107;_ThreadName=Thread-2;|Received BURS Validation Response={\"PaymentVerification\":{\"PAYMENTDETAILS\":{\"paymentRef\":\"B00024053867-PAYE\",\"Verified\":\"true\"}}}|#]\n",
      "\n",
      "[#|2023-04-05T10:55:31.979+0200|INFO|glassfish3.1.2|com.montran.rtgs.bw.tp.validator.impl.BURSOnlineValidation|_ThreadID=107;_ThreadName=Thread-2;|Received BURS Validation Response={\"PaymentVerification\":{\"PAYMENTDETAILS\":{\"paymentRef\":\"B00012765977-PAYE\",\"Verified\":\"true\"}}}|#]\n",
      "\n",
      "[#|2023-04-05T10:55:32.020+0200|INFO|glassfish3.1.2|com.montran.rtgs.bw.tp.validator.impl.BURSOnlineValidation|_ThreadID=107;_ThreadName=Thread-2;|Received BURS Validation Response={\"PaymentVerification\":{\"PAYMENTDETAILS\":{\"paymentRef\":\"B00033306406-WHT108\",\"Verified\":\"true\"}}}|#]\n",
      "\n",
      "[#|2023-04-05T10:55:32.065+0200|INFO|glassfish3.1.2|com.montran.rtgs.bw.tp.validator.impl.BURSOnlineValidation|_ThreadID=107;_ThreadName=Thread-2;|Received BURS Validation Response={\"PaymentVerification\":{\"PAYMENTDETAILS\":{\"paymentRef\":\"B00013151261-PAYE\",\"Verified\":\"true\"}}}|#]\n",
      "\n",
      "[#|2023-04-05T10:55:32.110+0200|INFO|glassfish3.1.2|com.montran.rtgs.bw.tp.validator.impl.BURSOnlineValidation|_ThreadID=107;_ThreadName=Thread-2;|Received BURS Validation Response={\"PaymentVerification\":{\"PAYMENTDETAILS\":{\"paymentRef\":\"B00012765977-PAYE\",\"Verified\":\"true\"}}}|#]\n",
      "\n",
      "[#|2023-04-05T10:55:32.155+0200|INFO|glassfish3.1.2|com.montran.rtgs.bw.tp.validator.impl.BURSOnlineValidation|_ThreadID=107;_ThreadName=Thread-2;|Received BURS Validation Response={\"PaymentVerification\":{\"PAYMENTDETAILS\":{\"paymentRef\":\"B00045518609-WHT108\",\"Verified\":\"true\"}}}|#]\n",
      "\n",
      "[#|2023-04-05T10:55:32.196+0200|INFO|glassfish3.1.2|com.montran.rtgs.bw.tp.validator.impl.BURSOnlineValidation|_ThreadID=107;_ThreadName=Thread-2;|Received BURS Validation Response={\"PaymentVerification\":{\"PAYMENTDETAILS\":{\"paymentRef\":\"B81794035949-PAYE\",\"Verified\":\"true\"}}}|#]\n",
      "\n",
      "[#|2023-04-05T10:55:32.238+0200|INFO|glassfish3.1.2|com.montran.rtgs.bw.tp.validator.impl.BURSOnlineValidation|_ThreadID=107;_ThreadName=Thread-2;|Received BURS Validation Response={\"PaymentVerification\":{\"PAYMENTDETAILS\":{\"paymentRef\":\"B00012765977-PAYE\",\"Verified\":\"true\"}}}|#]\n",
      "\n",
      "[#|2023-04-05T10:55:32.272+0200|INFO|glassfish3.1.2|com.montran.rtgs.bw.tp.validator.impl.BURSOnlineValidation|_ThreadID=107;_ThreadName=Thread-2;|Received BURS Validation Response={\"PaymentVerification\":{\"PAYMENTDETAILS\":{\"paymentRef\":\"B00012765977-PAYE\",\"Verified\":\"true\"}}}|#]\n",
      "\n",
      "[#|2023-04-05T10:55:32.309+0200|INFO|glassfish3.1.2|com.montran.rtgs.bw.tp.validator.impl.BURSOnlineValidation|_ThreadID=107;_ThreadName=Thread-2;|Received BURS Validation Response={\"PaymentVerification\":{\"PAYMENTDETAILS\":{\"paymentRef\":\"B00013151261-PAYE\",\"Verified\":\"true\"}}}|#]\n",
      "\n",
      "[#|2023-04-05T10:55:32.354+0200|INFO|glassfish3.1.2|com.montran.rtgs.bw.tp.validator.impl.BURSOnlineValidation|_ThreadID=107;_ThreadName=Thread-2;|Received BURS Validation Response={\"PaymentVerification\":{\"PAYMENTDETAILS\":{\"paymentRef\":\"B00033306406-WHT108\",\"Verified\":\"true\"}}}|#]\n",
      "\n",
      "[#|2023-04-05T10:55:32.406+0200|INFO|glassfish3.1.2|com.montran.rtgs.bw.tp.validator.impl.BURSOnlineValidation|_ThreadID=107;_ThreadName=Thread-2;|Received BURS Validation Response={\"PaymentVerification\":{\"PAYMENTDETAILS\":{\"paymentRef\":\"B00035909692-PAYE\",\"Verified\":\"true\"}}}|#]\n",
      "\n",
      "[#|2023-04-05T10:55:32.442+0200|INFO|glassfish3.1.2|com.montran.rtgs.bw.tp.validator.impl.BURSOnlineValidation|_ThreadID=107;_ThreadName=Thread-2;|Received BURS Validation Response={\"PaymentVerification\":{\"PAYMENTDETAILS\":{\"paymentRef\":\"B00035909692-PAYE\",\"Verified\":\"true\"}}}|#]\n",
      "\n",
      "[#|2023-04-05T10:55:32.473+0200|INFO|glassfish3.1.2|com.montran.rtgs.bw.tp.validator.impl.BURSOnlineValidation|_ThreadID=107;_ThreadName=Thread-2;|Received BURS Validation Response={\"PaymentVerification\":{\"PAYMENTDETAILS\":{\"paymentRef\":\"B00033306406-PAYE\",\"Verified\":\"true\"}}}|#]\n",
      "\n",
      "[#|2023-04-05T10:55:32.520+0200|INFO|glassfish3.1.2|com.montran.rtgs.bw.tp.validator.impl.BURSOnlineValidation|_ThreadID=107;_ThreadName=Thread-2;|Received BURS Validation Response={\"PaymentVerification\":{\"PAYMENTDETAILS\":{\"paymentRef\":\"B00035909692-PAYE\",\"Verified\":\"true\"}}}|#]\n",
      "\n",
      "[#|2023-04-05T10:55:32.554+0200|INFO|glassfish3.1.2|com.montran.rtgs.bw.tp.validator.impl.BURSOnlineValidation|_ThreadID=107;_ThreadName=Thread-2;|Received BURS Validation Response={\"PaymentVerification\":{\"PAYMENTDETAILS\":{\"paymentRef\":\"B00035909692-PAYE\",\"Verified\":\"true\"}}}|#]\n",
      "\n",
      "[#|2023-04-05T10:55:32.598+0200|INFO|glassfish3.1.2|com.montran.rtgs.bw.tp.validator.impl.BURSOnlineValidation|_ThreadID=107;_ThreadName=Thread-2;|Received BURS Validation Response={\"PaymentVerification\":{\"PAYMENTDETAILS\":{\"paymentRef\":\"B00041681289-PAYE\",\"Verified\":\"true\"}}}|#]\n",
      "\n",
      "[#|2023-04-05T10:55:32.636+0200|INFO|glassfish3.1.2|com.montran.rtgs.bw.tp.validator.impl.BURSOnlineValidation|_ThreadID=107;_ThreadName=Thread-2;|Received BURS Validation Response={\"PaymentVerification\":{\"PAYMENTDETAILS\":{\"paymentRef\":\"B00012765977-PAYE\",\"Verified\":\"true\"}}}|#]\n",
      "\n",
      "[#|2023-04-05T10:55:32.678+0200|INFO|glassfish3.1.2|com.montran.rtgs.bw.tp.validator.impl.BURSOnlineValidation|_ThreadID=107;_ThreadName=Thread-2;|Received BURS Validation Response={\"PaymentVerification\":{\"PAYMENTDETAILS\":{\"paymentRef\":\"B00011989007-PAYE\",\"Verified\":\"true\"}}}|#]\n",
      "\n",
      "[#|2023-04-05T10:55:32.721+0200|INFO|glassfish3.1.2|com.montran.rtgs.bw.tp.validator.impl.BURSOnlineValidation|_ThreadID=107;_ThreadName=Thread-2;|Received BURS Validation Response={\"PaymentVerification\":{\"PAYMENTDETAILS\":{\"paymentRef\":\"B00011972226-PAYE\",\"Verified\":\"true\"}}}|#]\n",
      "\n",
      "[#|2023-04-05T10:55:32.759+0200|INFO|glassfish3.1.2|com.montran.rtgs.bw.tp.validator.impl.BURSOnlineValidation|_ThreadID=107;_ThreadName=Thread-2;|Received BURS Validation Response={\"PaymentVerification\":{\"PAYMENTDETAILS\":{\"paymentRef\":\"B00011972226-PAYE\",\"Verified\":\"true\"}}}|#]\n",
      "\n",
      "[#|2023-04-05T10:55:32.795+0200|INFO|glassfish3.1.2|com.montran.rtgs.bw.tp.validator.impl.BURSOnlineValidation|_ThreadID=107;_ThreadName=Thread-2;|Received BURS Validation Response={\"PaymentVerification\":{\"PAYMENTDETAILS\":{\"paymentRef\":\"B00011972226-PAYE\",\"Verified\":\"true\"}}}|#]\n",
      "\n",
      "[#|2023-04-05T10:55:32.835+0200|INFO|glassfish3.1.2|com.montran.rtgs.bw.tp.validator.impl.BURSOnlineValidation|_ThreadID=107;_ThreadName=Thread-2;|Received BURS Validation Response={\"PaymentVerification\":{\"PAYMENTDETAILS\":{\"paymentRef\":\"B00032881255-WHT108\",\"Verified\":\"true\"}}}|#]\n",
      "\n",
      "[#|2023-04-05T10:55:32.881+0200|INFO|glassfish3.1.2|com.montran.rtgs.bw.tp.validator.impl.BURSOnlineValidation|_ThreadID=107;_ThreadName=Thread-2;|Received BURS Validation Response={\"PaymentVerification\":{\"PAYMENTDETAILS\":{\"paymentRef\":\"B00032881255-WHT108\",\"Verified\":\"true\"}}}|#]\n",
      "\n",
      "[#|2023-04-05T10:55:32.919+0200|INFO|glassfish3.1.2|com.montran.rtgs.bw.tp.validator.impl.BURSOnlineValidation|_ThreadID=107;_ThreadName=Thread-2;|Received BURS Validation Response={\"PaymentVerification\":{\"PAYMENTDETAILS\":{\"paymentRef\":\"B00035909692-PAYE\",\"Verified\":\"true\"}}}|#]\n",
      "\n",
      "[#|2023-04-05T10:55:32.957+0200|INFO|glassfish3.1.2|com.montran.rtgs.bw.tp.validator.impl.BURSOnlineValidation|_ThreadID=107;_ThreadName=Thread-2;|Received BURS Validation Response={\"PaymentVerification\":{\"PAYMENTDETAILS\":{\"paymentRef\":\"B00035909692-PAYE\",\"Verified\":\"true\"}}}|#]\n",
      "\n",
      "[#|2023-04-05T10:55:32.998+0200|INFO|glassfish3.1.2|com.montran.rtgs.bw.tp.validator.impl.BURSOnlineValidation|_ThreadID=107;_ThreadName=Thread-2;|Received BURS Validation Response={\"PaymentVerification\":{\"PAYMENTDETAILS\":{\"paymentRef\":\"B00012765977-PAYE\",\"Verified\":\"true\"}}}|#]\n",
      "\n",
      "[#|2023-04-05T10:55:33.038+0200|INFO|glassfish3.1.2|com.montran.rtgs.bw.tp.validator.impl.BURSOnlineValidation|_ThreadID=107;_ThreadName=Thread-2;|Received BURS Validation Response={\"PaymentVerification\":{\"PAYMENTDETAILS\":{\"paymentRef\":\"B00012765977-PAYE\",\"Verified\":\"true\"}}}|#]\n",
      "\n",
      "[#|2023-04-05T11:01:15.389+0200|INFO|glassfish3.1.2|com.montran.rtgs.bw.tp.validator.impl.BURSOnlineValidation|_ThreadID=144;_ThreadName=Thread-2;|Received BURS Validation Response={\"PaymentVerification\":{\"PAYMENTDETAILS\":{\"paymentRef\":\"PMT-INSTR-20230006948295\",\"Verified\":true},\"Status\":{\"faultcode\":\"0\",\"detail\":\"\",\"Message\":\"success\"}}}|#]\n",
      "\n",
      "[#|2023-04-05T12:23:50.078+0200|INFO|glassfish3.1.2|com.montran.rtgs.bw.tp.validator.impl.BURSOnlineValidation|_ThreadID=70;_ThreadName=Thread-2;|Received BURS Validation Response={\"PaymentVerification\":{\"PAYMENTDETAILS\":{\"paymentRef\":\"I606720311-TRD\",\"Verified\":\"false\"},\"Status\":{\"faultcode\":\"4001\",\"Message\":\"Payment reference number does not exist\",\"detail\":\"Payment reference number does not exist\"}}}|#]\n",
      "\n",
      "[#|2023-04-05T12:51:31.491+0200|INFO|glassfish3.1.2|com.montran.rtgs.bw.tp.validator.impl.BURSOnlineValidation|_ThreadID=225;_ThreadName=Thread-2;|Received BURS Validation Response={\"PaymentVerification\":{\"PAYMENTDETAILS\":{\"paymentRef\":\"T00007150065-PAYE\",\"Verified\":\"true\"}}}|#]\n",
      "\n",
      "[#|2023-04-05T13:02:37.325+0200|INFO|glassfish3.1.2|com.montran.rtgs.bw.tp.validator.impl.BURSOnlineValidation|_ThreadID=70;_ThreadName=Thread-2;|Received BURS Validation Response={\"PaymentVerification\":{\"PAYMENTDETAILS\":{\"paymentRef\":\"BW00000955594-SAT\",\"Verified\":\"false\"},\"Status\":{\"faultcode\":\"4001\",\"Message\":\"Payment reference number does not exist\",\"detail\":\"Payment reference number does not exist\"}}}|#]\n",
      "\n"
     ]
    }
   ],
   "source": [
    "print_responses()"
   ],
   "metadata": {
    "collapsed": false
   }
  },
  {
   "cell_type": "code",
   "execution_count": 14,
   "outputs": [],
   "source": [
    "def print_offline():\n",
    "    print(*offline, sep='\\n')"
   ],
   "metadata": {
    "collapsed": false
   }
  },
  {
   "cell_type": "code",
   "execution_count": 15,
   "outputs": [
    {
     "name": "stdout",
     "output_type": "stream",
     "text": [
      "[#|2023-04-05T06:45:14.672+0200|INFO|glassfish3.1.2|com.montran.rtgs.bw.BwSpecialFieldsUtil|_ThreadID=225;_ThreadName=Thread-2;|Using offline BURS validation. Burs reference = 'BW00000953980-WHT107'|#]\n",
      "\n",
      "[#|2023-04-05T07:47:41.577+0200|INFO|glassfish3.1.2|com.montran.rtgs.bw.BwSpecialFieldsUtil|_ThreadID=144;_ThreadName=Thread-2;|Using offline BURS validation. Burs reference = 'PMT-INSTR-20230006948121'|#]\n",
      "\n",
      "[#|2023-04-05T09:03:58.231+0200|INFO|glassfish3.1.2|com.montran.rtgs.bw.BwSpecialFieldsUtil|_ThreadID=145;_ThreadName=Thread-2;|Using offline BURS validation. Burs reference = 'PMT-INSTR-20230006948497'|#]\n",
      "\n",
      "[#|2023-04-05T10:55:27.497+0200|INFO|glassfish3.1.2|com.montran.rtgs.bw.BwSpecialFieldsUtil|_ThreadID=107;_ThreadName=Thread-2;|Using offline BURS validation. Burs reference = 'B00004192244-PAYE'|#]\n",
      "\n",
      "[#|2023-04-05T10:55:30.166+0200|INFO|glassfish3.1.2|com.montran.rtgs.bw.BwSpecialFieldsUtil|_ThreadID=107;_ThreadName=Thread-2;|Using offline BURS validation. Burs reference = 'CMS2101B08103901112'|#]\n",
      "\n",
      "[#|2023-04-05T12:23:45.847+0200|INFO|glassfish3.1.2|com.montran.rtgs.bw.BwSpecialFieldsUtil|_ThreadID=225;_ThreadName=Thread-2;|Using offline BURS validation. Burs reference = 'BW00000543656-CIT'|#]\n",
      "\n",
      "[#|2023-04-05T12:57:35.693+0200|INFO|glassfish3.1.2|com.montran.rtgs.bw.BwSpecialFieldsUtil|_ThreadID=225;_ThreadName=Thread-2;|Using offline BURS validation. Burs reference = 'PMT-INSTR-20230006948316'|#]\n",
      "\n",
      "[#|2023-04-05T14:01:35.626+0200|INFO|glassfish3.1.2|com.montran.rtgs.bw.BwSpecialFieldsUtil|_ThreadID=145;_ThreadName=Thread-2;|Using offline BURS validation. Burs reference = 'BW00000976096-PAYE'|#]\n",
      "\n",
      "[#|2023-04-05T14:29:09.747+0200|INFO|glassfish3.1.2|com.montran.rtgs.bw.BwSpecialFieldsUtil|_ThreadID=225;_ThreadName=Thread-2;|Using offline BURS validation. Burs reference = 'PMT-INSTR-20230006856694'|#]\n",
      "\n",
      "[#|2023-04-05T15:17:41.428+0200|INFO|glassfish3.1.2|com.montran.rtgs.bw.BwSpecialFieldsUtil|_ThreadID=226;_ThreadName=Thread-2;|Using offline BURS validation. Burs reference = 'PMT-INSTR-20230006948579'|#]\n",
      "\n"
     ]
    }
   ],
   "source": [
    "print_offline()"
   ],
   "metadata": {
    "collapsed": false
   }
  },
  {
   "cell_type": "code",
   "execution_count": 16,
   "outputs": [],
   "source": [
    "def get_amounts(requests):\n",
    "    amounts = []\n",
    "    for i in requests:\n",
    "        amounts.append(i[i.find('amount\":')+8: -7])\n",
    "\n",
    "    return amounts"
   ],
   "metadata": {
    "collapsed": false
   }
  },
  {
   "cell_type": "markdown",
   "source": [],
   "metadata": {
    "collapsed": false
   }
  },
  {
   "cell_type": "code",
   "execution_count": 17,
   "outputs": [
    {
     "data": {
      "text/plain": "['44030.8',\n '124185',\n '21466.05',\n '124778.4',\n '30023.05',\n '16799.65',\n '7500',\n '2593.28',\n '147.4',\n '149.55',\n '545.63',\n '138.2',\n '138.2',\n '94.75',\n '821.25',\n '120.1',\n '7.25',\n '3096.7',\n '110.8',\n '54242.45',\n '55467.1',\n '54242.45',\n '6326.75',\n '55705.25',\n '7825.05',\n '7074.25',\n '2844.6',\n '2314.2',\n '2574.95',\n '374203.57',\n '851.4',\n '2805.95',\n '1534.5',\n '3754.05',\n '20315.29',\n '7289.9',\n '4358.7',\n '2670.3',\n '554',\n '25492.21',\n '24964.2',\n '100000',\n '931740.44',\n '1876.4',\n '2103.3',\n '6063',\n '2911.1',\n '818.3',\n '963.7',\n '44.65',\n '1082.05',\n '158.75',\n '234.65',\n '55.9',\n '1064.25',\n '43185.12',\n '9764.25',\n '638.55',\n '45269.22',\n '235.2',\n '200.7',\n '34974.45',\n '62.5',\n '50.7',\n '687.75',\n '117',\n '9299.77',\n '163.13',\n '163.13',\n '2117.69',\n '163.13',\n '163.13',\n '26.85',\n '4131.55',\n '287.5',\n '2204.55',\n '2204.55',\n '2272.65',\n '202.55',\n '206.05',\n '163.13',\n '163.13',\n '5358.65',\n '687.8',\n '139968.7',\n '40000',\n '40000',\n '80425.97',\n '21792.1',\n '3344687',\n '2751.48',\n '5112',\n '108.45']"
     },
     "execution_count": 17,
     "metadata": {},
     "output_type": "execute_result"
    }
   ],
   "source": [
    "get_amounts(requests)"
   ],
   "metadata": {
    "collapsed": false
   }
  },
  {
   "cell_type": "code",
   "execution_count": 18,
   "outputs": [],
   "source": [
    "def get_references():\n",
    "    list = []\n",
    "    for i in responses:\n",
    "        response_refs = i[i.find('paymentRef\":'): i.find(',')]\n",
    "        response_refs = response_refs[response_refs.find(':')+2: -1]\n",
    "        list.append(response_refs)\n",
    "\n",
    "    for i in offline:\n",
    "        offline_refs = i[i.find('reference = '):]\n",
    "        offline_refs = offline_refs[offline_refs.find('=')+3: -5]\n",
    "        list.append(offline_refs)\n",
    "    return list"
   ],
   "metadata": {
    "collapsed": false
   }
  },
  {
   "cell_type": "code",
   "execution_count": 28,
   "outputs": [],
   "source": [
    "def get_data():\n",
    "    list = []\n",
    "    j=0\n",
    "    for i in responses:\n",
    "        response_refs = i[i.find('paymentRef\":'): i.find(',')]\n",
    "        response_refs = response_refs[response_refs.find(':')+2: -1]\n",
    "        list.append({'Time': pd.to_datetime(i[3:31]),'Reference': res_ogrefs[j], 'BURS Ref': response_refs, 'Type':res_mts[j], 'Amount': res_amounts[j], 'Validation':'Online'})\n",
    "        j=j+1\n",
    "\n",
    "    j=0\n",
    "    for i in offline:\n",
    "        offline_refs = i[i.find('reference = '):]\n",
    "        offline_refs = offline_refs[offline_refs.find('=')+3: -5]\n",
    "        list.append({'Time': pd.to_datetime(i[3:31]), 'Reference': off_ogrefs[j], 'BURS Ref': offline_refs, 'Type': off_mts[j], 'Amount': off_amounts[j],'Validation':'Offline'})\n",
    "        j=j+1\n",
    "        #print(pd.to_datetime(i[3:31]))\n",
    "    df = pd.DataFrame(list, index=range(count+badcount)).sort_values(by='Time').reset_index().drop(columns=['index'])\n",
    "    return df"
   ],
   "metadata": {
    "collapsed": false
   }
  },
  {
   "cell_type": "code",
   "execution_count": 29,
   "outputs": [
    {
     "data": {
      "text/plain": "                               Time         Reference  \\\n0  2023-04-05 06:45:14.672000+02:00      000004738975   \n1  2023-04-05 07:47:41.577000+02:00  FNB0559844301666   \n2  2023-04-05 07:47:43.177000+02:00  FNB0559863801604   \n3  2023-04-05 07:47:44.145000+02:00  FNB0559864301604   \n4  2023-04-05 09:03:58.231000+02:00  FNB0559459601666   \n..                              ...               ...   \n88 2023-04-05 12:57:35.693000+02:00  FNB0559967501604   \n89 2023-04-05 13:02:37.325000+02:00  FNB0560038201604   \n90 2023-04-05 14:01:35.626000+02:00  FNB0560075901604   \n91 2023-04-05 14:29:09.747000+02:00  FNB0559970501604   \n92 2023-04-05 15:17:41.428000+02:00  FT23040000797656   \n\n                    BURS Ref   Type    Amount Validation  \n0       BW00000953980-WHT107  mt096   44030.8    Offline  \n1   PMT-INSTR-20230006948121  mt096    124185    Offline  \n2   PMT-INSTR-20230006948429  mt096  21466.05     Online  \n3   PMT-INSTR-20230006948973  mt096  124778.4     Online  \n4   PMT-INSTR-20230006948497  mt096  30023.05    Offline  \n..                       ...    ...       ...        ...  \n88  PMT-INSTR-20230006948316  mt096   21792.1    Offline  \n89         BW00000955594-SAT  mt096   3344687     Online  \n90        BW00000976096-PAYE  mt096   2751.48    Offline  \n91  PMT-INSTR-20230006856694  mt096      5112    Offline  \n92  PMT-INSTR-20230006948579  mt096    108.45    Offline  \n\n[93 rows x 6 columns]",
      "text/html": "<div>\n<style scoped>\n    .dataframe tbody tr th:only-of-type {\n        vertical-align: middle;\n    }\n\n    .dataframe tbody tr th {\n        vertical-align: top;\n    }\n\n    .dataframe thead th {\n        text-align: right;\n    }\n</style>\n<table border=\"1\" class=\"dataframe\">\n  <thead>\n    <tr style=\"text-align: right;\">\n      <th></th>\n      <th>Time</th>\n      <th>Reference</th>\n      <th>BURS Ref</th>\n      <th>Type</th>\n      <th>Amount</th>\n      <th>Validation</th>\n    </tr>\n  </thead>\n  <tbody>\n    <tr>\n      <th>0</th>\n      <td>2023-04-05 06:45:14.672000+02:00</td>\n      <td>000004738975</td>\n      <td>BW00000953980-WHT107</td>\n      <td>mt096</td>\n      <td>44030.8</td>\n      <td>Offline</td>\n    </tr>\n    <tr>\n      <th>1</th>\n      <td>2023-04-05 07:47:41.577000+02:00</td>\n      <td>FNB0559844301666</td>\n      <td>PMT-INSTR-20230006948121</td>\n      <td>mt096</td>\n      <td>124185</td>\n      <td>Offline</td>\n    </tr>\n    <tr>\n      <th>2</th>\n      <td>2023-04-05 07:47:43.177000+02:00</td>\n      <td>FNB0559863801604</td>\n      <td>PMT-INSTR-20230006948429</td>\n      <td>mt096</td>\n      <td>21466.05</td>\n      <td>Online</td>\n    </tr>\n    <tr>\n      <th>3</th>\n      <td>2023-04-05 07:47:44.145000+02:00</td>\n      <td>FNB0559864301604</td>\n      <td>PMT-INSTR-20230006948973</td>\n      <td>mt096</td>\n      <td>124778.4</td>\n      <td>Online</td>\n    </tr>\n    <tr>\n      <th>4</th>\n      <td>2023-04-05 09:03:58.231000+02:00</td>\n      <td>FNB0559459601666</td>\n      <td>PMT-INSTR-20230006948497</td>\n      <td>mt096</td>\n      <td>30023.05</td>\n      <td>Offline</td>\n    </tr>\n    <tr>\n      <th>...</th>\n      <td>...</td>\n      <td>...</td>\n      <td>...</td>\n      <td>...</td>\n      <td>...</td>\n      <td>...</td>\n    </tr>\n    <tr>\n      <th>88</th>\n      <td>2023-04-05 12:57:35.693000+02:00</td>\n      <td>FNB0559967501604</td>\n      <td>PMT-INSTR-20230006948316</td>\n      <td>mt096</td>\n      <td>21792.1</td>\n      <td>Offline</td>\n    </tr>\n    <tr>\n      <th>89</th>\n      <td>2023-04-05 13:02:37.325000+02:00</td>\n      <td>FNB0560038201604</td>\n      <td>BW00000955594-SAT</td>\n      <td>mt096</td>\n      <td>3344687</td>\n      <td>Online</td>\n    </tr>\n    <tr>\n      <th>90</th>\n      <td>2023-04-05 14:01:35.626000+02:00</td>\n      <td>FNB0560075901604</td>\n      <td>BW00000976096-PAYE</td>\n      <td>mt096</td>\n      <td>2751.48</td>\n      <td>Offline</td>\n    </tr>\n    <tr>\n      <th>91</th>\n      <td>2023-04-05 14:29:09.747000+02:00</td>\n      <td>FNB0559970501604</td>\n      <td>PMT-INSTR-20230006856694</td>\n      <td>mt096</td>\n      <td>5112</td>\n      <td>Offline</td>\n    </tr>\n    <tr>\n      <th>92</th>\n      <td>2023-04-05 15:17:41.428000+02:00</td>\n      <td>FT23040000797656</td>\n      <td>PMT-INSTR-20230006948579</td>\n      <td>mt096</td>\n      <td>108.45</td>\n      <td>Offline</td>\n    </tr>\n  </tbody>\n</table>\n<p>93 rows × 6 columns</p>\n</div>"
     },
     "execution_count": 29,
     "metadata": {},
     "output_type": "execute_result"
    }
   ],
   "source": [
    "get_data()"
   ],
   "metadata": {
    "collapsed": false
   }
  },
  {
   "cell_type": "code",
   "execution_count": 30,
   "outputs": [],
   "source": [
    "get_data().to_csv('../transactions.csv')"
   ],
   "metadata": {
    "collapsed": false
   }
  },
  {
   "cell_type": "code",
   "execution_count": null,
   "outputs": [],
   "source": [],
   "metadata": {
    "collapsed": false
   }
  }
 ],
 "metadata": {
  "kernelspec": {
   "display_name": "Python 3",
   "language": "python",
   "name": "python3"
  },
  "language_info": {
   "codemirror_mode": {
    "name": "ipython",
    "version": 2
   },
   "file_extension": ".py",
   "mimetype": "text/x-python",
   "name": "python",
   "nbconvert_exporter": "python",
   "pygments_lexer": "ipython2",
   "version": "2.7.6"
  }
 },
 "nbformat": 4,
 "nbformat_minor": 0
}
